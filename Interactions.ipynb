{
  "cells": [
    {
      "cell_type": "markdown",
      "metadata": {
        "id": "view-in-github",
        "colab_type": "text"
      },
      "source": [
        "<a href=\"https://colab.research.google.com/github/jaympatel481/RepLine-16-Analysis/blob/main/Interactions.ipynb\" target=\"_parent\"><img src=\"https://colab.research.google.com/assets/colab-badge.svg\" alt=\"Open In Colab\"/></a>"
      ]
    },
    {
      "cell_type": "code",
      "execution_count": 1,
      "metadata": {
        "id": "47KS4VNrnIOr"
      },
      "outputs": [],
      "source": [
        "import pandas as pd\n",
        "import numpy as np\n",
        "import networkx as nx\n",
        "import plotly.graph_objects as go\n",
        "from IPython.display import Image, display\n",
        "import plotly.express as px\n",
        "from scipy import stats\n",
        "import statsmodels.api as sm\n",
        "import random"
      ]
    },
    {
      "cell_type": "code",
      "source": [
        "float(str(silac[silac['Protein'] == 'YPR073C']['SILAC_ratio_SCSC']).split(\"\\n\")[0].split(\"    \")[1])"
      ],
      "metadata": {
        "colab": {
          "base_uri": "https://localhost:8080/"
        },
        "id": "4XKtN9iqelX-",
        "outputId": "5231146e-4739-4c22-de79-f7778008e056"
      },
      "execution_count": 13,
      "outputs": [
        {
          "output_type": "execute_result",
          "data": {
            "text/plain": [
              "1.073419"
            ]
          },
          "metadata": {},
          "execution_count": 13
        }
      ]
    },
    {
      "cell_type": "code",
      "source": [
        "silac = pd.read_csv('/content/SILAC - Worksheet.csv')\n",
        "cnvs = pd.read_csv(\"/content/16h_1_CNV_gene.txt\", sep=\"\\t\", header=None)\n",
        "cnv_subunits = pd.read_csv('/content/All Subunits.csv')\n",
        "non_cnv_subunits = pd.read_csv('/content/NonCNVSubunits.csv')\n",
        "non_cnv_subunits.rename(columns={'Non-CNV':'Sysname'}, inplace=True)\n",
        "frames = [cnv_subunits, non_cnv_subunits]\n",
        "list_of_all_subunits = pd.concat(frames)\n",
        "list_of_all_subunits.reset_index(inplace=True, drop=True)\n",
        "cp_num=[]\n",
        "silac_ratio_SC16=[]\n",
        "silac_ratio_SCSC=[]\n",
        "for i in list_of_all_subunits['Sysname']:\n",
        "  if i in list(cnvs[9]):\n",
        "    # cp_num.append(int(str(cnvs[cnvs[9] == i][4]).split(\"\\n\")[0].split(\"    \")[1]))\n",
        "    cp_num.append(1)\n",
        "  else:\n",
        "    cp_num.append(0)\n",
        "  if i in list(silac['Protein']):\n",
        "    silac_ratio_SCSC.append(float(str(silac[silac['Protein'] == i]['SILAC_ratio_SCSC']).split(\"\\n\")[0].split(\"    \")[1]))\n",
        "    silac_ratio_SC16.append(float(str(silac[silac['Protein'] == i]['SILAC_ratio_SC16L']).split(\"\\n\")[0].split(\"    \")[1]))\n",
        "  else:\n",
        "    silac_ratio_SCSC.append(0)\n",
        "    silac_ratio_SC16.append(0)\n",
        "\n",
        "list_of_all_subunits['cp_num'] = cp_num\n",
        "list_of_all_subunits['silac_ratio_SCSC'] = silac_ratio_SCSC\n",
        "list_of_all_subunits['silac_ratio_SC16L'] = silac_ratio_SC16\n",
        "list_of_all_subunits.to_csv(\"complexes_silac_with_cnv.csv\")"
      ],
      "metadata": {
        "id": "PYflcAfxpsmB"
      },
      "execution_count": 15,
      "outputs": []
    },
    {
      "cell_type": "code",
      "source": [
        "all_complexes = pd.read_csv('/content/All Complexes 2.csv')\n",
        "cnv_subunits = pd.read_csv('/content/All Subunits.csv')\n",
        "non_cnv_subunits = pd.read_csv('/content/NonCNVSubunits.csv')\n",
        "non_cnv_subunits.rename(columns={'Non-CNV':'Sysname'}, inplace=True)\n",
        "subunits_count = pd.read_csv('/content/Subunits_count.csv')\n",
        "frames = [cnv_subunits, non_cnv_subunits]\n",
        "list_of_all_subunits = pd.concat(frames)\n",
        "list_of_all_subunits.reset_index(inplace=True, drop=True)\n",
        "subunits_count = pd.read_csv('/content/Subunits_count.csv')\n",
        "\n",
        "balance_of_complexes={\n",
        "    '3_copy':['degradosome', 'GAL4p/GAL80p complex', 'Gyl1-Gyp5 complex', 'Ku70:Ku80 complex', 'mitochondrial DNA-directed RNA polymerase complex', 'Mot1p complex', 'MutLbeta complex (GO)', 'putative Pcl8-Pho85 CDK-cyclin complex','putative Ura5-Ura10 isozyme complex','Sno1p/Snz1p complex','Ula1-Uba3 enzyme complex','tubulin complex'],\n",
        "    '2_copy':[\n",
        "'adenylyl cyclase complex',\n",
        "'anthranilate synthase complex',\n",
        "'Bni4p/Glc7p complex',\n",
        "'Bud14p/Glc7p complex',\n",
        "'CAAX-protein geranylgeranyltransferase complex',\n",
        "'carbamoyl-phosphate synthase complex',\n",
        "'Cbp1p/Pet309p complex',\n",
        "'Cdc28p/Cln3p complex',\n",
        "'Cdc42p/Ste20p complex',\n",
        "'Cdc48-Shp1 complex',\n",
        "'cho2-opi3',\n",
        "'Csh1p/Csg2p complex',\n",
        "'Dcs1-Dcs2 heterodimer',\n",
        "'Def1p/Rad26p complex',\n",
        "'Dop1-Mon2 complex',\n",
        "'Dpb11p/Sld2p complex',\n",
        "'ER V-ATPase assembly complex',\n",
        "'ESCRT-0 complex',\n",
        "'Esp1p/Pds1p complex',\n",
        "'Grh1-Bug1 complex',\n",
        "'heterogeneous nuclear ribonucleoprotein complex (GO)',\n",
        "'Holliday junction resolvase complex (GO)',\n",
        "'Hop2p/Mnd1p complex',\n",
        "'hst3-hst4',\n",
        "'Ino2p/Ino4p basic helix-loop-helix heteromeric complex',\n",
        "'LMA1 complex',\n",
        "'lst4-lst7',\n",
        "'mannosyltransferase complex (GO)',\n",
        "'MBF transcription complex',\n",
        "'mitochondrial processing peptidase complex',\n",
        "'Mob1p/Dbf2p complex',\n",
        "'Mst27p/Mst28p complex',\n",
        "'Mtk1p/Pbp1p complex',\n",
        "'MutSalpha complex',\n",
        "'myosin V complex (GO)',\n",
        "'Nam1-Sls1 complex',\n",
        "'Nem1p/Spo7p complex',\n",
        "'Noc1p-Noc2p complex (GO)',\n",
        "'No-Go mRNA decay',\n",
        "'OAF complex',\n",
        "'palmitoyltransferase complex (GO)',\n",
        "'PAN complex',\n",
        "'phosphopyruvate hydratase complex (GO)',\n",
        "'preribosome (GO)',\n",
        "'prohibitin complex',\n",
        "'protein farnesyltransferase complex',\n",
        "'Protein O-mannosyltransferase(Pmt1p/Pmt2p)',\n",
        "'Protein O-mannosyltransferase(Pmt3p/Pmt5p)',\n",
        "'Prs1-Prs3 heterodimer',\n",
        "'putatie Saf1-Aah1 complex',\n",
        "'putative Ark1-Ste4 complex',\n",
        "'putative Aro3-Bcs1 complex',\n",
        "'putative Ats1-Kti11 complex',\n",
        "'putative Bat1-Bat2 complex',\n",
        "'putative Bdh1-Bdh2 complex',\n",
        "'putative Boi2-Cdc24 complex',\n",
        "'putative Bud6-Yor304c-a complex',\n",
        "'putative Cdc19-Pyk2 isozyme complex',\n",
        "'putative Cdc47-Erg26 complex',\n",
        "'putative Cin8-Zwf1 complex',\n",
        "'putative Cul3-Yil001w complex',\n",
        "'putative Cyc3-Yat1 complex',\n",
        "'putative Dhr2-Ubp10 complex',\n",
        "'putative Drn1-Dbr1 complex',\n",
        "'putative Eft1-Eft2 complex',\n",
        "'putative Ela1-Tys1 complex',\n",
        "'putative Erg7-Erg27 complex',\n",
        "'putative Fbp26-Ylr345w complex',\n",
        "'putative Flc2-Pdr5 complex',\n",
        "'putative Fmc1-Atp12 complex',\n",
        "'putative Fun19-Kap123 complex',\n",
        "'putative Gdh1-Gdh3 isozyme complex',\n",
        "'putative Gir2-Rbg2 complex',\n",
        "'putative Glt1-Ylr257w complex',\n",
        "'putative Grh1-Fmp38 complex',\n",
        "'putative Heh2-Erg24 complex',\n",
        "'putative Hsp42-Sis1 complex',\n",
        "'putative Kex2-Sil1 complex',\n",
        "'putative Leu4-Leu9 isozyme complex',\n",
        "'putative Lys20-Lys21 isozyme complex',\n",
        "'putative Map1-Ybr030w complex',\n",
        "'putative Nma2-Nma1 complex',\n",
        "'putative Nnf2-Yel043w complex',\n",
        "'putative Nqm1-Tal1 complex',\n",
        "'putative Nvj1-Tos4 complex',\n",
        "'putative Osh2-Swh1 complex',\n",
        "'putative Paa1-Ptc2 complex',\n",
        "'putative Pck1-Eno1 complex',\n",
        "'putative Pcm1-Mgs1 complex',\n",
        "'putative Pmr1-Psd1 complex',\n",
        "'putative Psy2-Rrd1 complex',\n",
        "'putative Ptc3-Paa1 complex',\n",
        "'putative Ptc4-Ydr186c complex',\n",
        "'putative Pyc1-Pyc2 isozyme complex',\n",
        "'putative Rgd1-Fyv8 complex',\n",
        "'putative Sas5-Wtm2 complex',\n",
        "'putative Ser3-Ser33 isozyme complex',\n",
        "'putative Sfp1-Mrs6 complex',\n",
        "'putative Sgn1-Ygr250c complex',\n",
        "'putative Slu7-Prp18 complex',\n",
        "'putative Slx5-Swa2 complex',\n",
        "'putative Ssl2-Yor352w complex',\n",
        "'putative Tdh1-Tdh2 isozyme complex',\n",
        "'putative Tma20-Tma22 complex',\n",
        "'putative Tom71-Ylr072w complex',\n",
        "'putative Trm3-Fas1 complex',\n",
        "'putative Trr1-Trr2 complex',\n",
        "'putative Uba1-Ydr415c complex',\n",
        "'putative Ubc4-Ufd4 complex',\n",
        "'putative Ubp13-Yol087c complex',\n",
        "'putative Uga1-Ndt80 complex',\n",
        "'putative Yae1-Ynl260c complex',\n",
        "'putative Yef1-Utr1 complex',\n",
        "'putative Ygr017w-Vip1 complex',\n",
        "'putative Ygr283c-Idp3 complex',\n",
        "'putative Yhb1-Aco1 complex',\n",
        "'putative Yhr131c-Rsp5 complex',\n",
        "'putative Yjr136c-Ykl033w complex',\n",
        "'putative Yor251c-Rev1 complex',\n",
        "'Q-biosynthetic Coq polypeptide complex',\n",
        "'rtt109-asf1',\n",
        "'Rtt109-Vps75 complex',\n",
        "'SBF transcription complex',\n",
        "'Scs2-Opi1 complex',\n",
        "'Sds22p/Glc7p complex',\n",
        "'Shq1p/Naf1p complex',\n",
        "'signal recognition particle receptor complex',\n",
        "'Sit4-Sap190 complex',\n",
        "'Sli15p/Bir1p complex',\n",
        "'Slx1-Slx4 complex (GO)',\n",
        "'succinyl-CoA ligase',\n",
        "'Swh1p/Nvj1p complex',\n",
        "'synaptonemal complex (GO)',\n",
        "'transcription factor TFIIA complex',\n",
        "'transcription factor TFIIE complex',\n",
        "'translation release factor complex',\n",
        "'Trm112-Trm11 complex',\n",
        "'tRNA (m1A) methyltransferase complex',\n",
        "'tRNA methyltransferase complex',\n",
        "'UDP-N-acetylglucosamine transferase complex (GO)',\n",
        "'Ume6p/Ime1p complex',\n",
        "'Vac14-Fig4 complex',\n",
        "'Vam3p/Vam7 vacuolar tSNARE complex',\n",
        "'Vps55/Vps68 complex',\n",
        "'actin cytoskeleton-regulatory complex, Pan1p/Sla1p/End3p complex',\n",
        "'Atg20p/Snx4p/Snx41p complex',\n",
        "'Cbf1p/Met4p/Met28p complex',\n",
        "'Cdc48-Ufd1-Npl4 complex',\n",
        "'chromatin assembly complex (GO)',\n",
        "'delta DNA polymerase complex',\n",
        "'DNA ligase IV complex (GO)',\n",
        "'Dph1-Dph2-Dph3 complex',\n",
        "'elm1-hsl1-hsl7',\n",
        "'GET complex',\n",
        "'Gsp1-Prp20 complex',\n",
        "'heterotrimeric G-protein complex (GO)',\n",
        "'Hym1p/Kic1p/Sog2p complex',\n",
        "'Kel1p/Kel2p/Lte1p complex',\n",
        "'luminal surveillance complex',\n",
        "'Mdm10/Mdm12/Mmm1 complex (GO)',\n",
        "'meiotic recombination initiation complex',\n",
        "'methionyl glutamyl tRNA synthetase complex',\n",
        "'Mgm1p/Ugo1p/Fzo1p complex',\n",
        "'mRNA cap complex (GO)',\n",
        "'NatA complex',\n",
        "'Ntr1p/Ntr2p/Prp43p complex',\n",
        "'nucleotide-excision repair factor 2 complex',\n",
        "'Pba1-Pba2 complex',\n",
        "'peroxin docking complex',\n",
        "'Psr2-Psr1-Whi2 complex',\n",
        "'putative Cwc2-Spp382-Ntr2 complex',\n",
        "'putative Fap1-Fpr1-Yil161w complex',\n",
        "'putative Hca4-Esf1-Esf2 complex',\n",
        "'putative Ipp1-Ack1-Rom2 complex',\n",
        "'putative Las17-Sla1-Vrp1 complex',\n",
        "'putative Lsg1-Nmd3-Rei1 complex',\n",
        "'putative Nth1-Bmh1-Bmh2 complex',\n",
        "'putative Ybr225w-Mds3-Cdc25 complex',\n",
        "'RAVE complex',\n",
        "'RES complex',\n",
        "'ribonuclease H2 complex (GO)',\n",
        "'ribonucleoprotein complex (GO)',\n",
        "'ribosome-associated complex',\n",
        "'Ric1-Rgp1-Ypt6',\n",
        "'Rix1p complex',\n",
        "'Rsp5-Ubp2-Rup1 deubiquitinating enzyme complex',\n",
        "'Rtt103-Rai1-Rat1 complex',\n",
        "'She2-She3-Myo4 complex',\n",
        "'Sis2-Ykl088w-Vhs3 complex',\n",
        "'Sum1p/Rfm1p/Hst1p complex',\n",
        "'Telomerase',\n",
        "'AP-2 adaptor complex',\n",
        "'box C/D snoRNP complex (GO)',\n",
        "'CCAAT-binding factor complex',\n",
        "'Cdc24p/Far1p/Gbetagamma protein complex',\n",
        "'chromatin accessibility complex (GO)',\n",
        "'clathrin vesicle coat',\n",
        "'Dcp1-Dcp2 decapping enzyme complex',\n",
        "'dipthamide complex',\n",
        "'DNA replication factor A complex',\n",
        "'gamma-tubulin small complex, spindle pole body',\n",
        "'GINS complex',\n",
        "'HIR complex',\n",
        "'mitochondrial inner membrane protein insertion complex (GO)',\n",
        "'mitochondrial intermembrane space protein transporter complex (GO)',\n",
        "'mitochondrial respiratory chain complex II (GO)',\n",
        "'putative Cia1-Yhr122w-Met18-Nar1 complex',\n",
        "'putative Sit4-Sap185-Rts3-Hrk1 complex',\n",
        "'putative Ssd1-Psy4-Pph3-Psy2 complex',\n",
        "'putative Ybr137w-Sgt2-Mdy2-Yor164c complex',\n",
        "'putative Yer071c-Aim21-Cap1-Cap2 complex',\n",
        "'repairosome (GO)',\n",
        "'RTG pathway',\n",
        "'STE5-MAPK complex',\n",
        "'Synaptonemal complex (SC)',\n",
        "'Tlg1 SNARE complex',\n",
        "'TRAMP complex',\n",
        "'core H-ACA snoRNP',\n",
        "'DNA replication factor C complex (Rad24p)',\n",
        "'GARP complex',\n",
        "'GPI-anchor transamidase complex',\n",
        "'Kap114-Nap1 histone complex',\n",
        "'Npa2p-containing subcomplex',\n",
        "'nucleolar preribosome, small subunit precursor (GO)',\n",
        "'putative Vab2-Ydr357c-Ykl061w-YGL079w-Ynl086w complex',\n",
        "'ribonucleoside-diphosphate reductase complex',\n",
        "'translocon complex (GO)',\n",
        "'chitin biosynth pathway',\n",
        "'Elg1 RFC-like complex',\n",
        "'eukaryotic translation initiation factor 4F complex',\n",
        "'mitotic checkpoint complex',\n",
        "'Cdc73p/Paf1p complex',\n",
        "'pre-IC',\n",
        "'presequence translocase-associated import motor',\n",
        "'protein phosphatase type 1 complex (GO)',\n",
        "'snf1 protein kinase complex',\n",
        "'Arp2/3 protein complex',\n",
        "'ER SNARE Use1',\n",
        "'nucleolar ribonuclease P complex',\n",
        "'ribonuclease MRP complex',\n",
        "],\n",
        "    'imbalanced':['high affinity iron permease complex (GO)', 'Mot1p complex', 'putative Pex5-Mmt1 complex','putative Rim1-Rad52 complex', 'putative Ypt1-Dss4 complex', 'i-AAA complex']\n",
        "}\n",
        "more_imbalanced = list(set(subunits_count[subunits_count['Non-CNV'] !=0]['ComplexName']) & set(subunits_count[subunits_count['CNV'] !=0]['ComplexName']))\n",
        "for i in more_imbalanced: balance_of_complexes['imbalanced'].append(i)"
      ],
      "metadata": {
        "id": "rlP3prrTDSa4"
      },
      "execution_count": 32,
      "outputs": []
    },
    {
      "cell_type": "code",
      "source": [
        "subunits_from_chromosomes_cp3={\n",
        "    'chr1':0,\n",
        "    'chr2':0,\n",
        "    'chr3':0,\n",
        "    'chr4':0,\n",
        "    'chr5':0,\n",
        "    'chr6':0,\n",
        "    'chr7':0,\n",
        "    'chr8':0,\n",
        "    'chr9':0,\n",
        "    'chr10':0,\n",
        "    'chr11':0,\n",
        "    'chr12':0,\n",
        "    'chr13':0,\n",
        "    'chr14':0,\n",
        "    'chr15':0,\n",
        "    'chr16':0,\n",
        "}\n",
        "for prot_complex in balance_of_complexes['3_copy']:\n",
        "  subunits = list_of_all_subunits[list_of_all_subunits['ComplexName'] == prot_complex]['Sysname']\n",
        "  for protein in subunits:\n",
        "    if protein.startswith('YA'):\n",
        "      subunits_from_chromosomes_cp3['chr1']+=1\n",
        "    elif protein.startswith('YB'):\n",
        "      subunits_from_chromosomes_cp3['chr2']+=1\n",
        "    elif protein.startswith('YC'):\n",
        "      subunits_from_chromosomes_cp3['chr3']+=1\n",
        "    elif protein.startswith('YD'):\n",
        "      subunits_from_chromosomes_cp3['chr4']+=1\n",
        "    if protein.startswith('YE'):\n",
        "      subunits_from_chromosomes_cp3['chr5']+=1\n",
        "    elif protein.startswith('YF'):\n",
        "      subunits_from_chromosomes_cp3['chr6']+=1\n",
        "    elif protein.startswith('YG'):\n",
        "      subunits_from_chromosomes_cp3['chr7']+=1\n",
        "    elif protein.startswith('YH'):\n",
        "      subunits_from_chromosomes_cp3['chr8']+=1\n",
        "    if protein.startswith('YI'):\n",
        "      subunits_from_chromosomes_cp3['chr9']+=1\n",
        "    elif protein.startswith('YJ'):\n",
        "      subunits_from_chromosomes_cp3['chr10']+=1\n",
        "    elif protein.startswith('YK'):\n",
        "      subunits_from_chromosomes_cp3['chr11']+=1\n",
        "    elif protein.startswith('YL'):\n",
        "      subunits_from_chromosomes_cp3['chr12']+=1\n",
        "    if protein.startswith('YM'):\n",
        "      subunits_from_chromosomes_cp3['chr13']+=1\n",
        "    elif protein.startswith('YN'):\n",
        "      subunits_from_chromosomes_cp3['chr14']+=1\n",
        "    elif protein.startswith('YO'):\n",
        "      subunits_from_chromosomes_cp3['chr15']+=1\n",
        "    elif protein.startswith('YP'):\n",
        "      subunits_from_chromosomes_cp3['chr16']+=1"
      ],
      "metadata": {
        "id": "r-jQEbpOoUbV"
      },
      "execution_count": 33,
      "outputs": []
    },
    {
      "cell_type": "code",
      "source": [
        "subunits_from_chromosomes_cp2={\n",
        "    'chr1':0,\n",
        "    'chr2':0,\n",
        "    'chr3':0,\n",
        "    'chr4':0,\n",
        "    'chr5':0,\n",
        "    'chr6':0,\n",
        "    'chr7':0,\n",
        "    'chr8':0,\n",
        "    'chr9':0,\n",
        "    'chr10':0,\n",
        "    'chr11':0,\n",
        "    'chr12':0,\n",
        "    'chr13':0,\n",
        "    'chr14':0,\n",
        "    'chr15':0,\n",
        "    'chr16':0,\n",
        "}\n",
        "for prot_complex in balance_of_complexes['2_copy']:\n",
        "  subunits = list_of_all_subunits[list_of_all_subunits['ComplexName'] == prot_complex]['Sysname']\n",
        "  for protein in subunits:\n",
        "    if protein.startswith('YA'):\n",
        "      subunits_from_chromosomes_cp2['chr1']+=1\n",
        "    elif protein.startswith('YB'):\n",
        "      subunits_from_chromosomes_cp2['chr2']+=1\n",
        "    elif protein.startswith('YC'):\n",
        "      subunits_from_chromosomes_cp2['chr3']+=1\n",
        "    elif protein.startswith('YD'):\n",
        "      subunits_from_chromosomes_cp2['chr4']+=1\n",
        "    if protein.startswith('YE'):\n",
        "      subunits_from_chromosomes_cp2['chr5']+=1\n",
        "    elif protein.startswith('YF'):\n",
        "      subunits_from_chromosomes_cp2['chr6']+=1\n",
        "    elif protein.startswith('YG'):\n",
        "      subunits_from_chromosomes_cp2['chr7']+=1\n",
        "    elif protein.startswith('YH'):\n",
        "      subunits_from_chromosomes_cp2['chr8']+=1\n",
        "    if protein.startswith('YI'):\n",
        "      subunits_from_chromosomes_cp2['chr9']+=1\n",
        "    elif protein.startswith('YJ'):\n",
        "      subunits_from_chromosomes_cp2['chr10']+=1\n",
        "    elif protein.startswith('YK'):\n",
        "      subunits_from_chromosomes_cp2['chr11']+=1\n",
        "    elif protein.startswith('YL'):\n",
        "      subunits_from_chromosomes_cp2['chr12']+=1\n",
        "    if protein.startswith('YM'):\n",
        "      subunits_from_chromosomes_cp2['chr13']+=1\n",
        "    elif protein.startswith('YN'):\n",
        "      subunits_from_chromosomes_cp2['chr14']+=1\n",
        "    elif protein.startswith('YO'):\n",
        "      subunits_from_chromosomes_cp2['chr15']+=1\n",
        "    elif protein.startswith('YP'):\n",
        "      subunits_from_chromosomes_cp2['chr16']+=1"
      ],
      "metadata": {
        "id": "2UKwa4MJN3zo"
      },
      "execution_count": 34,
      "outputs": []
    },
    {
      "cell_type": "code",
      "source": [
        "subunits_from_chromosomes_imb={\n",
        "    'chr1':0,\n",
        "    'chr2':0,\n",
        "    'chr3':0,\n",
        "    'chr4':0,\n",
        "    'chr5':0,\n",
        "    'chr6':0,\n",
        "    'chr7':0,\n",
        "    'chr8':0,\n",
        "    'chr9':0,\n",
        "    'chr10':0,\n",
        "    'chr11':0,\n",
        "    'chr12':0,\n",
        "    'chr13':0,\n",
        "    'chr14':0,\n",
        "    'chr15':0,\n",
        "    'chr16':0,\n",
        "}\n",
        "for prot_complex in balance_of_complexes['imbalanced']:\n",
        "  subunits = list_of_all_subunits[list_of_all_subunits['ComplexName'] == prot_complex]['Sysname']\n",
        "  for protein in subunits:\n",
        "    if protein.startswith('YA'):\n",
        "      subunits_from_chromosomes_imb['chr1']+=1\n",
        "    elif protein.startswith('YB'):\n",
        "      subunits_from_chromosomes_imb['chr2']+=1\n",
        "    elif protein.startswith('YC'):\n",
        "      subunits_from_chromosomes_imb['chr3']+=1\n",
        "    elif protein.startswith('YD'):\n",
        "      subunits_from_chromosomes_imb['chr4']+=1\n",
        "    if protein.startswith('YE'):\n",
        "      subunits_from_chromosomes_imb['chr5']+=1\n",
        "    elif protein.startswith('YF'):\n",
        "      subunits_from_chromosomes_imb['chr6']+=1\n",
        "    elif protein.startswith('YG'):\n",
        "      subunits_from_chromosomes_imb['chr7']+=1\n",
        "    elif protein.startswith('YH'):\n",
        "      subunits_from_chromosomes_imb['chr8']+=1\n",
        "    if protein.startswith('YI'):\n",
        "      subunits_from_chromosomes_imb['chr9']+=1\n",
        "    elif protein.startswith('YJ'):\n",
        "      subunits_from_chromosomes_imb['chr10']+=1\n",
        "    elif protein.startswith('YK'):\n",
        "      subunits_from_chromosomes_imb['chr11']+=1\n",
        "    elif protein.startswith('YL'):\n",
        "      subunits_from_chromosomes_imb['chr12']+=1\n",
        "    if protein.startswith('YM'):\n",
        "      subunits_from_chromosomes_imb['chr13']+=1\n",
        "    elif protein.startswith('YN'):\n",
        "      subunits_from_chromosomes_imb['chr14']+=1\n",
        "    elif protein.startswith('YO'):\n",
        "      subunits_from_chromosomes_imb['chr15']+=1\n",
        "    elif protein.startswith('YP'):\n",
        "      subunits_from_chromosomes_imb['chr16']+=1"
      ],
      "metadata": {
        "id": "Ik_-kdZZOm1s"
      },
      "execution_count": 35,
      "outputs": []
    },
    {
      "cell_type": "code",
      "source": [
        "chromosome_lengths = pd.read_csv(\"/content/Chromosome_lengths.txt\",sep=\"\\t\" ,header=None, names=['chr', 'length'])\n",
        "chromosome_lengths.drop(chromosome_lengths.tail(2).index, inplace = True)\n",
        "chromosome_lengths[['extra', 'chr']] = chromosome_lengths['chr'].str.split(\"_\", 1, expand=True)\n",
        "chromosome_lengths.drop('extra', axis=1, inplace=True)\n",
        "three_copy=[]\n",
        "two_copy=[]\n",
        "imbalanced=[]\n",
        "for i in chromosome_lengths['chr']:\n",
        "  three_copy.append(subunits_from_chromosomes_cp3[i])\n",
        "  two_copy.append(subunits_from_chromosomes_cp2[i])\n",
        "  imbalanced.append(subunits_from_chromosomes_imb[i])\n",
        "chromosome_lengths['3_copy'] = three_copy\n",
        "chromosome_lengths['2_copy'] = two_copy\n",
        "chromosome_lengths['imbalanced'] = imbalanced\n",
        "fig = go.Figure() \n",
        "fig.add_trace(go.Scatter(x=chromosome_lengths['length'], y=chromosome_lengths['imbalanced'], mode='markers'))\n",
        "fig.add_trace(go.Scatter(x=chromosome_lengths['length'], y=chromosome_lengths['2_copy'], mode='markers'))\n",
        "fig.add_trace(go.Scatter(x=chromosome_lengths['length'], y=chromosome_lengths['3_copy'], mode='markers'))\n",
        "fig.show()"
      ],
      "metadata": {
        "colab": {
          "base_uri": "https://localhost:8080/",
          "height": 615
        },
        "id": "Oy_tAsV8rLWR",
        "outputId": "a9d0e740-a596-4cfa-dc5f-4b17904e43c2"
      },
      "execution_count": 47,
      "outputs": [
        {
          "output_type": "stream",
          "name": "stderr",
          "text": [
            "<ipython-input-47-ff8eb3d8f0eb>:3: FutureWarning:\n",
            "\n",
            "In a future version of pandas all arguments of StringMethods.split except for the argument 'pat' will be keyword-only.\n",
            "\n"
          ]
        },
        {
          "output_type": "display_data",
          "data": {
            "text/html": [
              "<html>\n",
              "<head><meta charset=\"utf-8\" /></head>\n",
              "<body>\n",
              "    <div>            <script src=\"https://cdnjs.cloudflare.com/ajax/libs/mathjax/2.7.5/MathJax.js?config=TeX-AMS-MML_SVG\"></script><script type=\"text/javascript\">if (window.MathJax && window.MathJax.Hub && window.MathJax.Hub.Config) {window.MathJax.Hub.Config({SVG: {font: \"STIX-Web\"}});}</script>                <script type=\"text/javascript\">window.PlotlyConfig = {MathJaxConfig: 'local'};</script>\n",
              "        <script src=\"https://cdn.plot.ly/plotly-2.18.2.min.js\"></script>                <div id=\"7c6928a3-6e44-4f41-939e-120db31e43fe\" class=\"plotly-graph-div\" style=\"height:525px; width:100%;\"></div>            <script type=\"text/javascript\">                                    window.PLOTLYENV=window.PLOTLYENV || {};                                    if (document.getElementById(\"7c6928a3-6e44-4f41-939e-120db31e43fe\")) {                    Plotly.newPlot(                        \"7c6928a3-6e44-4f41-939e-120db31e43fe\",                        [{\"mode\":\"markers\",\"x\":[252221,844051,341087,1575129,572496,277781,1092105,564939,430780,762303,683383,1084257,929095,793416,1108329,918464],\"y\":[29,148,55,279,94,55,189,75,52,105,92,180,207,132,147,246],\"type\":\"scatter\"},{\"mode\":\"markers\",\"x\":[252221,844051,341087,1575129,572496,277781,1092105,564939,430780,762303,683383,1084257,929095,793416,1108329,918464],\"y\":[28,64,0,96,38,0,75,36,25,61,48,67,0,56,83,0],\"type\":\"scatter\"},{\"mode\":\"markers\",\"x\":[252221,844051,341087,1575129,572496,277781,1092105,564939,430780,762303,683383,1084257,929095,793416,1108329,918464],\"y\":[0,0,0,0,1,2,0,0,0,0,0,0,13,0,0,9],\"type\":\"scatter\"}],                        {\"template\":{\"data\":{\"histogram2dcontour\":[{\"type\":\"histogram2dcontour\",\"colorbar\":{\"outlinewidth\":0,\"ticks\":\"\"},\"colorscale\":[[0.0,\"#0d0887\"],[0.1111111111111111,\"#46039f\"],[0.2222222222222222,\"#7201a8\"],[0.3333333333333333,\"#9c179e\"],[0.4444444444444444,\"#bd3786\"],[0.5555555555555556,\"#d8576b\"],[0.6666666666666666,\"#ed7953\"],[0.7777777777777778,\"#fb9f3a\"],[0.8888888888888888,\"#fdca26\"],[1.0,\"#f0f921\"]]}],\"choropleth\":[{\"type\":\"choropleth\",\"colorbar\":{\"outlinewidth\":0,\"ticks\":\"\"}}],\"histogram2d\":[{\"type\":\"histogram2d\",\"colorbar\":{\"outlinewidth\":0,\"ticks\":\"\"},\"colorscale\":[[0.0,\"#0d0887\"],[0.1111111111111111,\"#46039f\"],[0.2222222222222222,\"#7201a8\"],[0.3333333333333333,\"#9c179e\"],[0.4444444444444444,\"#bd3786\"],[0.5555555555555556,\"#d8576b\"],[0.6666666666666666,\"#ed7953\"],[0.7777777777777778,\"#fb9f3a\"],[0.8888888888888888,\"#fdca26\"],[1.0,\"#f0f921\"]]}],\"heatmap\":[{\"type\":\"heatmap\",\"colorbar\":{\"outlinewidth\":0,\"ticks\":\"\"},\"colorscale\":[[0.0,\"#0d0887\"],[0.1111111111111111,\"#46039f\"],[0.2222222222222222,\"#7201a8\"],[0.3333333333333333,\"#9c179e\"],[0.4444444444444444,\"#bd3786\"],[0.5555555555555556,\"#d8576b\"],[0.6666666666666666,\"#ed7953\"],[0.7777777777777778,\"#fb9f3a\"],[0.8888888888888888,\"#fdca26\"],[1.0,\"#f0f921\"]]}],\"heatmapgl\":[{\"type\":\"heatmapgl\",\"colorbar\":{\"outlinewidth\":0,\"ticks\":\"\"},\"colorscale\":[[0.0,\"#0d0887\"],[0.1111111111111111,\"#46039f\"],[0.2222222222222222,\"#7201a8\"],[0.3333333333333333,\"#9c179e\"],[0.4444444444444444,\"#bd3786\"],[0.5555555555555556,\"#d8576b\"],[0.6666666666666666,\"#ed7953\"],[0.7777777777777778,\"#fb9f3a\"],[0.8888888888888888,\"#fdca26\"],[1.0,\"#f0f921\"]]}],\"contourcarpet\":[{\"type\":\"contourcarpet\",\"colorbar\":{\"outlinewidth\":0,\"ticks\":\"\"}}],\"contour\":[{\"type\":\"contour\",\"colorbar\":{\"outlinewidth\":0,\"ticks\":\"\"},\"colorscale\":[[0.0,\"#0d0887\"],[0.1111111111111111,\"#46039f\"],[0.2222222222222222,\"#7201a8\"],[0.3333333333333333,\"#9c179e\"],[0.4444444444444444,\"#bd3786\"],[0.5555555555555556,\"#d8576b\"],[0.6666666666666666,\"#ed7953\"],[0.7777777777777778,\"#fb9f3a\"],[0.8888888888888888,\"#fdca26\"],[1.0,\"#f0f921\"]]}],\"surface\":[{\"type\":\"surface\",\"colorbar\":{\"outlinewidth\":0,\"ticks\":\"\"},\"colorscale\":[[0.0,\"#0d0887\"],[0.1111111111111111,\"#46039f\"],[0.2222222222222222,\"#7201a8\"],[0.3333333333333333,\"#9c179e\"],[0.4444444444444444,\"#bd3786\"],[0.5555555555555556,\"#d8576b\"],[0.6666666666666666,\"#ed7953\"],[0.7777777777777778,\"#fb9f3a\"],[0.8888888888888888,\"#fdca26\"],[1.0,\"#f0f921\"]]}],\"mesh3d\":[{\"type\":\"mesh3d\",\"colorbar\":{\"outlinewidth\":0,\"ticks\":\"\"}}],\"scatter\":[{\"fillpattern\":{\"fillmode\":\"overlay\",\"size\":10,\"solidity\":0.2},\"type\":\"scatter\"}],\"parcoords\":[{\"type\":\"parcoords\",\"line\":{\"colorbar\":{\"outlinewidth\":0,\"ticks\":\"\"}}}],\"scatterpolargl\":[{\"type\":\"scatterpolargl\",\"marker\":{\"colorbar\":{\"outlinewidth\":0,\"ticks\":\"\"}}}],\"bar\":[{\"error_x\":{\"color\":\"#2a3f5f\"},\"error_y\":{\"color\":\"#2a3f5f\"},\"marker\":{\"line\":{\"color\":\"#E5ECF6\",\"width\":0.5},\"pattern\":{\"fillmode\":\"overlay\",\"size\":10,\"solidity\":0.2}},\"type\":\"bar\"}],\"scattergeo\":[{\"type\":\"scattergeo\",\"marker\":{\"colorbar\":{\"outlinewidth\":0,\"ticks\":\"\"}}}],\"scatterpolar\":[{\"type\":\"scatterpolar\",\"marker\":{\"colorbar\":{\"outlinewidth\":0,\"ticks\":\"\"}}}],\"histogram\":[{\"marker\":{\"pattern\":{\"fillmode\":\"overlay\",\"size\":10,\"solidity\":0.2}},\"type\":\"histogram\"}],\"scattergl\":[{\"type\":\"scattergl\",\"marker\":{\"colorbar\":{\"outlinewidth\":0,\"ticks\":\"\"}}}],\"scatter3d\":[{\"type\":\"scatter3d\",\"line\":{\"colorbar\":{\"outlinewidth\":0,\"ticks\":\"\"}},\"marker\":{\"colorbar\":{\"outlinewidth\":0,\"ticks\":\"\"}}}],\"scattermapbox\":[{\"type\":\"scattermapbox\",\"marker\":{\"colorbar\":{\"outlinewidth\":0,\"ticks\":\"\"}}}],\"scatterternary\":[{\"type\":\"scatterternary\",\"marker\":{\"colorbar\":{\"outlinewidth\":0,\"ticks\":\"\"}}}],\"scattercarpet\":[{\"type\":\"scattercarpet\",\"marker\":{\"colorbar\":{\"outlinewidth\":0,\"ticks\":\"\"}}}],\"carpet\":[{\"aaxis\":{\"endlinecolor\":\"#2a3f5f\",\"gridcolor\":\"white\",\"linecolor\":\"white\",\"minorgridcolor\":\"white\",\"startlinecolor\":\"#2a3f5f\"},\"baxis\":{\"endlinecolor\":\"#2a3f5f\",\"gridcolor\":\"white\",\"linecolor\":\"white\",\"minorgridcolor\":\"white\",\"startlinecolor\":\"#2a3f5f\"},\"type\":\"carpet\"}],\"table\":[{\"cells\":{\"fill\":{\"color\":\"#EBF0F8\"},\"line\":{\"color\":\"white\"}},\"header\":{\"fill\":{\"color\":\"#C8D4E3\"},\"line\":{\"color\":\"white\"}},\"type\":\"table\"}],\"barpolar\":[{\"marker\":{\"line\":{\"color\":\"#E5ECF6\",\"width\":0.5},\"pattern\":{\"fillmode\":\"overlay\",\"size\":10,\"solidity\":0.2}},\"type\":\"barpolar\"}],\"pie\":[{\"automargin\":true,\"type\":\"pie\"}]},\"layout\":{\"autotypenumbers\":\"strict\",\"colorway\":[\"#636efa\",\"#EF553B\",\"#00cc96\",\"#ab63fa\",\"#FFA15A\",\"#19d3f3\",\"#FF6692\",\"#B6E880\",\"#FF97FF\",\"#FECB52\"],\"font\":{\"color\":\"#2a3f5f\"},\"hovermode\":\"closest\",\"hoverlabel\":{\"align\":\"left\"},\"paper_bgcolor\":\"white\",\"plot_bgcolor\":\"#E5ECF6\",\"polar\":{\"bgcolor\":\"#E5ECF6\",\"angularaxis\":{\"gridcolor\":\"white\",\"linecolor\":\"white\",\"ticks\":\"\"},\"radialaxis\":{\"gridcolor\":\"white\",\"linecolor\":\"white\",\"ticks\":\"\"}},\"ternary\":{\"bgcolor\":\"#E5ECF6\",\"aaxis\":{\"gridcolor\":\"white\",\"linecolor\":\"white\",\"ticks\":\"\"},\"baxis\":{\"gridcolor\":\"white\",\"linecolor\":\"white\",\"ticks\":\"\"},\"caxis\":{\"gridcolor\":\"white\",\"linecolor\":\"white\",\"ticks\":\"\"}},\"coloraxis\":{\"colorbar\":{\"outlinewidth\":0,\"ticks\":\"\"}},\"colorscale\":{\"sequential\":[[0.0,\"#0d0887\"],[0.1111111111111111,\"#46039f\"],[0.2222222222222222,\"#7201a8\"],[0.3333333333333333,\"#9c179e\"],[0.4444444444444444,\"#bd3786\"],[0.5555555555555556,\"#d8576b\"],[0.6666666666666666,\"#ed7953\"],[0.7777777777777778,\"#fb9f3a\"],[0.8888888888888888,\"#fdca26\"],[1.0,\"#f0f921\"]],\"sequentialminus\":[[0.0,\"#0d0887\"],[0.1111111111111111,\"#46039f\"],[0.2222222222222222,\"#7201a8\"],[0.3333333333333333,\"#9c179e\"],[0.4444444444444444,\"#bd3786\"],[0.5555555555555556,\"#d8576b\"],[0.6666666666666666,\"#ed7953\"],[0.7777777777777778,\"#fb9f3a\"],[0.8888888888888888,\"#fdca26\"],[1.0,\"#f0f921\"]],\"diverging\":[[0,\"#8e0152\"],[0.1,\"#c51b7d\"],[0.2,\"#de77ae\"],[0.3,\"#f1b6da\"],[0.4,\"#fde0ef\"],[0.5,\"#f7f7f7\"],[0.6,\"#e6f5d0\"],[0.7,\"#b8e186\"],[0.8,\"#7fbc41\"],[0.9,\"#4d9221\"],[1,\"#276419\"]]},\"xaxis\":{\"gridcolor\":\"white\",\"linecolor\":\"white\",\"ticks\":\"\",\"title\":{\"standoff\":15},\"zerolinecolor\":\"white\",\"automargin\":true,\"zerolinewidth\":2},\"yaxis\":{\"gridcolor\":\"white\",\"linecolor\":\"white\",\"ticks\":\"\",\"title\":{\"standoff\":15},\"zerolinecolor\":\"white\",\"automargin\":true,\"zerolinewidth\":2},\"scene\":{\"xaxis\":{\"backgroundcolor\":\"#E5ECF6\",\"gridcolor\":\"white\",\"linecolor\":\"white\",\"showbackground\":true,\"ticks\":\"\",\"zerolinecolor\":\"white\",\"gridwidth\":2},\"yaxis\":{\"backgroundcolor\":\"#E5ECF6\",\"gridcolor\":\"white\",\"linecolor\":\"white\",\"showbackground\":true,\"ticks\":\"\",\"zerolinecolor\":\"white\",\"gridwidth\":2},\"zaxis\":{\"backgroundcolor\":\"#E5ECF6\",\"gridcolor\":\"white\",\"linecolor\":\"white\",\"showbackground\":true,\"ticks\":\"\",\"zerolinecolor\":\"white\",\"gridwidth\":2}},\"shapedefaults\":{\"line\":{\"color\":\"#2a3f5f\"}},\"annotationdefaults\":{\"arrowcolor\":\"#2a3f5f\",\"arrowhead\":0,\"arrowwidth\":1},\"geo\":{\"bgcolor\":\"white\",\"landcolor\":\"#E5ECF6\",\"subunitcolor\":\"white\",\"showland\":true,\"showlakes\":true,\"lakecolor\":\"white\"},\"title\":{\"x\":0.05},\"mapbox\":{\"style\":\"light\"}}}},                        {\"responsive\": true}                    ).then(function(){\n",
              "                            \n",
              "var gd = document.getElementById('7c6928a3-6e44-4f41-939e-120db31e43fe');\n",
              "var x = new MutationObserver(function (mutations, observer) {{\n",
              "        var display = window.getComputedStyle(gd).display;\n",
              "        if (!display || display === 'none') {{\n",
              "            console.log([gd, 'removed!']);\n",
              "            Plotly.purge(gd);\n",
              "            observer.disconnect();\n",
              "        }}\n",
              "}});\n",
              "\n",
              "// Listen for the removal of the full notebook cells\n",
              "var notebookContainer = gd.closest('#notebook-container');\n",
              "if (notebookContainer) {{\n",
              "    x.observe(notebookContainer, {childList: true});\n",
              "}}\n",
              "\n",
              "// Listen for the clearing of the current output cell\n",
              "var outputEl = gd.closest('.output');\n",
              "if (outputEl) {{\n",
              "    x.observe(outputEl, {childList: true});\n",
              "}}\n",
              "\n",
              "                        })                };                            </script>        </div>\n",
              "</body>\n",
              "</html>"
            ]
          },
          "metadata": {}
        }
      ]
    },
    {
      "cell_type": "code",
      "execution_count": 16,
      "metadata": {
        "colab": {
          "base_uri": "https://localhost:8080/"
        },
        "id": "UV3xPE_tr68R",
        "outputId": "b556356a-044d-462c-ad84-7f365eac5389"
      },
      "outputs": [
        {
          "output_type": "execute_result",
          "data": {
            "text/plain": [
              "[SignificanceResult(statistic=0.04001061066354548, pvalue=0.7368066522942929),\n",
              " SignificanceResult(statistic=-0.011218844196989135, pvalue=0.9345964973591662),\n",
              " SignificanceResult(statistic=0.05049395834003728, pvalue=0.6403562228510867),\n",
              " SignificanceResult(statistic=-0.1462537184619223, pvalue=0.230473188595039),\n",
              " SignificanceResult(statistic=0.15437845566139535, pvalue=0.17432598248538894),\n",
              " SignificanceResult(statistic=0.15029027845499543, pvalue=0.2601355678482124),\n",
              " SignificanceResult(statistic=-0.12901719251087018, pvalue=0.26995188899111805),\n",
              " SignificanceResult(statistic=0.014636390108728735, pvalue=0.9028777793379552),\n",
              " SignificanceResult(statistic=0.025205777154338506, pvalue=0.8221506854364056),\n",
              " SignificanceResult(statistic=-0.0747467884626898, pvalue=0.5703055512495109),\n",
              " SignificanceResult(statistic=0.049720247785835864, pvalue=0.7344086851894613),\n",
              " SignificanceResult(statistic=0.09607105516813005, pvalue=0.4122591573553689),\n",
              " SignificanceResult(statistic=-0.21015940172258074, pvalue=0.06302946784607771),\n",
              " SignificanceResult(statistic=0.03274234839615242, pvalue=0.7774149887294262),\n",
              " SignificanceResult(statistic=0.019710539040662098, pvalue=0.8631109545311844),\n",
              " SignificanceResult(statistic=-0.18024009700263682, pvalue=0.057211915109994696),\n",
              " SignificanceResult(statistic=-0.11605199962644801, pvalue=0.3116243708421169),\n",
              " SignificanceResult(statistic=-0.08849547252218236, pvalue=0.3963370077811915),\n",
              " SignificanceResult(statistic=0.10393028693121817, pvalue=0.4589414226135643),\n",
              " SignificanceResult(statistic=0.005029857183819206, pvalue=0.9633399794385744),\n",
              " SignificanceResult(statistic=0.1626749967361603, pvalue=0.1850284871356515),\n",
              " SignificanceResult(statistic=0.010985653126625592, pvalue=0.9008915137117555),\n",
              " SignificanceResult(statistic=0.03104925955560821, pvalue=0.794270586079172),\n",
              " SignificanceResult(statistic=0.16068444560461026, pvalue=0.17142712306039065),\n",
              " SignificanceResult(statistic=0.0635192302278221, pvalue=0.5756449032430567),\n",
              " SignificanceResult(statistic=-0.0033279307573741827, pvalue=0.9718418723549114),\n",
              " SignificanceResult(statistic=0.05522375515170112, pvalue=0.6672859679210787),\n",
              " SignificanceResult(statistic=0.21241496700109588, pvalue=0.10322811174812381),\n",
              " SignificanceResult(statistic=0.013405101281307475, pvalue=0.901348113823743),\n",
              " SignificanceResult(statistic=-0.03244352432910913, pvalue=0.7928240529177311),\n",
              " SignificanceResult(statistic=0.05435771207295965, pvalue=0.6108569813769403),\n",
              " SignificanceResult(statistic=-0.12905232243746442, pvalue=0.2698203876149556),\n",
              " SignificanceResult(statistic=0.21259213972998356, pvalue=0.06898768091751127),\n",
              " SignificanceResult(statistic=-0.010718314024293924, pvalue=0.9257955826789785),\n",
              " SignificanceResult(statistic=0.10084491386313564, pvalue=0.4813575418570416),\n",
              " SignificanceResult(statistic=0.1012997121861355, pvalue=0.4146883802732343),\n",
              " SignificanceResult(statistic=0.19514387057703864, pvalue=0.16997277147042528),\n",
              " SignificanceResult(statistic=0.18928214809048147, pvalue=0.1789683762278718),\n",
              " SignificanceResult(statistic=0.08263928781480685, pvalue=0.5266257241947445),\n",
              " SignificanceResult(statistic=-0.09287514015056184, pvalue=0.48031127021545805),\n",
              " SignificanceResult(statistic=0.06575428410772885, pvalue=0.5914063050088525),\n",
              " SignificanceResult(statistic=-0.00367481037269226, pvalue=0.9789602793234032),\n",
              " SignificanceResult(statistic=-0.04592037052019366, pvalue=0.6820560199019743),\n",
              " SignificanceResult(statistic=0.13471273182366547, pvalue=0.24919243469624328),\n",
              " SignificanceResult(statistic=0.07239972962210826, pvalue=0.5792433192551723),\n",
              " SignificanceResult(statistic=-0.19071589230470135, pvalue=0.2448366351581372),\n",
              " SignificanceResult(statistic=-0.08031747565177987, pvalue=0.5314812490959754),\n",
              " SignificanceResult(statistic=0.04725284498040428, pvalue=0.6913806639100892),\n",
              " SignificanceResult(statistic=-0.013012140010150398, pvalue=0.906482674911633),\n",
              " SignificanceResult(statistic=-0.014313081464475614, pvalue=0.908477867342139)]"
            ]
          },
          "metadata": {},
          "execution_count": 16
        }
      ],
      "source": [
        "all_complexes = pd.read_csv('/content/All Complexes 2.csv')\n",
        "cnv_subunits = pd.read_csv('/content/All Subunits.csv')\n",
        "non_cnv_subunits = pd.read_csv('/content/NonCNVSubunits.csv')\n",
        "non_cnv_subunits.rename(columns={'Non-CNV':'Sysname'}, inplace=True)\n",
        "subunits_count = pd.read_csv('/content/Subunits_count.csv')\n",
        "frames = [cnv_subunits, non_cnv_subunits]\n",
        "list_of_all_subunits = pd.concat(frames)\n",
        "list_of_all_subunits.reset_index(inplace=True, drop=True)\n",
        "uniq_subunits = list_of_all_subunits.Sysname.unique()\n",
        "uniq_non_cnv_subunits = non_cnv_subunits.Sysname.unique()\n",
        "uniq_cnv_subunits = cnv_subunits.Sysname.unique()\n",
        "list_of_pseudo_corr=[]\n",
        "for i in range(50):\n",
        "  pseudo_complex = pd.DataFrame()\n",
        "  pseudo_complex_name = []\n",
        "  pseudo_complex_subunit = []\n",
        "  for i in range(len(list_of_all_subunits)):\n",
        "    this_gene = list_of_all_subunits['Sysname'][i]\n",
        "    this_complex = list_of_all_subunits['ComplexName'][i]\n",
        "    if ((this_gene not in list(all_interactions_adjacency_list[0])) and (this_gene not in list(all_interactions_adjacency_list[1]))):\n",
        "      continue\n",
        "    this_gene_total_interactions = [k for k in all_interaction_network.neighbors(this_gene)]\n",
        "    this_complex_total_subunits = list_of_all_subunits[list_of_all_subunits['ComplexName'] == this_complex]['Sysname']\n",
        "    this_gene_ints_within_complex = list(set(this_gene_total_interactions) & set(this_complex_total_subunits))\n",
        "    all_partners_of_partners = []\n",
        "    for i in this_gene_ints_within_complex:\n",
        "      partners = [k for k in all_interaction_network.neighbors(i)]\n",
        "      all_partners_of_partners = all_partners_of_partners + partners\n",
        "    if this_gene in uniq_cnv_subunits:\n",
        "      replacement_choices = list(set(all_partners_of_partners) & set(uniq_non_cnv_subunits))\n",
        "    elif this_gene in uniq_non_cnv_subunits:\n",
        "      replacement_choices = list(set(all_partners_of_partners) & set(uniq_subunits))\n",
        "    if len(replacement_choices) == 0:\n",
        "      replacement_choices = [this_gene]\n",
        "    random_subunit = random.choice(replacement_choices)\n",
        "    pseudo_complex_name.append(this_complex)\n",
        "    pseudo_complex_subunit.append(random_subunit)\n",
        "  pseudo_complex['ComplexName'] = pseudo_complex_name\n",
        "  pseudo_complex['Subunits'] = pseudo_complex_subunit\n",
        "  pseudo_subunits = pseudo_complex.copy()\n",
        "  all_cnv_subunits = []\n",
        "  complex_interactions = nx.Graph()\n",
        "  for protein_complex in pseudo_complex['ComplexName']:\n",
        "    for complex_subunit in pseudo_subunits[pseudo_subunits['ComplexName'] == protein_complex]['Subunits']:\n",
        "      if ((complex_subunit in all_interaction_network.nodes) and (complex_subunit in uniq_cnv_subunits)):\n",
        "        connections_in_protein = [k for k in all_interaction_network.neighbors(complex_subunit)]\n",
        "        cnv_partners = list(set(connections_in_protein) & set(pseudo_subunits[pseudo_subunits['ComplexName'] == protein_complex]['Subunits']) & set(uniq_cnv_subunits))\n",
        "        for j in cnv_partners:\n",
        "          if j!=complex_subunit:\n",
        "            complex_interactions.add_edge(complex_subunit, j)\n",
        "  clean_complex_interactions = pd.DataFrame(complex_interactions.edges(), columns=[0,1])\n",
        "  complex_tpm_1 = []\n",
        "  complex_tpm_2 = []\n",
        "  for i in range(len(clean_complex_interactions)):\n",
        "    if((clean_complex_interactions[0][i] in all_average_tpms.keys()) and (clean_complex_interactions[1][i] in all_average_tpms.keys())):\n",
        "      complex_tpm_1.append(all_average_tpms[clean_complex_interactions[0][i]])\n",
        "      complex_tpm_2.append(all_average_tpms[clean_complex_interactions[1][i]])\n",
        "\n",
        "  res = stats.spearmanr(complex_tpm_1, complex_tpm_2)\n",
        "  list_of_pseudo_corr.append(res)\n",
        "list_of_pseudo_corr"
      ]
    },
    {
      "cell_type": "code",
      "execution_count": null,
      "metadata": {
        "colab": {
          "base_uri": "https://localhost:8080/"
        },
        "id": "MOpK_bh-OXpV",
        "outputId": "d21de931-09d6-411b-ec9a-ba182b0c1ae1"
      },
      "outputs": [
        {
          "data": {
            "text/plain": [
              "SignificanceResult(statistic=0.04518963391338153, pvalue=0.6000332470476177)"
            ]
          },
          "execution_count": 52,
          "metadata": {},
          "output_type": "execute_result"
        }
      ],
      "source": [
        "chr_16_complexes= pd.DataFrame()\n",
        "chr_16_complex_names =[]\n",
        "chr_16_pseudo_complex = pd.DataFrame()\n",
        "chr_16_pseudo_names = []\n",
        "chr_16_pseudo_subunits = []\n",
        "for i in range(len(pseudo_complex)):\n",
        "  if pseudo_complex['Subunits'][i].startswith('YP'):\n",
        "    # print(pseudo_complex['Subunits'][i], pseudo_complex['ComplexName'][i])\n",
        "    chr_16_complex_names.append(pseudo_complex['ComplexName'][i])\n",
        "chr_16_complexes['ComplexName'] = chr_16_complex_names\n",
        "chr_16_complexes = list(chr_16_complexes.ComplexName.unique())\n",
        "for i in range(len(pseudo_complex)):\n",
        "  if pseudo_complex['ComplexName'][i] in chr_16_complexes:\n",
        "    chr_16_pseudo_names.append(pseudo_complex['ComplexName'][i])\n",
        "    chr_16_pseudo_subunits.append(pseudo_complex['Subunits'][i])\n",
        "chr_16_pseudo_complex['ComplexName'] = chr_16_pseudo_names\n",
        "chr_16_pseudo_complex['Subunits'] = chr_16_pseudo_subunits\n",
        "complex_interactions = nx.Graph()\n",
        "for protein_complex in chr_16_pseudo_complex['ComplexName']:\n",
        "  for complex_subunit in chr_16_pseudo_complex[chr_16_pseudo_complex['ComplexName'] == protein_complex]['Subunits']:\n",
        "    if ((complex_subunit in all_interaction_network.nodes) and (complex_subunit in uniq_cnv_subunits)):\n",
        "      connections_in_protein = [k for k in all_interaction_network.neighbors(complex_subunit)]\n",
        "      cnv_partners = list(set(connections_in_protein) & set(pseudo_subunits[pseudo_subunits['ComplexName'] == protein_complex]['Subunits']) & set(uniq_cnv_subunits))\n",
        "      for j in cnv_partners:\n",
        "        if j!=complex_subunit:\n",
        "          complex_interactions.add_edge(complex_subunit, j)\n",
        "clean_complex_interactions = pd.DataFrame(complex_interactions.edges(), columns=[0,1])\n",
        "complex_tpm_1 = []\n",
        "complex_tpm_2 = []\n",
        "for i in range(len(clean_complex_interactions)):\n",
        "  if((clean_complex_interactions[0][i] in all_average_tpms.keys()) and (clean_complex_interactions[1][i] in all_average_tpms.keys())):\n",
        "    complex_tpm_1.append(all_average_tpms[clean_complex_interactions[0][i]])\n",
        "    complex_tpm_2.append(all_average_tpms[clean_complex_interactions[1][i]])\n",
        "\n",
        "res = stats.spearmanr(complex_tpm_1, complex_tpm_2)\n",
        "res"
      ]
    },
    {
      "cell_type": "code",
      "execution_count": 12,
      "metadata": {
        "id": "s1LwVspEhnKa"
      },
      "outputs": [],
      "source": [
        "all_complexes = pd.read_csv('/content/All Complexes 2.csv')\n",
        "cnv_subunits = pd.read_csv('/content/All Subunits.csv')\n",
        "non_cnv_subunits = pd.read_csv('/content/NonCNVSubunits.csv')\n",
        "gene_copies = pd.read_csv('/content/16h_1_CNV_gene.txt', sep='\\t', header=None)[[9, 4]].rename(columns={9: 'Gene', 4:'CNV'})\n",
        "subunits_count = pd.read_csv('/content/Subunits_count.csv')\n",
        "complex_name = []\n",
        "subunit=[]\n",
        "copy_number=[]\n",
        "for protein_complex in all_complexes['chr16_complex']:\n",
        "  for cnv_unit in cnv_subunits[cnv_subunits['ComplexName'] == protein_complex]['Sysname']:\n",
        "    cnv_for_unit = int(str(gene_copies[gene_copies['Gene'] == cnv_unit]['CNV']).split()[1])\n",
        "    complex_name.append(protein_complex)\n",
        "    subunit.append(cnv_unit)\n",
        "    copy_number.append(cnv_for_unit)\n",
        "df = pd.DataFrame()    \n",
        "df['complex'] = complex_name\n",
        "df['subunits'] = subunit\n",
        "df['cnv'] = copy_number\n",
        "# df.to_excel('CNV_complexes_with_cnv_h8.xlsx')\n",
        "# non_cnv_subunits\n",
        "# subunits_count\n",
        "cnv_complexes_with_cnv = df.copy()"
      ]
    },
    {
      "cell_type": "code",
      "execution_count": null,
      "metadata": {
        "colab": {
          "base_uri": "https://localhost:8080/",
          "height": 424
        },
        "id": "6Htrh6Rbfxw8",
        "outputId": "52a8e533-4d26-4d53-c600-2214a8ad2e68"
      },
      "outputs": [
        {
          "data": {
            "text/html": [
              "\n",
              "  <div id=\"df-d9d5e0a5-7fea-4749-84c8-e5a450f0df31\">\n",
              "    <div class=\"colab-df-container\">\n",
              "      <div>\n",
              "<style scoped>\n",
              "    .dataframe tbody tr th:only-of-type {\n",
              "        vertical-align: middle;\n",
              "    }\n",
              "\n",
              "    .dataframe tbody tr th {\n",
              "        vertical-align: top;\n",
              "    }\n",
              "\n",
              "    .dataframe thead th {\n",
              "        text-align: right;\n",
              "    }\n",
              "</style>\n",
              "<table border=\"1\" class=\"dataframe\">\n",
              "  <thead>\n",
              "    <tr style=\"text-align: right;\">\n",
              "      <th></th>\n",
              "      <th>0</th>\n",
              "      <th>1</th>\n",
              "    </tr>\n",
              "  </thead>\n",
              "  <tbody>\n",
              "    <tr>\n",
              "      <th>0</th>\n",
              "      <td>YPR165W</td>\n",
              "      <td>YLR342W</td>\n",
              "    </tr>\n",
              "    <tr>\n",
              "      <th>1</th>\n",
              "      <td>YPL129W</td>\n",
              "      <td>YOR064C</td>\n",
              "    </tr>\n",
              "    <tr>\n",
              "      <th>2</th>\n",
              "      <td>YPL129W</td>\n",
              "      <td>YBL052C</td>\n",
              "    </tr>\n",
              "    <tr>\n",
              "      <th>3</th>\n",
              "      <td>YOR064C</td>\n",
              "      <td>YPR031W</td>\n",
              "    </tr>\n",
              "    <tr>\n",
              "      <th>4</th>\n",
              "      <td>YBL052C</td>\n",
              "      <td>YPR031W</td>\n",
              "    </tr>\n",
              "    <tr>\n",
              "      <th>...</th>\n",
              "      <td>...</td>\n",
              "      <td>...</td>\n",
              "    </tr>\n",
              "    <tr>\n",
              "      <th>76</th>\n",
              "      <td>YDR462W</td>\n",
              "      <td>YPR100W</td>\n",
              "    </tr>\n",
              "    <tr>\n",
              "      <th>77</th>\n",
              "      <td>YMR286W</td>\n",
              "      <td>YLR312W-A</td>\n",
              "    </tr>\n",
              "    <tr>\n",
              "      <th>78</th>\n",
              "      <td>YPL183W-A</td>\n",
              "      <td>YDR296W</td>\n",
              "    </tr>\n",
              "    <tr>\n",
              "      <th>79</th>\n",
              "      <td>YDR296W</td>\n",
              "      <td>YPR100W</td>\n",
              "    </tr>\n",
              "    <tr>\n",
              "      <th>80</th>\n",
              "      <td>YPR100W</td>\n",
              "      <td>YBL038W</td>\n",
              "    </tr>\n",
              "  </tbody>\n",
              "</table>\n",
              "<p>81 rows × 2 columns</p>\n",
              "</div>\n",
              "      <button class=\"colab-df-convert\" onclick=\"convertToInteractive('df-d9d5e0a5-7fea-4749-84c8-e5a450f0df31')\"\n",
              "              title=\"Convert this dataframe to an interactive table.\"\n",
              "              style=\"display:none;\">\n",
              "        \n",
              "  <svg xmlns=\"http://www.w3.org/2000/svg\" height=\"24px\"viewBox=\"0 0 24 24\"\n",
              "       width=\"24px\">\n",
              "    <path d=\"M0 0h24v24H0V0z\" fill=\"none\"/>\n",
              "    <path d=\"M18.56 5.44l.94 2.06.94-2.06 2.06-.94-2.06-.94-.94-2.06-.94 2.06-2.06.94zm-11 1L8.5 8.5l.94-2.06 2.06-.94-2.06-.94L8.5 2.5l-.94 2.06-2.06.94zm10 10l.94 2.06.94-2.06 2.06-.94-2.06-.94-.94-2.06-.94 2.06-2.06.94z\"/><path d=\"M17.41 7.96l-1.37-1.37c-.4-.4-.92-.59-1.43-.59-.52 0-1.04.2-1.43.59L10.3 9.45l-7.72 7.72c-.78.78-.78 2.05 0 2.83L4 21.41c.39.39.9.59 1.41.59.51 0 1.02-.2 1.41-.59l7.78-7.78 2.81-2.81c.8-.78.8-2.07 0-2.86zM5.41 20L4 18.59l7.72-7.72 1.47 1.35L5.41 20z\"/>\n",
              "  </svg>\n",
              "      </button>\n",
              "      \n",
              "  <style>\n",
              "    .colab-df-container {\n",
              "      display:flex;\n",
              "      flex-wrap:wrap;\n",
              "      gap: 12px;\n",
              "    }\n",
              "\n",
              "    .colab-df-convert {\n",
              "      background-color: #E8F0FE;\n",
              "      border: none;\n",
              "      border-radius: 50%;\n",
              "      cursor: pointer;\n",
              "      display: none;\n",
              "      fill: #1967D2;\n",
              "      height: 32px;\n",
              "      padding: 0 0 0 0;\n",
              "      width: 32px;\n",
              "    }\n",
              "\n",
              "    .colab-df-convert:hover {\n",
              "      background-color: #E2EBFA;\n",
              "      box-shadow: 0px 1px 2px rgba(60, 64, 67, 0.3), 0px 1px 3px 1px rgba(60, 64, 67, 0.15);\n",
              "      fill: #174EA6;\n",
              "    }\n",
              "\n",
              "    [theme=dark] .colab-df-convert {\n",
              "      background-color: #3B4455;\n",
              "      fill: #D2E3FC;\n",
              "    }\n",
              "\n",
              "    [theme=dark] .colab-df-convert:hover {\n",
              "      background-color: #434B5C;\n",
              "      box-shadow: 0px 1px 3px 1px rgba(0, 0, 0, 0.15);\n",
              "      filter: drop-shadow(0px 1px 2px rgba(0, 0, 0, 0.3));\n",
              "      fill: #FFFFFF;\n",
              "    }\n",
              "  </style>\n",
              "\n",
              "      <script>\n",
              "        const buttonEl =\n",
              "          document.querySelector('#df-d9d5e0a5-7fea-4749-84c8-e5a450f0df31 button.colab-df-convert');\n",
              "        buttonEl.style.display =\n",
              "          google.colab.kernel.accessAllowed ? 'block' : 'none';\n",
              "\n",
              "        async function convertToInteractive(key) {\n",
              "          const element = document.querySelector('#df-d9d5e0a5-7fea-4749-84c8-e5a450f0df31');\n",
              "          const dataTable =\n",
              "            await google.colab.kernel.invokeFunction('convertToInteractive',\n",
              "                                                     [key], {});\n",
              "          if (!dataTable) return;\n",
              "\n",
              "          const docLinkHtml = 'Like what you see? Visit the ' +\n",
              "            '<a target=\"_blank\" href=https://colab.research.google.com/notebooks/data_table.ipynb>data table notebook</a>'\n",
              "            + ' to learn more about interactive tables.';\n",
              "          element.innerHTML = '';\n",
              "          dataTable['output_type'] = 'display_data';\n",
              "          await google.colab.output.renderOutput(dataTable, element);\n",
              "          const docLink = document.createElement('div');\n",
              "          docLink.innerHTML = docLinkHtml;\n",
              "          element.appendChild(docLink);\n",
              "        }\n",
              "      </script>\n",
              "    </div>\n",
              "  </div>\n",
              "  "
            ],
            "text/plain": [
              "            0          1\n",
              "0     YPR165W    YLR342W\n",
              "1     YPL129W    YOR064C\n",
              "2     YPL129W    YBL052C\n",
              "3     YOR064C    YPR031W\n",
              "4     YBL052C    YPR031W\n",
              "..        ...        ...\n",
              "76    YDR462W    YPR100W\n",
              "77    YMR286W  YLR312W-A\n",
              "78  YPL183W-A    YDR296W\n",
              "79    YDR296W    YPR100W\n",
              "80    YPR100W    YBL038W\n",
              "\n",
              "[81 rows x 2 columns]"
            ]
          },
          "execution_count": 57,
          "metadata": {},
          "output_type": "execute_result"
        }
      ],
      "source": [
        "c16_complexes = pd.read_csv('/content/Protein_Complexes_C16.csv')\n",
        "subunits = pd.read_csv('/content/Protein Subunits.csv')\n",
        "noncnv_subunits=pd.read_csv('/content/NonCNVSubunits.csv')\n",
        "\n",
        "complex_interactions = nx.Graph()\n",
        "for protein_complex in c16_complexes['chr16_complex']:\n",
        "  for complex_subunit in subunits[subunits['ComplexName'] == protein_complex]['Sysname']:\n",
        "    connections_in_protein = [k for k in all_interaction_network.neighbors(complex_subunit)]\n",
        "    noncnv_partners = noncnv_subunits[noncnv_subunits['ComplexName'] == protein_complex]['Non-CNV']\n",
        "    cnv_partners = list(set(connections_in_protein) & set(noncnv_partners))\n",
        "    if (len(list(set(connections_in_protein) & set(subunits[subunits['ComplexName'] == protein_complex]['Sysname'])))==0):\n",
        "      for j in cnv_partners:\n",
        "        if j!=complex_subunit:\n",
        "          complex_interactions.add_edge(complex_subunit, j)\n",
        "clean_complex_interactions = pd.DataFrame(complex_interactions.edges(), columns=[0,1])\n",
        "clean_complex_interactions"
      ]
    },
    {
      "cell_type": "code",
      "execution_count": null,
      "metadata": {
        "colab": {
          "base_uri": "https://localhost:8080/",
          "height": 424
        },
        "id": "hA24RULduDu1",
        "outputId": "45b4eeba-fe71-4414-9ffd-3e7935d46ff0"
      },
      "outputs": [
        {
          "data": {
            "text/html": [
              "\n",
              "  <div id=\"df-83702744-e3c8-46b1-94b9-5bd04e747e50\">\n",
              "    <div class=\"colab-df-container\">\n",
              "      <div>\n",
              "<style scoped>\n",
              "    .dataframe tbody tr th:only-of-type {\n",
              "        vertical-align: middle;\n",
              "    }\n",
              "\n",
              "    .dataframe tbody tr th {\n",
              "        vertical-align: top;\n",
              "    }\n",
              "\n",
              "    .dataframe thead th {\n",
              "        text-align: right;\n",
              "    }\n",
              "</style>\n",
              "<table border=\"1\" class=\"dataframe\">\n",
              "  <thead>\n",
              "    <tr style=\"text-align: right;\">\n",
              "      <th></th>\n",
              "      <th>0</th>\n",
              "      <th>1</th>\n",
              "    </tr>\n",
              "  </thead>\n",
              "  <tbody>\n",
              "    <tr>\n",
              "      <th>0</th>\n",
              "      <td>YPR054W</td>\n",
              "      <td>YGR032W</td>\n",
              "    </tr>\n",
              "    <tr>\n",
              "      <th>1</th>\n",
              "      <td>YPR165W</td>\n",
              "      <td>YLR342W</td>\n",
              "    </tr>\n",
              "    <tr>\n",
              "      <th>2</th>\n",
              "      <td>YPL166W</td>\n",
              "      <td>YDR022C</td>\n",
              "    </tr>\n",
              "    <tr>\n",
              "      <th>3</th>\n",
              "      <td>YPL166W</td>\n",
              "      <td>YLR423C</td>\n",
              "    </tr>\n",
              "    <tr>\n",
              "      <th>4</th>\n",
              "      <td>YLR423C</td>\n",
              "      <td>YPR049C</td>\n",
              "    </tr>\n",
              "    <tr>\n",
              "      <th>...</th>\n",
              "      <td>...</td>\n",
              "      <td>...</td>\n",
              "    </tr>\n",
              "    <tr>\n",
              "      <th>1736</th>\n",
              "      <td>YML025C</td>\n",
              "      <td>YGL068W</td>\n",
              "    </tr>\n",
              "    <tr>\n",
              "      <th>1737</th>\n",
              "      <td>YML025C</td>\n",
              "      <td>YBR122C</td>\n",
              "    </tr>\n",
              "    <tr>\n",
              "      <th>1738</th>\n",
              "      <td>YML025C</td>\n",
              "      <td>YHR147C</td>\n",
              "    </tr>\n",
              "    <tr>\n",
              "      <th>1739</th>\n",
              "      <td>YMR193W</td>\n",
              "      <td>YNR022C</td>\n",
              "    </tr>\n",
              "    <tr>\n",
              "      <th>1740</th>\n",
              "      <td>YMR193W</td>\n",
              "      <td>YEL050C</td>\n",
              "    </tr>\n",
              "  </tbody>\n",
              "</table>\n",
              "<p>1741 rows × 2 columns</p>\n",
              "</div>\n",
              "      <button class=\"colab-df-convert\" onclick=\"convertToInteractive('df-83702744-e3c8-46b1-94b9-5bd04e747e50')\"\n",
              "              title=\"Convert this dataframe to an interactive table.\"\n",
              "              style=\"display:none;\">\n",
              "        \n",
              "  <svg xmlns=\"http://www.w3.org/2000/svg\" height=\"24px\"viewBox=\"0 0 24 24\"\n",
              "       width=\"24px\">\n",
              "    <path d=\"M0 0h24v24H0V0z\" fill=\"none\"/>\n",
              "    <path d=\"M18.56 5.44l.94 2.06.94-2.06 2.06-.94-2.06-.94-.94-2.06-.94 2.06-2.06.94zm-11 1L8.5 8.5l.94-2.06 2.06-.94-2.06-.94L8.5 2.5l-.94 2.06-2.06.94zm10 10l.94 2.06.94-2.06 2.06-.94-2.06-.94-.94-2.06-.94 2.06-2.06.94z\"/><path d=\"M17.41 7.96l-1.37-1.37c-.4-.4-.92-.59-1.43-.59-.52 0-1.04.2-1.43.59L10.3 9.45l-7.72 7.72c-.78.78-.78 2.05 0 2.83L4 21.41c.39.39.9.59 1.41.59.51 0 1.02-.2 1.41-.59l7.78-7.78 2.81-2.81c.8-.78.8-2.07 0-2.86zM5.41 20L4 18.59l7.72-7.72 1.47 1.35L5.41 20z\"/>\n",
              "  </svg>\n",
              "      </button>\n",
              "      \n",
              "  <style>\n",
              "    .colab-df-container {\n",
              "      display:flex;\n",
              "      flex-wrap:wrap;\n",
              "      gap: 12px;\n",
              "    }\n",
              "\n",
              "    .colab-df-convert {\n",
              "      background-color: #E8F0FE;\n",
              "      border: none;\n",
              "      border-radius: 50%;\n",
              "      cursor: pointer;\n",
              "      display: none;\n",
              "      fill: #1967D2;\n",
              "      height: 32px;\n",
              "      padding: 0 0 0 0;\n",
              "      width: 32px;\n",
              "    }\n",
              "\n",
              "    .colab-df-convert:hover {\n",
              "      background-color: #E2EBFA;\n",
              "      box-shadow: 0px 1px 2px rgba(60, 64, 67, 0.3), 0px 1px 3px 1px rgba(60, 64, 67, 0.15);\n",
              "      fill: #174EA6;\n",
              "    }\n",
              "\n",
              "    [theme=dark] .colab-df-convert {\n",
              "      background-color: #3B4455;\n",
              "      fill: #D2E3FC;\n",
              "    }\n",
              "\n",
              "    [theme=dark] .colab-df-convert:hover {\n",
              "      background-color: #434B5C;\n",
              "      box-shadow: 0px 1px 3px 1px rgba(0, 0, 0, 0.15);\n",
              "      filter: drop-shadow(0px 1px 2px rgba(0, 0, 0, 0.3));\n",
              "      fill: #FFFFFF;\n",
              "    }\n",
              "  </style>\n",
              "\n",
              "      <script>\n",
              "        const buttonEl =\n",
              "          document.querySelector('#df-83702744-e3c8-46b1-94b9-5bd04e747e50 button.colab-df-convert');\n",
              "        buttonEl.style.display =\n",
              "          google.colab.kernel.accessAllowed ? 'block' : 'none';\n",
              "\n",
              "        async function convertToInteractive(key) {\n",
              "          const element = document.querySelector('#df-83702744-e3c8-46b1-94b9-5bd04e747e50');\n",
              "          const dataTable =\n",
              "            await google.colab.kernel.invokeFunction('convertToInteractive',\n",
              "                                                     [key], {});\n",
              "          if (!dataTable) return;\n",
              "\n",
              "          const docLinkHtml = 'Like what you see? Visit the ' +\n",
              "            '<a target=\"_blank\" href=https://colab.research.google.com/notebooks/data_table.ipynb>data table notebook</a>'\n",
              "            + ' to learn more about interactive tables.';\n",
              "          element.innerHTML = '';\n",
              "          dataTable['output_type'] = 'display_data';\n",
              "          await google.colab.output.renderOutput(dataTable, element);\n",
              "          const docLink = document.createElement('div');\n",
              "          docLink.innerHTML = docLinkHtml;\n",
              "          element.appendChild(docLink);\n",
              "        }\n",
              "      </script>\n",
              "    </div>\n",
              "  </div>\n",
              "  "
            ],
            "text/plain": [
              "            0        1\n",
              "0     YPR054W  YGR032W\n",
              "1     YPR165W  YLR342W\n",
              "2     YPL166W  YDR022C\n",
              "3     YPL166W  YLR423C\n",
              "4     YLR423C  YPR049C\n",
              "...       ...      ...\n",
              "1736  YML025C  YGL068W\n",
              "1737  YML025C  YBR122C\n",
              "1738  YML025C  YHR147C\n",
              "1739  YMR193W  YNR022C\n",
              "1740  YMR193W  YEL050C\n",
              "\n",
              "[1741 rows x 2 columns]"
            ]
          },
          "execution_count": 7,
          "metadata": {},
          "output_type": "execute_result"
        }
      ],
      "source": [
        "c16_complexes = pd.read_csv('/content/Protein_Complexes_C16.csv')\n",
        "subunits = pd.read_csv('/content/Protein Subunits.csv')\n",
        "noncnv_subunits=pd.read_csv('/content/NonCNVSubunits.csv')\n",
        "\n",
        "complex_interactions = nx.Graph()\n",
        "for protein_complex in c16_complexes['chr16_complex']:\n",
        "  for complex_subunit in subunits[subunits['ComplexName'] == protein_complex]['Sysname']:\n",
        "    connections_in_protein = [k for k in all_interaction_network.neighbors(complex_subunit)]\n",
        "    noncnv_partners = noncnv_subunits[noncnv_subunits['ComplexName'] == protein_complex]['Non-CNV']\n",
        "    cnv_partners = list(set(connections_in_protein) & set(noncnv_partners))\n",
        "    for j in cnv_partners:\n",
        "      if j!=complex_subunit:\n",
        "        complex_interactions.add_edge(complex_subunit, j)\n",
        "clean_complex_interactions = pd.DataFrame(complex_interactions.edges(), columns=[0,1])\n",
        "clean_complex_interactions"
      ]
    },
    {
      "cell_type": "code",
      "execution_count": null,
      "metadata": {
        "colab": {
          "base_uri": "https://localhost:8080/"
        },
        "id": "fittGBWsy1FV",
        "outputId": "a993fbd7-3630-4f29-ef50-e14481cb509e"
      },
      "outputs": [
        {
          "data": {
            "text/plain": [
              "SpearmanrResult(correlation=0.27034741906668575, pvalue=1.7418966804949867e-08)"
            ]
          },
          "execution_count": 81,
          "metadata": {},
          "output_type": "execute_result"
        }
      ],
      "source": [
        "complex_tpm_1 = []\n",
        "complex_tpm_2 = []\n",
        "for i in range(len(clean_complex_interactions)):\n",
        "  if((clean_complex_interactions[0][i] in all_average_tpms.keys()) and (clean_complex_interactions[1][i] in all_average_tpms.keys()) and ((clean_complex_interactions[1][i] in all_average_sc_tpms.keys()) and (clean_complex_interactions[0][i] in all_average_sc_tpms.keys()) and(all_average_sc_tpms[clean_complex_interactions[0][i]] !=0) and (all_average_sc_tpms[clean_complex_interactions[1][i]] != 0))):\n",
        "    complex_tpm_1.append(all_average_tpms[clean_complex_interactions[0][i]]/all_average_sc_tpms[clean_complex_interactions[0][i]])\n",
        "    complex_tpm_2.append(all_average_tpms[clean_complex_interactions[1][i]]/all_average_sc_tpms[clean_complex_interactions[1][i]])\n",
        "  else:\n",
        "    complex_tpm_1.append('NaN')\n",
        "    complex_tpm_2.append('NaN')\n",
        "res = stats.spearmanr(complex_tpm_1, complex_tpm_2)\n",
        "res"
      ]
    },
    {
      "cell_type": "code",
      "execution_count": null,
      "metadata": {
        "colab": {
          "base_uri": "https://localhost:8080/"
        },
        "id": "eTcJjQnYHkrS",
        "outputId": "e8cd3d5c-cf1b-4f45-dc14-c3aeaa5e0c5a"
      },
      "outputs": [
        {
          "data": {
            "text/plain": [
              "SpearmanrResult(correlation=0.42392010040628564, pvalue=8.611319312544371e-20)"
            ]
          },
          "execution_count": 52,
          "metadata": {},
          "output_type": "execute_result"
        }
      ],
      "source": [
        "complex_tpm_1 = []\n",
        "complex_tpm_2 = []\n",
        "for i in range(len(clean_complex_interactions)):\n",
        "  if((clean_complex_interactions[0][i] in all_average_tpms.keys()) and (clean_complex_interactions[1][i] in all_average_tpms.keys())):\n",
        "    complex_tpm_1.append(all_average_tpms[clean_complex_interactions[0][i]])\n",
        "    complex_tpm_2.append(all_average_tpms[clean_complex_interactions[1][i]])\n",
        "\n",
        "res = stats.spearmanr(complex_tpm_1, complex_tpm_2)\n",
        "res"
      ]
    },
    {
      "cell_type": "code",
      "execution_count": null,
      "metadata": {
        "colab": {
          "base_uri": "https://localhost:8080/",
          "height": 937
        },
        "id": "molTBsW1OB57",
        "outputId": "6d60d9da-9bf4-4031-a73c-7da8436a7f03"
      },
      "outputs": [
        {
          "data": {
            "text/html": [
              "<html>\n",
              "<head><meta charset=\"utf-8\" /></head>\n",
              "<body>\n",
              "    <div>            <script src=\"https://cdnjs.cloudflare.com/ajax/libs/mathjax/2.7.5/MathJax.js?config=TeX-AMS-MML_SVG\"></script><script type=\"text/javascript\">if (window.MathJax) {MathJax.Hub.Config({SVG: {font: \"STIX-Web\"}});}</script>                <script type=\"text/javascript\">window.PlotlyConfig = {MathJaxConfig: 'local'};</script>\n",
              "        <script src=\"https://cdn.plot.ly/plotly-2.8.3.min.js\"></script>                <div id=\"43ea07b3-988d-4844-9089-c18598bb67f8\" class=\"plotly-graph-div\" style=\"height:900px; width:1500px;\"></div>            <script type=\"text/javascript\">                                    window.PLOTLYENV=window.PLOTLYENV || {};                                    if (document.getElementById(\"43ea07b3-988d-4844-9089-c18598bb67f8\")) {                    Plotly.newPlot(                        \"43ea07b3-988d-4844-9089-c18598bb67f8\",                        [{\"hovertemplate\":\"Transcript per million_x=%{x}<br>Transcript per million_y=%{y}<extra></extra>\",\"legendgroup\":\"\",\"marker\":{\"color\":\"black\",\"symbol\":\"circle\"},\"mode\":\"markers\",\"name\":\"\",\"orientation\":\"v\",\"showlegend\":false,\"x\":[13.5,7.5,3.25,1881.75,35.0,31.5,20.0,3.5,14.25,8.5,12.5,32.25,23.75,91.25,63.25,25.0,59.25,19.5,154.0,20.5,33.5,6.5,77.75,12.75,23.5,1162.75,58.0,121.5,20.0,10.75,18.75,14.25,32.75,75.25,12.5,17.0,61.5,65.25,80.75,244.5,16.25,29.25,154.0,19.0,102.5,59.75,12.75,1.0,14.25,155.75,36.5,14.25,28.25,14.25,28.25,48.75,118.0,263.5,165.25,373.75,373.75,60.75,60.75,59.25,154.0,32.75,52.5,52.5,45.25,35.25,7.0,244.5,68.5,22.25,22.25,27.75,41.5,106.5,148.0,1792.5,154.0,37.0,85.25,29.25,244.5,19.75,53.0,12.25,73.0,38.5,29.5,20.75,12.5,32.25,59.25,23.75,63.25,19.5,91.25,25.0,22.0,49.0,49.0,17.0,10.75,10.75,119.0,41.0,74.25,183.25,183.25,14.0,64.5,244.5,16.25,29.25,87.5,48.75,48.75,91.25,24.0,38.75,245.75,24.0,38.75,19.5,245.75,12.5,32.25,59.25,23.75,63.25,25.0,38.75,245.75,22.25,55.75,75.25,79.25,79.25,75.25,79.25,8.75,29.5,29.5,144.25,143.5,20.0,143.5,20.0,414.0,102.5,102.5,2485.75,35.25,9.5,18.5,17.25,24.75,9.5,18.5,18.5,35.25,85.25,77.0,502.25,27.0,14.25,21.5,15.0,8.75,10.75,47.75,139.75,27.0,15.0,14.25,8.75,21.5,20.25,10.75,15.5,47.75,81.5,23.5,28.25,14.25,15.5,8.75,21.5,15.5,8.75,21.5,8.75,21.5,353.0,77.75,77.75,204.25,124.0,137.5,124.0,137.5,137.5,26.75,12.25,73.0,53.0,53.0,73.0,53.0,794.5,63.75,459.75,78.25,33.0,65.75,794.5,63.75,78.25,33.0,65.75,27.0,30.75,14.5,22.25,20.25,14.5,22.25,20.25,20.25,22.25,20.25,38.5,20.75,20.75,201.75,102.0,57.0,245.75,12.5,32.25,59.25,23.75,63.25,25.0,47.75,10.75,15.5,81.5,10.75,15.5,81.5,15.5,81.5,81.5,31.75,171.0,113.25,206.75,59.75,171.0,54.25,113.25,206.75,137.5,59.75,54.25,113.25,206.75,137.5,59.75,54.25,206.75,137.5,59.75,54.25,54.25,137.5,32.25,23.75,63.25,25.0,59.25,23.75,63.25,25.0,59.25,59.25,63.25,25.0,59.25,25.0,59.25,63.75,78.25,33.0,65.75,78.25,33.0,65.75,33.0,65.75,65.75,26.5,52.75,48.0,77.25,73.25,44.75,42.5,53.0,50.75,42.25,53.0,48.0,52.75,77.25,73.25,44.75,50.75,42.25,53.0,48.0,44.75,73.25,42.25,53.0,44.75,77.25,42.5,50.75,53.0,50.75,42.25,73.25,44.75,53.0,44.75,53.0,50.75,42.25,42.5,53.0,50.75,42.25,50.75,42.25,42.25,879.25,776.25,530.75,2274.0,2272.25,1489.5,2274.0,776.25,530.75,1489.5,2272.25,2274.0,530.75,1489.5,2272.25,2274.0,1489.5,2272.25,1489.5,1489.5,25.0,58.25,35.25,36.5,32.75,79.25,15.5,79.25,35.25,15.5,36.5,58.25,32.75,79.25,35.25,15.5,36.5,32.75,79.25,36.5,32.75,15.5,79.25,15.5,32.75,20.75,79.25,15.5,15.5,20.75,1324.25,2925.75,271.5,1120.5,525.5,5149.25,2925.75,1457.25,129.25,105.75,78.25,61.75,75.5,63.25,21.25,78.25,57.0,57.0,63.25,61.75,78.25,61.75],\"xaxis\":\"x\",\"y\":[55.75,8.0,18.75,87.5,17.0,35.0,9.5,23.75,13.25,178.0,178.0,178.0,178.0,178.0,178.0,178.0,178.0,178.0,178.0,8.5,8.5,9.5,236.75,12.5,34.5,21.25,537.75,30.0,6.75,161.0,19.25,68.0,14.25,692.0,19.25,30.0,10.0,26.75,170.5,80.75,80.75,80.75,80.75,104.0,29.0,283.75,9.5,19.25,16.0,105.0,16.0,16.0,16.0,36.5,36.5,20.0,565.0,64.75,72.75,72.75,165.25,165.25,373.75,373.75,373.75,13.25,13.25,32.75,32.75,32.75,52.5,52.5,30.5,30.5,68.5,10.5,27.75,41.75,41.75,41.75,59.25,59.25,59.25,154.0,154.0,154.0,154.0,154.0,154.0,154.0,154.0,154.0,154.0,154.0,154.0,154.0,154.0,154.0,154.0,154.0,36.0,36.0,22.0,15.0,15.0,17.0,86.75,119.0,84.0,84.0,74.25,8.75,14.0,7.0,244.5,244.5,100.0,100.0,87.5,18.75,18.75,18.75,18.75,91.25,91.25,91.25,91.25,91.25,91.25,91.25,91.25,91.25,91.25,24.0,24.0,123.0,93.25,93.25,93.25,55.75,55.75,75.25,4.75,4.75,8.75,230.5,230.5,144.25,144.25,143.5,3774.25,3774.25,414.0,102.5,15.25,15.25,15.25,15.25,15.25,35.25,35.25,9.5,45.25,37.0,289.75,289.75,289.75,289.75,289.75,289.75,289.75,289.75,289.75,77.0,139.75,139.75,139.75,139.75,139.75,139.75,139.75,139.75,139.75,139.75,11.0,14.25,15.0,15.0,15.0,15.0,14.25,14.25,14.25,15.5,8.75,269.75,269.75,353.0,195.25,195.25,195.25,204.25,204.25,124.0,17.25,19.75,19.75,19.75,12.25,12.25,73.0,73.0,73.0,73.0,73.0,73.0,73.0,53.0,53.0,53.0,53.0,53.0,502.25,17.5,17.5,17.5,17.5,30.75,30.75,30.75,14.5,14.5,22.25,29.5,29.5,38.5,85.5,201.75,201.75,38.75,19.5,19.5,19.5,19.5,19.5,19.5,20.25,20.25,20.25,20.25,47.75,47.75,47.75,10.75,10.75,15.5,60.25,60.25,60.25,60.25,31.75,31.75,31.75,31.75,31.75,31.75,171.0,171.0,171.0,171.0,171.0,113.25,113.25,113.25,113.25,206.75,206.75,59.75,54.25,12.5,12.5,12.5,12.5,12.5,32.25,32.25,32.25,32.25,23.75,23.75,23.75,63.25,63.25,25.0,794.5,794.5,794.5,794.5,63.75,63.75,63.75,78.25,78.25,33.0,120.75,120.75,120.75,120.75,120.75,120.75,120.75,120.75,120.75,120.75,26.5,26.5,26.5,26.5,26.5,26.5,26.5,26.5,52.75,52.75,52.75,52.75,52.75,48.0,48.0,48.0,48.0,48.0,77.25,77.25,77.25,77.25,77.25,73.25,73.25,44.75,44.75,44.75,44.75,42.5,42.5,42.5,53.0,53.0,50.75,1498.25,1498.25,1498.25,1498.25,1498.25,1498.25,879.25,879.25,879.25,879.25,776.25,776.25,776.25,776.25,530.75,530.75,530.75,2274.0,2274.0,2272.25,38.25,38.25,38.25,38.25,38.25,38.25,38.25,25.0,25.0,25.0,25.0,25.0,25.0,58.25,58.25,58.25,58.25,58.25,35.25,35.25,35.25,35.25,36.5,36.5,36.5,36.5,32.75,32.75,79.25,79.25,1027.75,1027.75,1027.75,1027.75,1027.75,1027.75,1324.25,2118.0,77.0,129.25,129.25,129.25,105.75,105.75,105.75,105.75,105.75,75.5,75.5,75.5,75.5,63.25],\"yaxis\":\"y\",\"type\":\"scatter\"},{\"x\":[0.0,52.01262626262626,104.02525252525253,156.03787878787878,208.05050505050505,260.0631313131313,312.07575757575756,364.08838383838383,416.1010101010101,468.1136363636364,520.1262626262626,572.1388888888889,624.1515151515151,676.1641414141415,728.1767676767677,780.189393939394,832.2020202020202,884.2146464646464,936.2272727272727,988.239898989899,1040.2525252525252,1092.2651515151515,1144.2777777777778,1196.2904040404042,1248.3030303030303,1300.3156565656566,1352.328282828283,1404.340909090909,1456.3535353535353,1508.3661616161617,1560.378787878788,1612.391414141414,1664.4040404040404,1716.4166666666667,1768.4292929292928,1820.4419191919192,1872.4545454545455,1924.4671717171718,1976.479797979798,2028.4924242424242,2080.5050505050503,2132.5176767676767,2184.530303030303,2236.5429292929293,2288.5555555555557,2340.568181818182,2392.5808080808083,2444.593434343434,2496.6060606060605,2548.618686868687,2600.631313131313,2652.6439393939395,2704.656565656566,2756.669191919192,2808.681818181818,2860.6944444444443,2912.7070707070707,2964.719696969697,3016.7323232323233,3068.7449494949497,3120.757575757576,3172.770202020202,3224.782828282828,3276.7954545454545,3328.808080808081,3380.820707070707,3432.8333333333335,3484.84595959596,3536.8585858585857,3588.871212121212,3640.8838383838383,3692.8964646464647,3744.909090909091,3796.9217171717173,3848.9343434343436,3900.9469696969695,3952.959595959596,4004.972222222222,4056.9848484848485,4108.997474747474,4161.010101010101,4213.022727272727,4265.035353535353,4317.04797979798,4369.060606060606,4421.073232323232,4473.085858585859,4525.098484848485,4577.111111111111,4629.123737373738,4681.136363636364,4733.14898989899,4785.161616161617,4837.174242424242,4889.186868686868,4941.199494949495,4993.212121212121,5045.224747474747,5097.237373737374,5149.25],\"y\":[103.73986008418858,125.5015422164299,147.2632243486712,169.02490648091253,190.78658861315387,212.54827074539514,234.30995287763648,256.0716350098778,277.83331714211914,299.5949992743604,321.35668140660175,343.1183635388431,364.8800456710844,386.64172780332575,408.403409935567,430.16509206780836,451.9267742000497,473.68845633229097,495.4501384645323,517.2118205967736,538.9735027290149,560.7351848612562,582.4968669934975,604.2585491257389,626.0202312579802,647.7819133902215,669.5435955224629,691.3052776547041,713.0669597869454,734.8286419191868,756.5903240514281,778.3520061836693,800.1136883159107,821.875370448152,843.6370525803933,865.3987347126347,887.160416844876,908.9220989771173,930.6837811093586,952.4454632415999,974.2071453738412,995.9688275060826,1017.7305096383238,1039.4921917705653,1061.2538739028066,1083.015556035048,1104.7772381672894,1126.5389202995304,1148.300602431772,1170.0622845640132,1191.8239666962545,1213.585648828496,1235.3473309607373,1257.1090130929786,1278.8706952252198,1300.632377357461,1322.3940594897024,1344.1557416219437,1365.9174237541852,1387.6791058864264,1409.4407880186677,1431.202470150909,1452.9641522831503,1474.7258344153915,1496.487516547633,1518.2491986798743,1540.0108808121156,1561.772562944357,1583.5342450765982,1605.2959272088394,1627.057609341081,1648.8192914733222,1670.5809736055635,1692.342655737805,1714.1043378700463,1735.8660200022873,1757.6277021345288,1779.38938426677,1801.1510663990114,1822.9127485312526,1844.674430663494,1866.4361127957352,1888.1977949279767,1909.959477060218,1931.7211591924593,1953.4828413247008,1975.244523456942,1997.0062055891833,2018.7678877214246,2040.529569853666,2062.2912519859074,2084.0529341181486,2105.81461625039,2127.5762983826307,2149.3379805148725,2171.0996626471133,2192.861344779355,2214.6230269115963,2236.3847090438376,2258.146391176079],\"type\":\"scatter\",\"marker\":{\"color\":\"black\"}}],                        {\"template\":{\"data\":{\"bar\":[{\"error_x\":{\"color\":\"#2a3f5f\"},\"error_y\":{\"color\":\"#2a3f5f\"},\"marker\":{\"line\":{\"color\":\"#E5ECF6\",\"width\":0.5},\"pattern\":{\"fillmode\":\"overlay\",\"size\":10,\"solidity\":0.2}},\"type\":\"bar\"}],\"barpolar\":[{\"marker\":{\"line\":{\"color\":\"#E5ECF6\",\"width\":0.5},\"pattern\":{\"fillmode\":\"overlay\",\"size\":10,\"solidity\":0.2}},\"type\":\"barpolar\"}],\"carpet\":[{\"aaxis\":{\"endlinecolor\":\"#2a3f5f\",\"gridcolor\":\"white\",\"linecolor\":\"white\",\"minorgridcolor\":\"white\",\"startlinecolor\":\"#2a3f5f\"},\"baxis\":{\"endlinecolor\":\"#2a3f5f\",\"gridcolor\":\"white\",\"linecolor\":\"white\",\"minorgridcolor\":\"white\",\"startlinecolor\":\"#2a3f5f\"},\"type\":\"carpet\"}],\"choropleth\":[{\"colorbar\":{\"outlinewidth\":0,\"ticks\":\"\"},\"type\":\"choropleth\"}],\"contour\":[{\"colorbar\":{\"outlinewidth\":0,\"ticks\":\"\"},\"colorscale\":[[0.0,\"#0d0887\"],[0.1111111111111111,\"#46039f\"],[0.2222222222222222,\"#7201a8\"],[0.3333333333333333,\"#9c179e\"],[0.4444444444444444,\"#bd3786\"],[0.5555555555555556,\"#d8576b\"],[0.6666666666666666,\"#ed7953\"],[0.7777777777777778,\"#fb9f3a\"],[0.8888888888888888,\"#fdca26\"],[1.0,\"#f0f921\"]],\"type\":\"contour\"}],\"contourcarpet\":[{\"colorbar\":{\"outlinewidth\":0,\"ticks\":\"\"},\"type\":\"contourcarpet\"}],\"heatmap\":[{\"colorbar\":{\"outlinewidth\":0,\"ticks\":\"\"},\"colorscale\":[[0.0,\"#0d0887\"],[0.1111111111111111,\"#46039f\"],[0.2222222222222222,\"#7201a8\"],[0.3333333333333333,\"#9c179e\"],[0.4444444444444444,\"#bd3786\"],[0.5555555555555556,\"#d8576b\"],[0.6666666666666666,\"#ed7953\"],[0.7777777777777778,\"#fb9f3a\"],[0.8888888888888888,\"#fdca26\"],[1.0,\"#f0f921\"]],\"type\":\"heatmap\"}],\"heatmapgl\":[{\"colorbar\":{\"outlinewidth\":0,\"ticks\":\"\"},\"colorscale\":[[0.0,\"#0d0887\"],[0.1111111111111111,\"#46039f\"],[0.2222222222222222,\"#7201a8\"],[0.3333333333333333,\"#9c179e\"],[0.4444444444444444,\"#bd3786\"],[0.5555555555555556,\"#d8576b\"],[0.6666666666666666,\"#ed7953\"],[0.7777777777777778,\"#fb9f3a\"],[0.8888888888888888,\"#fdca26\"],[1.0,\"#f0f921\"]],\"type\":\"heatmapgl\"}],\"histogram\":[{\"marker\":{\"pattern\":{\"fillmode\":\"overlay\",\"size\":10,\"solidity\":0.2}},\"type\":\"histogram\"}],\"histogram2d\":[{\"colorbar\":{\"outlinewidth\":0,\"ticks\":\"\"},\"colorscale\":[[0.0,\"#0d0887\"],[0.1111111111111111,\"#46039f\"],[0.2222222222222222,\"#7201a8\"],[0.3333333333333333,\"#9c179e\"],[0.4444444444444444,\"#bd3786\"],[0.5555555555555556,\"#d8576b\"],[0.6666666666666666,\"#ed7953\"],[0.7777777777777778,\"#fb9f3a\"],[0.8888888888888888,\"#fdca26\"],[1.0,\"#f0f921\"]],\"type\":\"histogram2d\"}],\"histogram2dcontour\":[{\"colorbar\":{\"outlinewidth\":0,\"ticks\":\"\"},\"colorscale\":[[0.0,\"#0d0887\"],[0.1111111111111111,\"#46039f\"],[0.2222222222222222,\"#7201a8\"],[0.3333333333333333,\"#9c179e\"],[0.4444444444444444,\"#bd3786\"],[0.5555555555555556,\"#d8576b\"],[0.6666666666666666,\"#ed7953\"],[0.7777777777777778,\"#fb9f3a\"],[0.8888888888888888,\"#fdca26\"],[1.0,\"#f0f921\"]],\"type\":\"histogram2dcontour\"}],\"mesh3d\":[{\"colorbar\":{\"outlinewidth\":0,\"ticks\":\"\"},\"type\":\"mesh3d\"}],\"parcoords\":[{\"line\":{\"colorbar\":{\"outlinewidth\":0,\"ticks\":\"\"}},\"type\":\"parcoords\"}],\"pie\":[{\"automargin\":true,\"type\":\"pie\"}],\"scatter\":[{\"marker\":{\"colorbar\":{\"outlinewidth\":0,\"ticks\":\"\"}},\"type\":\"scatter\"}],\"scatter3d\":[{\"line\":{\"colorbar\":{\"outlinewidth\":0,\"ticks\":\"\"}},\"marker\":{\"colorbar\":{\"outlinewidth\":0,\"ticks\":\"\"}},\"type\":\"scatter3d\"}],\"scattercarpet\":[{\"marker\":{\"colorbar\":{\"outlinewidth\":0,\"ticks\":\"\"}},\"type\":\"scattercarpet\"}],\"scattergeo\":[{\"marker\":{\"colorbar\":{\"outlinewidth\":0,\"ticks\":\"\"}},\"type\":\"scattergeo\"}],\"scattergl\":[{\"marker\":{\"colorbar\":{\"outlinewidth\":0,\"ticks\":\"\"}},\"type\":\"scattergl\"}],\"scattermapbox\":[{\"marker\":{\"colorbar\":{\"outlinewidth\":0,\"ticks\":\"\"}},\"type\":\"scattermapbox\"}],\"scatterpolar\":[{\"marker\":{\"colorbar\":{\"outlinewidth\":0,\"ticks\":\"\"}},\"type\":\"scatterpolar\"}],\"scatterpolargl\":[{\"marker\":{\"colorbar\":{\"outlinewidth\":0,\"ticks\":\"\"}},\"type\":\"scatterpolargl\"}],\"scatterternary\":[{\"marker\":{\"colorbar\":{\"outlinewidth\":0,\"ticks\":\"\"}},\"type\":\"scatterternary\"}],\"surface\":[{\"colorbar\":{\"outlinewidth\":0,\"ticks\":\"\"},\"colorscale\":[[0.0,\"#0d0887\"],[0.1111111111111111,\"#46039f\"],[0.2222222222222222,\"#7201a8\"],[0.3333333333333333,\"#9c179e\"],[0.4444444444444444,\"#bd3786\"],[0.5555555555555556,\"#d8576b\"],[0.6666666666666666,\"#ed7953\"],[0.7777777777777778,\"#fb9f3a\"],[0.8888888888888888,\"#fdca26\"],[1.0,\"#f0f921\"]],\"type\":\"surface\"}],\"table\":[{\"cells\":{\"fill\":{\"color\":\"#EBF0F8\"},\"line\":{\"color\":\"white\"}},\"header\":{\"fill\":{\"color\":\"#C8D4E3\"},\"line\":{\"color\":\"white\"}},\"type\":\"table\"}]},\"layout\":{\"annotationdefaults\":{\"arrowcolor\":\"#2a3f5f\",\"arrowhead\":0,\"arrowwidth\":1},\"autotypenumbers\":\"strict\",\"coloraxis\":{\"colorbar\":{\"outlinewidth\":0,\"ticks\":\"\"}},\"colorscale\":{\"diverging\":[[0,\"#8e0152\"],[0.1,\"#c51b7d\"],[0.2,\"#de77ae\"],[0.3,\"#f1b6da\"],[0.4,\"#fde0ef\"],[0.5,\"#f7f7f7\"],[0.6,\"#e6f5d0\"],[0.7,\"#b8e186\"],[0.8,\"#7fbc41\"],[0.9,\"#4d9221\"],[1,\"#276419\"]],\"sequential\":[[0.0,\"#0d0887\"],[0.1111111111111111,\"#46039f\"],[0.2222222222222222,\"#7201a8\"],[0.3333333333333333,\"#9c179e\"],[0.4444444444444444,\"#bd3786\"],[0.5555555555555556,\"#d8576b\"],[0.6666666666666666,\"#ed7953\"],[0.7777777777777778,\"#fb9f3a\"],[0.8888888888888888,\"#fdca26\"],[1.0,\"#f0f921\"]],\"sequentialminus\":[[0.0,\"#0d0887\"],[0.1111111111111111,\"#46039f\"],[0.2222222222222222,\"#7201a8\"],[0.3333333333333333,\"#9c179e\"],[0.4444444444444444,\"#bd3786\"],[0.5555555555555556,\"#d8576b\"],[0.6666666666666666,\"#ed7953\"],[0.7777777777777778,\"#fb9f3a\"],[0.8888888888888888,\"#fdca26\"],[1.0,\"#f0f921\"]]},\"colorway\":[\"#636efa\",\"#EF553B\",\"#00cc96\",\"#ab63fa\",\"#FFA15A\",\"#19d3f3\",\"#FF6692\",\"#B6E880\",\"#FF97FF\",\"#FECB52\"],\"font\":{\"color\":\"#2a3f5f\"},\"geo\":{\"bgcolor\":\"white\",\"lakecolor\":\"white\",\"landcolor\":\"#E5ECF6\",\"showlakes\":true,\"showland\":true,\"subunitcolor\":\"white\"},\"hoverlabel\":{\"align\":\"left\"},\"hovermode\":\"closest\",\"mapbox\":{\"style\":\"light\"},\"paper_bgcolor\":\"white\",\"plot_bgcolor\":\"#E5ECF6\",\"polar\":{\"angularaxis\":{\"gridcolor\":\"white\",\"linecolor\":\"white\",\"ticks\":\"\"},\"bgcolor\":\"#E5ECF6\",\"radialaxis\":{\"gridcolor\":\"white\",\"linecolor\":\"white\",\"ticks\":\"\"}},\"scene\":{\"xaxis\":{\"backgroundcolor\":\"#E5ECF6\",\"gridcolor\":\"white\",\"gridwidth\":2,\"linecolor\":\"white\",\"showbackground\":true,\"ticks\":\"\",\"zerolinecolor\":\"white\"},\"yaxis\":{\"backgroundcolor\":\"#E5ECF6\",\"gridcolor\":\"white\",\"gridwidth\":2,\"linecolor\":\"white\",\"showbackground\":true,\"ticks\":\"\",\"zerolinecolor\":\"white\"},\"zaxis\":{\"backgroundcolor\":\"#E5ECF6\",\"gridcolor\":\"white\",\"gridwidth\":2,\"linecolor\":\"white\",\"showbackground\":true,\"ticks\":\"\",\"zerolinecolor\":\"white\"}},\"shapedefaults\":{\"line\":{\"color\":\"#2a3f5f\"}},\"ternary\":{\"aaxis\":{\"gridcolor\":\"white\",\"linecolor\":\"white\",\"ticks\":\"\"},\"baxis\":{\"gridcolor\":\"white\",\"linecolor\":\"white\",\"ticks\":\"\"},\"bgcolor\":\"#E5ECF6\",\"caxis\":{\"gridcolor\":\"white\",\"linecolor\":\"white\",\"ticks\":\"\"}},\"title\":{\"x\":0.05},\"xaxis\":{\"automargin\":true,\"gridcolor\":\"white\",\"linecolor\":\"white\",\"ticks\":\"\",\"title\":{\"standoff\":15},\"zerolinecolor\":\"white\",\"zerolinewidth\":2},\"yaxis\":{\"automargin\":true,\"gridcolor\":\"white\",\"linecolor\":\"white\",\"ticks\":\"\",\"title\":{\"standoff\":15},\"zerolinecolor\":\"white\",\"zerolinewidth\":2}}},\"xaxis\":{\"anchor\":\"y\",\"domain\":[0.0,1.0],\"title\":{\"text\":\"<b>Gene Expression of Aneuploid Partner</b>\",\"font\":{\"family\":\"Arial\",\"color\":\"black\",\"size\":32}},\"tickfont\":{\"family\":\"Arial Black\"},\"range\":[0,3500],\"nticks\":10,\"showline\":true,\"linewidth\":2,\"linecolor\":\"black\",\"automargin\":true,\"ticks\":\"outside\",\"tickwidth\":2,\"tickcolor\":\"black\"},\"yaxis\":{\"anchor\":\"x\",\"domain\":[0.0,1.0],\"title\":{\"text\":\"<b>Gene Expression of Aneuploid Partner</b>\",\"font\":{\"color\":\"black\",\"family\":\"Arial\",\"size\":32}},\"tickfont\":{\"family\":\"Arial Black\"},\"range\":[0,3500],\"nticks\":10,\"showline\":true,\"linewidth\":2,\"linecolor\":\"black\",\"automargin\":true,\"ticks\":\"outside\",\"tickwidth\":2,\"tickcolor\":\"black\"},\"legend\":{\"tracegroupgap\":0},\"margin\":{\"t\":60},\"height\":900,\"width\":1500,\"title\":{\"text\":\"<b>Gene Expressions of Aneuploid to Aneuploid Interaction Partners in chr16's Complexes</b>\",\"font\":{\"family\":\"Arial\",\"size\":34}},\"font\":{\"family\":\"Arial\",\"size\":24,\"color\":\"black\"},\"plot_bgcolor\":\"rgba(0,0,0,0)\"},                        {\"responsive\": true}                    ).then(function(){\n",
              "                            \n",
              "var gd = document.getElementById('43ea07b3-988d-4844-9089-c18598bb67f8');\n",
              "var x = new MutationObserver(function (mutations, observer) {{\n",
              "        var display = window.getComputedStyle(gd).display;\n",
              "        if (!display || display === 'none') {{\n",
              "            console.log([gd, 'removed!']);\n",
              "            Plotly.purge(gd);\n",
              "            observer.disconnect();\n",
              "        }}\n",
              "}});\n",
              "\n",
              "// Listen for the removal of the full notebook cells\n",
              "var notebookContainer = gd.closest('#notebook-container');\n",
              "if (notebookContainer) {{\n",
              "    x.observe(notebookContainer, {childList: true});\n",
              "}}\n",
              "\n",
              "// Listen for the clearing of the current output cell\n",
              "var outputEl = gd.closest('.output');\n",
              "if (outputEl) {{\n",
              "    x.observe(outputEl, {childList: true});\n",
              "}}\n",
              "\n",
              "                        })                };                            </script>        </div>\n",
              "</body>\n",
              "</html>"
            ]
          },
          "metadata": {},
          "output_type": "display_data"
        }
      ],
      "source": [
        "import numpy as np\n",
        "import plotly.express as px\n",
        "import plotly.graph_objects as go\n",
        "from sklearn.linear_model import LinearRegression\n",
        "\n",
        "y= np.array(complex_tpm_1)\n",
        "X = np.array(complex_tpm_2)\n",
        "df=pd.DataFrame()\n",
        "df['Transcript per million_x'] = X\n",
        "df['Transcript per million_y'] = y\n",
        "\n",
        "# y=np.array(complex_tpm_2)\n",
        "# X = np.array(complex_tpm_1)\n",
        "model = LinearRegression()\n",
        "model.fit(X.reshape(-1, 1), y)\n",
        "\n",
        "x_range = np.linspace(0, X.max(), 100)\n",
        "y_range = model.predict(x_range.reshape(-1, 1))\n",
        "fig = px.scatter(df, x='Transcript per million_x', y='Transcript per million_y', height=900, width=1500)\n",
        "fig.add_traces(go.Scatter(x=x_range, y=y_range))\n",
        "fig.update_traces(marker=dict(color='black'))\n",
        "fig.update_layout(\n",
        "    title=\"<b>Gene Expressions of Aneuploid to Aneuploid Interaction Partners in chr16's Complexes</b>\",\n",
        "    plot_bgcolor='rgba(0,0,0,0)',\n",
        "    title_font_family=\"Arial\",\n",
        "    title_font_size=34,\n",
        "    font=dict(\n",
        "        family=\"Arial\",\n",
        "        size=24,\n",
        "        color=\"black\"\n",
        "    ))\n",
        "fig.update_xaxes(range=[0,3500],\n",
        "                 title=\"<b>Gene Expression of Aneuploid Partner</b>\",\n",
        "                nticks=10,\n",
        "                 title_font_family=\"Arial\",\n",
        "                 title_font_color=\"black\",\n",
        "                 title_font_size=32,\n",
        "                 tickfont_family=\"Arial Black\",\n",
        "                 showline=True, linewidth=2, linecolor='black', \n",
        "                 automargin=True,\n",
        "                #  title_standoff = 10,\n",
        "                 ticks=\"outside\", tickwidth=2, tickcolor='black')\n",
        "# fig.add_annotation(x=3000, y=2000000,\n",
        "#                    textangle=-6,\n",
        "#                    yshift=5,\n",
        "#             text=\"Spearman Rank Correlation = 0.06, pvalue>0.05 n.s.\",\n",
        "#             showarrow=True,\n",
        "#             arrowhead=1)\n",
        "fig.update_yaxes(range=[0,3500],\n",
        "    # range=[0,np.max(df['Transcript per million_x'])],\n",
        "                  title=\"<b>Gene Expression of Aneuploid Partner</b>\",\n",
        "                 title_font_color=\"black\",\n",
        "                  nticks=10,\n",
        "                 title_font_family=\"Arial\",\n",
        "                 title_font_size=32,\n",
        "                 tickfont_family=\"Arial Black\",\n",
        "                 showline=True, linewidth=2, linecolor='black', \n",
        "                 automargin=True,\n",
        "                #  title_standoff = 10,\n",
        "                 ticks=\"outside\", tickwidth=2, tickcolor='black')\n",
        "fig.show()"
      ]
    },
    {
      "cell_type": "code",
      "execution_count": null,
      "metadata": {
        "colab": {
          "base_uri": "https://localhost:8080/",
          "height": 424
        },
        "id": "2fOjBgIDlZiQ",
        "outputId": "c412e27d-9502-4a57-aba5-9a908a43e215"
      },
      "outputs": [
        {
          "data": {
            "text/html": [
              "\n",
              "  <div id=\"df-711df3d3-28dd-45ae-8005-dee23d70df3f\">\n",
              "    <div class=\"colab-df-container\">\n",
              "      <div>\n",
              "<style scoped>\n",
              "    .dataframe tbody tr th:only-of-type {\n",
              "        vertical-align: middle;\n",
              "    }\n",
              "\n",
              "    .dataframe tbody tr th {\n",
              "        vertical-align: top;\n",
              "    }\n",
              "\n",
              "    .dataframe thead th {\n",
              "        text-align: right;\n",
              "    }\n",
              "</style>\n",
              "<table border=\"1\" class=\"dataframe\">\n",
              "  <thead>\n",
              "    <tr style=\"text-align: right;\">\n",
              "      <th></th>\n",
              "      <th>chr16_complex</th>\n",
              "    </tr>\n",
              "  </thead>\n",
              "  <tbody>\n",
              "    <tr>\n",
              "      <th>0</th>\n",
              "      <td>putative Pcl8-Pho85 CDK-cyclin complex</td>\n",
              "    </tr>\n",
              "    <tr>\n",
              "      <th>1</th>\n",
              "      <td>Ula1-Uba3 enzyme complex</td>\n",
              "    </tr>\n",
              "    <tr>\n",
              "      <th>2</th>\n",
              "      <td>small nuclear ribonucleoprotein complex (GO)</td>\n",
              "    </tr>\n",
              "    <tr>\n",
              "      <th>3</th>\n",
              "      <td>1,3-beta-glucan synthase complex</td>\n",
              "    </tr>\n",
              "    <tr>\n",
              "      <th>4</th>\n",
              "      <td>Atg11-Atg17-Atg29-Cis1 complex</td>\n",
              "    </tr>\n",
              "    <tr>\n",
              "      <th>...</th>\n",
              "      <td>...</td>\n",
              "    </tr>\n",
              "    <tr>\n",
              "      <th>99</th>\n",
              "      <td>90S preribosome</td>\n",
              "    </tr>\n",
              "    <tr>\n",
              "      <th>100</th>\n",
              "      <td>cytoplasmic ribosomal small subunit</td>\n",
              "    </tr>\n",
              "    <tr>\n",
              "      <th>101</th>\n",
              "      <td>nuclear pore</td>\n",
              "    </tr>\n",
              "    <tr>\n",
              "      <th>102</th>\n",
              "      <td>cytoplasmic ribosomal large subunit</td>\n",
              "    </tr>\n",
              "    <tr>\n",
              "      <th>103</th>\n",
              "      <td>mitochondtrial large ribosomal subunit</td>\n",
              "    </tr>\n",
              "  </tbody>\n",
              "</table>\n",
              "<p>104 rows × 1 columns</p>\n",
              "</div>\n",
              "      <button class=\"colab-df-convert\" onclick=\"convertToInteractive('df-711df3d3-28dd-45ae-8005-dee23d70df3f')\"\n",
              "              title=\"Convert this dataframe to an interactive table.\"\n",
              "              style=\"display:none;\">\n",
              "        \n",
              "  <svg xmlns=\"http://www.w3.org/2000/svg\" height=\"24px\"viewBox=\"0 0 24 24\"\n",
              "       width=\"24px\">\n",
              "    <path d=\"M0 0h24v24H0V0z\" fill=\"none\"/>\n",
              "    <path d=\"M18.56 5.44l.94 2.06.94-2.06 2.06-.94-2.06-.94-.94-2.06-.94 2.06-2.06.94zm-11 1L8.5 8.5l.94-2.06 2.06-.94-2.06-.94L8.5 2.5l-.94 2.06-2.06.94zm10 10l.94 2.06.94-2.06 2.06-.94-2.06-.94-.94-2.06-.94 2.06-2.06.94z\"/><path d=\"M17.41 7.96l-1.37-1.37c-.4-.4-.92-.59-1.43-.59-.52 0-1.04.2-1.43.59L10.3 9.45l-7.72 7.72c-.78.78-.78 2.05 0 2.83L4 21.41c.39.39.9.59 1.41.59.51 0 1.02-.2 1.41-.59l7.78-7.78 2.81-2.81c.8-.78.8-2.07 0-2.86zM5.41 20L4 18.59l7.72-7.72 1.47 1.35L5.41 20z\"/>\n",
              "  </svg>\n",
              "      </button>\n",
              "      \n",
              "  <style>\n",
              "    .colab-df-container {\n",
              "      display:flex;\n",
              "      flex-wrap:wrap;\n",
              "      gap: 12px;\n",
              "    }\n",
              "\n",
              "    .colab-df-convert {\n",
              "      background-color: #E8F0FE;\n",
              "      border: none;\n",
              "      border-radius: 50%;\n",
              "      cursor: pointer;\n",
              "      display: none;\n",
              "      fill: #1967D2;\n",
              "      height: 32px;\n",
              "      padding: 0 0 0 0;\n",
              "      width: 32px;\n",
              "    }\n",
              "\n",
              "    .colab-df-convert:hover {\n",
              "      background-color: #E2EBFA;\n",
              "      box-shadow: 0px 1px 2px rgba(60, 64, 67, 0.3), 0px 1px 3px 1px rgba(60, 64, 67, 0.15);\n",
              "      fill: #174EA6;\n",
              "    }\n",
              "\n",
              "    [theme=dark] .colab-df-convert {\n",
              "      background-color: #3B4455;\n",
              "      fill: #D2E3FC;\n",
              "    }\n",
              "\n",
              "    [theme=dark] .colab-df-convert:hover {\n",
              "      background-color: #434B5C;\n",
              "      box-shadow: 0px 1px 3px 1px rgba(0, 0, 0, 0.15);\n",
              "      filter: drop-shadow(0px 1px 2px rgba(0, 0, 0, 0.3));\n",
              "      fill: #FFFFFF;\n",
              "    }\n",
              "  </style>\n",
              "\n",
              "      <script>\n",
              "        const buttonEl =\n",
              "          document.querySelector('#df-711df3d3-28dd-45ae-8005-dee23d70df3f button.colab-df-convert');\n",
              "        buttonEl.style.display =\n",
              "          google.colab.kernel.accessAllowed ? 'block' : 'none';\n",
              "\n",
              "        async function convertToInteractive(key) {\n",
              "          const element = document.querySelector('#df-711df3d3-28dd-45ae-8005-dee23d70df3f');\n",
              "          const dataTable =\n",
              "            await google.colab.kernel.invokeFunction('convertToInteractive',\n",
              "                                                     [key], {});\n",
              "          if (!dataTable) return;\n",
              "\n",
              "          const docLinkHtml = 'Like what you see? Visit the ' +\n",
              "            '<a target=\"_blank\" href=https://colab.research.google.com/notebooks/data_table.ipynb>data table notebook</a>'\n",
              "            + ' to learn more about interactive tables.';\n",
              "          element.innerHTML = '';\n",
              "          dataTable['output_type'] = 'display_data';\n",
              "          await google.colab.output.renderOutput(dataTable, element);\n",
              "          const docLink = document.createElement('div');\n",
              "          docLink.innerHTML = docLinkHtml;\n",
              "          element.appendChild(docLink);\n",
              "        }\n",
              "      </script>\n",
              "    </div>\n",
              "  </div>\n",
              "  "
            ],
            "text/plain": [
              "                                    chr16_complex\n",
              "0          putative Pcl8-Pho85 CDK-cyclin complex\n",
              "1                        Ula1-Uba3 enzyme complex\n",
              "2    small nuclear ribonucleoprotein complex (GO)\n",
              "3                1,3-beta-glucan synthase complex\n",
              "4                  Atg11-Atg17-Atg29-Cis1 complex\n",
              "..                                            ...\n",
              "99                                90S preribosome\n",
              "100           cytoplasmic ribosomal small subunit\n",
              "101                                  nuclear pore\n",
              "102           cytoplasmic ribosomal large subunit\n",
              "103        mitochondtrial large ribosomal subunit\n",
              "\n",
              "[104 rows x 1 columns]"
            ]
          },
          "execution_count": 31,
          "metadata": {},
          "output_type": "execute_result"
        }
      ],
      "source": [
        "c16_complexes"
      ]
    },
    {
      "cell_type": "code",
      "execution_count": null,
      "metadata": {
        "colab": {
          "base_uri": "https://localhost:8080/",
          "height": 424
        },
        "id": "Boct7sTPNRsF",
        "outputId": "c35ce36f-c7a6-4c3a-8c60-623fd7de7b7b"
      },
      "outputs": [
        {
          "data": {
            "text/html": [
              "\n",
              "  <div id=\"df-90d4735c-8682-4b4d-b5b2-15ac9e1a767b\">\n",
              "    <div class=\"colab-df-container\">\n",
              "      <div>\n",
              "<style scoped>\n",
              "    .dataframe tbody tr th:only-of-type {\n",
              "        vertical-align: middle;\n",
              "    }\n",
              "\n",
              "    .dataframe tbody tr th {\n",
              "        vertical-align: top;\n",
              "    }\n",
              "\n",
              "    .dataframe thead th {\n",
              "        text-align: right;\n",
              "    }\n",
              "</style>\n",
              "<table border=\"1\" class=\"dataframe\">\n",
              "  <thead>\n",
              "    <tr style=\"text-align: right;\">\n",
              "      <th></th>\n",
              "      <th>0</th>\n",
              "      <th>1</th>\n",
              "    </tr>\n",
              "  </thead>\n",
              "  <tbody>\n",
              "    <tr>\n",
              "      <th>0</th>\n",
              "      <td>YPL031C</td>\n",
              "      <td>YPL219W</td>\n",
              "    </tr>\n",
              "    <tr>\n",
              "      <th>1</th>\n",
              "      <td>YPL003W</td>\n",
              "      <td>YPR066W</td>\n",
              "    </tr>\n",
              "    <tr>\n",
              "      <th>2</th>\n",
              "      <td>YPL166W</td>\n",
              "      <td>YPR049C</td>\n",
              "    </tr>\n",
              "    <tr>\n",
              "      <th>3</th>\n",
              "      <td>YPL048W</td>\n",
              "      <td>YPR080W</td>\n",
              "    </tr>\n",
              "    <tr>\n",
              "      <th>4</th>\n",
              "      <td>YPL122C</td>\n",
              "      <td>YPR056W</td>\n",
              "    </tr>\n",
              "    <tr>\n",
              "      <th>...</th>\n",
              "      <td>...</td>\n",
              "      <td>...</td>\n",
              "    </tr>\n",
              "    <tr>\n",
              "      <th>416</th>\n",
              "      <td>YML025C</td>\n",
              "      <td>YDR237W</td>\n",
              "    </tr>\n",
              "    <tr>\n",
              "      <th>417</th>\n",
              "      <td>YML025C</td>\n",
              "      <td>YMR193W</td>\n",
              "    </tr>\n",
              "    <tr>\n",
              "      <th>418</th>\n",
              "      <td>YML025C</td>\n",
              "      <td>YPL173W</td>\n",
              "    </tr>\n",
              "    <tr>\n",
              "      <th>419</th>\n",
              "      <td>YML025C</td>\n",
              "      <td>YMR024W</td>\n",
              "    </tr>\n",
              "    <tr>\n",
              "      <th>420</th>\n",
              "      <td>YMR193W</td>\n",
              "      <td>YPL173W</td>\n",
              "    </tr>\n",
              "  </tbody>\n",
              "</table>\n",
              "<p>421 rows × 2 columns</p>\n",
              "</div>\n",
              "      <button class=\"colab-df-convert\" onclick=\"convertToInteractive('df-90d4735c-8682-4b4d-b5b2-15ac9e1a767b')\"\n",
              "              title=\"Convert this dataframe to an interactive table.\"\n",
              "              style=\"display:none;\">\n",
              "        \n",
              "  <svg xmlns=\"http://www.w3.org/2000/svg\" height=\"24px\"viewBox=\"0 0 24 24\"\n",
              "       width=\"24px\">\n",
              "    <path d=\"M0 0h24v24H0V0z\" fill=\"none\"/>\n",
              "    <path d=\"M18.56 5.44l.94 2.06.94-2.06 2.06-.94-2.06-.94-.94-2.06-.94 2.06-2.06.94zm-11 1L8.5 8.5l.94-2.06 2.06-.94-2.06-.94L8.5 2.5l-.94 2.06-2.06.94zm10 10l.94 2.06.94-2.06 2.06-.94-2.06-.94-.94-2.06-.94 2.06-2.06.94z\"/><path d=\"M17.41 7.96l-1.37-1.37c-.4-.4-.92-.59-1.43-.59-.52 0-1.04.2-1.43.59L10.3 9.45l-7.72 7.72c-.78.78-.78 2.05 0 2.83L4 21.41c.39.39.9.59 1.41.59.51 0 1.02-.2 1.41-.59l7.78-7.78 2.81-2.81c.8-.78.8-2.07 0-2.86zM5.41 20L4 18.59l7.72-7.72 1.47 1.35L5.41 20z\"/>\n",
              "  </svg>\n",
              "      </button>\n",
              "      \n",
              "  <style>\n",
              "    .colab-df-container {\n",
              "      display:flex;\n",
              "      flex-wrap:wrap;\n",
              "      gap: 12px;\n",
              "    }\n",
              "\n",
              "    .colab-df-convert {\n",
              "      background-color: #E8F0FE;\n",
              "      border: none;\n",
              "      border-radius: 50%;\n",
              "      cursor: pointer;\n",
              "      display: none;\n",
              "      fill: #1967D2;\n",
              "      height: 32px;\n",
              "      padding: 0 0 0 0;\n",
              "      width: 32px;\n",
              "    }\n",
              "\n",
              "    .colab-df-convert:hover {\n",
              "      background-color: #E2EBFA;\n",
              "      box-shadow: 0px 1px 2px rgba(60, 64, 67, 0.3), 0px 1px 3px 1px rgba(60, 64, 67, 0.15);\n",
              "      fill: #174EA6;\n",
              "    }\n",
              "\n",
              "    [theme=dark] .colab-df-convert {\n",
              "      background-color: #3B4455;\n",
              "      fill: #D2E3FC;\n",
              "    }\n",
              "\n",
              "    [theme=dark] .colab-df-convert:hover {\n",
              "      background-color: #434B5C;\n",
              "      box-shadow: 0px 1px 3px 1px rgba(0, 0, 0, 0.15);\n",
              "      filter: drop-shadow(0px 1px 2px rgba(0, 0, 0, 0.3));\n",
              "      fill: #FFFFFF;\n",
              "    }\n",
              "  </style>\n",
              "\n",
              "      <script>\n",
              "        const buttonEl =\n",
              "          document.querySelector('#df-90d4735c-8682-4b4d-b5b2-15ac9e1a767b button.colab-df-convert');\n",
              "        buttonEl.style.display =\n",
              "          google.colab.kernel.accessAllowed ? 'block' : 'none';\n",
              "\n",
              "        async function convertToInteractive(key) {\n",
              "          const element = document.querySelector('#df-90d4735c-8682-4b4d-b5b2-15ac9e1a767b');\n",
              "          const dataTable =\n",
              "            await google.colab.kernel.invokeFunction('convertToInteractive',\n",
              "                                                     [key], {});\n",
              "          if (!dataTable) return;\n",
              "\n",
              "          const docLinkHtml = 'Like what you see? Visit the ' +\n",
              "            '<a target=\"_blank\" href=https://colab.research.google.com/notebooks/data_table.ipynb>data table notebook</a>'\n",
              "            + ' to learn more about interactive tables.';\n",
              "          element.innerHTML = '';\n",
              "          dataTable['output_type'] = 'display_data';\n",
              "          await google.colab.output.renderOutput(dataTable, element);\n",
              "          const docLink = document.createElement('div');\n",
              "          docLink.innerHTML = docLinkHtml;\n",
              "          element.appendChild(docLink);\n",
              "        }\n",
              "      </script>\n",
              "    </div>\n",
              "  </div>\n",
              "  "
            ],
            "text/plain": [
              "           0        1\n",
              "0    YPL031C  YPL219W\n",
              "1    YPL003W  YPR066W\n",
              "2    YPL166W  YPR049C\n",
              "3    YPL048W  YPR080W\n",
              "4    YPL122C  YPR056W\n",
              "..       ...      ...\n",
              "416  YML025C  YDR237W\n",
              "417  YML025C  YMR193W\n",
              "418  YML025C  YPL173W\n",
              "419  YML025C  YMR024W\n",
              "420  YMR193W  YPL173W\n",
              "\n",
              "[421 rows x 2 columns]"
            ]
          },
          "execution_count": 30,
          "metadata": {},
          "output_type": "execute_result"
        }
      ],
      "source": [
        "c16_complexes = pd.read_csv('/content/Protein_Complexes_C16.csv')\n",
        "subunits = pd.read_csv('/content/Protein Subunits.csv')\n",
        "all_cnv_subunits = []\n",
        "complex_interactions = nx.Graph()\n",
        "for protein_complex in c16_complexes['chr16_complex']:\n",
        "  for complex_subunit in subunits[subunits['ComplexName'] == protein_complex]['Sysname']:\n",
        "    connections_in_protein = [k for k in all_interaction_network.neighbors(complex_subunit)]\n",
        "    cnv_partners = list(set(connections_in_protein) & set(subunits[subunits['ComplexName'] == protein_complex]['Sysname']))\n",
        "    for j in cnv_partners:\n",
        "      if j!=complex_subunit:\n",
        "        complex_interactions.add_edge(complex_subunit, j)\n",
        "clean_complex_interactions = pd.DataFrame(complex_interactions.edges(), columns=[0,1])\n",
        "clean_complex_interactions"
      ]
    },
    {
      "cell_type": "code",
      "execution_count": null,
      "metadata": {
        "colab": {
          "base_uri": "https://localhost:8080/",
          "height": 545
        },
        "id": "XgUSCJIN6jcm",
        "outputId": "0bb4b6e3-353a-4ee6-8271-f8cc480328ec"
      },
      "outputs": [
        {
          "name": "stderr",
          "output_type": "stream",
          "text": [
            "/usr/local/lib/python3.8/dist-packages/pandas/core/frame.py:5039: SettingWithCopyWarning:\n",
            "\n",
            "\n",
            "A value is trying to be set on a copy of a slice from a DataFrame\n",
            "\n",
            "See the caveats in the documentation: https://pandas.pydata.org/pandas-docs/stable/user_guide/indexing.html#returning-a-view-versus-a-copy\n",
            "\n"
          ]
        },
        {
          "data": {
            "text/html": [
              "\n",
              "  <div id=\"df-a015edec-1cbe-4b28-9ce2-bfca21fb82d4\">\n",
              "    <div class=\"colab-df-container\">\n",
              "      <div>\n",
              "<style scoped>\n",
              "    .dataframe tbody tr th:only-of-type {\n",
              "        vertical-align: middle;\n",
              "    }\n",
              "\n",
              "    .dataframe tbody tr th {\n",
              "        vertical-align: top;\n",
              "    }\n",
              "\n",
              "    .dataframe thead th {\n",
              "        text-align: right;\n",
              "    }\n",
              "</style>\n",
              "<table border=\"1\" class=\"dataframe\">\n",
              "  <thead>\n",
              "    <tr style=\"text-align: right;\">\n",
              "      <th></th>\n",
              "      <th>G1</th>\n",
              "      <th>G2</th>\n",
              "      <th>TPM_CNV</th>\n",
              "      <th>TPM_NonCNV</th>\n",
              "    </tr>\n",
              "  </thead>\n",
              "  <tbody>\n",
              "    <tr>\n",
              "      <th>0</th>\n",
              "      <td>YPR165W</td>\n",
              "      <td>YLR342W</td>\n",
              "      <td>334.00</td>\n",
              "      <td>96.25</td>\n",
              "    </tr>\n",
              "    <tr>\n",
              "      <th>1</th>\n",
              "      <td>YPL166W</td>\n",
              "      <td>YDR022C</td>\n",
              "      <td>18.75</td>\n",
              "      <td>12.25</td>\n",
              "    </tr>\n",
              "    <tr>\n",
              "      <th>2</th>\n",
              "      <td>YPL166W</td>\n",
              "      <td>YLR423C</td>\n",
              "      <td>18.75</td>\n",
              "      <td>9.00</td>\n",
              "    </tr>\n",
              "    <tr>\n",
              "      <th>3</th>\n",
              "      <td>YDR022C</td>\n",
              "      <td>YPR049C</td>\n",
              "      <td>12.25</td>\n",
              "      <td>3.25</td>\n",
              "    </tr>\n",
              "    <tr>\n",
              "      <th>4</th>\n",
              "      <td>YLR423C</td>\n",
              "      <td>YPR049C</td>\n",
              "      <td>9.00</td>\n",
              "      <td>3.25</td>\n",
              "    </tr>\n",
              "    <tr>\n",
              "      <th>...</th>\n",
              "      <td>...</td>\n",
              "      <td>...</td>\n",
              "      <td>...</td>\n",
              "      <td>...</td>\n",
              "    </tr>\n",
              "    <tr>\n",
              "      <th>2162</th>\n",
              "      <td>YNL185C</td>\n",
              "      <td>YMR024W</td>\n",
              "      <td>113.50</td>\n",
              "      <td>78.25</td>\n",
              "    </tr>\n",
              "    <tr>\n",
              "      <th>2163</th>\n",
              "      <td>YML025C</td>\n",
              "      <td>YGL068W</td>\n",
              "      <td>75.50</td>\n",
              "      <td>205.75</td>\n",
              "    </tr>\n",
              "    <tr>\n",
              "      <th>2164</th>\n",
              "      <td>YML025C</td>\n",
              "      <td>YHR147C</td>\n",
              "      <td>75.50</td>\n",
              "      <td>81.00</td>\n",
              "    </tr>\n",
              "    <tr>\n",
              "      <th>2165</th>\n",
              "      <td>YMR193W</td>\n",
              "      <td>YNR022C</td>\n",
              "      <td>63.25</td>\n",
              "      <td>122.75</td>\n",
              "    </tr>\n",
              "    <tr>\n",
              "      <th>2166</th>\n",
              "      <td>YMR193W</td>\n",
              "      <td>YEL050C</td>\n",
              "      <td>63.25</td>\n",
              "      <td>54.75</td>\n",
              "    </tr>\n",
              "  </tbody>\n",
              "</table>\n",
              "<p>2167 rows × 4 columns</p>\n",
              "</div>\n",
              "      <button class=\"colab-df-convert\" onclick=\"convertToInteractive('df-a015edec-1cbe-4b28-9ce2-bfca21fb82d4')\"\n",
              "              title=\"Convert this dataframe to an interactive table.\"\n",
              "              style=\"display:none;\">\n",
              "        \n",
              "  <svg xmlns=\"http://www.w3.org/2000/svg\" height=\"24px\"viewBox=\"0 0 24 24\"\n",
              "       width=\"24px\">\n",
              "    <path d=\"M0 0h24v24H0V0z\" fill=\"none\"/>\n",
              "    <path d=\"M18.56 5.44l.94 2.06.94-2.06 2.06-.94-2.06-.94-.94-2.06-.94 2.06-2.06.94zm-11 1L8.5 8.5l.94-2.06 2.06-.94-2.06-.94L8.5 2.5l-.94 2.06-2.06.94zm10 10l.94 2.06.94-2.06 2.06-.94-2.06-.94-.94-2.06-.94 2.06-2.06.94z\"/><path d=\"M17.41 7.96l-1.37-1.37c-.4-.4-.92-.59-1.43-.59-.52 0-1.04.2-1.43.59L10.3 9.45l-7.72 7.72c-.78.78-.78 2.05 0 2.83L4 21.41c.39.39.9.59 1.41.59.51 0 1.02-.2 1.41-.59l7.78-7.78 2.81-2.81c.8-.78.8-2.07 0-2.86zM5.41 20L4 18.59l7.72-7.72 1.47 1.35L5.41 20z\"/>\n",
              "  </svg>\n",
              "      </button>\n",
              "      \n",
              "  <style>\n",
              "    .colab-df-container {\n",
              "      display:flex;\n",
              "      flex-wrap:wrap;\n",
              "      gap: 12px;\n",
              "    }\n",
              "\n",
              "    .colab-df-convert {\n",
              "      background-color: #E8F0FE;\n",
              "      border: none;\n",
              "      border-radius: 50%;\n",
              "      cursor: pointer;\n",
              "      display: none;\n",
              "      fill: #1967D2;\n",
              "      height: 32px;\n",
              "      padding: 0 0 0 0;\n",
              "      width: 32px;\n",
              "    }\n",
              "\n",
              "    .colab-df-convert:hover {\n",
              "      background-color: #E2EBFA;\n",
              "      box-shadow: 0px 1px 2px rgba(60, 64, 67, 0.3), 0px 1px 3px 1px rgba(60, 64, 67, 0.15);\n",
              "      fill: #174EA6;\n",
              "    }\n",
              "\n",
              "    [theme=dark] .colab-df-convert {\n",
              "      background-color: #3B4455;\n",
              "      fill: #D2E3FC;\n",
              "    }\n",
              "\n",
              "    [theme=dark] .colab-df-convert:hover {\n",
              "      background-color: #434B5C;\n",
              "      box-shadow: 0px 1px 3px 1px rgba(0, 0, 0, 0.15);\n",
              "      filter: drop-shadow(0px 1px 2px rgba(0, 0, 0, 0.3));\n",
              "      fill: #FFFFFF;\n",
              "    }\n",
              "  </style>\n",
              "\n",
              "      <script>\n",
              "        const buttonEl =\n",
              "          document.querySelector('#df-a015edec-1cbe-4b28-9ce2-bfca21fb82d4 button.colab-df-convert');\n",
              "        buttonEl.style.display =\n",
              "          google.colab.kernel.accessAllowed ? 'block' : 'none';\n",
              "\n",
              "        async function convertToInteractive(key) {\n",
              "          const element = document.querySelector('#df-a015edec-1cbe-4b28-9ce2-bfca21fb82d4');\n",
              "          const dataTable =\n",
              "            await google.colab.kernel.invokeFunction('convertToInteractive',\n",
              "                                                     [key], {});\n",
              "          if (!dataTable) return;\n",
              "\n",
              "          const docLinkHtml = 'Like what you see? Visit the ' +\n",
              "            '<a target=\"_blank\" href=https://colab.research.google.com/notebooks/data_table.ipynb>data table notebook</a>'\n",
              "            + ' to learn more about interactive tables.';\n",
              "          element.innerHTML = '';\n",
              "          dataTable['output_type'] = 'display_data';\n",
              "          await google.colab.output.renderOutput(dataTable, element);\n",
              "          const docLink = document.createElement('div');\n",
              "          docLink.innerHTML = docLinkHtml;\n",
              "          element.appendChild(docLink);\n",
              "        }\n",
              "      </script>\n",
              "    </div>\n",
              "  </div>\n",
              "  "
            ],
            "text/plain": [
              "           G1       G2  TPM_CNV  TPM_NonCNV\n",
              "0     YPR165W  YLR342W   334.00       96.25\n",
              "1     YPL166W  YDR022C    18.75       12.25\n",
              "2     YPL166W  YLR423C    18.75        9.00\n",
              "3     YDR022C  YPR049C    12.25        3.25\n",
              "4     YLR423C  YPR049C     9.00        3.25\n",
              "...       ...      ...      ...         ...\n",
              "2162  YNL185C  YMR024W   113.50       78.25\n",
              "2163  YML025C  YGL068W    75.50      205.75\n",
              "2164  YML025C  YHR147C    75.50       81.00\n",
              "2165  YMR193W  YNR022C    63.25      122.75\n",
              "2166  YMR193W  YEL050C    63.25       54.75\n",
              "\n",
              "[2167 rows x 4 columns]"
            ]
          },
          "execution_count": 132,
          "metadata": {},
          "output_type": "execute_result"
        }
      ],
      "source": [
        "mean_clean_complex_interactions = clean_complex_interactions.copy()\n",
        "complex_tpm_1 = []\n",
        "complex_tpm_2 = []\n",
        "for i in range(len(clean_complex_interactions)):\n",
        "  if((clean_complex_interactions[0][i] in all_average_tpms.keys()) and (clean_complex_interactions[1][i] in all_average_tpms.keys()) and ((clean_complex_interactions[0][i] in all_average_sc_tpms.keys()) and ((clean_complex_interactions[1][i] in all_average_sc_tpms.keys()))) and (all_average_sc_tpms[clean_complex_interactions[1][i]] != 0) and ((all_average_sc_tpms[clean_complex_interactions[0][i]] != 0))):\n",
        "    # complex_tpm_1.append(all_average_tpms[clean_complex_interactions[0][i]]/all_average_sc_tpms[clean_complex_interactions[0][i]])\n",
        "    complex_tpm_1.append(all_average_tpms[clean_complex_interactions[0][i]])\n",
        "    complex_tpm_2.append(all_average_tpms[clean_complex_interactions[1][i]])\n",
        "    # complex_tpm_2.append(all_average_tpms[clean_complex_interactions[1][i]]/all_average_sc_tpms[clean_complex_interactions[1][i]])\n",
        "  else:\n",
        "    complex_tpm_1.append(-1)\n",
        "    complex_tpm_2.append(-1)\n",
        "mean_clean_complex_interactions['TPM_CNV'] = complex_tpm_1\n",
        "mean_clean_complex_interactions['TPM_NonCNV'] = complex_tpm_2\n",
        "mean_clean_complex_interactions = mean_clean_complex_interactions[mean_clean_complex_interactions['TPM_CNV'] != -1]\n",
        "mean_clean_complex_interactions.rename(columns = {0:'G1'}, inplace = True)\n",
        "mean_clean_complex_interactions.rename(columns = {1:'G2'}, inplace = True)\n",
        "mean_clean_complex_interactions = mean_clean_complex_interactions.reset_index(inplace=False, drop=True)\n",
        "mean_clean_complex_interactions"
      ]
    },
    {
      "cell_type": "code",
      "execution_count": null,
      "metadata": {
        "colab": {
          "base_uri": "https://localhost:8080/"
        },
        "id": "W_ZBfUob8bC7",
        "outputId": "a2ed1b36-1b50-4db1-fc4a-4d3e41e1a548"
      },
      "outputs": [
        {
          "data": {
            "text/plain": [
              "SpearmanrResult(correlation=0.40753312128777136, pvalue=1.7310914808969178e-87)"
            ]
          },
          "execution_count": 91,
          "metadata": {},
          "output_type": "execute_result"
        }
      ],
      "source": [
        "counter=0\n",
        "noncnv_tpm_sum=0\n",
        "cnv_tpm=[]\n",
        "noncnv_mean_tpm=[]\n",
        "for i in range(len(mean_clean_complex_interactions['G1'])):\n",
        "  if((mean_clean_complex_interactions['G1'][i] in cnv_genes_list)):\n",
        "    target_cnv=mean_clean_complex_interactions['G1'][i]\n",
        "    noncnv_partners = list(mean_clean_complex_interactions[mean_clean_complex_interactions['G1'] == target_cnv]['G2'])\n",
        "  else:\n",
        "    target_cnv = mean_clean_complex_interactions['G2'][i]\n",
        "    noncnv_partners = list(mean_clean_complex_interactions[mean_clean_complex_interactions['G2'] == target_cnv]['G1'])\n",
        "    # print(target_cnv)\n",
        "  # if(target_cnv in all_average_tpms.keys() and (all_average_tpms[target_cnv]!=0)):\n",
        "  cnv_tpm.append(all_average_tpms[target_cnv]/all_average_sc_tpms[target_cnv])\n",
        "    # cnv_tpm.append(all_average_tpms[target_cnv])\n",
        "  noncnv_tpm_sum=0\n",
        "  for i in noncnv_partners:\n",
        "    noncnv_tpm_sum+=all_average_tpms[i]/all_average_sc_tpms[i]\n",
        "    # noncnv_tpm_sum+=all_average_tpms[i]\n",
        "        \n",
        "  \n",
        "  noncnv_mean_tpm.append(noncnv_tpm_sum/len(noncnv_partners))\n",
        "\n",
        "res = stats.spearmanr(cnv_tpm, noncnv_mean_tpm)\n",
        "res"
      ]
    },
    {
      "cell_type": "code",
      "execution_count": null,
      "metadata": {
        "colab": {
          "base_uri": "https://localhost:8080/"
        },
        "id": "JOj9ENdBgVFq",
        "outputId": "88984564-4693-48c4-ec46-b7ffa647e550"
      },
      "outputs": [
        {
          "data": {
            "text/plain": [
              "SpearmanrResult(correlation=0.12340778966400545, pvalue=0.013993855290454644)"
            ]
          },
          "execution_count": 66,
          "metadata": {},
          "output_type": "execute_result"
        }
      ],
      "source": [
        "complex_tpm_1 = []\n",
        "complex_tpm_2 = []\n",
        "for i in range(len(clean_complex_interactions)):\n",
        "  if((clean_complex_interactions[0][i] in all_average_tpms.keys()) and (clean_complex_interactions[1][i] in all_average_tpms.keys()) and (clean_complex_interactions[0][i] in all_average_sc_tpms.keys()) and (clean_complex_interactions[1][i] in all_average_sc_tpms.keys()) and (all_average_sc_tpms[clean_complex_interactions[0][i]]!=0) and (all_average_sc_tpms[clean_complex_interactions[1][i]]!=0)):\n",
        "    complex_tpm_1.append(all_average_tpms[clean_complex_interactions[0][i]]/all_average_sc_tpms[clean_complex_interactions[0][i]])\n",
        "    complex_tpm_2.append(all_average_tpms[clean_complex_interactions[1][i]]/all_average_sc_tpms[clean_complex_interactions[1][i]])\n",
        "\n",
        "res = stats.spearmanr(complex_tpm_1, complex_tpm_2)\n",
        "res"
      ]
    },
    {
      "cell_type": "code",
      "execution_count": null,
      "metadata": {
        "colab": {
          "base_uri": "https://localhost:8080/",
          "height": 837
        },
        "id": "5bI-7M8_VqSW",
        "outputId": "0de02e75-d579-40a8-abef-a6301ed8bc15"
      },
      "outputs": [
        {
          "data": {
            "text/html": [
              "<html>\n",
              "<head><meta charset=\"utf-8\" /></head>\n",
              "<body>\n",
              "    <div>            <script src=\"https://cdnjs.cloudflare.com/ajax/libs/mathjax/2.7.5/MathJax.js?config=TeX-AMS-MML_SVG\"></script><script type=\"text/javascript\">if (window.MathJax) {MathJax.Hub.Config({SVG: {font: \"STIX-Web\"}});}</script>                <script type=\"text/javascript\">window.PlotlyConfig = {MathJaxConfig: 'local'};</script>\n",
              "        <script src=\"https://cdn.plot.ly/plotly-2.8.3.min.js\"></script>                <div id=\"cc3f21e8-4b6e-4cb7-ab7c-35553f8e9553\" class=\"plotly-graph-div\" style=\"height:800px; width:2000px;\"></div>            <script type=\"text/javascript\">                                    window.PLOTLYENV=window.PLOTLYENV || {};                                    if (document.getElementById(\"cc3f21e8-4b6e-4cb7-ab7c-35553f8e9553\")) {                    Plotly.newPlot(                        \"cc3f21e8-4b6e-4cb7-ab7c-35553f8e9553\",                        [{\"hovertemplate\":\"Transcript per million_x=%{x}<br>Transcript per million_y=%{y}<extra></extra>\",\"legendgroup\":\"\",\"marker\":{\"color\":\"#636efa\",\"symbol\":\"circle\"},\"mode\":\"markers\",\"name\":\"\",\"showlegend\":false,\"x\":[1.0,334.0,18.75,18.75,3.25,3.25,87.5,87.5,87.5,1881.75,1881.75,154.0,154.0,154.0,154.0,154.0,154.0,154.0,154.0,154.0,154.0,154.0,154.0,154.0,154.0,154.0,154.0,154.0,154.0,154.0,154.0,154.0,154.0,154.0,154.0,154.0,154.0,154.0,154.0,154.0,154.0,154.0,154.0,154.0,154.0,154.0,154.0,154.0,154.0,154.0,154.0,154.0,154.0,154.0,154.0,154.0,154.0,154.0,154.0,154.0,154.0,154.0,154.0,154.0,154.0,154.0,9.25,9.25,9.25,7.0,244.5,52.5,17.0,17.0,17.0,17.0,17.0,17.0,35.0,31.5,35.0,31.5,35.0,35.0,31.5,35.0,31.5,35.0,35.0,38.75,38.75,38.75,38.75,37.5,37.5,26.25,26.25,9.25,9.25,9.25,12.5,12.75,34.5,23.5,135.75,21.25,1162.75,537.75,58.0,121.5,6.75,20.0,161.0,10.75,19.25,18.75,8.75,14.0,18.75,18.75,18.75,68.0,14.25,38.25,79.25,35.25,36.5,32.75,14.0,58.25,14.25,14.25,14.25,14.25,14.25,14.25,14.25,692.0,692.0,75.25,75.25,19.25,19.25,12.5,12.5,30.0,30.0,17.0,10.0,10.0,61.5,61.5,26.75,26.75,65.25,65.25,170.5,170.5,80.75,80.75,244.5,16.25,29.25,80.75,80.75,80.75,80.75,80.75,80.75,80.75,80.75,80.75,80.75,80.75,80.75,80.75,80.75,80.75,80.75,80.75,80.75,40.25,40.25,50.75,50.75,50.75,50.75,50.75,50.75,50.75,50.75,50.75,50.75,50.75,50.75,50.75,50.75,50.75,50.75,50.75,50.75,50.75,50.75,50.75,50.75,40.5,40.5,24.5,106.0,122.25,122.25,104.0,104.0,19.0,120.75,53.0,26.5,73.25,42.5,77.25,44.75,19.0,19.0,29.0,29.0,29.0,102.5,102.5,102.5,59.75,59.75,7.75,7.75,0.0,9.5,9.5,9.5,9.5,9.5,9.5,12.75,12.75,12.75,12.75,12.75,12.75,19.25,19.25,19.25,1.0,1.0,16.0,16.0,16.0,16.0,14.25,14.25,14.25,14.25,105.0,105.0,105.0,105.0,105.0,105.0,155.75,155.75,155.75,155.75,16.0,16.0,16.0,16.0,16.0,16.0,16.0,16.0,16.0,16.0,16.0,16.0,16.0,16.0,36.5,28.25,36.5,36.5,28.25,36.5,28.25,36.5,36.5,14.25,28.25,36.5,36.5,36.5,36.5,36.5,36.5,20.0,20.0,20.0,20.0,20.0,20.0,20.0,48.75,48.75,48.75,48.75,48.75,48.75,48.75,565.0,118.0,118.0,118.0,118.0,118.0,118.0,118.0,64.75,64.75,64.75,64.75,64.75,64.75,263.5,263.5,263.5,263.5,263.5,263.5,263.5,5.0,5.0,5.0,32.5,32.5,38.75,38.75,38.75,38.75,38.75,38.75,38.75,38.75,38.75,38.75,38.75,20.75,20.75,20.75,20.75,20.75,20.75,20.75,20.75,20.75,20.75,20.75,20.75,31.5,72.75,72.75,72.75,72.75,72.75,72.75,72.75,72.75,72.75,72.75,72.75,72.75,165.25,373.75,165.25,373.75,165.25,373.75,165.25,60.75,59.25,165.25,373.75,60.75,165.25,373.75,60.75,59.25,165.25,373.75,165.25,373.75,60.75,59.25,165.25,373.75,60.75,59.25,165.25,373.75,60.75,165.25,373.75,165.25,373.75,165.25,165.25,165.25,165.25,165.25,165.25,165.25,165.25,373.75,373.75,373.75,373.75,373.75,373.75,373.75,373.75,373.75,373.75,373.75,373.75,373.75,373.75,373.75,373.75,60.75,60.75,60.75,60.75,60.75,60.75,60.75,60.75,60.75,13.25,13.25,32.75,52.5,45.25,35.25,32.75,52.5,45.25,35.25,32.75,32.75,32.75,32.75,32.75,32.75,32.75,52.5,52.5,52.5,52.5,52.5,52.5,52.5,52.5,52.5,30.5,30.5,30.5,68.5,22.25,68.5,22.25,68.5,22.25,10.5,10.5,10.5,27.75,41.5,27.75,41.5,27.75,27.75,59.25,59.25,59.25,59.25,59.25,59.25,59.25,59.25,59.25,59.25,59.25,59.25,59.25,59.25,59.25,59.25,59.25,59.25,59.25,59.25,24.0,18.75,91.25,38.75,245.75,178.0,23.75,24.0,18.75,91.25,38.75,245.75,178.0,25.0,8.75,8.75,8.75,8.75,8.75,8.75,8.75,8.75,8.75,8.75,8.75,8.75,8.75,8.75,8.75,4.75,24.0,24.0,24.0,24.0,24.0,24.0,24.0,24.0,24.0,24.0,24.0,24.0,24.0,24.0,4.75,38.5,29.5,20.75,18.75,91.25,38.75,245.75,178.0,18.75,91.25,38.75,245.75,178.0,18.75,91.25,38.75,245.75,178.0,18.75,91.25,38.75,245.75,18.75,91.25,38.75,245.75,178.0,41.75,41.75,41.75,41.75,41.75,41.75,41.75,41.75,41.75,41.75,41.75,106.5,148.0,1792.5,106.5,148.0,106.5,148.0,148.0,106.5,148.0,148.0,148.0,106.5,106.5,148.0,148.0,29.5,37.0,85.25,15.0,10.75,86.75,86.75,86.75,41.0,119.0,119.0,119.0,20.5,20.5,33.5,8.5,8.5,33.5,8.5,84.0,84.0,84.0,84.0,84.0,74.25,183.25,74.25,183.25,74.25,183.25,74.25,183.25,74.25,183.25,8.75,8.75,8.75,14.0,14.0,14.0,14.0,14.0,7.0,7.0,7.0,7.0,7.0,7.0,7.0,7.0,7.0,244.5,244.5,16.25,244.5,18.75,91.25,38.75,19.5,245.75,244.5,16.25,29.25,244.5,244.5,244.5,244.5,16.25,244.5,244.5,244.5,244.5,244.5,244.5,244.5,244.5,244.5,244.5,244.5,244.5,244.5,244.5,244.5,244.5,16.25,16.25,16.25,16.25,16.25,16.25,16.25,100.0,100.0,100.0,100.0,100.0,100.0,100.0,100.0,100.0,100.0,100.0,100.0,100.0,100.0,100.0,100.0,48.75,87.5,48.75,87.5,48.75,87.5,48.75,87.5,48.75,87.5,48.75,87.5,48.75,87.5,48.75,87.5,48.75,87.5,48.75,87.5,48.75,87.5,48.75,87.5,48.75,87.5,48.75,87.5,48.75,87.5,48.75,87.5,18.75,18.75,18.75,18.75,18.75,18.75,18.75,18.75,91.25,38.75,91.25,38.75,19.5,245.75,12.5,178.0,32.25,59.25,23.75,63.25,25.0,91.25,38.75,19.5,245.75,12.5,178.0,32.25,59.25,23.75,63.25,25.0,91.25,38.75,19.5,245.75,12.5,178.0,32.25,59.25,23.75,63.25,25.0,91.25,38.75,19.5,245.75,12.5,178.0,32.25,59.25,23.75,63.25,25.0,91.25,38.75,245.75,91.25,91.25,38.75,19.5,12.5,178.0,32.25,59.25,23.75,63.25,25.0,19.75,93.25,93.25,55.75,75.25,79.25,55.75,75.25,79.25,55.75,75.25,79.25,4.75,4.75,4.75,4.75,4.75,4.75,4.75,4.75,4.75,4.75,4.75,4.75,29.5,230.5,230.5,230.5,230.5,230.5,230.5,20.0,144.25,143.5,79.25,15.5,36.5,20.0,144.25,143.5,144.25,143.5,143.5,20.0,144.25,143.5,20.0,143.5,144.25,143.5,143.5,143.5,3774.25,3774.25,3774.25,3774.25,3774.25,102.5,2485.75,102.5,2485.75,102.5,102.5,414.0,102.5,2485.75,102.5,102.5,102.5,102.5,102.5,2485.75,2485.75,2485.75,15.25,15.25,15.25,15.25,15.25,15.25,15.25,15.25,15.25,15.25,15.25,15.25,9.5,35.25,18.5,9.5,35.25,18.5,9.5,35.25,18.5,17.25,9.5,35.25,18.5,9.5,18.5,17.25,24.75,9.5,35.25,18.5,9.5,35.25,18.5,45.25,45.25,45.25,45.25,45.25,45.25,45.25,35.25,35.25,35.25,35.25,35.25,35.25,35.25,37.0,37.0,85.25,103.5,29.25,29.25,29.25,29.25,29.25,29.25,29.25,29.25,10.5,10.5,10.5,289.75,139.75,502.25,27.0,289.75,77.0,139.75,502.25,27.0,289.75,77.0,139.75,502.25,27.0,289.75,289.75,289.75,289.75,289.75,289.75,289.75,289.75,289.75,289.75,289.75,289.75,289.75,289.75,289.75,289.75,289.75,289.75,289.75,139.75,502.25,27.0,14.25,21.5,10.75,47.75,81.5,77.0,139.75,502.25,27.0,15.0,14.25,8.75,21.5,20.25,10.75,15.5,47.75,81.5,139.75,27.0,15.0,14.25,8.75,21.5,47.75,81.5,139.75,14.25,21.5,10.75,15.5,47.75,81.5,77.0,77.0,77.0,77.0,77.0,77.0,77.0,77.0,139.75,139.75,139.75,139.75,139.75,139.75,139.75,139.75,139.75,139.75,139.75,139.75,139.75,139.75,16.5,20.75,11.0,23.5,20.75,23.5,11.0,23.5,14.25,14.25,28.25,28.25,28.25,28.25,28.25,28.25,28.25,15.0,15.0,15.0,15.0,15.0,14.25,8.75,15.5,21.5,14.25,14.25,14.25,14.25,14.25,8.75,8.75,8.75,8.75,8.75,15.5,80.0,269.75,77.75,353.0,269.75,269.75,269.75,269.75,77.75,353.0,77.75,353.0,77.75,353.0,77.75,353.0,77.75,77.75,353.0,353.0,195.25,195.25,195.25,195.25,195.25,195.25,195.25,195.25,195.25,195.25,124.0,204.25,137.5,124.0,204.25,137.5,124.0,204.25,137.5,124.0,204.25,137.5,124.0,204.25,137.5,124.0,204.25,137.5,124.0,204.25,137.5,124.0,204.25,137.5,124.0,137.5,124.0,204.25,137.5,24.75,26.75,17.25,24.75,26.75,17.25,24.75,26.75,26.75,17.25,19.75,19.75,19.75,19.75,19.75,19.75,19.75,53.0,12.25,73.0,459.75,53.0,12.25,459.75,53.0,12.25,73.0,53.0,12.25,73.0,459.75,53.0,12.25,73.0,459.75,78.25,53.0,12.25,73.0,53.0,12.25,73.0,794.5,63.75,459.75,78.25,33.0,65.75,53.0,53.0,53.0,53.0,53.0,53.0,53.0,53.0,12.25,73.0,73.0,73.0,73.0,73.0,73.0,73.0,73.0,502.25,502.25,502.25,502.25,502.25,502.25,502.25,502.25,27.0,27.0,27.0,27.0,27.0,27.0,27.0,27.0,27.0,27.0,27.0,27.0,27.0,17.5,17.5,17.5,30.75,20.25,14.5,22.25,30.75,20.25,14.5,22.25,30.75,20.25,14.5,22.25,29.5,20.75,38.5,29.5,20.75,38.5,29.5,20.75,29.5,20.75,29.5,20.75,38.5,29.5,20.75,38.5,29.5,20.75,38.5,29.5,20.75,38.5,29.5,20.75,38.5,29.5,20.75,38.5,29.5,20.75,38.5,38.5,38.5,29.5,20.75,29.5,20.75,29.5,20.75,29.5,20.75,29.5,20.75,29.5,20.75,85.5,85.5,85.5,201.75,57.0,102.0,201.75,57.0,180.0,102.0,201.75,57.0,180.0,102.0,102.0,102.0,102.0,102.0,201.75,57.0,201.75,201.75,57.0,201.75,201.75,201.75,201.75,201.75,201.75,201.75,201.75,201.75,201.75,201.75,201.75,201.75,201.75,57.0,57.0,180.0,57.0,57.0,57.0,57.0,57.0,57.0,57.0,21.5,21.5,21.5,21.5,38.75,245.75,79.25,58.25,20.25,20.25,20.25,20.25,20.25,20.25,20.25,20.25,20.25,10.75,15.5,47.75,81.5,10.75,15.5,47.75,81.5,10.75,15.5,47.75,81.5,10.75,15.5,47.75,81.5,10.75,15.5,47.75,81.5,10.75,15.5,47.75,81.5,10.75,15.5,47.75,10.75,15.5,47.75,81.5,10.75,15.5,47.75,81.5,60.25,60.25,60.25,60.25,60.25,60.25,60.25,60.25,60.25,60.25,60.25,60.25,60.25,60.25,60.25,31.75,59.75,54.25,113.25,171.0,137.5,206.75,31.75,59.75,54.25,113.25,171.0,137.5,206.75,31.75,59.75,54.25,113.25,171.0,31.75,59.75,54.25,113.25,171.0,137.5,206.75,31.75,59.75,54.25,113.25,171.0,137.5,206.75,31.75,59.75,54.25,113.25,171.0,137.5,206.75,31.75,59.75,113.25,171.0,206.75,31.75,59.75,113.25,171.0,206.75,31.75,59.75,54.25,113.25,171.0,137.5,206.75,31.75,59.75,113.25,171.0,31.75,59.75,54.25,113.25,171.0,137.5,206.75,31.75,59.75,54.25,113.25,171.0,137.5,206.75,31.75,59.75,54.25,113.25,171.0,137.5,206.75,31.75,59.75,54.25,113.25,171.0,31.75,59.75,113.25,171.0,137.5,206.75,31.75,31.75,31.75,31.75,31.75,31.75,31.75,31.75,59.75,54.25,113.25,171.0,206.75,59.75,54.25,113.25,171.0,137.5,206.75,59.75,54.25,113.25,171.0,137.5,206.75,54.25,137.5,59.75,113.25,171.0,137.5,206.75,59.75,54.25,113.25,171.0,206.75,59.75,54.25,113.25,171.0,137.5,206.75,59.75,54.25,113.25,171.0,137.5,206.75,54.25,54.25,137.5,794.5,794.5,794.5,794.5,794.5,794.5,63.75,78.25,33.0,65.75,63.75,459.75,78.25,33.0,65.75,63.75,78.25,33.0,65.75,63.75,78.25,33.0,65.75,63.75,78.25,33.0,65.75,63.75,459.75,78.25,33.0,65.75,63.75,78.25,33.0,65.75,78.25,78.25,78.25,65.75,33.0,120.75,120.75,120.75,120.75,120.75,120.75,120.75,120.75,120.75,120.75,120.75,120.75,120.75,120.75,120.75,120.75,120.75,120.75,120.75,120.75,120.75,120.75,120.75,120.75,120.75,120.75,120.75,120.75,120.75,120.75,120.75,120.75,120.75,120.75,120.75,120.75,53.0,26.5,52.75,42.25,42.5,77.25,44.75,53.0,48.0,26.5,44.75,53.0,26.5,44.75,53.0,48.0,26.5,42.25,42.5,44.75,53.0,26.5,53.0,26.5,42.25,44.75,53.0,48.0,26.5,44.75,53.0,26.5,42.25,42.5,77.25,44.75,53.0,48.0,26.5,52.75,42.25,77.25,44.75,53.0,48.0,26.5,52.75,42.25,73.25,42.5,77.25,44.75,1498.25,2272.25,2274.0,776.25,879.25,530.75,1489.5,53.0,26.5,42.25,42.5,77.25,44.75,53.0,26.5,42.25,77.25,44.75,53.0,26.5,52.75,42.5,77.25,44.75,776.25,53.0,26.5,42.25,42.5,77.25,44.75,53.0,48.0,26.5,52.75,42.25,73.25,42.5,44.75,1498.25,2272.25,2274.0,776.25,879.25,530.75,1489.5,53.0,26.5,44.75,53.0,48.0,26.5,52.75,42.25,73.25,42.5,77.25,44.75,53.0,26.5,42.5,77.25,44.75,53.0,48.0,26.5,52.75,42.25,73.25,42.5,77.25,44.75,53.0,48.0,26.5,42.25,42.5,77.25,44.75,53.0,26.5,42.25,42.5,44.75,53.0,26.5,52.75,42.25,77.25,44.75,53.0,48.0,26.5,42.5,44.75,53.0,26.5,52.75,42.25,77.25,44.75,53.0,48.0,26.5,52.75,42.25,77.25,44.75,53.0,48.0,26.5,52.75,42.25,73.25,42.5,77.25,44.75,53.0,48.0,26.5,52.75,42.25,42.5,77.25,44.75,53.0,26.5,42.25,44.75,53.0,26.5,42.25,44.75,48.0,26.5,53.0,48.0,26.5,42.25,42.5,77.25,44.75,53.0,48.0,26.5,42.25,42.5,77.25,44.75,53.0,26.5,44.75,53.0,48.0,26.5,52.75,42.25,42.5,44.75,53.0,26.5,52.75,73.25,44.75,53.0,26.5,42.5,77.25,44.75,1498.25,1498.25,1498.25,1498.25,1498.25,1498.25,1498.25,1498.25,1498.25,1498.25,1498.25,1498.25,1498.25,1498.25,1498.25,1498.25,1498.25,1498.25,1498.25,1498.25,1498.25,2274.0,776.25,530.75,1489.5,2272.25,2274.0,776.25,879.25,530.75,1489.5,2272.25,2274.0,776.25,879.25,530.75,1489.5,2272.25,2274.0,776.25,879.25,530.75,1489.5,2272.25,2274.0,1645.25,776.25,879.25,530.75,1489.5,2272.25,2274.0,776.25,879.25,530.75,1489.5,2272.25,2274.0,776.25,879.25,530.75,1489.5,2274.0,776.25,530.75,1489.5,2272.25,2274.0,776.25,879.25,530.75,1489.5,2272.25,2274.0,776.25,879.25,530.75,1489.5,2272.25,2274.0,776.25,879.25,530.75,1489.5,2274.0,776.25,530.75,1489.5,776.25,2272.25,2274.0,776.25,879.25,530.75,1489.5,2272.25,2274.0,776.25,879.25,530.75,1489.5,2272.25,2274.0,776.25,879.25,530.75,1489.5,2274.0,776.25,530.75,1489.5,2272.25,2274.0,776.25,879.25,530.75,1489.5,2274.0,776.25,530.75,1489.5,2274.0,776.25,530.75,1489.5,2274.0,776.25,530.75,1489.5,2274.0,2274.0,776.25,530.75,1489.5,38.25,38.25,38.25,38.25,38.25,38.25,38.25,38.25,38.25,38.25,38.25,38.25,38.25,38.25,38.25,38.25,38.25,38.25,38.25,38.25,38.25,79.25,15.5,36.5,58.25,79.25,15.5,36.5,25.0,32.75,64.5,58.25,79.25,15.5,36.5,25.0,64.5,58.25,79.25,35.25,15.5,36.5,25.0,32.75,58.25,79.25,35.25,15.5,36.5,25.0,32.75,58.25,79.25,36.5,79.25,35.25,15.5,36.5,25.0,32.75,58.25,79.25,15.5,36.5,25.0,58.25,79.25,15.5,36.5,32.75,58.25,79.25,35.25,15.5,36.5,25.0,32.75,58.25,79.25,35.25,15.5,36.5,25.0,32.75,58.25,79.25,35.25,15.5,36.5,25.0,32.75,58.25,79.25,35.25,15.5,36.5,25.0,32.75,58.25,79.25,15.5,36.5,25.0,20.75,58.25,79.25,15.5,36.5,32.75,58.25,79.25,35.25,15.5,36.5,25.0,58.25,79.25,15.5,36.5,25.0,20.75,79.25,35.25,15.5,36.5,25.0,32.75,79.25,35.25,15.5,36.5,25.0,32.75,58.25,79.25,35.25,15.5,36.5,25.0,32.75,58.25,79.25,15.5,36.5,25.0,32.75,58.25,79.25,79.25,79.25,36.5,58.25,15.5,36.5,25.0,32.75,58.25,15.5,36.5,25.0,58.25,36.5,36.5,36.5,36.5,32.75,64.5,58.25,58.25,58.25,208.25,1027.75,1027.75,1027.75,1027.75,1027.75,1027.75,1027.75,1027.75,1027.75,1027.75,1027.75,1027.75,1027.75,1027.75,1027.75,1027.75,1027.75,1027.75,1027.75,1027.75,2118.0,7542.75,525.5,1091.25,1324.25,2118.0,2925.75,1457.25,2118.0,525.5,1324.25,2925.75,5149.25,1457.25,525.5,2118.0,7542.75,1120.5,1324.25,2118.0,5149.25,2925.75,7542.75,525.5,1091.25,1324.25,2118.0,2925.75,1457.25,1324.25,2118.0,7542.75,525.5,1091.25,1324.25,2118.0,2925.75,1457.25,2118.0,271.5,271.5,1457.25,77.0,77.0,77.0,105.75,57.0,75.5,258.75,105.75,129.25,57.0,1209.5,75.5,78.25,63.25,258.75,702.75,61.75,152.0,185.75,105.75,129.25,57.0,75.5,105.75,105.75,105.75,105.75,105.75,105.75,105.75,105.75,105.75,105.75,105.75,105.75,105.75,105.75,105.75,75.5,63.25,75.5,61.75,129.25,75.5,258.75,129.25,75.5,57.0,75.5,78.25,185.75,129.25,57.0,75.5,78.25,152.0,185.75,129.25,57.0,1209.5,75.5,21.25,63.25,258.75,152.0,57.0,75.5,21.25,63.25,258.75,702.75,75.5,75.5,61.75,75.5,63.25,57.0,21.25,258.75,702.75,185.75,78.25,702.75,61.75,129.25,57.0,1209.5,78.25,63.25,258.75,129.25,75.5,129.25,129.25,61.75,75.5,78.25,21.25,61.75,57.0,75.5,78.25,75.5,75.5,63.25,63.25],\"xaxis\":\"x\",\"y\":[8.75,96.25,10.625,10.625,10.625,10.625,1863.8333333333333,1863.8333333333333,1863.8333333333333,1245.25,1245.25,92.2909090909091,92.2909090909091,92.2909090909091,92.2909090909091,92.2909090909091,92.2909090909091,92.2909090909091,92.2909090909091,92.2909090909091,92.2909090909091,92.2909090909091,92.2909090909091,92.2909090909091,92.2909090909091,92.2909090909091,92.2909090909091,92.2909090909091,92.2909090909091,92.2909090909091,92.2909090909091,92.2909090909091,92.2909090909091,92.2909090909091,92.2909090909091,92.2909090909091,92.2909090909091,92.2909090909091,92.2909090909091,92.2909090909091,92.2909090909091,92.2909090909091,92.2909090909091,92.2909090909091,92.2909090909091,92.2909090909091,92.2909090909091,92.2909090909091,92.2909090909091,92.2909090909091,92.2909090909091,92.2909090909091,92.2909090909091,92.2909090909091,92.2909090909091,92.2909090909091,92.2909090909091,92.2909090909091,92.2909090909091,92.2909090909091,92.2909090909091,92.2909090909091,92.2909090909091,92.2909090909091,92.2909090909091,92.2909090909091,15.5,15.5,140.25,140.25,43.52272727272727,75.16666666666667,27.791666666666668,27.791666666666668,27.791666666666668,27.791666666666668,27.791666666666668,27.791666666666668,22.65,22.8125,22.65,22.8125,22.65,22.65,22.8125,22.65,22.8125,41.125,41.125,70.4375,70.4375,70.4375,70.4375,85.875,85.875,64.5,64.5,64.5,64.5,9.75,20.0,20.0,12.0,12.0,336.5,1029.25,1029.25,28.0,28.0,124.5,5.75,5.75,27.5,27.5,76.0,76.0,76.0,54.25,50.75,50.75,50.75,43.25,43.25,43.25,43.0625,29.416666666666668,41.51923076923077,30.296875,54.25,42.458333333333336,42.17857142857143,42.17857142857143,42.17857142857143,42.17857142857143,42.17857142857143,42.17857142857143,42.17857142857143,167.625,167.625,167.625,167.625,8.125,8.125,8.125,8.125,134.875,134.875,22.25,8.125,8.125,8.125,8.125,34.375,34.375,34.375,34.375,62.625,62.625,62.625,62.625,43.52272727272727,32.54545454545455,78.875,49.236111111111114,49.236111111111114,49.236111111111114,49.236111111111114,49.236111111111114,49.236111111111114,49.236111111111114,49.236111111111114,49.236111111111114,49.236111111111114,49.236111111111114,49.236111111111114,49.236111111111114,49.236111111111114,49.236111111111114,49.236111111111114,49.236111111111114,49.236111111111114,31.5,31.5,42.0,111.35714285714286,111.35714285714286,111.35714285714286,111.35714285714286,111.35714285714286,111.35714285714286,111.35714285714286,111.35714285714286,111.35714285714286,111.35714285714286,111.35714285714286,111.35714285714286,111.35714285714286,111.35714285714286,111.35714285714286,111.35714285714286,111.35714285714286,111.35714285714286,111.35714285714286,111.35714285714286,111.35714285714286,27.125,27.125,30.75,1023.25,1023.25,126.75,28.125,28.125,28.125,39.5,159.11805555555554,156.04054054054055,315.57142857142856,213.86904761904762,201.0952380952381,160.05714285714285,28.125,98.0,85.33333333333333,85.33333333333333,85.33333333333333,85.33333333333333,85.33333333333333,85.33333333333333,42.875,42.875,11.375,11.375,16.0,9.583333333333334,9.583333333333334,9.583333333333334,9.583333333333334,9.583333333333334,9.583333333333334,8.4375,8.4375,8.4375,8.4375,11.875,11.875,20.0,20.0,20.0,14.0,14.0,15.9375,15.9375,15.9375,15.9375,15.9375,15.9375,15.9375,15.9375,953.7916666666666,953.7916666666666,953.7916666666666,953.7916666666666,953.7916666666666,953.7916666666666,1047.6875,1047.6875,1047.6875,1047.6875,24.946428571428573,24.946428571428573,24.946428571428573,24.946428571428573,24.946428571428573,24.946428571428573,24.946428571428573,24.946428571428573,24.946428571428573,24.946428571428573,24.946428571428573,24.946428571428573,24.946428571428573,24.946428571428573,29.083333333333332,22.636363636363637,29.083333333333332,29.083333333333332,22.636363636363637,29.083333333333332,22.636363636363637,29.083333333333332,29.083333333333332,40.0,22.636363636363637,16.333333333333332,16.333333333333332,16.333333333333332,16.333333333333332,16.333333333333332,16.333333333333332,38.714285714285715,38.714285714285715,38.714285714285715,38.714285714285715,38.714285714285715,38.714285714285715,38.714285714285715,38.714285714285715,38.714285714285715,38.714285714285715,38.714285714285715,38.714285714285715,38.714285714285715,38.714285714285715,143.75,143.75,799.1666666666666,799.1666666666666,799.1666666666666,799.1666666666666,799.1666666666666,799.1666666666666,114.83333333333333,114.83333333333333,114.83333333333333,114.83333333333333,114.83333333333333,114.83333333333333,114.83333333333333,114.83333333333333,114.83333333333333,114.83333333333333,114.83333333333333,114.83333333333333,25.0,22.583333333333332,22.583333333333332,22.583333333333332,34.625,34.625,21.363636363636363,21.363636363636363,21.363636363636363,21.363636363636363,21.363636363636363,21.363636363636363,21.363636363636363,21.363636363636363,21.363636363636363,21.363636363636363,21.363636363636363,21.363636363636363,21.363636363636363,21.363636363636363,21.363636363636363,21.363636363636363,21.363636363636363,21.363636363636363,21.363636363636363,21.363636363636363,21.363636363636363,21.363636363636363,22.75,28.75,282.3541666666667,282.3541666666667,282.3541666666667,282.3541666666667,282.3541666666667,282.3541666666667,282.3541666666667,282.3541666666667,282.3541666666667,282.3541666666667,282.3541666666667,282.3541666666667,282.3541666666667,242.5909090909091,282.3541666666667,242.5909090909091,282.3541666666667,242.5909090909091,282.3541666666667,219.28571428571428,356.5,282.3541666666667,242.5909090909091,219.28571428571428,282.3541666666667,242.5909090909091,219.28571428571428,356.5,282.3541666666667,242.5909090909091,282.3541666666667,242.5909090909091,219.28571428571428,356.5,282.3541666666667,242.5909090909091,219.28571428571428,356.5,282.3541666666667,242.5909090909091,219.28571428571428,282.3541666666667,242.5909090909091,282.3541666666667,242.5909090909091,53.5625,53.5625,53.5625,53.5625,53.5625,53.5625,53.5625,53.5625,91.84375,91.84375,91.84375,91.84375,91.84375,91.84375,91.84375,91.84375,91.84375,91.84375,91.84375,91.84375,91.84375,91.84375,91.84375,91.84375,219.28571428571428,219.28571428571428,219.28571428571428,219.28571428571428,219.28571428571428,219.28571428571428,219.28571428571428,219.28571428571428,234.25,42.625,42.625,42.625,75.16666666666667,42.625,30.61111111111111,42.625,75.16666666666667,42.625,30.61111111111111,27.178571428571427,27.178571428571427,27.178571428571427,27.178571428571427,27.178571428571427,27.178571428571427,27.178571428571427,25.083333333333332,25.083333333333332,25.083333333333332,25.083333333333332,25.083333333333332,25.083333333333332,25.083333333333332,25.083333333333332,25.083333333333332,40.583333333333336,40.583333333333336,40.583333333333336,40.583333333333336,40.583333333333336,40.583333333333336,40.583333333333336,40.583333333333336,40.583333333333336,21.0,21.0,21.0,21.0,24.25,21.0,24.25,21.0,13.25,79.2,79.2,79.2,79.2,79.2,79.2,79.2,79.2,79.2,79.2,79.2,79.2,79.2,79.2,79.2,79.2,79.2,79.2,79.2,79.2,22.625,20.21875,27.803571428571427,26.9,35.607142857142854,31.25,38.125,22.625,20.21875,27.803571428571427,26.9,35.607142857142854,31.25,39.666666666666664,33.45,33.45,33.45,33.45,33.45,33.45,33.45,33.45,33.45,33.45,33.45,33.45,33.45,33.45,33.45,14.875,34.660714285714285,34.660714285714285,34.660714285714285,34.660714285714285,34.660714285714285,34.660714285714285,34.660714285714285,34.660714285714285,34.660714285714285,34.660714285714285,34.660714285714285,34.660714285714285,34.660714285714285,34.660714285714285,14.875,38.27777777777778,34.4625,35.986111111111114,20.21875,27.803571428571427,26.9,35.607142857142854,31.25,20.21875,27.803571428571427,26.9,35.607142857142854,31.25,20.21875,27.803571428571427,26.9,35.607142857142854,31.25,20.21875,27.803571428571427,26.9,35.607142857142854,20.21875,27.803571428571427,26.9,35.607142857142854,31.25,382.8863636363636,382.8863636363636,382.8863636363636,382.8863636363636,382.8863636363636,382.8863636363636,382.8863636363636,382.8863636363636,382.8863636363636,382.8863636363636,382.8863636363636,315.8333333333333,334.8611111111111,95.25,315.8333333333333,334.8611111111111,315.8333333333333,334.8611111111111,334.8611111111111,315.8333333333333,334.8611111111111,334.8611111111111,334.8611111111111,315.8333333333333,315.8333333333333,334.8611111111111,334.8611111111111,34.4625,357.0,206.75,16.0,16.0,64.0,64.0,64.0,68.75,64.0,64.0,64.0,49.25,49.25,30.75,40.083333333333336,40.083333333333336,21.75,40.083333333333336,91.65,91.65,91.65,91.65,91.65,91.65,91.65,91.65,91.65,91.65,91.65,91.65,91.65,91.65,91.65,50.666666666666664,50.666666666666664,50.666666666666664,54.25,54.25,54.25,98.5,98.5,25.083333333333332,25.083333333333332,25.083333333333332,25.083333333333332,25.083333333333332,25.083333333333332,25.083333333333332,25.083333333333332,25.083333333333332,43.52272727272727,43.52272727272727,32.54545454545455,43.52272727272727,20.21875,27.803571428571427,26.9,36.5,35.607142857142854,43.52272727272727,32.54545454545455,78.875,43.52272727272727,43.52272727272727,43.52272727272727,43.52272727272727,32.54545454545455,43.52272727272727,52.38333333333333,52.38333333333333,52.38333333333333,52.38333333333333,52.38333333333333,52.38333333333333,52.38333333333333,52.38333333333333,52.38333333333333,52.38333333333333,52.38333333333333,52.38333333333333,52.38333333333333,52.38333333333333,52.38333333333333,32.54545454545455,32.54545454545455,32.54545454545455,32.54545454545455,32.54545454545455,32.54545454545455,32.54545454545455,120.125,120.125,120.125,120.125,120.125,120.125,120.125,120.125,120.125,120.125,120.125,120.125,120.125,120.125,120.125,120.125,120.125,120.125,120.125,120.125,120.125,120.125,120.125,120.125,120.125,120.125,120.125,120.125,120.125,120.125,120.125,120.125,120.125,120.125,120.125,120.125,120.125,120.125,120.125,120.125,120.125,120.125,120.125,120.125,120.125,120.125,120.125,120.125,50.375,50.375,50.375,50.375,50.375,50.375,50.375,50.375,27.803571428571427,26.9,27.803571428571427,26.9,36.5,35.607142857142854,42.15,31.25,42.15,42.15,38.125,42.15,39.666666666666664,27.803571428571427,26.9,36.5,35.607142857142854,42.15,31.25,42.15,42.15,38.125,42.15,39.666666666666664,27.803571428571427,26.9,36.5,35.607142857142854,42.15,31.25,42.15,42.15,38.125,42.15,39.666666666666664,27.803571428571427,26.9,36.5,35.607142857142854,42.15,31.25,42.15,42.15,38.125,42.15,39.666666666666664,27.803571428571427,26.9,35.607142857142854,69.625,69.625,26.9,36.5,42.15,31.25,42.15,42.15,38.125,42.15,39.666666666666664,18.75,155.5,155.5,155.5,180.25,180.25,155.5,180.25,180.25,229.75,180.25,180.25,37.9375,37.9375,37.9375,37.9375,37.9375,37.9375,37.9375,37.9375,37.9375,37.9375,37.9375,37.9375,34.4625,185.91666666666666,185.91666666666666,185.91666666666666,185.91666666666666,185.91666666666666,185.91666666666666,98.41666666666667,165.5625,155.96428571428572,43.0625,37.92391304347826,41.51923076923077,98.41666666666667,165.5625,155.96428571428572,165.5625,155.96428571428572,155.96428571428572,98.41666666666667,165.5625,155.96428571428572,30.5,155.96428571428572,177.5,155.96428571428572,55.125,55.125,416.9,416.9,416.9,416.9,416.9,416.9,328.9583333333333,416.9,328.9583333333333,416.9,416.9,786.0,416.9,328.9583333333333,392.3,392.3,392.3,392.3,392.3,328.9583333333333,328.9583333333333,328.9583333333333,73.04166666666667,73.04166666666667,73.04166666666667,73.04166666666667,73.04166666666667,73.04166666666667,73.04166666666667,73.04166666666667,73.04166666666667,73.04166666666667,73.04166666666667,73.04166666666667,12.714285714285714,12.291666666666666,12.714285714285714,12.714285714285714,12.291666666666666,12.714285714285714,12.714285714285714,12.291666666666666,12.714285714285714,17.25,12.714285714285714,12.291666666666666,12.714285714285714,12.714285714285714,12.714285714285714,17.25,22.1875,12.714285714285714,12.291666666666666,12.714285714285714,12.714285714285714,12.291666666666666,12.714285714285714,27.178571428571427,27.178571428571427,27.178571428571427,27.178571428571427,27.178571428571427,27.178571428571427,27.178571428571427,30.61111111111111,30.61111111111111,30.61111111111111,30.61111111111111,30.61111111111111,30.61111111111111,30.61111111111111,58.75,58.75,206.75,14.25,80.125,80.125,80.125,80.125,80.125,80.125,80.125,80.125,14.75,14.75,14.75,14.75,99.07142857142857,44.75,183.21875,14.75,31.583333333333332,99.07142857142857,44.75,183.21875,14.75,31.583333333333332,99.07142857142857,44.75,183.21875,58.96052631578947,58.96052631578947,58.96052631578947,58.96052631578947,58.96052631578947,58.96052631578947,58.96052631578947,58.96052631578947,58.96052631578947,58.96052631578947,58.96052631578947,58.96052631578947,58.96052631578947,58.96052631578947,58.96052631578947,58.96052631578947,58.96052631578947,58.96052631578947,58.96052631578947,99.07142857142857,44.75,183.21875,134.55,91.19444444444444,42.8125,69.28846153846153,73.0625,31.583333333333332,99.07142857142857,44.75,183.21875,225.125,134.55,157.91666666666666,91.19444444444444,63.25,42.8125,36.13636363636363,69.28846153846153,73.0625,99.07142857142857,183.21875,225.125,134.55,157.91666666666666,91.19444444444444,69.28846153846153,73.0625,99.07142857142857,134.55,91.19444444444444,42.8125,36.13636363636363,69.28846153846153,73.0625,227.0625,227.0625,227.0625,227.0625,227.0625,227.0625,227.0625,227.0625,85.125,85.125,85.125,85.125,85.125,85.125,85.125,85.125,85.125,85.125,85.125,85.125,85.125,85.125,213.0,213.0,213.0,115.75,18.5,115.75,16.5,6.25,38.125,38.125,22.636363636363637,22.636363636363637,22.636363636363637,22.636363636363637,22.636363636363637,22.636363636363637,22.636363636363637,22.9,22.9,22.9,22.9,22.9,134.55,157.91666666666666,51.375,91.19444444444444,34.45,34.45,34.45,34.45,34.45,37.9,37.9,37.9,37.9,37.9,51.375,381.25,381.25,623.45,470.17857142857144,684.0,684.0,684.0,684.0,623.45,470.17857142857144,623.45,470.17857142857144,623.45,470.17857142857144,623.45,470.17857142857144,87.0,87.0,470.17857142857144,470.17857142857144,170.1,170.1,170.1,170.1,170.1,170.1,170.1,170.1,170.1,170.1,170.1,164.13888888888889,170.1,170.1,164.13888888888889,170.1,170.1,164.13888888888889,170.1,170.1,164.13888888888889,170.1,170.1,164.13888888888889,170.1,170.1,164.13888888888889,170.1,170.1,164.13888888888889,170.1,170.1,164.13888888888889,170.1,170.1,170.1,170.1,164.13888888888889,170.1,22.1875,258.75,17.25,22.1875,258.75,17.25,22.1875,17.625,17.625,195.5,41.535714285714285,41.535714285714285,41.535714285714285,41.535714285714285,41.535714285714285,41.535714285714285,41.535714285714285,41.535714285714285,41.535714285714285,45.541666666666664,30.5,41.535714285714285,41.535714285714285,30.5,41.535714285714285,41.535714285714285,45.541666666666664,41.535714285714285,41.535714285714285,45.541666666666664,30.5,41.535714285714285,41.535714285714285,45.541666666666664,30.5,31.61111111111111,41.535714285714285,41.535714285714285,45.541666666666664,41.535714285714285,41.535714285714285,45.541666666666664,100.75,36.142857142857146,30.5,31.61111111111111,40.111111111111114,31.805555555555557,32.53125,32.53125,32.53125,32.53125,32.53125,32.53125,32.53125,32.53125,11.0,21.25,21.25,21.25,21.25,21.25,21.25,21.25,21.25,286.40625,286.40625,286.40625,286.40625,286.40625,286.40625,286.40625,286.40625,183.21875,183.21875,183.21875,183.21875,183.21875,183.21875,183.21875,183.21875,183.21875,183.21875,161.5,161.5,161.5,26.833333333333332,26.833333333333332,26.833333333333332,26.833333333333332,26.833333333333332,26.833333333333332,26.833333333333332,26.833333333333332,26.833333333333332,26.833333333333332,26.833333333333332,26.833333333333332,26.833333333333332,26.833333333333332,26.833333333333332,34.4625,35.986111111111114,38.27777777777778,34.4625,35.986111111111114,38.27777777777778,34.4625,35.986111111111114,34.4625,35.986111111111114,34.4625,35.986111111111114,38.27777777777778,34.4625,35.986111111111114,38.27777777777778,34.4625,35.986111111111114,38.27777777777778,34.4625,35.986111111111114,38.27777777777778,34.4625,35.986111111111114,38.27777777777778,34.4625,35.986111111111114,38.27777777777778,34.4625,35.986111111111114,36.916666666666664,36.916666666666664,36.916666666666664,34.4625,35.986111111111114,34.4625,35.986111111111114,34.4625,35.986111111111114,34.4625,35.986111111111114,34.4625,35.986111111111114,34.4625,35.986111111111114,98.33333333333333,98.33333333333333,98.33333333333333,75.625,77.9423076923077,55.25,75.625,77.9423076923077,43.583333333333336,55.25,75.625,77.9423076923077,43.583333333333336,125.6,125.6,125.6,125.6,125.6,75.625,77.9423076923077,75.625,75.625,77.9423076923077,75.78571428571429,75.78571428571429,75.78571428571429,75.78571428571429,75.78571428571429,75.78571428571429,75.78571428571429,75.78571428571429,75.78571428571429,75.78571428571429,75.78571428571429,75.78571428571429,75.78571428571429,75.78571428571429,77.9423076923077,77.9423076923077,43.583333333333336,77.9423076923077,77.9423076923077,77.9423076923077,77.9423076923077,77.9423076923077,77.9423076923077,122.25,91.19444444444444,91.19444444444444,91.19444444444444,91.19444444444444,125.0,35.607142857142854,43.0625,42.458333333333336,27.944444444444443,27.944444444444443,27.944444444444443,27.944444444444443,27.944444444444443,27.944444444444443,27.944444444444443,27.944444444444443,27.944444444444443,42.8125,36.13636363636363,69.28846153846153,73.0625,42.8125,36.13636363636363,69.28846153846153,73.0625,42.8125,36.13636363636363,69.28846153846153,73.0625,42.8125,36.13636363636363,69.28846153846153,73.0625,42.8125,36.13636363636363,69.28846153846153,73.0625,42.8125,36.13636363636363,69.28846153846153,73.0625,42.8125,36.13636363636363,69.28846153846153,42.8125,36.13636363636363,69.28846153846153,73.0625,42.8125,36.13636363636363,69.28846153846153,73.0625,112.38333333333334,112.38333333333334,112.38333333333334,112.38333333333334,112.38333333333334,112.38333333333334,112.38333333333334,112.38333333333334,112.38333333333334,112.38333333333334,112.38333333333334,112.38333333333334,112.38333333333334,112.38333333333334,112.38333333333334,112.38333333333334,127.2159090909091,131.11111111111111,127.2159090909091,127.2159090909091,120.02941176470588,125.75,112.38333333333334,127.2159090909091,131.11111111111111,127.2159090909091,127.2159090909091,120.02941176470588,125.75,112.38333333333334,127.2159090909091,131.11111111111111,127.2159090909091,127.2159090909091,112.38333333333334,127.2159090909091,131.11111111111111,127.2159090909091,127.2159090909091,120.02941176470588,125.75,112.38333333333334,127.2159090909091,131.11111111111111,127.2159090909091,127.2159090909091,120.02941176470588,125.75,112.38333333333334,127.2159090909091,131.11111111111111,127.2159090909091,127.2159090909091,120.02941176470588,125.75,112.38333333333334,127.2159090909091,127.2159090909091,127.2159090909091,125.75,112.38333333333334,127.2159090909091,127.2159090909091,127.2159090909091,125.75,112.38333333333334,127.2159090909091,131.11111111111111,127.2159090909091,127.2159090909091,120.02941176470588,125.75,112.38333333333334,127.2159090909091,127.2159090909091,127.2159090909091,112.38333333333334,127.2159090909091,131.11111111111111,127.2159090909091,127.2159090909091,120.02941176470588,125.75,112.38333333333334,127.2159090909091,131.11111111111111,127.2159090909091,127.2159090909091,120.02941176470588,125.75,112.38333333333334,127.2159090909091,131.11111111111111,127.2159090909091,127.2159090909091,120.02941176470588,125.75,112.38333333333334,127.2159090909091,131.11111111111111,127.2159090909091,127.2159090909091,112.38333333333334,127.2159090909091,127.2159090909091,127.2159090909091,120.02941176470588,125.75,143.53125,143.53125,143.53125,143.53125,143.53125,143.53125,143.53125,143.53125,127.2159090909091,131.11111111111111,127.2159090909091,127.2159090909091,125.75,127.2159090909091,131.11111111111111,127.2159090909091,127.2159090909091,120.02941176470588,125.75,127.2159090909091,131.11111111111111,127.2159090909091,127.2159090909091,120.02941176470588,125.75,131.11111111111111,120.02941176470588,127.2159090909091,127.2159090909091,127.2159090909091,120.02941176470588,125.75,127.2159090909091,131.11111111111111,127.2159090909091,127.2159090909091,125.75,127.2159090909091,131.11111111111111,127.2159090909091,127.2159090909091,120.02941176470588,125.75,127.2159090909091,131.11111111111111,127.2159090909091,127.2159090909091,120.02941176470588,125.75,223.625,223.625,120.02941176470588,25.375,25.375,25.375,25.375,25.375,25.375,36.142857142857146,31.61111111111111,40.111111111111114,31.805555555555557,36.142857142857146,30.5,31.61111111111111,40.111111111111114,31.805555555555557,36.142857142857146,31.61111111111111,40.111111111111114,31.805555555555557,36.142857142857146,31.61111111111111,40.111111111111114,31.805555555555557,36.142857142857146,31.61111111111111,40.111111111111114,31.805555555555557,36.142857142857146,30.5,31.61111111111111,40.111111111111114,31.805555555555557,10.75,31.61111111111111,40.111111111111114,31.805555555555557,42.25,42.25,42.25,31.805555555555557,40.111111111111114,159.27777777777777,159.27777777777777,159.27777777777777,159.27777777777777,159.27777777777777,159.27777777777777,159.27777777777777,159.27777777777777,159.27777777777777,159.27777777777777,159.27777777777777,159.27777777777777,159.27777777777777,159.27777777777777,159.27777777777777,159.27777777777777,159.27777777777777,159.27777777777777,159.27777777777777,159.27777777777777,159.27777777777777,159.27777777777777,159.27777777777777,159.27777777777777,159.27777777777777,159.27777777777777,159.27777777777777,159.27777777777777,159.27777777777777,159.27777777777777,159.27777777777777,159.27777777777777,159.27777777777777,159.27777777777777,159.27777777777777,159.27777777777777,159.11805555555554,156.04054054054055,269.39285714285717,151.64583333333334,213.86904761904762,201.0952380952381,160.05714285714285,159.11805555555554,169.66176470588235,156.04054054054055,160.05714285714285,159.11805555555554,156.04054054054055,160.05714285714285,159.11805555555554,169.66176470588235,156.04054054054055,151.64583333333334,213.86904761904762,160.05714285714285,159.11805555555554,156.04054054054055,159.11805555555554,156.04054054054055,151.64583333333334,160.05714285714285,159.11805555555554,169.66176470588235,156.04054054054055,160.05714285714285,159.11805555555554,156.04054054054055,151.64583333333334,213.86904761904762,201.0952380952381,160.05714285714285,159.11805555555554,169.66176470588235,156.04054054054055,269.39285714285717,151.64583333333334,201.0952380952381,160.05714285714285,159.11805555555554,169.66176470588235,156.04054054054055,269.39285714285717,151.64583333333334,315.57142857142856,213.86904761904762,201.0952380952381,160.05714285714285,915.125,2897.4333333333334,4101.931818181818,4000.1770833333335,2897.4333333333334,4101.931818181818,4101.931818181818,159.11805555555554,156.04054054054055,151.64583333333334,213.86904761904762,201.0952380952381,160.05714285714285,159.11805555555554,156.04054054054055,151.64583333333334,201.0952380952381,160.05714285714285,159.11805555555554,156.04054054054055,269.39285714285717,213.86904761904762,201.0952380952381,160.05714285714285,4000.1770833333335,159.11805555555554,156.04054054054055,151.64583333333334,213.86904761904762,201.0952380952381,160.05714285714285,159.11805555555554,169.66176470588235,156.04054054054055,269.39285714285717,151.64583333333334,315.57142857142856,213.86904761904762,160.05714285714285,915.125,2897.4333333333334,4101.931818181818,4000.1770833333335,2897.4333333333334,4101.931818181818,4101.931818181818,159.11805555555554,156.04054054054055,160.05714285714285,159.11805555555554,169.66176470588235,156.04054054054055,269.39285714285717,151.64583333333334,315.57142857142856,213.86904761904762,201.0952380952381,160.05714285714285,159.11805555555554,156.04054054054055,213.86904761904762,201.0952380952381,160.05714285714285,159.11805555555554,169.66176470588235,156.04054054054055,269.39285714285717,151.64583333333334,315.57142857142856,213.86904761904762,201.0952380952381,160.05714285714285,159.11805555555554,169.66176470588235,156.04054054054055,151.64583333333334,213.86904761904762,201.0952380952381,160.05714285714285,159.11805555555554,156.04054054054055,151.64583333333334,213.86904761904762,160.05714285714285,159.11805555555554,156.04054054054055,269.39285714285717,151.64583333333334,201.0952380952381,160.05714285714285,159.11805555555554,169.66176470588235,156.04054054054055,213.86904761904762,160.05714285714285,159.11805555555554,156.04054054054055,269.39285714285717,151.64583333333334,201.0952380952381,160.05714285714285,159.11805555555554,169.66176470588235,156.04054054054055,269.39285714285717,151.64583333333334,201.0952380952381,160.05714285714285,159.11805555555554,169.66176470588235,156.04054054054055,269.39285714285717,151.64583333333334,315.57142857142856,213.86904761904762,201.0952380952381,160.05714285714285,159.11805555555554,169.66176470588235,156.04054054054055,269.39285714285717,151.64583333333334,213.86904761904762,201.0952380952381,160.05714285714285,159.11805555555554,156.04054054054055,151.64583333333334,160.05714285714285,159.11805555555554,156.04054054054055,151.64583333333334,160.05714285714285,169.66176470588235,156.04054054054055,159.11805555555554,169.66176470588235,156.04054054054055,151.64583333333334,213.86904761904762,201.0952380952381,160.05714285714285,159.11805555555554,169.66176470588235,156.04054054054055,151.64583333333334,213.86904761904762,201.0952380952381,160.05714285714285,159.11805555555554,156.04054054054055,160.05714285714285,159.11805555555554,169.66176470588235,156.04054054054055,269.39285714285717,151.64583333333334,213.86904761904762,160.05714285714285,159.11805555555554,156.04054054054055,269.39285714285717,315.57142857142856,160.05714285714285,159.11805555555554,156.04054054054055,213.86904761904762,201.0952380952381,160.05714285714285,4434.523809523809,4434.523809523809,4434.523809523809,4434.523809523809,4434.523809523809,4434.523809523809,4434.523809523809,4434.523809523809,4434.523809523809,4434.523809523809,4434.523809523809,4434.523809523809,4434.523809523809,4434.523809523809,4434.523809523809,4434.523809523809,4434.523809523809,4434.523809523809,4434.523809523809,4434.523809523809,4434.523809523809,4101.931818181818,4000.1770833333335,4101.931818181818,4101.931818181818,2897.4333333333334,4101.931818181818,4000.1770833333335,2897.4333333333334,4101.931818181818,4101.931818181818,2897.4333333333334,4101.931818181818,4000.1770833333335,2897.4333333333334,4101.931818181818,4101.931818181818,2897.4333333333334,4101.931818181818,4000.1770833333335,2897.4333333333334,4101.931818181818,4101.931818181818,2897.4333333333334,4101.931818181818,1196.5,4000.1770833333335,2897.4333333333334,4101.931818181818,4101.931818181818,2897.4333333333334,4101.931818181818,4000.1770833333335,2897.4333333333334,4101.931818181818,4101.931818181818,2897.4333333333334,4101.931818181818,4000.1770833333335,2897.4333333333334,4101.931818181818,4101.931818181818,4101.931818181818,4000.1770833333335,4101.931818181818,4101.931818181818,2897.4333333333334,4101.931818181818,4000.1770833333335,2897.4333333333334,4101.931818181818,4101.931818181818,2897.4333333333334,4101.931818181818,4000.1770833333335,2897.4333333333334,4101.931818181818,4101.931818181818,2897.4333333333334,4101.931818181818,4000.1770833333335,2897.4333333333334,4101.931818181818,4101.931818181818,4101.931818181818,4000.1770833333335,4101.931818181818,4101.931818181818,4000.1770833333335,2897.4333333333334,4101.931818181818,4000.1770833333335,2897.4333333333334,4101.931818181818,4101.931818181818,2897.4333333333334,4101.931818181818,4000.1770833333335,2897.4333333333334,4101.931818181818,4101.931818181818,2897.4333333333334,4101.931818181818,4000.1770833333335,2897.4333333333334,4101.931818181818,4101.931818181818,4101.931818181818,4000.1770833333335,4101.931818181818,4101.931818181818,2897.4333333333334,4101.931818181818,4000.1770833333335,2897.4333333333334,4101.931818181818,4101.931818181818,4101.931818181818,4000.1770833333335,4101.931818181818,4101.931818181818,4101.931818181818,4000.1770833333335,4101.931818181818,4101.931818181818,4101.931818181818,4000.1770833333335,4101.931818181818,4101.931818181818,3922.75,3922.75,468.75,3466.75,940.75,34.595238095238095,34.595238095238095,34.595238095238095,34.595238095238095,34.595238095238095,34.595238095238095,34.595238095238095,34.595238095238095,34.595238095238095,34.595238095238095,34.595238095238095,34.595238095238095,34.595238095238095,34.595238095238095,34.595238095238095,34.595238095238095,34.595238095238095,34.595238095238095,34.595238095238095,34.595238095238095,34.595238095238095,43.0625,37.92391304347826,41.51923076923077,42.458333333333336,43.0625,37.92391304347826,41.51923076923077,33.60526315789474,30.296875,22.0,42.458333333333336,43.0625,37.92391304347826,41.51923076923077,33.60526315789474,22.0,42.458333333333336,43.0625,29.416666666666668,37.92391304347826,41.51923076923077,33.60526315789474,30.296875,42.458333333333336,43.0625,29.416666666666668,37.92391304347826,41.51923076923077,33.60526315789474,30.296875,42.458333333333336,43.0625,41.51923076923077,43.0625,29.416666666666668,37.92391304347826,41.51923076923077,33.60526315789474,30.296875,42.458333333333336,43.0625,37.92391304347826,41.51923076923077,33.60526315789474,42.458333333333336,43.0625,37.92391304347826,41.51923076923077,30.296875,42.458333333333336,43.0625,29.416666666666668,37.92391304347826,41.51923076923077,33.60526315789474,30.296875,42.458333333333336,43.0625,29.416666666666668,37.92391304347826,41.51923076923077,33.60526315789474,30.296875,42.458333333333336,43.0625,29.416666666666668,37.92391304347826,41.51923076923077,33.60526315789474,30.296875,42.458333333333336,43.0625,29.416666666666668,37.92391304347826,41.51923076923077,33.60526315789474,30.296875,42.458333333333336,43.0625,37.92391304347826,41.51923076923077,33.60526315789474,45.25,42.458333333333336,43.0625,37.92391304347826,41.51923076923077,30.296875,42.458333333333336,43.0625,29.416666666666668,37.92391304347826,41.51923076923077,33.60526315789474,42.458333333333336,43.0625,37.92391304347826,41.51923076923077,33.60526315789474,45.25,43.0625,29.416666666666668,37.92391304347826,41.51923076923077,33.60526315789474,30.296875,43.0625,29.416666666666668,37.92391304347826,41.51923076923077,33.60526315789474,30.296875,42.458333333333336,43.0625,29.416666666666668,37.92391304347826,41.51923076923077,33.60526315789474,30.296875,42.458333333333336,43.0625,37.92391304347826,41.51923076923077,33.60526315789474,30.296875,42.458333333333336,57.0,57.0,57.0,41.51923076923077,42.458333333333336,37.92391304347826,41.51923076923077,33.60526315789474,30.296875,42.458333333333336,37.92391304347826,41.51923076923077,33.60526315789474,42.458333333333336,161.0,161.0,161.0,161.0,22.25,98.25,42.458333333333336,113.875,113.875,2333.75,1741.9875,1741.9875,1741.9875,1741.9875,1741.9875,1741.9875,1741.9875,1741.9875,1741.9875,1741.9875,1741.9875,1741.9875,1741.9875,1741.9875,1741.9875,1741.9875,1741.9875,1741.9875,1741.9875,1741.9875,1858.9375,2592.25,2155.05,2998.5,2085.4583333333335,1858.9375,2261.0,2501.625,1858.9375,2155.05,2085.4583333333335,2261.0,1192.25,2501.625,2155.05,1858.9375,2592.25,1373.5,2085.4583333333335,1858.9375,1192.25,2261.0,2592.25,2155.05,2998.5,2085.4583333333335,1858.9375,2261.0,2501.625,2085.4583333333335,1858.9375,2592.25,2155.05,2998.5,2085.4583333333335,1858.9375,2261.0,2501.625,2036.25,2029.125,2029.125,2392.0,88.91666666666667,88.91666666666667,88.91666666666667,88.91666666666667,81.11111111111111,86.79411764705883,84.14285714285714,88.91666666666667,79.46875,81.11111111111111,97.25,86.79411764705883,90.0,93.08333333333333,84.14285714285714,104.6875,101.29166666666667,106.66666666666667,99.0625,88.91666666666667,79.46875,81.11111111111111,86.79411764705883,83.56666666666666,83.56666666666666,83.56666666666666,83.56666666666666,83.56666666666666,83.56666666666666,83.56666666666666,83.56666666666666,83.56666666666666,83.56666666666666,83.56666666666666,83.56666666666666,83.56666666666666,83.56666666666666,83.56666666666666,86.79411764705883,93.08333333333333,86.79411764705883,101.29166666666667,79.46875,86.79411764705883,84.14285714285714,79.46875,86.79411764705883,81.11111111111111,86.79411764705883,90.0,99.0625,79.46875,81.11111111111111,86.79411764705883,90.0,106.66666666666667,99.0625,79.46875,81.11111111111111,97.25,86.79411764705883,76.5,93.08333333333333,84.14285714285714,106.66666666666667,81.11111111111111,86.79411764705883,76.5,93.08333333333333,84.14285714285714,104.6875,86.79411764705883,86.79411764705883,101.29166666666667,86.79411764705883,93.08333333333333,81.11111111111111,76.5,84.14285714285714,104.6875,99.0625,90.0,104.6875,101.29166666666667,79.46875,81.11111111111111,97.25,90.0,93.08333333333333,84.14285714285714,79.46875,86.79411764705883,61.875,61.875,101.29166666666667,86.79411764705883,90.0,76.5,101.29166666666667,113.5,86.79411764705883,90.0,143.375,143.375,88.75,88.75],\"yaxis\":\"y\",\"type\":\"scattergl\"},{\"hovertemplate\":\"<b>OLS trendline</b><br>Transcript per million_y = 1.06874 * Transcript per million_x + 147.16<br>R<sup>2</sup>=0.411584<br><br>Transcript per million_x=%{x}<br>Transcript per million_y=%{y} <b>(trend)</b><extra></extra>\",\"legendgroup\":\"\",\"line\":{\"color\":\"red\"},\"marker\":{\"color\":\"#636efa\",\"symbol\":\"circle\"},\"mode\":\"lines\",\"name\":\"\",\"showlegend\":false,\"x\":[0.0,1.0,1.0,1.0,3.25,3.25,4.75,4.75,4.75,4.75,4.75,4.75,4.75,4.75,4.75,4.75,4.75,4.75,4.75,4.75,5.0,5.0,5.0,6.75,7.0,7.0,7.0,7.0,7.0,7.0,7.0,7.0,7.0,7.0,7.75,7.75,8.5,8.5,8.5,8.75,8.75,8.75,8.75,8.75,8.75,8.75,8.75,8.75,8.75,8.75,8.75,8.75,8.75,8.75,8.75,8.75,8.75,8.75,8.75,8.75,8.75,8.75,8.75,8.75,8.75,8.75,9.25,9.25,9.25,9.25,9.25,9.25,9.5,9.5,9.5,9.5,9.5,9.5,9.5,9.5,9.5,9.5,9.5,9.5,9.5,10.0,10.0,10.5,10.5,10.5,10.5,10.5,10.5,10.75,10.75,10.75,10.75,10.75,10.75,10.75,10.75,10.75,10.75,10.75,10.75,10.75,10.75,11.0,11.0,12.25,12.25,12.25,12.25,12.25,12.25,12.25,12.25,12.5,12.5,12.5,12.5,12.5,12.5,12.5,12.5,12.75,12.75,12.75,12.75,12.75,12.75,12.75,13.25,13.25,14.0,14.0,14.0,14.0,14.0,14.0,14.0,14.25,14.25,14.25,14.25,14.25,14.25,14.25,14.25,14.25,14.25,14.25,14.25,14.25,14.25,14.25,14.25,14.25,14.25,14.25,14.25,14.25,14.25,14.25,14.25,14.25,14.5,14.5,14.5,15.0,15.0,15.0,15.0,15.0,15.0,15.0,15.0,15.25,15.25,15.25,15.25,15.25,15.25,15.25,15.25,15.25,15.25,15.25,15.25,15.5,15.5,15.5,15.5,15.5,15.5,15.5,15.5,15.5,15.5,15.5,15.5,15.5,15.5,15.5,15.5,15.5,15.5,15.5,15.5,15.5,15.5,15.5,15.5,15.5,15.5,15.5,15.5,15.5,15.5,15.5,15.5,15.5,15.5,15.5,15.5,16.0,16.0,16.0,16.0,16.0,16.0,16.0,16.0,16.0,16.0,16.0,16.0,16.0,16.0,16.0,16.0,16.0,16.0,16.25,16.25,16.25,16.25,16.25,16.25,16.25,16.25,16.25,16.25,16.25,16.5,17.0,17.0,17.0,17.0,17.0,17.0,17.0,17.25,17.25,17.25,17.25,17.25,17.5,17.5,17.5,18.5,18.5,18.5,18.5,18.5,18.5,18.5,18.75,18.75,18.75,18.75,18.75,18.75,18.75,18.75,18.75,18.75,18.75,18.75,18.75,18.75,18.75,18.75,18.75,18.75,18.75,18.75,18.75,18.75,19.0,19.0,19.0,19.25,19.25,19.25,19.25,19.25,19.25,19.5,19.5,19.5,19.5,19.5,19.5,19.75,19.75,19.75,19.75,19.75,19.75,19.75,19.75,20.0,20.0,20.0,20.0,20.0,20.0,20.0,20.0,20.0,20.0,20.0,20.0,20.25,20.25,20.25,20.25,20.25,20.25,20.25,20.25,20.25,20.25,20.25,20.25,20.25,20.5,20.5,20.75,20.75,20.75,20.75,20.75,20.75,20.75,20.75,20.75,20.75,20.75,20.75,20.75,20.75,20.75,20.75,20.75,20.75,20.75,20.75,20.75,20.75,20.75,20.75,20.75,20.75,20.75,20.75,20.75,20.75,20.75,20.75,20.75,20.75,21.25,21.25,21.25,21.25,21.25,21.5,21.5,21.5,21.5,21.5,21.5,21.5,21.5,21.5,22.25,22.25,22.25,22.25,22.25,22.25,23.5,23.5,23.5,23.5,23.75,23.75,23.75,23.75,23.75,23.75,24.0,24.0,24.0,24.0,24.0,24.0,24.0,24.0,24.0,24.0,24.0,24.0,24.0,24.0,24.0,24.0,24.5,24.75,24.75,24.75,24.75,25.0,25.0,25.0,25.0,25.0,25.0,25.0,25.0,25.0,25.0,25.0,25.0,25.0,25.0,25.0,25.0,25.0,25.0,25.0,25.0,25.0,25.0,25.0,25.0,25.0,26.25,26.25,26.5,26.5,26.5,26.5,26.5,26.5,26.5,26.5,26.5,26.5,26.5,26.5,26.5,26.5,26.5,26.5,26.5,26.5,26.5,26.5,26.5,26.5,26.5,26.5,26.5,26.5,26.5,26.5,26.5,26.5,26.5,26.5,26.5,26.5,26.5,26.5,26.5,26.75,26.75,26.75,26.75,26.75,26.75,27.0,27.0,27.0,27.0,27.0,27.0,27.0,27.0,27.0,27.0,27.0,27.0,27.0,27.0,27.0,27.0,27.0,27.0,27.0,27.75,27.75,27.75,27.75,28.25,28.25,28.25,28.25,28.25,28.25,28.25,28.25,28.25,28.25,28.25,29.0,29.0,29.0,29.25,29.25,29.25,29.25,29.25,29.25,29.25,29.25,29.25,29.25,29.5,29.5,29.5,29.5,29.5,29.5,29.5,29.5,29.5,29.5,29.5,29.5,29.5,29.5,29.5,29.5,29.5,29.5,29.5,29.5,30.0,30.0,30.5,30.5,30.5,30.75,30.75,30.75,31.5,31.5,31.5,31.5,31.5,31.75,31.75,31.75,31.75,31.75,31.75,31.75,31.75,31.75,31.75,31.75,31.75,31.75,31.75,31.75,31.75,31.75,31.75,31.75,31.75,31.75,31.75,31.75,32.25,32.25,32.25,32.25,32.25,32.5,32.5,32.75,32.75,32.75,32.75,32.75,32.75,32.75,32.75,32.75,32.75,32.75,32.75,32.75,32.75,32.75,32.75,32.75,32.75,32.75,32.75,32.75,32.75,32.75,32.75,32.75,32.75,33.0,33.0,33.0,33.0,33.0,33.0,33.0,33.0,33.0,33.5,33.5,34.5,35.0,35.0,35.0,35.0,35.0,35.0,35.0,35.25,35.25,35.25,35.25,35.25,35.25,35.25,35.25,35.25,35.25,35.25,35.25,35.25,35.25,35.25,35.25,35.25,35.25,35.25,35.25,35.25,35.25,35.25,35.25,35.25,35.25,35.25,36.5,36.5,36.5,36.5,36.5,36.5,36.5,36.5,36.5,36.5,36.5,36.5,36.5,36.5,36.5,36.5,36.5,36.5,36.5,36.5,36.5,36.5,36.5,36.5,36.5,36.5,36.5,36.5,36.5,36.5,36.5,36.5,36.5,36.5,36.5,36.5,36.5,36.5,36.5,36.5,36.5,36.5,37.0,37.0,37.0,37.5,37.5,38.25,38.25,38.25,38.25,38.25,38.25,38.25,38.25,38.25,38.25,38.25,38.25,38.25,38.25,38.25,38.25,38.25,38.25,38.25,38.25,38.25,38.25,38.5,38.5,38.5,38.5,38.5,38.5,38.5,38.5,38.5,38.5,38.5,38.5,38.75,38.75,38.75,38.75,38.75,38.75,38.75,38.75,38.75,38.75,38.75,38.75,38.75,38.75,38.75,38.75,38.75,38.75,38.75,38.75,38.75,38.75,38.75,38.75,38.75,38.75,38.75,38.75,38.75,38.75,38.75,40.25,40.25,40.5,40.5,41.0,41.5,41.5,41.75,41.75,41.75,41.75,41.75,41.75,41.75,41.75,41.75,41.75,41.75,42.25,42.25,42.25,42.25,42.25,42.25,42.25,42.25,42.25,42.25,42.25,42.25,42.25,42.25,42.25,42.25,42.25,42.25,42.25,42.25,42.25,42.25,42.25,42.25,42.5,42.5,42.5,42.5,42.5,42.5,42.5,42.5,42.5,42.5,42.5,42.5,42.5,42.5,42.5,42.5,42.5,42.5,42.5,42.5,42.5,44.75,44.75,44.75,44.75,44.75,44.75,44.75,44.75,44.75,44.75,44.75,44.75,44.75,44.75,44.75,44.75,44.75,44.75,44.75,44.75,44.75,44.75,44.75,44.75,44.75,44.75,44.75,44.75,44.75,44.75,44.75,44.75,44.75,44.75,44.75,45.25,45.25,45.25,45.25,45.25,45.25,45.25,45.25,45.25,47.75,47.75,47.75,47.75,47.75,47.75,47.75,47.75,47.75,47.75,47.75,47.75,47.75,48.0,48.0,48.0,48.0,48.0,48.0,48.0,48.0,48.0,48.0,48.0,48.0,48.0,48.0,48.0,48.0,48.0,48.75,48.75,48.75,48.75,48.75,48.75,48.75,48.75,48.75,48.75,48.75,48.75,48.75,48.75,48.75,48.75,48.75,48.75,48.75,48.75,48.75,48.75,48.75,50.75,50.75,50.75,50.75,50.75,50.75,50.75,50.75,50.75,50.75,50.75,50.75,50.75,50.75,50.75,50.75,50.75,50.75,50.75,50.75,50.75,50.75,52.5,52.5,52.5,52.5,52.5,52.5,52.5,52.5,52.5,52.5,52.5,52.5,52.75,52.75,52.75,52.75,52.75,52.75,52.75,52.75,52.75,52.75,52.75,52.75,52.75,52.75,53.0,53.0,53.0,53.0,53.0,53.0,53.0,53.0,53.0,53.0,53.0,53.0,53.0,53.0,53.0,53.0,53.0,53.0,53.0,53.0,53.0,53.0,53.0,53.0,53.0,53.0,53.0,53.0,53.0,53.0,53.0,53.0,53.0,53.0,53.0,53.0,53.0,53.0,53.0,53.0,53.0,53.0,53.0,53.0,53.0,53.0,53.0,53.0,53.0,53.0,53.0,54.25,54.25,54.25,54.25,54.25,54.25,54.25,54.25,54.25,54.25,54.25,54.25,54.25,54.25,54.25,54.25,54.25,54.25,54.25,54.25,55.75,55.75,55.75,57.0,57.0,57.0,57.0,57.0,57.0,57.0,57.0,57.0,57.0,57.0,57.0,57.0,57.0,57.0,57.0,57.0,57.0,57.0,57.0,57.0,57.0,57.0,57.0,58.0,58.25,58.25,58.25,58.25,58.25,58.25,58.25,58.25,58.25,58.25,58.25,58.25,58.25,58.25,58.25,58.25,58.25,58.25,58.25,58.25,58.25,58.25,58.25,58.25,58.25,58.25,59.25,59.25,59.25,59.25,59.25,59.25,59.25,59.25,59.25,59.25,59.25,59.25,59.25,59.25,59.25,59.25,59.25,59.25,59.25,59.25,59.25,59.25,59.25,59.25,59.25,59.25,59.25,59.25,59.25,59.75,59.75,59.75,59.75,59.75,59.75,59.75,59.75,59.75,59.75,59.75,59.75,59.75,59.75,59.75,59.75,59.75,59.75,59.75,59.75,59.75,59.75,59.75,59.75,60.25,60.25,60.25,60.25,60.25,60.25,60.25,60.25,60.25,60.25,60.25,60.25,60.25,60.25,60.25,60.75,60.75,60.75,60.75,60.75,60.75,60.75,60.75,60.75,60.75,60.75,60.75,60.75,60.75,60.75,61.5,61.5,61.75,61.75,61.75,61.75,61.75,61.75,63.25,63.25,63.25,63.25,63.25,63.25,63.25,63.25,63.25,63.25,63.25,63.25,63.25,63.75,63.75,63.75,63.75,63.75,63.75,63.75,63.75,64.5,64.5,64.5,64.75,64.75,64.75,64.75,64.75,64.75,65.25,65.25,65.75,65.75,65.75,65.75,65.75,65.75,65.75,65.75,65.75,68.0,68.5,68.5,68.5,72.75,72.75,72.75,72.75,72.75,72.75,72.75,72.75,72.75,72.75,72.75,72.75,73.0,73.0,73.0,73.0,73.0,73.0,73.0,73.0,73.0,73.0,73.0,73.0,73.0,73.0,73.25,73.25,73.25,73.25,73.25,73.25,73.25,74.25,74.25,74.25,74.25,74.25,75.25,75.25,75.25,75.25,75.25,75.5,75.5,75.5,75.5,75.5,75.5,75.5,75.5,75.5,75.5,75.5,75.5,75.5,75.5,75.5,75.5,75.5,75.5,75.5,77.0,77.0,77.0,77.0,77.0,77.0,77.0,77.0,77.0,77.0,77.0,77.0,77.0,77.0,77.25,77.25,77.25,77.25,77.25,77.25,77.25,77.25,77.25,77.25,77.25,77.25,77.25,77.25,77.25,77.25,77.25,77.25,77.25,77.25,77.25,77.75,77.75,77.75,77.75,77.75,77.75,77.75,78.25,78.25,78.25,78.25,78.25,78.25,78.25,78.25,78.25,78.25,78.25,78.25,78.25,78.25,78.25,78.25,78.25,78.25,78.25,79.25,79.25,79.25,79.25,79.25,79.25,79.25,79.25,79.25,79.25,79.25,79.25,79.25,79.25,79.25,79.25,79.25,79.25,79.25,79.25,79.25,79.25,79.25,79.25,79.25,79.25,79.25,79.25,79.25,79.25,80.0,80.75,80.75,80.75,80.75,80.75,80.75,80.75,80.75,80.75,80.75,80.75,80.75,80.75,80.75,80.75,80.75,80.75,80.75,80.75,80.75,81.5,81.5,81.5,81.5,81.5,81.5,81.5,81.5,81.5,81.5,81.5,81.5,84.0,84.0,84.0,84.0,84.0,85.25,85.25,85.5,85.5,85.5,86.75,86.75,86.75,87.5,87.5,87.5,87.5,87.5,87.5,87.5,87.5,87.5,87.5,87.5,87.5,87.5,87.5,87.5,87.5,87.5,87.5,87.5,91.25,91.25,91.25,91.25,91.25,91.25,91.25,91.25,91.25,91.25,91.25,91.25,91.25,91.25,91.25,91.25,93.25,93.25,100.0,100.0,100.0,100.0,100.0,100.0,100.0,100.0,100.0,100.0,100.0,100.0,100.0,100.0,100.0,100.0,102.0,102.0,102.0,102.0,102.0,102.0,102.0,102.5,102.5,102.5,102.5,102.5,102.5,102.5,102.5,102.5,102.5,102.5,102.5,102.5,103.5,104.0,104.0,105.0,105.0,105.0,105.0,105.0,105.0,105.75,105.75,105.75,105.75,105.75,105.75,105.75,105.75,105.75,105.75,105.75,105.75,105.75,105.75,105.75,105.75,105.75,105.75,106.0,106.5,106.5,106.5,106.5,106.5,106.5,113.25,113.25,113.25,113.25,113.25,113.25,113.25,113.25,113.25,113.25,113.25,113.25,113.25,113.25,113.25,113.25,113.25,113.25,113.25,113.25,113.25,113.25,118.0,118.0,118.0,118.0,118.0,118.0,118.0,119.0,119.0,119.0,120.75,120.75,120.75,120.75,120.75,120.75,120.75,120.75,120.75,120.75,120.75,120.75,120.75,120.75,120.75,120.75,120.75,120.75,120.75,120.75,120.75,120.75,120.75,120.75,120.75,120.75,120.75,120.75,120.75,120.75,120.75,120.75,120.75,120.75,120.75,120.75,120.75,121.5,122.25,122.25,124.0,124.0,124.0,124.0,124.0,124.0,124.0,124.0,124.0,124.0,129.25,129.25,129.25,129.25,129.25,129.25,129.25,129.25,129.25,129.25,135.75,137.5,137.5,137.5,137.5,137.5,137.5,137.5,137.5,137.5,137.5,137.5,137.5,137.5,137.5,137.5,137.5,137.5,137.5,137.5,137.5,137.5,137.5,137.5,137.5,137.5,137.5,137.5,139.75,139.75,139.75,139.75,139.75,139.75,139.75,139.75,139.75,139.75,139.75,139.75,139.75,139.75,139.75,139.75,139.75,139.75,139.75,139.75,139.75,143.5,143.5,143.5,143.5,143.5,143.5,143.5,143.5,143.5,144.25,144.25,144.25,144.25,144.25,148.0,148.0,148.0,148.0,148.0,148.0,148.0,148.0,148.0,152.0,152.0,152.0,154.0,154.0,154.0,154.0,154.0,154.0,154.0,154.0,154.0,154.0,154.0,154.0,154.0,154.0,154.0,154.0,154.0,154.0,154.0,154.0,154.0,154.0,154.0,154.0,154.0,154.0,154.0,154.0,154.0,154.0,154.0,154.0,154.0,154.0,154.0,154.0,154.0,154.0,154.0,154.0,154.0,154.0,154.0,154.0,154.0,154.0,154.0,154.0,154.0,154.0,154.0,154.0,154.0,154.0,154.0,155.75,155.75,155.75,155.75,161.0,165.25,165.25,165.25,165.25,165.25,165.25,165.25,165.25,165.25,165.25,165.25,165.25,165.25,165.25,165.25,165.25,165.25,165.25,165.25,165.25,170.5,170.5,171.0,171.0,171.0,171.0,171.0,171.0,171.0,171.0,171.0,171.0,171.0,171.0,171.0,171.0,171.0,171.0,171.0,171.0,171.0,171.0,171.0,171.0,178.0,178.0,178.0,178.0,178.0,178.0,178.0,178.0,178.0,178.0,178.0,180.0,180.0,180.0,183.25,183.25,183.25,183.25,183.25,185.75,185.75,185.75,185.75,195.25,195.25,195.25,195.25,195.25,195.25,195.25,195.25,195.25,195.25,201.75,201.75,201.75,201.75,201.75,201.75,201.75,201.75,201.75,201.75,201.75,201.75,201.75,201.75,201.75,201.75,201.75,201.75,201.75,201.75,204.25,204.25,204.25,204.25,204.25,204.25,204.25,204.25,204.25,206.75,206.75,206.75,206.75,206.75,206.75,206.75,206.75,206.75,206.75,206.75,206.75,206.75,206.75,206.75,206.75,206.75,206.75,206.75,208.25,230.5,230.5,230.5,230.5,230.5,230.5,244.5,244.5,244.5,244.5,244.5,244.5,244.5,244.5,244.5,244.5,244.5,244.5,244.5,244.5,244.5,244.5,244.5,244.5,244.5,244.5,244.5,244.5,244.5,244.5,244.5,244.5,245.75,245.75,245.75,245.75,245.75,245.75,245.75,245.75,245.75,245.75,245.75,245.75,245.75,245.75,258.75,258.75,258.75,258.75,258.75,258.75,258.75,263.5,263.5,263.5,263.5,263.5,263.5,263.5,269.75,269.75,269.75,269.75,269.75,271.5,271.5,289.75,289.75,289.75,289.75,289.75,289.75,289.75,289.75,289.75,289.75,289.75,289.75,289.75,289.75,289.75,289.75,289.75,289.75,289.75,289.75,289.75,289.75,334.0,353.0,353.0,353.0,353.0,353.0,353.0,353.0,373.75,373.75,373.75,373.75,373.75,373.75,373.75,373.75,373.75,373.75,373.75,373.75,373.75,373.75,373.75,373.75,373.75,373.75,373.75,373.75,373.75,373.75,373.75,373.75,373.75,373.75,373.75,414.0,459.75,459.75,459.75,459.75,459.75,459.75,459.75,502.25,502.25,502.25,502.25,502.25,502.25,502.25,502.25,502.25,502.25,502.25,502.25,502.25,525.5,525.5,525.5,525.5,525.5,530.75,530.75,530.75,530.75,530.75,530.75,530.75,530.75,530.75,530.75,530.75,530.75,530.75,530.75,530.75,530.75,530.75,530.75,530.75,530.75,530.75,530.75,530.75,537.75,565.0,692.0,692.0,702.75,702.75,702.75,702.75,776.25,776.25,776.25,776.25,776.25,776.25,776.25,776.25,776.25,776.25,776.25,776.25,776.25,776.25,776.25,776.25,776.25,776.25,776.25,776.25,776.25,776.25,776.25,776.25,776.25,794.5,794.5,794.5,794.5,794.5,794.5,794.5,879.25,879.25,879.25,879.25,879.25,879.25,879.25,879.25,879.25,879.25,879.25,879.25,879.25,879.25,879.25,1027.75,1027.75,1027.75,1027.75,1027.75,1027.75,1027.75,1027.75,1027.75,1027.75,1027.75,1027.75,1027.75,1027.75,1027.75,1027.75,1027.75,1027.75,1027.75,1027.75,1091.25,1091.25,1091.25,1120.5,1162.75,1209.5,1209.5,1209.5,1324.25,1324.25,1324.25,1324.25,1324.25,1324.25,1457.25,1457.25,1457.25,1457.25,1457.25,1489.5,1489.5,1489.5,1489.5,1489.5,1489.5,1489.5,1489.5,1489.5,1489.5,1489.5,1489.5,1489.5,1489.5,1489.5,1489.5,1489.5,1489.5,1489.5,1489.5,1489.5,1489.5,1489.5,1498.25,1498.25,1498.25,1498.25,1498.25,1498.25,1498.25,1498.25,1498.25,1498.25,1498.25,1498.25,1498.25,1498.25,1498.25,1498.25,1498.25,1498.25,1498.25,1498.25,1498.25,1498.25,1498.25,1645.25,1792.5,1881.75,1881.75,2118.0,2118.0,2118.0,2118.0,2118.0,2118.0,2118.0,2118.0,2118.0,2272.25,2272.25,2272.25,2272.25,2272.25,2272.25,2272.25,2272.25,2272.25,2272.25,2272.25,2272.25,2272.25,2272.25,2272.25,2274.0,2274.0,2274.0,2274.0,2274.0,2274.0,2274.0,2274.0,2274.0,2274.0,2274.0,2274.0,2274.0,2274.0,2274.0,2274.0,2274.0,2274.0,2274.0,2274.0,2274.0,2274.0,2274.0,2274.0,2485.75,2485.75,2485.75,2485.75,2485.75,2485.75,2925.75,2925.75,2925.75,2925.75,2925.75,3774.25,3774.25,3774.25,3774.25,3774.25,5149.25,5149.25,7542.75,7542.75,7542.75,7542.75],\"xaxis\":\"x\",\"y\":[147.16049168402282,148.2292352251366,148.2292352251366,148.2292352251366,150.63390819264254,150.63390819264254,152.23702350431319,152.23702350431319,152.23702350431319,152.23702350431319,152.23702350431319,152.23702350431319,152.23702350431319,152.23702350431319,152.23702350431319,152.23702350431319,152.23702350431319,152.23702350431319,152.23702350431319,152.23702350431319,152.50420938959164,152.50420938959164,152.50420938959164,154.3745105865407,154.64169647181916,154.64169647181916,154.64169647181916,154.64169647181916,154.64169647181916,154.64169647181916,154.64169647181916,154.64169647181916,154.64169647181916,154.64169647181916,155.44325412765448,155.44325412765448,156.2448117834898,156.2448117834898,156.2448117834898,156.51199766876823,156.51199766876823,156.51199766876823,156.51199766876823,156.51199766876823,156.51199766876823,156.51199766876823,156.51199766876823,156.51199766876823,156.51199766876823,156.51199766876823,156.51199766876823,156.51199766876823,156.51199766876823,156.51199766876823,156.51199766876823,156.51199766876823,156.51199766876823,156.51199766876823,156.51199766876823,156.51199766876823,156.51199766876823,156.51199766876823,156.51199766876823,156.51199766876823,156.51199766876823,156.51199766876823,157.04636943932513,157.04636943932513,157.04636943932513,157.04636943932513,157.04636943932513,157.04636943932513,157.31355532460356,157.31355532460356,157.31355532460356,157.31355532460356,157.31355532460356,157.31355532460356,157.31355532460356,157.31355532460356,157.31355532460356,157.31355532460356,157.31355532460356,157.31355532460356,157.31355532460356,157.84792709516043,157.84792709516043,158.38229886571733,158.38229886571733,158.38229886571733,158.38229886571733,158.38229886571733,158.38229886571733,158.64948475099575,158.64948475099575,158.64948475099575,158.64948475099575,158.64948475099575,158.64948475099575,158.64948475099575,158.64948475099575,158.64948475099575,158.64948475099575,158.64948475099575,158.64948475099575,158.64948475099575,158.64948475099575,158.9166706362742,158.9166706362742,160.2526000626664,160.2526000626664,160.2526000626664,160.2526000626664,160.2526000626664,160.2526000626664,160.2526000626664,160.2526000626664,160.51978594794485,160.51978594794485,160.51978594794485,160.51978594794485,160.51978594794485,160.51978594794485,160.51978594794485,160.51978594794485,160.78697183322328,160.78697183322328,160.78697183322328,160.78697183322328,160.78697183322328,160.78697183322328,160.78697183322328,161.32134360378018,161.32134360378018,162.1229012596155,162.1229012596155,162.1229012596155,162.1229012596155,162.1229012596155,162.1229012596155,162.1229012596155,162.39008714489393,162.39008714489393,162.39008714489393,162.39008714489393,162.39008714489393,162.39008714489393,162.39008714489393,162.39008714489393,162.39008714489393,162.39008714489393,162.39008714489393,162.39008714489393,162.39008714489393,162.39008714489393,162.39008714489393,162.39008714489393,162.39008714489393,162.39008714489393,162.39008714489393,162.39008714489393,162.39008714489393,162.39008714489393,162.39008714489393,162.39008714489393,162.39008714489393,162.65727303017238,162.65727303017238,162.65727303017238,163.19164480072925,163.19164480072925,163.19164480072925,163.19164480072925,163.19164480072925,163.19164480072925,163.19164480072925,163.19164480072925,163.4588306860077,163.4588306860077,163.4588306860077,163.4588306860077,163.4588306860077,163.4588306860077,163.4588306860077,163.4588306860077,163.4588306860077,163.4588306860077,163.4588306860077,163.4588306860077,163.72601657128612,163.72601657128612,163.72601657128612,163.72601657128612,163.72601657128612,163.72601657128612,163.72601657128612,163.72601657128612,163.72601657128612,163.72601657128612,163.72601657128612,163.72601657128612,163.72601657128612,163.72601657128612,163.72601657128612,163.72601657128612,163.72601657128612,163.72601657128612,163.72601657128612,163.72601657128612,163.72601657128612,163.72601657128612,163.72601657128612,163.72601657128612,163.72601657128612,163.72601657128612,163.72601657128612,163.72601657128612,163.72601657128612,163.72601657128612,163.72601657128612,163.72601657128612,163.72601657128612,163.72601657128612,163.72601657128612,163.72601657128612,164.26038834184303,164.26038834184303,164.26038834184303,164.26038834184303,164.26038834184303,164.26038834184303,164.26038834184303,164.26038834184303,164.26038834184303,164.26038834184303,164.26038834184303,164.26038834184303,164.26038834184303,164.26038834184303,164.26038834184303,164.26038834184303,164.26038834184303,164.26038834184303,164.52757422712145,164.52757422712145,164.52757422712145,164.52757422712145,164.52757422712145,164.52757422712145,164.52757422712145,164.52757422712145,164.52757422712145,164.52757422712145,164.52757422712145,164.7947601123999,165.32913188295677,165.32913188295677,165.32913188295677,165.32913188295677,165.32913188295677,165.32913188295677,165.32913188295677,165.59631776823522,165.59631776823522,165.59631776823522,165.59631776823522,165.59631776823522,165.86350365351365,165.86350365351365,165.86350365351365,166.93224719462742,166.93224719462742,166.93224719462742,166.93224719462742,166.93224719462742,166.93224719462742,166.93224719462742,167.19943307990587,167.19943307990587,167.19943307990587,167.19943307990587,167.19943307990587,167.19943307990587,167.19943307990587,167.19943307990587,167.19943307990587,167.19943307990587,167.19943307990587,167.19943307990587,167.19943307990587,167.19943307990587,167.19943307990587,167.19943307990587,167.19943307990587,167.19943307990587,167.19943307990587,167.19943307990587,167.19943307990587,167.19943307990587,167.4666189651843,167.4666189651843,167.4666189651843,167.73380485046275,167.73380485046275,167.73380485046275,167.73380485046275,167.73380485046275,167.73380485046275,168.0009907357412,168.0009907357412,168.0009907357412,168.0009907357412,168.0009907357412,168.0009907357412,168.26817662101962,168.26817662101962,168.26817662101962,168.26817662101962,168.26817662101962,168.26817662101962,168.26817662101962,168.26817662101962,168.53536250629807,168.53536250629807,168.53536250629807,168.53536250629807,168.53536250629807,168.53536250629807,168.53536250629807,168.53536250629807,168.53536250629807,168.53536250629807,168.53536250629807,168.53536250629807,168.8025483915765,168.8025483915765,168.8025483915765,168.8025483915765,168.8025483915765,168.8025483915765,168.8025483915765,168.8025483915765,168.8025483915765,168.8025483915765,168.8025483915765,168.8025483915765,168.8025483915765,169.06973427685494,169.06973427685494,169.3369201621334,169.3369201621334,169.3369201621334,169.3369201621334,169.3369201621334,169.3369201621334,169.3369201621334,169.3369201621334,169.3369201621334,169.3369201621334,169.3369201621334,169.3369201621334,169.3369201621334,169.3369201621334,169.3369201621334,169.3369201621334,169.3369201621334,169.3369201621334,169.3369201621334,169.3369201621334,169.3369201621334,169.3369201621334,169.3369201621334,169.3369201621334,169.3369201621334,169.3369201621334,169.3369201621334,169.3369201621334,169.3369201621334,169.3369201621334,169.3369201621334,169.3369201621334,169.3369201621334,169.3369201621334,169.87129193269027,169.87129193269027,169.87129193269027,169.87129193269027,169.87129193269027,170.13847781796872,170.13847781796872,170.13847781796872,170.13847781796872,170.13847781796872,170.13847781796872,170.13847781796872,170.13847781796872,170.13847781796872,170.94003547380402,170.94003547380402,170.94003547380402,170.94003547380402,170.94003547380402,170.94003547380402,172.27596490019624,172.27596490019624,172.27596490019624,172.27596490019624,172.54315078547467,172.54315078547467,172.54315078547467,172.54315078547467,172.54315078547467,172.54315078547467,172.81033667075312,172.81033667075312,172.81033667075312,172.81033667075312,172.81033667075312,172.81033667075312,172.81033667075312,172.81033667075312,172.81033667075312,172.81033667075312,172.81033667075312,172.81033667075312,172.81033667075312,172.81033667075312,172.81033667075312,172.81033667075312,173.34470844131,173.61189432658844,173.61189432658844,173.61189432658844,173.61189432658844,173.8790802118669,173.8790802118669,173.8790802118669,173.8790802118669,173.8790802118669,173.8790802118669,173.8790802118669,173.8790802118669,173.8790802118669,173.8790802118669,173.8790802118669,173.8790802118669,173.8790802118669,173.8790802118669,173.8790802118669,173.8790802118669,173.8790802118669,173.8790802118669,173.8790802118669,173.8790802118669,173.8790802118669,173.8790802118669,173.8790802118669,173.8790802118669,173.8790802118669,175.2150096382591,175.2150096382591,175.4821955235375,175.4821955235375,175.4821955235375,175.4821955235375,175.4821955235375,175.4821955235375,175.4821955235375,175.4821955235375,175.4821955235375,175.4821955235375,175.4821955235375,175.4821955235375,175.4821955235375,175.4821955235375,175.4821955235375,175.4821955235375,175.4821955235375,175.4821955235375,175.4821955235375,175.4821955235375,175.4821955235375,175.4821955235375,175.4821955235375,175.4821955235375,175.4821955235375,175.4821955235375,175.4821955235375,175.4821955235375,175.4821955235375,175.4821955235375,175.4821955235375,175.4821955235375,175.4821955235375,175.4821955235375,175.4821955235375,175.4821955235375,175.4821955235375,175.74938140881596,175.74938140881596,175.74938140881596,175.74938140881596,175.74938140881596,175.74938140881596,176.0165672940944,176.0165672940944,176.0165672940944,176.0165672940944,176.0165672940944,176.0165672940944,176.0165672940944,176.0165672940944,176.0165672940944,176.0165672940944,176.0165672940944,176.0165672940944,176.0165672940944,176.0165672940944,176.0165672940944,176.0165672940944,176.0165672940944,176.0165672940944,176.0165672940944,176.8181249499297,176.8181249499297,176.8181249499297,176.8181249499297,177.3524967204866,177.3524967204866,177.3524967204866,177.3524967204866,177.3524967204866,177.3524967204866,177.3524967204866,177.3524967204866,177.3524967204866,177.3524967204866,177.3524967204866,178.15405437632194,178.15405437632194,178.15405437632194,178.42124026160036,178.42124026160036,178.42124026160036,178.42124026160036,178.42124026160036,178.42124026160036,178.42124026160036,178.42124026160036,178.42124026160036,178.42124026160036,178.6884261468788,178.6884261468788,178.6884261468788,178.6884261468788,178.6884261468788,178.6884261468788,178.6884261468788,178.6884261468788,178.6884261468788,178.6884261468788,178.6884261468788,178.6884261468788,178.6884261468788,178.6884261468788,178.6884261468788,178.6884261468788,178.6884261468788,178.6884261468788,178.6884261468788,178.6884261468788,179.22279791743568,179.22279791743568,179.7571696879926,179.7571696879926,179.7571696879926,180.024355573271,180.024355573271,180.024355573271,180.82591322910633,180.82591322910633,180.82591322910633,180.82591322910633,180.82591322910633,181.09309911438476,181.09309911438476,181.09309911438476,181.09309911438476,181.09309911438476,181.09309911438476,181.09309911438476,181.09309911438476,181.09309911438476,181.09309911438476,181.09309911438476,181.09309911438476,181.09309911438476,181.09309911438476,181.09309911438476,181.09309911438476,181.09309911438476,181.09309911438476,181.09309911438476,181.09309911438476,181.09309911438476,181.09309911438476,181.09309911438476,181.62747088494166,181.62747088494166,181.62747088494166,181.62747088494166,181.62747088494166,181.89465677022008,181.89465677022008,182.16184265549853,182.16184265549853,182.16184265549853,182.16184265549853,182.16184265549853,182.16184265549853,182.16184265549853,182.16184265549853,182.16184265549853,182.16184265549853,182.16184265549853,182.16184265549853,182.16184265549853,182.16184265549853,182.16184265549853,182.16184265549853,182.16184265549853,182.16184265549853,182.16184265549853,182.16184265549853,182.16184265549853,182.16184265549853,182.16184265549853,182.16184265549853,182.16184265549853,182.16184265549853,182.42902854077698,182.42902854077698,182.42902854077698,182.42902854077698,182.42902854077698,182.42902854077698,182.42902854077698,182.42902854077698,182.42902854077698,182.96340031133386,182.96340031133386,184.03214385244763,184.5665156230045,184.5665156230045,184.5665156230045,184.5665156230045,184.5665156230045,184.5665156230045,184.5665156230045,184.83370150828296,184.83370150828296,184.83370150828296,184.83370150828296,184.83370150828296,184.83370150828296,184.83370150828296,184.83370150828296,184.83370150828296,184.83370150828296,184.83370150828296,184.83370150828296,184.83370150828296,184.83370150828296,184.83370150828296,184.83370150828296,184.83370150828296,184.83370150828296,184.83370150828296,184.83370150828296,184.83370150828296,184.83370150828296,184.83370150828296,184.83370150828296,184.83370150828296,184.83370150828296,184.83370150828296,186.16963093467515,186.16963093467515,186.16963093467515,186.16963093467515,186.16963093467515,186.16963093467515,186.16963093467515,186.16963093467515,186.16963093467515,186.16963093467515,186.16963093467515,186.16963093467515,186.16963093467515,186.16963093467515,186.16963093467515,186.16963093467515,186.16963093467515,186.16963093467515,186.16963093467515,186.16963093467515,186.16963093467515,186.16963093467515,186.16963093467515,186.16963093467515,186.16963093467515,186.16963093467515,186.16963093467515,186.16963093467515,186.16963093467515,186.16963093467515,186.16963093467515,186.16963093467515,186.16963093467515,186.16963093467515,186.16963093467515,186.16963093467515,186.16963093467515,186.16963093467515,186.16963093467515,186.16963093467515,186.16963093467515,186.16963093467515,186.70400270523203,186.70400270523203,186.70400270523203,187.2383744757889,187.2383744757889,188.03993213162423,188.03993213162423,188.03993213162423,188.03993213162423,188.03993213162423,188.03993213162423,188.03993213162423,188.03993213162423,188.03993213162423,188.03993213162423,188.03993213162423,188.03993213162423,188.03993213162423,188.03993213162423,188.03993213162423,188.03993213162423,188.03993213162423,188.03993213162423,188.03993213162423,188.03993213162423,188.03993213162423,188.03993213162423,188.30711801690268,188.30711801690268,188.30711801690268,188.30711801690268,188.30711801690268,188.30711801690268,188.30711801690268,188.30711801690268,188.30711801690268,188.30711801690268,188.30711801690268,188.30711801690268,188.5743039021811,188.5743039021811,188.5743039021811,188.5743039021811,188.5743039021811,188.5743039021811,188.5743039021811,188.5743039021811,188.5743039021811,188.5743039021811,188.5743039021811,188.5743039021811,188.5743039021811,188.5743039021811,188.5743039021811,188.5743039021811,188.5743039021811,188.5743039021811,188.5743039021811,188.5743039021811,188.5743039021811,188.5743039021811,188.5743039021811,188.5743039021811,188.5743039021811,188.5743039021811,188.5743039021811,188.5743039021811,188.5743039021811,188.5743039021811,188.5743039021811,190.17741921385175,190.17741921385175,190.4446050991302,190.4446050991302,190.97897686968707,191.51334864024395,191.51334864024395,191.7805345255224,191.7805345255224,191.7805345255224,191.7805345255224,191.7805345255224,191.7805345255224,191.7805345255224,191.7805345255224,191.7805345255224,191.7805345255224,191.7805345255224,192.31490629607927,192.31490629607927,192.31490629607927,192.31490629607927,192.31490629607927,192.31490629607927,192.31490629607927,192.31490629607927,192.31490629607927,192.31490629607927,192.31490629607927,192.31490629607927,192.31490629607927,192.31490629607927,192.31490629607927,192.31490629607927,192.31490629607927,192.31490629607927,192.31490629607927,192.31490629607927,192.31490629607927,192.31490629607927,192.31490629607927,192.31490629607927,192.58209218135772,192.58209218135772,192.58209218135772,192.58209218135772,192.58209218135772,192.58209218135772,192.58209218135772,192.58209218135772,192.58209218135772,192.58209218135772,192.58209218135772,192.58209218135772,192.58209218135772,192.58209218135772,192.58209218135772,192.58209218135772,192.58209218135772,192.58209218135772,192.58209218135772,192.58209218135772,192.58209218135772,194.9867651488637,194.9867651488637,194.9867651488637,194.9867651488637,194.9867651488637,194.9867651488637,194.9867651488637,194.9867651488637,194.9867651488637,194.9867651488637,194.9867651488637,194.9867651488637,194.9867651488637,194.9867651488637,194.9867651488637,194.9867651488637,194.9867651488637,194.9867651488637,194.9867651488637,194.9867651488637,194.9867651488637,194.9867651488637,194.9867651488637,194.9867651488637,194.9867651488637,194.9867651488637,194.9867651488637,194.9867651488637,194.9867651488637,194.9867651488637,194.9867651488637,194.9867651488637,194.9867651488637,194.9867651488637,194.9867651488637,195.52113691942057,195.52113691942057,195.52113691942057,195.52113691942057,195.52113691942057,195.52113691942057,195.52113691942057,195.52113691942057,195.52113691942057,198.19299577220497,198.19299577220497,198.19299577220497,198.19299577220497,198.19299577220497,198.19299577220497,198.19299577220497,198.19299577220497,198.19299577220497,198.19299577220497,198.19299577220497,198.19299577220497,198.19299577220497,198.46018165748342,198.46018165748342,198.46018165748342,198.46018165748342,198.46018165748342,198.46018165748342,198.46018165748342,198.46018165748342,198.46018165748342,198.46018165748342,198.46018165748342,198.46018165748342,198.46018165748342,198.46018165748342,198.46018165748342,198.46018165748342,198.46018165748342,199.26173931331874,199.26173931331874,199.26173931331874,199.26173931331874,199.26173931331874,199.26173931331874,199.26173931331874,199.26173931331874,199.26173931331874,199.26173931331874,199.26173931331874,199.26173931331874,199.26173931331874,199.26173931331874,199.26173931331874,199.26173931331874,199.26173931331874,199.26173931331874,199.26173931331874,199.26173931331874,199.26173931331874,199.26173931331874,199.26173931331874,201.39922639554626,201.39922639554626,201.39922639554626,201.39922639554626,201.39922639554626,201.39922639554626,201.39922639554626,201.39922639554626,201.39922639554626,201.39922639554626,201.39922639554626,201.39922639554626,201.39922639554626,201.39922639554626,201.39922639554626,201.39922639554626,201.39922639554626,201.39922639554626,201.39922639554626,201.39922639554626,201.39922639554626,201.39922639554626,203.26952759249534,203.26952759249534,203.26952759249534,203.26952759249534,203.26952759249534,203.26952759249534,203.26952759249534,203.26952759249534,203.26952759249534,203.26952759249534,203.26952759249534,203.26952759249534,203.5367134777738,203.5367134777738,203.5367134777738,203.5367134777738,203.5367134777738,203.5367134777738,203.5367134777738,203.5367134777738,203.5367134777738,203.5367134777738,203.5367134777738,203.5367134777738,203.5367134777738,203.5367134777738,203.8038993630522,203.8038993630522,203.8038993630522,203.8038993630522,203.8038993630522,203.8038993630522,203.8038993630522,203.8038993630522,203.8038993630522,203.8038993630522,203.8038993630522,203.8038993630522,203.8038993630522,203.8038993630522,203.8038993630522,203.8038993630522,203.8038993630522,203.8038993630522,203.8038993630522,203.8038993630522,203.8038993630522,203.8038993630522,203.8038993630522,203.8038993630522,203.8038993630522,203.8038993630522,203.8038993630522,203.8038993630522,203.8038993630522,203.8038993630522,203.8038993630522,203.8038993630522,203.8038993630522,203.8038993630522,203.8038993630522,203.8038993630522,203.8038993630522,203.8038993630522,203.8038993630522,203.8038993630522,203.8038993630522,203.8038993630522,203.8038993630522,203.8038993630522,203.8038993630522,203.8038993630522,203.8038993630522,203.8038993630522,203.8038993630522,203.8038993630522,203.8038993630522,205.13982878944444,205.13982878944444,205.13982878944444,205.13982878944444,205.13982878944444,205.13982878944444,205.13982878944444,205.13982878944444,205.13982878944444,205.13982878944444,205.13982878944444,205.13982878944444,205.13982878944444,205.13982878944444,205.13982878944444,205.13982878944444,205.13982878944444,205.13982878944444,205.13982878944444,205.13982878944444,206.74294410111509,206.74294410111509,206.74294410111509,208.07887352750728,208.07887352750728,208.07887352750728,208.07887352750728,208.07887352750728,208.07887352750728,208.07887352750728,208.07887352750728,208.07887352750728,208.07887352750728,208.07887352750728,208.07887352750728,208.07887352750728,208.07887352750728,208.07887352750728,208.07887352750728,208.07887352750728,208.07887352750728,208.07887352750728,208.07887352750728,208.07887352750728,208.07887352750728,208.07887352750728,208.07887352750728,209.14761706862103,209.41480295389948,209.41480295389948,209.41480295389948,209.41480295389948,209.41480295389948,209.41480295389948,209.41480295389948,209.41480295389948,209.41480295389948,209.41480295389948,209.41480295389948,209.41480295389948,209.41480295389948,209.41480295389948,209.41480295389948,209.41480295389948,209.41480295389948,209.41480295389948,209.41480295389948,209.41480295389948,209.41480295389948,209.41480295389948,209.41480295389948,209.41480295389948,209.41480295389948,209.41480295389948,210.48354649501323,210.48354649501323,210.48354649501323,210.48354649501323,210.48354649501323,210.48354649501323,210.48354649501323,210.48354649501323,210.48354649501323,210.48354649501323,210.48354649501323,210.48354649501323,210.48354649501323,210.48354649501323,210.48354649501323,210.48354649501323,210.48354649501323,210.48354649501323,210.48354649501323,210.48354649501323,210.48354649501323,210.48354649501323,210.48354649501323,210.48354649501323,210.48354649501323,210.48354649501323,210.48354649501323,210.48354649501323,210.48354649501323,211.01791826557013,211.01791826557013,211.01791826557013,211.01791826557013,211.01791826557013,211.01791826557013,211.01791826557013,211.01791826557013,211.01791826557013,211.01791826557013,211.01791826557013,211.01791826557013,211.01791826557013,211.01791826557013,211.01791826557013,211.01791826557013,211.01791826557013,211.01791826557013,211.01791826557013,211.01791826557013,211.01791826557013,211.01791826557013,211.01791826557013,211.01791826557013,211.552290036127,211.552290036127,211.552290036127,211.552290036127,211.552290036127,211.552290036127,211.552290036127,211.552290036127,211.552290036127,211.552290036127,211.552290036127,211.552290036127,211.552290036127,211.552290036127,211.552290036127,212.08666180668388,212.08666180668388,212.08666180668388,212.08666180668388,212.08666180668388,212.08666180668388,212.08666180668388,212.08666180668388,212.08666180668388,212.08666180668388,212.08666180668388,212.08666180668388,212.08666180668388,212.08666180668388,212.08666180668388,212.8882194625192,212.8882194625192,213.15540534779765,213.15540534779765,213.15540534779765,213.15540534779765,213.15540534779765,213.15540534779765,214.75852065946827,214.75852065946827,214.75852065946827,214.75852065946827,214.75852065946827,214.75852065946827,214.75852065946827,214.75852065946827,214.75852065946827,214.75852065946827,214.75852065946827,214.75852065946827,214.75852065946827,215.29289243002518,215.29289243002518,215.29289243002518,215.29289243002518,215.29289243002518,215.29289243002518,215.29289243002518,215.29289243002518,216.0944500858605,216.0944500858605,216.0944500858605,216.36163597113892,216.36163597113892,216.36163597113892,216.36163597113892,216.36163597113892,216.36163597113892,216.89600774169583,216.89600774169583,217.4303795122527,217.4303795122527,217.4303795122527,217.4303795122527,217.4303795122527,217.4303795122527,217.4303795122527,217.4303795122527,217.4303795122527,219.83505247975864,220.36942425031555,220.36942425031555,220.36942425031555,224.91158430004901,224.91158430004901,224.91158430004901,224.91158430004901,224.91158430004901,224.91158430004901,224.91158430004901,224.91158430004901,224.91158430004901,224.91158430004901,224.91158430004901,224.91158430004901,225.1787701853275,225.1787701853275,225.1787701853275,225.1787701853275,225.1787701853275,225.1787701853275,225.1787701853275,225.1787701853275,225.1787701853275,225.1787701853275,225.1787701853275,225.1787701853275,225.1787701853275,225.1787701853275,225.44595607060592,225.44595607060592,225.44595607060592,225.44595607060592,225.44595607060592,225.44595607060592,225.44595607060592,226.51469961171966,226.51469961171966,226.51469961171966,226.51469961171966,226.51469961171966,227.58344315283344,227.58344315283344,227.58344315283344,227.58344315283344,227.58344315283344,227.8506290381119,227.8506290381119,227.8506290381119,227.8506290381119,227.8506290381119,227.8506290381119,227.8506290381119,227.8506290381119,227.8506290381119,227.8506290381119,227.8506290381119,227.8506290381119,227.8506290381119,227.8506290381119,227.8506290381119,227.8506290381119,227.8506290381119,227.8506290381119,227.8506290381119,229.45374434978254,229.45374434978254,229.45374434978254,229.45374434978254,229.45374434978254,229.45374434978254,229.45374434978254,229.45374434978254,229.45374434978254,229.45374434978254,229.45374434978254,229.45374434978254,229.45374434978254,229.45374434978254,229.72093023506096,229.72093023506096,229.72093023506096,229.72093023506096,229.72093023506096,229.72093023506096,229.72093023506096,229.72093023506096,229.72093023506096,229.72093023506096,229.72093023506096,229.72093023506096,229.72093023506096,229.72093023506096,229.72093023506096,229.72093023506096,229.72093023506096,229.72093023506096,229.72093023506096,229.72093023506096,229.72093023506096,230.25530200561786,230.25530200561786,230.25530200561786,230.25530200561786,230.25530200561786,230.25530200561786,230.25530200561786,230.7896737761747,230.7896737761747,230.7896737761747,230.7896737761747,230.7896737761747,230.7896737761747,230.7896737761747,230.7896737761747,230.7896737761747,230.7896737761747,230.7896737761747,230.7896737761747,230.7896737761747,230.7896737761747,230.7896737761747,230.7896737761747,230.7896737761747,230.7896737761747,230.7896737761747,231.85841731728848,231.85841731728848,231.85841731728848,231.85841731728848,231.85841731728848,231.85841731728848,231.85841731728848,231.85841731728848,231.85841731728848,231.85841731728848,231.85841731728848,231.85841731728848,231.85841731728848,231.85841731728848,231.85841731728848,231.85841731728848,231.85841731728848,231.85841731728848,231.85841731728848,231.85841731728848,231.85841731728848,231.85841731728848,231.85841731728848,231.85841731728848,231.85841731728848,231.85841731728848,231.85841731728848,231.85841731728848,231.85841731728848,231.85841731728848,232.6599749731238,233.46153262895913,233.46153262895913,233.46153262895913,233.46153262895913,233.46153262895913,233.46153262895913,233.46153262895913,233.46153262895913,233.46153262895913,233.46153262895913,233.46153262895913,233.46153262895913,233.46153262895913,233.46153262895913,233.46153262895913,233.46153262895913,233.46153262895913,233.46153262895913,233.46153262895913,233.46153262895913,234.26309028479446,234.26309028479446,234.26309028479446,234.26309028479446,234.26309028479446,234.26309028479446,234.26309028479446,234.26309028479446,234.26309028479446,234.26309028479446,234.26309028479446,234.26309028479446,236.93494913757888,236.93494913757888,236.93494913757888,236.93494913757888,236.93494913757888,238.27087856397105,238.27087856397105,238.5380644492495,238.5380644492495,238.5380644492495,239.8739938756417,239.8739938756417,239.8739938756417,240.67555153147703,240.67555153147703,240.67555153147703,240.67555153147703,240.67555153147703,240.67555153147703,240.67555153147703,240.67555153147703,240.67555153147703,240.67555153147703,240.67555153147703,240.67555153147703,240.67555153147703,240.67555153147703,240.67555153147703,240.67555153147703,240.67555153147703,240.67555153147703,240.67555153147703,244.68333981065365,244.68333981065365,244.68333981065365,244.68333981065365,244.68333981065365,244.68333981065365,244.68333981065365,244.68333981065365,244.68333981065365,244.68333981065365,244.68333981065365,244.68333981065365,244.68333981065365,244.68333981065365,244.68333981065365,244.68333981065365,246.82082689288117,246.82082689288117,254.03484579539906,254.03484579539906,254.03484579539906,254.03484579539906,254.03484579539906,254.03484579539906,254.03484579539906,254.03484579539906,254.03484579539906,254.03484579539906,254.03484579539906,254.03484579539906,254.03484579539906,254.03484579539906,254.03484579539906,254.03484579539906,256.17233287762656,256.17233287762656,256.17233287762656,256.17233287762656,256.17233287762656,256.17233287762656,256.17233287762656,256.70670464818346,256.70670464818346,256.70670464818346,256.70670464818346,256.70670464818346,256.70670464818346,256.70670464818346,256.70670464818346,256.70670464818346,256.70670464818346,256.70670464818346,256.70670464818346,256.70670464818346,257.7754481892972,258.3098199598541,258.3098199598541,259.37856350096786,259.37856350096786,259.37856350096786,259.37856350096786,259.37856350096786,259.37856350096786,260.1801211568032,260.1801211568032,260.1801211568032,260.1801211568032,260.1801211568032,260.1801211568032,260.1801211568032,260.1801211568032,260.1801211568032,260.1801211568032,260.1801211568032,260.1801211568032,260.1801211568032,260.1801211568032,260.1801211568032,260.1801211568032,260.1801211568032,260.1801211568032,260.44730704208166,260.9816788126385,260.9816788126385,260.9816788126385,260.9816788126385,260.9816788126385,260.9816788126385,268.1956977151564,268.1956977151564,268.1956977151564,268.1956977151564,268.1956977151564,268.1956977151564,268.1956977151564,268.1956977151564,268.1956977151564,268.1956977151564,268.1956977151564,268.1956977151564,268.1956977151564,268.1956977151564,268.1956977151564,268.1956977151564,268.1956977151564,268.1956977151564,268.1956977151564,268.1956977151564,268.1956977151564,268.1956977151564,273.2722295354468,273.2722295354468,273.2722295354468,273.2722295354468,273.2722295354468,273.2722295354468,273.2722295354468,274.34097307656054,274.34097307656054,274.34097307656054,276.2112742735096,276.2112742735096,276.2112742735096,276.2112742735096,276.2112742735096,276.2112742735096,276.2112742735096,276.2112742735096,276.2112742735096,276.2112742735096,276.2112742735096,276.2112742735096,276.2112742735096,276.2112742735096,276.2112742735096,276.2112742735096,276.2112742735096,276.2112742735096,276.2112742735096,276.2112742735096,276.2112742735096,276.2112742735096,276.2112742735096,276.2112742735096,276.2112742735096,276.2112742735096,276.2112742735096,276.2112742735096,276.2112742735096,276.2112742735096,276.2112742735096,276.2112742735096,276.2112742735096,276.2112742735096,276.2112742735096,276.2112742735096,276.2112742735096,277.01283192934494,277.81438958518027,277.81438958518027,279.68469078212934,279.68469078212934,279.68469078212934,279.68469078212934,279.68469078212934,279.68469078212934,279.68469078212934,279.68469078212934,279.68469078212934,279.68469078212934,285.2955943729766,285.2955943729766,285.2955943729766,285.2955943729766,285.2955943729766,285.2955943729766,285.2955943729766,285.2955943729766,285.2955943729766,285.2955943729766,292.2424273902161,294.1127285871652,294.1127285871652,294.1127285871652,294.1127285871652,294.1127285871652,294.1127285871652,294.1127285871652,294.1127285871652,294.1127285871652,294.1127285871652,294.1127285871652,294.1127285871652,294.1127285871652,294.1127285871652,294.1127285871652,294.1127285871652,294.1127285871652,294.1127285871652,294.1127285871652,294.1127285871652,294.1127285871652,294.1127285871652,294.1127285871652,294.1127285871652,294.1127285871652,294.1127285871652,294.1127285871652,296.5174015546711,296.5174015546711,296.5174015546711,296.5174015546711,296.5174015546711,296.5174015546711,296.5174015546711,296.5174015546711,296.5174015546711,296.5174015546711,296.5174015546711,296.5174015546711,296.5174015546711,296.5174015546711,296.5174015546711,296.5174015546711,296.5174015546711,296.5174015546711,296.5174015546711,296.5174015546711,296.5174015546711,300.5251898338477,300.5251898338477,300.5251898338477,300.5251898338477,300.5251898338477,300.5251898338477,300.5251898338477,300.5251898338477,300.5251898338477,301.32674748968304,301.32674748968304,301.32674748968304,301.32674748968304,301.32674748968304,305.33453576885967,305.33453576885967,305.33453576885967,305.33453576885967,305.33453576885967,305.33453576885967,305.33453576885967,305.33453576885967,305.33453576885967,309.6095099333147,309.6095099333147,309.6095099333147,311.7469970155422,311.7469970155422,311.7469970155422,311.7469970155422,311.7469970155422,311.7469970155422,311.7469970155422,311.7469970155422,311.7469970155422,311.7469970155422,311.7469970155422,311.7469970155422,311.7469970155422,311.7469970155422,311.7469970155422,311.7469970155422,311.7469970155422,311.7469970155422,311.7469970155422,311.7469970155422,311.7469970155422,311.7469970155422,311.7469970155422,311.7469970155422,311.7469970155422,311.7469970155422,311.7469970155422,311.7469970155422,311.7469970155422,311.7469970155422,311.7469970155422,311.7469970155422,311.7469970155422,311.7469970155422,311.7469970155422,311.7469970155422,311.7469970155422,311.7469970155422,311.7469970155422,311.7469970155422,311.7469970155422,311.7469970155422,311.7469970155422,311.7469970155422,311.7469970155422,311.7469970155422,311.7469970155422,311.7469970155422,311.7469970155422,311.7469970155422,311.7469970155422,311.7469970155422,311.7469970155422,311.7469970155422,311.7469970155422,313.6172982124913,313.6172982124913,313.6172982124913,313.6172982124913,319.2282018033386,323.7703618530721,323.7703618530721,323.7703618530721,323.7703618530721,323.7703618530721,323.7703618530721,323.7703618530721,323.7703618530721,323.7703618530721,323.7703618530721,323.7703618530721,323.7703618530721,323.7703618530721,323.7703618530721,323.7703618530721,323.7703618530721,323.7703618530721,323.7703618530721,323.7703618530721,323.7703618530721,329.38126544391935,329.38126544391935,329.9156372144762,329.9156372144762,329.9156372144762,329.9156372144762,329.9156372144762,329.9156372144762,329.9156372144762,329.9156372144762,329.9156372144762,329.9156372144762,329.9156372144762,329.9156372144762,329.9156372144762,329.9156372144762,329.9156372144762,329.9156372144762,329.9156372144762,329.9156372144762,329.9156372144762,329.9156372144762,329.9156372144762,329.9156372144762,337.39684200227254,337.39684200227254,337.39684200227254,337.39684200227254,337.39684200227254,337.39684200227254,337.39684200227254,337.39684200227254,337.39684200227254,337.39684200227254,337.39684200227254,339.5343290845001,339.5343290845001,339.5343290845001,343.0077455931198,343.0077455931198,343.0077455931198,343.0077455931198,343.0077455931198,345.6796044459042,345.6796044459042,345.6796044459042,345.6796044459042,355.83266808648494,355.83266808648494,355.83266808648494,355.83266808648494,355.83266808648494,355.83266808648494,355.83266808648494,355.83266808648494,355.83266808648494,355.83266808648494,362.7795011037244,362.7795011037244,362.7795011037244,362.7795011037244,362.7795011037244,362.7795011037244,362.7795011037244,362.7795011037244,362.7795011037244,362.7795011037244,362.7795011037244,362.7795011037244,362.7795011037244,362.7795011037244,362.7795011037244,362.7795011037244,362.7795011037244,362.7795011037244,362.7795011037244,362.7795011037244,365.4513599565088,365.4513599565088,365.4513599565088,365.4513599565088,365.4513599565088,365.4513599565088,365.4513599565088,365.4513599565088,365.4513599565088,368.12321880929323,368.12321880929323,368.12321880929323,368.12321880929323,368.12321880929323,368.12321880929323,368.12321880929323,368.12321880929323,368.12321880929323,368.12321880929323,368.12321880929323,368.12321880929323,368.12321880929323,368.12321880929323,368.12321880929323,368.12321880929323,368.12321880929323,368.12321880929323,368.12321880929323,369.7263341209639,393.5058779107451,393.5058779107451,393.5058779107451,393.5058779107451,393.5058779107451,393.5058779107451,408.4682874863377,408.4682874863377,408.4682874863377,408.4682874863377,408.4682874863377,408.4682874863377,408.4682874863377,408.4682874863377,408.4682874863377,408.4682874863377,408.4682874863377,408.4682874863377,408.4682874863377,408.4682874863377,408.4682874863377,408.4682874863377,408.4682874863377,408.4682874863377,408.4682874863377,408.4682874863377,408.4682874863377,408.4682874863377,408.4682874863377,408.4682874863377,408.4682874863377,408.4682874863377,409.80421691272994,409.80421691272994,409.80421691272994,409.80421691272994,409.80421691272994,409.80421691272994,409.80421691272994,409.80421691272994,409.80421691272994,409.80421691272994,409.80421691272994,409.80421691272994,409.80421691272994,409.80421691272994,423.6978829472088,423.6978829472088,423.6978829472088,423.6978829472088,423.6978829472088,423.6978829472088,423.6978829472088,428.77441476749925,428.77441476749925,428.77441476749925,428.77441476749925,428.77441476749925,428.77441476749925,428.77441476749925,435.4540618994602,435.4540618994602,435.4540618994602,435.4540618994602,435.4540618994602,437.32436309640934,437.32436309640934,456.8289327217355,456.8289327217355,456.8289327217355,456.8289327217355,456.8289327217355,456.8289327217355,456.8289327217355,456.8289327217355,456.8289327217355,456.8289327217355,456.8289327217355,456.8289327217355,456.8289327217355,456.8289327217355,456.8289327217355,456.8289327217355,456.8289327217355,456.8289327217355,456.8289327217355,456.8289327217355,456.8289327217355,456.8289327217355,504.1208344160195,524.426961697181,524.426961697181,524.426961697181,524.426961697181,524.426961697181,524.426961697181,524.426961697181,546.6033901752915,546.6033901752915,546.6033901752915,546.6033901752915,546.6033901752915,546.6033901752915,546.6033901752915,546.6033901752915,546.6033901752915,546.6033901752915,546.6033901752915,546.6033901752915,546.6033901752915,546.6033901752915,546.6033901752915,546.6033901752915,546.6033901752915,546.6033901752915,546.6033901752915,546.6033901752915,546.6033901752915,546.6033901752915,546.6033901752915,546.6033901752915,546.6033901752915,546.6033901752915,546.6033901752915,589.6203177051204,638.5153347110752,638.5153347110752,638.5153347110752,638.5153347110752,638.5153347110752,638.5153347110752,638.5153347110752,683.93693520841,683.93693520841,683.93693520841,683.93693520841,683.93693520841,683.93693520841,683.93693520841,683.93693520841,683.93693520841,683.93693520841,683.93693520841,683.93693520841,683.93693520841,708.7852225393051,708.7852225393051,708.7852225393051,708.7852225393051,708.7852225393051,714.3961261301522,714.3961261301522,714.3961261301522,714.3961261301522,714.3961261301522,714.3961261301522,714.3961261301522,714.3961261301522,714.3961261301522,714.3961261301522,714.3961261301522,714.3961261301522,714.3961261301522,714.3961261301522,714.3961261301522,714.3961261301522,714.3961261301522,714.3961261301522,714.3961261301522,714.3961261301522,714.3961261301522,714.3961261301522,714.3961261301522,721.8773309179485,751.0005924132986,886.7310221347464,886.7310221347464,898.2200152017194,898.2200152017194,898.2200152017194,898.2200152017194,976.7726654735809,976.7726654735809,976.7726654735809,976.7726654735809,976.7726654735809,976.7726654735809,976.7726654735809,976.7726654735809,976.7726654735809,976.7726654735809,976.7726654735809,976.7726654735809,976.7726654735809,976.7726654735809,976.7726654735809,976.7726654735809,976.7726654735809,976.7726654735809,976.7726654735809,976.7726654735809,976.7726654735809,976.7726654735809,976.7726654735809,976.7726654735809,976.7726654735809,996.2772350989071,996.2772350989071,996.2772350989071,996.2772350989071,996.2772350989071,996.2772350989071,996.2772350989071,1086.8532502082985,1086.8532502082985,1086.8532502082985,1086.8532502082985,1086.8532502082985,1086.8532502082985,1086.8532502082985,1086.8532502082985,1086.8532502082985,1086.8532502082985,1086.8532502082985,1086.8532502082985,1086.8532502082985,1086.8532502082985,1086.8532502082985,1245.5616660636922,1245.5616660636922,1245.5616660636922,1245.5616660636922,1245.5616660636922,1245.5616660636922,1245.5616660636922,1245.5616660636922,1245.5616660636922,1245.5616660636922,1245.5616660636922,1245.5616660636922,1245.5616660636922,1245.5616660636922,1245.5616660636922,1245.5616660636922,1245.5616660636922,1245.5616660636922,1245.5616660636922,1245.5616660636922,1313.426880924416,1313.426880924416,1313.426880924416,1344.6876295019938,1389.8420441140502,1439.8058046611186,1439.8058046611186,1439.8058046611186,1562.4441260039227,1562.4441260039227,1562.4441260039227,1562.4441260039227,1562.4441260039227,1562.4441260039227,1704.5870169720533,1704.5870169720533,1704.5870169720533,1704.5870169720533,1704.5870169720533,1739.0539961729721,1739.0539961729721,1739.0539961729721,1739.0539961729721,1739.0539961729721,1739.0539961729721,1739.0539961729721,1739.0539961729721,1739.0539961729721,1739.0539961729721,1739.0539961729721,1739.0539961729721,1739.0539961729721,1739.0539961729721,1739.0539961729721,1739.0539961729721,1739.0539961729721,1739.0539961729721,1739.0539961729721,1739.0539961729721,1739.0539961729721,1739.0539961729721,1739.0539961729721,1748.4055021577176,1748.4055021577176,1748.4055021577176,1748.4055021577176,1748.4055021577176,1748.4055021577176,1748.4055021577176,1748.4055021577176,1748.4055021577176,1748.4055021577176,1748.4055021577176,1748.4055021577176,1748.4055021577176,1748.4055021577176,1748.4055021577176,1748.4055021577176,1748.4055021577176,1748.4055021577176,1748.4055021577176,1748.4055021577176,1748.4055021577176,1748.4055021577176,1748.4055021577176,1905.5108027014405,2062.883289130442,2158.2686501748453,2158.2686501748453,2410.7593117629717,2410.7593117629717,2410.7593117629717,2410.7593117629717,2410.7593117629717,2410.7593117629717,2410.7593117629717,2410.7593117629717,2410.7593117629717,2575.6130029797696,2575.6130029797696,2575.6130029797696,2575.6130029797696,2575.6130029797696,2575.6130029797696,2575.6130029797696,2575.6130029797696,2575.6130029797696,2575.6130029797696,2575.6130029797696,2575.6130029797696,2575.6130029797696,2575.6130029797696,2575.6130029797696,2577.483304176719,2577.483304176719,2577.483304176719,2577.483304176719,2577.483304176719,2577.483304176719,2577.483304176719,2577.483304176719,2577.483304176719,2577.483304176719,2577.483304176719,2577.483304176719,2577.483304176719,2577.483304176719,2577.483304176719,2577.483304176719,2577.483304176719,2577.483304176719,2577.483304176719,2577.483304176719,2577.483304176719,2577.483304176719,2577.483304176719,2577.483304176719,2803.789749007558,2803.789749007558,2803.789749007558,2803.789749007558,2803.789749007558,2803.789749007558,3274.0369070976135,3274.0369070976135,3274.0369070976135,3274.0369070976135,3274.0369070976135,4180.865801732641,4180.865801732641,4180.865801732641,4180.865801732641,4180.865801732641,5650.388170764064,5650.388170764064,8208.425836419854,8208.425836419854,8208.425836419854,8208.425836419854],\"yaxis\":\"y\",\"type\":\"scattergl\"}],                        {\"template\":{\"data\":{\"bar\":[{\"error_x\":{\"color\":\"#2a3f5f\"},\"error_y\":{\"color\":\"#2a3f5f\"},\"marker\":{\"line\":{\"color\":\"#E5ECF6\",\"width\":0.5},\"pattern\":{\"fillmode\":\"overlay\",\"size\":10,\"solidity\":0.2}},\"type\":\"bar\"}],\"barpolar\":[{\"marker\":{\"line\":{\"color\":\"#E5ECF6\",\"width\":0.5},\"pattern\":{\"fillmode\":\"overlay\",\"size\":10,\"solidity\":0.2}},\"type\":\"barpolar\"}],\"carpet\":[{\"aaxis\":{\"endlinecolor\":\"#2a3f5f\",\"gridcolor\":\"white\",\"linecolor\":\"white\",\"minorgridcolor\":\"white\",\"startlinecolor\":\"#2a3f5f\"},\"baxis\":{\"endlinecolor\":\"#2a3f5f\",\"gridcolor\":\"white\",\"linecolor\":\"white\",\"minorgridcolor\":\"white\",\"startlinecolor\":\"#2a3f5f\"},\"type\":\"carpet\"}],\"choropleth\":[{\"colorbar\":{\"outlinewidth\":0,\"ticks\":\"\"},\"type\":\"choropleth\"}],\"contour\":[{\"colorbar\":{\"outlinewidth\":0,\"ticks\":\"\"},\"colorscale\":[[0.0,\"#0d0887\"],[0.1111111111111111,\"#46039f\"],[0.2222222222222222,\"#7201a8\"],[0.3333333333333333,\"#9c179e\"],[0.4444444444444444,\"#bd3786\"],[0.5555555555555556,\"#d8576b\"],[0.6666666666666666,\"#ed7953\"],[0.7777777777777778,\"#fb9f3a\"],[0.8888888888888888,\"#fdca26\"],[1.0,\"#f0f921\"]],\"type\":\"contour\"}],\"contourcarpet\":[{\"colorbar\":{\"outlinewidth\":0,\"ticks\":\"\"},\"type\":\"contourcarpet\"}],\"heatmap\":[{\"colorbar\":{\"outlinewidth\":0,\"ticks\":\"\"},\"colorscale\":[[0.0,\"#0d0887\"],[0.1111111111111111,\"#46039f\"],[0.2222222222222222,\"#7201a8\"],[0.3333333333333333,\"#9c179e\"],[0.4444444444444444,\"#bd3786\"],[0.5555555555555556,\"#d8576b\"],[0.6666666666666666,\"#ed7953\"],[0.7777777777777778,\"#fb9f3a\"],[0.8888888888888888,\"#fdca26\"],[1.0,\"#f0f921\"]],\"type\":\"heatmap\"}],\"heatmapgl\":[{\"colorbar\":{\"outlinewidth\":0,\"ticks\":\"\"},\"colorscale\":[[0.0,\"#0d0887\"],[0.1111111111111111,\"#46039f\"],[0.2222222222222222,\"#7201a8\"],[0.3333333333333333,\"#9c179e\"],[0.4444444444444444,\"#bd3786\"],[0.5555555555555556,\"#d8576b\"],[0.6666666666666666,\"#ed7953\"],[0.7777777777777778,\"#fb9f3a\"],[0.8888888888888888,\"#fdca26\"],[1.0,\"#f0f921\"]],\"type\":\"heatmapgl\"}],\"histogram\":[{\"marker\":{\"pattern\":{\"fillmode\":\"overlay\",\"size\":10,\"solidity\":0.2}},\"type\":\"histogram\"}],\"histogram2d\":[{\"colorbar\":{\"outlinewidth\":0,\"ticks\":\"\"},\"colorscale\":[[0.0,\"#0d0887\"],[0.1111111111111111,\"#46039f\"],[0.2222222222222222,\"#7201a8\"],[0.3333333333333333,\"#9c179e\"],[0.4444444444444444,\"#bd3786\"],[0.5555555555555556,\"#d8576b\"],[0.6666666666666666,\"#ed7953\"],[0.7777777777777778,\"#fb9f3a\"],[0.8888888888888888,\"#fdca26\"],[1.0,\"#f0f921\"]],\"type\":\"histogram2d\"}],\"histogram2dcontour\":[{\"colorbar\":{\"outlinewidth\":0,\"ticks\":\"\"},\"colorscale\":[[0.0,\"#0d0887\"],[0.1111111111111111,\"#46039f\"],[0.2222222222222222,\"#7201a8\"],[0.3333333333333333,\"#9c179e\"],[0.4444444444444444,\"#bd3786\"],[0.5555555555555556,\"#d8576b\"],[0.6666666666666666,\"#ed7953\"],[0.7777777777777778,\"#fb9f3a\"],[0.8888888888888888,\"#fdca26\"],[1.0,\"#f0f921\"]],\"type\":\"histogram2dcontour\"}],\"mesh3d\":[{\"colorbar\":{\"outlinewidth\":0,\"ticks\":\"\"},\"type\":\"mesh3d\"}],\"parcoords\":[{\"line\":{\"colorbar\":{\"outlinewidth\":0,\"ticks\":\"\"}},\"type\":\"parcoords\"}],\"pie\":[{\"automargin\":true,\"type\":\"pie\"}],\"scatter\":[{\"marker\":{\"colorbar\":{\"outlinewidth\":0,\"ticks\":\"\"}},\"type\":\"scatter\"}],\"scatter3d\":[{\"line\":{\"colorbar\":{\"outlinewidth\":0,\"ticks\":\"\"}},\"marker\":{\"colorbar\":{\"outlinewidth\":0,\"ticks\":\"\"}},\"type\":\"scatter3d\"}],\"scattercarpet\":[{\"marker\":{\"colorbar\":{\"outlinewidth\":0,\"ticks\":\"\"}},\"type\":\"scattercarpet\"}],\"scattergeo\":[{\"marker\":{\"colorbar\":{\"outlinewidth\":0,\"ticks\":\"\"}},\"type\":\"scattergeo\"}],\"scattergl\":[{\"marker\":{\"colorbar\":{\"outlinewidth\":0,\"ticks\":\"\"}},\"type\":\"scattergl\"}],\"scattermapbox\":[{\"marker\":{\"colorbar\":{\"outlinewidth\":0,\"ticks\":\"\"}},\"type\":\"scattermapbox\"}],\"scatterpolar\":[{\"marker\":{\"colorbar\":{\"outlinewidth\":0,\"ticks\":\"\"}},\"type\":\"scatterpolar\"}],\"scatterpolargl\":[{\"marker\":{\"colorbar\":{\"outlinewidth\":0,\"ticks\":\"\"}},\"type\":\"scatterpolargl\"}],\"scatterternary\":[{\"marker\":{\"colorbar\":{\"outlinewidth\":0,\"ticks\":\"\"}},\"type\":\"scatterternary\"}],\"surface\":[{\"colorbar\":{\"outlinewidth\":0,\"ticks\":\"\"},\"colorscale\":[[0.0,\"#0d0887\"],[0.1111111111111111,\"#46039f\"],[0.2222222222222222,\"#7201a8\"],[0.3333333333333333,\"#9c179e\"],[0.4444444444444444,\"#bd3786\"],[0.5555555555555556,\"#d8576b\"],[0.6666666666666666,\"#ed7953\"],[0.7777777777777778,\"#fb9f3a\"],[0.8888888888888888,\"#fdca26\"],[1.0,\"#f0f921\"]],\"type\":\"surface\"}],\"table\":[{\"cells\":{\"fill\":{\"color\":\"#EBF0F8\"},\"line\":{\"color\":\"white\"}},\"header\":{\"fill\":{\"color\":\"#C8D4E3\"},\"line\":{\"color\":\"white\"}},\"type\":\"table\"}]},\"layout\":{\"annotationdefaults\":{\"arrowcolor\":\"#2a3f5f\",\"arrowhead\":0,\"arrowwidth\":1},\"autotypenumbers\":\"strict\",\"coloraxis\":{\"colorbar\":{\"outlinewidth\":0,\"ticks\":\"\"}},\"colorscale\":{\"diverging\":[[0,\"#8e0152\"],[0.1,\"#c51b7d\"],[0.2,\"#de77ae\"],[0.3,\"#f1b6da\"],[0.4,\"#fde0ef\"],[0.5,\"#f7f7f7\"],[0.6,\"#e6f5d0\"],[0.7,\"#b8e186\"],[0.8,\"#7fbc41\"],[0.9,\"#4d9221\"],[1,\"#276419\"]],\"sequential\":[[0.0,\"#0d0887\"],[0.1111111111111111,\"#46039f\"],[0.2222222222222222,\"#7201a8\"],[0.3333333333333333,\"#9c179e\"],[0.4444444444444444,\"#bd3786\"],[0.5555555555555556,\"#d8576b\"],[0.6666666666666666,\"#ed7953\"],[0.7777777777777778,\"#fb9f3a\"],[0.8888888888888888,\"#fdca26\"],[1.0,\"#f0f921\"]],\"sequentialminus\":[[0.0,\"#0d0887\"],[0.1111111111111111,\"#46039f\"],[0.2222222222222222,\"#7201a8\"],[0.3333333333333333,\"#9c179e\"],[0.4444444444444444,\"#bd3786\"],[0.5555555555555556,\"#d8576b\"],[0.6666666666666666,\"#ed7953\"],[0.7777777777777778,\"#fb9f3a\"],[0.8888888888888888,\"#fdca26\"],[1.0,\"#f0f921\"]]},\"colorway\":[\"#636efa\",\"#EF553B\",\"#00cc96\",\"#ab63fa\",\"#FFA15A\",\"#19d3f3\",\"#FF6692\",\"#B6E880\",\"#FF97FF\",\"#FECB52\"],\"font\":{\"color\":\"#2a3f5f\"},\"geo\":{\"bgcolor\":\"white\",\"lakecolor\":\"white\",\"landcolor\":\"#E5ECF6\",\"showlakes\":true,\"showland\":true,\"subunitcolor\":\"white\"},\"hoverlabel\":{\"align\":\"left\"},\"hovermode\":\"closest\",\"mapbox\":{\"style\":\"light\"},\"paper_bgcolor\":\"white\",\"plot_bgcolor\":\"#E5ECF6\",\"polar\":{\"angularaxis\":{\"gridcolor\":\"white\",\"linecolor\":\"white\",\"ticks\":\"\"},\"bgcolor\":\"#E5ECF6\",\"radialaxis\":{\"gridcolor\":\"white\",\"linecolor\":\"white\",\"ticks\":\"\"}},\"scene\":{\"xaxis\":{\"backgroundcolor\":\"#E5ECF6\",\"gridcolor\":\"white\",\"gridwidth\":2,\"linecolor\":\"white\",\"showbackground\":true,\"ticks\":\"\",\"zerolinecolor\":\"white\"},\"yaxis\":{\"backgroundcolor\":\"#E5ECF6\",\"gridcolor\":\"white\",\"gridwidth\":2,\"linecolor\":\"white\",\"showbackground\":true,\"ticks\":\"\",\"zerolinecolor\":\"white\"},\"zaxis\":{\"backgroundcolor\":\"#E5ECF6\",\"gridcolor\":\"white\",\"gridwidth\":2,\"linecolor\":\"white\",\"showbackground\":true,\"ticks\":\"\",\"zerolinecolor\":\"white\"}},\"shapedefaults\":{\"line\":{\"color\":\"#2a3f5f\"}},\"ternary\":{\"aaxis\":{\"gridcolor\":\"white\",\"linecolor\":\"white\",\"ticks\":\"\"},\"baxis\":{\"gridcolor\":\"white\",\"linecolor\":\"white\",\"ticks\":\"\"},\"bgcolor\":\"#E5ECF6\",\"caxis\":{\"gridcolor\":\"white\",\"linecolor\":\"white\",\"ticks\":\"\"}},\"title\":{\"x\":0.05},\"xaxis\":{\"automargin\":true,\"gridcolor\":\"white\",\"linecolor\":\"white\",\"ticks\":\"\",\"title\":{\"standoff\":15},\"zerolinecolor\":\"white\",\"zerolinewidth\":2},\"yaxis\":{\"automargin\":true,\"gridcolor\":\"white\",\"linecolor\":\"white\",\"ticks\":\"\",\"title\":{\"standoff\":15},\"zerolinecolor\":\"white\",\"zerolinewidth\":2}}},\"xaxis\":{\"anchor\":\"y\",\"domain\":[0.0,1.0],\"title\":{\"text\":\"Transcript per million_x\",\"font\":{\"family\":\"Arial\",\"size\":30}},\"range\":[0,1000],\"nticks\":10,\"showline\":true,\"linewidth\":2,\"linecolor\":\"black\",\"automargin\":true,\"ticks\":\"outside\",\"tickwidth\":2,\"tickcolor\":\"black\"},\"yaxis\":{\"anchor\":\"x\",\"domain\":[0.0,1.0],\"title\":{\"text\":\"Transcript per million_y\",\"font\":{\"family\":\"Arial\",\"size\":30}},\"range\":[0,1000],\"nticks\":10,\"showline\":true,\"linewidth\":2,\"linecolor\":\"black\",\"automargin\":true,\"ticks\":\"outside\",\"tickwidth\":2,\"tickcolor\":\"black\"},\"legend\":{\"tracegroupgap\":0},\"margin\":{\"t\":60},\"height\":800,\"width\":2000,\"title\":{\"text\":\"Correlation between TPMs of Interactions between Aneuploidy and Non-Aeuploidy Subunits in chr16's Protein Complexes\",\"font\":{\"family\":\"Arial\",\"size\":32}},\"font\":{\"family\":\"Arial\",\"size\":24},\"plot_bgcolor\":\"rgba(0,0,0,0)\"},                        {\"responsive\": true}                    ).then(function(){\n",
              "                            \n",
              "var gd = document.getElementById('cc3f21e8-4b6e-4cb7-ab7c-35553f8e9553');\n",
              "var x = new MutationObserver(function (mutations, observer) {{\n",
              "        var display = window.getComputedStyle(gd).display;\n",
              "        if (!display || display === 'none') {{\n",
              "            console.log([gd, 'removed!']);\n",
              "            Plotly.purge(gd);\n",
              "            observer.disconnect();\n",
              "        }}\n",
              "}});\n",
              "\n",
              "// Listen for the removal of the full notebook cells\n",
              "var notebookContainer = gd.closest('#notebook-container');\n",
              "if (notebookContainer) {{\n",
              "    x.observe(notebookContainer, {childList: true});\n",
              "}}\n",
              "\n",
              "// Listen for the clearing of the current output cell\n",
              "var outputEl = gd.closest('.output');\n",
              "if (outputEl) {{\n",
              "    x.observe(outputEl, {childList: true});\n",
              "}}\n",
              "\n",
              "                        })                };                            </script>        </div>\n",
              "</body>\n",
              "</html>"
            ]
          },
          "metadata": {},
          "output_type": "display_data"
        }
      ],
      "source": [
        "import numpy as np\n",
        "import plotly.express as px\n",
        "import plotly.graph_objects as go\n",
        "from sklearn.linear_model import LinearRegression\n",
        "\n",
        "y= noncnv_mean_tpm\n",
        "X = cnv_tpm\n",
        "df=pd.DataFrame()\n",
        "df['Transcript per million_x'] = X\n",
        "df['Transcript per million_y'] = y\n",
        "\n",
        "y=np.array(complex_tpm_2)\n",
        "X = np.array(complex_tpm_1)\n",
        "model = LinearRegression()\n",
        "model.fit(X.reshape(-1, 1), y)\n",
        "\n",
        "x_range = np.linspace(0, X.max(), 100)\n",
        "y_range = model.predict(x_range.reshape(-1, 1))\n",
        "fig = px.scatter(df, x='Transcript per million_x', y='Transcript per million_y', height=800, width=2000, trendline=\"ols\",trendline_color_override=\"red\")\n",
        "# fig.add_traces(go.Scatter(x=x_range, y=y_range, name='Regression Fit'))\n",
        "fig.update_layout(\n",
        "    title=\"Correlation between TPMs of Interactions between Aneuploidy and Non-Aeuploidy Subunits in chr16's Protein Complexes\",\n",
        "    plot_bgcolor='rgba(0,0,0,0)',\n",
        "    title_font_family=\"Arial\",\n",
        "    title_font_size=32,\n",
        "    font=dict(\n",
        "        family=\"Arial\",\n",
        "        size=24,\n",
        "    ))\n",
        "fig.update_xaxes(range=[0,1000],\n",
        "                nticks=10,\n",
        "                 title_font_family=\"Arial\",\n",
        "                 title_font_size=30,\n",
        "                 showline=True, linewidth=2, linecolor='black', \n",
        "                 automargin=True,\n",
        "                #  title_standoff = 10,\n",
        "                 ticks=\"outside\", tickwidth=2, tickcolor='black')\n",
        "# fig.add_annotation(x=3000, y=2000000,\n",
        "#                    textangle=-6,\n",
        "#                    yshift=5,\n",
        "#             text=\"Spearman Rank Correlation = 0.06, pvalue>0.05 n.s.\",\n",
        "#             showarrow=True,\n",
        "#             arrowhead=1)\n",
        "fig.update_yaxes(range=[0,1000],\n",
        "    # range=[0,np.max(df['Transcript per million_x'])],\n",
        "                  nticks=10,\n",
        "                 title_font_family=\"Arial\",\n",
        "                 title_font_size=30,\n",
        "                 showline=True, linewidth=2, linecolor='black', \n",
        "                 automargin=True,\n",
        "                #  title_standoff = 10,\n",
        "                 ticks=\"outside\", tickwidth=2, tickcolor='black')\n",
        "fig.show()"
      ]
    },
    {
      "cell_type": "code",
      "execution_count": null,
      "metadata": {
        "colab": {
          "base_uri": "https://localhost:8080/",
          "height": 937
        },
        "id": "hmc-b4WHGY7Q",
        "outputId": "2d09b2e2-cf1c-437e-d58b-4c9b03c33d5e"
      },
      "outputs": [
        {
          "data": {
            "text/html": [
              "<html>\n",
              "<head><meta charset=\"utf-8\" /></head>\n",
              "<body>\n",
              "    <div>            <script src=\"https://cdnjs.cloudflare.com/ajax/libs/mathjax/2.7.5/MathJax.js?config=TeX-AMS-MML_SVG\"></script><script type=\"text/javascript\">if (window.MathJax) {MathJax.Hub.Config({SVG: {font: \"STIX-Web\"}});}</script>                <script type=\"text/javascript\">window.PlotlyConfig = {MathJaxConfig: 'local'};</script>\n",
              "        <script src=\"https://cdn.plot.ly/plotly-2.8.3.min.js\"></script>                <div id=\"2a6eb989-710d-418a-91d9-df10f0a1fadc\" class=\"plotly-graph-div\" style=\"height:900px; width:2000px;\"></div>            <script type=\"text/javascript\">                                    window.PLOTLYENV=window.PLOTLYENV || {};                                    if (document.getElementById(\"2a6eb989-710d-418a-91d9-df10f0a1fadc\")) {                    Plotly.newPlot(                        \"2a6eb989-710d-418a-91d9-df10f0a1fadc\",                        [{\"hovertemplate\":\"Transcript per million_x=%{x}<br>Transcript per million_y=%{y}<extra></extra>\",\"legendgroup\":\"\",\"marker\":{\"color\":\"#636efa\",\"symbol\":\"circle\"},\"mode\":\"markers\",\"name\":\"\",\"orientation\":\"v\",\"showlegend\":false,\"x\":[55.75,8.0,18.75,87.5,17.0,35.0,9.5,23.75,13.25,178.0,178.0,178.0,178.0,178.0,178.0,178.0,178.0,178.0,178.0,8.5,8.5,9.5,236.75,12.5,34.5,21.25,537.75,30.0,6.75,161.0,19.25,68.0,14.25,692.0,19.25,30.0,10.0,26.75,170.5,80.75,80.75,80.75,80.75,104.0,29.0,283.75,9.5,19.25,16.0,105.0,16.0,16.0,16.0,36.5,36.5,20.0,565.0,64.75,72.75,72.75,165.25,165.25,373.75,373.75,373.75,13.25,13.25,52.5,52.5,52.5,32.75,32.75,30.5,30.5,22.25,10.5,27.75,41.75,41.75,41.75,59.25,59.25,59.25,154.0,154.0,154.0,154.0,154.0,154.0,154.0,154.0,154.0,154.0,154.0,154.0,154.0,154.0,154.0,154.0,154.0,36.0,36.0,49.0,15.0,15.0,10.75,86.75,119.0,84.0,84.0,74.25,8.75,14.0,7.0,244.5,244.5,100.0,100.0,87.5,18.75,18.75,18.75,18.75,24.0,24.0,24.0,91.25,91.25,91.25,91.25,91.25,91.25,91.25,91.25,91.25,123.0,93.25,93.25,93.25,75.25,75.25,79.25,4.75,4.75,8.75,230.5,230.5,144.25,144.25,143.5,3774.25,3774.25,102.5,102.5,15.25,15.25,15.25,15.25,15.25,9.5,9.5,35.25,45.25,37.0,289.75,289.75,289.75,289.75,289.75,289.75,289.75,289.75,289.75,77.0,139.75,139.75,139.75,139.75,139.75,139.75,139.75,139.75,139.75,139.75,11.0,14.25,15.0,15.0,15.0,15.0,14.25,14.25,14.25,8.75,8.75,269.75,269.75,353.0,195.25,195.25,195.25,124.0,124.0,204.25,17.25,19.75,19.75,19.75,12.25,12.25,53.0,53.0,53.0,53.0,53.0,53.0,73.0,73.0,73.0,73.0,73.0,73.0,502.25,17.5,17.5,17.5,17.5,30.75,30.75,30.75,20.25,20.25,22.25,29.5,29.5,38.5,85.5,201.75,201.75,38.75,19.5,19.5,19.5,19.5,19.5,19.5,20.25,20.25,20.25,20.25,81.5,81.5,81.5,47.75,47.75,15.5,60.25,60.25,60.25,60.25,206.75,206.75,206.75,206.75,206.75,171.0,171.0,171.0,171.0,171.0,31.75,31.75,31.75,31.75,113.25,113.25,113.25,54.25,54.25,12.5,12.5,12.5,12.5,12.5,63.25,63.25,63.25,63.25,32.25,32.25,32.25,23.75,23.75,59.25,794.5,794.5,794.5,794.5,65.75,65.75,65.75,78.25,78.25,63.75,120.75,120.75,120.75,120.75,120.75,120.75,120.75,120.75,120.75,120.75,48.0,48.0,48.0,48.0,48.0,48.0,48.0,44.75,44.75,44.75,44.75,44.75,44.75,44.75,44.75,42.5,42.5,42.5,73.25,73.25,73.25,73.25,50.75,50.75,50.75,50.75,53.0,53.0,53.0,53.0,52.75,52.75,77.25,77.25,42.25,1498.25,1498.25,1498.25,1498.25,1498.25,1498.25,879.25,879.25,879.25,879.25,1489.5,1489.5,1489.5,1489.5,776.25,776.25,776.25,2272.25,2272.25,530.75,38.25,38.25,38.25,38.25,38.25,38.25,38.25,32.75,32.75,32.75,32.75,32.75,32.75,25.0,25.0,25.0,25.0,25.0,79.25,79.25,79.25,79.25,79.25,36.5,36.5,36.5,36.5,58.25,58.25,15.5,1027.75,1027.75,1027.75,1027.75,1027.75,1027.75,2925.75,2118.0,77.0,129.25,129.25,129.25,105.75,105.75,105.75,105.75,105.75,57.0,63.25,63.25,78.25,75.5],\"xaxis\":\"x\",\"y\":[13.5,7.5,3.25,1881.75,35.0,31.5,20.0,3.5,14.25,8.5,12.5,63.25,32.25,154.0,23.75,19.5,91.25,59.25,25.0,20.5,33.5,6.5,77.75,12.75,23.5,1162.75,58.0,121.5,20.0,10.75,18.75,14.25,32.75,75.25,12.5,17.0,61.5,65.25,80.75,244.5,16.25,29.25,154.0,19.0,102.5,59.75,12.75,1.0,14.25,155.75,36.5,14.25,28.25,14.25,28.25,48.75,118.0,263.5,165.25,373.75,373.75,60.75,60.75,59.25,154.0,52.5,32.75,32.75,7.0,244.5,45.25,35.25,22.25,68.5,68.5,27.75,41.5,106.5,148.0,1792.5,154.0,37.0,85.25,29.25,244.5,19.75,53.0,12.25,73.0,38.5,29.5,20.75,12.5,32.25,59.25,23.75,63.25,19.5,91.25,25.0,49.0,22.0,22.0,10.75,17.0,17.0,119.0,41.0,74.25,183.25,183.25,14.0,64.5,244.5,16.25,29.25,87.5,48.75,48.75,24.0,91.25,38.75,245.75,91.25,38.75,245.75,38.75,19.5,245.75,12.5,32.25,59.25,23.75,63.25,25.0,22.25,75.25,79.25,55.75,55.75,79.25,55.75,8.75,29.5,29.5,144.25,143.5,20.0,143.5,20.0,102.5,414.0,2485.75,414.0,9.5,35.25,18.5,17.25,24.75,35.25,18.5,18.5,35.25,85.25,77.0,502.25,27.0,14.25,15.0,21.5,8.75,10.75,47.75,139.75,27.0,15.0,14.25,8.75,21.5,20.25,10.75,15.5,47.75,81.5,23.5,28.25,14.25,8.75,15.5,21.5,8.75,15.5,21.5,15.5,21.5,353.0,77.75,77.75,124.0,204.25,137.5,204.25,137.5,137.5,26.75,12.25,53.0,73.0,53.0,73.0,73.0,794.5,63.75,78.25,33.0,65.75,794.5,63.75,459.75,78.25,33.0,65.75,27.0,30.75,20.25,22.25,14.5,20.25,22.25,14.5,22.25,14.5,14.5,38.5,20.75,20.75,201.75,102.0,57.0,245.75,12.5,32.25,59.25,23.75,63.25,25.0,81.5,47.75,15.5,10.75,10.75,15.5,47.75,10.75,15.5,10.75,206.75,171.0,31.75,113.25,31.75,59.75,54.25,113.25,171.0,31.75,59.75,54.25,113.25,137.5,54.25,113.25,59.75,137.5,59.75,54.25,137.5,59.75,137.5,63.25,32.25,23.75,59.25,25.0,32.25,59.25,23.75,25.0,23.75,59.25,25.0,59.25,25.0,25.0,65.75,78.25,63.75,33.0,63.75,78.25,33.0,63.75,33.0,33.0,48.0,44.75,42.5,73.25,50.75,53.0,52.75,77.25,42.25,26.5,53.0,44.75,42.5,50.75,52.75,77.25,26.5,53.0,26.5,52.75,50.75,42.25,73.25,42.5,77.25,53.0,50.75,42.25,53.0,26.5,52.75,77.25,53.0,26.5,77.25,42.25,52.75,77.25,42.25,26.5,26.5,42.25,26.5,42.25,26.5,879.25,1489.5,776.25,2272.25,530.75,2274.0,2274.0,776.25,1489.5,530.75,2272.25,2274.0,776.25,530.75,2272.25,2274.0,530.75,530.75,2274.0,2274.0,32.75,25.0,79.25,36.5,58.25,15.5,35.25,79.25,35.25,15.5,36.5,25.0,58.25,79.25,35.25,15.5,36.5,58.25,36.5,58.25,15.5,20.75,35.25,35.25,15.5,58.25,20.75,35.25,15.5,35.25,2925.75,525.5,271.5,1324.25,5149.25,1120.5,1324.25,1457.25,129.25,105.75,61.75,78.25,57.0,63.25,21.25,78.25,75.5,75.5,75.5,61.75,75.5,61.75],\"yaxis\":\"y\",\"type\":\"scatter\"},{\"name\":\"Regression Fit\",\"x\":[4.75,42.82575757575758,80.90151515151516,118.97727272727273,157.0530303030303,195.12878787878788,233.20454545454547,271.28030303030306,309.3560606060606,347.4318181818182,385.50757575757575,423.58333333333337,461.65909090909093,499.7348484848485,537.8106060606061,575.8863636363636,613.9621212121212,652.0378787878789,690.1136363636364,728.189393939394,766.2651515151515,804.3409090909091,842.4166666666667,880.4924242424242,918.5681818181819,956.6439393939395,994.719696969697,1032.7954545454545,1070.8712121212122,1108.9469696969697,1147.0227272727273,1185.098484848485,1223.1742424242425,1261.25,1299.3257575757577,1337.4015151515152,1375.4772727272727,1413.5530303030305,1451.628787878788,1489.7045454545455,1527.780303030303,1565.8560606060607,1603.9318181818182,1642.0075757575758,1680.0833333333335,1718.159090909091,1756.2348484848485,1794.3106060606062,1832.3863636363637,1870.4621212121212,1908.537878787879,1946.6136363636365,1984.689393939394,2022.7651515151517,2060.840909090909,2098.916666666667,2136.9924242424245,2175.068181818182,2213.1439393939395,2251.219696969697,2289.2954545454545,2327.3712121212125,2365.44696969697,2403.5227272727275,2441.598484848485,2479.6742424242425,2517.75,2555.8257575757575,2593.9015151515155,2631.977272727273,2670.0530303030305,2708.128787878788,2746.2045454545455,2784.280303030303,2822.356060606061,2860.4318181818185,2898.507575757576,2936.5833333333335,2974.659090909091,3012.7348484848485,3050.810606060606,3088.886363636364,3126.9621212121215,3165.037878787879,3203.1136363636365,3241.189393939394,3279.2651515151515,3317.3409090909095,3355.416666666667,3393.4924242424245,3431.568181818182,3469.6439393939395,3507.719696969697,3545.795454545455,3583.8712121212125,3621.94696969697,3660.0227272727275,3698.098484848485,3736.1742424242425,3774.25],\"y\":[70.82830165149026,93.1790591011236,115.52981655075692,137.88057400039025,160.23133145002356,182.5820888996569,204.93284634929023,227.28360379892356,249.6343612485569,271.9851186981902,294.33587614782357,316.6866335974569,339.0373910470902,361.3881484967235,383.7389059463569,406.0896633959902,428.4404208456235,450.7911782952568,473.14193574489013,495.49269319452355,517.8434506441567,540.1942080937902,562.5449655434235,584.8957229930568,607.2464804426901,629.5972378923235,651.9479953419568,674.29875279159,696.6495102412234,719.0002676908567,741.35102514049,763.7017825901235,786.0525400397568,808.4032974893901,830.7540549390235,853.1048123886568,875.45556983829,897.8063272879234,920.1570847375567,942.50784218719,964.8585996368233,987.2093570864567,1009.56011453609,1031.9108719857234,1054.2616294353568,1076.61238688499,1098.9631443346234,1121.3139017842568,1143.66465923389,1166.0154166835234,1188.3661741331568,1210.71693158279,1233.0676890324235,1255.4184464820569,1277.76920393169,1300.1199613813235,1322.470718830957,1344.82147628059,1367.1722337302233,1389.5229911798567,1411.87374862949,1434.2245060791236,1456.5752635287568,1478.9260209783902,1501.2767784280234,1523.6275358776566,1545.97829332729,1568.3290507769232,1590.6798082265568,1613.03056567619,1635.3813231258234,1657.7320805754566,1680.08283802509,1702.4335954747232,1724.7843529243569,1747.13511037399,1769.4858678236233,1791.8366252732567,1814.1873827228899,1836.5381401725233,1858.8888976221565,1881.2396550717901,1903.5904125214233,1925.9411699710565,1948.29192742069,1970.6426848703231,1992.9934423199566,2015.34419976959,2037.6949572192234,2060.0457146688564,2082.39647211849,2104.747229568123,2127.0979870177566,2149.44874446739,2171.7995019170235,2194.1502593666564,2216.50101681629,2238.8517742659233,2261.2025317155562,2283.5532891651897],\"type\":\"scatter\"}],                        {\"template\":{\"data\":{\"bar\":[{\"error_x\":{\"color\":\"#2a3f5f\"},\"error_y\":{\"color\":\"#2a3f5f\"},\"marker\":{\"line\":{\"color\":\"#E5ECF6\",\"width\":0.5},\"pattern\":{\"fillmode\":\"overlay\",\"size\":10,\"solidity\":0.2}},\"type\":\"bar\"}],\"barpolar\":[{\"marker\":{\"line\":{\"color\":\"#E5ECF6\",\"width\":0.5},\"pattern\":{\"fillmode\":\"overlay\",\"size\":10,\"solidity\":0.2}},\"type\":\"barpolar\"}],\"carpet\":[{\"aaxis\":{\"endlinecolor\":\"#2a3f5f\",\"gridcolor\":\"white\",\"linecolor\":\"white\",\"minorgridcolor\":\"white\",\"startlinecolor\":\"#2a3f5f\"},\"baxis\":{\"endlinecolor\":\"#2a3f5f\",\"gridcolor\":\"white\",\"linecolor\":\"white\",\"minorgridcolor\":\"white\",\"startlinecolor\":\"#2a3f5f\"},\"type\":\"carpet\"}],\"choropleth\":[{\"colorbar\":{\"outlinewidth\":0,\"ticks\":\"\"},\"type\":\"choropleth\"}],\"contour\":[{\"colorbar\":{\"outlinewidth\":0,\"ticks\":\"\"},\"colorscale\":[[0.0,\"#0d0887\"],[0.1111111111111111,\"#46039f\"],[0.2222222222222222,\"#7201a8\"],[0.3333333333333333,\"#9c179e\"],[0.4444444444444444,\"#bd3786\"],[0.5555555555555556,\"#d8576b\"],[0.6666666666666666,\"#ed7953\"],[0.7777777777777778,\"#fb9f3a\"],[0.8888888888888888,\"#fdca26\"],[1.0,\"#f0f921\"]],\"type\":\"contour\"}],\"contourcarpet\":[{\"colorbar\":{\"outlinewidth\":0,\"ticks\":\"\"},\"type\":\"contourcarpet\"}],\"heatmap\":[{\"colorbar\":{\"outlinewidth\":0,\"ticks\":\"\"},\"colorscale\":[[0.0,\"#0d0887\"],[0.1111111111111111,\"#46039f\"],[0.2222222222222222,\"#7201a8\"],[0.3333333333333333,\"#9c179e\"],[0.4444444444444444,\"#bd3786\"],[0.5555555555555556,\"#d8576b\"],[0.6666666666666666,\"#ed7953\"],[0.7777777777777778,\"#fb9f3a\"],[0.8888888888888888,\"#fdca26\"],[1.0,\"#f0f921\"]],\"type\":\"heatmap\"}],\"heatmapgl\":[{\"colorbar\":{\"outlinewidth\":0,\"ticks\":\"\"},\"colorscale\":[[0.0,\"#0d0887\"],[0.1111111111111111,\"#46039f\"],[0.2222222222222222,\"#7201a8\"],[0.3333333333333333,\"#9c179e\"],[0.4444444444444444,\"#bd3786\"],[0.5555555555555556,\"#d8576b\"],[0.6666666666666666,\"#ed7953\"],[0.7777777777777778,\"#fb9f3a\"],[0.8888888888888888,\"#fdca26\"],[1.0,\"#f0f921\"]],\"type\":\"heatmapgl\"}],\"histogram\":[{\"marker\":{\"pattern\":{\"fillmode\":\"overlay\",\"size\":10,\"solidity\":0.2}},\"type\":\"histogram\"}],\"histogram2d\":[{\"colorbar\":{\"outlinewidth\":0,\"ticks\":\"\"},\"colorscale\":[[0.0,\"#0d0887\"],[0.1111111111111111,\"#46039f\"],[0.2222222222222222,\"#7201a8\"],[0.3333333333333333,\"#9c179e\"],[0.4444444444444444,\"#bd3786\"],[0.5555555555555556,\"#d8576b\"],[0.6666666666666666,\"#ed7953\"],[0.7777777777777778,\"#fb9f3a\"],[0.8888888888888888,\"#fdca26\"],[1.0,\"#f0f921\"]],\"type\":\"histogram2d\"}],\"histogram2dcontour\":[{\"colorbar\":{\"outlinewidth\":0,\"ticks\":\"\"},\"colorscale\":[[0.0,\"#0d0887\"],[0.1111111111111111,\"#46039f\"],[0.2222222222222222,\"#7201a8\"],[0.3333333333333333,\"#9c179e\"],[0.4444444444444444,\"#bd3786\"],[0.5555555555555556,\"#d8576b\"],[0.6666666666666666,\"#ed7953\"],[0.7777777777777778,\"#fb9f3a\"],[0.8888888888888888,\"#fdca26\"],[1.0,\"#f0f921\"]],\"type\":\"histogram2dcontour\"}],\"mesh3d\":[{\"colorbar\":{\"outlinewidth\":0,\"ticks\":\"\"},\"type\":\"mesh3d\"}],\"parcoords\":[{\"line\":{\"colorbar\":{\"outlinewidth\":0,\"ticks\":\"\"}},\"type\":\"parcoords\"}],\"pie\":[{\"automargin\":true,\"type\":\"pie\"}],\"scatter\":[{\"marker\":{\"colorbar\":{\"outlinewidth\":0,\"ticks\":\"\"}},\"type\":\"scatter\"}],\"scatter3d\":[{\"line\":{\"colorbar\":{\"outlinewidth\":0,\"ticks\":\"\"}},\"marker\":{\"colorbar\":{\"outlinewidth\":0,\"ticks\":\"\"}},\"type\":\"scatter3d\"}],\"scattercarpet\":[{\"marker\":{\"colorbar\":{\"outlinewidth\":0,\"ticks\":\"\"}},\"type\":\"scattercarpet\"}],\"scattergeo\":[{\"marker\":{\"colorbar\":{\"outlinewidth\":0,\"ticks\":\"\"}},\"type\":\"scattergeo\"}],\"scattergl\":[{\"marker\":{\"colorbar\":{\"outlinewidth\":0,\"ticks\":\"\"}},\"type\":\"scattergl\"}],\"scattermapbox\":[{\"marker\":{\"colorbar\":{\"outlinewidth\":0,\"ticks\":\"\"}},\"type\":\"scattermapbox\"}],\"scatterpolar\":[{\"marker\":{\"colorbar\":{\"outlinewidth\":0,\"ticks\":\"\"}},\"type\":\"scatterpolar\"}],\"scatterpolargl\":[{\"marker\":{\"colorbar\":{\"outlinewidth\":0,\"ticks\":\"\"}},\"type\":\"scatterpolargl\"}],\"scatterternary\":[{\"marker\":{\"colorbar\":{\"outlinewidth\":0,\"ticks\":\"\"}},\"type\":\"scatterternary\"}],\"surface\":[{\"colorbar\":{\"outlinewidth\":0,\"ticks\":\"\"},\"colorscale\":[[0.0,\"#0d0887\"],[0.1111111111111111,\"#46039f\"],[0.2222222222222222,\"#7201a8\"],[0.3333333333333333,\"#9c179e\"],[0.4444444444444444,\"#bd3786\"],[0.5555555555555556,\"#d8576b\"],[0.6666666666666666,\"#ed7953\"],[0.7777777777777778,\"#fb9f3a\"],[0.8888888888888888,\"#fdca26\"],[1.0,\"#f0f921\"]],\"type\":\"surface\"}],\"table\":[{\"cells\":{\"fill\":{\"color\":\"#EBF0F8\"},\"line\":{\"color\":\"white\"}},\"header\":{\"fill\":{\"color\":\"#C8D4E3\"},\"line\":{\"color\":\"white\"}},\"type\":\"table\"}]},\"layout\":{\"annotationdefaults\":{\"arrowcolor\":\"#2a3f5f\",\"arrowhead\":0,\"arrowwidth\":1},\"autotypenumbers\":\"strict\",\"coloraxis\":{\"colorbar\":{\"outlinewidth\":0,\"ticks\":\"\"}},\"colorscale\":{\"diverging\":[[0,\"#8e0152\"],[0.1,\"#c51b7d\"],[0.2,\"#de77ae\"],[0.3,\"#f1b6da\"],[0.4,\"#fde0ef\"],[0.5,\"#f7f7f7\"],[0.6,\"#e6f5d0\"],[0.7,\"#b8e186\"],[0.8,\"#7fbc41\"],[0.9,\"#4d9221\"],[1,\"#276419\"]],\"sequential\":[[0.0,\"#0d0887\"],[0.1111111111111111,\"#46039f\"],[0.2222222222222222,\"#7201a8\"],[0.3333333333333333,\"#9c179e\"],[0.4444444444444444,\"#bd3786\"],[0.5555555555555556,\"#d8576b\"],[0.6666666666666666,\"#ed7953\"],[0.7777777777777778,\"#fb9f3a\"],[0.8888888888888888,\"#fdca26\"],[1.0,\"#f0f921\"]],\"sequentialminus\":[[0.0,\"#0d0887\"],[0.1111111111111111,\"#46039f\"],[0.2222222222222222,\"#7201a8\"],[0.3333333333333333,\"#9c179e\"],[0.4444444444444444,\"#bd3786\"],[0.5555555555555556,\"#d8576b\"],[0.6666666666666666,\"#ed7953\"],[0.7777777777777778,\"#fb9f3a\"],[0.8888888888888888,\"#fdca26\"],[1.0,\"#f0f921\"]]},\"colorway\":[\"#636efa\",\"#EF553B\",\"#00cc96\",\"#ab63fa\",\"#FFA15A\",\"#19d3f3\",\"#FF6692\",\"#B6E880\",\"#FF97FF\",\"#FECB52\"],\"font\":{\"color\":\"#2a3f5f\"},\"geo\":{\"bgcolor\":\"white\",\"lakecolor\":\"white\",\"landcolor\":\"#E5ECF6\",\"showlakes\":true,\"showland\":true,\"subunitcolor\":\"white\"},\"hoverlabel\":{\"align\":\"left\"},\"hovermode\":\"closest\",\"mapbox\":{\"style\":\"light\"},\"paper_bgcolor\":\"white\",\"plot_bgcolor\":\"#E5ECF6\",\"polar\":{\"angularaxis\":{\"gridcolor\":\"white\",\"linecolor\":\"white\",\"ticks\":\"\"},\"bgcolor\":\"#E5ECF6\",\"radialaxis\":{\"gridcolor\":\"white\",\"linecolor\":\"white\",\"ticks\":\"\"}},\"scene\":{\"xaxis\":{\"backgroundcolor\":\"#E5ECF6\",\"gridcolor\":\"white\",\"gridwidth\":2,\"linecolor\":\"white\",\"showbackground\":true,\"ticks\":\"\",\"zerolinecolor\":\"white\"},\"yaxis\":{\"backgroundcolor\":\"#E5ECF6\",\"gridcolor\":\"white\",\"gridwidth\":2,\"linecolor\":\"white\",\"showbackground\":true,\"ticks\":\"\",\"zerolinecolor\":\"white\"},\"zaxis\":{\"backgroundcolor\":\"#E5ECF6\",\"gridcolor\":\"white\",\"gridwidth\":2,\"linecolor\":\"white\",\"showbackground\":true,\"ticks\":\"\",\"zerolinecolor\":\"white\"}},\"shapedefaults\":{\"line\":{\"color\":\"#2a3f5f\"}},\"ternary\":{\"aaxis\":{\"gridcolor\":\"white\",\"linecolor\":\"white\",\"ticks\":\"\"},\"baxis\":{\"gridcolor\":\"white\",\"linecolor\":\"white\",\"ticks\":\"\"},\"bgcolor\":\"#E5ECF6\",\"caxis\":{\"gridcolor\":\"white\",\"linecolor\":\"white\",\"ticks\":\"\"}},\"title\":{\"x\":0.05},\"xaxis\":{\"automargin\":true,\"gridcolor\":\"white\",\"linecolor\":\"white\",\"ticks\":\"\",\"title\":{\"standoff\":15},\"zerolinecolor\":\"white\",\"zerolinewidth\":2},\"yaxis\":{\"automargin\":true,\"gridcolor\":\"white\",\"linecolor\":\"white\",\"ticks\":\"\",\"title\":{\"standoff\":15},\"zerolinecolor\":\"white\",\"zerolinewidth\":2}}},\"xaxis\":{\"anchor\":\"y\",\"domain\":[0.0,1.0],\"title\":{\"text\":\"Transcript per million_x\",\"font\":{\"family\":\"Arial\",\"size\":30}},\"range\":[0,500],\"nticks\":5,\"showline\":true,\"linewidth\":2,\"linecolor\":\"black\",\"automargin\":true,\"ticks\":\"outside\",\"tickwidth\":2,\"tickcolor\":\"black\"},\"yaxis\":{\"anchor\":\"x\",\"domain\":[0.0,1.0],\"title\":{\"text\":\"Transcript per million_y\",\"font\":{\"family\":\"Arial\",\"size\":30}},\"range\":[0,500],\"nticks\":5,\"showline\":true,\"linewidth\":2,\"linecolor\":\"black\",\"automargin\":true,\"ticks\":\"outside\",\"tickwidth\":2,\"tickcolor\":\"black\"},\"legend\":{\"tracegroupgap\":0},\"margin\":{\"t\":60},\"height\":900,\"width\":2000,\"title\":{\"text\":\"Correlation between TPMs of Interactions between Aneuploidy Subunits in chr16's Protein Complexes\",\"font\":{\"family\":\"Arial\",\"size\":32}},\"font\":{\"family\":\"Arial\",\"size\":20},\"plot_bgcolor\":\"rgba(0,0,0,0)\",\"annotations\":[{\"arrowhead\":1,\"showarrow\":true,\"text\":\"Spearman Rank Correlation = 0.43, pvalue=2.103e-20 ***\",\"textangle\":-16,\"x\":210,\"y\":195}]},                        {\"responsive\": true}                    ).then(function(){\n",
              "                            \n",
              "var gd = document.getElementById('2a6eb989-710d-418a-91d9-df10f0a1fadc');\n",
              "var x = new MutationObserver(function (mutations, observer) {{\n",
              "        var display = window.getComputedStyle(gd).display;\n",
              "        if (!display || display === 'none') {{\n",
              "            console.log([gd, 'removed!']);\n",
              "            Plotly.purge(gd);\n",
              "            observer.disconnect();\n",
              "        }}\n",
              "}});\n",
              "\n",
              "// Listen for the removal of the full notebook cells\n",
              "var notebookContainer = gd.closest('#notebook-container');\n",
              "if (notebookContainer) {{\n",
              "    x.observe(notebookContainer, {childList: true});\n",
              "}}\n",
              "\n",
              "// Listen for the clearing of the current output cell\n",
              "var outputEl = gd.closest('.output');\n",
              "if (outputEl) {{\n",
              "    x.observe(outputEl, {childList: true});\n",
              "}}\n",
              "\n",
              "                        })                };                            </script>        </div>\n",
              "</body>\n",
              "</html>"
            ]
          },
          "metadata": {},
          "output_type": "display_data"
        }
      ],
      "source": [
        "import numpy as np\n",
        "import plotly.express as px\n",
        "import plotly.graph_objects as go\n",
        "from sklearn.linear_model import LinearRegression\n",
        "\n",
        "y=complex_tpm_2\n",
        "X = complex_tpm_1\n",
        "df=pd.DataFrame()\n",
        "df['Transcript per million_x'] = X\n",
        "df['Transcript per million_y'] = y\n",
        "\n",
        "y=np.array(complex_tpm_2)\n",
        "X = np.array(complex_tpm_1)\n",
        "model = LinearRegression()\n",
        "model.fit(X.reshape(-1, 1), y)\n",
        "\n",
        "x_range = np.linspace(X.min(), X.max(), 100)\n",
        "y_range = model.predict(x_range.reshape(-1, 1))\n",
        "fig = px.scatter(df, x='Transcript per million_x', y='Transcript per million_y', height=900, width=2000)\n",
        "fig.add_traces(go.Scatter(x=x_range, y=y_range, name='Regression Fit'))\n",
        "fig.update_layout(\n",
        "    title=\"Correlation between TPMs of Interactions between Aneuploidy Subunits in chr16's Protein Complexes\",\n",
        "    plot_bgcolor='rgba(0,0,0,0)',\n",
        "    title_font_family='Arial',\n",
        "    title_font_size=32,\n",
        "    font=dict(\n",
        "        family=\"Arial\",\n",
        "        size=20,\n",
        "    ))\n",
        "fig.update_xaxes(range=[0, 500], nticks=5,\n",
        "                 title_font_family=\"Arial\",\n",
        "                 title_font_size=30,\n",
        "                 showline=True, linewidth=2, linecolor='black', \n",
        "                 automargin=True,\n",
        "                #  title_standoff = 10,\n",
        "                 ticks=\"outside\", tickwidth=2, tickcolor='black')\n",
        "fig.add_annotation(x=210, y=195,\n",
        "                   textangle=-16,\n",
        "            text=\"Spearman Rank Correlation = 0.43, pvalue=2.103e-20 ***\",\n",
        "            showarrow=True,\n",
        "            arrowhead=1)\n",
        "fig.update_yaxes(range=[0, 500], nticks=5,\n",
        "                  title_font_family=\"Arial\",\n",
        "                 title_font_size=30,\n",
        "                 showline=True, linewidth=2, linecolor='black', \n",
        "                 automargin=True,\n",
        "                #  title_standoff = 10,\n",
        "                 ticks=\"outside\", tickwidth=2, tickcolor='black')\n",
        "fig.show()"
      ]
    },
    {
      "cell_type": "code",
      "execution_count": null,
      "metadata": {
        "id": "QKnhXOUZxbwu"
      },
      "outputs": [],
      "source": []
    },
    {
      "cell_type": "code",
      "execution_count": null,
      "metadata": {
        "colab": {
          "base_uri": "https://localhost:8080/"
        },
        "id": "toij8pCQu30g",
        "outputId": "06ac5038-1a43-43c4-d4a8-00d78446d968"
      },
      "outputs": [
        {
          "data": {
            "text/plain": [
              "SignificanceResult(statistic=0.5982623281376299, pvalue=0.0)"
            ]
          },
          "execution_count": 40,
          "metadata": {},
          "output_type": "execute_result"
        }
      ],
      "source": [
        "c16_complexes = pd.read_csv('/content/All Complexes 2.csv')\n",
        "subunits = pd.read_csv('/content/NonCNVSubunits.csv')\n",
        "all_cnv_subunits = []\n",
        "complex_interactions = nx.Graph()\n",
        "for protein_complex in c16_complexes['chr16_complex']:\n",
        "  for complex_subunit in subunits[subunits['ComplexName'] == protein_complex]['Non-CNV']:\n",
        "    if complex_subunit in all_interaction_network.nodes:\n",
        "      connections_in_protein = [k for k in all_interaction_network.neighbors(complex_subunit)]\n",
        "      cnv_partners = list(set(connections_in_protein) & set(subunits[subunits['ComplexName'] == protein_complex]['Non-CNV']))\n",
        "      for j in cnv_partners:\n",
        "        if j!=complex_subunit:\n",
        "          complex_interactions.add_edge(complex_subunit, j)\n",
        "clean_complex_interactions = pd.DataFrame(complex_interactions.edges(), columns=[0,1])\n",
        "complex_tpm_1 = []\n",
        "complex_tpm_2 = []\n",
        "for i in range(len(clean_complex_interactions)):\n",
        "  if((clean_complex_interactions[0][i] in all_average_tpms.keys()) and (clean_complex_interactions[1][i] in all_average_tpms.keys())):\n",
        "    complex_tpm_1.append(all_average_tpms[clean_complex_interactions[0][i]])\n",
        "    complex_tpm_2.append(all_average_tpms[clean_complex_interactions[1][i]])\n",
        "\n",
        "res = stats.spearmanr(complex_tpm_1, complex_tpm_2)\n",
        "res"
      ]
    },
    {
      "cell_type": "code",
      "execution_count": null,
      "metadata": {
        "colab": {
          "base_uri": "https://localhost:8080/"
        },
        "id": "yPJoJ2wEgggN",
        "outputId": "2924d533-b208-42cf-b8da-5a930f3afe4d"
      },
      "outputs": [
        {
          "data": {
            "text/plain": [
              "SignificanceResult(statistic=0.43070092107606867, pvalue=4.589517539376851e-22)"
            ]
          },
          "execution_count": 39,
          "metadata": {},
          "output_type": "execute_result"
        }
      ],
      "source": [
        "c16_complexes = pd.read_csv('/content/All Complexes 2.csv')\n",
        "subunits = pd.read_csv('/content/All Subunits.csv')\n",
        "all_cnv_subunits = []\n",
        "complex_interactions = nx.Graph()\n",
        "for protein_complex in c16_complexes['chr16_complex']:\n",
        "  for complex_subunit in subunits[subunits['ComplexName'] == protein_complex]['Sysname']:\n",
        "    connections_in_protein = [k for k in all_interaction_network.neighbors(complex_subunit)]\n",
        "    cnv_partners = list(set(connections_in_protein) & set(subunits[subunits['ComplexName'] == protein_complex]['Sysname']))\n",
        "    for j in cnv_partners:\n",
        "      if j!=complex_subunit:\n",
        "        complex_interactions.add_edge(complex_subunit, j)\n",
        "clean_complex_interactions = pd.DataFrame(complex_interactions.edges(), columns=[0,1])\n",
        "complex_tpm_1 = []\n",
        "complex_tpm_2 = []\n",
        "for i in range(len(clean_complex_interactions)):\n",
        "  complex_tpm_1.append(all_average_tpms[clean_complex_interactions[0][i]])\n",
        "  complex_tpm_2.append(all_average_tpms[clean_complex_interactions[1][i]])\n",
        "\n",
        "res = stats.spearmanr(complex_tpm_1, complex_tpm_2)\n",
        "res"
      ]
    },
    {
      "cell_type": "code",
      "execution_count": null,
      "metadata": {
        "colab": {
          "base_uri": "https://localhost:8080/"
        },
        "id": "w7IrA24ox48T",
        "outputId": "5a5eb7be-9e1b-4486-e997-cad44b5441e7"
      },
      "outputs": [
        {
          "data": {
            "text/plain": [
              "(0.4042621880891575, 2.6868359413839323e-18)"
            ]
          },
          "execution_count": 18,
          "metadata": {},
          "output_type": "execute_result"
        }
      ],
      "source": [
        "c16_complexes = pd.read_csv('/content/All Complexes.csv')\n",
        "subunits = pd.read_csv('/content/All Subunits.csv')\n",
        "all_cnv_subunits = []\n",
        "complex_interactions = nx.Graph()\n",
        "for protein_complex in c16_complexes['chr16_complex']:\n",
        "  for complex_subunit in subunits[subunits['ComplexName'] == protein_complex]['Sysname']:\n",
        "    connections_in_protein = [k for k in all_interaction_network.neighbors(complex_subunit)]\n",
        "    cnv_partners = list(set(connections_in_protein) & set(subunits[subunits['ComplexName'] == protein_complex]['Sysname']))\n",
        "    for j in cnv_partners:\n",
        "      if j!=complex_subunit:\n",
        "        complex_interactions.add_edge(complex_subunit, j)\n",
        "clean_complex_interactions = pd.DataFrame(complex_interactions.edges(), columns=[0,1])\n",
        "complex_tpm_1 = []\n",
        "complex_tpm_2 = []\n",
        "for i in range(len(clean_complex_interactions)):\n",
        "  if((clean_complex_interactions[0][i] in all_average_sc_tpms.keys()) and (clean_complex_interactions[1][i] in all_average_sc_tpms.keys())):\n",
        "    complex_tpm_1.append(all_average_sc_tpms[clean_complex_interactions[0][i]])\n",
        "    complex_tpm_2.append(all_average_sc_tpms[clean_complex_interactions[1][i]])\n",
        "\n",
        "res = stats.pearsonr(complex_tpm_1, complex_tpm_2)\n",
        "res"
      ]
    },
    {
      "cell_type": "code",
      "execution_count": null,
      "metadata": {
        "colab": {
          "base_uri": "https://localhost:8080/",
          "height": 542
        },
        "id": "pE4kXx0ydENb",
        "outputId": "ee8eddc5-fe8c-46f7-8ee8-8f8b70e26ab9"
      },
      "outputs": [
        {
          "data": {
            "text/html": [
              "<html>\n",
              "<head><meta charset=\"utf-8\" /></head>\n",
              "<body>\n",
              "    <div>            <script src=\"https://cdnjs.cloudflare.com/ajax/libs/mathjax/2.7.5/MathJax.js?config=TeX-AMS-MML_SVG\"></script><script type=\"text/javascript\">if (window.MathJax) {MathJax.Hub.Config({SVG: {font: \"STIX-Web\"}});}</script>                <script type=\"text/javascript\">window.PlotlyConfig = {MathJaxConfig: 'local'};</script>\n",
              "        <script src=\"https://cdn.plot.ly/plotly-2.8.3.min.js\"></script>                <div id=\"305d03b7-7095-4743-9b4f-00ed95d9dc65\" class=\"plotly-graph-div\" style=\"height:525px; width:100%;\"></div>            <script type=\"text/javascript\">                                    window.PLOTLYENV=window.PLOTLYENV || {};                                    if (document.getElementById(\"305d03b7-7095-4743-9b4f-00ed95d9dc65\")) {                    Plotly.newPlot(                        \"305d03b7-7095-4743-9b4f-00ed95d9dc65\",                        [{\"hovertemplate\":\"x=%{x}<br>y=%{y}<extra></extra>\",\"legendgroup\":\"\",\"marker\":{\"color\":\"#636efa\",\"symbol\":\"circle\"},\"mode\":\"markers\",\"name\":\"\",\"orientation\":\"v\",\"showlegend\":false,\"x\":[476.0,9.5,23.75,13.25,48.5,6.0,15.5,178.0,178.0,178.0,178.0,178.0,178.0,178.0,178.0,178.0,178.0,178.0,178.0,8.5,8.5,9.5,55.75,308.5,205.0,236.75,1.75,8.0,36.0,36.0,22.0,166.75,166.75,94.0,126.5,126.5,12.5,34.5,21.25,21.25,537.75,39.0,30.0,6.75,161.0,19.25,13.75,68.0,14.25,15.0,15.0,17.0,8.5,18.75,8.25,692.0,19.25,30.0,91.25,10.0,26.75,170.5,80.75,80.75,80.75,80.75,13.25,13.25,32.75,32.75,32.75,52.5,52.5,123.0,15.0,15.0,15.0,15.0,15.0,15.0,8.75,8.75,8.75,8.75,8.75,15.5,14.25,14.25,14.25,104.0,87.5,29.0,283.75,86.75,119.0,30.5,30.5,68.5,15.75,15.75,28.5,93.25,93.25,93.25,75.25,75.25,79.25,17.5,17.5,17.5,17.5,30.75,30.75,30.75,14.5,14.5,20.25,9.5,19.25,16.0,10.5,27.75,13.25,84.0,84.0,74.25,15.25,15.25,11.0,8.75,14.0,1792.5,41.75,41.75,105.0,940.0,459.75,17.0,35.0,16.0,16.0,16.0,36.5,36.5,4.75,4.75,8.75,20.0,565.0,64.75,20.0,57.25,31.75,31.75,14.75,15.25,15.25,15.25,15.25,15.25,35.25,35.25,9.5,269.75,269.75,353.0,19.75,19.75,19.75,19.75,154.0,154.0,154.0,154.0,154.0,154.0,154.0,154.0,154.0,154.0,154.0,154.0,154.0,154.0,154.0,154.0,154.0,154.0,73.0,73.0,73.0,73.0,73.0,73.0,73.0,12.25,53.0,53.0,53.0,53.0,53.0,76.0,502.25,502.25,502.25,45.25,37.0,37.0,59.25,59.25,7.0,244.5,244.5,195.25,195.25,195.25,124.0,124.0,204.25,230.5,230.5,143.5,143.5,144.25,289.75,289.75,289.75,289.75,289.75,77.0,139.75,139.75,139.75,139.75,139.75,139.75,139.75,12.5,12.5,12.5,12.5,12.5,12.5,12.5,63.25,63.25,63.25,63.25,63.25,63.25,59.25,59.25,59.25,59.25,59.25,32.25,32.25,32.25,32.25,91.25,91.25,91.25,91.25,91.25,91.25,91.25,19.5,19.5,25.0,72.75,72.75,373.75,373.75,165.25,11.0,14.25,3774.25,3774.25,414.0,102.5,47.25,17.25,20.25,20.25,20.25,20.25,47.75,47.75,47.75,81.5,81.5,10.75,100.0,100.0,48.75,18.75,18.75,18.75,24.0,24.0,38.75,794.5,794.5,794.5,794.5,33.0,33.0,33.0,65.75,65.75,78.25,29.5,29.5,38.5,60.25,60.25,60.25,60.25,171.0,171.0,171.0,171.0,171.0,171.0,113.25,113.25,113.25,113.25,113.25,206.75,206.75,206.75,31.75,31.75,31.75,54.25,54.25,85.5,201.75,201.75,77.0,129.25,129.25,129.25,105.75,105.75,105.75,105.75,105.75,57.0,75.5,75.5,75.5,63.25,120.75,120.75,120.75,120.75,120.75,120.75,120.75,120.75,120.75,120.75,48.0,48.0,48.0,48.0,48.0,48.0,48.0,50.75,50.75,50.75,50.75,50.75,50.75,53.0,53.0,53.0,53.0,53.0,53.0,53.0,42.5,42.5,77.25,77.25,77.25,77.25,44.75,44.75,44.75,44.75,26.5,26.5,26.5,42.25,73.25,38.25,38.25,38.25,38.25,38.25,38.25,38.25,35.25,35.25,35.25,35.25,35.25,35.25,15.5,15.5,15.5,15.5,15.5,25.0,25.0,25.0,25.0,32.75,32.75,32.75,58.25,58.25,36.5,36.5,79.25,1498.25,1498.25,1498.25,1498.25,1498.25,1498.25,1489.5,1489.5,1489.5,1489.5,1489.5,530.75,530.75,530.75,530.75,776.25,776.25,776.25,2272.25,879.25,1027.75,1027.75,1027.75,1027.75,1027.75,1027.75,2925.75,2118.0],\"xaxis\":\"x\",\"y\":[255.75,20.0,3.5,14.25,77.5,11.25,20.25,8.5,25.75,12.5,12.5,154.0,63.25,59.25,32.25,91.25,19.5,25.0,23.75,20.5,33.5,6.5,13.5,49.25,9.0,77.75,15.75,7.5,22.0,49.0,49.0,94.0,126.5,126.5,45.5,80.0,12.75,23.5,54.0,1162.75,58.0,151.25,121.5,20.0,10.75,18.75,16.0,14.25,32.75,17.0,10.75,10.75,16.5,3.25,8.5,75.25,12.5,17.0,100.75,61.5,65.25,80.75,29.25,244.5,154.0,16.25,32.75,52.5,52.5,45.25,35.25,7.0,244.5,22.25,8.75,15.5,14.25,289.75,21.5,139.75,14.25,15.5,289.75,21.5,139.75,14.25,289.75,21.5,139.75,19.0,1881.75,102.5,59.75,119.0,41.0,68.5,22.25,22.25,28.5,12.75,12.75,75.25,79.25,55.75,55.75,79.25,55.75,30.75,14.5,20.25,22.25,14.5,20.25,22.25,20.25,22.25,22.25,12.75,1.0,14.25,27.75,41.5,15.5,74.25,183.25,183.25,11.0,19.0,19.0,14.0,64.5,41.75,106.5,148.0,155.75,459.75,73.0,35.0,31.5,36.5,14.25,28.25,14.25,28.25,8.75,29.5,29.5,48.75,118.0,263.5,38.75,129.5,14.75,68.0,68.0,35.25,9.5,18.5,24.75,17.25,9.5,18.5,18.5,353.0,77.75,77.75,154.0,73.0,12.25,53.0,53.0,12.25,73.0,29.25,244.5,12.5,32.25,59.25,23.75,63.25,19.5,91.25,25.0,59.25,373.75,38.5,29.5,20.75,53.0,12.25,794.5,63.75,78.25,33.0,65.75,53.0,794.5,63.75,78.25,33.0,65.75,502.25,10.5,289.75,27.0,35.25,59.25,85.25,85.25,373.75,244.5,29.25,16.25,124.0,204.25,137.5,204.25,137.5,137.5,143.5,144.25,20.0,144.25,20.0,77.0,21.5,10.75,47.75,27.0,139.75,21.5,20.25,10.75,15.5,47.75,81.5,27.0,63.25,59.25,32.25,91.25,19.5,25.0,23.75,32.25,59.25,23.75,91.25,19.5,25.0,32.25,91.25,19.5,25.0,23.75,91.25,19.5,25.0,23.75,23.75,19.5,25.0,18.75,24.0,38.75,245.75,23.75,25.0,23.75,373.75,165.25,165.25,60.75,60.75,23.5,28.25,414.0,102.5,102.5,2485.75,25.25,26.75,47.75,81.5,10.75,15.5,10.75,15.5,81.5,10.75,15.5,15.5,48.75,87.5,87.5,24.0,38.75,245.75,38.75,245.75,245.75,33.0,65.75,78.25,63.75,63.75,78.25,65.75,63.75,78.25,63.75,38.5,20.75,20.75,171.0,113.25,206.75,31.75,31.75,59.75,54.25,113.25,137.5,206.75,31.75,59.75,54.25,137.5,206.75,31.75,59.75,54.25,54.25,59.75,137.5,59.75,137.5,201.75,102.0,57.0,129.25,105.75,78.25,61.75,21.25,57.0,75.5,78.25,63.25,75.5,78.25,61.75,63.25,61.75,48.0,50.75,53.0,42.5,77.25,44.75,26.5,42.25,73.25,52.75,53.0,50.75,42.5,77.25,26.5,44.75,52.75,53.0,26.5,42.5,77.25,44.75,42.25,42.5,77.25,44.75,26.5,42.25,73.25,52.75,42.25,44.75,26.5,42.25,73.25,44.75,26.5,52.75,42.25,73.25,42.25,73.25,52.75,52.75,52.75,35.25,15.5,25.0,32.75,58.25,36.5,79.25,79.25,15.5,25.0,32.75,58.25,36.5,79.25,25.0,32.75,58.25,36.5,79.25,36.5,32.75,58.25,79.25,36.5,58.25,79.25,36.5,79.25,20.75,20.75,1489.5,530.75,776.25,2272.25,879.25,2274.0,2272.25,2274.0,776.25,879.25,530.75,2272.25,2274.0,776.25,879.25,2272.25,2274.0,879.25,2274.0,2274.0,1120.5,525.5,2925.75,5149.25,1324.25,271.5,1324.25,1457.25],\"yaxis\":\"y\",\"type\":\"scatter\"},{\"hovertemplate\":\"<b>OLS trendline</b><br>y = 0.590767 * x + 66.4798<br>R<sup>2</sup>=0.265849<br><br>x=%{x}<br>y=%{y} <b>(trend)</b><extra></extra>\",\"legendgroup\":\"\",\"marker\":{\"color\":\"#636efa\",\"symbol\":\"circle\"},\"mode\":\"lines\",\"name\":\"\",\"showlegend\":false,\"x\":[1.75,4.75,4.75,6.0,6.75,7.0,8.0,8.25,8.5,8.5,8.5,8.75,8.75,8.75,8.75,8.75,8.75,8.75,9.5,9.5,9.5,9.5,10.0,10.5,10.75,11.0,11.0,12.25,12.5,12.5,12.5,12.5,12.5,12.5,12.5,12.5,13.25,13.25,13.25,13.25,13.75,14.0,14.25,14.25,14.25,14.25,14.25,14.5,14.5,14.75,15.0,15.0,15.0,15.0,15.0,15.0,15.0,15.0,15.25,15.25,15.25,15.25,15.25,15.25,15.25,15.5,15.5,15.5,15.5,15.5,15.5,15.5,15.75,15.75,16.0,16.0,16.0,16.0,17.0,17.0,17.25,17.5,17.5,17.5,17.5,18.75,18.75,18.75,18.75,19.25,19.25,19.25,19.5,19.5,19.75,19.75,19.75,19.75,20.0,20.0,20.25,20.25,20.25,20.25,20.25,21.25,21.25,22.0,23.75,24.0,24.0,25.0,25.0,25.0,25.0,25.0,26.5,26.5,26.5,26.75,27.75,28.5,29.0,29.5,29.5,30.0,30.0,30.5,30.5,30.75,30.75,30.75,31.75,31.75,31.75,31.75,31.75,32.25,32.25,32.25,32.25,32.75,32.75,32.75,32.75,32.75,32.75,33.0,33.0,33.0,34.5,35.0,35.25,35.25,35.25,35.25,35.25,35.25,35.25,35.25,36.0,36.0,36.5,36.5,36.5,36.5,37.0,37.0,38.25,38.25,38.25,38.25,38.25,38.25,38.25,38.5,38.75,39.0,41.75,41.75,42.25,42.5,42.5,44.75,44.75,44.75,44.75,45.25,47.25,47.75,47.75,47.75,48.0,48.0,48.0,48.0,48.0,48.0,48.0,48.5,48.75,50.75,50.75,50.75,50.75,50.75,50.75,52.5,52.5,53.0,53.0,53.0,53.0,53.0,53.0,53.0,53.0,53.0,53.0,53.0,53.0,54.25,54.25,55.75,57.0,57.25,58.25,58.25,59.25,59.25,59.25,59.25,59.25,59.25,59.25,60.25,60.25,60.25,60.25,63.25,63.25,63.25,63.25,63.25,63.25,63.25,64.75,65.75,65.75,68.0,68.5,72.75,72.75,73.0,73.0,73.0,73.0,73.0,73.0,73.0,73.25,74.25,75.25,75.25,75.5,75.5,75.5,76.0,77.0,77.0,77.25,77.25,77.25,77.25,78.25,79.25,79.25,80.75,80.75,80.75,80.75,81.5,81.5,84.0,84.0,85.5,86.75,87.5,91.25,91.25,91.25,91.25,91.25,91.25,91.25,91.25,93.25,93.25,93.25,94.0,100.0,100.0,102.5,104.0,105.0,105.75,105.75,105.75,105.75,105.75,113.25,113.25,113.25,113.25,113.25,119.0,120.75,120.75,120.75,120.75,120.75,120.75,120.75,120.75,120.75,120.75,123.0,124.0,124.0,126.5,126.5,129.25,129.25,129.25,139.75,139.75,139.75,139.75,139.75,139.75,139.75,143.5,143.5,144.25,154.0,154.0,154.0,154.0,154.0,154.0,154.0,154.0,154.0,154.0,154.0,154.0,154.0,154.0,154.0,154.0,154.0,154.0,161.0,165.25,166.75,166.75,170.5,171.0,171.0,171.0,171.0,171.0,171.0,178.0,178.0,178.0,178.0,178.0,178.0,178.0,178.0,178.0,178.0,178.0,178.0,195.25,195.25,195.25,201.75,201.75,204.25,205.0,206.75,206.75,206.75,230.5,230.5,236.75,244.5,244.5,269.75,269.75,283.75,289.75,289.75,289.75,289.75,289.75,308.5,353.0,373.75,373.75,414.0,459.75,476.0,502.25,502.25,502.25,530.75,530.75,530.75,530.75,537.75,565.0,692.0,776.25,776.25,776.25,794.5,794.5,794.5,794.5,879.25,940.0,1027.75,1027.75,1027.75,1027.75,1027.75,1027.75,1489.5,1489.5,1489.5,1489.5,1489.5,1498.25,1498.25,1498.25,1498.25,1498.25,1498.25,1792.5,2118.0,2272.25,2925.75,3774.25,3774.25],\"xaxis\":\"x\",\"y\":[67.51362468159573,69.28592504705156,69.28592504705156,70.02438353265816,70.46745862402211,70.61515032114345,71.20591710962871,71.35360880675003,71.50130050387136,71.50130050387136,71.50130050387136,71.64899220099268,71.64899220099268,71.64899220099268,71.64899220099268,71.64899220099268,71.64899220099268,71.64899220099268,72.09206729235663,72.09206729235663,72.09206729235663,72.09206729235663,72.38745068659928,72.68283408084191,72.83052577796323,72.97821747508455,72.97821747508455,73.71667596069115,73.86436765781247,73.86436765781247,73.86436765781247,73.86436765781247,73.86436765781247,73.86436765781247,73.86436765781247,73.86436765781247,74.30744274917643,74.30744274917643,74.30744274917643,74.30744274917643,74.60282614341907,74.75051784054038,74.8982095376617,74.8982095376617,74.8982095376617,74.8982095376617,74.8982095376617,75.04590123478303,75.04590123478303,75.19359293190435,75.34128462902567,75.34128462902567,75.34128462902567,75.34128462902567,75.34128462902567,75.34128462902567,75.34128462902567,75.34128462902567,75.48897632614698,75.48897632614698,75.48897632614698,75.48897632614698,75.48897632614698,75.48897632614698,75.48897632614698,75.6366680232683,75.6366680232683,75.6366680232683,75.6366680232683,75.6366680232683,75.6366680232683,75.6366680232683,75.78435972038963,75.78435972038963,75.93205141751095,75.93205141751095,75.93205141751095,75.93205141751095,76.52281820599622,76.52281820599622,76.67050990311753,76.81820160023887,76.81820160023887,76.81820160023887,76.81820160023887,77.55666008584546,77.55666008584546,77.55666008584546,77.55666008584546,77.8520434800881,77.8520434800881,77.8520434800881,77.99973517720942,77.99973517720942,78.14742687433073,78.14742687433073,78.14742687433073,78.14742687433073,78.29511857145205,78.29511857145205,78.44281026857337,78.44281026857337,78.44281026857337,78.44281026857337,78.44281026857337,79.03357705705865,79.03357705705865,79.47665214842262,80.51049402827185,80.65818572539317,80.65818572539317,81.24895251387845,81.24895251387845,81.24895251387845,81.24895251387845,81.24895251387845,82.13510269660637,82.13510269660637,82.13510269660637,82.28279439372768,82.87356118221297,83.31663627357692,83.61201966781955,83.9074030620622,83.9074030620622,84.20278645630484,84.20278645630484,84.49816985054747,84.49816985054747,84.6458615476688,84.6458615476688,84.6458615476688,85.23662833615407,85.23662833615407,85.23662833615407,85.23662833615407,85.23662833615407,85.5320117303967,85.5320117303967,85.5320117303967,85.5320117303967,85.82739512463935,85.82739512463935,85.82739512463935,85.82739512463935,85.82739512463935,85.82739512463935,85.97508682176067,85.97508682176067,85.97508682176067,86.86123700448859,87.15662039873122,87.30431209585254,87.30431209585254,87.30431209585254,87.30431209585254,87.30431209585254,87.30431209585254,87.30431209585254,87.30431209585254,87.7473871872165,87.7473871872165,88.04277058145914,88.04277058145914,88.04277058145914,88.04277058145914,88.33815397570177,88.33815397570177,89.07661246130837,89.07661246130837,89.07661246130837,89.07661246130837,89.07661246130837,89.07661246130837,89.07661246130837,89.2243041584297,89.37199585555102,89.51968755267234,91.14429622100685,91.14429622100685,91.43967961524949,91.5873713123708,91.5873713123708,92.91659658646269,92.91659658646269,92.91659658646269,92.91659658646269,93.21197998070532,94.39351355767587,94.68889695191852,94.68889695191852,94.68889695191852,94.83658864903984,94.83658864903984,94.83658864903984,94.83658864903984,94.83658864903984,94.83658864903984,94.83658864903984,95.13197204328247,95.27966374040379,96.46119731737436,96.46119731737436,96.46119731737436,96.46119731737436,96.46119731737436,96.46119731737436,97.49503919722359,97.49503919722359,97.79042259146622,97.79042259146622,97.79042259146622,97.79042259146622,97.79042259146622,97.79042259146622,97.79042259146622,97.79042259146622,97.79042259146622,97.79042259146622,97.79042259146622,97.79042259146622,98.52888107707282,98.52888107707282,99.41503125980074,100.15348974540734,100.30118144252866,100.89194823101394,100.89194823101394,101.48271501949921,101.48271501949921,101.48271501949921,101.48271501949921,101.48271501949921,101.48271501949921,101.48271501949921,102.07348180798449,102.07348180798449,102.07348180798449,102.07348180798449,103.84578217344033,103.84578217344033,103.84578217344033,103.84578217344033,103.84578217344033,103.84578217344033,103.84578217344033,104.73193235616824,105.32269914465351,105.32269914465351,106.6519244187454,106.94730781298804,109.45806666405048,109.45806666405048,109.60575836117178,109.60575836117178,109.60575836117178,109.60575836117178,109.60575836117178,109.60575836117178,109.60575836117178,109.75345005829311,110.34421684677838,110.93498363526366,110.93498363526366,111.08267533238498,111.08267533238498,111.08267533238498,111.37805872662761,111.9688255151129,111.9688255151129,112.11651721223421,112.11651721223421,112.11651721223421,112.11651721223421,112.7072840007195,113.29805078920478,113.29805078920478,114.18420097193268,114.18420097193268,114.18420097193268,114.18420097193268,114.62727606329665,114.62727606329665,116.10419303450985,116.10419303450985,116.99034321723776,117.72880170284435,118.17187679420832,120.38725225102812,120.38725225102812,120.38725225102812,120.38725225102812,120.38725225102812,120.38725225102812,120.38725225102812,120.38725225102812,121.56878582799867,121.56878582799867,121.56878582799867,122.01186091936262,125.55646165027429,125.55646165027429,127.03337862148749,127.9195288042154,128.5102955927007,128.95337068406462,128.95337068406462,128.95337068406462,128.95337068406462,128.95337068406462,133.38412159770422,133.38412159770422,133.38412159770422,133.38412159770422,133.38412159770422,136.78103063149456,137.81487251134382,137.81487251134382,137.81487251134382,137.81487251134382,137.81487251134382,137.81487251134382,137.81487251134382,137.81487251134382,137.81487251134382,137.81487251134382,139.1440977854357,139.73486457392096,139.73486457392096,141.21178154513416,141.21178154513416,142.8363902134687,142.8363902134687,142.8363902134687,149.0394414925641,149.0394414925641,149.0394414925641,149.0394414925641,149.0394414925641,149.0394414925641,149.0394414925641,151.2548169493839,151.2548169493839,151.69789204074783,157.4578682284793,157.4578682284793,157.4578682284793,157.4578682284793,157.4578682284793,157.4578682284793,157.4578682284793,157.4578682284793,157.4578682284793,157.4578682284793,157.4578682284793,157.4578682284793,157.4578682284793,157.4578682284793,157.4578682284793,157.4578682284793,157.4578682284793,157.4578682284793,161.59323574787624,164.1039945989387,164.9901447816666,164.9901447816666,167.20552023848637,167.50090363272903,167.50090363272903,167.50090363272903,167.50090363272903,167.50090363272903,167.50090363272903,171.63627115212597,171.63627115212597,171.63627115212597,171.63627115212597,171.63627115212597,171.63627115212597,171.63627115212597,171.63627115212597,171.63627115212597,171.63627115212597,171.63627115212597,171.63627115212597,181.82699825349704,181.82699825349704,181.82699825349704,185.6669823786513,185.6669823786513,187.1438993498645,187.58697444122848,188.6208163210777,188.6208163210777,188.6208163210777,202.65152754760308,202.65152754760308,206.34381997563605,210.92226258639695,210.92226258639695,225.83912399565023,225.83912399565023,234.10985903444413,237.6544597653558,237.6544597653558,237.6544597653558,237.6544597653558,237.6544597653558,248.73133704945474,275.0204591370496,287.27886999811915,287.27886999811915,311.05723323465156,338.08481380785304,347.6847741207388,363.1924023184773,363.1924023184773,363.1924023184773,380.02925579030773,380.02925579030773,380.02925579030773,380.02925579030773,384.1646233097048,400.26301829592853,475.29040043355883,525.0625023634435,525.0625023634435,525.0625023634435,535.8439962532998,535.8439962532998,535.8439962532998,535.8439962532998,585.9114815774271,621.8005639779078,673.6403496674909,673.6403496674909,673.6403496674909,673.6403496674909,673.6403496674909,673.6403496674909,946.4269142505681,946.4269142505681,946.4269142505681,946.4269142505681,946.4269142505681,951.5961236498142,951.5961236498142,951.5961236498142,951.5961236498142,951.5961236498142,951.5961236498142,1125.4292511616072,1317.7238408135652,1408.8496179374195,1794.9157142125484,2296.1813342423065,2296.1813342423065],\"yaxis\":\"y\",\"type\":\"scatter\"}],                        {\"template\":{\"data\":{\"bar\":[{\"error_x\":{\"color\":\"#2a3f5f\"},\"error_y\":{\"color\":\"#2a3f5f\"},\"marker\":{\"line\":{\"color\":\"#E5ECF6\",\"width\":0.5},\"pattern\":{\"fillmode\":\"overlay\",\"size\":10,\"solidity\":0.2}},\"type\":\"bar\"}],\"barpolar\":[{\"marker\":{\"line\":{\"color\":\"#E5ECF6\",\"width\":0.5},\"pattern\":{\"fillmode\":\"overlay\",\"size\":10,\"solidity\":0.2}},\"type\":\"barpolar\"}],\"carpet\":[{\"aaxis\":{\"endlinecolor\":\"#2a3f5f\",\"gridcolor\":\"white\",\"linecolor\":\"white\",\"minorgridcolor\":\"white\",\"startlinecolor\":\"#2a3f5f\"},\"baxis\":{\"endlinecolor\":\"#2a3f5f\",\"gridcolor\":\"white\",\"linecolor\":\"white\",\"minorgridcolor\":\"white\",\"startlinecolor\":\"#2a3f5f\"},\"type\":\"carpet\"}],\"choropleth\":[{\"colorbar\":{\"outlinewidth\":0,\"ticks\":\"\"},\"type\":\"choropleth\"}],\"contour\":[{\"colorbar\":{\"outlinewidth\":0,\"ticks\":\"\"},\"colorscale\":[[0.0,\"#0d0887\"],[0.1111111111111111,\"#46039f\"],[0.2222222222222222,\"#7201a8\"],[0.3333333333333333,\"#9c179e\"],[0.4444444444444444,\"#bd3786\"],[0.5555555555555556,\"#d8576b\"],[0.6666666666666666,\"#ed7953\"],[0.7777777777777778,\"#fb9f3a\"],[0.8888888888888888,\"#fdca26\"],[1.0,\"#f0f921\"]],\"type\":\"contour\"}],\"contourcarpet\":[{\"colorbar\":{\"outlinewidth\":0,\"ticks\":\"\"},\"type\":\"contourcarpet\"}],\"heatmap\":[{\"colorbar\":{\"outlinewidth\":0,\"ticks\":\"\"},\"colorscale\":[[0.0,\"#0d0887\"],[0.1111111111111111,\"#46039f\"],[0.2222222222222222,\"#7201a8\"],[0.3333333333333333,\"#9c179e\"],[0.4444444444444444,\"#bd3786\"],[0.5555555555555556,\"#d8576b\"],[0.6666666666666666,\"#ed7953\"],[0.7777777777777778,\"#fb9f3a\"],[0.8888888888888888,\"#fdca26\"],[1.0,\"#f0f921\"]],\"type\":\"heatmap\"}],\"heatmapgl\":[{\"colorbar\":{\"outlinewidth\":0,\"ticks\":\"\"},\"colorscale\":[[0.0,\"#0d0887\"],[0.1111111111111111,\"#46039f\"],[0.2222222222222222,\"#7201a8\"],[0.3333333333333333,\"#9c179e\"],[0.4444444444444444,\"#bd3786\"],[0.5555555555555556,\"#d8576b\"],[0.6666666666666666,\"#ed7953\"],[0.7777777777777778,\"#fb9f3a\"],[0.8888888888888888,\"#fdca26\"],[1.0,\"#f0f921\"]],\"type\":\"heatmapgl\"}],\"histogram\":[{\"marker\":{\"pattern\":{\"fillmode\":\"overlay\",\"size\":10,\"solidity\":0.2}},\"type\":\"histogram\"}],\"histogram2d\":[{\"colorbar\":{\"outlinewidth\":0,\"ticks\":\"\"},\"colorscale\":[[0.0,\"#0d0887\"],[0.1111111111111111,\"#46039f\"],[0.2222222222222222,\"#7201a8\"],[0.3333333333333333,\"#9c179e\"],[0.4444444444444444,\"#bd3786\"],[0.5555555555555556,\"#d8576b\"],[0.6666666666666666,\"#ed7953\"],[0.7777777777777778,\"#fb9f3a\"],[0.8888888888888888,\"#fdca26\"],[1.0,\"#f0f921\"]],\"type\":\"histogram2d\"}],\"histogram2dcontour\":[{\"colorbar\":{\"outlinewidth\":0,\"ticks\":\"\"},\"colorscale\":[[0.0,\"#0d0887\"],[0.1111111111111111,\"#46039f\"],[0.2222222222222222,\"#7201a8\"],[0.3333333333333333,\"#9c179e\"],[0.4444444444444444,\"#bd3786\"],[0.5555555555555556,\"#d8576b\"],[0.6666666666666666,\"#ed7953\"],[0.7777777777777778,\"#fb9f3a\"],[0.8888888888888888,\"#fdca26\"],[1.0,\"#f0f921\"]],\"type\":\"histogram2dcontour\"}],\"mesh3d\":[{\"colorbar\":{\"outlinewidth\":0,\"ticks\":\"\"},\"type\":\"mesh3d\"}],\"parcoords\":[{\"line\":{\"colorbar\":{\"outlinewidth\":0,\"ticks\":\"\"}},\"type\":\"parcoords\"}],\"pie\":[{\"automargin\":true,\"type\":\"pie\"}],\"scatter\":[{\"marker\":{\"colorbar\":{\"outlinewidth\":0,\"ticks\":\"\"}},\"type\":\"scatter\"}],\"scatter3d\":[{\"line\":{\"colorbar\":{\"outlinewidth\":0,\"ticks\":\"\"}},\"marker\":{\"colorbar\":{\"outlinewidth\":0,\"ticks\":\"\"}},\"type\":\"scatter3d\"}],\"scattercarpet\":[{\"marker\":{\"colorbar\":{\"outlinewidth\":0,\"ticks\":\"\"}},\"type\":\"scattercarpet\"}],\"scattergeo\":[{\"marker\":{\"colorbar\":{\"outlinewidth\":0,\"ticks\":\"\"}},\"type\":\"scattergeo\"}],\"scattergl\":[{\"marker\":{\"colorbar\":{\"outlinewidth\":0,\"ticks\":\"\"}},\"type\":\"scattergl\"}],\"scattermapbox\":[{\"marker\":{\"colorbar\":{\"outlinewidth\":0,\"ticks\":\"\"}},\"type\":\"scattermapbox\"}],\"scatterpolar\":[{\"marker\":{\"colorbar\":{\"outlinewidth\":0,\"ticks\":\"\"}},\"type\":\"scatterpolar\"}],\"scatterpolargl\":[{\"marker\":{\"colorbar\":{\"outlinewidth\":0,\"ticks\":\"\"}},\"type\":\"scatterpolargl\"}],\"scatterternary\":[{\"marker\":{\"colorbar\":{\"outlinewidth\":0,\"ticks\":\"\"}},\"type\":\"scatterternary\"}],\"surface\":[{\"colorbar\":{\"outlinewidth\":0,\"ticks\":\"\"},\"colorscale\":[[0.0,\"#0d0887\"],[0.1111111111111111,\"#46039f\"],[0.2222222222222222,\"#7201a8\"],[0.3333333333333333,\"#9c179e\"],[0.4444444444444444,\"#bd3786\"],[0.5555555555555556,\"#d8576b\"],[0.6666666666666666,\"#ed7953\"],[0.7777777777777778,\"#fb9f3a\"],[0.8888888888888888,\"#fdca26\"],[1.0,\"#f0f921\"]],\"type\":\"surface\"}],\"table\":[{\"cells\":{\"fill\":{\"color\":\"#EBF0F8\"},\"line\":{\"color\":\"white\"}},\"header\":{\"fill\":{\"color\":\"#C8D4E3\"},\"line\":{\"color\":\"white\"}},\"type\":\"table\"}]},\"layout\":{\"annotationdefaults\":{\"arrowcolor\":\"#2a3f5f\",\"arrowhead\":0,\"arrowwidth\":1},\"autotypenumbers\":\"strict\",\"coloraxis\":{\"colorbar\":{\"outlinewidth\":0,\"ticks\":\"\"}},\"colorscale\":{\"diverging\":[[0,\"#8e0152\"],[0.1,\"#c51b7d\"],[0.2,\"#de77ae\"],[0.3,\"#f1b6da\"],[0.4,\"#fde0ef\"],[0.5,\"#f7f7f7\"],[0.6,\"#e6f5d0\"],[0.7,\"#b8e186\"],[0.8,\"#7fbc41\"],[0.9,\"#4d9221\"],[1,\"#276419\"]],\"sequential\":[[0.0,\"#0d0887\"],[0.1111111111111111,\"#46039f\"],[0.2222222222222222,\"#7201a8\"],[0.3333333333333333,\"#9c179e\"],[0.4444444444444444,\"#bd3786\"],[0.5555555555555556,\"#d8576b\"],[0.6666666666666666,\"#ed7953\"],[0.7777777777777778,\"#fb9f3a\"],[0.8888888888888888,\"#fdca26\"],[1.0,\"#f0f921\"]],\"sequentialminus\":[[0.0,\"#0d0887\"],[0.1111111111111111,\"#46039f\"],[0.2222222222222222,\"#7201a8\"],[0.3333333333333333,\"#9c179e\"],[0.4444444444444444,\"#bd3786\"],[0.5555555555555556,\"#d8576b\"],[0.6666666666666666,\"#ed7953\"],[0.7777777777777778,\"#fb9f3a\"],[0.8888888888888888,\"#fdca26\"],[1.0,\"#f0f921\"]]},\"colorway\":[\"#636efa\",\"#EF553B\",\"#00cc96\",\"#ab63fa\",\"#FFA15A\",\"#19d3f3\",\"#FF6692\",\"#B6E880\",\"#FF97FF\",\"#FECB52\"],\"font\":{\"color\":\"#2a3f5f\"},\"geo\":{\"bgcolor\":\"white\",\"lakecolor\":\"white\",\"landcolor\":\"#E5ECF6\",\"showlakes\":true,\"showland\":true,\"subunitcolor\":\"white\"},\"hoverlabel\":{\"align\":\"left\"},\"hovermode\":\"closest\",\"mapbox\":{\"style\":\"light\"},\"paper_bgcolor\":\"white\",\"plot_bgcolor\":\"#E5ECF6\",\"polar\":{\"angularaxis\":{\"gridcolor\":\"white\",\"linecolor\":\"white\",\"ticks\":\"\"},\"bgcolor\":\"#E5ECF6\",\"radialaxis\":{\"gridcolor\":\"white\",\"linecolor\":\"white\",\"ticks\":\"\"}},\"scene\":{\"xaxis\":{\"backgroundcolor\":\"#E5ECF6\",\"gridcolor\":\"white\",\"gridwidth\":2,\"linecolor\":\"white\",\"showbackground\":true,\"ticks\":\"\",\"zerolinecolor\":\"white\"},\"yaxis\":{\"backgroundcolor\":\"#E5ECF6\",\"gridcolor\":\"white\",\"gridwidth\":2,\"linecolor\":\"white\",\"showbackground\":true,\"ticks\":\"\",\"zerolinecolor\":\"white\"},\"zaxis\":{\"backgroundcolor\":\"#E5ECF6\",\"gridcolor\":\"white\",\"gridwidth\":2,\"linecolor\":\"white\",\"showbackground\":true,\"ticks\":\"\",\"zerolinecolor\":\"white\"}},\"shapedefaults\":{\"line\":{\"color\":\"#2a3f5f\"}},\"ternary\":{\"aaxis\":{\"gridcolor\":\"white\",\"linecolor\":\"white\",\"ticks\":\"\"},\"baxis\":{\"gridcolor\":\"white\",\"linecolor\":\"white\",\"ticks\":\"\"},\"bgcolor\":\"#E5ECF6\",\"caxis\":{\"gridcolor\":\"white\",\"linecolor\":\"white\",\"ticks\":\"\"}},\"title\":{\"x\":0.05},\"xaxis\":{\"automargin\":true,\"gridcolor\":\"white\",\"linecolor\":\"white\",\"ticks\":\"\",\"title\":{\"standoff\":15},\"zerolinecolor\":\"white\",\"zerolinewidth\":2},\"yaxis\":{\"automargin\":true,\"gridcolor\":\"white\",\"linecolor\":\"white\",\"ticks\":\"\",\"title\":{\"standoff\":15},\"zerolinecolor\":\"white\",\"zerolinewidth\":2}}},\"xaxis\":{\"anchor\":\"y\",\"domain\":[0.0,1.0],\"title\":{\"text\":\"x\"}},\"yaxis\":{\"anchor\":\"x\",\"domain\":[0.0,1.0],\"title\":{\"text\":\"y\"}},\"legend\":{\"tracegroupgap\":0},\"margin\":{\"t\":60}},                        {\"responsive\": true}                    ).then(function(){\n",
              "                            \n",
              "var gd = document.getElementById('305d03b7-7095-4743-9b4f-00ed95d9dc65');\n",
              "var x = new MutationObserver(function (mutations, observer) {{\n",
              "        var display = window.getComputedStyle(gd).display;\n",
              "        if (!display || display === 'none') {{\n",
              "            console.log([gd, 'removed!']);\n",
              "            Plotly.purge(gd);\n",
              "            observer.disconnect();\n",
              "        }}\n",
              "}});\n",
              "\n",
              "// Listen for the removal of the full notebook cells\n",
              "var notebookContainer = gd.closest('#notebook-container');\n",
              "if (notebookContainer) {{\n",
              "    x.observe(notebookContainer, {childList: true});\n",
              "}}\n",
              "\n",
              "// Listen for the clearing of the current output cell\n",
              "var outputEl = gd.closest('.output');\n",
              "if (outputEl) {{\n",
              "    x.observe(outputEl, {childList: true});\n",
              "}}\n",
              "\n",
              "                        })                };                            </script>        </div>\n",
              "</body>\n",
              "</html>"
            ]
          },
          "metadata": {},
          "output_type": "display_data"
        }
      ],
      "source": [
        "px.scatter(x=complex_tpm_1, y=complex_tpm_2, trendline=\"ols\").show()"
      ]
    },
    {
      "cell_type": "code",
      "execution_count": 3,
      "metadata": {
        "id": "q4ltdPBbmD8x"
      },
      "outputs": [],
      "source": [
        "rna_tpm_1 = pd.read_csv('/content/quant_1.sf', sep='\\t')\n",
        "rna_tpm_2 = pd.read_csv('/content/quant_2.sf', sep='\\t')\n",
        "rna_tpm_3 = pd.read_csv('/content/quant_3.sf', sep='\\t')\n",
        "rna_tpm_4 = pd.read_csv('/content/quant_4.sf', sep='\\t')\n",
        "# rna_tpm_sc_1 = pd.read_csv('/content/quant_sc_1.sf', sep='\\t')\n",
        "# rna_tpm_sc_2 = pd.read_csv('/content/quant_sc_2.sf', sep='\\t')\n",
        "# rna_tpm_sc_3 = pd.read_csv('/content/quant_sc_3.sf', sep='\\t')\n",
        "# rna_tpm_sc_4 = pd.read_csv('/content/quant_sc_4.sf', sep='\\t')"
      ]
    },
    {
      "cell_type": "code",
      "source": [
        "# filter = rna_tpm_1.loc[rna_tpm_1['Name'].map(lambda x: x.startswith('Q'))]\n",
        "# filter2 = rna_tpm_1.loc[rna_tpm_1['Name'].map(lambda x: x.startswith('YP'))]\n",
        "# px.bar(filter2, ='TPM')"
      ],
      "metadata": {
        "id": "uU5t9w_c72Qm"
      },
      "execution_count": 4,
      "outputs": []
    },
    {
      "cell_type": "code",
      "execution_count": 5,
      "metadata": {
        "id": "auuL8VgnZeXx"
      },
      "outputs": [],
      "source": [
        "rna_tpm_1[['Gene', 'Strain']] = rna_tpm_1['Name'].str.split(\"_\", expand=True)\n",
        "rna_tpm_2[['Gene', 'Strain']] = rna_tpm_2['Name'].str.split(\"_\", expand=True)\n",
        "rna_tpm_3[['Gene', 'Strain']] = rna_tpm_3['Name'].str.split(\"_\", expand=True)\n",
        "rna_tpm_4[['Gene', 'Strain']] = rna_tpm_4['Name'].str.split(\"_\", expand=True)\n",
        "# rna_tpm_sc_1[['Gene', 'Strain']] = rna_tpm_sc_1['Name'].str.split(\"_\", expand=True)\n",
        "# rna_tpm_sc_2[['Gene', 'Strain']] = rna_tpm_sc_2['Name'].str.split(\"_\", expand=True)\n",
        "# rna_tpm_sc_3[['Gene', 'Strain']] = rna_tpm_sc_3['Name'].str.split(\"_\", expand=True)\n",
        "# rna_tpm_sc_4[['Gene', 'Strain']] = rna_tpm_sc_4['Name'].str.split(\"_\", expand=True)"
      ]
    },
    {
      "cell_type": "code",
      "execution_count": null,
      "metadata": {
        "colab": {
          "base_uri": "https://localhost:8080/",
          "height": 235
        },
        "id": "NTt-TA7-xhDy",
        "outputId": "23d1a65a-d4ef-44d3-fc1a-3a8ff416d6f9"
      },
      "outputs": [
        {
          "ename": "NameError",
          "evalue": "ignored",
          "output_type": "error",
          "traceback": [
            "\u001b[0;31m---------------------------------------------------------------------------\u001b[0m",
            "\u001b[0;31mNameError\u001b[0m                                 Traceback (most recent call last)",
            "\u001b[0;32m<ipython-input-9-cab3c3e5daf9>\u001b[0m in \u001b[0;36m<cell line: 2>\u001b[0;34m()\u001b[0m\n\u001b[1;32m      1\u001b[0m \u001b[0mall_average_sc_tpms\u001b[0m \u001b[0;34m=\u001b[0m \u001b[0;34m{\u001b[0m\u001b[0;34m}\u001b[0m\u001b[0;34m\u001b[0m\u001b[0;34m\u001b[0m\u001b[0m\n\u001b[0;32m----> 2\u001b[0;31m \u001b[0;32mfor\u001b[0m \u001b[0mi\u001b[0m \u001b[0;32min\u001b[0m \u001b[0mrange\u001b[0m\u001b[0;34m(\u001b[0m\u001b[0mlen\u001b[0m\u001b[0;34m(\u001b[0m\u001b[0mrna_tpm_sc_1\u001b[0m\u001b[0;34m)\u001b[0m\u001b[0;34m)\u001b[0m\u001b[0;34m:\u001b[0m\u001b[0;34m\u001b[0m\u001b[0;34m\u001b[0m\u001b[0m\n\u001b[0m\u001b[1;32m      3\u001b[0m   \u001b[0mall_average_sc_tpms\u001b[0m\u001b[0;34m[\u001b[0m\u001b[0mrna_tpm_sc_1\u001b[0m\u001b[0;34m[\u001b[0m\u001b[0;34m'Gene'\u001b[0m\u001b[0;34m]\u001b[0m\u001b[0;34m[\u001b[0m\u001b[0mi\u001b[0m\u001b[0;34m]\u001b[0m\u001b[0;34m]\u001b[0m \u001b[0;34m=\u001b[0m \u001b[0;34m(\u001b[0m\u001b[0mint\u001b[0m\u001b[0;34m(\u001b[0m\u001b[0mrna_tpm_sc_1\u001b[0m\u001b[0;34m[\u001b[0m\u001b[0;34m'TPM'\u001b[0m\u001b[0;34m]\u001b[0m\u001b[0;34m[\u001b[0m\u001b[0mi\u001b[0m\u001b[0;34m]\u001b[0m\u001b[0;34m)\u001b[0m \u001b[0;34m+\u001b[0m \u001b[0mint\u001b[0m\u001b[0;34m(\u001b[0m\u001b[0mrna_tpm_sc_2\u001b[0m\u001b[0;34m[\u001b[0m\u001b[0mrna_tpm_sc_2\u001b[0m\u001b[0;34m[\u001b[0m\u001b[0;34m'Gene'\u001b[0m\u001b[0;34m]\u001b[0m \u001b[0;34m==\u001b[0m \u001b[0mrna_tpm_sc_1\u001b[0m\u001b[0;34m[\u001b[0m\u001b[0;34m'Gene'\u001b[0m\u001b[0;34m]\u001b[0m\u001b[0;34m[\u001b[0m\u001b[0mi\u001b[0m\u001b[0;34m]\u001b[0m\u001b[0;34m]\u001b[0m\u001b[0;34m[\u001b[0m\u001b[0;34m'TPM'\u001b[0m\u001b[0;34m]\u001b[0m\u001b[0;34m.\u001b[0m\u001b[0mmax\u001b[0m\u001b[0;34m(\u001b[0m\u001b[0;34m)\u001b[0m\u001b[0;34m)\u001b[0m \u001b[0;34m+\u001b[0m \u001b[0mint\u001b[0m\u001b[0;34m(\u001b[0m\u001b[0mrna_tpm_sc_3\u001b[0m\u001b[0;34m[\u001b[0m\u001b[0mrna_tpm_sc_3\u001b[0m\u001b[0;34m[\u001b[0m\u001b[0;34m'Gene'\u001b[0m\u001b[0;34m]\u001b[0m \u001b[0;34m==\u001b[0m \u001b[0mrna_tpm_sc_1\u001b[0m\u001b[0;34m[\u001b[0m\u001b[0;34m'Gene'\u001b[0m\u001b[0;34m]\u001b[0m\u001b[0;34m[\u001b[0m\u001b[0mi\u001b[0m\u001b[0;34m]\u001b[0m\u001b[0;34m]\u001b[0m\u001b[0;34m[\u001b[0m\u001b[0;34m'TPM'\u001b[0m\u001b[0;34m]\u001b[0m\u001b[0;34m.\u001b[0m\u001b[0mmax\u001b[0m\u001b[0;34m(\u001b[0m\u001b[0;34m)\u001b[0m\u001b[0;34m)\u001b[0m \u001b[0;34m+\u001b[0m \u001b[0mint\u001b[0m\u001b[0;34m(\u001b[0m\u001b[0mrna_tpm_sc_4\u001b[0m\u001b[0;34m[\u001b[0m\u001b[0mrna_tpm_sc_4\u001b[0m\u001b[0;34m[\u001b[0m\u001b[0;34m'Gene'\u001b[0m\u001b[0;34m]\u001b[0m \u001b[0;34m==\u001b[0m \u001b[0mrna_tpm_sc_1\u001b[0m\u001b[0;34m[\u001b[0m\u001b[0;34m'Gene'\u001b[0m\u001b[0;34m]\u001b[0m\u001b[0;34m[\u001b[0m\u001b[0mi\u001b[0m\u001b[0;34m]\u001b[0m\u001b[0;34m]\u001b[0m\u001b[0;34m[\u001b[0m\u001b[0;34m'TPM'\u001b[0m\u001b[0;34m]\u001b[0m\u001b[0;34m.\u001b[0m\u001b[0mmax\u001b[0m\u001b[0;34m(\u001b[0m\u001b[0;34m)\u001b[0m\u001b[0;34m)\u001b[0m\u001b[0;34m)\u001b[0m\u001b[0;34m/\u001b[0m\u001b[0;36m4\u001b[0m\u001b[0;34m\u001b[0m\u001b[0;34m\u001b[0m\u001b[0m\n",
            "\u001b[0;31mNameError\u001b[0m: name 'rna_tpm_sc_1' is not defined"
          ]
        }
      ],
      "source": [
        "all_average_sc_tpms = {}\n",
        "for i in range(len(rna_tpm_sc_1)):\n",
        "  all_average_sc_tpms[rna_tpm_sc_1['Gene'][i]] = (int(rna_tpm_sc_1['TPM'][i]) + int(rna_tpm_sc_2[rna_tpm_sc_2['Gene'] == rna_tpm_sc_1['Gene'][i]]['TPM'].max()) + int(rna_tpm_sc_3[rna_tpm_sc_3['Gene'] == rna_tpm_sc_1['Gene'][i]]['TPM'].max()) + int(rna_tpm_sc_4[rna_tpm_sc_4['Gene'] == rna_tpm_sc_1['Gene'][i]]['TPM'].max()))/4\n"
      ]
    },
    {
      "cell_type": "code",
      "execution_count": 6,
      "metadata": {
        "id": "Ga_mTyxtWv0j"
      },
      "outputs": [],
      "source": [
        "all_average_tpms = {}\n",
        "for i in range(len(rna_tpm_1)):\n",
        "  all_average_tpms[rna_tpm_1['Gene'][i]] = (int(rna_tpm_1['TPM'][i]) + int(rna_tpm_2[rna_tpm_2['Gene'] == rna_tpm_1['Gene'][i]]['TPM'].max()) + int(rna_tpm_3[rna_tpm_3['Gene'] == rna_tpm_1['Gene'][i]]['TPM'].max()) + int(rna_tpm_4[rna_tpm_4['Gene'] == rna_tpm_1['Gene'][i]]['TPM'].max()))/4\n"
      ]
    },
    {
      "cell_type": "code",
      "execution_count": null,
      "metadata": {
        "colab": {
          "base_uri": "https://localhost:8080/",
          "height": 35
        },
        "id": "Ne_59IBgoy50",
        "outputId": "86b4a011-7117-4c26-9b96-1af551c19e09"
      },
      "outputs": [
        {
          "data": {
            "application/vnd.google.colaboratory.intrinsic+json": {
              "type": "string"
            },
            "text/plain": [
              "'0.0000000'"
            ]
          },
          "execution_count": 4,
          "metadata": {},
          "output_type": "execute_result"
        }
      ],
      "source": [
        "from scipy.stats import norm\n",
        "import math \n",
        "\n",
        "def two_prop (p1_hat, p2_hat, n_1, n_2):\n",
        "    p_hat = (p1_hat*n_1+p2_hat*n_2)/(n_1+n_2)\n",
        "\n",
        "    z = (p1_hat-p2_hat)/math.sqrt(p_hat*(1-p_hat)*(1/n_1+1/n_2))\n",
        "    # print(z)\n",
        "    p_value = '{0:.7f}'.format(1-norm.cdf(z))\n",
        "    # print(p_value)\n",
        "    return p_value\n",
        "\n",
        "\n",
        "\n",
        "\n",
        "two_prop(0.81, 0.18, 356, 82)\n"
      ]
    },
    {
      "cell_type": "code",
      "execution_count": null,
      "metadata": {
        "id": "AnsKrozTznYL"
      },
      "outputs": [],
      "source": [
        "cnv_with_significance_16h_1 = pd.DataFrame(columns=['c3', 'c6', 'c13', 'c16'])\n",
        "cnv_with_significance_16h_2 = pd.DataFrame(columns=['c3', 'c6', 'c13','c14' ,'c16'])\n",
        "cnv_with_significance_16h_3 = pd.DataFrame(columns=['c3', 'c6', 'c9', 'c13', 'c16'])\n",
        "cnv_with_significance_16h_4 = pd.DataFrame(columns=['c3', 'c6', 'c13', 'c16'])\n",
        "cnv_with_significance_16h_5 = pd.DataFrame(columns=['c3', 'c6', 'c8', 'c13', 'c16'])\n",
        "cnv_with_significance_16h_6 = pd.DataFrame(columns=['c3', 'c6', 'c13', 'c16'])\n",
        "cnv_with_significance_16h_7 = pd.DataFrame(columns=['c3', 'c6'])\n",
        "cnv_with_significance_16h_8 = pd.DataFrame(columns=['c3', 'c6', 'c13', 'c16'])"
      ]
    },
    {
      "cell_type": "code",
      "execution_count": null,
      "metadata": {
        "colab": {
          "base_uri": "https://localhost:8080/",
          "height": 502
        },
        "id": "h1fdElFWFM3L",
        "outputId": "039f5369-8e42-4d1d-bb72-ba82ef68a56b"
      },
      "outputs": [
        {
          "ename": "KeyError",
          "evalue": "ignored",
          "output_type": "error",
          "traceback": [
            "\u001b[0;31m---------------------------------------------------------------------------\u001b[0m",
            "\u001b[0;31mKeyError\u001b[0m                                  Traceback (most recent call last)",
            "\u001b[0;32m/usr/local/lib/python3.8/dist-packages/pandas/core/indexes/base.py\u001b[0m in \u001b[0;36mget_loc\u001b[0;34m(self, key, method, tolerance)\u001b[0m\n\u001b[1;32m   3360\u001b[0m             \u001b[0;32mtry\u001b[0m\u001b[0;34m:\u001b[0m\u001b[0;34m\u001b[0m\u001b[0;34m\u001b[0m\u001b[0m\n\u001b[0;32m-> 3361\u001b[0;31m                 \u001b[0;32mreturn\u001b[0m \u001b[0mself\u001b[0m\u001b[0;34m.\u001b[0m\u001b[0m_engine\u001b[0m\u001b[0;34m.\u001b[0m\u001b[0mget_loc\u001b[0m\u001b[0;34m(\u001b[0m\u001b[0mcasted_key\u001b[0m\u001b[0;34m)\u001b[0m\u001b[0;34m\u001b[0m\u001b[0;34m\u001b[0m\u001b[0m\n\u001b[0m\u001b[1;32m   3362\u001b[0m             \u001b[0;32mexcept\u001b[0m \u001b[0mKeyError\u001b[0m \u001b[0;32mas\u001b[0m \u001b[0merr\u001b[0m\u001b[0;34m:\u001b[0m\u001b[0;34m\u001b[0m\u001b[0;34m\u001b[0m\u001b[0m\n",
            "\u001b[0;32m/usr/local/lib/python3.8/dist-packages/pandas/_libs/index.pyx\u001b[0m in \u001b[0;36mpandas._libs.index.IndexEngine.get_loc\u001b[0;34m()\u001b[0m\n",
            "\u001b[0;32m/usr/local/lib/python3.8/dist-packages/pandas/_libs/index.pyx\u001b[0m in \u001b[0;36mpandas._libs.index.IndexEngine.get_loc\u001b[0;34m()\u001b[0m\n",
            "\u001b[0;32mpandas/_libs/hashtable_class_helper.pxi\u001b[0m in \u001b[0;36mpandas._libs.hashtable.PyObjectHashTable.get_item\u001b[0;34m()\u001b[0m\n",
            "\u001b[0;32mpandas/_libs/hashtable_class_helper.pxi\u001b[0m in \u001b[0;36mpandas._libs.hashtable.PyObjectHashTable.get_item\u001b[0;34m()\u001b[0m\n",
            "\u001b[0;31mKeyError\u001b[0m: 'Unnamed: 0'",
            "\nThe above exception was the direct cause of the following exception:\n",
            "\u001b[0;31mKeyError\u001b[0m                                  Traceback (most recent call last)",
            "\u001b[0;32m<ipython-input-43-0c7656d9bc69>\u001b[0m in \u001b[0;36m<module>\u001b[0;34m\u001b[0m\n\u001b[1;32m      9\u001b[0m \u001b[0;32mfor\u001b[0m \u001b[0mi\u001b[0m \u001b[0;32min\u001b[0m \u001b[0mcomplexes\u001b[0m\u001b[0;34m.\u001b[0m\u001b[0mcolumns\u001b[0m\u001b[0;34m:\u001b[0m\u001b[0;34m\u001b[0m\u001b[0;34m\u001b[0m\u001b[0m\n\u001b[1;32m     10\u001b[0m   \u001b[0;32mfor\u001b[0m \u001b[0mj\u001b[0m \u001b[0;32min\u001b[0m \u001b[0mrange\u001b[0m\u001b[0;34m(\u001b[0m\u001b[0mlen\u001b[0m\u001b[0;34m(\u001b[0m\u001b[0mcomplexes\u001b[0m\u001b[0;34m[\u001b[0m\u001b[0;34m'Unnamed: 1'\u001b[0m\u001b[0;34m]\u001b[0m\u001b[0;34m)\u001b[0m\u001b[0;34m)\u001b[0m\u001b[0;34m:\u001b[0m\u001b[0;34m\u001b[0m\u001b[0;34m\u001b[0m\u001b[0m\n\u001b[0;32m---> 11\u001b[0;31m     \u001b[0mev_line\u001b[0m\u001b[0;34m.\u001b[0m\u001b[0mappend\u001b[0m\u001b[0;34m(\u001b[0m\u001b[0mcomplexes\u001b[0m\u001b[0;34m[\u001b[0m\u001b[0;34m'Unnamed: 0'\u001b[0m\u001b[0;34m]\u001b[0m\u001b[0;34m[\u001b[0m\u001b[0mj\u001b[0m\u001b[0;34m]\u001b[0m\u001b[0;34m)\u001b[0m\u001b[0;34m\u001b[0m\u001b[0;34m\u001b[0m\u001b[0m\n\u001b[0m\u001b[1;32m     12\u001b[0m     \u001b[0;32mif\u001b[0m \u001b[0mi\u001b[0m\u001b[0;34m==\u001b[0m\u001b[0;34m'Unnamed: 2'\u001b[0m\u001b[0;34m:\u001b[0m\u001b[0;34m\u001b[0m\u001b[0;34m\u001b[0m\u001b[0m\n\u001b[1;32m     13\u001b[0m       \u001b[0mcomplex_type\u001b[0m\u001b[0;34m.\u001b[0m\u001b[0mappend\u001b[0m\u001b[0;34m(\u001b[0m\u001b[0;34m'Atleast 1 CNV Subunit'\u001b[0m\u001b[0;34m)\u001b[0m\u001b[0;34m\u001b[0m\u001b[0;34m\u001b[0m\u001b[0m\n",
            "\u001b[0;32m/usr/local/lib/python3.8/dist-packages/pandas/core/frame.py\u001b[0m in \u001b[0;36m__getitem__\u001b[0;34m(self, key)\u001b[0m\n\u001b[1;32m   3456\u001b[0m             \u001b[0;32mif\u001b[0m \u001b[0mself\u001b[0m\u001b[0;34m.\u001b[0m\u001b[0mcolumns\u001b[0m\u001b[0;34m.\u001b[0m\u001b[0mnlevels\u001b[0m \u001b[0;34m>\u001b[0m \u001b[0;36m1\u001b[0m\u001b[0;34m:\u001b[0m\u001b[0;34m\u001b[0m\u001b[0;34m\u001b[0m\u001b[0m\n\u001b[1;32m   3457\u001b[0m                 \u001b[0;32mreturn\u001b[0m \u001b[0mself\u001b[0m\u001b[0;34m.\u001b[0m\u001b[0m_getitem_multilevel\u001b[0m\u001b[0;34m(\u001b[0m\u001b[0mkey\u001b[0m\u001b[0;34m)\u001b[0m\u001b[0;34m\u001b[0m\u001b[0;34m\u001b[0m\u001b[0m\n\u001b[0;32m-> 3458\u001b[0;31m             \u001b[0mindexer\u001b[0m \u001b[0;34m=\u001b[0m \u001b[0mself\u001b[0m\u001b[0;34m.\u001b[0m\u001b[0mcolumns\u001b[0m\u001b[0;34m.\u001b[0m\u001b[0mget_loc\u001b[0m\u001b[0;34m(\u001b[0m\u001b[0mkey\u001b[0m\u001b[0;34m)\u001b[0m\u001b[0;34m\u001b[0m\u001b[0;34m\u001b[0m\u001b[0m\n\u001b[0m\u001b[1;32m   3459\u001b[0m             \u001b[0;32mif\u001b[0m \u001b[0mis_integer\u001b[0m\u001b[0;34m(\u001b[0m\u001b[0mindexer\u001b[0m\u001b[0;34m)\u001b[0m\u001b[0;34m:\u001b[0m\u001b[0;34m\u001b[0m\u001b[0;34m\u001b[0m\u001b[0m\n\u001b[1;32m   3460\u001b[0m                 \u001b[0mindexer\u001b[0m \u001b[0;34m=\u001b[0m \u001b[0;34m[\u001b[0m\u001b[0mindexer\u001b[0m\u001b[0;34m]\u001b[0m\u001b[0;34m\u001b[0m\u001b[0;34m\u001b[0m\u001b[0m\n",
            "\u001b[0;32m/usr/local/lib/python3.8/dist-packages/pandas/core/indexes/base.py\u001b[0m in \u001b[0;36mget_loc\u001b[0;34m(self, key, method, tolerance)\u001b[0m\n\u001b[1;32m   3361\u001b[0m                 \u001b[0;32mreturn\u001b[0m \u001b[0mself\u001b[0m\u001b[0;34m.\u001b[0m\u001b[0m_engine\u001b[0m\u001b[0;34m.\u001b[0m\u001b[0mget_loc\u001b[0m\u001b[0;34m(\u001b[0m\u001b[0mcasted_key\u001b[0m\u001b[0;34m)\u001b[0m\u001b[0;34m\u001b[0m\u001b[0;34m\u001b[0m\u001b[0m\n\u001b[1;32m   3362\u001b[0m             \u001b[0;32mexcept\u001b[0m \u001b[0mKeyError\u001b[0m \u001b[0;32mas\u001b[0m \u001b[0merr\u001b[0m\u001b[0;34m:\u001b[0m\u001b[0;34m\u001b[0m\u001b[0;34m\u001b[0m\u001b[0m\n\u001b[0;32m-> 3363\u001b[0;31m                 \u001b[0;32mraise\u001b[0m \u001b[0mKeyError\u001b[0m\u001b[0;34m(\u001b[0m\u001b[0mkey\u001b[0m\u001b[0;34m)\u001b[0m \u001b[0;32mfrom\u001b[0m \u001b[0merr\u001b[0m\u001b[0;34m\u001b[0m\u001b[0;34m\u001b[0m\u001b[0m\n\u001b[0m\u001b[1;32m   3364\u001b[0m \u001b[0;34m\u001b[0m\u001b[0m\n\u001b[1;32m   3365\u001b[0m         \u001b[0;32mif\u001b[0m \u001b[0mis_scalar\u001b[0m\u001b[0;34m(\u001b[0m\u001b[0mkey\u001b[0m\u001b[0;34m)\u001b[0m \u001b[0;32mand\u001b[0m \u001b[0misna\u001b[0m\u001b[0;34m(\u001b[0m\u001b[0mkey\u001b[0m\u001b[0;34m)\u001b[0m \u001b[0;32mand\u001b[0m \u001b[0;32mnot\u001b[0m \u001b[0mself\u001b[0m\u001b[0;34m.\u001b[0m\u001b[0mhasnans\u001b[0m\u001b[0;34m:\u001b[0m\u001b[0;34m\u001b[0m\u001b[0;34m\u001b[0m\u001b[0m\n",
            "\u001b[0;31mKeyError\u001b[0m: 'Unnamed: 0'"
          ]
        }
      ],
      "source": [
        "complexes = pd.read_csv('Complexes.csv')\n",
        "complexes=complexes.drop('Unnamed: 0', axis=1)\n",
        "complexes=complexes.dropna()\n",
        "complexes\n",
        "complexes_df = pd.DataFrame()\n",
        "ev_line=[]\n",
        "complex_type=[]\n",
        "count=[]\n",
        "for i in complexes.columns:\n",
        "  for j in range(len(complexes['Unnamed: 1'])):\n",
        "    ev_line.append(complexes['Unnamed: 0'][j])\n",
        "    if i=='Unnamed: 2':\n",
        "      complex_type.append('Atleast 1 CNV Subunit')\n",
        "    if i=='Unnamed: 3':\n",
        "      complex_type.append('CNV > Non-CNV Subunits')\n",
        "    if i=='Unnamed: 4':  \n",
        "      complex_type.append('CNV = Non-CNV Subunits')\n",
        "    count.append(complexes[i][j])\n",
        "complexes_df['EV_Line'] = ev_line\n",
        "complexes_df['Type'] = complex_type\n",
        "complexes_df['Count'] = count\n",
        "fig = px.bar(complexes_df, x='EV_Line', y='Count', color=\"Type\")\n",
        "fig.show()"
      ]
    },
    {
      "cell_type": "code",
      "execution_count": null,
      "metadata": {
        "colab": {
          "base_uri": "https://localhost:8080/",
          "height": 269
        },
        "id": "IqPg0R0iWui2",
        "outputId": "9eb5967e-3399-43e6-bfa5-1608650964f9"
      },
      "outputs": [
        {
          "data": {
            "text/html": [
              "\n",
              "  <div id=\"df-b2bf20d7-3a02-4604-93db-028976be5a8b\">\n",
              "    <div class=\"colab-df-container\">\n",
              "      <div>\n",
              "<style scoped>\n",
              "    .dataframe tbody tr th:only-of-type {\n",
              "        vertical-align: middle;\n",
              "    }\n",
              "\n",
              "    .dataframe tbody tr th {\n",
              "        vertical-align: top;\n",
              "    }\n",
              "\n",
              "    .dataframe thead th {\n",
              "        text-align: right;\n",
              "    }\n",
              "</style>\n",
              "<table border=\"1\" class=\"dataframe\">\n",
              "  <thead>\n",
              "    <tr style=\"text-align: right;\">\n",
              "      <th></th>\n",
              "      <th>c3</th>\n",
              "      <th>c6</th>\n",
              "      <th>c13</th>\n",
              "      <th>c16</th>\n",
              "    </tr>\n",
              "  </thead>\n",
              "  <tbody>\n",
              "    <tr>\n",
              "      <th>Prop C-C</th>\n",
              "      <td>86.451613</td>\n",
              "      <td>87.394958</td>\n",
              "      <td>88.181818</td>\n",
              "      <td>92.018779</td>\n",
              "    </tr>\n",
              "    <tr>\n",
              "      <th>Count C-C</th>\n",
              "      <td>134</td>\n",
              "      <td>104</td>\n",
              "      <td>388</td>\n",
              "      <td>392</td>\n",
              "    </tr>\n",
              "    <tr>\n",
              "      <th>Prop N-N</th>\n",
              "      <td>1.935484</td>\n",
              "      <td>0.840336</td>\n",
              "      <td>1.136364</td>\n",
              "      <td>0.469484</td>\n",
              "    </tr>\n",
              "    <tr>\n",
              "      <th>Count N-N</th>\n",
              "      <td>3</td>\n",
              "      <td>1</td>\n",
              "      <td>5</td>\n",
              "      <td>2</td>\n",
              "    </tr>\n",
              "    <tr>\n",
              "      <th>Prop C-N</th>\n",
              "      <td>12.903226</td>\n",
              "      <td>11.764706</td>\n",
              "      <td>10.681818</td>\n",
              "      <td>7.511737</td>\n",
              "    </tr>\n",
              "    <tr>\n",
              "      <th>Count C-N</th>\n",
              "      <td>20</td>\n",
              "      <td>14</td>\n",
              "      <td>47</td>\n",
              "      <td>32</td>\n",
              "    </tr>\n",
              "    <tr>\n",
              "      <th>p_vaue</th>\n",
              "      <td>0.0000000</td>\n",
              "      <td>0.0000000</td>\n",
              "      <td>0.0000000</td>\n",
              "      <td>0.0000000</td>\n",
              "    </tr>\n",
              "  </tbody>\n",
              "</table>\n",
              "</div>\n",
              "      <button class=\"colab-df-convert\" onclick=\"convertToInteractive('df-b2bf20d7-3a02-4604-93db-028976be5a8b')\"\n",
              "              title=\"Convert this dataframe to an interactive table.\"\n",
              "              style=\"display:none;\">\n",
              "        \n",
              "  <svg xmlns=\"http://www.w3.org/2000/svg\" height=\"24px\"viewBox=\"0 0 24 24\"\n",
              "       width=\"24px\">\n",
              "    <path d=\"M0 0h24v24H0V0z\" fill=\"none\"/>\n",
              "    <path d=\"M18.56 5.44l.94 2.06.94-2.06 2.06-.94-2.06-.94-.94-2.06-.94 2.06-2.06.94zm-11 1L8.5 8.5l.94-2.06 2.06-.94-2.06-.94L8.5 2.5l-.94 2.06-2.06.94zm10 10l.94 2.06.94-2.06 2.06-.94-2.06-.94-.94-2.06-.94 2.06-2.06.94z\"/><path d=\"M17.41 7.96l-1.37-1.37c-.4-.4-.92-.59-1.43-.59-.52 0-1.04.2-1.43.59L10.3 9.45l-7.72 7.72c-.78.78-.78 2.05 0 2.83L4 21.41c.39.39.9.59 1.41.59.51 0 1.02-.2 1.41-.59l7.78-7.78 2.81-2.81c.8-.78.8-2.07 0-2.86zM5.41 20L4 18.59l7.72-7.72 1.47 1.35L5.41 20z\"/>\n",
              "  </svg>\n",
              "      </button>\n",
              "      \n",
              "  <style>\n",
              "    .colab-df-container {\n",
              "      display:flex;\n",
              "      flex-wrap:wrap;\n",
              "      gap: 12px;\n",
              "    }\n",
              "\n",
              "    .colab-df-convert {\n",
              "      background-color: #E8F0FE;\n",
              "      border: none;\n",
              "      border-radius: 50%;\n",
              "      cursor: pointer;\n",
              "      display: none;\n",
              "      fill: #1967D2;\n",
              "      height: 32px;\n",
              "      padding: 0 0 0 0;\n",
              "      width: 32px;\n",
              "    }\n",
              "\n",
              "    .colab-df-convert:hover {\n",
              "      background-color: #E2EBFA;\n",
              "      box-shadow: 0px 1px 2px rgba(60, 64, 67, 0.3), 0px 1px 3px 1px rgba(60, 64, 67, 0.15);\n",
              "      fill: #174EA6;\n",
              "    }\n",
              "\n",
              "    [theme=dark] .colab-df-convert {\n",
              "      background-color: #3B4455;\n",
              "      fill: #D2E3FC;\n",
              "    }\n",
              "\n",
              "    [theme=dark] .colab-df-convert:hover {\n",
              "      background-color: #434B5C;\n",
              "      box-shadow: 0px 1px 3px 1px rgba(0, 0, 0, 0.15);\n",
              "      filter: drop-shadow(0px 1px 2px rgba(0, 0, 0, 0.3));\n",
              "      fill: #FFFFFF;\n",
              "    }\n",
              "  </style>\n",
              "\n",
              "      <script>\n",
              "        const buttonEl =\n",
              "          document.querySelector('#df-b2bf20d7-3a02-4604-93db-028976be5a8b button.colab-df-convert');\n",
              "        buttonEl.style.display =\n",
              "          google.colab.kernel.accessAllowed ? 'block' : 'none';\n",
              "\n",
              "        async function convertToInteractive(key) {\n",
              "          const element = document.querySelector('#df-b2bf20d7-3a02-4604-93db-028976be5a8b');\n",
              "          const dataTable =\n",
              "            await google.colab.kernel.invokeFunction('convertToInteractive',\n",
              "                                                     [key], {});\n",
              "          if (!dataTable) return;\n",
              "\n",
              "          const docLinkHtml = 'Like what you see? Visit the ' +\n",
              "            '<a target=\"_blank\" href=https://colab.research.google.com/notebooks/data_table.ipynb>data table notebook</a>'\n",
              "            + ' to learn more about interactive tables.';\n",
              "          element.innerHTML = '';\n",
              "          dataTable['output_type'] = 'display_data';\n",
              "          await google.colab.output.renderOutput(dataTable, element);\n",
              "          const docLink = document.createElement('div');\n",
              "          docLink.innerHTML = docLinkHtml;\n",
              "          element.appendChild(docLink);\n",
              "        }\n",
              "      </script>\n",
              "    </div>\n",
              "  </div>\n",
              "  "
            ],
            "text/plain": [
              "                  c3         c6        c13        c16\n",
              "Prop C-C   86.451613  87.394958  88.181818  92.018779\n",
              "Count C-C        134        104        388        392\n",
              "Prop N-N    1.935484   0.840336   1.136364   0.469484\n",
              "Count N-N          3          1          5          2\n",
              "Prop C-N   12.903226  11.764706  10.681818   7.511737\n",
              "Count C-N         20         14         47         32\n",
              "p_vaue     0.0000000  0.0000000  0.0000000  0.0000000"
            ]
          },
          "execution_count": 447,
          "metadata": {},
          "output_type": "execute_result"
        }
      ],
      "source": [
        "cnv_with_significance_16h_1"
      ]
    },
    {
      "cell_type": "code",
      "execution_count": null,
      "metadata": {
        "id": "C37AW9cJYpch"
      },
      "outputs": [],
      "source": [
        "cnv_with_significance_16h_1 = pd.read_csv('cnv_with_significance_16h_1.csv')\n",
        "cnv_with_significance_16h_2 = pd.read_csv('cnv_with_significance_16h_2.csv')\n",
        "cnv_with_significance_16h_3 = pd.read_csv('cnv_with_significance_16h_3.csv')\n",
        "cnv_with_significance_16h_4 = pd.read_csv('cnv_with_significance_16h_4.csv')\n",
        "cnv_with_significance_16h_5 = pd.read_csv('cnv_with_significance_16h_5.csv')\n",
        "cnv_with_significance_16h_6 = pd.read_csv('cnv_with_significance_16h_6.csv')\n",
        "cnv_with_significance_16h_7 = pd.read_csv('cnv_with_significance_16h_7.csv')\n",
        "cnv_with_significance_16h_8 = pd.read_csv('cnv_with_significance_16h_8.csv')"
      ]
    },
    {
      "cell_type": "code",
      "execution_count": null,
      "metadata": {
        "colab": {
          "base_uri": "https://localhost:8080/",
          "height": 269
        },
        "id": "EB5lbh9sf-cv",
        "outputId": "91489f54-5b84-40ee-b01d-145a0cef4173"
      },
      "outputs": [
        {
          "data": {
            "text/html": [
              "\n",
              "  <div id=\"df-da2f6afe-05d3-4e27-ae6f-7b03dd800c5d\">\n",
              "    <div class=\"colab-df-container\">\n",
              "      <div>\n",
              "<style scoped>\n",
              "    .dataframe tbody tr th:only-of-type {\n",
              "        vertical-align: middle;\n",
              "    }\n",
              "\n",
              "    .dataframe tbody tr th {\n",
              "        vertical-align: top;\n",
              "    }\n",
              "\n",
              "    .dataframe thead th {\n",
              "        text-align: right;\n",
              "    }\n",
              "</style>\n",
              "<table border=\"1\" class=\"dataframe\">\n",
              "  <thead>\n",
              "    <tr style=\"text-align: right;\">\n",
              "      <th></th>\n",
              "      <th>Unnamed: 0</th>\n",
              "      <th>c3</th>\n",
              "      <th>c6</th>\n",
              "      <th>c13</th>\n",
              "      <th>c16</th>\n",
              "    </tr>\n",
              "  </thead>\n",
              "  <tbody>\n",
              "    <tr>\n",
              "      <th>0</th>\n",
              "      <td>Prop C-C</td>\n",
              "      <td>86.451613</td>\n",
              "      <td>87.394958</td>\n",
              "      <td>72.500000</td>\n",
              "      <td>88.028169</td>\n",
              "    </tr>\n",
              "    <tr>\n",
              "      <th>1</th>\n",
              "      <td>Count C-C</td>\n",
              "      <td>134.000000</td>\n",
              "      <td>104.000000</td>\n",
              "      <td>319.000000</td>\n",
              "      <td>375.000000</td>\n",
              "    </tr>\n",
              "    <tr>\n",
              "      <th>2</th>\n",
              "      <td>Prop N-N</td>\n",
              "      <td>1.935484</td>\n",
              "      <td>0.000000</td>\n",
              "      <td>17.954545</td>\n",
              "      <td>4.460094</td>\n",
              "    </tr>\n",
              "    <tr>\n",
              "      <th>3</th>\n",
              "      <td>Count N-N</td>\n",
              "      <td>3.000000</td>\n",
              "      <td>0.000000</td>\n",
              "      <td>79.000000</td>\n",
              "      <td>19.000000</td>\n",
              "    </tr>\n",
              "    <tr>\n",
              "      <th>4</th>\n",
              "      <td>Prop C-N</td>\n",
              "      <td>11.612903</td>\n",
              "      <td>12.605042</td>\n",
              "      <td>9.545455</td>\n",
              "      <td>7.511737</td>\n",
              "    </tr>\n",
              "    <tr>\n",
              "      <th>5</th>\n",
              "      <td>Count C-N</td>\n",
              "      <td>18.000000</td>\n",
              "      <td>15.000000</td>\n",
              "      <td>42.000000</td>\n",
              "      <td>32.000000</td>\n",
              "    </tr>\n",
              "    <tr>\n",
              "      <th>6</th>\n",
              "      <td>p_vaue</td>\n",
              "      <td>0.000000</td>\n",
              "      <td>0.000000</td>\n",
              "      <td>0.000000</td>\n",
              "      <td>0.000000</td>\n",
              "    </tr>\n",
              "  </tbody>\n",
              "</table>\n",
              "</div>\n",
              "      <button class=\"colab-df-convert\" onclick=\"convertToInteractive('df-da2f6afe-05d3-4e27-ae6f-7b03dd800c5d')\"\n",
              "              title=\"Convert this dataframe to an interactive table.\"\n",
              "              style=\"display:none;\">\n",
              "        \n",
              "  <svg xmlns=\"http://www.w3.org/2000/svg\" height=\"24px\"viewBox=\"0 0 24 24\"\n",
              "       width=\"24px\">\n",
              "    <path d=\"M0 0h24v24H0V0z\" fill=\"none\"/>\n",
              "    <path d=\"M18.56 5.44l.94 2.06.94-2.06 2.06-.94-2.06-.94-.94-2.06-.94 2.06-2.06.94zm-11 1L8.5 8.5l.94-2.06 2.06-.94-2.06-.94L8.5 2.5l-.94 2.06-2.06.94zm10 10l.94 2.06.94-2.06 2.06-.94-2.06-.94-.94-2.06-.94 2.06-2.06.94z\"/><path d=\"M17.41 7.96l-1.37-1.37c-.4-.4-.92-.59-1.43-.59-.52 0-1.04.2-1.43.59L10.3 9.45l-7.72 7.72c-.78.78-.78 2.05 0 2.83L4 21.41c.39.39.9.59 1.41.59.51 0 1.02-.2 1.41-.59l7.78-7.78 2.81-2.81c.8-.78.8-2.07 0-2.86zM5.41 20L4 18.59l7.72-7.72 1.47 1.35L5.41 20z\"/>\n",
              "  </svg>\n",
              "      </button>\n",
              "      \n",
              "  <style>\n",
              "    .colab-df-container {\n",
              "      display:flex;\n",
              "      flex-wrap:wrap;\n",
              "      gap: 12px;\n",
              "    }\n",
              "\n",
              "    .colab-df-convert {\n",
              "      background-color: #E8F0FE;\n",
              "      border: none;\n",
              "      border-radius: 50%;\n",
              "      cursor: pointer;\n",
              "      display: none;\n",
              "      fill: #1967D2;\n",
              "      height: 32px;\n",
              "      padding: 0 0 0 0;\n",
              "      width: 32px;\n",
              "    }\n",
              "\n",
              "    .colab-df-convert:hover {\n",
              "      background-color: #E2EBFA;\n",
              "      box-shadow: 0px 1px 2px rgba(60, 64, 67, 0.3), 0px 1px 3px 1px rgba(60, 64, 67, 0.15);\n",
              "      fill: #174EA6;\n",
              "    }\n",
              "\n",
              "    [theme=dark] .colab-df-convert {\n",
              "      background-color: #3B4455;\n",
              "      fill: #D2E3FC;\n",
              "    }\n",
              "\n",
              "    [theme=dark] .colab-df-convert:hover {\n",
              "      background-color: #434B5C;\n",
              "      box-shadow: 0px 1px 3px 1px rgba(0, 0, 0, 0.15);\n",
              "      filter: drop-shadow(0px 1px 2px rgba(0, 0, 0, 0.3));\n",
              "      fill: #FFFFFF;\n",
              "    }\n",
              "  </style>\n",
              "\n",
              "      <script>\n",
              "        const buttonEl =\n",
              "          document.querySelector('#df-da2f6afe-05d3-4e27-ae6f-7b03dd800c5d button.colab-df-convert');\n",
              "        buttonEl.style.display =\n",
              "          google.colab.kernel.accessAllowed ? 'block' : 'none';\n",
              "\n",
              "        async function convertToInteractive(key) {\n",
              "          const element = document.querySelector('#df-da2f6afe-05d3-4e27-ae6f-7b03dd800c5d');\n",
              "          const dataTable =\n",
              "            await google.colab.kernel.invokeFunction('convertToInteractive',\n",
              "                                                     [key], {});\n",
              "          if (!dataTable) return;\n",
              "\n",
              "          const docLinkHtml = 'Like what you see? Visit the ' +\n",
              "            '<a target=\"_blank\" href=https://colab.research.google.com/notebooks/data_table.ipynb>data table notebook</a>'\n",
              "            + ' to learn more about interactive tables.';\n",
              "          element.innerHTML = '';\n",
              "          dataTable['output_type'] = 'display_data';\n",
              "          await google.colab.output.renderOutput(dataTable, element);\n",
              "          const docLink = document.createElement('div');\n",
              "          docLink.innerHTML = docLinkHtml;\n",
              "          element.appendChild(docLink);\n",
              "        }\n",
              "      </script>\n",
              "    </div>\n",
              "  </div>\n",
              "  "
            ],
            "text/plain": [
              "  Unnamed: 0          c3          c6         c13         c16\n",
              "0   Prop C-C   86.451613   87.394958   72.500000   88.028169\n",
              "1  Count C-C  134.000000  104.000000  319.000000  375.000000\n",
              "2   Prop N-N    1.935484    0.000000   17.954545    4.460094\n",
              "3  Count N-N    3.000000    0.000000   79.000000   19.000000\n",
              "4   Prop C-N   11.612903   12.605042    9.545455    7.511737\n",
              "5  Count C-N   18.000000   15.000000   42.000000   32.000000\n",
              "6     p_vaue    0.000000    0.000000    0.000000    0.000000"
            ]
          },
          "execution_count": 9,
          "metadata": {},
          "output_type": "execute_result"
        }
      ],
      "source": [
        "cnv_with_significance_16h_8"
      ]
    },
    {
      "cell_type": "code",
      "execution_count": null,
      "metadata": {
        "colab": {
          "base_uri": "https://localhost:8080/",
          "height": 269
        },
        "id": "r8nP6d3A9Qau",
        "outputId": "5d32718a-ac5f-4808-e947-5162fedace5c"
      },
      "outputs": [
        {
          "data": {
            "text/html": [
              "\n",
              "  <div id=\"df-45285325-cada-42a9-8cf7-a2aba0552bda\">\n",
              "    <div class=\"colab-df-container\">\n",
              "      <div>\n",
              "<style scoped>\n",
              "    .dataframe tbody tr th:only-of-type {\n",
              "        vertical-align: middle;\n",
              "    }\n",
              "\n",
              "    .dataframe tbody tr th {\n",
              "        vertical-align: top;\n",
              "    }\n",
              "\n",
              "    .dataframe thead th {\n",
              "        text-align: right;\n",
              "    }\n",
              "</style>\n",
              "<table border=\"1\" class=\"dataframe\">\n",
              "  <thead>\n",
              "    <tr style=\"text-align: right;\">\n",
              "      <th></th>\n",
              "      <th>Unnamed: 0</th>\n",
              "      <th>chr_3</th>\n",
              "      <th>chr_6</th>\n",
              "      <th>chr_13</th>\n",
              "      <th>chr_16</th>\n",
              "    </tr>\n",
              "  </thead>\n",
              "  <tbody>\n",
              "    <tr>\n",
              "      <th>0</th>\n",
              "      <td>Perc. CNV to CNV</td>\n",
              "      <td>87.096774</td>\n",
              "      <td>86.974790</td>\n",
              "      <td>81.107955</td>\n",
              "      <td>91.637324</td>\n",
              "    </tr>\n",
              "    <tr>\n",
              "      <th>1</th>\n",
              "      <td>Count C-C</td>\n",
              "      <td>135.000000</td>\n",
              "      <td>103.500000</td>\n",
              "      <td>356.875000</td>\n",
              "      <td>390.375000</td>\n",
              "    </tr>\n",
              "    <tr>\n",
              "      <th>2</th>\n",
              "      <td>Perc. Non_CNV to Non_CNV</td>\n",
              "      <td>1.612903</td>\n",
              "      <td>1.890756</td>\n",
              "      <td>10.284091</td>\n",
              "      <td>2.435446</td>\n",
              "    </tr>\n",
              "    <tr>\n",
              "      <th>3</th>\n",
              "      <td>Count N-N</td>\n",
              "      <td>2.500000</td>\n",
              "      <td>2.250000</td>\n",
              "      <td>45.250000</td>\n",
              "      <td>10.375000</td>\n",
              "    </tr>\n",
              "    <tr>\n",
              "      <th>4</th>\n",
              "      <td>Perc. CNV to Non_CNV</td>\n",
              "      <td>11.451613</td>\n",
              "      <td>11.134454</td>\n",
              "      <td>8.607955</td>\n",
              "      <td>5.927230</td>\n",
              "    </tr>\n",
              "    <tr>\n",
              "      <th>5</th>\n",
              "      <td>Count C-N</td>\n",
              "      <td>17.750000</td>\n",
              "      <td>13.250000</td>\n",
              "      <td>37.875000</td>\n",
              "      <td>25.250000</td>\n",
              "    </tr>\n",
              "    <tr>\n",
              "      <th>6</th>\n",
              "      <td>p_vaue</td>\n",
              "      <td>0.000000</td>\n",
              "      <td>0.000000</td>\n",
              "      <td>0.013497</td>\n",
              "      <td>0.000000</td>\n",
              "    </tr>\n",
              "  </tbody>\n",
              "</table>\n",
              "</div>\n",
              "      <button class=\"colab-df-convert\" onclick=\"convertToInteractive('df-45285325-cada-42a9-8cf7-a2aba0552bda')\"\n",
              "              title=\"Convert this dataframe to an interactive table.\"\n",
              "              style=\"display:none;\">\n",
              "        \n",
              "  <svg xmlns=\"http://www.w3.org/2000/svg\" height=\"24px\"viewBox=\"0 0 24 24\"\n",
              "       width=\"24px\">\n",
              "    <path d=\"M0 0h24v24H0V0z\" fill=\"none\"/>\n",
              "    <path d=\"M18.56 5.44l.94 2.06.94-2.06 2.06-.94-2.06-.94-.94-2.06-.94 2.06-2.06.94zm-11 1L8.5 8.5l.94-2.06 2.06-.94-2.06-.94L8.5 2.5l-.94 2.06-2.06.94zm10 10l.94 2.06.94-2.06 2.06-.94-2.06-.94-.94-2.06-.94 2.06-2.06.94z\"/><path d=\"M17.41 7.96l-1.37-1.37c-.4-.4-.92-.59-1.43-.59-.52 0-1.04.2-1.43.59L10.3 9.45l-7.72 7.72c-.78.78-.78 2.05 0 2.83L4 21.41c.39.39.9.59 1.41.59.51 0 1.02-.2 1.41-.59l7.78-7.78 2.81-2.81c.8-.78.8-2.07 0-2.86zM5.41 20L4 18.59l7.72-7.72 1.47 1.35L5.41 20z\"/>\n",
              "  </svg>\n",
              "      </button>\n",
              "      \n",
              "  <style>\n",
              "    .colab-df-container {\n",
              "      display:flex;\n",
              "      flex-wrap:wrap;\n",
              "      gap: 12px;\n",
              "    }\n",
              "\n",
              "    .colab-df-convert {\n",
              "      background-color: #E8F0FE;\n",
              "      border: none;\n",
              "      border-radius: 50%;\n",
              "      cursor: pointer;\n",
              "      display: none;\n",
              "      fill: #1967D2;\n",
              "      height: 32px;\n",
              "      padding: 0 0 0 0;\n",
              "      width: 32px;\n",
              "    }\n",
              "\n",
              "    .colab-df-convert:hover {\n",
              "      background-color: #E2EBFA;\n",
              "      box-shadow: 0px 1px 2px rgba(60, 64, 67, 0.3), 0px 1px 3px 1px rgba(60, 64, 67, 0.15);\n",
              "      fill: #174EA6;\n",
              "    }\n",
              "\n",
              "    [theme=dark] .colab-df-convert {\n",
              "      background-color: #3B4455;\n",
              "      fill: #D2E3FC;\n",
              "    }\n",
              "\n",
              "    [theme=dark] .colab-df-convert:hover {\n",
              "      background-color: #434B5C;\n",
              "      box-shadow: 0px 1px 3px 1px rgba(0, 0, 0, 0.15);\n",
              "      filter: drop-shadow(0px 1px 2px rgba(0, 0, 0, 0.3));\n",
              "      fill: #FFFFFF;\n",
              "    }\n",
              "  </style>\n",
              "\n",
              "      <script>\n",
              "        const buttonEl =\n",
              "          document.querySelector('#df-45285325-cada-42a9-8cf7-a2aba0552bda button.colab-df-convert');\n",
              "        buttonEl.style.display =\n",
              "          google.colab.kernel.accessAllowed ? 'block' : 'none';\n",
              "\n",
              "        async function convertToInteractive(key) {\n",
              "          const element = document.querySelector('#df-45285325-cada-42a9-8cf7-a2aba0552bda');\n",
              "          const dataTable =\n",
              "            await google.colab.kernel.invokeFunction('convertToInteractive',\n",
              "                                                     [key], {});\n",
              "          if (!dataTable) return;\n",
              "\n",
              "          const docLinkHtml = 'Like what you see? Visit the ' +\n",
              "            '<a target=\"_blank\" href=https://colab.research.google.com/notebooks/data_table.ipynb>data table notebook</a>'\n",
              "            + ' to learn more about interactive tables.';\n",
              "          element.innerHTML = '';\n",
              "          dataTable['output_type'] = 'display_data';\n",
              "          await google.colab.output.renderOutput(dataTable, element);\n",
              "          const docLink = document.createElement('div');\n",
              "          docLink.innerHTML = docLinkHtml;\n",
              "          element.appendChild(docLink);\n",
              "        }\n",
              "      </script>\n",
              "    </div>\n",
              "  </div>\n",
              "  "
            ],
            "text/plain": [
              "                 Unnamed: 0       chr_3       chr_6      chr_13      chr_16\n",
              "0          Perc. CNV to CNV   87.096774   86.974790   81.107955   91.637324\n",
              "1                 Count C-C  135.000000  103.500000  356.875000  390.375000\n",
              "2  Perc. Non_CNV to Non_CNV    1.612903    1.890756   10.284091    2.435446\n",
              "3                 Count N-N    2.500000    2.250000   45.250000   10.375000\n",
              "4      Perc. CNV to Non_CNV   11.451613   11.134454    8.607955    5.927230\n",
              "5                 Count C-N   17.750000   13.250000   37.875000   25.250000\n",
              "6                    p_vaue    0.000000    0.000000    0.013497    0.000000"
            ]
          },
          "execution_count": 55,
          "metadata": {},
          "output_type": "execute_result"
        }
      ],
      "source": [
        "average_cnv_with_significance_all_lines = pd.DataFrame()\n",
        "itype=[]\n",
        "c3=[]\n",
        "c6=[]\n",
        "c13=[]\n",
        "c16=[]\n",
        "for i in range(len(cnv_with_significance_16h_8['Unnamed: 0'])):\n",
        "  itype.append(cnv_with_significance_16h_8['Unnamed: 0'][i])\n",
        "  column_c3 = (cnv_with_significance_16h_1['c3'][i] + cnv_with_significance_16h_2['c3'][i] + cnv_with_significance_16h_2['c3'][i] + cnv_with_significance_16h_3['c3'][i]+cnv_with_significance_16h_4['c3'][i]+cnv_with_significance_16h_5['c3'][i]+cnv_with_significance_16h_6['c3'][i]+cnv_with_significance_16h_8['c3'][i])/8\n",
        "  c3.append(column_c3)\n",
        "  column_c6 = (cnv_with_significance_16h_1['c6'][i] + cnv_with_significance_16h_2['c6'][i] + cnv_with_significance_16h_2['c6'][i] + cnv_with_significance_16h_3['c6'][i]+cnv_with_significance_16h_4['c6'][i]+cnv_with_significance_16h_5['c6'][i]+cnv_with_significance_16h_6['c6'][i]+cnv_with_significance_16h_8['c6'][i])/8\n",
        "  c6.append(column_c6)\n",
        "  column_c13 = (cnv_with_significance_16h_1['c13'][i] + cnv_with_significance_16h_2['c13'][i] + cnv_with_significance_16h_2['c13'][i] + cnv_with_significance_16h_3['c13'][i]+cnv_with_significance_16h_4['c13'][i]+cnv_with_significance_16h_5['c13'][i]+cnv_with_significance_16h_6['c13'][i]+cnv_with_significance_16h_8['c13'][i])/8\n",
        "  c13.append(column_c13)\n",
        "  column_c16 = (cnv_with_significance_16h_1['c16'][i] + cnv_with_significance_16h_2['c16'][i] + cnv_with_significance_16h_2['c16'][i] + cnv_with_significance_16h_3['c16'][i]+cnv_with_significance_16h_4['c16'][i]+cnv_with_significance_16h_5['c16'][i]+cnv_with_significance_16h_6['c16'][i]+cnv_with_significance_16h_8['c16'][i])/8\n",
        "  c16.append(column_c16)\n",
        "\n",
        "average_cnv_with_significance_all_lines['Unnamed: 0'] = itype\n",
        "average_cnv_with_significance_all_lines.at[0, 'Unnamed: 0'] = 'Perc. CNV to CNV'\n",
        "average_cnv_with_significance_all_lines.at[2, 'Unnamed: 0'] = 'Perc. Non_CNV to Non_CNV'\n",
        "average_cnv_with_significance_all_lines.at[4, 'Unnamed: 0'] = 'Perc. CNV to Non_CNV'\n",
        "\n",
        "average_cnv_with_significance_all_lines['chr_3'] = c3\n",
        "average_cnv_with_significance_all_lines['chr_6'] = c6\n",
        "average_cnv_with_significance_all_lines['chr_13'] = c13\n",
        "average_cnv_with_significance_all_lines['chr_16'] = c16\n",
        "\n",
        "\n",
        "average_cnv_with_significance_all_lines"
      ]
    },
    {
      "cell_type": "code",
      "execution_count": null,
      "metadata": {
        "colab": {
          "base_uri": "https://localhost:8080/",
          "height": 1000
        },
        "id": "kY2BxUgzZObY",
        "outputId": "f2651ce1-9e20-4c3c-e223-4f77b085e73b"
      },
      "outputs": [
        {
          "data": {
            "text/html": [
              "<html>\n",
              "<head><meta charset=\"utf-8\" /></head>\n",
              "<body>\n",
              "    <div>            <script src=\"https://cdnjs.cloudflare.com/ajax/libs/mathjax/2.7.5/MathJax.js?config=TeX-AMS-MML_SVG\"></script><script type=\"text/javascript\">if (window.MathJax) {MathJax.Hub.Config({SVG: {font: \"STIX-Web\"}});}</script>                <script type=\"text/javascript\">window.PlotlyConfig = {MathJaxConfig: 'local'};</script>\n",
              "        <script src=\"https://cdn.plot.ly/plotly-2.8.3.min.js\"></script>                <div id=\"dad7099f-a276-44a5-88ff-3dd07205fbf0\" class=\"plotly-graph-div\" style=\"height:1000px; width:2000px;\"></div>            <script type=\"text/javascript\">                                    window.PLOTLYENV=window.PLOTLYENV || {};                                    if (document.getElementById(\"dad7099f-a276-44a5-88ff-3dd07205fbf0\")) {                    Plotly.newPlot(                        \"dad7099f-a276-44a5-88ff-3dd07205fbf0\",                        [{\"alignmentgroup\":\"True\",\"hovertemplate\":\"Interaction Type=Perc. CNV to CNV<br>Chromosomes=%{x}<br>Proportions=%{y}<extra></extra>\",\"legendgroup\":\"Perc. CNV to CNV\",\"marker\":{\"color\":\"#636efa\",\"pattern\":{\"shape\":\"\"}},\"name\":\"Perc. CNV to CNV\",\"offsetgroup\":\"Perc. CNV to CNV\",\"orientation\":\"v\",\"showlegend\":true,\"textposition\":\"auto\",\"x\":[\"chr_3\",\"chr_6\",\"chr_13\",\"chr_16\"],\"xaxis\":\"x\",\"y\":[87.09677419354838,86.97478991596638,81.10795454545455,91.63732394366197],\"yaxis\":\"y\",\"type\":\"bar\"},{\"alignmentgroup\":\"True\",\"hovertemplate\":\"Interaction Type=Perc. Non_CNV to Non_CNV<br>Chromosomes=%{x}<br>Proportions=%{y}<extra></extra>\",\"legendgroup\":\"Perc. Non_CNV to Non_CNV\",\"marker\":{\"color\":\"#EF553B\",\"pattern\":{\"shape\":\"\"}},\"name\":\"Perc. Non_CNV to Non_CNV\",\"offsetgroup\":\"Perc. Non_CNV to Non_CNV\",\"orientation\":\"v\",\"showlegend\":true,\"textposition\":\"auto\",\"x\":[\"chr_3\",\"chr_6\",\"chr_13\",\"chr_16\"],\"xaxis\":\"x\",\"y\":[1.6129032258064515,1.8907563025210083,10.284090909090908,2.4354460093896715],\"yaxis\":\"y\",\"type\":\"bar\"},{\"alignmentgroup\":\"True\",\"hovertemplate\":\"Interaction Type=Perc. CNV to Non_CNV<br>Chromosomes=%{x}<br>Proportions=%{y}<extra></extra>\",\"legendgroup\":\"Perc. CNV to Non_CNV\",\"marker\":{\"color\":\"#00cc96\",\"pattern\":{\"shape\":\"\"}},\"name\":\"Perc. CNV to Non_CNV\",\"offsetgroup\":\"Perc. CNV to Non_CNV\",\"orientation\":\"v\",\"showlegend\":true,\"textposition\":\"auto\",\"x\":[\"chr_3\",\"chr_6\",\"chr_13\",\"chr_16\"],\"xaxis\":\"x\",\"y\":[11.451612903225806,11.134453781512606,8.607954545454545,5.927230046948357],\"yaxis\":\"y\",\"type\":\"bar\"}],                        {\"template\":{\"data\":{\"bar\":[{\"error_x\":{\"color\":\"#2a3f5f\"},\"error_y\":{\"color\":\"#2a3f5f\"},\"marker\":{\"line\":{\"color\":\"#E5ECF6\",\"width\":0.5},\"pattern\":{\"fillmode\":\"overlay\",\"size\":10,\"solidity\":0.2}},\"type\":\"bar\"}],\"barpolar\":[{\"marker\":{\"line\":{\"color\":\"#E5ECF6\",\"width\":0.5},\"pattern\":{\"fillmode\":\"overlay\",\"size\":10,\"solidity\":0.2}},\"type\":\"barpolar\"}],\"carpet\":[{\"aaxis\":{\"endlinecolor\":\"#2a3f5f\",\"gridcolor\":\"white\",\"linecolor\":\"white\",\"minorgridcolor\":\"white\",\"startlinecolor\":\"#2a3f5f\"},\"baxis\":{\"endlinecolor\":\"#2a3f5f\",\"gridcolor\":\"white\",\"linecolor\":\"white\",\"minorgridcolor\":\"white\",\"startlinecolor\":\"#2a3f5f\"},\"type\":\"carpet\"}],\"choropleth\":[{\"colorbar\":{\"outlinewidth\":0,\"ticks\":\"\"},\"type\":\"choropleth\"}],\"contour\":[{\"colorbar\":{\"outlinewidth\":0,\"ticks\":\"\"},\"colorscale\":[[0.0,\"#0d0887\"],[0.1111111111111111,\"#46039f\"],[0.2222222222222222,\"#7201a8\"],[0.3333333333333333,\"#9c179e\"],[0.4444444444444444,\"#bd3786\"],[0.5555555555555556,\"#d8576b\"],[0.6666666666666666,\"#ed7953\"],[0.7777777777777778,\"#fb9f3a\"],[0.8888888888888888,\"#fdca26\"],[1.0,\"#f0f921\"]],\"type\":\"contour\"}],\"contourcarpet\":[{\"colorbar\":{\"outlinewidth\":0,\"ticks\":\"\"},\"type\":\"contourcarpet\"}],\"heatmap\":[{\"colorbar\":{\"outlinewidth\":0,\"ticks\":\"\"},\"colorscale\":[[0.0,\"#0d0887\"],[0.1111111111111111,\"#46039f\"],[0.2222222222222222,\"#7201a8\"],[0.3333333333333333,\"#9c179e\"],[0.4444444444444444,\"#bd3786\"],[0.5555555555555556,\"#d8576b\"],[0.6666666666666666,\"#ed7953\"],[0.7777777777777778,\"#fb9f3a\"],[0.8888888888888888,\"#fdca26\"],[1.0,\"#f0f921\"]],\"type\":\"heatmap\"}],\"heatmapgl\":[{\"colorbar\":{\"outlinewidth\":0,\"ticks\":\"\"},\"colorscale\":[[0.0,\"#0d0887\"],[0.1111111111111111,\"#46039f\"],[0.2222222222222222,\"#7201a8\"],[0.3333333333333333,\"#9c179e\"],[0.4444444444444444,\"#bd3786\"],[0.5555555555555556,\"#d8576b\"],[0.6666666666666666,\"#ed7953\"],[0.7777777777777778,\"#fb9f3a\"],[0.8888888888888888,\"#fdca26\"],[1.0,\"#f0f921\"]],\"type\":\"heatmapgl\"}],\"histogram\":[{\"marker\":{\"pattern\":{\"fillmode\":\"overlay\",\"size\":10,\"solidity\":0.2}},\"type\":\"histogram\"}],\"histogram2d\":[{\"colorbar\":{\"outlinewidth\":0,\"ticks\":\"\"},\"colorscale\":[[0.0,\"#0d0887\"],[0.1111111111111111,\"#46039f\"],[0.2222222222222222,\"#7201a8\"],[0.3333333333333333,\"#9c179e\"],[0.4444444444444444,\"#bd3786\"],[0.5555555555555556,\"#d8576b\"],[0.6666666666666666,\"#ed7953\"],[0.7777777777777778,\"#fb9f3a\"],[0.8888888888888888,\"#fdca26\"],[1.0,\"#f0f921\"]],\"type\":\"histogram2d\"}],\"histogram2dcontour\":[{\"colorbar\":{\"outlinewidth\":0,\"ticks\":\"\"},\"colorscale\":[[0.0,\"#0d0887\"],[0.1111111111111111,\"#46039f\"],[0.2222222222222222,\"#7201a8\"],[0.3333333333333333,\"#9c179e\"],[0.4444444444444444,\"#bd3786\"],[0.5555555555555556,\"#d8576b\"],[0.6666666666666666,\"#ed7953\"],[0.7777777777777778,\"#fb9f3a\"],[0.8888888888888888,\"#fdca26\"],[1.0,\"#f0f921\"]],\"type\":\"histogram2dcontour\"}],\"mesh3d\":[{\"colorbar\":{\"outlinewidth\":0,\"ticks\":\"\"},\"type\":\"mesh3d\"}],\"parcoords\":[{\"line\":{\"colorbar\":{\"outlinewidth\":0,\"ticks\":\"\"}},\"type\":\"parcoords\"}],\"pie\":[{\"automargin\":true,\"type\":\"pie\"}],\"scatter\":[{\"marker\":{\"colorbar\":{\"outlinewidth\":0,\"ticks\":\"\"}},\"type\":\"scatter\"}],\"scatter3d\":[{\"line\":{\"colorbar\":{\"outlinewidth\":0,\"ticks\":\"\"}},\"marker\":{\"colorbar\":{\"outlinewidth\":0,\"ticks\":\"\"}},\"type\":\"scatter3d\"}],\"scattercarpet\":[{\"marker\":{\"colorbar\":{\"outlinewidth\":0,\"ticks\":\"\"}},\"type\":\"scattercarpet\"}],\"scattergeo\":[{\"marker\":{\"colorbar\":{\"outlinewidth\":0,\"ticks\":\"\"}},\"type\":\"scattergeo\"}],\"scattergl\":[{\"marker\":{\"colorbar\":{\"outlinewidth\":0,\"ticks\":\"\"}},\"type\":\"scattergl\"}],\"scattermapbox\":[{\"marker\":{\"colorbar\":{\"outlinewidth\":0,\"ticks\":\"\"}},\"type\":\"scattermapbox\"}],\"scatterpolar\":[{\"marker\":{\"colorbar\":{\"outlinewidth\":0,\"ticks\":\"\"}},\"type\":\"scatterpolar\"}],\"scatterpolargl\":[{\"marker\":{\"colorbar\":{\"outlinewidth\":0,\"ticks\":\"\"}},\"type\":\"scatterpolargl\"}],\"scatterternary\":[{\"marker\":{\"colorbar\":{\"outlinewidth\":0,\"ticks\":\"\"}},\"type\":\"scatterternary\"}],\"surface\":[{\"colorbar\":{\"outlinewidth\":0,\"ticks\":\"\"},\"colorscale\":[[0.0,\"#0d0887\"],[0.1111111111111111,\"#46039f\"],[0.2222222222222222,\"#7201a8\"],[0.3333333333333333,\"#9c179e\"],[0.4444444444444444,\"#bd3786\"],[0.5555555555555556,\"#d8576b\"],[0.6666666666666666,\"#ed7953\"],[0.7777777777777778,\"#fb9f3a\"],[0.8888888888888888,\"#fdca26\"],[1.0,\"#f0f921\"]],\"type\":\"surface\"}],\"table\":[{\"cells\":{\"fill\":{\"color\":\"#EBF0F8\"},\"line\":{\"color\":\"white\"}},\"header\":{\"fill\":{\"color\":\"#C8D4E3\"},\"line\":{\"color\":\"white\"}},\"type\":\"table\"}]},\"layout\":{\"annotationdefaults\":{\"arrowcolor\":\"#2a3f5f\",\"arrowhead\":0,\"arrowwidth\":1},\"autotypenumbers\":\"strict\",\"coloraxis\":{\"colorbar\":{\"outlinewidth\":0,\"ticks\":\"\"}},\"colorscale\":{\"diverging\":[[0,\"#8e0152\"],[0.1,\"#c51b7d\"],[0.2,\"#de77ae\"],[0.3,\"#f1b6da\"],[0.4,\"#fde0ef\"],[0.5,\"#f7f7f7\"],[0.6,\"#e6f5d0\"],[0.7,\"#b8e186\"],[0.8,\"#7fbc41\"],[0.9,\"#4d9221\"],[1,\"#276419\"]],\"sequential\":[[0.0,\"#0d0887\"],[0.1111111111111111,\"#46039f\"],[0.2222222222222222,\"#7201a8\"],[0.3333333333333333,\"#9c179e\"],[0.4444444444444444,\"#bd3786\"],[0.5555555555555556,\"#d8576b\"],[0.6666666666666666,\"#ed7953\"],[0.7777777777777778,\"#fb9f3a\"],[0.8888888888888888,\"#fdca26\"],[1.0,\"#f0f921\"]],\"sequentialminus\":[[0.0,\"#0d0887\"],[0.1111111111111111,\"#46039f\"],[0.2222222222222222,\"#7201a8\"],[0.3333333333333333,\"#9c179e\"],[0.4444444444444444,\"#bd3786\"],[0.5555555555555556,\"#d8576b\"],[0.6666666666666666,\"#ed7953\"],[0.7777777777777778,\"#fb9f3a\"],[0.8888888888888888,\"#fdca26\"],[1.0,\"#f0f921\"]]},\"colorway\":[\"#636efa\",\"#EF553B\",\"#00cc96\",\"#ab63fa\",\"#FFA15A\",\"#19d3f3\",\"#FF6692\",\"#B6E880\",\"#FF97FF\",\"#FECB52\"],\"font\":{\"color\":\"#2a3f5f\"},\"geo\":{\"bgcolor\":\"white\",\"lakecolor\":\"white\",\"landcolor\":\"#E5ECF6\",\"showlakes\":true,\"showland\":true,\"subunitcolor\":\"white\"},\"hoverlabel\":{\"align\":\"left\"},\"hovermode\":\"closest\",\"mapbox\":{\"style\":\"light\"},\"paper_bgcolor\":\"white\",\"plot_bgcolor\":\"#E5ECF6\",\"polar\":{\"angularaxis\":{\"gridcolor\":\"white\",\"linecolor\":\"white\",\"ticks\":\"\"},\"bgcolor\":\"#E5ECF6\",\"radialaxis\":{\"gridcolor\":\"white\",\"linecolor\":\"white\",\"ticks\":\"\"}},\"scene\":{\"xaxis\":{\"backgroundcolor\":\"#E5ECF6\",\"gridcolor\":\"white\",\"gridwidth\":2,\"linecolor\":\"white\",\"showbackground\":true,\"ticks\":\"\",\"zerolinecolor\":\"white\"},\"yaxis\":{\"backgroundcolor\":\"#E5ECF6\",\"gridcolor\":\"white\",\"gridwidth\":2,\"linecolor\":\"white\",\"showbackground\":true,\"ticks\":\"\",\"zerolinecolor\":\"white\"},\"zaxis\":{\"backgroundcolor\":\"#E5ECF6\",\"gridcolor\":\"white\",\"gridwidth\":2,\"linecolor\":\"white\",\"showbackground\":true,\"ticks\":\"\",\"zerolinecolor\":\"white\"}},\"shapedefaults\":{\"line\":{\"color\":\"#2a3f5f\"}},\"ternary\":{\"aaxis\":{\"gridcolor\":\"white\",\"linecolor\":\"white\",\"ticks\":\"\"},\"baxis\":{\"gridcolor\":\"white\",\"linecolor\":\"white\",\"ticks\":\"\"},\"bgcolor\":\"#E5ECF6\",\"caxis\":{\"gridcolor\":\"white\",\"linecolor\":\"white\",\"ticks\":\"\"}},\"title\":{\"x\":0.05},\"xaxis\":{\"automargin\":true,\"gridcolor\":\"white\",\"linecolor\":\"white\",\"ticks\":\"\",\"title\":{\"standoff\":15},\"zerolinecolor\":\"white\",\"zerolinewidth\":2},\"yaxis\":{\"automargin\":true,\"gridcolor\":\"white\",\"linecolor\":\"white\",\"ticks\":\"\",\"title\":{\"standoff\":15},\"zerolinecolor\":\"white\",\"zerolinewidth\":2}}},\"xaxis\":{\"anchor\":\"y\",\"domain\":[0.0,1.0],\"title\":{\"text\":\"Chromosomes\",\"font\":{\"family\":\"Arial Black\",\"size\":32}},\"tickfont\":{\"size\":24,\"family\":\"Arial Black\"},\"showline\":true,\"automargin\":true,\"linewidth\":2,\"linecolor\":\"black\",\"ticks\":\"outside\",\"tickwidth\":2,\"tickcolor\":\"black\"},\"yaxis\":{\"anchor\":\"x\",\"domain\":[0.0,1.0],\"title\":{\"text\":\"Percentage(avg.) of Genes Involved in Interactions\",\"font\":{\"family\":\"Arial Black\",\"size\":32},\"standoff\":30},\"tickfont\":{\"family\":\"Arial Black\",\"size\":24},\"showline\":true,\"linewidth\":2,\"linecolor\":\"black\",\"automargin\":true,\"nticks\":5,\"ticks\":\"outside\",\"tickwidth\":2,\"tickcolor\":\"black\"},\"legend\":{\"title\":{\"text\":\"Interaction Type\"},\"tracegroupgap\":0},\"title\":{\"text\":\"<b>Average Percentage of Genes Involved in Protein-Protein Interactions in all Evolved Lines</b>\",\"font\":{\"family\":\"Arial Black\",\"size\":34}},\"barmode\":\"group\",\"height\":1000,\"width\":2000,\"font\":{\"family\":\"Arial Black\",\"size\":20},\"plot_bgcolor\":\"rgba(0,0,0,0)\"},                        {\"responsive\": true}                    ).then(function(){\n",
              "                            \n",
              "var gd = document.getElementById('dad7099f-a276-44a5-88ff-3dd07205fbf0');\n",
              "var x = new MutationObserver(function (mutations, observer) {{\n",
              "        var display = window.getComputedStyle(gd).display;\n",
              "        if (!display || display === 'none') {{\n",
              "            console.log([gd, 'removed!']);\n",
              "            Plotly.purge(gd);\n",
              "            observer.disconnect();\n",
              "        }}\n",
              "}});\n",
              "\n",
              "// Listen for the removal of the full notebook cells\n",
              "var notebookContainer = gd.closest('#notebook-container');\n",
              "if (notebookContainer) {{\n",
              "    x.observe(notebookContainer, {childList: true});\n",
              "}}\n",
              "\n",
              "// Listen for the clearing of the current output cell\n",
              "var outputEl = gd.closest('.output');\n",
              "if (outputEl) {{\n",
              "    x.observe(outputEl, {childList: true});\n",
              "}}\n",
              "\n",
              "                        })                };                            </script>        </div>\n",
              "</body>\n",
              "</html>"
            ]
          },
          "metadata": {},
          "output_type": "display_data"
        }
      ],
      "source": [
        "plot_df = pd.DataFrame()\n",
        "chroms=[]\n",
        "inters=[]\n",
        "props=[]\n",
        "import plotly.express as px\n",
        "plot_1 = average_cnv_with_significance_all_lines.iloc[0:5:2]\n",
        "plot_1=plot_1.reset_index(inplace=False, drop=True)\n",
        "# plot_1\n",
        "for i in average_cnv_with_significance_all_lines.iloc[:,1:].columns:\n",
        "  for j in range(len(plot_1['Unnamed: 0'])):\n",
        "    chroms.append(i)\n",
        "    inters.append(plot_1['Unnamed: 0'][j])\n",
        "    props.append(plot_1[i][j])\n",
        "\n",
        "plot_df['Chromosomes'] = chroms\n",
        "plot_df['Interaction Type'] = inters\n",
        "plot_df['Proportions'] = props\n",
        "fig = px.bar(plot_df, x='Chromosomes', y='Proportions', color=\"Interaction Type\", \n",
        "             title=\"<b>Average Percentage of Genes Involved in Protein-Protein Interactions in all Evolved Lines</b>\", \n",
        "             barmode='group',\n",
        "             \n",
        "             width=2000, height=1000)\n",
        "fig.update_layout(\n",
        "    yaxis_title=\"Percentage(avg.) of Genes Involved in Interactions\",\n",
        "    plot_bgcolor='rgba(0,0,0,0)',\n",
        "    title_font_family=\"Arial Black\",\n",
        "    title_font_size=34,\n",
        "    font=dict(\n",
        "        family=\"Arial Black\",\n",
        "        size=20,\n",
        "    ))\n",
        "fig.update_yaxes(title_font_family=\"Arial Black\", \n",
        "                 showline=True, linewidth=2, linecolor='black', \n",
        "                 automargin=True,\n",
        "                 title_standoff = 30,\n",
        "                 nticks=5,\n",
        "                  title_font_size=32,\n",
        "                 tickfont_family=\"Arial Black\",\n",
        "                 tickfont_size=24,\n",
        "                  # title_font_size=34,\n",
        "                 ticks=\"outside\", tickwidth=2, tickcolor='black')\n",
        "fig.update_xaxes(title_font_family=\"Arial Black\", showline=True, \n",
        "                  title_font_size=32,\n",
        "                 automargin=True,\n",
        "                 tickfont_size=24,\n",
        "                 linewidth=2, linecolor='black', \n",
        "                 tickfont_family=\"Arial Black\",ticks=\"outside\", tickwidth=2, tickcolor='black')\n",
        "\n",
        "\n",
        "fig.show()"
      ]
    },
    {
      "cell_type": "code",
      "execution_count": null,
      "metadata": {
        "colab": {
          "base_uri": "https://localhost:8080/",
          "height": 235
        },
        "id": "z3VrtTITSiLu",
        "outputId": "4c644c04-367a-467c-ffd2-779794809402"
      },
      "outputs": [
        {
          "ename": "NameError",
          "evalue": "ignored",
          "output_type": "error",
          "traceback": [
            "\u001b[0;31m---------------------------------------------------------------------------\u001b[0m",
            "\u001b[0;31mNameError\u001b[0m                                 Traceback (most recent call last)",
            "\u001b[0;32m<ipython-input-2-52b6659c4b02>\u001b[0m in \u001b[0;36m<module>\u001b[0;34m\u001b[0m\n\u001b[0;32m----> 1\u001b[0;31m \u001b[0mcnv_with_significance_16h_1\u001b[0m\u001b[0;34m.\u001b[0m\u001b[0mto_csv\u001b[0m\u001b[0;34m(\u001b[0m\u001b[0;34m'cnv_with_significance_16h_1.csv'\u001b[0m\u001b[0;34m)\u001b[0m\u001b[0;34m\u001b[0m\u001b[0;34m\u001b[0m\u001b[0m\n\u001b[0m\u001b[1;32m      2\u001b[0m \u001b[0mcnv_with_significance_16h_2\u001b[0m\u001b[0;34m.\u001b[0m\u001b[0mto_csv\u001b[0m\u001b[0;34m(\u001b[0m\u001b[0;34m'cnv_with_significance_16h_2.csv'\u001b[0m\u001b[0;34m)\u001b[0m\u001b[0;34m\u001b[0m\u001b[0;34m\u001b[0m\u001b[0m\n\u001b[1;32m      3\u001b[0m \u001b[0mcnv_with_significance_16h_3\u001b[0m\u001b[0;34m.\u001b[0m\u001b[0mto_csv\u001b[0m\u001b[0;34m(\u001b[0m\u001b[0;34m'cnv_with_significance_16h_3.csv'\u001b[0m\u001b[0;34m)\u001b[0m\u001b[0;34m\u001b[0m\u001b[0;34m\u001b[0m\u001b[0m\n\u001b[1;32m      4\u001b[0m \u001b[0mcnv_with_significance_16h_4\u001b[0m\u001b[0;34m.\u001b[0m\u001b[0mto_csv\u001b[0m\u001b[0;34m(\u001b[0m\u001b[0;34m'cnv_with_significance_16h_4.csv'\u001b[0m\u001b[0;34m)\u001b[0m\u001b[0;34m\u001b[0m\u001b[0;34m\u001b[0m\u001b[0m\n\u001b[1;32m      5\u001b[0m \u001b[0mcnv_with_significance_16h_5\u001b[0m\u001b[0;34m.\u001b[0m\u001b[0mto_csv\u001b[0m\u001b[0;34m(\u001b[0m\u001b[0;34m'cnv_with_significance_16h_5.csv'\u001b[0m\u001b[0;34m)\u001b[0m\u001b[0;34m\u001b[0m\u001b[0;34m\u001b[0m\u001b[0m\n",
            "\u001b[0;31mNameError\u001b[0m: name 'cnv_with_significance_16h_1' is not defined"
          ]
        }
      ],
      "source": [
        "cnv_with_significance_16h_1.to_csv('cnv_with_significance_16h_1.csv')\n",
        "cnv_with_significance_16h_2.to_csv('cnv_with_significance_16h_2.csv')\n",
        "cnv_with_significance_16h_3.to_csv('cnv_with_significance_16h_3.csv')\n",
        "cnv_with_significance_16h_4.to_csv('cnv_with_significance_16h_4.csv')\n",
        "cnv_with_significance_16h_5.to_csv('cnv_with_significance_16h_5.csv')\n",
        "cnv_with_significance_16h_6.to_csv('cnv_with_significance_16h_6.csv')\n",
        "cnv_with_significance_16h_7.to_csv('cnv_with_significance_16h_7.csv')\n",
        "cnv_with_significance_16h_8.to_csv('cnv_with_significance_16h_8.csv')"
      ]
    },
    {
      "cell_type": "code",
      "execution_count": null,
      "metadata": {
        "id": "8Oh_Vlgfw-l3"
      },
      "outputs": [],
      "source": [
        "cnv_16h_8_genes_list = list(pd.read_csv('/content/16h_8_CNV_gene.txt', sep=\"\\t\", header =None )[9])"
      ]
    },
    {
      "cell_type": "code",
      "execution_count": null,
      "metadata": {
        "id": "uey0kv2VC0wt"
      },
      "outputs": [],
      "source": [
        "cnv_16h_7_genes_list = list(pd.read_csv('/content/16h_7_CNV_gene.txt', sep=\"\\t\", header =None )[9])"
      ]
    },
    {
      "cell_type": "code",
      "execution_count": null,
      "metadata": {
        "id": "0T0ITjusCwTB"
      },
      "outputs": [],
      "source": [
        "cnv_16h_6_genes_list = list(pd.read_csv('/content/16h_6_CNV_gene.txt', sep=\"\\t\", header =None )[9])"
      ]
    },
    {
      "cell_type": "code",
      "execution_count": null,
      "metadata": {
        "id": "unIpnziutltV"
      },
      "outputs": [],
      "source": [
        "cnv_16h_5_genes_list = list(pd.read_csv('/content/16h_5_CNV_gene.txt', sep=\"\\t\", header =None )[9])"
      ]
    },
    {
      "cell_type": "code",
      "execution_count": null,
      "metadata": {
        "id": "50X8_tB95we5"
      },
      "outputs": [],
      "source": [
        "cnv_16h_4_genes_list = list(pd.read_csv('/content/16h_4_CNV_gene.txt', sep=\"\\t\", header =None )[9])"
      ]
    },
    {
      "cell_type": "code",
      "execution_count": null,
      "metadata": {
        "id": "47BhntMx-jVf"
      },
      "outputs": [],
      "source": [
        "cnv_16h_3_genes_list = list(pd.read_csv('/content/16h_3_CNV_gene.txt', sep=\"\\t\", header =None )[9])"
      ]
    },
    {
      "cell_type": "code",
      "execution_count": null,
      "metadata": {
        "id": "NhLkSGTxIRkM"
      },
      "outputs": [],
      "source": [
        "cnv_16h_2_genes_list = list(pd.read_csv('/content/16h_2_CNV_gene.txt', sep=\"\\t\", header =None )[9])"
      ]
    },
    {
      "cell_type": "code",
      "execution_count": 8,
      "metadata": {
        "id": "IcRKdQ4BDhwR",
        "colab": {
          "base_uri": "https://localhost:8080/",
          "height": 323
        },
        "outputId": "2c2bd8d2-1f62-40ec-e73a-2e2138508c6e"
      },
      "outputs": [
        {
          "output_type": "error",
          "ename": "FileNotFoundError",
          "evalue": "ignored",
          "traceback": [
            "\u001b[0;31m---------------------------------------------------------------------------\u001b[0m",
            "\u001b[0;31mFileNotFoundError\u001b[0m                         Traceback (most recent call last)",
            "\u001b[0;32m<ipython-input-8-25517067ac26>\u001b[0m in \u001b[0;36m<cell line: 1>\u001b[0;34m()\u001b[0m\n\u001b[0;32m----> 1\u001b[0;31m \u001b[0mcnv_genes_list\u001b[0m \u001b[0;34m=\u001b[0m \u001b[0mlist\u001b[0m\u001b[0;34m(\u001b[0m\u001b[0mpd\u001b[0m\u001b[0;34m.\u001b[0m\u001b[0mread_csv\u001b[0m\u001b[0;34m(\u001b[0m\u001b[0;34m'/content/16h_1_CNV_gene.txt'\u001b[0m\u001b[0;34m,\u001b[0m \u001b[0msep\u001b[0m\u001b[0;34m=\u001b[0m\u001b[0;34m\"\\t\"\u001b[0m\u001b[0;34m,\u001b[0m \u001b[0mheader\u001b[0m \u001b[0;34m=\u001b[0m\u001b[0;32mNone\u001b[0m \u001b[0;34m)\u001b[0m\u001b[0;34m[\u001b[0m\u001b[0;36m9\u001b[0m\u001b[0;34m]\u001b[0m\u001b[0;34m)\u001b[0m\u001b[0;34m\u001b[0m\u001b[0;34m\u001b[0m\u001b[0m\n\u001b[0m",
            "\u001b[0;32m/usr/local/lib/python3.10/dist-packages/pandas/util/_decorators.py\u001b[0m in \u001b[0;36mwrapper\u001b[0;34m(*args, **kwargs)\u001b[0m\n\u001b[1;32m    209\u001b[0m                 \u001b[0;32melse\u001b[0m\u001b[0;34m:\u001b[0m\u001b[0;34m\u001b[0m\u001b[0;34m\u001b[0m\u001b[0m\n\u001b[1;32m    210\u001b[0m                     \u001b[0mkwargs\u001b[0m\u001b[0;34m[\u001b[0m\u001b[0mnew_arg_name\u001b[0m\u001b[0;34m]\u001b[0m \u001b[0;34m=\u001b[0m \u001b[0mnew_arg_value\u001b[0m\u001b[0;34m\u001b[0m\u001b[0;34m\u001b[0m\u001b[0m\n\u001b[0;32m--> 211\u001b[0;31m             \u001b[0;32mreturn\u001b[0m \u001b[0mfunc\u001b[0m\u001b[0;34m(\u001b[0m\u001b[0;34m*\u001b[0m\u001b[0margs\u001b[0m\u001b[0;34m,\u001b[0m \u001b[0;34m**\u001b[0m\u001b[0mkwargs\u001b[0m\u001b[0;34m)\u001b[0m\u001b[0;34m\u001b[0m\u001b[0;34m\u001b[0m\u001b[0m\n\u001b[0m\u001b[1;32m    212\u001b[0m \u001b[0;34m\u001b[0m\u001b[0m\n\u001b[1;32m    213\u001b[0m         \u001b[0;32mreturn\u001b[0m \u001b[0mcast\u001b[0m\u001b[0;34m(\u001b[0m\u001b[0mF\u001b[0m\u001b[0;34m,\u001b[0m \u001b[0mwrapper\u001b[0m\u001b[0;34m)\u001b[0m\u001b[0;34m\u001b[0m\u001b[0;34m\u001b[0m\u001b[0m\n",
            "\u001b[0;32m/usr/local/lib/python3.10/dist-packages/pandas/util/_decorators.py\u001b[0m in \u001b[0;36mwrapper\u001b[0;34m(*args, **kwargs)\u001b[0m\n\u001b[1;32m    329\u001b[0m                     \u001b[0mstacklevel\u001b[0m\u001b[0;34m=\u001b[0m\u001b[0mfind_stack_level\u001b[0m\u001b[0;34m(\u001b[0m\u001b[0;34m)\u001b[0m\u001b[0;34m,\u001b[0m\u001b[0;34m\u001b[0m\u001b[0;34m\u001b[0m\u001b[0m\n\u001b[1;32m    330\u001b[0m                 )\n\u001b[0;32m--> 331\u001b[0;31m             \u001b[0;32mreturn\u001b[0m \u001b[0mfunc\u001b[0m\u001b[0;34m(\u001b[0m\u001b[0;34m*\u001b[0m\u001b[0margs\u001b[0m\u001b[0;34m,\u001b[0m \u001b[0;34m**\u001b[0m\u001b[0mkwargs\u001b[0m\u001b[0;34m)\u001b[0m\u001b[0;34m\u001b[0m\u001b[0;34m\u001b[0m\u001b[0m\n\u001b[0m\u001b[1;32m    332\u001b[0m \u001b[0;34m\u001b[0m\u001b[0m\n\u001b[1;32m    333\u001b[0m         \u001b[0;31m# error: \"Callable[[VarArg(Any), KwArg(Any)], Any]\" has no\u001b[0m\u001b[0;34m\u001b[0m\u001b[0;34m\u001b[0m\u001b[0m\n",
            "\u001b[0;32m/usr/local/lib/python3.10/dist-packages/pandas/io/parsers/readers.py\u001b[0m in \u001b[0;36mread_csv\u001b[0;34m(filepath_or_buffer, sep, delimiter, header, names, index_col, usecols, squeeze, prefix, mangle_dupe_cols, dtype, engine, converters, true_values, false_values, skipinitialspace, skiprows, skipfooter, nrows, na_values, keep_default_na, na_filter, verbose, skip_blank_lines, parse_dates, infer_datetime_format, keep_date_col, date_parser, dayfirst, cache_dates, iterator, chunksize, compression, thousands, decimal, lineterminator, quotechar, quoting, doublequote, escapechar, comment, encoding, encoding_errors, dialect, error_bad_lines, warn_bad_lines, on_bad_lines, delim_whitespace, low_memory, memory_map, float_precision, storage_options)\u001b[0m\n\u001b[1;32m    948\u001b[0m     \u001b[0mkwds\u001b[0m\u001b[0;34m.\u001b[0m\u001b[0mupdate\u001b[0m\u001b[0;34m(\u001b[0m\u001b[0mkwds_defaults\u001b[0m\u001b[0;34m)\u001b[0m\u001b[0;34m\u001b[0m\u001b[0;34m\u001b[0m\u001b[0m\n\u001b[1;32m    949\u001b[0m \u001b[0;34m\u001b[0m\u001b[0m\n\u001b[0;32m--> 950\u001b[0;31m     \u001b[0;32mreturn\u001b[0m \u001b[0m_read\u001b[0m\u001b[0;34m(\u001b[0m\u001b[0mfilepath_or_buffer\u001b[0m\u001b[0;34m,\u001b[0m \u001b[0mkwds\u001b[0m\u001b[0;34m)\u001b[0m\u001b[0;34m\u001b[0m\u001b[0;34m\u001b[0m\u001b[0m\n\u001b[0m\u001b[1;32m    951\u001b[0m \u001b[0;34m\u001b[0m\u001b[0m\n\u001b[1;32m    952\u001b[0m \u001b[0;34m\u001b[0m\u001b[0m\n",
            "\u001b[0;32m/usr/local/lib/python3.10/dist-packages/pandas/io/parsers/readers.py\u001b[0m in \u001b[0;36m_read\u001b[0;34m(filepath_or_buffer, kwds)\u001b[0m\n\u001b[1;32m    603\u001b[0m \u001b[0;34m\u001b[0m\u001b[0m\n\u001b[1;32m    604\u001b[0m     \u001b[0;31m# Create the parser.\u001b[0m\u001b[0;34m\u001b[0m\u001b[0;34m\u001b[0m\u001b[0m\n\u001b[0;32m--> 605\u001b[0;31m     \u001b[0mparser\u001b[0m \u001b[0;34m=\u001b[0m \u001b[0mTextFileReader\u001b[0m\u001b[0;34m(\u001b[0m\u001b[0mfilepath_or_buffer\u001b[0m\u001b[0;34m,\u001b[0m \u001b[0;34m**\u001b[0m\u001b[0mkwds\u001b[0m\u001b[0;34m)\u001b[0m\u001b[0;34m\u001b[0m\u001b[0;34m\u001b[0m\u001b[0m\n\u001b[0m\u001b[1;32m    606\u001b[0m \u001b[0;34m\u001b[0m\u001b[0m\n\u001b[1;32m    607\u001b[0m     \u001b[0;32mif\u001b[0m \u001b[0mchunksize\u001b[0m \u001b[0;32mor\u001b[0m \u001b[0miterator\u001b[0m\u001b[0;34m:\u001b[0m\u001b[0;34m\u001b[0m\u001b[0;34m\u001b[0m\u001b[0m\n",
            "\u001b[0;32m/usr/local/lib/python3.10/dist-packages/pandas/io/parsers/readers.py\u001b[0m in \u001b[0;36m__init__\u001b[0;34m(self, f, engine, **kwds)\u001b[0m\n\u001b[1;32m   1440\u001b[0m \u001b[0;34m\u001b[0m\u001b[0m\n\u001b[1;32m   1441\u001b[0m         \u001b[0mself\u001b[0m\u001b[0;34m.\u001b[0m\u001b[0mhandles\u001b[0m\u001b[0;34m:\u001b[0m \u001b[0mIOHandles\u001b[0m \u001b[0;34m|\u001b[0m \u001b[0;32mNone\u001b[0m \u001b[0;34m=\u001b[0m \u001b[0;32mNone\u001b[0m\u001b[0;34m\u001b[0m\u001b[0;34m\u001b[0m\u001b[0m\n\u001b[0;32m-> 1442\u001b[0;31m         \u001b[0mself\u001b[0m\u001b[0;34m.\u001b[0m\u001b[0m_engine\u001b[0m \u001b[0;34m=\u001b[0m \u001b[0mself\u001b[0m\u001b[0;34m.\u001b[0m\u001b[0m_make_engine\u001b[0m\u001b[0;34m(\u001b[0m\u001b[0mf\u001b[0m\u001b[0;34m,\u001b[0m \u001b[0mself\u001b[0m\u001b[0;34m.\u001b[0m\u001b[0mengine\u001b[0m\u001b[0;34m)\u001b[0m\u001b[0;34m\u001b[0m\u001b[0;34m\u001b[0m\u001b[0m\n\u001b[0m\u001b[1;32m   1443\u001b[0m \u001b[0;34m\u001b[0m\u001b[0m\n\u001b[1;32m   1444\u001b[0m     \u001b[0;32mdef\u001b[0m \u001b[0mclose\u001b[0m\u001b[0;34m(\u001b[0m\u001b[0mself\u001b[0m\u001b[0;34m)\u001b[0m \u001b[0;34m->\u001b[0m \u001b[0;32mNone\u001b[0m\u001b[0;34m:\u001b[0m\u001b[0;34m\u001b[0m\u001b[0;34m\u001b[0m\u001b[0m\n",
            "\u001b[0;32m/usr/local/lib/python3.10/dist-packages/pandas/io/parsers/readers.py\u001b[0m in \u001b[0;36m_make_engine\u001b[0;34m(self, f, engine)\u001b[0m\n\u001b[1;32m   1733\u001b[0m                 \u001b[0;32mif\u001b[0m \u001b[0;34m\"b\"\u001b[0m \u001b[0;32mnot\u001b[0m \u001b[0;32min\u001b[0m \u001b[0mmode\u001b[0m\u001b[0;34m:\u001b[0m\u001b[0;34m\u001b[0m\u001b[0;34m\u001b[0m\u001b[0m\n\u001b[1;32m   1734\u001b[0m                     \u001b[0mmode\u001b[0m \u001b[0;34m+=\u001b[0m \u001b[0;34m\"b\"\u001b[0m\u001b[0;34m\u001b[0m\u001b[0;34m\u001b[0m\u001b[0m\n\u001b[0;32m-> 1735\u001b[0;31m             self.handles = get_handle(\n\u001b[0m\u001b[1;32m   1736\u001b[0m                 \u001b[0mf\u001b[0m\u001b[0;34m,\u001b[0m\u001b[0;34m\u001b[0m\u001b[0;34m\u001b[0m\u001b[0m\n\u001b[1;32m   1737\u001b[0m                 \u001b[0mmode\u001b[0m\u001b[0;34m,\u001b[0m\u001b[0;34m\u001b[0m\u001b[0;34m\u001b[0m\u001b[0m\n",
            "\u001b[0;32m/usr/local/lib/python3.10/dist-packages/pandas/io/common.py\u001b[0m in \u001b[0;36mget_handle\u001b[0;34m(path_or_buf, mode, encoding, compression, memory_map, is_text, errors, storage_options)\u001b[0m\n\u001b[1;32m    854\u001b[0m         \u001b[0;32mif\u001b[0m \u001b[0mioargs\u001b[0m\u001b[0;34m.\u001b[0m\u001b[0mencoding\u001b[0m \u001b[0;32mand\u001b[0m \u001b[0;34m\"b\"\u001b[0m \u001b[0;32mnot\u001b[0m \u001b[0;32min\u001b[0m \u001b[0mioargs\u001b[0m\u001b[0;34m.\u001b[0m\u001b[0mmode\u001b[0m\u001b[0;34m:\u001b[0m\u001b[0;34m\u001b[0m\u001b[0;34m\u001b[0m\u001b[0m\n\u001b[1;32m    855\u001b[0m             \u001b[0;31m# Encoding\u001b[0m\u001b[0;34m\u001b[0m\u001b[0;34m\u001b[0m\u001b[0m\n\u001b[0;32m--> 856\u001b[0;31m             handle = open(\n\u001b[0m\u001b[1;32m    857\u001b[0m                 \u001b[0mhandle\u001b[0m\u001b[0;34m,\u001b[0m\u001b[0;34m\u001b[0m\u001b[0;34m\u001b[0m\u001b[0m\n\u001b[1;32m    858\u001b[0m                 \u001b[0mioargs\u001b[0m\u001b[0;34m.\u001b[0m\u001b[0mmode\u001b[0m\u001b[0;34m,\u001b[0m\u001b[0;34m\u001b[0m\u001b[0;34m\u001b[0m\u001b[0m\n",
            "\u001b[0;31mFileNotFoundError\u001b[0m: [Errno 2] No such file or directory: '/content/16h_1_CNV_gene.txt'"
          ]
        }
      ],
      "source": [
        "cnv_genes_list = list(pd.read_csv('/content/16h_1_CNV_gene.txt', sep=\"\\t\", header =None )[9])"
      ]
    },
    {
      "cell_type": "code",
      "execution_count": null,
      "metadata": {
        "colab": {
          "base_uri": "https://localhost:8080/",
          "height": 424
        },
        "id": "37Vq7CairaQ3",
        "outputId": "7916b05a-318f-4f23-dc37-e42505b98d26"
      },
      "outputs": [
        {
          "data": {
            "text/html": [
              "\n",
              "  <div id=\"df-2e6edfe0-5bf7-4118-a48e-4fc876dd3e00\">\n",
              "    <div class=\"colab-df-container\">\n",
              "      <div>\n",
              "<style scoped>\n",
              "    .dataframe tbody tr th:only-of-type {\n",
              "        vertical-align: middle;\n",
              "    }\n",
              "\n",
              "    .dataframe tbody tr th {\n",
              "        vertical-align: top;\n",
              "    }\n",
              "\n",
              "    .dataframe thead th {\n",
              "        text-align: right;\n",
              "    }\n",
              "</style>\n",
              "<table border=\"1\" class=\"dataframe\">\n",
              "  <thead>\n",
              "    <tr style=\"text-align: right;\">\n",
              "      <th></th>\n",
              "      <th>Gene Names</th>\n",
              "    </tr>\n",
              "  </thead>\n",
              "  <tbody>\n",
              "    <tr>\n",
              "      <th>0</th>\n",
              "      <td>YPR188C</td>\n",
              "    </tr>\n",
              "    <tr>\n",
              "      <th>1</th>\n",
              "      <td>YPR138C</td>\n",
              "    </tr>\n",
              "    <tr>\n",
              "      <th>2</th>\n",
              "      <td>YPL181W</td>\n",
              "    </tr>\n",
              "    <tr>\n",
              "      <th>3</th>\n",
              "      <td>YPL242C</td>\n",
              "    </tr>\n",
              "    <tr>\n",
              "      <th>4</th>\n",
              "      <td>YPL018W</td>\n",
              "    </tr>\n",
              "    <tr>\n",
              "      <th>...</th>\n",
              "      <td>...</td>\n",
              "    </tr>\n",
              "    <tr>\n",
              "      <th>391</th>\n",
              "      <td>YPL274W</td>\n",
              "    </tr>\n",
              "    <tr>\n",
              "      <th>392</th>\n",
              "      <td>YPL019C</td>\n",
              "    </tr>\n",
              "    <tr>\n",
              "      <th>393</th>\n",
              "      <td>YPR060C</td>\n",
              "    </tr>\n",
              "    <tr>\n",
              "      <th>394</th>\n",
              "      <td>YPR134W</td>\n",
              "    </tr>\n",
              "    <tr>\n",
              "      <th>395</th>\n",
              "      <td>YPR108W</td>\n",
              "    </tr>\n",
              "  </tbody>\n",
              "</table>\n",
              "<p>396 rows × 1 columns</p>\n",
              "</div>\n",
              "      <button class=\"colab-df-convert\" onclick=\"convertToInteractive('df-2e6edfe0-5bf7-4118-a48e-4fc876dd3e00')\"\n",
              "              title=\"Convert this dataframe to an interactive table.\"\n",
              "              style=\"display:none;\">\n",
              "        \n",
              "  <svg xmlns=\"http://www.w3.org/2000/svg\" height=\"24px\"viewBox=\"0 0 24 24\"\n",
              "       width=\"24px\">\n",
              "    <path d=\"M0 0h24v24H0V0z\" fill=\"none\"/>\n",
              "    <path d=\"M18.56 5.44l.94 2.06.94-2.06 2.06-.94-2.06-.94-.94-2.06-.94 2.06-2.06.94zm-11 1L8.5 8.5l.94-2.06 2.06-.94-2.06-.94L8.5 2.5l-.94 2.06-2.06.94zm10 10l.94 2.06.94-2.06 2.06-.94-2.06-.94-.94-2.06-.94 2.06-2.06.94z\"/><path d=\"M17.41 7.96l-1.37-1.37c-.4-.4-.92-.59-1.43-.59-.52 0-1.04.2-1.43.59L10.3 9.45l-7.72 7.72c-.78.78-.78 2.05 0 2.83L4 21.41c.39.39.9.59 1.41.59.51 0 1.02-.2 1.41-.59l7.78-7.78 2.81-2.81c.8-.78.8-2.07 0-2.86zM5.41 20L4 18.59l7.72-7.72 1.47 1.35L5.41 20z\"/>\n",
              "  </svg>\n",
              "      </button>\n",
              "      \n",
              "  <style>\n",
              "    .colab-df-container {\n",
              "      display:flex;\n",
              "      flex-wrap:wrap;\n",
              "      gap: 12px;\n",
              "    }\n",
              "\n",
              "    .colab-df-convert {\n",
              "      background-color: #E8F0FE;\n",
              "      border: none;\n",
              "      border-radius: 50%;\n",
              "      cursor: pointer;\n",
              "      display: none;\n",
              "      fill: #1967D2;\n",
              "      height: 32px;\n",
              "      padding: 0 0 0 0;\n",
              "      width: 32px;\n",
              "    }\n",
              "\n",
              "    .colab-df-convert:hover {\n",
              "      background-color: #E2EBFA;\n",
              "      box-shadow: 0px 1px 2px rgba(60, 64, 67, 0.3), 0px 1px 3px 1px rgba(60, 64, 67, 0.15);\n",
              "      fill: #174EA6;\n",
              "    }\n",
              "\n",
              "    [theme=dark] .colab-df-convert {\n",
              "      background-color: #3B4455;\n",
              "      fill: #D2E3FC;\n",
              "    }\n",
              "\n",
              "    [theme=dark] .colab-df-convert:hover {\n",
              "      background-color: #434B5C;\n",
              "      box-shadow: 0px 1px 3px 1px rgba(0, 0, 0, 0.15);\n",
              "      filter: drop-shadow(0px 1px 2px rgba(0, 0, 0, 0.3));\n",
              "      fill: #FFFFFF;\n",
              "    }\n",
              "  </style>\n",
              "\n",
              "      <script>\n",
              "        const buttonEl =\n",
              "          document.querySelector('#df-2e6edfe0-5bf7-4118-a48e-4fc876dd3e00 button.colab-df-convert');\n",
              "        buttonEl.style.display =\n",
              "          google.colab.kernel.accessAllowed ? 'block' : 'none';\n",
              "\n",
              "        async function convertToInteractive(key) {\n",
              "          const element = document.querySelector('#df-2e6edfe0-5bf7-4118-a48e-4fc876dd3e00');\n",
              "          const dataTable =\n",
              "            await google.colab.kernel.invokeFunction('convertToInteractive',\n",
              "                                                     [key], {});\n",
              "          if (!dataTable) return;\n",
              "\n",
              "          const docLinkHtml = 'Like what you see? Visit the ' +\n",
              "            '<a target=\"_blank\" href=https://colab.research.google.com/notebooks/data_table.ipynb>data table notebook</a>'\n",
              "            + ' to learn more about interactive tables.';\n",
              "          element.innerHTML = '';\n",
              "          dataTable['output_type'] = 'display_data';\n",
              "          await google.colab.output.renderOutput(dataTable, element);\n",
              "          const docLink = document.createElement('div');\n",
              "          docLink.innerHTML = docLinkHtml;\n",
              "          element.appendChild(docLink);\n",
              "        }\n",
              "      </script>\n",
              "    </div>\n",
              "  </div>\n",
              "  "
            ],
            "text/plain": [
              "    Gene Names\n",
              "0      YPR188C\n",
              "1      YPR138C\n",
              "2      YPL181W\n",
              "3      YPL242C\n",
              "4      YPL018W\n",
              "..         ...\n",
              "391    YPL274W\n",
              "392    YPL019C\n",
              "393    YPR060C\n",
              "394    YPR134W\n",
              "395    YPR108W\n",
              "\n",
              "[396 rows x 1 columns]"
            ]
          },
          "execution_count": 54,
          "metadata": {},
          "output_type": "execute_result"
        }
      ],
      "source": [
        "common_elements = list(\n",
        "    set(cnv_genes_list).intersection(cnv_16h_2_genes_list, cnv_16h_3_genes_list, cnv_16h_4_genes_list, cnv_16h_5_genes_list, cnv_16h_6_genes_list, cnv_16h_8_genes_list)\n",
        ")\n",
        "selected_16=[]\n",
        "for i in common_elements:\n",
        "  if i.startswith('YP'):\n",
        "    selected_16.append(i)\n",
        "pd.DataFrame(selected_16, columns=['Gene Names'])"
      ]
    },
    {
      "cell_type": "code",
      "execution_count": 9,
      "metadata": {
        "colab": {
          "base_uri": "https://localhost:8080/",
          "height": 423
        },
        "id": "AgMdSOmJfiWN",
        "outputId": "0fe54355-018f-48b4-d1d6-743e3774f45d"
      },
      "outputs": [
        {
          "output_type": "execute_result",
          "data": {
            "text/plain": [
              "              0        1      2      3          4          5\n",
              "0       YLR418C  YOL145C  CDC73   CTR9  w3sb16_12  w3sb16_15\n",
              "1       YOL145C  YLR418C   CTR9  CDC73  w3sb16_15  w3sb16_12\n",
              "2       YLR418C  YOR123C  CDC73   LEO1  w3sb16_12  w3sb16_15\n",
              "3       YOR123C  YLR418C   LEO1  CDC73  w3sb16_15  w3sb16_12\n",
              "4       YLR418C  YBR279W  CDC73   PAF1  w3sb16_12   w3sb16_2\n",
              "...         ...      ...    ...    ...        ...        ...\n",
              "190804  YGL004C  YOR117W  RPN14   RPT5   w3sb16_7  w3sb16_15\n",
              "190805  YGR232W  YHR027C   NAS6   RPN1   w3sb16_7   w3sb16_8\n",
              "190806  YGR232W  YOR117W   NAS6   RPT5   w3sb16_7  w3sb16_15\n",
              "190807  YBR272C  YHR027C   HSM3   RPN1   w3sb16_2   w3sb16_8\n",
              "190808  YBR272C  YOR117W   HSM3   RPT5   w3sb16_2  w3sb16_15\n",
              "\n",
              "[190809 rows x 6 columns]"
            ],
            "text/html": [
              "\n",
              "  <div id=\"df-dc12b37f-703a-49ca-94eb-aa6507ba89d8\">\n",
              "    <div class=\"colab-df-container\">\n",
              "      <div>\n",
              "<style scoped>\n",
              "    .dataframe tbody tr th:only-of-type {\n",
              "        vertical-align: middle;\n",
              "    }\n",
              "\n",
              "    .dataframe tbody tr th {\n",
              "        vertical-align: top;\n",
              "    }\n",
              "\n",
              "    .dataframe thead th {\n",
              "        text-align: right;\n",
              "    }\n",
              "</style>\n",
              "<table border=\"1\" class=\"dataframe\">\n",
              "  <thead>\n",
              "    <tr style=\"text-align: right;\">\n",
              "      <th></th>\n",
              "      <th>0</th>\n",
              "      <th>1</th>\n",
              "      <th>2</th>\n",
              "      <th>3</th>\n",
              "      <th>4</th>\n",
              "      <th>5</th>\n",
              "    </tr>\n",
              "  </thead>\n",
              "  <tbody>\n",
              "    <tr>\n",
              "      <th>0</th>\n",
              "      <td>YLR418C</td>\n",
              "      <td>YOL145C</td>\n",
              "      <td>CDC73</td>\n",
              "      <td>CTR9</td>\n",
              "      <td>w3sb16_12</td>\n",
              "      <td>w3sb16_15</td>\n",
              "    </tr>\n",
              "    <tr>\n",
              "      <th>1</th>\n",
              "      <td>YOL145C</td>\n",
              "      <td>YLR418C</td>\n",
              "      <td>CTR9</td>\n",
              "      <td>CDC73</td>\n",
              "      <td>w3sb16_15</td>\n",
              "      <td>w3sb16_12</td>\n",
              "    </tr>\n",
              "    <tr>\n",
              "      <th>2</th>\n",
              "      <td>YLR418C</td>\n",
              "      <td>YOR123C</td>\n",
              "      <td>CDC73</td>\n",
              "      <td>LEO1</td>\n",
              "      <td>w3sb16_12</td>\n",
              "      <td>w3sb16_15</td>\n",
              "    </tr>\n",
              "    <tr>\n",
              "      <th>3</th>\n",
              "      <td>YOR123C</td>\n",
              "      <td>YLR418C</td>\n",
              "      <td>LEO1</td>\n",
              "      <td>CDC73</td>\n",
              "      <td>w3sb16_15</td>\n",
              "      <td>w3sb16_12</td>\n",
              "    </tr>\n",
              "    <tr>\n",
              "      <th>4</th>\n",
              "      <td>YLR418C</td>\n",
              "      <td>YBR279W</td>\n",
              "      <td>CDC73</td>\n",
              "      <td>PAF1</td>\n",
              "      <td>w3sb16_12</td>\n",
              "      <td>w3sb16_2</td>\n",
              "    </tr>\n",
              "    <tr>\n",
              "      <th>...</th>\n",
              "      <td>...</td>\n",
              "      <td>...</td>\n",
              "      <td>...</td>\n",
              "      <td>...</td>\n",
              "      <td>...</td>\n",
              "      <td>...</td>\n",
              "    </tr>\n",
              "    <tr>\n",
              "      <th>190804</th>\n",
              "      <td>YGL004C</td>\n",
              "      <td>YOR117W</td>\n",
              "      <td>RPN14</td>\n",
              "      <td>RPT5</td>\n",
              "      <td>w3sb16_7</td>\n",
              "      <td>w3sb16_15</td>\n",
              "    </tr>\n",
              "    <tr>\n",
              "      <th>190805</th>\n",
              "      <td>YGR232W</td>\n",
              "      <td>YHR027C</td>\n",
              "      <td>NAS6</td>\n",
              "      <td>RPN1</td>\n",
              "      <td>w3sb16_7</td>\n",
              "      <td>w3sb16_8</td>\n",
              "    </tr>\n",
              "    <tr>\n",
              "      <th>190806</th>\n",
              "      <td>YGR232W</td>\n",
              "      <td>YOR117W</td>\n",
              "      <td>NAS6</td>\n",
              "      <td>RPT5</td>\n",
              "      <td>w3sb16_7</td>\n",
              "      <td>w3sb16_15</td>\n",
              "    </tr>\n",
              "    <tr>\n",
              "      <th>190807</th>\n",
              "      <td>YBR272C</td>\n",
              "      <td>YHR027C</td>\n",
              "      <td>HSM3</td>\n",
              "      <td>RPN1</td>\n",
              "      <td>w3sb16_2</td>\n",
              "      <td>w3sb16_8</td>\n",
              "    </tr>\n",
              "    <tr>\n",
              "      <th>190808</th>\n",
              "      <td>YBR272C</td>\n",
              "      <td>YOR117W</td>\n",
              "      <td>HSM3</td>\n",
              "      <td>RPT5</td>\n",
              "      <td>w3sb16_2</td>\n",
              "      <td>w3sb16_15</td>\n",
              "    </tr>\n",
              "  </tbody>\n",
              "</table>\n",
              "<p>190809 rows × 6 columns</p>\n",
              "</div>\n",
              "      <button class=\"colab-df-convert\" onclick=\"convertToInteractive('df-dc12b37f-703a-49ca-94eb-aa6507ba89d8')\"\n",
              "              title=\"Convert this dataframe to an interactive table.\"\n",
              "              style=\"display:none;\">\n",
              "        \n",
              "  <svg xmlns=\"http://www.w3.org/2000/svg\" height=\"24px\"viewBox=\"0 0 24 24\"\n",
              "       width=\"24px\">\n",
              "    <path d=\"M0 0h24v24H0V0z\" fill=\"none\"/>\n",
              "    <path d=\"M18.56 5.44l.94 2.06.94-2.06 2.06-.94-2.06-.94-.94-2.06-.94 2.06-2.06.94zm-11 1L8.5 8.5l.94-2.06 2.06-.94-2.06-.94L8.5 2.5l-.94 2.06-2.06.94zm10 10l.94 2.06.94-2.06 2.06-.94-2.06-.94-.94-2.06-.94 2.06-2.06.94z\"/><path d=\"M17.41 7.96l-1.37-1.37c-.4-.4-.92-.59-1.43-.59-.52 0-1.04.2-1.43.59L10.3 9.45l-7.72 7.72c-.78.78-.78 2.05 0 2.83L4 21.41c.39.39.9.59 1.41.59.51 0 1.02-.2 1.41-.59l7.78-7.78 2.81-2.81c.8-.78.8-2.07 0-2.86zM5.41 20L4 18.59l7.72-7.72 1.47 1.35L5.41 20z\"/>\n",
              "  </svg>\n",
              "      </button>\n",
              "      \n",
              "  <style>\n",
              "    .colab-df-container {\n",
              "      display:flex;\n",
              "      flex-wrap:wrap;\n",
              "      gap: 12px;\n",
              "    }\n",
              "\n",
              "    .colab-df-convert {\n",
              "      background-color: #E8F0FE;\n",
              "      border: none;\n",
              "      border-radius: 50%;\n",
              "      cursor: pointer;\n",
              "      display: none;\n",
              "      fill: #1967D2;\n",
              "      height: 32px;\n",
              "      padding: 0 0 0 0;\n",
              "      width: 32px;\n",
              "    }\n",
              "\n",
              "    .colab-df-convert:hover {\n",
              "      background-color: #E2EBFA;\n",
              "      box-shadow: 0px 1px 2px rgba(60, 64, 67, 0.3), 0px 1px 3px 1px rgba(60, 64, 67, 0.15);\n",
              "      fill: #174EA6;\n",
              "    }\n",
              "\n",
              "    [theme=dark] .colab-df-convert {\n",
              "      background-color: #3B4455;\n",
              "      fill: #D2E3FC;\n",
              "    }\n",
              "\n",
              "    [theme=dark] .colab-df-convert:hover {\n",
              "      background-color: #434B5C;\n",
              "      box-shadow: 0px 1px 3px 1px rgba(0, 0, 0, 0.15);\n",
              "      filter: drop-shadow(0px 1px 2px rgba(0, 0, 0, 0.3));\n",
              "      fill: #FFFFFF;\n",
              "    }\n",
              "  </style>\n",
              "\n",
              "      <script>\n",
              "        const buttonEl =\n",
              "          document.querySelector('#df-dc12b37f-703a-49ca-94eb-aa6507ba89d8 button.colab-df-convert');\n",
              "        buttonEl.style.display =\n",
              "          google.colab.kernel.accessAllowed ? 'block' : 'none';\n",
              "\n",
              "        async function convertToInteractive(key) {\n",
              "          const element = document.querySelector('#df-dc12b37f-703a-49ca-94eb-aa6507ba89d8');\n",
              "          const dataTable =\n",
              "            await google.colab.kernel.invokeFunction('convertToInteractive',\n",
              "                                                     [key], {});\n",
              "          if (!dataTable) return;\n",
              "\n",
              "          const docLinkHtml = 'Like what you see? Visit the ' +\n",
              "            '<a target=\"_blank\" href=https://colab.research.google.com/notebooks/data_table.ipynb>data table notebook</a>'\n",
              "            + ' to learn more about interactive tables.';\n",
              "          element.innerHTML = '';\n",
              "          dataTable['output_type'] = 'display_data';\n",
              "          await google.colab.output.renderOutput(dataTable, element);\n",
              "          const docLink = document.createElement('div');\n",
              "          docLink.innerHTML = docLinkHtml;\n",
              "          element.appendChild(docLink);\n",
              "        }\n",
              "      </script>\n",
              "    </div>\n",
              "  </div>\n",
              "  "
            ]
          },
          "metadata": {},
          "execution_count": 9
        }
      ],
      "source": [
        "all_interactions = pd.read_csv('/content/Final_saccharomyces_physical.txt', sep='\\t', header=None)\n",
        "all_interactions"
      ]
    },
    {
      "cell_type": "code",
      "execution_count": 10,
      "metadata": {
        "id": "_q-HJ_NGf17z"
      },
      "outputs": [],
      "source": [
        "all_interactions[['chrom_name_4', 'chrom_num_4']] = all_interactions[4].str.split(\"_\", expand=True)\n",
        "all_interactions[['chrom_name_5', 'chrom_num_5']] = all_interactions[5].str.split(\"_\", expand=True)\n",
        "all_interactions['chrom_num_4'] = pd.to_numeric(all_interactions['chrom_num_4'])\n",
        "all_interactions['chrom_num_5'] = pd.to_numeric(all_interactions['chrom_num_5'])"
      ]
    },
    {
      "cell_type": "code",
      "execution_count": 11,
      "metadata": {
        "colab": {
          "base_uri": "https://localhost:8080/",
          "height": 423
        },
        "id": "qzdjIY4YolRC",
        "outputId": "6a78c8bc-6f4f-4ca8-9c3d-ebcd0081fa7e"
      },
      "outputs": [
        {
          "output_type": "execute_result",
          "data": {
            "text/plain": [
              "              0        1      2       3          4          5 chrom_name_4  \\\n",
              "0       YLR418C  YOL145C  CDC73    CTR9  w3sb16_12  w3sb16_15       w3sb16   \n",
              "1       YOL145C  YLR418C   CTR9   CDC73  w3sb16_15  w3sb16_12       w3sb16   \n",
              "2       YLR418C  YOR123C  CDC73    LEO1  w3sb16_12  w3sb16_15       w3sb16   \n",
              "3       YOR123C  YLR418C   LEO1   CDC73  w3sb16_15  w3sb16_12       w3sb16   \n",
              "4       YLR418C  YBR279W  CDC73    PAF1  w3sb16_12   w3sb16_2       w3sb16   \n",
              "...         ...      ...    ...     ...        ...        ...          ...   \n",
              "141210  YOL139C  YPR149W  CDC33  NCE102  w3sb16_15  w3sb16_16       w3sb16   \n",
              "141211  YOL139C  YOL026C  CDC33    MIM1  w3sb16_15  w3sb16_15       w3sb16   \n",
              "141212  YKR059W  YMR011W   TIF1    HXT2  w3sb16_11  w3sb16_13       w3sb16   \n",
              "141213  YKR059W  YNL227C   TIF1    JJJ1  w3sb16_11  w3sb16_14       w3sb16   \n",
              "141214  YKR059W  YPR149W   TIF1  NCE102  w3sb16_11  w3sb16_16       w3sb16   \n",
              "\n",
              "        chrom_num_4 chrom_name_5  chrom_num_5  \n",
              "0                12       w3sb16           15  \n",
              "1                15       w3sb16           12  \n",
              "2                12       w3sb16           15  \n",
              "3                15       w3sb16           12  \n",
              "4                12       w3sb16            2  \n",
              "...             ...          ...          ...  \n",
              "141210           15       w3sb16           16  \n",
              "141211           15       w3sb16           15  \n",
              "141212           11       w3sb16           13  \n",
              "141213           11       w3sb16           14  \n",
              "141214           11       w3sb16           16  \n",
              "\n",
              "[141215 rows x 10 columns]"
            ],
            "text/html": [
              "\n",
              "  <div id=\"df-f5d33c1c-2a18-490b-97ca-4c0ab0f3039d\">\n",
              "    <div class=\"colab-df-container\">\n",
              "      <div>\n",
              "<style scoped>\n",
              "    .dataframe tbody tr th:only-of-type {\n",
              "        vertical-align: middle;\n",
              "    }\n",
              "\n",
              "    .dataframe tbody tr th {\n",
              "        vertical-align: top;\n",
              "    }\n",
              "\n",
              "    .dataframe thead th {\n",
              "        text-align: right;\n",
              "    }\n",
              "</style>\n",
              "<table border=\"1\" class=\"dataframe\">\n",
              "  <thead>\n",
              "    <tr style=\"text-align: right;\">\n",
              "      <th></th>\n",
              "      <th>0</th>\n",
              "      <th>1</th>\n",
              "      <th>2</th>\n",
              "      <th>3</th>\n",
              "      <th>4</th>\n",
              "      <th>5</th>\n",
              "      <th>chrom_name_4</th>\n",
              "      <th>chrom_num_4</th>\n",
              "      <th>chrom_name_5</th>\n",
              "      <th>chrom_num_5</th>\n",
              "    </tr>\n",
              "  </thead>\n",
              "  <tbody>\n",
              "    <tr>\n",
              "      <th>0</th>\n",
              "      <td>YLR418C</td>\n",
              "      <td>YOL145C</td>\n",
              "      <td>CDC73</td>\n",
              "      <td>CTR9</td>\n",
              "      <td>w3sb16_12</td>\n",
              "      <td>w3sb16_15</td>\n",
              "      <td>w3sb16</td>\n",
              "      <td>12</td>\n",
              "      <td>w3sb16</td>\n",
              "      <td>15</td>\n",
              "    </tr>\n",
              "    <tr>\n",
              "      <th>1</th>\n",
              "      <td>YOL145C</td>\n",
              "      <td>YLR418C</td>\n",
              "      <td>CTR9</td>\n",
              "      <td>CDC73</td>\n",
              "      <td>w3sb16_15</td>\n",
              "      <td>w3sb16_12</td>\n",
              "      <td>w3sb16</td>\n",
              "      <td>15</td>\n",
              "      <td>w3sb16</td>\n",
              "      <td>12</td>\n",
              "    </tr>\n",
              "    <tr>\n",
              "      <th>2</th>\n",
              "      <td>YLR418C</td>\n",
              "      <td>YOR123C</td>\n",
              "      <td>CDC73</td>\n",
              "      <td>LEO1</td>\n",
              "      <td>w3sb16_12</td>\n",
              "      <td>w3sb16_15</td>\n",
              "      <td>w3sb16</td>\n",
              "      <td>12</td>\n",
              "      <td>w3sb16</td>\n",
              "      <td>15</td>\n",
              "    </tr>\n",
              "    <tr>\n",
              "      <th>3</th>\n",
              "      <td>YOR123C</td>\n",
              "      <td>YLR418C</td>\n",
              "      <td>LEO1</td>\n",
              "      <td>CDC73</td>\n",
              "      <td>w3sb16_15</td>\n",
              "      <td>w3sb16_12</td>\n",
              "      <td>w3sb16</td>\n",
              "      <td>15</td>\n",
              "      <td>w3sb16</td>\n",
              "      <td>12</td>\n",
              "    </tr>\n",
              "    <tr>\n",
              "      <th>4</th>\n",
              "      <td>YLR418C</td>\n",
              "      <td>YBR279W</td>\n",
              "      <td>CDC73</td>\n",
              "      <td>PAF1</td>\n",
              "      <td>w3sb16_12</td>\n",
              "      <td>w3sb16_2</td>\n",
              "      <td>w3sb16</td>\n",
              "      <td>12</td>\n",
              "      <td>w3sb16</td>\n",
              "      <td>2</td>\n",
              "    </tr>\n",
              "    <tr>\n",
              "      <th>...</th>\n",
              "      <td>...</td>\n",
              "      <td>...</td>\n",
              "      <td>...</td>\n",
              "      <td>...</td>\n",
              "      <td>...</td>\n",
              "      <td>...</td>\n",
              "      <td>...</td>\n",
              "      <td>...</td>\n",
              "      <td>...</td>\n",
              "      <td>...</td>\n",
              "    </tr>\n",
              "    <tr>\n",
              "      <th>141210</th>\n",
              "      <td>YOL139C</td>\n",
              "      <td>YPR149W</td>\n",
              "      <td>CDC33</td>\n",
              "      <td>NCE102</td>\n",
              "      <td>w3sb16_15</td>\n",
              "      <td>w3sb16_16</td>\n",
              "      <td>w3sb16</td>\n",
              "      <td>15</td>\n",
              "      <td>w3sb16</td>\n",
              "      <td>16</td>\n",
              "    </tr>\n",
              "    <tr>\n",
              "      <th>141211</th>\n",
              "      <td>YOL139C</td>\n",
              "      <td>YOL026C</td>\n",
              "      <td>CDC33</td>\n",
              "      <td>MIM1</td>\n",
              "      <td>w3sb16_15</td>\n",
              "      <td>w3sb16_15</td>\n",
              "      <td>w3sb16</td>\n",
              "      <td>15</td>\n",
              "      <td>w3sb16</td>\n",
              "      <td>15</td>\n",
              "    </tr>\n",
              "    <tr>\n",
              "      <th>141212</th>\n",
              "      <td>YKR059W</td>\n",
              "      <td>YMR011W</td>\n",
              "      <td>TIF1</td>\n",
              "      <td>HXT2</td>\n",
              "      <td>w3sb16_11</td>\n",
              "      <td>w3sb16_13</td>\n",
              "      <td>w3sb16</td>\n",
              "      <td>11</td>\n",
              "      <td>w3sb16</td>\n",
              "      <td>13</td>\n",
              "    </tr>\n",
              "    <tr>\n",
              "      <th>141213</th>\n",
              "      <td>YKR059W</td>\n",
              "      <td>YNL227C</td>\n",
              "      <td>TIF1</td>\n",
              "      <td>JJJ1</td>\n",
              "      <td>w3sb16_11</td>\n",
              "      <td>w3sb16_14</td>\n",
              "      <td>w3sb16</td>\n",
              "      <td>11</td>\n",
              "      <td>w3sb16</td>\n",
              "      <td>14</td>\n",
              "    </tr>\n",
              "    <tr>\n",
              "      <th>141214</th>\n",
              "      <td>YKR059W</td>\n",
              "      <td>YPR149W</td>\n",
              "      <td>TIF1</td>\n",
              "      <td>NCE102</td>\n",
              "      <td>w3sb16_11</td>\n",
              "      <td>w3sb16_16</td>\n",
              "      <td>w3sb16</td>\n",
              "      <td>11</td>\n",
              "      <td>w3sb16</td>\n",
              "      <td>16</td>\n",
              "    </tr>\n",
              "  </tbody>\n",
              "</table>\n",
              "<p>141215 rows × 10 columns</p>\n",
              "</div>\n",
              "      <button class=\"colab-df-convert\" onclick=\"convertToInteractive('df-f5d33c1c-2a18-490b-97ca-4c0ab0f3039d')\"\n",
              "              title=\"Convert this dataframe to an interactive table.\"\n",
              "              style=\"display:none;\">\n",
              "        \n",
              "  <svg xmlns=\"http://www.w3.org/2000/svg\" height=\"24px\"viewBox=\"0 0 24 24\"\n",
              "       width=\"24px\">\n",
              "    <path d=\"M0 0h24v24H0V0z\" fill=\"none\"/>\n",
              "    <path d=\"M18.56 5.44l.94 2.06.94-2.06 2.06-.94-2.06-.94-.94-2.06-.94 2.06-2.06.94zm-11 1L8.5 8.5l.94-2.06 2.06-.94-2.06-.94L8.5 2.5l-.94 2.06-2.06.94zm10 10l.94 2.06.94-2.06 2.06-.94-2.06-.94-.94-2.06-.94 2.06-2.06.94z\"/><path d=\"M17.41 7.96l-1.37-1.37c-.4-.4-.92-.59-1.43-.59-.52 0-1.04.2-1.43.59L10.3 9.45l-7.72 7.72c-.78.78-.78 2.05 0 2.83L4 21.41c.39.39.9.59 1.41.59.51 0 1.02-.2 1.41-.59l7.78-7.78 2.81-2.81c.8-.78.8-2.07 0-2.86zM5.41 20L4 18.59l7.72-7.72 1.47 1.35L5.41 20z\"/>\n",
              "  </svg>\n",
              "      </button>\n",
              "      \n",
              "  <style>\n",
              "    .colab-df-container {\n",
              "      display:flex;\n",
              "      flex-wrap:wrap;\n",
              "      gap: 12px;\n",
              "    }\n",
              "\n",
              "    .colab-df-convert {\n",
              "      background-color: #E8F0FE;\n",
              "      border: none;\n",
              "      border-radius: 50%;\n",
              "      cursor: pointer;\n",
              "      display: none;\n",
              "      fill: #1967D2;\n",
              "      height: 32px;\n",
              "      padding: 0 0 0 0;\n",
              "      width: 32px;\n",
              "    }\n",
              "\n",
              "    .colab-df-convert:hover {\n",
              "      background-color: #E2EBFA;\n",
              "      box-shadow: 0px 1px 2px rgba(60, 64, 67, 0.3), 0px 1px 3px 1px rgba(60, 64, 67, 0.15);\n",
              "      fill: #174EA6;\n",
              "    }\n",
              "\n",
              "    [theme=dark] .colab-df-convert {\n",
              "      background-color: #3B4455;\n",
              "      fill: #D2E3FC;\n",
              "    }\n",
              "\n",
              "    [theme=dark] .colab-df-convert:hover {\n",
              "      background-color: #434B5C;\n",
              "      box-shadow: 0px 1px 3px 1px rgba(0, 0, 0, 0.15);\n",
              "      filter: drop-shadow(0px 1px 2px rgba(0, 0, 0, 0.3));\n",
              "      fill: #FFFFFF;\n",
              "    }\n",
              "  </style>\n",
              "\n",
              "      <script>\n",
              "        const buttonEl =\n",
              "          document.querySelector('#df-f5d33c1c-2a18-490b-97ca-4c0ab0f3039d button.colab-df-convert');\n",
              "        buttonEl.style.display =\n",
              "          google.colab.kernel.accessAllowed ? 'block' : 'none';\n",
              "\n",
              "        async function convertToInteractive(key) {\n",
              "          const element = document.querySelector('#df-f5d33c1c-2a18-490b-97ca-4c0ab0f3039d');\n",
              "          const dataTable =\n",
              "            await google.colab.kernel.invokeFunction('convertToInteractive',\n",
              "                                                     [key], {});\n",
              "          if (!dataTable) return;\n",
              "\n",
              "          const docLinkHtml = 'Like what you see? Visit the ' +\n",
              "            '<a target=\"_blank\" href=https://colab.research.google.com/notebooks/data_table.ipynb>data table notebook</a>'\n",
              "            + ' to learn more about interactive tables.';\n",
              "          element.innerHTML = '';\n",
              "          dataTable['output_type'] = 'display_data';\n",
              "          await google.colab.output.renderOutput(dataTable, element);\n",
              "          const docLink = document.createElement('div');\n",
              "          docLink.innerHTML = docLinkHtml;\n",
              "          element.appendChild(docLink);\n",
              "        }\n",
              "      </script>\n",
              "    </div>\n",
              "  </div>\n",
              "  "
            ]
          },
          "metadata": {},
          "execution_count": 11
        }
      ],
      "source": [
        "all_interactions = all_interactions.drop_duplicates()\n",
        "all_interactions = all_interactions.reset_index(inplace=False, drop=True)\n",
        "all_interactions"
      ]
    },
    {
      "cell_type": "code",
      "execution_count": 12,
      "metadata": {
        "colab": {
          "base_uri": "https://localhost:8080/",
          "height": 423
        },
        "id": "5RTRIrN8pHOf",
        "outputId": "010e99e0-c880-48a8-c9a9-11c8352bb6d1"
      },
      "outputs": [
        {
          "output_type": "execute_result",
          "data": {
            "text/plain": [
              "              0        1\n",
              "0       YLR418C  YOL145C\n",
              "1       YLR418C  YOR123C\n",
              "2       YLR418C  YBR279W\n",
              "3       YLR418C  YML069W\n",
              "4       YLR418C  YGL244W\n",
              "...         ...      ...\n",
              "129386  YNR020C  YNR040W\n",
              "129387  YOR339C  YOR339C\n",
              "129388  YDL104C  YDL104C\n",
              "129389  YPL168W  YNR040W\n",
              "129390  YFL061W  YFL061W\n",
              "\n",
              "[129391 rows x 2 columns]"
            ],
            "text/html": [
              "\n",
              "  <div id=\"df-06259b02-53f2-4122-859e-08124b0f14cc\">\n",
              "    <div class=\"colab-df-container\">\n",
              "      <div>\n",
              "<style scoped>\n",
              "    .dataframe tbody tr th:only-of-type {\n",
              "        vertical-align: middle;\n",
              "    }\n",
              "\n",
              "    .dataframe tbody tr th {\n",
              "        vertical-align: top;\n",
              "    }\n",
              "\n",
              "    .dataframe thead th {\n",
              "        text-align: right;\n",
              "    }\n",
              "</style>\n",
              "<table border=\"1\" class=\"dataframe\">\n",
              "  <thead>\n",
              "    <tr style=\"text-align: right;\">\n",
              "      <th></th>\n",
              "      <th>0</th>\n",
              "      <th>1</th>\n",
              "    </tr>\n",
              "  </thead>\n",
              "  <tbody>\n",
              "    <tr>\n",
              "      <th>0</th>\n",
              "      <td>YLR418C</td>\n",
              "      <td>YOL145C</td>\n",
              "    </tr>\n",
              "    <tr>\n",
              "      <th>1</th>\n",
              "      <td>YLR418C</td>\n",
              "      <td>YOR123C</td>\n",
              "    </tr>\n",
              "    <tr>\n",
              "      <th>2</th>\n",
              "      <td>YLR418C</td>\n",
              "      <td>YBR279W</td>\n",
              "    </tr>\n",
              "    <tr>\n",
              "      <th>3</th>\n",
              "      <td>YLR418C</td>\n",
              "      <td>YML069W</td>\n",
              "    </tr>\n",
              "    <tr>\n",
              "      <th>4</th>\n",
              "      <td>YLR418C</td>\n",
              "      <td>YGL244W</td>\n",
              "    </tr>\n",
              "    <tr>\n",
              "      <th>...</th>\n",
              "      <td>...</td>\n",
              "      <td>...</td>\n",
              "    </tr>\n",
              "    <tr>\n",
              "      <th>129386</th>\n",
              "      <td>YNR020C</td>\n",
              "      <td>YNR040W</td>\n",
              "    </tr>\n",
              "    <tr>\n",
              "      <th>129387</th>\n",
              "      <td>YOR339C</td>\n",
              "      <td>YOR339C</td>\n",
              "    </tr>\n",
              "    <tr>\n",
              "      <th>129388</th>\n",
              "      <td>YDL104C</td>\n",
              "      <td>YDL104C</td>\n",
              "    </tr>\n",
              "    <tr>\n",
              "      <th>129389</th>\n",
              "      <td>YPL168W</td>\n",
              "      <td>YNR040W</td>\n",
              "    </tr>\n",
              "    <tr>\n",
              "      <th>129390</th>\n",
              "      <td>YFL061W</td>\n",
              "      <td>YFL061W</td>\n",
              "    </tr>\n",
              "  </tbody>\n",
              "</table>\n",
              "<p>129391 rows × 2 columns</p>\n",
              "</div>\n",
              "      <button class=\"colab-df-convert\" onclick=\"convertToInteractive('df-06259b02-53f2-4122-859e-08124b0f14cc')\"\n",
              "              title=\"Convert this dataframe to an interactive table.\"\n",
              "              style=\"display:none;\">\n",
              "        \n",
              "  <svg xmlns=\"http://www.w3.org/2000/svg\" height=\"24px\"viewBox=\"0 0 24 24\"\n",
              "       width=\"24px\">\n",
              "    <path d=\"M0 0h24v24H0V0z\" fill=\"none\"/>\n",
              "    <path d=\"M18.56 5.44l.94 2.06.94-2.06 2.06-.94-2.06-.94-.94-2.06-.94 2.06-2.06.94zm-11 1L8.5 8.5l.94-2.06 2.06-.94-2.06-.94L8.5 2.5l-.94 2.06-2.06.94zm10 10l.94 2.06.94-2.06 2.06-.94-2.06-.94-.94-2.06-.94 2.06-2.06.94z\"/><path d=\"M17.41 7.96l-1.37-1.37c-.4-.4-.92-.59-1.43-.59-.52 0-1.04.2-1.43.59L10.3 9.45l-7.72 7.72c-.78.78-.78 2.05 0 2.83L4 21.41c.39.39.9.59 1.41.59.51 0 1.02-.2 1.41-.59l7.78-7.78 2.81-2.81c.8-.78.8-2.07 0-2.86zM5.41 20L4 18.59l7.72-7.72 1.47 1.35L5.41 20z\"/>\n",
              "  </svg>\n",
              "      </button>\n",
              "      \n",
              "  <style>\n",
              "    .colab-df-container {\n",
              "      display:flex;\n",
              "      flex-wrap:wrap;\n",
              "      gap: 12px;\n",
              "    }\n",
              "\n",
              "    .colab-df-convert {\n",
              "      background-color: #E8F0FE;\n",
              "      border: none;\n",
              "      border-radius: 50%;\n",
              "      cursor: pointer;\n",
              "      display: none;\n",
              "      fill: #1967D2;\n",
              "      height: 32px;\n",
              "      padding: 0 0 0 0;\n",
              "      width: 32px;\n",
              "    }\n",
              "\n",
              "    .colab-df-convert:hover {\n",
              "      background-color: #E2EBFA;\n",
              "      box-shadow: 0px 1px 2px rgba(60, 64, 67, 0.3), 0px 1px 3px 1px rgba(60, 64, 67, 0.15);\n",
              "      fill: #174EA6;\n",
              "    }\n",
              "\n",
              "    [theme=dark] .colab-df-convert {\n",
              "      background-color: #3B4455;\n",
              "      fill: #D2E3FC;\n",
              "    }\n",
              "\n",
              "    [theme=dark] .colab-df-convert:hover {\n",
              "      background-color: #434B5C;\n",
              "      box-shadow: 0px 1px 3px 1px rgba(0, 0, 0, 0.15);\n",
              "      filter: drop-shadow(0px 1px 2px rgba(0, 0, 0, 0.3));\n",
              "      fill: #FFFFFF;\n",
              "    }\n",
              "  </style>\n",
              "\n",
              "      <script>\n",
              "        const buttonEl =\n",
              "          document.querySelector('#df-06259b02-53f2-4122-859e-08124b0f14cc button.colab-df-convert');\n",
              "        buttonEl.style.display =\n",
              "          google.colab.kernel.accessAllowed ? 'block' : 'none';\n",
              "\n",
              "        async function convertToInteractive(key) {\n",
              "          const element = document.querySelector('#df-06259b02-53f2-4122-859e-08124b0f14cc');\n",
              "          const dataTable =\n",
              "            await google.colab.kernel.invokeFunction('convertToInteractive',\n",
              "                                                     [key], {});\n",
              "          if (!dataTable) return;\n",
              "\n",
              "          const docLinkHtml = 'Like what you see? Visit the ' +\n",
              "            '<a target=\"_blank\" href=https://colab.research.google.com/notebooks/data_table.ipynb>data table notebook</a>'\n",
              "            + ' to learn more about interactive tables.';\n",
              "          element.innerHTML = '';\n",
              "          dataTable['output_type'] = 'display_data';\n",
              "          await google.colab.output.renderOutput(dataTable, element);\n",
              "          const docLink = document.createElement('div');\n",
              "          docLink.innerHTML = docLinkHtml;\n",
              "          element.appendChild(docLink);\n",
              "        }\n",
              "      </script>\n",
              "    </div>\n",
              "  </div>\n",
              "  "
            ]
          },
          "metadata": {},
          "execution_count": 12
        }
      ],
      "source": [
        "all_interaction_network = nx.Graph()\n",
        "for i in range(0,len(all_interactions)):\n",
        "  all_interaction_network.add_edge(all_interactions[0][i], all_interactions[1][i])\n",
        "all_interactions_adjacency_list = pd.DataFrame(all_interaction_network.edges(), columns=[0,1])\n",
        "all_interactions_adjacency_list"
      ]
    },
    {
      "cell_type": "code",
      "execution_count": 13,
      "metadata": {
        "id": "2GnRIDkMqMWv"
      },
      "outputs": [],
      "source": [
        "tpm_cnv_to_cnv = pd.DataFrame()\n",
        "gene_1_tpm = []\n",
        "gene_2_tpm = []"
      ]
    },
    {
      "cell_type": "code",
      "execution_count": null,
      "metadata": {
        "id": "nVMfwhtbptEZ"
      },
      "outputs": [],
      "source": [
        "tpm_cnv_check_list=[]\n",
        "cnv_cnv_all_interactions_1=[]\n",
        "cnv_cnv_all_interactions_2=[]\n",
        "for i in range(len(all_interactions_adjacency_list)):\n",
        "  if ((all_interactions_adjacency_list[0][i] in cnv_genes_list) and (all_interactions_adjacency_list[1][i] in cnv_genes_list)):\n",
        "    if ((all_interactions_adjacency_list[0][i] in all_average_tpms.keys()) and (all_interactions_adjacency_list[1][i] in all_average_tpms.keys())):\n",
        "      gene_1_tpm.append(all_average_tpms[all_interactions_adjacency_list[0][i]])\n",
        "      cnv_cnv_all_interactions_1.append(all_interactions_adjacency_list[0][i])\n",
        "      gene_2_tpm.append(all_average_tpms[all_interactions_adjacency_list[1][i]])\n",
        "      cnv_cnv_all_interactions_2.append(all_interactions_adjacency_list[1][i])\n",
        "\n",
        "      if all_interactions_adjacency_list[0][i] not in tpm_cnv_check_list:\n",
        "        tpm_cnv_check_list.append(all_interactions_adjacency_list[0][i])\n",
        "      if all_interactions_adjacency_list[1][i] not in tpm_cnv_check_list:\n",
        "        tpm_cnv_check_list.append(all_interactions_adjacency_list[1][i])"
      ]
    },
    {
      "cell_type": "code",
      "execution_count": null,
      "metadata": {
        "id": "DLub8YP1ixRv"
      },
      "outputs": [],
      "source": [
        "cnv_cnv_all_interactions = pd.DataFrame()\n",
        "cnv_cnv_all_interactions[0] = cnv_cnv_all_interactions_1\n",
        "cnv_cnv_all_interactions[1] = cnv_cnv_all_interactions_2\n",
        "cnv_cnv_all_interactions.to_csv('CNV-CNV Interactions.csv')"
      ]
    },
    {
      "cell_type": "code",
      "execution_count": null,
      "metadata": {
        "id": "qjhW3ktzg-UF"
      },
      "outputs": [],
      "source": [
        "cnv_cnv_all_interactions = pd.DataFrame()\n",
        "cnv_cnv_all_interactions[0] = cnv_cnv_all_interactions_1\n",
        "cnv_cnv_all_interactions[1] = cnv_cnv_all_interactions_2\n",
        "cnv_cnv_all_interactions\n",
        "subtracted = pd.concat([cnv_cnv_all_interactions, clean_complex_interactions])\n",
        "subtracted = subtracted.drop_duplicates().reset_index(drop=True)\n",
        "subtracted_interactions_graph = nx.Graph()\n",
        "for i in range(0,len(subtracted)):\n",
        "  subtracted_interactions_graph.add_edge(subtracted[0][i], subtracted[1][i])\n",
        "subtracted_interactions_adjacency_list = pd.DataFrame(subtracted_interactions_graph.edges(), columns=[0,1])\n",
        "subtracted_interactions_adjacency_list\n",
        "\n",
        "subtracted_tpm_1=[]\n",
        "subtracted_tpm_2=[]\n",
        "for i in range(len(subtracted_interactions_adjacency_list)):\n",
        "  if ((subtracted_interactions_adjacency_list[0][i] in all_average_tpms.keys()) and (subtracted_interactions_adjacency_list[1][i] in all_average_tpms.keys())):\n",
        "    subtracted_tpm_1.append(all_average_tpms[subtracted_interactions_adjacency_list[0][i]])\n",
        "    \n",
        "    subtracted_tpm_2.append(all_average_tpms[subtracted_interactions_adjacency_list[1][i]])\n",
        "    \n",
        "res = stats.spearmanr(subtracted_tpm_1, subtracted_tpm_2)\n",
        "res"
      ]
    },
    {
      "cell_type": "code",
      "execution_count": null,
      "metadata": {
        "colab": {
          "base_uri": "https://localhost:8080/"
        },
        "id": "NRLBM-6u0x7H",
        "outputId": "500f695b-fa98-4e51-83bf-b63377de6819"
      },
      "outputs": [
        {
          "data": {
            "text/plain": [
              "[10, 8, 4, 2]"
            ]
          },
          "execution_count": 14,
          "metadata": {},
          "output_type": "execute_result"
        }
      ],
      "source": [
        "random_chromosome_selection_dict={\n",
        "    1:'YA',\n",
        "    2:'YB',\n",
        "    3:'YC',\n",
        "    4:'YD',\n",
        "    5:'YE',\n",
        "    6:'YF',\n",
        "    7:'YG',\n",
        "    8:'YH',\n",
        "    9:'YI',\n",
        "    10:'YJ',\n",
        "    11:'YK',\n",
        "    12:'YL',\n",
        "    13:'YM',\n",
        "    14:'YN',\n",
        "    15:'YO',\n",
        "    16:'YP'\n",
        "}\n",
        "euploid_chromosome_list=[1,2,4,5,7,8,9,10,11,12,14,15]\n",
        "random_chromosomes_list=random.sample(euploid_chromosome_list, 4)\n",
        "random_chromosomes_list"
      ]
    },
    {
      "cell_type": "code",
      "execution_count": null,
      "metadata": {
        "colab": {
          "base_uri": "https://localhost:8080/"
        },
        "id": "-NvK2f6sdeox",
        "outputId": "83c2f120-687c-4ca4-b958-8c1587f92079"
      },
      "outputs": [
        {
          "data": {
            "text/plain": [
              "68093"
            ]
          },
          "execution_count": 48,
          "metadata": {},
          "output_type": "execute_result"
        }
      ],
      "source": [
        "random_interaction_counter=0\n",
        "for i in range(len(all_interactions_adjacency_list)):\n",
        "  if(       (all_interactions_adjacency_list[1][i].startswith(random_chromosome_selection_dict[random_chromosomes_list[0]])) or \n",
        "            (all_interactions_adjacency_list[1][i].startswith(random_chromosome_selection_dict[random_chromosomes_list[1]])) or\n",
        "            (all_interactions_adjacency_list[1][i].startswith(random_chromosome_selection_dict[random_chromosomes_list[2]])) or\n",
        "            (all_interactions_adjacency_list[1][i].startswith(random_chromosome_selection_dict[random_chromosomes_list[3]])) or\n",
        "            (all_interactions_adjacency_list[0][i].startswith(random_chromosome_selection_dict[random_chromosomes_list[0]])) or \n",
        "            (all_interactions_adjacency_list[0][i].startswith(random_chromosome_selection_dict[random_chromosomes_list[1]])) or\n",
        "            (all_interactions_adjacency_list[0][i].startswith(random_chromosome_selection_dict[random_chromosomes_list[2]])) or\n",
        "            (all_interactions_adjacency_list[0][i].startswith(random_chromosome_selection_dict[random_chromosomes_list[3]]))\n",
        "             ):\n",
        "    random_interaction_counter+=1\n",
        "random_interaction_counter"
      ]
    },
    {
      "cell_type": "code",
      "execution_count": null,
      "metadata": {
        "id": "iXY6Oac7_ups"
      },
      "outputs": [],
      "source": [
        "random_cnv_partner=[]\n",
        "random_noncnv_partner=[]\n",
        "for i in range(len(all_interactions_adjacency_list)):\n",
        "  if ((all_interactions_adjacency_list[0][i] in cnv_genes_list) ^ (all_interactions_adjacency_list[1][i] in cnv_genes_list)):\n",
        "    # if ((all_interactions_adjacency_list[0][i] in all_average_tpms.keys()) and (all_interactions_adjacency_list[1][i] in all_average_tpms.keys())):\n",
        "    if((all_interactions_adjacency_list[0][i] in cnv_genes_list) and\n",
        "       ((all_interactions_adjacency_list[1][i].startswith(random_chromosome_selection_dict[random_chromosomes_list[0]])) or \n",
        "            (all_interactions_adjacency_list[1][i].startswith(random_chromosome_selection_dict[random_chromosomes_list[1]])) or\n",
        "            (all_interactions_adjacency_list[1][i].startswith(random_chromosome_selection_dict[random_chromosomes_list[2]])) or\n",
        "            (all_interactions_adjacency_list[1][i].startswith(random_chromosome_selection_dict[random_chromosomes_list[3]])))):\n",
        "      random_cnv_partner.append(all_interactions_adjacency_list[0][i])\n",
        "      random_noncnv_partner.append(all_interactions_adjacency_list[1][i])\n",
        "    elif((all_interactions_adjacency_list[1][i] in cnv_genes_list) and\n",
        "       ((all_interactions_adjacency_list[0][i].startswith(random_chromosome_selection_dict[random_chromosomes_list[0]])) or \n",
        "            (all_interactions_adjacency_list[0][i].startswith(random_chromosome_selection_dict[random_chromosomes_list[1]])) or\n",
        "            (all_interactions_adjacency_list[0][i].startswith(random_chromosome_selection_dict[random_chromosomes_list[2]])) or\n",
        "            (all_interactions_adjacency_list[0][i].startswith(random_chromosome_selection_dict[random_chromosomes_list[3]])))):\n",
        "      random_cnv_partner.append(all_interactions_adjacency_list[1][i])\n",
        "      random_noncnv_partner.append(all_interactions_adjacency_list[0][i])\n",
        "      \n"
      ]
    },
    {
      "cell_type": "code",
      "execution_count": null,
      "metadata": {
        "colab": {
          "base_uri": "https://localhost:8080/"
        },
        "id": "dtAnJNh0Cz7Z",
        "outputId": "6c36e6f8-67fb-4b9e-e995-d17c9c9351e2"
      },
      "outputs": [
        {
          "data": {
            "text/plain": [
              "24.187508260761017"
            ]
          },
          "execution_count": 52,
          "metadata": {},
          "output_type": "execute_result"
        }
      ],
      "source": [
        "len(random_cnv_partner)*100/random_interaction_counter"
      ]
    },
    {
      "cell_type": "code",
      "execution_count": null,
      "metadata": {
        "colab": {
          "base_uri": "https://localhost:8080/"
        },
        "id": "JtOC8iRxeXVS",
        "outputId": "91bdb887-6931-4597-ee3f-c71963333592"
      },
      "outputs": [
        {
          "data": {
            "text/plain": [
              "72.68441690041561"
            ]
          },
          "execution_count": 53,
          "metadata": {},
          "output_type": "execute_result"
        }
      ],
      "source": [
        "random_noncnv_1_partner=[]\n",
        "random_noncnv_2_partner=[]\n",
        "for i in range(len(all_interactions_adjacency_list)):\n",
        "  if ((all_interactions_adjacency_list[0][i] not in cnv_genes_list) and (all_interactions_adjacency_list[1][i] not in cnv_genes_list)):\n",
        "    if((all_interactions_adjacency_list[1][i].startswith(random_chromosome_selection_dict[random_chromosomes_list[0]])) or \n",
        "            (all_interactions_adjacency_list[1][i].startswith(random_chromosome_selection_dict[random_chromosomes_list[1]])) or\n",
        "            (all_interactions_adjacency_list[1][i].startswith(random_chromosome_selection_dict[random_chromosomes_list[2]])) or\n",
        "            (all_interactions_adjacency_list[1][i].startswith(random_chromosome_selection_dict[random_chromosomes_list[3]])) or\n",
        "            (all_interactions_adjacency_list[0][i].startswith(random_chromosome_selection_dict[random_chromosomes_list[0]])) or \n",
        "            (all_interactions_adjacency_list[0][i].startswith(random_chromosome_selection_dict[random_chromosomes_list[1]])) or\n",
        "            (all_interactions_adjacency_list[0][i].startswith(random_chromosome_selection_dict[random_chromosomes_list[2]])) or\n",
        "            (all_interactions_adjacency_list[0][i].startswith(random_chromosome_selection_dict[random_chromosomes_list[3]]))):\n",
        "      if((all_interactions_adjacency_list[0][i] in random_noncnv_partner) or (all_interactions_adjacency_list[1][i] in random_noncnv_partner)):\n",
        "        random_noncnv_1_partner.append(all_interactions_adjacency_list[0][i])\n",
        "        random_noncnv_2_partner.append(all_interactions_adjacency_list[1][i])\n",
        "\n",
        "    \n",
        "\n",
        "len(random_noncnv_1_partner)*100/random_interaction_counter"
      ]
    },
    {
      "cell_type": "code",
      "execution_count": null,
      "metadata": {
        "colab": {
          "base_uri": "https://localhost:8080/"
        },
        "id": "2je_aur2Cz1v",
        "outputId": "67c95bf5-cc01-412a-8874-5ec213e0966e"
      },
      "outputs": [
        {
          "data": {
            "text/plain": [
              "0.8444333485086573"
            ]
          },
          "execution_count": 54,
          "metadata": {},
          "output_type": "execute_result"
        }
      ],
      "source": [
        "random_noncnv_1_partner=[]\n",
        "random_noncnv_2_partner=[]\n",
        "for i in range(len(all_interactions_adjacency_list)):\n",
        "  if ((all_interactions_adjacency_list[0][i] not in cnv_genes_list) and (all_interactions_adjacency_list[1][i] not in cnv_genes_list)):\n",
        "    if(((all_interactions_adjacency_list[1][i].startswith(random_chromosome_selection_dict[random_chromosomes_list[0]])) or \n",
        "            (all_interactions_adjacency_list[1][i].startswith(random_chromosome_selection_dict[random_chromosomes_list[1]])) or\n",
        "            (all_interactions_adjacency_list[1][i].startswith(random_chromosome_selection_dict[random_chromosomes_list[2]])) or\n",
        "            (all_interactions_adjacency_list[1][i].startswith(random_chromosome_selection_dict[random_chromosomes_list[3]]))) or\n",
        "       ((all_interactions_adjacency_list[0][i].startswith(random_chromosome_selection_dict[random_chromosomes_list[0]])) or \n",
        "            (all_interactions_adjacency_list[0][i].startswith(random_chromosome_selection_dict[random_chromosomes_list[1]])) or\n",
        "            (all_interactions_adjacency_list[0][i].startswith(random_chromosome_selection_dict[random_chromosomes_list[2]])) or\n",
        "            (all_interactions_adjacency_list[0][i].startswith(random_chromosome_selection_dict[random_chromosomes_list[3]])))):\n",
        "      if((all_interactions_adjacency_list[0][i] not in random_noncnv_partner) and (all_interactions_adjacency_list[1][i] not in random_noncnv_partner)):\n",
        "        random_noncnv_1_partner.append(all_interactions_adjacency_list[0][i])\n",
        "        random_noncnv_2_partner.append(all_interactions_adjacency_list[1][i])\n",
        "\n",
        "    \n",
        "\n",
        "len(random_noncnv_2_partner)*100/random_interaction_counter"
      ]
    },
    {
      "cell_type": "code",
      "execution_count": null,
      "metadata": {
        "colab": {
          "base_uri": "https://localhost:8080/"
        },
        "id": "lDQHZ20uB82m",
        "outputId": "e140f39d-df8e-446d-d42b-e4fe5f2e8693"
      },
      "outputs": [
        {
          "data": {
            "text/plain": [
              "[SpearmanrResult(correlation=0.17914847794737734, pvalue=1.5996839643730455e-91),\n",
              " SpearmanrResult(correlation=0.13280410373746193, pvalue=9.0544012794161e-45),\n",
              " SpearmanrResult(correlation=0.15596491447109578, pvalue=1.1477209436436014e-82),\n",
              " SpearmanrResult(correlation=0.18535295328599122, pvalue=4.5447340678255155e-91),\n",
              " SpearmanrResult(correlation=0.14889461749481164, pvalue=2.522043360448114e-66)]"
            ]
          },
          "execution_count": 16,
          "metadata": {},
          "output_type": "execute_result"
        }
      ],
      "source": [
        "correlation_50_trials=[]\n",
        "for i in range(5):\n",
        "  random_chromosomes_list=random.sample(euploid_chromosome_list, 4)\n",
        "  random_chromosomes_list\n",
        "  cnv_partner=[]\n",
        "  noncnv_partner=[]\n",
        "  for i in range(len(all_interactions_adjacency_list)):\n",
        "    if ((all_interactions_adjacency_list[0][i] in cnv_genes_list) ^ (all_interactions_adjacency_list[1][i] in cnv_genes_list)):\n",
        "      if ((all_interactions_adjacency_list[0][i] in all_average_tpms.keys()) and (all_interactions_adjacency_list[1][i] in all_average_tpms.keys())):\n",
        "        if((all_interactions_adjacency_list[0][i] in cnv_genes_list) and (all_interactions_adjacency_list[0][i] in tpm_cnv_check_list) and \n",
        "          ((all_interactions_adjacency_list[1][i].startswith(random_chromosome_selection_dict[random_chromosomes_list[0]])) or \n",
        "            (all_interactions_adjacency_list[1][i].startswith(random_chromosome_selection_dict[random_chromosomes_list[1]])) or\n",
        "            (all_interactions_adjacency_list[1][i].startswith(random_chromosome_selection_dict[random_chromosomes_list[2]])) or\n",
        "            (all_interactions_adjacency_list[1][i].startswith(random_chromosome_selection_dict[random_chromosomes_list[3]])))):\n",
        "          cnv_partner.append(all_interactions_adjacency_list[0][i])\n",
        "          noncnv_partner.append(all_interactions_adjacency_list[1][i])\n",
        "        elif((all_interactions_adjacency_list[1][i] in cnv_genes_list) and (all_interactions_adjacency_list[1][i] in tpm_cnv_check_list) and \n",
        "            ((all_interactions_adjacency_list[0][i].startswith(random_chromosome_selection_dict[random_chromosomes_list[0]])) or \n",
        "              (all_interactions_adjacency_list[0][i].startswith(random_chromosome_selection_dict[random_chromosomes_list[1]])) or\n",
        "              (all_interactions_adjacency_list[0][i].startswith(random_chromosome_selection_dict[random_chromosomes_list[2]])) or\n",
        "              (all_interactions_adjacency_list[0][i].startswith(random_chromosome_selection_dict[random_chromosomes_list[3]])))):\n",
        "          cnv_partner.append(all_interactions_adjacency_list[1][i])\n",
        "          noncnv_partner.append(all_interactions_adjacency_list[0][i])\n",
        "  cnv_to_noncnv_tpm = pd.DataFrame()\n",
        "  cnv_to_noncnv_tpm['CNV Partners'] = cnv_partner\n",
        "  cnv_to_noncnv_tpm['NonCNV Partners'] = noncnv_partner\n",
        "  cnv_to_noncnv_tpm\n",
        "  counter=0\n",
        "  noncnv_tpm_sum=0\n",
        "  cnv_tpm=[]\n",
        "  noncnv_mean_tpm=[]\n",
        "  for i in range(len(cnv_to_noncnv_tpm['CNV Partners'])):\n",
        "    target_cnv=cnv_to_noncnv_tpm['CNV Partners'][i]\n",
        "    cnv_tpm.append(all_average_tpms[target_cnv])\n",
        "    noncnv_mean_tpm.append(all_average_tpms[cnv_to_noncnv_tpm['NonCNV Partners'][i]])\n",
        "  res = stats.spearmanr(cnv_tpm, noncnv_mean_tpm)\n",
        "  correlation_50_trials.append(res)\n",
        "correlation_50_trials"
      ]
    },
    {
      "cell_type": "code",
      "execution_count": null,
      "metadata": {
        "colab": {
          "base_uri": "https://localhost:8080/"
        },
        "id": "APq6c6ZHEW7w",
        "outputId": "c2cb5e52-b776-480c-e8c3-caa79e07006e"
      },
      "outputs": [
        {
          "data": {
            "text/plain": [
              "(-0.011594960447918724, 0.788447944214931)"
            ]
          },
          "execution_count": 30,
          "metadata": {},
          "output_type": "execute_result"
        }
      ],
      "source": [
        "counter=0\n",
        "noncnv_tpm_sum=0\n",
        "cnv_tpm=[]\n",
        "noncnv_mean_tpm=[]\n",
        "for i in range(len(cnv_to_noncnv_tpm['CNV Partners'])):\n",
        "  target_cnv=cnv_to_noncnv_tpm['CNV Partners'][i]\n",
        "  # noncnv_partners = list(cnv_to_noncnv_tpm[cnv_to_noncnv_tpm['CNV Partners'] == target_cnv]['NonCNV Partners'])\n",
        "  cnv_tpm.append(all_average_tpms[target_cnv])\n",
        "  # noncnv_tpm_sum=0\n",
        "\n",
        "  # for i in noncnv_partners:\n",
        "    # noncnv_tpm_sum+=all_average_tpms[i]\n",
        "  \n",
        "  # noncnv_mean_tpm.append(noncnv_tpm_sum/len(noncnv_partners))\n",
        "  noncnv_mean_tpm.append(all_average_tpms[cnv_to_noncnv_tpm['NonCNV Partners'][i]])\n",
        "\n",
        "\n",
        "res = stats.pearsonr(cnv_tpm, noncnv_mean_tpm)\n",
        "res"
      ]
    },
    {
      "cell_type": "code",
      "execution_count": null,
      "metadata": {
        "id": "KXePXPaysSCx"
      },
      "outputs": [],
      "source": [
        "tpm_noncnv_to_noncnv = pd.DataFrame()\n",
        "\n",
        "gene_1_tpm = []\n",
        "gene_2_tpm = []\n",
        "for i in range(len(all_interactions_adjacency_list)):\n",
        "  if ((all_interactions_adjacency_list[0][i] not in cnv_genes_list) ^ (all_interactions_adjacency_list[1][i] not in cnv_genes_list)):\n",
        "    # if((all_interactions_adjacency_list[0][i] not in tpm_cnv_check_list) and (all_interactions_adjacency_list[1][i] not in tpm_cnv_check_list)):\n",
        "    if ((all_interactions_adjacency_list[0][i] in tpm_dict.keys()) and (all_interactions_adjacency_list[1][i] in tpm_dict.keys())):\n",
        "        gene_1_tpm.append(tpm_dict[all_interactions_adjacency_list[0][i]])\n",
        "        gene_2_tpm.append(tpm_dict[all_interactions_adjacency_list[1][i]])"
      ]
    },
    {
      "cell_type": "code",
      "execution_count": null,
      "metadata": {
        "colab": {
          "base_uri": "https://localhost:8080/",
          "height": 217
        },
        "id": "HintTIPbt5GI",
        "outputId": "232a67c2-15e9-41a2-9103-596738e13974"
      },
      "outputs": [
        {
          "ename": "NameError",
          "evalue": "ignored",
          "output_type": "error",
          "traceback": [
            "\u001b[0;31m---------------------------------------------------------------------------\u001b[0m",
            "\u001b[0;31mNameError\u001b[0m                                 Traceback (most recent call last)",
            "\u001b[0;32m<ipython-input-39-f46c0c249b99>\u001b[0m in \u001b[0;36m<module>\u001b[0;34m\u001b[0m\n\u001b[0;32m----> 1\u001b[0;31m \u001b[0mtpm_noncnv_to_noncnv\u001b[0m\u001b[0;34m[\u001b[0m\u001b[0;34m'gene_1_tpm'\u001b[0m\u001b[0;34m]\u001b[0m \u001b[0;34m=\u001b[0m \u001b[0mgene_1_tpm\u001b[0m\u001b[0;34m\u001b[0m\u001b[0;34m\u001b[0m\u001b[0m\n\u001b[0m\u001b[1;32m      2\u001b[0m \u001b[0mtpm_noncnv_to_noncnv\u001b[0m\u001b[0;34m[\u001b[0m\u001b[0;34m'gene_2_tpm'\u001b[0m\u001b[0;34m]\u001b[0m \u001b[0;34m=\u001b[0m \u001b[0mgene_2_tpm\u001b[0m\u001b[0;34m\u001b[0m\u001b[0;34m\u001b[0m\u001b[0m\n\u001b[1;32m      3\u001b[0m \u001b[0mres\u001b[0m \u001b[0;34m=\u001b[0m \u001b[0mstats\u001b[0m\u001b[0;34m.\u001b[0m\u001b[0mspearmanr\u001b[0m\u001b[0;34m(\u001b[0m\u001b[0mtpm_noncnv_to_noncnv\u001b[0m\u001b[0;34m[\u001b[0m\u001b[0;34m'gene_1_tpm'\u001b[0m\u001b[0;34m]\u001b[0m\u001b[0;34m,\u001b[0m \u001b[0mtpm_noncnv_to_noncnv\u001b[0m\u001b[0;34m[\u001b[0m\u001b[0;34m'gene_2_tpm'\u001b[0m\u001b[0;34m]\u001b[0m\u001b[0;34m)\u001b[0m\u001b[0;34m\u001b[0m\u001b[0;34m\u001b[0m\u001b[0m\n\u001b[1;32m      4\u001b[0m \u001b[0mres\u001b[0m\u001b[0;34m\u001b[0m\u001b[0;34m\u001b[0m\u001b[0m\n",
            "\u001b[0;31mNameError\u001b[0m: name 'tpm_noncnv_to_noncnv' is not defined"
          ]
        }
      ],
      "source": [
        "tpm_noncnv_to_noncnv['gene_1_tpm'] = gene_1_tpm\n",
        "tpm_noncnv_to_noncnv['gene_2_tpm'] = gene_2_tpm\n",
        "res = stats.spearmanr(tpm_noncnv_to_noncnv['gene_1_tpm'], tpm_noncnv_to_noncnv['gene_2_tpm'])\n",
        "res"
      ]
    },
    {
      "cell_type": "code",
      "execution_count": null,
      "metadata": {
        "colab": {
          "background_save": true,
          "base_uri": "https://localhost:8080/"
        },
        "id": "bBfQqlZ8rdKZ",
        "outputId": "72dad570-2e7f-4564-c741-99fbca22ccef"
      },
      "outputs": [
        {
          "data": {
            "text/plain": [
              "SignificanceResult(statistic=0.2258448496370991, pvalue=8.170550227552128e-71)"
            ]
          },
          "execution_count": 24,
          "metadata": {},
          "output_type": "execute_result"
        }
      ],
      "source": [
        "tpm_cnv_to_cnv['gene_1_tpm'] = gene_1_tpm\n",
        "tpm_cnv_to_cnv['gene_2_tpm'] = gene_2_tpm\n",
        "res = stats.spearmanr(tpm_cnv_to_cnv['gene_1_tpm'], tpm_cnv_to_cnv['gene_2_tpm'])\n",
        "res"
      ]
    },
    {
      "cell_type": "code",
      "execution_count": null,
      "metadata": {
        "colab": {
          "base_uri": "https://localhost:8080/",
          "height": 1000
        },
        "id": "GXaEWV6hxAGP",
        "outputId": "0e51a4ea-2c99-4300-d268-aaed84a01988"
      },
      "outputs": [
        {
          "data": {
            "text/html": [
              "<html>\n",
              "<head><meta charset=\"utf-8\" /></head>\n",
              "<body>\n",
              "    <div>            <script src=\"https://cdnjs.cloudflare.com/ajax/libs/mathjax/2.7.5/MathJax.js?config=TeX-AMS-MML_SVG\"></script><script type=\"text/javascript\">if (window.MathJax) {MathJax.Hub.Config({SVG: {font: \"STIX-Web\"}});}</script>                <script type=\"text/javascript\">window.PlotlyConfig = {MathJaxConfig: 'local'};</script>\n",
              "        <script src=\"https://cdn.plot.ly/plotly-2.8.3.min.js\"></script>                <div id=\"0bddbd43-9787-4139-9595-6101167a6571\" class=\"plotly-graph-div\" style=\"height:1000px; width:1800px;\"></div>            <script type=\"text/javascript\">                                    window.PLOTLYENV=window.PLOTLYENV || {};                                    if (document.getElementById(\"0bddbd43-9787-4139-9595-6101167a6571\")) {                    Plotly.newPlot(                        \"0bddbd43-9787-4139-9595-6101167a6571\",                        [{\"hovertemplate\":\"gene_1_tpm=%{x}<br>gene_2_tpm=%{y}<extra></extra>\",\"legendgroup\":\"\",\"marker\":{\"color\":\"black\",\"symbol\":\"circle\"},\"mode\":\"markers\",\"name\":\"\",\"showlegend\":false,\"x\":[69.5,69.5,69.5,69.5,69.5,69.5,69.5,69.5,69.5,69.5,69.5,69.5,69.5,69.5,69.5,16.0,16.0,16.0,16.0,16.0,16.0,16.0,16.0,16.0,16.0,16.0,16.0,16.0,16.0,21.5,21.5,21.5,21.5,21.5,21.5,21.5,21.5,21.5,21.5,21.5,21.5,21.5,21.5,21.5,21.5,21.5,21.5,21.5,21.5,21.5,28.25,28.25,28.25,28.25,28.25,28.25,28.25,28.25,28.25,28.25,28.25,36.5,36.5,36.5,36.5,36.5,36.5,36.5,15.25,15.25,15.25,15.25,15.25,15.25,15.25,15.25,15.25,15.25,15.25,15.25,15.25,15.25,9.5,9.5,9.5,9.5,9.5,9.5,35.25,35.25,35.25,35.25,35.25,35.25,35.25,35.25,35.25,35.25,35.25,35.25,35.25,35.25,35.25,35.25,35.25,35.25,35.25,35.25,35.25,35.25,35.25,35.25,35.25,35.25,35.25,35.25,24.75,24.75,24.75,13.75,13.75,13.75,13.75,13.75,13.75,13.75,13.75,13.75,37.0,37.0,37.0,37.0,37.0,37.0,37.0,37.0,37.0,154.0,154.0,154.0,154.0,154.0,154.0,154.0,154.0,154.0,154.0,154.0,154.0,154.0,154.0,154.0,154.0,154.0,154.0,154.0,154.0,154.0,154.0,154.0,154.0,154.0,154.0,154.0,154.0,154.0,154.0,154.0,154.0,154.0,154.0,154.0,154.0,154.0,59.25,59.25,59.25,59.25,59.25,59.25,59.25,59.25,59.25,59.25,59.25,59.25,59.25,59.25,59.25,59.25,59.25,59.25,59.25,59.25,59.25,59.25,59.25,59.25,59.25,59.25,59.25,59.25,59.25,59.25,59.25,59.25,59.25,59.25,59.25,59.25,59.25,59.25,59.25,59.25,59.25,59.25,106.25,106.25,106.25,106.25,106.25,106.25,105.0,105.0,105.0,105.0,105.0,105.0,105.0,105.0,105.0,105.0,105.0,63.0,63.0,80.75,80.75,80.75,80.75,80.75,80.75,80.75,80.75,80.75,80.75,80.75,80.75,80.75,80.75,80.75,80.75,80.75,80.75,80.75,80.75,80.75,80.75,80.75,80.75,80.75,80.75,80.75,80.75,80.75,80.75,80.75,80.75,80.75,80.75,80.75,80.75,80.75,80.75,80.75,80.75,80.75,80.75,80.75,80.75,80.75,80.75,80.75,80.75,80.75,80.75,80.75,80.75,80.75,80.75,80.75,80.75,80.75,80.75,80.75,80.75,80.75,80.75,80.75,80.75,80.75,80.75,80.75,80.75,80.75,80.75,80.75,80.75,80.75,80.75,80.75,80.75,59.75,59.75,59.75,59.75,59.75,59.75,59.75,59.75,59.75,59.75,59.75,59.75,59.75,59.75,59.75,59.75,59.75,59.75,59.75,59.75,59.75,59.75,59.75,59.75,59.75,59.75,59.75,59.75,59.75,59.75,59.75,59.75,59.75,59.75,59.75,113.25,113.25,113.25,113.25,113.25,113.25,113.25,113.25,113.25,113.25,113.25,113.25,113.25,113.25,113.25,113.25,113.25,113.25,113.25,113.25,113.25,113.25,113.25,113.25,113.25,113.25,113.25,113.25,113.25,113.25,113.25,113.25,113.25,113.25,113.25,113.25,113.25,113.25,113.25,113.25,113.25,113.25,113.25,113.25,113.25,113.25,113.25,113.25,113.25,113.25,113.25,113.25,137.5,137.5,137.5,137.5,137.5,137.5,137.5,137.5,137.5,137.5,137.5,137.5,137.5,137.5,137.5,137.5,137.5,137.5,137.5,137.5,171.0,171.0,171.0,171.0,171.0,171.0,171.0,171.0,171.0,171.0,171.0,171.0,171.0,171.0,171.0,171.0,171.0,171.0,171.0,171.0,171.0,171.0,171.0,171.0,171.0,171.0,171.0,171.0,171.0,171.0,171.0,171.0,171.0,171.0,171.0,171.0,171.0,171.0,171.0,171.0,171.0,171.0,171.0,171.0,78.5,78.5,78.5,78.5,78.5,78.5,78.5,78.5,78.5,78.5,78.5,78.5,78.5,78.5,78.5,78.5,78.5,78.5,78.5,78.5,78.5,78.5,78.5,78.5,78.5,78.5,78.5,78.5,206.75,206.75,206.75,206.75,206.75,206.75,206.75,206.75,206.75,206.75,206.75,206.75,206.75,206.75,206.75,206.75,206.75,206.75,206.75,206.75,206.75,206.75,206.75,206.75,206.75,206.75,206.75,206.75,206.75,206.75,206.75,206.75,64.75,64.75,64.75,64.75,64.75,64.75,64.75,64.75,64.75,64.75,64.75,64.75,64.75,64.75,69.0,73.5,73.5,73.5,139.75,139.75,139.75,139.75,139.75,139.75,139.75,139.75,139.75,139.75,139.75,139.75,139.75,139.75,22.0,22.0,22.0,126.5,126.5,126.5,126.5,126.5,126.5,126.5,126.5,126.5,126.5,126.5,126.5,126.5,126.5,126.5,126.5,126.5,126.5,126.5,126.5,57.0,57.0,57.0,57.0,57.0,57.0,57.0,57.0,57.0,57.0,2.75,2.75,2.75,2.75,2.75,2.75,2.75,2.75,2.75,2.75,2.75,2.75,2.75,2.75,2.75,47.25,47.25,47.25,47.25,47.25,47.25,50.75,50.75,50.75,50.75,50.75,50.75,50.75,50.75,50.75,50.75,50.75,50.75,50.75,50.75,50.75,50.75,50.75,50.75,50.75,50.75,50.75,48.0,48.0,48.0,48.0,48.0,48.0,48.0,48.0,48.0,48.0,48.0,48.0,48.0,48.0,48.0,48.0,48.0,53.0,53.0,53.0,53.0,53.0,53.0,53.0,53.0,53.0,53.0,53.0,53.0,53.0,53.0,53.0,53.0,53.0,53.0,53.0,53.0,53.0,53.0,53.0,53.0,53.0,53.0,53.0,53.0,53.0,53.0,104.0,104.0,104.0,104.0,104.0,104.0,104.0,104.0,104.0,104.0,104.0,104.0,104.0,104.0,104.0,104.0,3.0,3.0,3.0,3.0,3.0,3.0,3.0,3.0,124.5,124.5,124.5,124.5,124.5,124.5,124.5,124.5,124.5,60.25,60.25,60.25,60.25,60.25,60.25,60.25,60.25,60.25,60.25,60.25,60.25,60.25,60.25,143.75,143.75,143.75,143.75,143.75,143.75,143.75,143.75,143.75,143.75,143.75,143.75,143.75,143.75,143.75,143.75,143.75,143.75,143.75,143.75,143.75,143.75,143.75,143.75,143.75,55.0,62.5,62.5,62.5,62.5,62.5,54.25,54.25,54.25,54.25,54.25,54.25,54.25,54.25,54.25,54.25,54.25,54.25,54.25,54.25,54.25,54.25,54.25,54.25,54.25,54.25,54.25,54.25,54.25,54.25,54.25,54.25,54.25,54.25,54.25,54.25,54.25,54.25,54.25,54.25,54.25,85.0,85.0,85.0,27.0,27.0,27.0,27.0,27.0,27.0,27.0,502.25,502.25,502.25,502.25,502.25,502.25,502.25,502.25,502.25,502.25,502.25,502.25,502.25,502.25,502.25,502.25,27.0,27.0,27.0,27.0,76.0,76.0,76.0,76.0,76.0,76.0,76.0,76.0,76.0,76.0,76.0,76.0,76.0,76.0,76.0,76.0,76.0,76.0,76.0,76.0,76.0,76.0,76.0,76.0,76.0,76.0,76.0,76.0,76.0,76.0,76.0,76.0,76.0,76.0,76.0,76.0,76.0,76.0,76.0,76.0,76.0,76.0,76.0,76.0,76.0,76.0,76.0,76.0,76.0,76.0,76.0,76.0,76.0,76.0,76.0,76.0,76.0,76.0,76.0,76.0,76.0,76.0,76.0,76.0,76.0,76.0,76.0,76.0,76.0,76.0,76.0,76.0,76.0,76.0,76.0,76.0,76.0,76.0,76.0,76.0,76.0,76.0,76.0,76.0,76.0,76.0,76.0,76.0,76.0,76.0,76.0,76.0,76.0,76.0,76.0,76.0,76.0,76.0,76.0,76.0,76.0,76.0,76.0,76.0,76.0,10.5,77.25,77.25,77.25,77.25,77.25,77.25,77.25,77.25,77.25,77.25,65.75,65.75,65.75,65.75,65.75,65.75,65.75,65.75,65.75,65.75,65.75,65.75,65.75,65.75,65.75,65.75,65.75,65.75,65.75,65.75,65.75,165.25,165.25,165.25,165.25,165.25,165.25,165.25,165.25,165.25,165.25,165.25,165.25,165.25,165.25,165.25,165.25,165.25,165.25,165.25,165.25,165.25,165.25,165.25,165.25,165.25,165.25,165.25,165.25,165.25,165.25,60.75,60.75,60.75,60.75,60.75,60.75,60.75,60.75,60.75,60.75,60.75,60.75,60.75,60.75,60.75,60.75,60.75,60.75,60.75,60.75,60.75,60.75,60.75,60.75,60.75,60.75,60.75,60.75,60.75,60.75,60.75,60.75,60.75,60.75,60.75,60.75,60.75,60.75,60.75,60.75,60.75,60.75,60.75,60.75,60.75,60.75,60.75,60.75,60.75,60.75,60.75,60.75,60.75,60.75,60.75,60.75,60.75,60.75,60.75,60.75,60.75,60.75,60.75,60.75,60.75,60.75,60.75,60.75,60.75,60.75,60.75,60.75,60.75,60.75,60.75,60.75,60.75,60.75,60.75,60.75,60.75,60.75,60.75,60.75,60.75,60.75,60.75,60.75,60.75,60.75,60.75,60.75,60.75,60.75,60.75,60.75,60.75,60.75,60.75,60.75,373.75,373.75,373.75,373.75,373.75,373.75,373.75,373.75,373.75,373.75,373.75,72.75,72.75,72.75,72.75,72.75,72.75,72.75,72.75,72.75,72.75,72.75,72.75,72.75,72.75,72.75,72.75,72.75,72.75,72.75,72.75,72.75,72.75,72.75,72.75,72.75,144.0,144.0,144.0,144.0,144.0,144.0,144.0,144.0,144.0,144.0,81.5,81.5,81.5,81.5,81.5,81.5,81.5,81.5,81.5,81.5,81.5,81.5,81.5,81.5,81.5,81.5,81.5,81.5,81.5,81.5,81.5,81.5,81.5,81.5,81.5,81.5,81.5,81.5,81.5,81.5,81.5,81.5,47.75,47.75,47.75,47.75,47.75,47.75,47.75,47.75,47.75,47.75,47.75,47.75,47.75,47.75,47.75,47.75,47.75,47.75,47.75,47.75,25.25,25.25,25.25,25.25,25.25,25.25,25.25,25.25,25.25,25.25,25.25,65.75,65.75,65.75,65.75,65.75,65.75,65.75,65.75,65.75,65.75,65.75,65.75,65.75,65.75,65.75,65.75,65.75,73.0,73.0,73.0,73.0,73.0,73.0,73.0,73.0,73.0,73.0,73.0,73.0,73.0,73.0,73.0,73.0,73.0,73.0,73.0,53.0,53.0,53.0,53.0,53.0,53.0,53.0,53.0,53.0,53.0,53.0,53.0,53.0,63.75,63.75,63.75,63.75,63.75,63.75,63.75,63.75,78.25,78.25,78.25,78.25,78.25,78.25,78.25,78.25,78.25,78.25,78.25,78.25,78.25,78.25,78.25,78.25,78.25,78.25,78.25,78.25,78.25,78.25,33.0,33.0,33.0,33.0,33.0,33.0,15.5,15.5,15.5,20.25,20.25,20.25,20.25,10.75,10.75,10.75,100.0,100.0,100.0,100.0,100.0,100.0,100.0,100.0,100.0,100.0,100.0,100.0,100.0,100.0,100.0,100.0,100.0,100.0,100.0,100.0,100.0,100.0,100.0,100.0,100.0,100.0,100.0,100.0,100.0,100.0,100.0,100.0,100.0,100.0,100.0,100.0,100.0,100.0,100.0,100.0,100.0,100.0,100.0,100.0,100.0,100.0,100.0,100.0,100.0,100.0,100.0,100.0,100.0,100.0,100.0,100.0,100.0,100.0,100.0,100.0,100.0,100.0,100.0,100.0,100.0,100.0,100.0,100.0,100.0,100.0,100.0,100.0,100.0,100.0,100.0,100.0,100.0,100.0,100.0,100.0,100.0,100.0,100.0,100.0,100.0,100.0,100.0,100.0,100.0,100.0,100.0,100.0,100.0,100.0,100.0,100.0,100.0,100.0,100.0,100.0,100.0,100.0,100.0,100.0,100.0,100.0,100.0,100.0,100.0,100.0,100.0,100.0,100.0,100.0,100.0,100.0,100.0,100.0,100.0,100.0,100.0,100.0,100.0,100.0,100.0,100.0,100.0,100.0,100.0,100.0,100.0,100.0,100.0,100.0,100.0,100.0,100.0,100.0,100.0,100.0,100.0,100.0,100.0,100.0,100.0,48.75,48.75,48.75,48.75,48.75,48.75,48.75,48.75,48.75,48.75,48.75,48.75,48.75,59.25,59.25,59.25,59.25,59.25,59.25,59.25,59.25,59.25,59.25,59.25,59.25,59.25,59.25,59.25,87.5,87.5,87.5,87.5,87.5,87.5,87.5,87.5,87.5,87.5,87.5,77.75,77.75,77.75,77.75,77.75,77.75,77.75,77.75,77.75,77.75,77.75,77.75,77.75,77.75,77.75,77.75,77.75,77.75,77.75,77.75,77.75,77.75,77.75,353.0,353.0,353.0,353.0,353.0,353.0,353.0,353.0,353.0,353.0,269.75,269.75,269.75,269.75,269.75,269.75,269.75,269.75,269.75,269.75,269.75,269.75,269.75,269.75,269.75,269.75,269.75,269.75,263.5,263.5,263.5,263.5,263.5,263.5,263.5,263.5,263.5,263.5,244.5,244.5,244.5,244.5,244.5,244.5,244.5,244.5,244.5,244.5,244.5,244.5,244.5,244.5,244.5,244.5,244.5,244.5,244.5,244.5,244.5,244.5,244.5,244.5,244.5,244.5,244.5,244.5,244.5,244.5,244.5,244.5,244.5,244.5,168.5,168.5,168.5,168.5,168.5,168.5,168.5,168.5,168.5,168.5,168.5,168.5,168.5,168.5,168.5,168.5,137.5,137.5,137.5,137.5,137.5,137.5,137.5,137.5,204.25,204.25,204.25,204.25,204.25,204.25,204.25,204.25,204.25,124.0,124.0,124.0,124.0,124.0,124.0,124.0,124.0,124.0,124.0,124.0,124.0,124.0,124.0,124.0,124.0,124.0,124.0,124.0,124.0,124.0,124.0,124.0,124.0,124.0,124.0,124.0,20.0,20.0,20.0,20.0,20.0,20.0,20.0,20.0,20.0,20.0,20.0,20.0,20.0,26.5,26.5,26.5,26.5,26.5,26.5,26.5,26.5,26.5,26.5,26.5,26.5,26.5,26.5,26.5,26.5,26.5,26.5,26.5,26.5,26.5,26.5,26.5,26.5,26.5,26.5,26.5,26.5,26.5,26.5,26.5,26.5,26.5,26.5,26.5,26.5,26.5,26.5,26.5,26.5,26.5,26.5,26.5,26.5,26.5,26.5,26.5,26.5,26.5,26.5,26.5,26.5,26.5,26.5,26.5,26.5,26.5,26.5,26.5,26.5,26.5,26.5,26.5,26.5,26.5,26.5,26.5,26.5,26.5,26.5,26.5,44.75,44.75,44.75,44.75,44.75,44.75,44.75,44.75,44.75,44.75,44.75,44.75,44.75,44.75,44.75,44.75,44.75,44.75,44.75,44.75,44.75,44.75,44.75,44.75,44.75,44.75,44.75,44.75,44.75,44.75,44.75,44.75,44.75,44.75,44.75,44.75,44.75,44.75,44.75,44.75,44.75,44.75,44.75,44.75,44.75,44.75,44.75,44.75,44.75,44.75,44.75,44.75,44.75,44.75,44.75,44.75,44.75,44.75,44.75,44.75,44.75,44.75,44.75,44.75,44.75,44.75,44.75,44.75,44.75,44.75,44.75,44.75,44.75,44.75,44.75,44.75,44.75,44.75,44.75,44.75,44.75,44.75,44.75,44.75,44.75,44.75,44.75,44.75,44.75,44.75,44.75,44.75,44.75,44.75,44.75,44.75,44.75,44.75,44.75,44.75,44.75,44.75,44.75,44.75,44.75,44.75,44.75,44.75,44.75,44.75,44.75,44.75,44.75,44.75,74.5,74.5,74.5,74.5,42.25,42.25,42.25,42.25,42.25,42.25,42.25,42.25,42.25,42.25,42.25,42.25,42.25,42.25,42.25,42.25,42.25,42.25,42.25,42.25,42.25,42.25,42.25,26.75,26.75,26.75,26.75,26.75,26.75,26.75,26.75,75.25,75.25,75.25,75.25,75.25,75.25,75.25,75.25,75.25,75.25,75.25,55.75,55.75,55.75,55.75,55.75,55.75,55.75,16.25,16.25,16.25,16.25,38.5,38.5,38.5,38.5,38.5,89.0,89.0,89.0,89.0,89.0,89.0,89.0,89.0,89.0,89.0,89.0,89.0,89.0,89.0,89.0,36.5,12.75,12.75,12.75,12.75,12.75,12.75,12.75,12.75,12.75,12.75,12.75,12.75,12.75,12.75,27.75,27.75,27.75,27.75,27.75,27.75,27.75,41.5,41.5,41.5,41.5,41.5,41.5,24.5,24.5,24.5,24.5,776.25,776.25,776.25,776.25,776.25,776.25,776.25,776.25,776.25,776.25,776.25,776.25,776.25,776.25,776.25,776.25,776.25,776.25,776.25,776.25,776.25,776.25,776.25,776.25,776.25,776.25,776.25,776.25,776.25,776.25,776.25,776.25,776.25,776.25,776.25,776.25,776.25,776.25,776.25,776.25,776.25,776.25,776.25,776.25,776.25,776.25,776.25,776.25,776.25,776.25,776.25,776.25,776.25,776.25,776.25,776.25,776.25,776.25,776.25,776.25,776.25,776.25,776.25,776.25,776.25,776.25,776.25,776.25,776.25,776.25,776.25,776.25,776.25,776.25,776.25,776.25,776.25,776.25,776.25,776.25,776.25,776.25,776.25,776.25,776.25,776.25,776.25,692.0,692.0,692.0,692.0,692.0,692.0,692.0,692.0,692.0,692.0,692.0,692.0,692.0,692.0,692.0,692.0,692.0,692.0,692.0,692.0,692.0,692.0,692.0,692.0,692.0,692.0,692.0,692.0,692.0,692.0,692.0,692.0,692.0,692.0,692.0,692.0,692.0,692.0,692.0,692.0,692.0,692.0,692.0,692.0,692.0,692.0,692.0,692.0,692.0,692.0,692.0,692.0,692.0,692.0,692.0,692.0,692.0,692.0,692.0,692.0,692.0,692.0,692.0,692.0,692.0,692.0,692.0,692.0,692.0,692.0,692.0,692.0,692.0,692.0,692.0,692.0,692.0,692.0,692.0,692.0,692.0,692.0,692.0,692.0,692.0,692.0,692.0,692.0,692.0,692.0,692.0,692.0,692.0,692.0,692.0,692.0,692.0,692.0,692.0,692.0,692.0,692.0,692.0,692.0,692.0,692.0,692.0,692.0,692.0,692.0,692.0,692.0,692.0,692.0,692.0,692.0,692.0,692.0,692.0,692.0,692.0,692.0,11.5,11.5,11.5,11.5,11.5,11.5,11.5,11.5,11.5,11.5,11.5,11.5,11.5,11.5,11.5,11.5,11.5,11.5,11.5,11.5,11.5,11.5,68.0,68.0,68.0,14.75,14.75,14.75,31.75,31.75,31.75,37.5,37.5,37.5,16.5,16.5,16.5,16.5,16.5,16.5,16.5,27.0,27.0,27.0,27.0,27.0,27.0,27.0,33.25,33.25,33.25,33.25,132.0,132.0,132.0,132.0,132.0,132.0,132.0,132.0,65.25,65.25,65.25,65.25,65.25,65.25,65.25,65.25,65.25,65.25,65.25,65.25,65.25,65.25,65.25,15.0,15.0,15.0,15.0,15.0,15.0,15.0,15.0,15.0,15.0,31.5,31.5,31.5,31.5,31.5,120.75,120.75,120.75,120.75,120.75,120.75,120.75,120.75,120.75,120.75,120.75,120.75,120.75,120.75,120.75,120.75,120.75,120.75,120.75,120.75,120.75,120.75,120.75,120.75,120.75,120.75,120.75,120.75,120.75,120.75,120.75,120.75,120.75,120.75,120.75,120.75,120.75,120.75,120.75,120.75,120.75,120.75,120.75,120.75,120.75,120.75,120.75,120.75,120.75,120.75,52.75,52.75,52.75,52.75,52.75,52.75,52.75,52.75,52.75,52.75,52.75,52.75,52.75,52.75,52.75,52.75,52.75,52.75,52.75,31.5,31.5,31.5,31.5,40.25,40.25,40.25,40.25,40.25,40.25,40.25,40.25,40.25,40.25,40.25,40.25,40.25,40.25,40.25,40.25,40.25,40.25,40.25,40.25,40.25,40.25,40.25,40.25,40.25,40.25,40.25,40.25,40.25,40.25,40.25,40.25,40.25,40.25,40.25,40.25,40.25,40.25,40.25,40.25,40.25,37.5,37.5,37.5,37.5,37.5,38.75,38.75,38.75,38.75,38.75,38.75,38.75,38.75,94.0,94.0,94.0,94.0,94.0,94.0,94.0,94.0,94.0,94.0,48.75,48.75,48.75,48.75,48.75,48.75,48.75,48.75,48.75,26.75,26.75,26.75,26.75,26.75,26.75,26.75,26.75,26.75,26.75,26.75,14.0,14.0,14.0,14.0,14.0,14.0,8.75,8.75,8.75,8.75,8.75,8.75,8.75,8.75,8.75,8.75,8.75,8.75,8.75,8.75,8.75,14.25,14.25,14.25,50.5,50.5,50.5,80.0,80.0,80.0,80.0,80.0,80.0,80.0,80.0,80.0,80.0,80.0,80.0,80.0,80.0,80.0,80.0,80.0,80.0,80.0,80.0,80.0,38.75,38.75,38.75,38.75,10.25,10.25,10.25,10.25,10.25,20.0,20.0,20.0,74.25,74.25,74.25,74.25,74.25,74.25,74.25,74.25,74.25,74.25,74.25,74.25,74.25,74.25,74.25,183.25,183.25,183.25,183.25,183.25,84.0,84.0,84.0,84.0,84.0,84.0,84.0,84.0,84.0,84.0,84.0,84.0,118.0,118.0,118.0,118.0,118.0,118.0,118.0,118.0,118.0,118.0,18.75,18.75,18.75,15.5,15.5,15.5,15.5,12.75,12.75,12.75,12.75,12.75,12.75,12.75,12.75,12.75,12.75,12.75,25.75,25.75,25.75,25.75,25.75,25.75,25.75,14.25,14.25,14.25,14.25,14.25,11.75,11.75,11.75,11.75,11.75,11.75,11.75,11.75,68.0,68.0,68.0,68.0,68.0,68.0,68.0,68.0,68.0,68.0,68.0,68.0,68.0,68.0,68.0,68.0,68.0,68.0,68.0,68.0,68.0,68.0,68.0,68.0,68.0,68.0,32.75,32.75,32.75,32.75,32.75,32.75,32.75,32.75,32.75,32.75,32.75,32.75,32.75,18.75,18.75,18.75,18.75,18.75,18.75,18.75,18.75,18.75,18.75,18.75,18.75,68.5,68.5,68.5,68.5,68.5,68.5,68.5,68.5,68.5,22.25,22.25,22.25,22.25,22.25,22.25,44.75,44.75,44.75,44.75,44.75,44.75,44.75,44.75,44.75,44.75,44.75,44.75,44.75,44.75,44.75,44.75,44.75,44.75,44.75,44.75,44.75,44.75,44.75,44.75,44.75,44.75,44.75,44.75,7.0,7.0,7.0,7.0,7.0,7.0,52.5,52.5,52.5,52.5,52.5,52.5,52.5,52.5,52.5,148.5,148.5,148.5,148.5,148.5,148.5,148.5,151.25,39.0,39.0,39.0,39.0,39.0,39.0,39.0,230.5,230.5,230.5,230.5,230.5,230.5,230.5,230.5,230.5,230.5,230.5,230.5,230.5,230.5,230.5,230.5,230.5,230.5,230.5,230.5,45.5,45.5,45.5,45.5,45.5,45.5,45.5,45.5,45.5,45.5,45.5,45.5,45.5,45.5,13.25,13.25,13.25,13.25,32.5,32.5,86.75,86.75,86.75,86.75,86.75,86.75,86.75,86.75,140.75,140.75,140.75,140.75,140.75,22.5,22.5,22.5,22.5,22.5,22.5,22.5,22.5,22.5,45.5,45.5,45.5,45.5,45.5,45.5,13.5,18.75,18.75,18.75,18.75,18.75,45.0,45.0,45.0,45.0,45.0,45.0,45.0,45.0,45.0,45.0,45.0,45.0,45.0,45.0,45.0,45.0,45.0,45.0,45.0,45.0,45.0,45.0,45.0,45.0,45.0,45.0,45.0,45.0,45.0,45.0,45.0,45.0,45.0,45.0,45.0,45.0,45.0,45.0,45.0,45.0,45.0,45.0,45.0,45.0,45.0,45.0,45.0,45.0,45.0,45.0,45.0,45.0,45.0,45.0,45.0,45.0,45.0,45.0,45.0,45.0,45.0,45.0,45.0,45.0,45.0,45.0,45.0,45.0,45.0,45.0,45.0,45.0,45.0,45.0,45.0,45.0,45.0,45.0,45.0,45.0,45.0,45.0,45.0,45.0,45.0,45.0,45.0,45.0,45.0,45.0,45.0,45.0,45.0,45.0,45.0,45.0,45.0,45.0,45.0,45.0,45.0,45.0,45.0,45.0,45.0,45.0,45.0,45.0,45.0,45.0,45.0,45.0,45.0,45.0,45.0,45.0,45.0,45.0,45.0,45.0,45.0,45.0,45.0,45.0,45.0,45.0,45.0,45.0,45.0,45.0,45.0,45.0,45.0,45.0,45.0,45.0,45.0,45.0,45.0,45.0,45.0,45.0,45.0,45.0,45.0,45.0,45.0,45.0,45.0,45.0,14.25,14.25,9.25,17.0,17.0,43.5,68.5,68.5,68.5,68.5,12.75,8.5,8.5,8.5,8.5,8.5,8.5,8.5,8.5,8.5,8.5,8.5,8.5,8.5,8.5,8.5,8.5,8.5,8.5,8.5,8.5,8.5,8.5,8.5,53.75,15.0,20.25,20.25,20.25,20.25,20.25,20.25,20.25,20.5,20.5,91.25,91.25,91.25,91.25,91.25,100.75,148.0,148.0,148.0,148.0,148.0,148.0,148.0,148.0,148.0,148.0,148.0,42.5,42.5,42.5,42.5,42.5,42.5,42.5,42.5,42.5,35.0,35.0,35.0,35.0,35.0,35.0,35.0,35.0,53.25,53.25,53.25,53.25,53.25,53.25,53.25,53.25,53.25,53.25,53.25,53.25,53.25,53.25,53.25,53.25,53.25,53.25,53.25,53.25,53.25,53.25,53.25,53.25,53.25,53.25,86.0,86.0,86.0,77.0,77.0,77.0,1168.25,1168.25,1168.25,1168.25,1168.25,1168.25,1168.25,1168.25,1168.25,1168.25,1168.25,1168.25,1168.25,1168.25,1168.25,1168.25,1168.25,1168.25,1168.25,1168.25,1168.25,58.0,19.25,19.25,19.25,19.25,19.25,19.25,19.25,19.25,19.25,19.25,19.25,19.25,19.25,19.25,19.25,19.25,19.25,11.25,29.5,29.5,29.5,29.5,29.5,29.5,29.5,29.5,38.5,38.5,38.5,20.75,20.75,20.75,20.75,20.75,17.5,17.5,17.5,17.5,17.5,17.5,17.5,17.5,17.5,17.5,17.5,17.5,17.5,4.75,4.75,4.75,8.75,8.75,8.75,8.75,8.75,8.75,8.75,6.75,6.75,6.75,6.75,6.75,9.5,9.5,9.5,9.5,9.5,9.5,178.0,178.0,178.0,178.0,178.0,178.0,178.0,178.0,178.0,178.0,178.0,178.0,178.0,178.0,178.0,178.0,178.0,178.0,178.0,178.0,178.0,178.0,178.0,178.0,178.0,178.0,178.0,178.0,178.0,178.0,178.0,178.0,57.0,57.0,57.0,57.0,57.0,57.0,57.0,57.0,57.0,57.0,85.5,85.5,85.5,85.5,85.5,102.0,102.0,102.0,102.0,102.0,102.0,61.5,61.5,61.5,61.5,61.5,61.5,61.5,61.5,61.5,61.5,61.5,61.5,61.5,61.5,61.5,61.5,61.5,61.5,61.5,61.5,61.5,61.5,61.5,61.5,61.5,61.5,61.5,61.5,61.5,61.5,61.5,61.5,61.5,61.5,61.5,61.5,61.5,61.5,61.5,105.75,105.75,105.75,105.75,105.75,105.75,105.75,105.75,105.75,105.75,105.75,105.75,105.75,105.75,129.25,129.25,129.25,129.25,129.25,129.25,63.25,63.25,63.25,63.25,63.25,63.25,63.25,63.25,63.25,63.25,78.25,78.25,78.25,78.25,78.25,78.25,78.25,78.25,78.25,78.25,78.25,1209.5,1209.5,57.0,57.0,57.0,57.0,57.0,57.0,7.75,7.75,7.75,7.75,7.75,7.75,7.75,7.75,7.75,75.5,75.5,75.5,75.5,75.5,75.5,75.5,75.5,75.5,75.5,185.75,185.75,185.75,201.75,9.5,9.5,9.5,9.5,9.5,49.25,49.25,49.25,49.25,49.25,49.25,49.25,49.25,49.25,49.25,308.5,308.5,308.5,308.5,308.5,308.5,308.5,308.5,308.5,308.5,308.5,308.5,308.5,308.5,6.75,6.75,6.75,6.75,6.75,6.75,6.75,6.75,48.25,10.5,10.5,10.5,10.5,10.5,10.5,10.5,10.5,29.25,29.25,29.25,29.25,29.25,29.25,14.75,14.75,14.75,14.75,14.75,14.75,14.75,14.75,14.75,14.75,14.75,31.75,31.75,31.75,31.75,31.75,31.75,31.75,31.75,31.75,31.75,31.75,31.75,31.75,31.75,31.75,31.75,31.75,31.75,31.75,31.75,31.75,31.75,31.75,31.75,31.75,31.75,31.75,31.75,31.75,31.75,31.75,31.75,31.75,31.75,31.75,31.75,31.75,31.75,31.75,31.75,31.75,31.75,31.75,63.5,63.5,63.5,63.5,63.5,63.5,63.5,63.5,63.5,63.5,63.5,63.5,63.5,63.5,63.5,63.5,200.75,200.75,200.75,200.75,200.75,200.75,200.75,200.75,200.75,200.75,200.75,38.25,38.25,38.25,38.25,38.25,38.25,38.25,38.25,38.25,38.25,38.25,38.25,38.25,38.25,38.25,36.5,36.5,36.5,36.5,36.5,36.5,36.5,36.5,36.5,36.5,36.5,36.5,36.5,36.5,36.5,36.5,36.5,36.5,16.0,16.0,16.0,16.0,16.0,16.0,16.0,16.0,16.0,16.0,16.0,16.0,16.0,16.0,16.0,16.0,16.0,16.0,16.0,16.0,16.0,16.0,16.0,16.0,16.0,16.0,16.0,16.0,16.0,16.0,16.0,16.0,16.0,16.0,16.0,16.0,16.0,16.0,16.0,16.0,16.0,16.0,16.0,16.0,16.0,16.0,16.0,14.25,14.25,14.25,57.25,57.25,57.25,20.75,60.5,60.5,60.5,60.5,60.5,60.5,60.5,60.5,60.5,60.5,60.5,60.5,60.5,60.5,9.5,9.5,9.5,9.5,12.75,12.75,12.75,12.75,12.75,129.25,129.25,129.25,129.25,129.25,129.25,129.25,129.25,129.25,129.25,129.25,129.25,129.25,129.25,129.25,195.25,195.25,195.25,195.25,195.25,75.25,75.25,75.25,75.25,75.25,75.25,75.25,75.25,75.25,75.25,75.25,75.25,75.25,75.25,75.25,75.25,75.25,75.25,75.25,75.25,75.25,75.25,75.25,75.25,75.25,75.25,75.25,75.25,75.25,75.25,75.25,75.25,75.25,75.25,75.25,75.25,75.25,75.25,75.25,75.25,75.25,75.25,75.25,75.25,75.25,75.25,75.25,75.25,75.25,75.25,75.25,75.25,75.25,75.25,75.25,75.25,75.25,75.25,75.25,75.25,75.25,75.25,75.25,75.25,75.25,75.25,75.25,75.25,75.25,75.25,75.25,75.25,75.25,75.25,75.25,75.25,75.25,75.25,75.25,75.25,75.25,75.25,75.25,75.25,75.25,75.25,75.25,75.25,75.25,75.25,75.25,75.25,75.25,75.25,75.25,75.25,75.25,75.25,75.25,75.25,75.25,75.25,75.25,75.25,75.25,75.25,75.25,75.25,75.25,75.25,75.25,75.25,75.25,75.25,75.25,75.25,75.25,75.25,75.25,75.25,75.25,75.25,75.25,75.25,75.25,75.25,75.25,75.25,75.25,75.25,75.25,75.25,75.25,75.25,75.25,75.25,75.25,75.25,75.25,75.25,75.25,75.25,75.25,75.25,75.25,75.25,75.25,75.25,75.25,75.25,75.25,75.25,75.25,75.25,75.25,18.25,18.25,18.25,18.25,18.25,16.0,16.0,10.5,10.5,459.75,459.75,459.75,459.75,459.75,459.75,459.75,459.75,459.75,459.75,459.75,459.75,459.75,459.75,459.75,459.75,459.75,459.75,459.75,459.75,459.75,459.75,459.75,459.75,459.75,459.75,459.75,459.75,24.25,24.25,24.25,24.25,24.25,24.25,24.25,24.25,14.25,14.25,14.25,14.25,14.25,14.25,14.25,14.25,14.25,14.25,14.25,14.25,14.25,14.25,14.25,14.25,14.25,14.25,14.25,14.25,14.25,14.25,14.25,14.25,14.25,14.25,14.25,14.25,14.25,14.25,14.25,12.25,12.25,12.25,12.25,12.25,12.25,12.25,12.25,12.25,12.25,12.25,59.75,59.75,59.75,59.75,59.75,66.25,10.75,10.75,10.75,10.75,43.75,43.75,26.5,26.5,26.5,26.5,26.5,26.5,26.5,26.5,26.5,45.25,45.25,45.25,45.25,45.25,13.25,13.25,13.25,13.25,13.25,35.25,35.25,1027.75,1027.75,1027.75,1027.75,1027.75,1027.75,1027.75,1027.75,1027.75,1027.75,1027.75,1027.75,1027.75,1027.75,1027.75,1027.75,1027.75,1027.75,1027.75,23.25,23.25,23.25,23.25,23.25,23.25,7.0,9.5,9.5,9.5,9.5,9.5,9.5,9.5,9.5,20.0,20.0,20.0,20.0,20.0,20.0,143.5,143.5,143.5,143.5,143.5,143.5,143.5,143.5,143.5,143.5,143.5,143.5,143.5,143.5,143.5,143.5,66.5,66.5,66.5,66.5,66.5,66.5,66.5,86.75,45.75,45.75,165.0,165.0,165.0,165.0,165.0,165.0,165.0,165.0,105.25,105.25,105.25,105.25,105.25,105.25,105.25,105.25,105.25,105.25,105.25,105.25,7.75,7.75,7.75,7.75,7.75,7.75,7.75,7.75,7.75,7.75,7.75,7.75,7.75,7.75,7.75,15.0,15.0,15.0,15.0,15.0,15.0,15.0,289.75,289.75,222.5,222.5,85.25,85.25,85.25,85.25,85.25,24.0,24.0,24.0,24.0,24.0,24.0,24.0,24.0,24.0,24.0,24.0,24.0,24.0,24.0,91.25,91.25,91.25,91.25,91.25,91.25,91.25,91.25,91.25,91.25,91.25,91.25,91.25,91.25,91.25,91.25,91.25,91.25,91.25,91.25,91.25,91.25,91.25,18.75,18.75,18.75,18.75,18.75,18.75,18.75,18.75,18.75,18.75,18.75,38.75,38.75,38.75,38.75,38.75,38.75,38.75,38.75,38.75,38.75,38.75,79.25,79.25,79.25,79.25,79.25,79.25,79.25,79.25,79.25,79.25,79.25,79.25,79.25,79.25,79.25,79.25,79.25,79.25,79.25,79.25,79.25,79.25,79.25,79.25,79.25,79.25,93.25,310.5,310.5,310.5,310.5,310.5,310.5,310.5,310.5,310.5,310.5,310.5,310.5,310.5,310.5,310.5,310.5,310.5,310.5,310.5,310.5,310.5,310.5,310.5,310.5,310.5,310.5,639.0,639.0,639.0,639.0,639.0,639.0,639.0,639.0,639.0,0.0,22.25,22.25,22.25,22.25,22.25,22.25,22.25,22.25,111.5,111.5,111.5,111.5,111.5,24.5,63.25,63.25,63.25,63.25,63.25,63.25,63.25,63.25,63.25,63.25,63.25,32.25,32.25,32.25,32.25,32.25,32.25,32.25,32.25,25.0,25.0,25.0,25.0,25.0,20.25,20.25,20.25,59.25,59.25,59.25,59.25,59.25,59.25,19.5,19.5,19.5,19.5,19.5,19.5,19.25,19.25,87.5,87.5,62.0,62.0,62.0,62.0,62.0,62.0,62.0,62.0,62.0,62.0,62.0,250.75,250.75,250.75,250.75,71.5,71.5,20.0,20.0,20.0,20.0,20.0,20.0,20.0,20.0,20.0,20.0,20.0,20.0,20.0,503.5,503.5,503.5,503.5,503.5,503.5,503.5,16.5,16.5,8.5,8.5,12.5,12.5,12.5,12.5,12.5,12.5,12.5,23.75,23.75,23.75,7.5,12.0,12.0,12.0,12.0,12.0,12.0,12.0,12.0,12.0,12.0,12.0,12.0,12.0,12.0,12.0,15.75,15.75,15.75,15.75,15.75,15.75,15.75,102.5,102.5,102.5,102.5,21.25,21.25,21.25,21.25,21.25,21.25,74.5,74.5,74.5,74.5,56.0,56.0,56.0,56.0,56.0,56.0,56.0,56.0,56.0,56.0,56.0,56.0,56.0,56.0,56.0,56.0,129.5,129.5,129.5,129.5,129.5,129.5,129.5,129.5,129.5,129.5,129.5,129.5,10.75,10.75,10.75,10.75,10.75,15.0,15.0,15.0,29.0,29.0,29.0,29.0,29.0,29.0,29.0,29.0,29.0,29.0,29.0,29.0,29.0,29.0,29.0,29.0,27.0,27.0,27.0,73.25,73.25,73.25,73.25,73.25,73.25,18.5,18.5,18.5,18.5,18.5,11.25,11.25,11.25,6.0,6.0,6.0,6.0,6.0,6.0,6.0,6.0,6.0,6.0,6.0,6.0,6.0,6.0,6.0,10.0,12.75,12.75,12.75,12.75,12.75,12.75,241.25,241.25,241.25,241.25,241.25,241.25,241.25,241.25,8.0,8.0,8.0,8.0,8.0,8.0,8.0,8.0,102.5,102.5,102.5,102.5,102.5,102.5,52.75,52.75,52.75,52.75,52.75,135.75,135.75,135.75,135.75,135.75,135.75,135.75,135.75,135.75,135.75,135.75,135.75,135.75,135.75,135.75,135.75,135.75,135.75,135.75,135.75,135.75,312.5,312.5,312.5,73.25,28.5,28.5,28.5,28.5,91.5,155.5,155.5,155.5,15.75,4.25,4.25,28.75,28.75,28.75,28.75,28.75,28.75,28.75,28.75,28.75,28.75,13.0,1.0,19.75,19.75,19.75,36.75,36.75,36.75,36.75,36.75,36.75,55.75,55.75,55.75,55.75,55.75,55.75,55.75,55.75,55.75,55.75,55.75,55.75,55.75,55.75,55.75,55.75,55.75,55.75,55.75,55.75,55.75,55.75,55.75,55.75,55.75,55.75,55.75,55.75,55.75,55.75,55.75,55.75,55.75,55.75,55.75,55.75,55.75,55.75,55.75,55.75,55.75,55.75,55.75,55.75,55.75,55.75,55.75,55.75,55.75,55.75,55.75,55.75,55.75,55.75,55.75,55.75,55.75,55.75,55.75,55.75,55.75,55.75,55.75,55.75,55.75,55.75,55.75,55.75,55.75,55.75,55.75,55.75,30.75,30.75,30.75,30.75,30.75,30.75,30.75,30.75,30.75,30.75,30.75,30.75,30.75,30.75,30.75,30.75,30.75,30.75,30.75,30.75,30.75,30.75,20.0,20.0,20.0,20.0,20.0,20.0,20.0,20.0,20.0,20.0,20.0,20.0,20.0,20.0,11.75,11.75,11.75,11.75,11.75,84.0,84.0,84.0,84.0,18.75,18.75,18.75,18.75,35.5,35.5,35.5,35.5,18.5,18.5,14.25,14.25,14.25,14.25,14.25,14.25,86.0,86.0,86.0,86.0,86.0,86.0,86.0,70.5,70.5,70.5,70.5,70.5,13.0,13.0,13.0,13.0,16.0,940.0,940.0,940.0,940.0,940.0,940.0,940.0,940.0,940.0,940.0,940.0,940.0,940.0,940.0,52.75,52.75,186.25,186.25,186.25,186.25,186.25,186.25,186.25,186.25,186.25,186.25,186.25,186.25,186.25,186.25,77.5,77.5,77.5,77.5,77.5,77.5,77.5,77.5,77.5,118.75,118.75,118.75,118.75,118.75,118.75,118.75,118.75,118.75,118.75,8.75,8.75,8.75,32.5,146.0,146.0,146.0,146.0,146.0,146.0,146.0,146.0,146.0,146.0,146.0,146.0,146.0,146.0,146.0,15.25,15.25,15.25,15.25,15.25,15.25,15.25,15.25,15.25,19.0,19.0,15.75,15.75,15.75,1.5,1.5,1.5,191.25,373.25,373.25,373.25,373.25,373.25,373.25,373.25,373.25,373.25,53.0,53.0,53.0,53.0,53.0,53.0,53.0,53.0,53.0,53.0,53.0,53.0,53.0,53.0,127.25,156.75,156.75,156.75,30.5,30.5,30.5,30.5,30.5,30.5,30.5,30.5,30.5,30.5,30.5,30.5,30.5,30.5,30.5,30.5,30.5,30.5,30.5,30.5,29.75,29.75,1162.75,1162.75,1162.75,1162.75,1162.75,1162.75,1162.75,16.5,16.5,308.25,308.25,308.25,308.25,308.25,308.25,3.0,30.5,30.5,30.5,30.5,30.5,30.5,33.5,33.5,12.75,12.75,12.75,12.75,12.75,12.75,3.25,3.25,3.25,3.25,3.25,26.0,26.0,7.75,7.75,20.0,20.0,20.0,12.75,9.5,186.25,308.0,308.0,47.75,334.0,334.0,334.0,334.0,334.0,334.0,334.0,334.0,334.0,112.75,112.75,112.75,68.75,68.75,6.5,6.5,6.5,6.5,6.5,6.5,6.5,6.5,6.5,6.5,6.5,9.25,9.25,9.25,126.25,126.25,126.25,126.25,33.25,33.25,11.25,11.25,11.25,11.25,4.5,4.5,4.5,33.5,705.75,705.75,705.75,705.75,705.75,705.75,705.75,185.0,185.0,185.0,93.0,93.0,93.0,93.0,93.0,93.0,112.5,112.5,112.5,112.5,112.5,112.5,112.5,19.0,19.0,134.5,134.5,134.5,134.5,134.5,17.5,17.5,17.5,62.0,62.0,62.0,62.0,62.0,62.0,62.0,62.0,62.0,62.0,62.0,62.0,62.0,35.5,35.5,199.75,199.75,199.75,199.75,199.75,199.75,199.75,82.0,14.25,14.25,14.25,14.25,14.25,14.25,14.25,10.75,10.75,10.75,77.75,77.75,236.75,236.75,236.75,236.75,236.75,236.75,236.75,236.75,236.75,161.0,161.0,161.0,161.0,161.0,161.0,17.75,17.75,17.75,17.75,40.5,40.5,40.5,19.5,19.5,261.0,261.0,261.0,261.0,261.0,261.0,261.0,261.0,261.0,261.0,261.0,261.0,8.25,8.25,8.25,13.0,13.0,13.0,13.0,13.0,11.0,11.0,11.0,11.0,11.0,11.0,78.5,78.5,78.5,78.5,78.5,78.5,78.5,78.5,78.5,78.5,52.25,52.25,52.25,52.25,52.25,52.25,52.25,52.25,52.25,144.25,144.25,144.25,36.0,36.0,9.5,36.5,30.75,30.75,30.75,30.75,14.0,34.5,34.5,23.5,23.5,23.5,23.5,23.5,23.5,23.5,23.5,10.25,226.0,226.0,226.0,6.25,6.25,6.25,6.25,6.25,6.25,156.5,156.5,156.5,156.5,156.5,57.75,57.75,57.75,57.75,283.75,283.75,283.75,283.75,283.75,283.75,283.75,283.75,283.75,20.75,20.75,20.75,18.75,18.75,18.75,18.75,18.5,18.5,18.5,1.0,1.0,1.0,31.0,31.0,31.0,31.0,31.0,9.25,9.25,23.5,41.0,119.0,119.0,119.0,255.75,255.75,255.75,255.75,255.75,255.75,255.75,255.75,255.75,255.75,17.0,21.5,21.5,3.25,3.25,3.25,3.25,3.25,3.25,3.25,42.25,42.25,42.25,42.25,42.25,42.25,42.25,42.25,42.25,42.25,9.75,9.75,9.75,9.75,9.75,9.75,9.75,10.5,70.0,70.0,70.0,70.0,70.0,70.0,70.0,70.0,70.0,70.0,8.5,9.25,68.5,68.5,68.5,68.5,68.5,68.5,68.5,68.5,68.5,68.5,68.5,68.5,68.5,68.5,68.5,68.5,68.5,68.5,68.5,68.5,68.5,68.5,68.5,68.5,68.5,20.5,103.5,103.5,103.5,40.5,40.5,18.0,182.25,182.25,182.25,5.0,5.0,5.0,17.0,97.5,48.75,48.75,48.75,48.75,26.75,26.75,26.75,26.75,26.75,26.75,26.75,26.75,26.75,26.75,26.75,26.75,36.25,36.25,36.25,36.25,36.25,36.25,36.25,36.25,36.25,36.25,7.25,10.75,10.75,10.75,10.75,10.75,10.75,10.75,99.75,99.75,32.75,32.75,32.75,32.75,32.75,32.75,32.75,32.75,32.75,92.5,92.5,92.5,92.5,92.5,92.5,92.5,92.5,151.25,233.25,12.75,12.75,62.25,62.25,62.25,62.25,11.75,11.75,11.75,2118.0,2118.0,2118.0,2118.0,2118.0,2118.0,2118.0,2118.0,2118.0,2118.0,2118.0,2118.0,15.25,15.25,15.25,18.0,18.0,18.0,18.0,18.0,18.0,18.0,18.0,18.0,18.0,18.0,18.0,18.0,18.0,18.25,755.5,755.5,755.5,755.5,1.0,1.0,1.0,1.0,1.75,1.75,12.5,12.5,7.5,7.5,28.25,28.25,19.0,19.0,19.0,19.0,19.0,19.0,23.25,23.25,23.25,21.0,21.0,21.0,21.0,21.0,21.0,21.0,21.0,21.0,21.0,21.0,21.0,79.25,79.25,79.25,79.25,79.25,79.25,79.25,79.25,19.25,19.25,19.25,19.25,19.25,10.75,10.75,10.75,101.75,126.25,8.0,8.0,8.0,8.0,30.75,30.75,30.75,30.75,414.0,414.0,414.0,414.0,414.0,12.5,64.5,31.5,43.75,43.75,47.5,47.5,10.0,10.0,10.0,10.0,26.5,9.75,13.25,13.25,13.25,13.25,13.25,13.25,13.25,68.25,68.25,68.25,16.5,16.5,16.5,16.5,100.25,93.25,93.25,38.0,38.0,38.0,0.0,213.75,213.75,18.5,18.5,18.5,18.5,18.5,19.25,35.25,35.25,35.25,35.25,35.25,35.25,35.25,35.25,35.25,12.5,12.5,12.5,12.5,12.5,12.5,12.5,12.5,14.5,25.0,25.0,25.0,25.0,25.0,25.0,25.0,25.0,25.0,16.0,20.25,20.25,29.75,34.0,33.5,33.5,188.5,188.5,188.5,565.0,565.0,565.0,565.0,565.0,127.75,127.75,127.75,127.75,127.75,15.75,15.75,0.0,30.75,30.75,30.75,30.75,30.75,30.75,30.75,30.75,30.75,0.0,0.0,6.5,96.25,96.25,96.25,96.25,96.25,96.25,96.25,96.25,7.25,7.25,7.25,32.75,32.75,32.75,32.75,25.25,14.5,106.5,106.5,106.5,60.0,56.25,16.5,78.0,29.0,29.0,29.0,29.0,29.0,29.0,29.0,32.25,32.25,32.25,30.5,30.5,24.25,122.25,22.25,18.75,18.75,18.75,18.75,18.75,18.75,18.75,18.75,83.75,83.75,83.75,83.75,271.5,271.5,271.5,271.5,8.5,8.5,1.0,1.0,1881.75,1881.75,1881.75,1881.75,1881.75,1881.75,1881.75,1881.75,1881.75,1881.75,1881.75,1881.75,1881.75,30.75,30.75,30.75,30.75,30.75,30.75,30.75,30.75,30.75,30.75,30.75,30.75,30.75,30.75,30.75,30.75,30.75,30.75,30.75,30.75,30.75,30.75,30.75,30.75,30.75,30.75,14.5,1457.25,1457.25,1457.25,1457.25,1457.25,1457.25,1457.25,1498.25,1498.25,1498.25,1498.25,1498.25,1498.25,1498.25,1498.25,1498.25,1498.25,1498.25,1498.25,1498.25,1498.25,1498.25,1498.25,1498.25,1498.25,1498.25,1498.25,1498.25,1498.25,1498.25,1498.25,1498.25,1498.25,1498.25,1498.25,2274.0,2274.0,2274.0,2274.0,2274.0,2274.0,2274.0,2274.0,2274.0,2274.0,2274.0,2274.0,2274.0,2274.0,2274.0,2274.0,2274.0,2274.0,2274.0,2274.0,2274.0,2274.0,2274.0,2274.0,2274.0,2274.0,1645.25,1645.25,1489.5,1489.5,1489.5,1489.5,1489.5,1489.5,1489.5,1489.5,1489.5,1489.5,1489.5,1489.5,1489.5,1489.5,1489.5,1489.5,1489.5,1489.5,1489.5,1489.5,5.5,5.5,5.5,5.5,5.5,5.5,5.5,180.0,180.0,61.75,61.75,61.75,61.75,530.75,530.75,530.75,530.75,530.75,530.75,530.75,530.75,530.75,530.75,530.75,530.75,530.75,530.75,530.75,530.75,530.75,530.75,530.75,530.75,530.75,530.75,530.75,530.75,530.75,530.75,21.75,21.75,18.75,18.75,14.75,879.25,1324.25,1324.25,1324.25,1324.25,1091.25,1091.25,1091.25,525.5,525.5,525.5,166.75,166.75,166.75,166.75,166.75,166.75,166.75,166.75,166.75,26.25,26.25,26.25,26.25,707.25,707.25,16.0,16.0,16.0,16.0,96.75,96.75,96.75,96.75,229.5,229.5,25.75,15.25,15.25,21.25,85.0,85.0,85.0,55.5,55.5,55.5,55.5,55.5,55.5,55.5,55.5,55.5,55.5,15.0,94.0,94.0,94.0,94.0,94.0,13.0,5.0,5.0,10.25,13.25,17.0,69.25,69.25,69.25,69.25,69.25,69.25,69.25,69.25,69.25,69.25,69.25,23.75,23.75,23.75,23.75,23.75,23.75,23.75,8.5,8.5,58.25,58.25,18.0,18.5,18.5,18.5,18.5,7.25,150.75,150.75,150.75,150.75,96.0,96.0,20.25,20.25,3.0,3.0,3.0,3.0,3.0,155.75,106.5,106.5,106.5,106.5,106.5,30.0,30.0,30.0,30.0,30.0,37.5,10.75,10.75,10.75,15.5,15.5,15.5,16.75,16.75,16.75,3.5,54.0,56.0,56.0,56.0,56.0,56.0,56.0,56.0,56.0,56.0,56.0,56.0,56.0,56.0,56.0,56.0,56.0,56.0,56.0,56.0,31.0,31.0,12.5,280.75,280.75,280.75,280.75,280.75,280.75,89.75,41.5,21.25,142.5,738.25,738.25,738.25,43.0,11.0,11.0,11.0,11.0,11.0,11.0,11.0,18.0,45.25,0.0,0.0,20.75,20.75,20.75,20.75,20.75,12.0,86.25,86.25,86.25,86.25,86.25,86.25,14.0,14.0,13.5,7.5,30.25,30.25,30.25,1120.5,1120.5,1120.5,25.75,23.75,23.75,37.25,37.25,37.25,6.25,6.25,0.0,26.25,15.5,15.5,46.0,46.0,46.0,46.0,46.0,46.0,13.25,13.25,18.0,31.75,31.75,528.5,59.5,59.5,0.0,20.25,18.5,1.0,1.0,31.0,2925.75,2925.75,2925.75,13.5,93.0,47.75,47.75,47.75,47.75,47.75,47.75,47.75,47.75,47.75,2.5,10.0,21.0,41.75,41.75,540.0,540.0,16.5,16.5,15.5,804.25,804.25,22.75,22.75,22.5,245.75,21.0,22.75,17.75,17.75,26.25,26.25,26.25,26.25,26.25,2272.25,0.25,7542.75,9.75,11.0,11.0,11.0,11.0,11.0,11.5,11.5,11.5,11.5,11.5,11.5,11.5,11.5,11.5,11.5,11.5,11.5,11.5,11.5,11.5,11.5,11.5,476.0,10.25,22.25,17.25,18.5,33.75,33.75,33.75,33.75,33.75,33.75,33.75,33.75,33.75,33.75,33.75,33.75,33.75,33.75,33.75,33.75,33.75,33.75,33.75,42.0,42.0,5149.25,13202.0,13202.0,13202.0,3774.25,2.0,2.0,170.5,13.5,13.5,29.75,44.75,44.75,14.75,14.75,14.75,14.75,14.75,14.75,5.0,5.0,24.0,24.0,59.25,59.25,59.25,59.25,12.0,106.25,33.5,33.5,380.0,380.0,7.25,6.5,94.75,94.75,7.5,7.5,106.0,106.0,19.75,19.75,19.75,19.75,19.75,22.25,123.0,6.0,24.5,2485.75,94.5,3796.75,109.25,19.5,9.25,114.25,114.25,269.0,269.0,269.0,269.0,21.25,21.25,21.25,79.25,22.75,8.5,47.75,15.0,42.0,42.0,1.5,5.5,153.75,87.25,1.25,48.5,48.5,48.5,5.0,6.75,6.75,30.0,30.0,10.0,32.0,32.0,36.0,36.0,36.0,21.5,175.25,0.0,3.0,51.0,175.0,205.0,205.0,6.75,85.25,77.0,9.0,35.75,19.25,48.75,15.0,17.25,80.75,80.75,20.75,121.5,121.5,67.75,6.75,99.5,35.25,53.75,11.75,11.75,11.75,67.75,56.5,22.0,30.25,30.25,30.25,37.25,27.25,27.25,9.25,9.25,9.25,9.25,9.25,9.25,9.25,9.25,9.25,9.25,9.25,9.25,9.25,9.25,9.25,9.25,9.25,9.25,9.25,9.25,9.25,9.25,9.25,9.25,9.25,9.25,9.25,9.25,9.25,9.25,9.25,9.25,9.25,9.25,9.25,9.25,9.25,9.25,9.25,9.25,9.25,56.25,136.75,28.75,8.0,8.0,8.0,25.5,52.75,52.75,52.75,25.25,180.75,2.75,232.75,232.75,51.0,9.0,17.75,13.0,40.75,40.75,15.75,15.75,1.25,45.5,66.25,105.75,9.5,9.5,4.75,106.0,6.0,9.25,34.25,21.75,15.75,73.75,266.5,1.0,50.0,34.0,0.0,0.0,18.25,0.0,23.75],\"xaxis\":\"x\",\"y\":[69.5,59.25,37.0,707.25,940.0,459.75,9.25,15.0,8.5,28.75,31.75,34.5,50.5,776.25,10.0,8.75,28.25,15.0,36.5,14.25,10.0,21.5,289.75,139.75,16.0,14.25,18.75,81.5,2274.0,14.25,289.75,139.75,28.25,36.5,15.0,8.75,15.5,20.25,10.75,21.5,18.75,27.0,10.0,15.0,47.75,81.5,26.5,30.75,45.0,59.25,14.25,289.75,139.75,14.25,28.25,36.5,18.75,47.75,18.75,81.5,44.75,139.75,14.25,14.25,289.75,47.75,18.75,81.5,24.75,18.5,9.5,35.25,55.75,7.75,45.5,17.25,459.75,18.0,15.25,8.5,8.25,5.5,24.75,18.5,35.25,17.25,44.75,9.5,24.75,15.25,24.25,8.5,10.0,32.75,35.75,12.5,23.5,35.75,105.25,22.75,45.5,2.75,11.5,9.75,43.0,77.75,20.0,86.75,0.0,8.5,18.5,17.25,79.25,9.25,11.25,35.25,71.5,10.0,18.5,16.0,11.5,12.75,28.75,18.75,91.25,2.75,11.0,55.75,85.25,59.25,705.75,20.0,60.75,75.25,1.0,530.75,124.0,12.5,178.0,59.25,91.25,59.25,244.5,73.0,53.0,29.25,29.5,38.5,20.75,373.75,80.75,12.25,32.25,25.0,63.25,23.75,19.5,35.0,8.5,93.0,100.0,20.0,16.0,45.0,18.5,459.75,940.0,11.0,60.75,19.75,120.75,6.5,1498.25,11.5,353.0,26.25,50.5,168.5,85.25,143.75,707.25,171.0,38.75,72.75,373.75,165.25,54.25,16.0,111.5,96.75,48.75,53.25,73.25,229.5,57.0,7.75,30.75,31.0,42.25,100.0,20.0,18.75,18.75,22.25,18.5,17.0,44.75,33.75,60.75,10.25,16.0,776.25,161.0,28.75,1489.5,2274.0,105.0,106.25,2.5,56.0,78.5,6.5,155.75,105.0,17.75,61.5,19.25,9.25,60.75,528.5,22.5,75.25,692.0,36.25,45.0,20.0,10.5,16.25,178.0,244.5,170.5,29.25,373.25,45.5,692.0,94.0,72.75,166.75,20.5,776.25,29.0,8.5,100.0,35.5,16.0,18.75,45.0,940.0,459.75,11.0,11.5,80.75,5149.25,879.25,118.75,1120.5,525.5,118.75,87.25,171.0,1168.25,639.0,65.75,28.75,269.75,48.75,137.5,146.0,310.5,129.25,84.0,77.75,140.75,124.0,126.5,33.0,182.25,31.5,78.25,63.0,52.75,63.5,62.0,92.5,42.0,15.5,12.5,15.75,18.25,84.0,94.0,53.25,1027.75,19.25,60.75,26.5,75.25,1489.5,530.75,2274.0,1498.25,59.75,206.75,113.25,78.5,171.0,3.0,48.0,40.25,31.75,18.25,373.25,143.75,1324.25,54.25,30.5,8.75,14.75,15.75,30.75,16.0,38.75,72.75,27.0,9.25,60.75,44.75,120.75,26.5,53.0,776.25,1489.5,530.75,2274.0,1498.25,62.5,206.75,78.5,52.25,120.75,171.0,53.0,36.5,23.25,54.25,31.75,137.5,143.75,30.5,5.5,112.5,30.75,16.0,55.75,42.25,72.75,42.5,113.25,271.5,27.0,9.25,60.75,44.75,20.25,26.5,57.0,1027.75,60.25,53.0,1120.5,5149.25,776.25,1489.5,530.75,2274.0,1498.25,65.75,241.25,2118.0,2925.75,525.5,1302.25,77.25,50.75,52.75,1645.25,11.0,62.5,65.75,68.5,2.0,31.75,2118.0,271.5,143.75,171.0,100.0,30.75,45.0,54.25,72.75,9.25,60.75,44.75,26.5,1489.5,1498.25,30.75,206.75,78.5,1027.75,353.0,77.75,41.5,12.75,241.25,171.0,31.75,27.0,68.5,16.0,36.5,1324.25,143.75,1457.25,2118.0,80.0,112.5,100.0,10.5,15.75,30.75,54.25,11.0,60.25,57.0,9.25,60.75,13202.0,44.75,3.5,120.75,26.5,53.0,58.25,52.75,776.25,1489.5,530.75,2274.0,1498.25,65.75,52.75,459.75,41.5,54.25,1027.75,271.5,2118.0,20.25,30.75,16.0,31.75,76.0,72.75,143.75,78.5,60.75,44.75,120.75,26.5,44.75,53.0,776.25,1489.5,530.75,2274.0,1498.25,65.75,62.5,31.5,143.75,77.75,72.75,2118.0,41.5,1120.5,1027.75,54.25,271.5,112.5,27.0,60.25,75.25,692.0,310.5,1881.75,206.75,30.75,16.0,91.25,31.75,61.5,60.75,44.75,120.75,26.5,776.25,1489.5,530.75,2274.0,1498.25,244.5,64.75,263.5,72.75,353.0,100.0,9.25,22.25,30.75,31.75,776.25,1489.5,530.75,1498.25,13.0,63.5,100.0,14.25,14.25,77.0,8.75,15.5,27.0,20.25,15.0,47.75,52.25,10.75,15.0,139.75,81.5,45.0,2.75,47.25,79.25,68.5,10.25,94.0,27.0,45.5,80.0,166.75,230.5,55.5,31.75,45.0,38.75,60.75,692.0,776.25,1489.5,530.75,2274.0,1498.25,12.0,21.0,31.75,60.75,44.75,26.5,776.25,1489.5,530.75,2274.0,65.75,38.75,20.0,21.25,7.5,86.75,2.75,29.0,9.75,70.0,12.75,150.75,14.25,10.75,3.25,10.25,93.0,29.0,10.5,25.25,47.25,44.75,120.75,53.0,54.25,48.0,44.75,77.25,15.0,27.0,50.75,30.75,31.75,42.25,104.0,42.5,60.75,776.25,20.25,26.5,53.0,1324.25,1489.5,120.75,53.0,44.75,77.25,52.75,18.0,16.0,31.75,54.25,42.5,9.25,60.75,26.5,53.0,1489.5,530.75,2274.0,38.5,42.25,26.5,151.25,120.75,77.25,44.75,879.25,530.75,52.75,54.25,73.25,75.25,1498.25,2274.0,1645.25,1120.5,1027.75,1091.25,2925.75,2118.0,104.0,31.75,42.5,9.25,60.75,20.25,53.0,53.0,1489.5,19.0,53.25,86.25,31.75,54.25,77.25,1881.75,42.5,44.75,120.75,26.5,53.0,104.0,776.25,1489.5,530.75,124.5,34.0,44.75,196.75,364.75,52.75,1881.75,53.0,52.75,100.0,334.0,161.0,13.25,124.5,56.0,75.25,692.0,22.25,143.75,31.75,241.25,68.5,60.25,60.75,44.75,2118.0,776.25,1489.5,530.75,2274.0,1498.25,61.5,54.25,29.25,22.25,31.75,1120.5,1324.25,2118.0,271.5,112.5,16.0,45.0,241.25,143.75,68.5,52.75,60.75,44.75,120.75,26.5,42.25,776.25,1498.25,65.75,68.0,55.0,68.0,120.75,26.5,54.25,74.75,54.25,120.75,44.75,77.25,36.75,11.25,22.25,146.0,1324.25,2118.0,26.5,55.5,5.5,20.25,30.75,18.75,52.75,81.5,31.75,940.0,76.0,241.25,53.0,42.25,72.75,42.5,9.25,60.75,3.5,776.25,1489.5,530.75,2274.0,1498.25,65.75,85.0,100.0,9.25,14.75,32.25,45.5,6.25,53.25,9.25,6.5,76.0,27.0,10.5,72.75,1489.5,18.75,14.0,64.5,4.5,502.25,289.75,1168.25,45.0,121.5,120.75,44.75,289.75,77.25,81.5,2274.0,76.0,528.5,8.75,8.75,75.25,692.0,25.25,18.0,1168.25,30.75,121.5,18.75,81.5,44.75,1792.5,50.0,13.5,13202.0,7921.75,1498.25,191.25,11.75,20.0,940.0,459.75,80.75,21.25,0.0,47.75,100.25,11.75,373.25,78.25,13.5,114.25,2272.25,16.5,36.25,20.25,106.25,168.5,15.0,53.0,10.25,3.25,155.5,38.75,26.0,22.0,776.25,22.75,49.25,1120.5,879.25,67.75,129.25,24.75,9.25,118.75,260.5,312.5,127.25,52.75,87.25,1355.0,530.75,8.5,310.5,70.5,19.25,1.25,770.75,271.5,6.5,42.25,106.5,263.5,73.25,72.75,1728.75,353.0,85.25,250.75,1881.75,15.0,180.75,1302.25,77.25,15.0,8.0,11.0,20.0,1645.25,2274.0,525.5,2925.75,244.5,78.25,1489.5,1324.25,9.25,48.75,61.5,120.75,26.5,10.5,77.25,120.75,42.25,26.5,44.75,73.25,30.75,16.0,60.75,53.0,68.5,100.0,44.75,120.75,26.5,53.0,11.25,9.5,151.25,53.25,135.75,44.75,47.75,199.75,52.75,42.25,42.5,182.25,45.0,283.75,65.75,373.75,72.75,165.25,60.75,10.75,13.0,29.0,1.0,19.75,4.25,132.0,200.75,3.25,100.0,30.75,16.0,38.75,126.25,31.75,459.75,940.0,14.25,21.0,75.25,120.75,776.25,1489.5,530.75,2274.0,1498.25,459.75,10.5,373.75,16.0,16.0,940.0,52.5,26.5,7.0,112.75,148.5,118.75,43.0,85.25,241.25,68.75,312.5,199.75,128.0,205.75,692.0,47.75,75.25,86.0,255.75,120.75,42.25,42.5,65.25,226.0,68.5,65.75,79.25,20.0,48.25,204.25,124.0,68.0,74.5,118.0,74.25,89.0,26.75,72.75,60.75,1355.0,100.0,1498.25,2714.0,1302.25,144.0,52.75,63.75,78.25,144.25,373.25,22.25,7.75,31.75,85.25,178.0,47.75,111.5,96.75,263.5,12.25,63.25,20.25,15.0,191.25,250.75,639.0,94.0,166.75,105.25,59.25,53.0,178.75,175.0,77.25,13.0,74.75,117.0,1.0,182.25,53.0,540.0,25.75,18.25,42.25,87.5,31.5,40.25,20.0,50.5,14.5,18.75,60.5,73.25,45.75,72.75,30.5,10.0,707.25,17.0,18.5,20.0,16.0,45.0,10.25,26.5,18.0,200.75,11.25,166.75,55.5,100.0,42.25,10.75,72.75,241.25,707.25,42.5,53.0,49.25,40.25,21.0,75.25,13202.0,120.75,26.5,776.25,1489.5,530.75,2274.0,1498.25,144.0,53.0,36.5,19.5,53.25,55.5,8.75,9.25,75.25,44.75,81.5,47.75,65.25,15.0,10.75,31.5,58.25,8.5,15.5,20.25,8.75,15.0,26.5,68.5,120.75,9.25,45.0,199.75,19.75,30.75,22.25,25.25,64.5,14.25,38.75,42.5,24.25,63.5,93.0,48.75,29.0,20.5,47.75,14.25,289.75,15.0,459.75,0.0,65.25,20.25,15.0,22.25,45.0,10.75,17.5,58.25,15.5,8.5,178.0,111.5,50.5,20.25,25.25,199.75,30.5,21.0,55.75,10.5,1489.5,530.75,2274.0,1498.25,58.25,73.0,53.0,65.75,63.75,78.25,33.0,14.5,692.0,794.5,75.25,36.0,8.5,16.0,11.0,1489.5,2274.0,1498.25,78.25,63.75,178.0,53.0,794.5,33.0,15.0,16.5,12.5,12.25,2.75,19.75,459.75,8.5,44.75,776.25,1489.5,530.75,2274.0,78.25,33.0,63.75,794.5,12.25,19.75,2.75,8.5,16.0,776.25,1489.5,530.75,1498.25,78.25,178.0,707.25,794.5,33.0,165.0,11.75,8.5,78.25,33.0,692.0,794.5,310.5,178.0,7.0,20.5,165.0,8.5,100.0,16.0,38.75,91.25,45.0,11.0,776.25,1489.5,530.75,2274.0,1498.25,11.5,178.0,794.5,8.5,33.0,530.75,2274.0,10.75,20.25,15.5,10.75,79.25,9.25,20.25,289.75,10.75,15.0,48.75,59.25,47.75,87.5,28.25,134.5,52.75,373.25,3796.75,186.25,229.5,310.5,8.5,692.0,75.25,33.25,200.75,52.75,84.0,353.0,135.75,62.0,166.75,112.75,205.75,161.0,94.0,148.5,1324.25,132.0,143.5,188.5,80.0,129.25,87.25,1168.25,140.75,308.25,77.75,16.5,244.5,503.5,222.5,250.75,58.75,118.75,84.0,144.25,68.5,89.0,63.5,68.25,62.25,35.5,185.0,261.0,148.0,99.5,182.25,380.0,283.75,776.25,29.0,540.0,68.0,308.0,68.75,87.5,639.0,1498.25,73.25,1645.25,2118.0,205.0,255.75,476.0,47.5,38.5,151.25,33.75,32.75,15.0,45.75,56.25,51.0,12.0,85.25,199.75,45.5,13.5,70.5,364.75,61.5,47.75,114.25,136.75,168.5,53.25,11.25,15.25,26.75,44.75,109.25,29.0,55.75,18.0,0.0,118.0,55.25,20.75,334.0,1355.0,2925.75,525.5,2272.25,146.0,15.75,79.25,111.5,263.5,48.75,191.25,106.5,117.0,175.0,63.0,60.5,19.5,66.25,280.75,213.75,196.75,82.5,236.75,124.0,204.25,137.5,195.25,30.75,18.25,100.0,31.0,1881.75,18.25,52.25,204.25,87.5,6.0,28.25,59.25,16.0,37.5,8.5,134.5,31.0,48.75,12.0,124.0,87.5,59.25,204.25,10.0,30.5,46.0,12.0,55.75,10.75,14.25,47.5,75.25,692.0,124.0,62.0,35.5,9.25,47.75,310.5,12.0,75.25,692.0,776.25,1489.5,2274.0,124.0,77.75,269.75,353.0,18.75,111.5,263.5,170.5,135.75,2274.0,530.75,1645.25,30.75,24.0,31.75,459.75,776.25,14.25,9.25,26.5,692.0,1489.5,1498.25,124.0,111.5,269.75,263.5,1489.5,525.5,1091.5,121.5,20.0,692.0,1498.25,111.5,269.75,48.25,30.75,18.75,459.75,940.0,45.0,75.25,120.75,26.5,175.0,692.0,776.25,1489.5,530.75,2274.0,1498.25,263.5,30.75,18.75,120.75,26.5,776.25,1489.5,530.75,2274.0,1498.25,7.0,148.5,38.75,16.25,15.0,26.75,244.5,33.75,56.25,199.75,52.75,75.25,1091.5,29.25,165.0,16.0,86.25,1168.25,459.75,940.0,38.75,79.25,12.0,84.0,13202.0,776.25,120.75,26.5,692.0,52.5,1489.5,530.75,2274.0,1498.25,10.5,271.5,22.25,38.75,55.5,168.5,30.75,18.75,9.25,120.75,26.5,776.25,1489.5,530.75,2274.0,1498.25,137.5,204.25,124.0,195.25,18.25,18.25,19.5,55.75,124.0,68.0,195.25,19.5,18.75,18.25,45.0,204.25,18.25,18.25,195.25,68.0,19.5,31.75,18.25,12.5,4.75,15.5,124.0,692.0,12.0,134.5,75.25,63.5,144.25,59.75,2118.0,310.5,1457.25,755.5,16.0,2925.75,2714.0,1881.75,1302.25,776.25,20.0,178.0,48.75,8.75,1162.75,21.25,308.5,30.75,940.0,121.5,11.0,13202.0,1498.25,26.5,32.75,120.75,44.75,75.25,93.0,11.5,18.75,42.25,53.0,94.0,70.5,118.75,200.75,96.75,241.25,52.75,1355.0,1881.75,692.0,74.75,84.0,166.75,62.25,45.0,879.25,56.25,1302.25,5149.25,2118.0,2925.75,11.0,58.75,63.5,144.25,1120.5,112.5,459.75,23.25,1457.25,2274.0,1489.5,271.5,44.75,525.5,2714.0,940.0,1645.25,73.25,29.0,53.25,57.0,78.25,776.25,208.25,75.5,530.75,105.75,57.0,92.5,7.0,45.5,226.0,102.0,63.25,129.25,59.75,61.75,6.25,1498.25,2272.25,44.75,36.5,1881.75,185.0,38.75,310.5,61.5,30.75,31.75,26.25,18.0,3.0,8.25,22.0,164.75,5.75,2.0,0.0,27.0,20.5,66.75,18.75,19.0,53.75,15.75,68.0,4.0,7.75,199.75,45.0,15.25,10.0,4.75,794.5,16.0,14.25,13.5,4.75,0.75,22.25,6.0,31.75,21.25,4.0,2.75,25.75,18.5,23.25,0.0,10.75,208.25,17.5,15.75,8.0,55.5,24.25,13.0,24.5,2.0,24.5,59.25,16.5,9.25,18.0,17.0,21.25,13.0,4.75,6.75,9.75,15.75,13.0,5.25,14.5,1.0,89.0,26.75,9.0,14.0,0.0,91.5,23.25,20.0,20.75,1.0,11.75,21.0,12.5,18.5,28.75,18.25,0.0,21.75,74.5,2.25,30.25,49.0,15.0,7.0,29.5,10.0,15.75,18.75,18.75,102.5,13.5,1168.25,1489.5,530.75,9.25,13202.0,11.75,30.0,16.5,74.5,24.5,14.25,11.5,120.75,44.75,36.5,5.0,21.0,10.75,42.25,52.75,42.5,2118.0,1881.75,45.75,241.25,68.5,20.25,40.25,53.0,776.25,1489.5,530.75,2274.0,1498.25,11.5,26.75,16.0,65.25,776.25,1489.5,530.75,2274.0,1498.25,79.25,93.25,55.75,200.75,7.5,30.75,31.75,14.25,776.25,1489.5,530.75,79.25,93.25,16.5,75.25,9.25,120.75,11.5,16.25,10.75,310.5,191.25,89.0,52.75,38.5,30.75,692.0,33.25,14.75,30.75,5.5,31.75,36.5,38.25,13.25,14.25,68.5,12.5,75.25,692.0,530.75,2274.0,9.25,11.5,39.0,144.25,9.5,41.75,280.75,230.5,143.5,161.0,56.0,31.0,236.75,150.75,74.5,41.5,75.25,18.25,27.75,16.0,31.75,10.5,52.75,120.75,41.5,776.25,1489.5,530.75,9.5,12.75,16.0,6.5,120.75,310.5,80.0,9.5,61.5,30.75,30.5,38.75,776.25,23.25,12.0,56.0,9.25,75.25,13202.0,44.75,45.0,127.75,48.25,26.5,31.5,30.0,84.0,1498.25,1091.5,1457.25,113.75,74.25,67.75,62.0,692.0,530.75,1489.5,879.25,2272.25,2274.0,525.5,2118.0,1027.75,1324.25,1881.75,73.25,151.25,459.75,93.0,1091.25,18.75,2925.75,255.75,63.5,200.75,199.75,58.25,42.5,7.0,68.5,52.75,105.75,68.5,78.25,60.5,92.5,241.25,9.25,96.75,32.75,57.0,135.75,1162.75,22.75,75.5,70.5,42.25,114.25,31.75,36.25,166.75,29.25,79.25,22.25,19.25,53.0,52.5,86.0,178.75,45.25,20.25,35.5,692.0,7.75,200.75,178.0,18.25,13.5,13.25,75.25,143.5,14.5,68.5,18.75,36.5,17.0,20.25,30.75,170.5,18.75,38.75,18.75,91.25,7.0,45.5,0.0,52.75,14.25,35.0,23.75,12.0,13202.0,73.75,20.25,503.5,120.75,52.75,185.0,4.75,87.25,182.25,308.0,30.25,87.5,94.0,132.0,118.75,32.75,62.25,112.75,148.5,261.0,118.75,63.5,68.25,186.25,21.5,45.75,73.25,114.25,86.0,31.75,226.0,62.0,59.75,48.25,1168.25,14.25,55.75,15.25,68.0,118.0,74.25,183.25,3796.75,1498.25,283.75,146.0,144.25,161.0,373.25,310.5,1881.75,250.75,639.0,166.75,148.0,102.5,50.75,186.25,280.75,196.75,17.0,142.5,47.75,6.25,82.0,1457.25,2118.0,84.0,84.0,16.5,94.0,8.0,308.25,33.5,80.0,45.75,140.75,45.5,255.75,476.0,129.25,879.25,23.25,191.25,229.5,82.5,68.75,33.25,31.0,48.25,236.75,20.25,19.0,10.25,6.75,11.5,26.25,53.75,20.75,308.25,8.75,12.0,24.5,94.0,7.75,705.75,7.75,30.75,6.5,36.25,3.25,28.75,16.0,31.75,14.75,236.75,236.75,14.75,31.75,9.25,236.75,31.75,236.75,45.0,56.0,79.25,75.25,42.25,8.75,30.75,11.0,30.75,53.0,5.5,27.0,2118.0,55.75,31.75,68.5,132.0,33.25,52.25,14.25,16.0,30.75,38.0,33.75,13202.0,75.25,2274.0,1498.25,31.0,1881.75,14.75,946.5,65.25,45.75,16.0,55.75,674.5,1168.25,48.5,62.25,8.0,24.5,9.25,14.25,8.75,289.75,18.0,15.5,18.75,1489.5,530.75,2274.0,1498.25,1881.75,15.0,55.75,13202.0,2274.0,44.75,1457.25,52.75,271.5,36.5,16.0,31.75,459.75,42.5,200.75,53.25,25.75,73.25,62.25,9.5,199.75,70.5,61.5,5.0,120.75,61.75,57.0,85.5,32.75,11.0,1120.5,1355.0,208.25,7542.75,2925.75,1091.25,5149.25,2118.0,525.5,1498.25,2714.0,1645.25,1302.25,530.75,45.0,18.75,23.25,84.0,6.25,53.0,74.75,151.25,37.5,1489.5,2274.0,68.0,44.75,36.5,7.0,12.75,73.25,2274.0,1645.25,271.5,2118.0,14.75,30.75,14.25,68.5,9.25,53.0,1489.5,530.75,1498.25,55.75,35.0,1489.5,3.5,222.5,308.25,62.25,40.25,13.0,52.25,30.75,5.5,10.0,35.75,22.75,42.25,9.25,10.0,10.5,10.75,30.75,16.0,7.75,15.5,5.0,16.75,10.25,74.25,9.25,22.5,80.0,7.25,14.25,18.0,11.0,15.0,68.0,75.25,10.75,60.5,109.25,146.0,69.25,161.0,8.0,14.25,55.75,60.5,17.75,54.5,17.75,11.0,54.5,22.75,7.75,60.5,3.25,11.75,91.25,10.5,94.0,146.0,18.75,7.75,19.0,31.75,56.0,75.25,178.0,59.25,20.0,48.75,8.75,1162.75,21.25,308.5,12.5,26.75,26.0,55.5,18.75,19.0,53.25,8.75,52.75,35.5,13202.0,11.5,18.75,7.75,11.0,8.75,64.5,334.0,18.25,7.75,11.0,334.0,8.75,24.25,10.0,14.25,289.75,15.5,18.75,11.75,1489.5,530.75,1498.25,14.25,78.25,18.75,105.25,50.5,7.75,105.25,0.0,40.5,52.25,9.75,6.0,118.75,30.75,30.75,18.75,24.0,91.25,31.75,11.0,9.25,75.25,13202.0,1489.5,530.75,2274.0,1498.25,20.0,459.75,38.75,111.5,178.0,15.25,10.25,45.5,96.75,3.25,20.0,111.5,183.25,84.0,39.0,31.0,96.25,89.75,30.75,31.75,13.0,230.5,11.0,9.25,13202.0,75.25,2274.0,84.0,96.25,79.25,75.25,11.5,39.0,89.75,96.25,135.75,30.75,31.75,45.0,230.5,8.0,14.75,13202.0,2274.0,6.5,1.0,8.5,22.25,17.75,30.75,565.0,86.75,75.25,1498.25,308.5,42.25,18.75,12.75,8.5,13.25,16.0,6.0,12.75,30.75,16.0,68.5,14.25,1489.5,18.75,16.0,13.25,28.75,459.75,940.0,1489.5,530.75,2274.0,1498.25,199.75,289.75,15.5,12.25,14.25,18.75,61.5,7.5,20.25,8.5,9.5,78.25,61.75,9.25,24.25,14.25,10.0,79.25,16.0,14.5,32.75,55.5,459.75,940.0,45.5,36.5,178.0,94.0,38.25,15.5,13.0,17.0,213.75,5.5,31.75,12.0,9.25,75.25,530.75,2274.0,15.25,35.25,13.25,45.25,52.5,32.75,30.5,46.0,8.5,55.75,530.75,2274.0,1498.25,62.0,59.25,26.75,18.75,26.25,53.25,18.75,9.25,1489.5,530.75,2274.0,1498.25,22.25,30.5,91.25,61.5,10.75,9.25,1489.5,530.75,2274.0,30.5,178.0,91.25,59.25,63.25,22.25,2274.0,530.75,36.5,229.5,310.5,44.75,53.0,73.25,1498.25,53.25,42.5,61.5,1489.5,2272.25,1027.75,2118.0,525.5,1457.25,1324.25,7542.75,2925.75,1091.25,241.25,68.5,112.5,31.75,58.25,20.25,52.5,45.5,8.5,3.5,459.75,940.0,13.25,52.5,8.5,0.0,45.0,1489.5,530.75,2274.0,1498.25,40.5,191.25,1120.5,1881.75,30.75,14.25,75.25,39.0,144.25,31.0,39.0,96.25,69.25,186.25,106.5,312.5,144.25,143.5,292.75,31.0,8.0,56.25,175.25,36.25,47.25,58.75,96.25,31.5,129.5,1.25,47.75,180.75,230.5,41.75,16.0,12.25,24.0,29.5,38.75,36.5,639.0,18.75,45.0,26.75,21.0,20.0,14.25,1489.5,2274.0,10.75,53.25,96.0,13.25,32.5,9.25,30.5,266.5,6.75,86.75,30.75,12.5,9.25,11.5,40.5,11.25,75.25,55.75,175.0,34.5,50.0,155.5,19.75,6.5,30.25,38.0,22.5,9.25,30.75,75.25,6.5,1489.5,530.75,1498.25,79.25,16.0,24.25,165.0,14.25,18.75,79.25,30.75,58.25,93.0,1792.5,476.0,68.5,30.75,37.5,64.75,364.75,63.0,266.5,39.5,77.0,146.0,537.75,308.5,1498.25,269.0,37.25,93.0,30.75,117.0,170.5,129.25,5.0,38.5,18.25,106.0,52.75,84.25,940.0,308.25,33.75,283.75,79.25,35.5,59.25,232.75,100.25,208.25,236.75,11.5,42.0,1027.75,7542.75,47.0,45.75,100.75,24.25,2272.25,56.0,2274.0,75.5,2714.0,639.0,106.25,705.75,525.5,241.25,105.75,59.25,49.25,93.25,38.0,48.25,113.75,14.0,40.5,156.75,185.0,12.0,53.0,26.5,1120.5,879.25,129.5,32.75,5.25,85.5,96.0,67.75,73.75,93.0,33.5,258.75,3796.75,91.25,63.0,1324.25,90.0,946.5,1091.5,45.25,94.5,134.5,702.75,151.25,25.0,26.0,1162.75,41.25,1355.0,530.75,18.5,66.5,1.0,26.75,37.25,2118.0,7.75,2925.75,233.25,271.5,144.25,196.75,106.5,67.25,5149.25,31.25,71.0,2485.75,77.75,414.0,280.75,58.0,85.25,148.75,82.0,77.0,185.75,1457.25,15.75,180.75,121.5,1302.25,19.25,112.5,540.0,82.5,64.0,25.25,62.25,48.25,9.5,11.0,9.25,75.25,1489.5,8.25,150.75,45.75,17.0,10.25,175.0,55.75,18.75,13202.0,75.25,75.25,178.0,82.0,20.5,165.0,940.0,111.5,133.75,33.5,35.25,245.75,38.5,794.5,13.25,10.5,18.75,24.0,8.5,91.25,15.25,16.0,459.75,9.25,52.25,9.25,9.25,17.5,30.75,14.5,22.25,20.25,75.25,11.5,940.0,459.75,100.75,16.0,17.75,33.75,78.5,55.75,41.75,60.5,0.0,30.5,25.75,148.0,11.0,56.0,33.75,75.25,1498.25,86.25,75.25,1645.25,3796.75,1489.5,53.0,530.75,2274.0,1498.25,17.0,111.5,178.0,12.5,3.5,707.25,75.25,310.5,29.75,53.25,12.0,15.0,13.25,96.25,9.0,75.25,13.0,15.5,25.25,52.75,8.5,1.0,14.25,35.5,30.0,18.5,14.75,29.75,2.75,232.75,46.0,55.75,31.75,73.75,94.0,37.25,86.0,289.75,60.5,10.75,75.25,29.0,17.0,1168.25,21.0,30.75,18.75,31.75,18.5,0.0,14.25,56.0,9.25,24.0,28.75,15.25,78.5,1489.5,530.75,2274.0,1498.25,537.75,30.75,1.0,19.25,10.0,16.0,18.0,10.25,126.25,21.0,11.5,12.25,18.5,61.5,20.25,11.25,1489.5,1498.25,92.5,28.25,20.75,8.75,4.75,38.5,93.0,940.0,1489.5,20.75,93.0,11.0,105.25,136.75,93.0,11.0,111.5,30.75,14.5,22.25,236.75,30.5,17.5,96.25,32.0,20.0,21.25,29.0,16.75,12.5,8.75,3.5,93.0,105.25,3.5,12.5,15.25,96.25,143.5,7.5,14.75,92.5,135.75,55.75,20.0,6.5,6.75,9.5,165.0,9.5,30.75,129.25,24.0,60.5,459.75,940.0,12.5,91.25,59.25,32.25,25.0,63.25,23.75,19.5,166.75,73.25,133.75,3.5,111.5,55.5,35.75,178.0,25.75,17.0,4.25,75.25,1324.25,16.0,30.75,96.75,12.5,9.25,11.5,201.75,42.75,16.0,16.0,55.75,9.25,33.75,78.5,7.25,530.75,201.75,42.75,9.25,33.75,530.75,201.75,42.75,102.0,9.25,33.75,530.75,241.25,8.0,102.5,52.75,135.75,143.5,312.5,73.25,530.75,26.25,32.75,8.5,61.5,1.0,10.0,20.25,3.25,14.0,20.75,11.75,87.25,540.0,10.0,32.75,32.5,46.0,7.5,11.0,93.0,9.25,75.25,236.75,19.0,7.5,199.75,260.5,1489.5,2274.0,1498.25,129.25,63.25,78.25,57.0,75.5,21.25,42.75,16.0,31.75,9.25,1489.5,530.75,2274.0,1498.25,78.25,61.75,42.75,31.75,33.75,77.0,61.75,75.5,42.75,111.5,31.75,9.25,78.5,10.75,1489.5,2274.0,75.5,42.75,16.0,31.75,9.25,33.75,56.0,1489.5,530.75,2274.0,1498.25,9.25,33.75,75.5,31.75,9.25,1489.5,530.75,1498.25,62.0,75.25,114.25,22.25,310.5,55.75,1489.5,2274.0,1498.25,61.75,42.75,38.25,15.5,9.25,33.75,1489.5,530.75,2274.0,1498.25,42.75,16.0,33.75,42.75,940.0,51.0,42.25,10.75,15.0,49.25,7.75,10.25,75.25,308.5,42.25,22.25,9.25,5.5,28.75,22.25,135.75,17.5,121.5,26.25,29.0,30.75,16.0,31.75,459.75,940.0,308.5,15.75,33.75,6.5,9.25,20.0,14.75,21.0,53.0,30.75,6.75,55.75,75.25,55.75,53.75,25.25,26.5,364.75,20.25,232.75,75.25,87.5,29.25,459.75,85.25,16.0,3.0,27.25,10.0,10.0,55.75,161.0,143.5,150.75,56.0,12.75,12.5,24.25,1324.25,2118.0,271.5,35.75,68.5,112.5,1027.75,1120.5,1355.0,530.75,2274.0,2714.0,2272.25,255.75,200.75,86.0,166.75,940.0,61.75,50.5,45.75,84.0,459.75,79.25,1.0,182.25,80.75,119.0,9.5,226.0,20.0,7.5,94.0,195.25,143.5,28.75,9.5,29.75,23.25,8.75,20.5,1498.25,63.5,310.5,31.0,30.75,18.75,48.5,7.5,38.75,11.0,13202.0,10.25,75.25,1489.5,530.75,2274.0,1498.25,75.25,94.0,166.75,14.25,200.75,11.0,13202.0,1489.5,530.75,2274.0,1498.25,32.75,30.75,79.25,15.5,25.0,36.5,58.25,35.25,68.5,11.0,17.75,33.75,7.75,12.0,30.75,58.25,15.5,20.75,143.5,79.25,35.25,25.0,32.75,68.5,20.0,36.5,62.0,18.75,17.75,9.25,11.5,33.75,12.0,14.25,15.25,151.25,16.0,459.75,255.75,62.25,1881.75,0.0,707.25,165.0,63.0,180.0,525.5,1091.25,2925.75,241.25,68.5,940.0,1.5,17.25,2118.0,1457.25,1120.5,49.25,1324.25,1355.0,5149.25,271.5,879.25,1489.5,2714.0,530.75,4.75,133.75,19.0,476.0,1645.25,1302.25,2274.0,45.25,63.25,31.0,639.0,14.75,28.75,11.0,14.25,310.5,15.25,129.5,312.5,9.25,1881.75,52.25,55.5,84.0,55.75,60.5,13.25,77.75,75.25,9.25,12.0,1489.5,530.75,2274.0,1498.25,12.75,56.0,9.5,74.5,56.0,74.5,161.0,1489.5,2274.0,1881.75,26.5,3.25,30.75,55.75,18.75,30.5,38.0,11.0,9.25,13202.0,28.75,75.25,530.75,1498.25,195.25,18.25,9.25,18.25,11.5,8.25,35.5,310.5,75.25,170.5,364.75,0.0,27.25,13.5,4.25,29.75,25.25,2.0,525.5,9.75,43.0,14.75,12.25,44.75,14.75,53.25,5.0,1.0,0.0,31.0,241.25,49.25,53.25,24.0,13.25,13.25,9.5,312.5,20.5,18.75,143.5,9.5,45.25,79.25,56.0,7.25,6.5,11.75,15.0,93.25,940.0,73.25,18.75,0.0,0.0,94.75,30.75,7.5,87.5,38.75,18.75,7.0,45.5,1324.25,29.0,283.75,102.5,1457.25,15.25,2274.0,1645.25,7542.75,1881.75,30.0,1120.5,77.0,1027.75,476.0,373.25,121.5,205.75,92.5,26.25,15.0,7.25,9.75,3796.75,12.0,17.5,255.75,36.25,236.75,33.25,32.5,42.25,2272.25,144.25,30.75,2118.0,5149.25,2925.75,13202.0,503.5,52.75,185.0,4.75,87.25,182.25,308.0,30.25,118.75,32.75,62.25,112.75,261.0,118.75,68.25,186.25,21.5,45.75,114.25,86.0,31.75,226.0,62.0,59.75,48.25,14.25,55.75,15.25,1498.25,146.0,161.0,250.75,639.0,166.75,102.5,50.75,186.25,280.75,196.75,17.0,142.5,47.75,68.75,8.0,8.5,84.0,308.25,33.5,45.75,879.25,23.25,191.25,229.5,82.5,6.25,82.0,1489.5,530.75,7.75,18.25,14.25,32.75,3.5,10.75,70.5,459.75,10.5,19.0,940.0,10.0,10.25,3.5,707.25,7.75,28.75,30.75,459.75,24.25,11.25,6.0,53.0,19.25,20.0,165.0,62.0,29.75,146.0,23.25,16.5,9.25,33.75,1489.5,530.75,2274.0,1498.25,18.0,5.5,8.25,24.25,18.5,940.0,17.25,20.0,32.75,14.25,88.25,9.5,25.75,12.5,112.75,30.25,182.25,308.25,308.0,1091.5,156.75,707.25,0.0,56.0,241.25,151.25,136.75,260.5,1162.75,196.75,18.25,92.5,22.25,10.0,93.0,38.5,63.0,0.0,82.5,19.75,17.25,18.0,12.25,17.75,11.0,9.25,1489.5,530.75,2274.0,1498.25,283.75,107.5,30.75,56.0,1498.25,18.75,150.75,161.0,11.75,10.75,22.25,9.25,8.5,30.75,18.75,21.5,19.25,26.5,49.25,14.75,15.0,63.25,35.25,45.25,1498.25,11.5,13.25,38.75,18.75,1489.5,1498.25,35.25,105.25,23.25,5149.25,525.5,1120.5,2925.75,1324.25,271.5,121.5,30.75,24.0,91.25,11.0,9.25,68.5,53.0,1489.5,530.75,2274.0,1498.25,30.75,11.0,1489.5,530.75,2274.0,1498.25,30.75,1324.25,69.75,9.5,310.5,9.25,1489.5,1498.25,52.25,143.5,16.75,144.25,47.75,18.75,20.0,31.0,30.75,144.25,55.5,3.25,8.0,280.75,18.75,41.75,161.0,56.0,74.5,236.75,150.75,143.5,9.25,86.75,292.75,8.25,101.75,66.5,51.0,77.5,119.0,334.0,45.75,22.25,86.0,18.75,940.0,33.75,530.75,2274.0,1498.25,52.75,7.0,105.25,7.5,30.0,8.5,12.75,15.0,14.25,4.0,13202.0,23.75,373.25,30.75,12.0,11.25,7.75,6.0,16.25,21.0,3.5,940.0,10.0,24.5,10.25,25.0,15.5,36.75,22.25,188.5,30.5,15.0,310.5,86.25,15.0,9.25,30.75,738.25,20.0,6.5,1489.5,2274.0,1498.25,91.25,23.75,18.75,245.75,38.75,9.5,15.75,24.0,11.0,91.5,86.0,530.75,2274.0,1498.25,59.25,79.25,12.5,30.5,32.25,25.0,63.25,23.75,19.5,38.75,18.75,245.75,17.5,166.75,503.5,118.75,530.75,1324.25,15.75,91.25,6.5,1498.25,11.5,245.75,18.75,38.75,23.75,940.0,62.0,35.5,112.5,283.75,11.0,79.25,245.75,126.25,166.75,38.75,30.75,87.25,118.75,255.75,19.25,84.0,639.0,93.25,6.0,43.75,19.25,738.25,16.75,56.25,6.5,37.5,0.0,5.75,15.0,16.0,47.25,91.75,8.25,8.5,1.0,47.5,7.75,5.0,6.5,87.25,1498.25,7542.75,530.75,84.25,639.0,310.5,121.5,13.5,7.25,33.75,25.0,93.25,19.25,29.25,17.0,19.25,30.75,55.75,283.75,20.75,5.75,26.5,129.5,0.0,14.25,30.25,20.0,13202.0,530.75,1498.25,639.0,30.75,23.75,12.0,9.25,1498.25,114.25,33.25,32.75,0.0,199.75,146.0,135.75,68.5,707.25,8.5,1489.5,530.75,4.25,3.5,55.5,43.0,96.75,64.25,59.25,12.5,32.25,25.0,21.25,10.5,23.75,19.5,3.5,63.25,85.0,59.25,12.5,25.0,23.75,19.5,32.25,29.0,3.5,59.25,12.5,23.75,19.5,9.25,940.0,20.25,11.5,19.5,12.5,23.75,17.5,30.75,3.5,12.5,23.75,85.0,35.25,3.5,8.5,32.25,18.75,79.25,1881.75,1881.75,87.25,62.0,30.75,18.75,11.0,9.25,13202.0,1489.5,2274.0,1498.25,250.75,232.75,18.75,23.75,121.5,1498.25,55.75,18.75,67.75,13.5,11.5,20.25,3.25,20.0,30.5,6.25,18.5,18.5,19.25,30.5,503.5,30.75,55.75,9.25,13202.0,6.5,8.5,16.5,8.5,11.5,23.75,25.75,15.25,12.5,12.0,64.25,11.5,55.5,21.0,12.5,8.0,15.75,166.75,46.0,7.25,55.75,12.0,18.75,11.0,15.25,15.5,79.25,32.75,94.0,20.75,241.25,30.75,5.5,35.5,15.0,10.75,241.25,15.75,21.25,29.0,135.75,102.5,940.0,21.25,30.0,19.0,9.25,1498.25,74.5,3.25,8.0,18.75,280.75,55.75,30.5,15.0,56.0,6.5,738.25,233.25,13.25,3.25,135.75,60.5,68.75,17.0,9.25,20.0,129.5,42.5,36.25,292.75,77.5,1.25,47.75,30.5,69.25,186.25,0.0,9.25,135.75,15.0,17.0,151.25,68.5,68.75,10.0,17.0,2274.0,40.75,48.5,21.5,26.75,29.0,73.5,26.25,30.25,30.5,19.5,180.75,30.75,18.75,62.25,9.25,45.75,940.0,27.0,55.75,53.0,1489.5,530.75,2274.0,1498.25,26.75,30.5,21.5,17.0,18.5,6.0,102.5,940.0,9.5,186.25,308.0,55.75,52.25,4.25,9.25,11.75,255.75,12.0,8.0,11.75,86.0,9.25,940.0,6.5,15.75,28.5,12.75,30.75,12.5,68.5,940.0,82.0,5.5,68.5,30.75,106.5,1489.5,530.75,12.75,705.75,3.25,20.75,55.75,232.75,18.75,1498.25,2485.75,3774.25,414.0,56.0,102.5,30.75,11.0,14.75,26.25,52.75,175.0,8.75,12.75,40.5,36.75,21.0,18.5,21.0,36.25,52.75,26.75,6.5,18.75,32.75,135.75,9.25,33.75,283.75,1489.5,530.75,2274.0,1498.25,9.25,9.25,312.5,30.75,15.75,55.75,23.5,11.5,31.75,186.25,30.25,9.25,18.5,0.0,11.0,46.0,18.75,16.0,940.0,55.75,9.25,28.75,13202.0,6.5,13.25,1.0,8.75,53.0,30.75,9.25,55.75,146.0,21.0,19.25,53.75,20.25,5.0,308.25,11.75,127.25,13.5,62.0,55.5,15.0,19.25,22.75,11.5,20.0,20.75,56.5,10.5,17.75,40.5,119.0,186.25,19.5,29.75,2.75,68.5,22.0,52.75,25.0,20.75,14.0,19.5,7.25,13.5,67.75,29.0,14.5,15.0,3.0,37.5,136.75,9.5,0.0,25.75,96.75,18.75,30.5,153.75,20.5,25.5,7542.75,6.5,26.25,14.25,0.0,13.25,32.75,16.0,25.25,91.75,45.25,77.75,134.5,32.75,49.75,182.25,705.75,69.75,9.25,5.0,36.25,25.0,19.25,3.25,55.75,20.0,52.25,10.75,1.0,53.75,8.75,99.5,0.0,8.5,13.0,35.75,25.25,94.0,10.25,11.5,19.0,11.0,9.25,161.0,6.5,106.5,15.75,14.5,156.5,62.0,18.75,30.75,53.0,11.5,9.75,68.5,12.5,10.25,11.0,38.0,161.0,11.75,7.25,30.75,15.25,11.5,18.5,30.75,232.75,20.25,3.25,8.0,18.75,12.75,86.0,8.0,21.5,18.5,255.75,9.25,0.0,69.75,6.25,14.25,30.75,1498.25,9.25,1489.5,11.0,33.75,530.75,2274.0,1498.25,10.5,20.25,1489.5,530.75,1498.25,16.0,28.25,52.25,42.25,16.0,707.25,10.0,24.5,30.75,8.75,10.0,53.0,19.25,20.25,2.75,11.0,33.75,940.0,8.25,47.0,123.25,30.5,50.0,8.0,73.5,77.5,27.25,19.75,6.5,34.0,30.25,186.25,15.0,261.0,34.25,12.75,93.0,48.5,69.25,47.75,106.5,6.5,34.0,9.25,77.75,52.25,65.25,18.75,38.0,118.75,9.25,13202.0,1498.25,738.25,9.75,5.5,2.75,70.0,1.0,13.25,14.25,5149.25,269.0,25.25,85.25,9.25,18.75,11.0,33.75,175.0,1489.5,530.75,1498.25,19.0,11.0,15.25,9.25,1881.75,87.25,879.25,2274.0,29.75,11.0,19.0,29.0,68.5,12.5,9.25,33.75,11.5,9.25,40.5,52.25,94.0,30.75,23.75,9.25,175.0,1489.5,2274.0,93.0,9.25,20.25,1498.25,53.0,1645.25,2714.0,879.25,1324.25,5149.25,2118.0,1489.5,530.75,2274.0,36.25,156.75,40.75,9.25,19.25,16.25,17.75,11.5,56.0,68.5,565.0,11.75,10.5,20.25,2.5,28.25,18.75,26.75,15.0,9.75,10.0,14.5,5.0,308.0,33.75,29.75,40.5,21.25,22.25,20.25,9.25,2274.0,1498.25,153.75,16.5,52.25,70.0,232.75,10.0,9.25,738.25,86.25,26.25,30.5,50.0,9.5,21.5,9.25,33.5,30.75,36.25,30.75,18.5,13.25,12.5,14.25,3.25,236.75,18.5,150.75,8.0,16.5,6.75,20.0,707.25,9.5,1489.5,1498.25,0.0,1498.25,52.25,308.0,175.0,121.5,112.75,68.75,23.5,12.5,37.25,25.25,6.5,9.25,33.75,70.0,112.75,30.75,21.5,33.75,12.75,6.5,59.5,31.0,65.25,8.5,530.75,25.25,2.5,6.5,38.5,93.0,17.5,19.0,94.5,126.25,22.75,11.5,70.0,9.25,13202.0,530.75,1498.25,738.25,11.5,97.5,121.5,9.25,185.0,93.0,705.75,166.75,11.0,10.0,18.25,185.0,9.25,33.75,755.5,93.0,170.5,23.75,13.25,30.75,2118.0,49.25,525.5,18.0,112.5,1489.5,530.75,0.25,9.25,5.0,134.5,232.75,103.5,9.25,8.5,8.5,150.75,47.5,1.0,1881.75,30.75,3.25,13.25,20.75,19.0,8.5,5.5,10.25,18.0,9.25,0.0,86.25,46.0,11.0,58.25,1489.5,530.75,2274.0,1498.25,9.25,86.25,13.25,30.75,12.5,150.75,14.25,10.25,10.75,9.25,9.25,236.75,161.0,161.0,96.25,30.75,283.75,52.75,14.5,738.25,6.5,236.75,280.75,13.25,52.75,6.5,18.25,20.75,17.75,738.25,8.5,15.0,19.5,261.0,364.75,0.0,9.25,20.25,261.0,56.25,380.0,946.5,7.25,18.75,37.25,21.75,62.25,233.25,283.75,8.5,7.5,8.25,15.0,22.5,37.25,13.0,180.75,23.5,10.0,19.0,20.75,18.5,11.0,18.0,59.25,36.0,226.0,12.25,49.0,10.75,56.0,1489.5,11.5,144.25,97.5,32.75,0.0,15.0,52.25,45.5,2.0,60.5,30.75,16.75,1498.25,18.0,33.75,232.75,1881.75,20.75,13.25,68.5,12.5,5.0,23.5,0.0,13.0,10.0,23.5,26.75,7.5,19.25,48.75,82.5,10.25,266.5,11.0,56.0,69.75,52.75,6.25,18.75,20.0,738.25,57.75,156.5,2.25,9.25,71.0,55.5,70.0,33.75,71.0,283.75,35.25,11.0,9.25,33.75,280.75,62.25,1489.5,1498.25,20.75,13.5,11.5,17.0,9.25,18.75,14.75,21.0,106.5,9.25,19.5,232.75,1.0,28.25,31.0,23.75,1489.5,1498.25,9.25,18.0,0.0,119.0,86.25,20.25,9.25,476.0,255.75,30.75,9.25,33.75,13202.0,1489.5,530.75,2274.0,1498.25,17.0,14.75,9.25,148.75,7.5,67.75,0.0,25.25,19.25,46.0,30.0,42.25,16.75,14.75,18.5,30.75,1489.5,530.75,2274.0,1498.25,10.25,21.0,10.25,29.0,43.0,26.75,9.25,26.75,38.5,53.75,25.25,11.5,213.75,92.5,12.5,74.75,30.75,9.25,26.75,1498.25,269.0,26.75,7.5,53.0,8.5,16.75,68.5,7.0,1457.25,1120.5,49.25,1324.25,1355.0,208.25,7542.75,2925.75,1091.25,5149.25,2118.0,525.5,271.5,1489.5,530.75,2274.0,1498.25,9.25,103.5,7.5,92.5,232.75,9.25,9.25,11.0,175.0,738.25,18.0,25.25,19.25,30.75,97.5,18.75,12.5,9.25,1498.25,94.0,21.0,16.75,42.5,5.0,26.75,41.75,150.75,18.5,17.25,10.25,18.5,40.75,26.25,25.25,205.0,21.25,180.75,26.75,36.25,30.25,2274.0,14.75,20.25,38.5,10.0,35.75,25.75,46.0,9.25,266.5,9.25,35.25,25.0,32.75,48.25,15.5,12.0,58.25,79.25,11.5,92.5,18.75,11.0,33.75,1489.5,530.75,2274.0,1498.25,151.25,34.25,12.5,8.0,34.25,25.25,56.5,280.75,11.75,31.0,11.75,30.25,55.5,1457.25,30.75,18.75,2118.0,11.0,12.0,1489.5,530.75,2274.0,1498.25,5.0,10.25,8.5,18.0,30.75,540.0,17.25,100.25,10.0,21.0,53.0,22.25,20.25,7.0,8.5,4.0,11.5,9.25,755.5,156.75,9.25,13202.0,1.75,1.0,15.75,13.25,15.75,13.25,12.5,17.75,30.75,9.25,150.75,28.25,23.25,8.5,30.0,25.25,15.0,11.5,10.0,9.25,11.5,14.75,16.0,12.0,21.0,1881.75,1091.5,15.0,53.0,10.25,41.75,8.5,166.75,20.75,58.25,79.25,25.0,150.75,33.75,35.25,15.5,12.5,19.25,10.0,8.5,10.25,29.0,17.0,13.5,101.75,126.25,30.75,150.75,9.25,30.0,22.25,14.5,30.75,18.75,3774.25,414.0,50.0,0.0,33.75,85.0,64.5,14.75,43.75,9.25,15.5,9.25,8.5,24.5,10.0,106.0,50.0,9.75,13.5,13.25,2.75,2.0,213.75,26.25,18.75,16.5,55.5,68.25,41.5,16.5,85.0,16.5,100.25,9.25,33.75,38.0,18.5,76.75,14.75,213.75,20.75,7.5,30.75,0.0,17.25,9.25,14.75,25.0,67.75,180.75,12.75,15.5,1881.75,280.75,10.75,58.25,12.5,7.25,30.75,18.5,22.25,53.0,20.25,29.0,5.5,25.75,1881.75,24.5,280.75,25.0,17.75,9.25,58.25,15.5,94.0,15.5,11.25,9.25,33.75,30.75,11.5,9.5,180.75,188.5,14.75,804.25,17.75,33.75,11.5,88.25,127.75,17.75,9.25,11.5,15.75,738.25,0.0,30.75,32.5,55.5,21.25,10.25,29.0,8.5,25.75,16.75,0.0,4.75,6.5,269.0,11.75,31.0,32.5,32.0,47.25,96.25,22.25,10.25,94.0,166.75,5.5,23.75,32.75,232.75,15.75,9.25,21.0,9.25,33.75,60.0,1881.75,9.25,9.25,17.0,30.0,20.25,43.0,0.0,150.75,4.0,1489.5,530.75,1498.25,30.5,9.25,24.25,122.25,14.5,18.75,30.0,2272.25,30.75,49.0,20.75,26.25,1498.25,9.25,41.75,9.25,83.75,55.5,30.75,11.0,9.25,6.75,8.5,30.0,1.0,7.5,30.25,87.25,121.5,30.75,9.25,33.75,13202.0,1881.75,1489.5,530.75,2274.0,1498.25,15.0,45.75,30.75,1645.25,87.25,166.75,1489.5,74.75,38.5,476.0,1120.5,525.5,2274.0,1324.25,1457.25,2272.25,1302.25,1091.5,879.25,2714.0,2925.75,5149.25,3796.75,9.25,530.75,1498.25,14.5,55.5,11.0,1457.25,1489.5,530.75,2274.0,1498.25,232.75,12.0,33.75,1489.5,530.75,2274.0,525.5,879.25,2272.25,1324.25,114.25,1091.25,2925.75,93.0,151.25,22.75,74.75,166.75,229.5,7.0,61.75,87.25,48.25,15.5,14.0,96.75,58.25,79.25,2274.0,1489.5,530.75,879.25,2272.25,525.5,2925.75,1324.25,151.25,58.25,1091.25,48.25,166.75,0.0,79.25,93.0,96.75,49.0,7542.75,22.75,74.75,94.0,229.5,87.25,61.75,118.75,121.5,12.0,525.5,530.75,2272.25,879.25,1324.25,2925.75,151.25,74.75,1091.25,93.0,48.25,58.25,61.75,96.75,166.75,229.5,7.0,7542.75,94.0,178.75,175.0,22.0,25.0,2.0,1091.5,17.25,5.5,42.75,9.25,56.0,9.25,33.75,530.75,55.5,9.25,530.75,879.25,525.5,2272.25,1324.25,2925.75,151.25,93.0,48.25,1091.25,79.25,74.75,58.25,7542.75,22.75,7.0,166.75,96.75,14.0,29.25,229.5,15.5,94.0,178.75,18.75,21.75,2.0,18.75,8.5,879.25,11.0,9.25,2925.75,1324.25,55.5,11.0,9.25,11.0,12.0,9.25,94.0,10.25,55.5,17.25,26.25,5.0,21.0,16.0,9.25,14.75,26.25,12.0,9.25,205.0,13.5,16.75,4.75,42.0,94.0,96.75,25.75,15.75,43.0,121.5,9.25,25.75,18.0,9.25,21.25,41.5,85.0,20.25,55.5,540.0,205.75,7542.75,5149.25,2272.25,1302.25,94.0,30.25,17.0,18.5,10.25,17.25,5.0,21.0,540.0,13.0,5.0,21.0,10.25,49.75,17.0,19.75,50.0,9.25,31.0,8.0,27.25,6.5,34.0,30.25,2.5,9.25,3.5,41.5,23.75,13.5,232.75,245.75,9.25,8.5,11.5,58.25,15.5,18.0,0.0,20.75,7.0,18.5,9.25,96.0,0.0,4.75,150.75,0.0,9.25,0.0,46.0,3.0,11.75,18.25,6.5,9.25,17.75,50.0,27.25,6.5,106.5,41.75,17.0,30.0,7.0,8.5,11.5,56.0,16.75,10.75,11.0,11.0,13202.0,15.5,21.0,16.75,4.0,3.5,21.25,56.0,9.25,33.75,118.75,37.75,24.5,59.25,18.0,12.0,36.0,13.5,45.5,7.75,17.75,12.25,42.75,49.0,22.75,10.75,31.0,9.25,12.5,280.75,27.25,19.75,6.5,9.25,33.75,9.25,9.25,33.75,142.5,738.25,9.25,22.25,15.0,24.5,46.0,21.0,0.0,114.25,18.5,196.75,9.25,45.25,0.0,31.0,25.5,20.75,9.25,20.75,33.75,22.5,13.25,37.25,86.25,8.5,2.75,9.25,14.0,9.25,13.5,11.5,30.25,9.25,11.5,11.0,9.25,1120.5,8.0,23.75,2925.75,37.25,7.25,51.0,20.25,6.25,0.0,26.25,12.0,9.25,25.0,15.0,9.25,12.75,35.75,11.5,5149.25,11.5,9.25,31.75,9.25,9.25,59.5,11.5,50.0,9.25,18.5,30.25,11.5,9.25,11.0,9.25,2925.75,13.5,47.75,58.75,31.5,50.0,13202.0,27.25,6.5,34.0,35.0,11.5,2.5,10.0,9.75,20.25,1792.5,9.25,13202.0,7.0,9.25,9.25,17.75,9.25,7.5,9.25,22.5,245.75,21.0,22.75,7.5,21.25,40.75,48.5,28.0,21.25,9.25,9.25,8.5,11.0,9.75,11.0,208.25,5149.25,1355.0,9.25,6.5,36.0,32.0,22.0,49.0,15.25,73.75,15.0,2.75,24.5,14.75,12.25,24.0,35.75,25.25,13.5,9.0,33.75,22.25,22.25,17.25,18.5,266.5,2485.75,106.0,45.75,702.75,21.25,5.0,109.25,77.0,2714.0,12.25,99.5,42.75,24.0,12.0,198.25,10.75,19.25,59.25,6.5,42.0,9.25,20.25,9.5,118.75,3774.25,2.0,9.25,170.5,1.25,9.25,9.25,44.75,9.25,15.0,7.5,8.0,18.0,94.75,232.75,34.25,9.25,24.0,9.25,17.75,37.75,9.25,59.25,9.25,9.25,266.5,33.5,380.0,9.25,7.25,19.75,0.0,94.75,9.5,20.5,106.0,9.25,50.0,5.0,27.25,94.5,19.75,123.0,9.25,9.25,24.5,9.25,94.5,9.25,9.25,19.5,17.75,9.25,114.25,32.0,47.25,58.75,8.0,21.5,26.75,21.25,9.25,9.25,4.0,24.25,0.0,8.25,51.0,9.25,5.5,153.75,87.25,1.25,26.75,30.25,9.25,9.25,4.75,6.75,121.5,9.25,10.0,32.0,9.25,49.0,22.0,702.75,34.25,9.25,7.75,9.25,51.0,175.0,9.0,205.0,9.25,85.25,9.25,9.25,35.75,49.0,9.25,18.75,9.0,80.75,9.25,20.75,13.5,121.5,9.25,6.75,9.25,232.75,9.25,0.0,8.0,9.25,9.25,56.5,49.0,27.25,2.5,9.25,37.25,50.0,27.25,9.25,7921.75,9.5,3709.0,40.75,73.5,9.5,674.5,2714.0,9.5,24.5,11.75,90.0,7.25,47.25,52.75,946.5,5.75,770.75,15.75,2.25,28.0,42.5,37.75,71.0,9.25,164.75,9.0,45.5,21.25,18.5,25.25,12.0,24.0,1728.75,42.75,25.0,15.75,12.75,17.75,18.5,180.75,946.5,28.75,10.75,0.0,2.5,8.5,69.75,1.25,52.75,25.25,180.75,2.75,232.75,107.5,51.0,9.0,770.75,13.0,26.75,18.25,25.25,15.75,1.25,45.5,66.25,105.75,9.25,9.5,4.75,106.0,6.0,0.0,34.25,21.75,15.75,73.75,7.75,1.0,50.0,9.5,2.25,0.0,2.5,0.0,23.75],\"yaxis\":\"y\",\"type\":\"scattergl\"},{\"hovertemplate\":\"<b>OLS trendline</b><br>gene_2_tpm = 0.132636 * gene_1_tpm + 331.413<br>R<sup>2</sup>=0.002537<br><br>gene_1_tpm=%{x}<br>gene_2_tpm=%{y} <b>(trend)</b><extra></extra>\",\"legendgroup\":\"\",\"marker\":{\"color\":\"black\",\"symbol\":\"circle\"},\"mode\":\"lines\",\"name\":\"\",\"showlegend\":false,\"x\":[0.0,0.0,0.0,0.0,0.0,0.0,0.0,0.0,0.0,0.0,0.0,0.0,0.0,0.25,1.0,1.0,1.0,1.0,1.0,1.0,1.0,1.0,1.0,1.0,1.0,1.0,1.0,1.25,1.25,1.5,1.5,1.5,1.5,1.75,1.75,2.0,2.0,2.5,2.75,2.75,2.75,2.75,2.75,2.75,2.75,2.75,2.75,2.75,2.75,2.75,2.75,2.75,2.75,2.75,3.0,3.0,3.0,3.0,3.0,3.0,3.0,3.0,3.0,3.0,3.0,3.0,3.0,3.0,3.0,3.25,3.25,3.25,3.25,3.25,3.25,3.25,3.25,3.25,3.25,3.25,3.25,3.5,4.25,4.25,4.5,4.5,4.5,4.75,4.75,4.75,4.75,5.0,5.0,5.0,5.0,5.0,5.0,5.0,5.0,5.5,5.5,5.5,5.5,5.5,5.5,5.5,5.5,6.0,6.0,6.0,6.0,6.0,6.0,6.0,6.0,6.0,6.0,6.0,6.0,6.0,6.0,6.0,6.0,6.0,6.25,6.25,6.25,6.25,6.25,6.25,6.25,6.25,6.5,6.5,6.5,6.5,6.5,6.5,6.5,6.5,6.5,6.5,6.5,6.5,6.5,6.75,6.75,6.75,6.75,6.75,6.75,6.75,6.75,6.75,6.75,6.75,6.75,6.75,6.75,6.75,6.75,6.75,7.0,7.0,7.0,7.0,7.0,7.0,7.0,7.25,7.25,7.25,7.25,7.25,7.25,7.5,7.5,7.5,7.5,7.5,7.5,7.75,7.75,7.75,7.75,7.75,7.75,7.75,7.75,7.75,7.75,7.75,7.75,7.75,7.75,7.75,7.75,7.75,7.75,7.75,7.75,7.75,7.75,7.75,7.75,7.75,7.75,8.0,8.0,8.0,8.0,8.0,8.0,8.0,8.0,8.0,8.0,8.0,8.0,8.0,8.0,8.0,8.25,8.25,8.25,8.5,8.5,8.5,8.5,8.5,8.5,8.5,8.5,8.5,8.5,8.5,8.5,8.5,8.5,8.5,8.5,8.5,8.5,8.5,8.5,8.5,8.5,8.5,8.5,8.5,8.5,8.5,8.5,8.5,8.5,8.5,8.75,8.75,8.75,8.75,8.75,8.75,8.75,8.75,8.75,8.75,8.75,8.75,8.75,8.75,8.75,8.75,8.75,8.75,8.75,8.75,8.75,8.75,8.75,8.75,8.75,9.0,9.0,9.25,9.25,9.25,9.25,9.25,9.25,9.25,9.25,9.25,9.25,9.25,9.25,9.25,9.25,9.25,9.25,9.25,9.25,9.25,9.25,9.25,9.25,9.25,9.25,9.25,9.25,9.25,9.25,9.25,9.25,9.25,9.25,9.25,9.25,9.25,9.25,9.25,9.25,9.25,9.25,9.25,9.25,9.25,9.25,9.25,9.25,9.25,9.25,9.25,9.25,9.5,9.5,9.5,9.5,9.5,9.5,9.5,9.5,9.5,9.5,9.5,9.5,9.5,9.5,9.5,9.5,9.5,9.5,9.5,9.5,9.5,9.5,9.5,9.5,9.5,9.5,9.5,9.5,9.5,9.5,9.5,9.5,9.5,9.75,9.75,9.75,9.75,9.75,9.75,9.75,9.75,9.75,10.0,10.0,10.0,10.0,10.0,10.0,10.0,10.25,10.25,10.25,10.25,10.25,10.25,10.25,10.25,10.5,10.5,10.5,10.5,10.5,10.5,10.5,10.5,10.5,10.5,10.5,10.5,10.75,10.75,10.75,10.75,10.75,10.75,10.75,10.75,10.75,10.75,10.75,10.75,10.75,10.75,10.75,10.75,10.75,10.75,10.75,10.75,10.75,10.75,10.75,10.75,10.75,10.75,10.75,10.75,11.0,11.0,11.0,11.0,11.0,11.0,11.0,11.0,11.0,11.0,11.0,11.0,11.0,11.0,11.0,11.0,11.0,11.0,11.25,11.25,11.25,11.25,11.25,11.25,11.25,11.25,11.5,11.5,11.5,11.5,11.5,11.5,11.5,11.5,11.5,11.5,11.5,11.5,11.5,11.5,11.5,11.5,11.5,11.5,11.5,11.5,11.5,11.5,11.5,11.5,11.5,11.5,11.5,11.5,11.5,11.5,11.5,11.5,11.5,11.5,11.5,11.5,11.5,11.5,11.5,11.75,11.75,11.75,11.75,11.75,11.75,11.75,11.75,11.75,11.75,11.75,11.75,11.75,11.75,11.75,11.75,11.75,11.75,11.75,12.0,12.0,12.0,12.0,12.0,12.0,12.0,12.0,12.0,12.0,12.0,12.0,12.0,12.0,12.0,12.0,12.0,12.25,12.25,12.25,12.25,12.25,12.25,12.25,12.25,12.25,12.25,12.25,12.5,12.5,12.5,12.5,12.5,12.5,12.5,12.5,12.5,12.5,12.5,12.5,12.5,12.5,12.5,12.5,12.5,12.5,12.5,12.75,12.75,12.75,12.75,12.75,12.75,12.75,12.75,12.75,12.75,12.75,12.75,12.75,12.75,12.75,12.75,12.75,12.75,12.75,12.75,12.75,12.75,12.75,12.75,12.75,12.75,12.75,12.75,12.75,12.75,12.75,12.75,12.75,12.75,12.75,12.75,12.75,12.75,12.75,12.75,12.75,12.75,12.75,12.75,12.75,12.75,13.0,13.0,13.0,13.0,13.0,13.0,13.0,13.0,13.0,13.0,13.0,13.0,13.25,13.25,13.25,13.25,13.25,13.25,13.25,13.25,13.25,13.25,13.25,13.25,13.25,13.25,13.25,13.25,13.25,13.25,13.25,13.5,13.5,13.5,13.5,13.5,13.75,13.75,13.75,13.75,13.75,13.75,13.75,13.75,13.75,14.0,14.0,14.0,14.0,14.0,14.0,14.0,14.0,14.0,14.25,14.25,14.25,14.25,14.25,14.25,14.25,14.25,14.25,14.25,14.25,14.25,14.25,14.25,14.25,14.25,14.25,14.25,14.25,14.25,14.25,14.25,14.25,14.25,14.25,14.25,14.25,14.25,14.25,14.25,14.25,14.25,14.25,14.25,14.25,14.25,14.25,14.25,14.25,14.25,14.25,14.25,14.25,14.25,14.25,14.25,14.25,14.25,14.25,14.25,14.25,14.25,14.25,14.25,14.25,14.25,14.25,14.5,14.5,14.5,14.75,14.75,14.75,14.75,14.75,14.75,14.75,14.75,14.75,14.75,14.75,14.75,14.75,14.75,14.75,14.75,14.75,14.75,14.75,14.75,14.75,15.0,15.0,15.0,15.0,15.0,15.0,15.0,15.0,15.0,15.0,15.0,15.0,15.0,15.0,15.0,15.0,15.0,15.0,15.0,15.0,15.0,15.0,15.0,15.0,15.25,15.25,15.25,15.25,15.25,15.25,15.25,15.25,15.25,15.25,15.25,15.25,15.25,15.25,15.25,15.25,15.25,15.25,15.25,15.25,15.25,15.25,15.25,15.25,15.25,15.25,15.25,15.25,15.5,15.5,15.5,15.5,15.5,15.5,15.5,15.5,15.5,15.5,15.5,15.5,15.5,15.75,15.75,15.75,15.75,15.75,15.75,15.75,15.75,15.75,15.75,15.75,15.75,15.75,15.75,15.75,15.75,16.0,16.0,16.0,16.0,16.0,16.0,16.0,16.0,16.0,16.0,16.0,16.0,16.0,16.0,16.0,16.0,16.0,16.0,16.0,16.0,16.0,16.0,16.0,16.0,16.0,16.0,16.0,16.0,16.0,16.0,16.0,16.0,16.0,16.0,16.0,16.0,16.0,16.0,16.0,16.0,16.0,16.0,16.0,16.0,16.0,16.0,16.0,16.0,16.0,16.0,16.0,16.0,16.0,16.0,16.0,16.0,16.0,16.0,16.0,16.0,16.0,16.0,16.0,16.0,16.0,16.0,16.0,16.0,16.0,16.25,16.25,16.25,16.25,16.5,16.5,16.5,16.5,16.5,16.5,16.5,16.5,16.5,16.5,16.5,16.5,16.5,16.5,16.5,16.5,16.5,16.5,16.75,16.75,16.75,17.0,17.0,17.0,17.0,17.0,17.25,17.25,17.5,17.5,17.5,17.5,17.5,17.5,17.5,17.5,17.5,17.5,17.5,17.5,17.5,17.5,17.5,17.5,17.75,17.75,17.75,17.75,17.75,17.75,17.75,18.0,18.0,18.0,18.0,18.0,18.0,18.0,18.0,18.0,18.0,18.0,18.0,18.0,18.0,18.0,18.0,18.0,18.0,18.25,18.25,18.25,18.25,18.25,18.25,18.25,18.5,18.5,18.5,18.5,18.5,18.5,18.5,18.5,18.5,18.5,18.5,18.5,18.5,18.5,18.5,18.5,18.5,18.5,18.5,18.5,18.5,18.75,18.75,18.75,18.75,18.75,18.75,18.75,18.75,18.75,18.75,18.75,18.75,18.75,18.75,18.75,18.75,18.75,18.75,18.75,18.75,18.75,18.75,18.75,18.75,18.75,18.75,18.75,18.75,18.75,18.75,18.75,18.75,18.75,18.75,18.75,18.75,18.75,18.75,18.75,18.75,18.75,18.75,18.75,18.75,18.75,18.75,18.75,18.75,18.75,19.0,19.0,19.0,19.0,19.0,19.0,19.0,19.0,19.0,19.0,19.25,19.25,19.25,19.25,19.25,19.25,19.25,19.25,19.25,19.25,19.25,19.25,19.25,19.25,19.25,19.25,19.25,19.25,19.25,19.25,19.25,19.25,19.25,19.25,19.25,19.25,19.5,19.5,19.5,19.5,19.5,19.5,19.5,19.5,19.5,19.75,19.75,19.75,19.75,19.75,19.75,19.75,19.75,20.0,20.0,20.0,20.0,20.0,20.0,20.0,20.0,20.0,20.0,20.0,20.0,20.0,20.0,20.0,20.0,20.0,20.0,20.0,20.0,20.0,20.0,20.0,20.0,20.0,20.0,20.0,20.0,20.0,20.0,20.0,20.0,20.0,20.0,20.0,20.0,20.0,20.0,20.0,20.0,20.0,20.0,20.0,20.0,20.0,20.0,20.0,20.0,20.0,20.0,20.0,20.0,20.25,20.25,20.25,20.25,20.25,20.25,20.25,20.25,20.25,20.25,20.25,20.25,20.25,20.25,20.25,20.25,20.25,20.25,20.25,20.5,20.5,20.5,20.75,20.75,20.75,20.75,20.75,20.75,20.75,20.75,20.75,20.75,20.75,20.75,20.75,20.75,20.75,21.0,21.0,21.0,21.0,21.0,21.0,21.0,21.0,21.0,21.0,21.0,21.0,21.0,21.0,21.25,21.25,21.25,21.25,21.25,21.25,21.25,21.25,21.25,21.25,21.25,21.5,21.5,21.5,21.5,21.5,21.5,21.5,21.5,21.5,21.5,21.5,21.5,21.5,21.5,21.5,21.5,21.5,21.5,21.5,21.5,21.5,21.5,21.5,21.5,21.75,21.75,21.75,22.0,22.0,22.0,22.0,22.25,22.25,22.25,22.25,22.25,22.25,22.25,22.25,22.25,22.25,22.25,22.25,22.25,22.25,22.25,22.25,22.25,22.5,22.5,22.5,22.5,22.5,22.5,22.5,22.5,22.5,22.5,22.75,22.75,22.75,22.75,23.25,23.25,23.25,23.25,23.25,23.25,23.25,23.25,23.25,23.5,23.5,23.5,23.5,23.5,23.5,23.5,23.5,23.5,23.75,23.75,23.75,23.75,23.75,23.75,23.75,23.75,23.75,23.75,23.75,23.75,23.75,24.0,24.0,24.0,24.0,24.0,24.0,24.0,24.0,24.0,24.0,24.0,24.0,24.0,24.0,24.0,24.0,24.25,24.25,24.25,24.25,24.25,24.25,24.25,24.25,24.25,24.5,24.5,24.5,24.5,24.5,24.5,24.75,24.75,24.75,25.0,25.0,25.0,25.0,25.0,25.0,25.0,25.0,25.0,25.0,25.0,25.0,25.0,25.0,25.25,25.25,25.25,25.25,25.25,25.25,25.25,25.25,25.25,25.25,25.25,25.25,25.25,25.5,25.75,25.75,25.75,25.75,25.75,25.75,25.75,25.75,25.75,26.0,26.0,26.25,26.25,26.25,26.25,26.25,26.25,26.25,26.25,26.25,26.25,26.5,26.5,26.5,26.5,26.5,26.5,26.5,26.5,26.5,26.5,26.5,26.5,26.5,26.5,26.5,26.5,26.5,26.5,26.5,26.5,26.5,26.5,26.5,26.5,26.5,26.5,26.5,26.5,26.5,26.5,26.5,26.5,26.5,26.5,26.5,26.5,26.5,26.5,26.5,26.5,26.5,26.5,26.5,26.5,26.5,26.5,26.5,26.5,26.5,26.5,26.5,26.5,26.5,26.5,26.5,26.5,26.5,26.5,26.5,26.5,26.5,26.5,26.5,26.5,26.5,26.5,26.5,26.5,26.5,26.5,26.5,26.5,26.5,26.5,26.5,26.5,26.5,26.5,26.5,26.5,26.5,26.75,26.75,26.75,26.75,26.75,26.75,26.75,26.75,26.75,26.75,26.75,26.75,26.75,26.75,26.75,26.75,26.75,26.75,26.75,26.75,26.75,26.75,26.75,26.75,26.75,26.75,26.75,26.75,26.75,26.75,26.75,27.0,27.0,27.0,27.0,27.0,27.0,27.0,27.0,27.0,27.0,27.0,27.0,27.0,27.0,27.0,27.0,27.0,27.0,27.0,27.0,27.0,27.25,27.25,27.75,27.75,27.75,27.75,27.75,27.75,27.75,28.25,28.25,28.25,28.25,28.25,28.25,28.25,28.25,28.25,28.25,28.25,28.25,28.25,28.5,28.5,28.5,28.5,28.75,28.75,28.75,28.75,28.75,28.75,28.75,28.75,28.75,28.75,28.75,29.0,29.0,29.0,29.0,29.0,29.0,29.0,29.0,29.0,29.0,29.0,29.0,29.0,29.0,29.0,29.0,29.0,29.0,29.0,29.0,29.0,29.0,29.0,29.25,29.25,29.25,29.25,29.25,29.25,29.5,29.5,29.5,29.5,29.5,29.5,29.5,29.5,29.75,29.75,29.75,29.75,30.0,30.0,30.0,30.0,30.0,30.0,30.0,30.25,30.25,30.25,30.25,30.25,30.25,30.5,30.5,30.5,30.5,30.5,30.5,30.5,30.5,30.5,30.5,30.5,30.5,30.5,30.5,30.5,30.5,30.5,30.5,30.5,30.5,30.5,30.5,30.5,30.5,30.5,30.5,30.5,30.5,30.75,30.75,30.75,30.75,30.75,30.75,30.75,30.75,30.75,30.75,30.75,30.75,30.75,30.75,30.75,30.75,30.75,30.75,30.75,30.75,30.75,30.75,30.75,30.75,30.75,30.75,30.75,30.75,30.75,30.75,30.75,30.75,30.75,30.75,30.75,30.75,30.75,30.75,30.75,30.75,30.75,30.75,30.75,30.75,30.75,30.75,30.75,30.75,30.75,30.75,30.75,30.75,30.75,30.75,30.75,30.75,30.75,30.75,30.75,30.75,30.75,30.75,30.75,30.75,30.75,31.0,31.0,31.0,31.0,31.0,31.0,31.0,31.0,31.5,31.5,31.5,31.5,31.5,31.5,31.5,31.5,31.5,31.5,31.75,31.75,31.75,31.75,31.75,31.75,31.75,31.75,31.75,31.75,31.75,31.75,31.75,31.75,31.75,31.75,31.75,31.75,31.75,31.75,31.75,31.75,31.75,31.75,31.75,31.75,31.75,31.75,31.75,31.75,31.75,31.75,31.75,31.75,31.75,31.75,31.75,31.75,31.75,31.75,31.75,31.75,31.75,31.75,31.75,31.75,31.75,31.75,32.0,32.0,32.25,32.25,32.25,32.25,32.25,32.25,32.25,32.25,32.25,32.25,32.25,32.5,32.5,32.5,32.75,32.75,32.75,32.75,32.75,32.75,32.75,32.75,32.75,32.75,32.75,32.75,32.75,32.75,32.75,32.75,32.75,32.75,32.75,32.75,32.75,32.75,32.75,32.75,32.75,32.75,33.0,33.0,33.0,33.0,33.0,33.0,33.25,33.25,33.25,33.25,33.25,33.25,33.5,33.5,33.5,33.5,33.5,33.5,33.5,33.75,33.75,33.75,33.75,33.75,33.75,33.75,33.75,33.75,33.75,33.75,33.75,33.75,33.75,33.75,33.75,33.75,33.75,33.75,34.0,34.0,34.25,34.5,34.5,35.0,35.0,35.0,35.0,35.0,35.0,35.0,35.0,35.25,35.25,35.25,35.25,35.25,35.25,35.25,35.25,35.25,35.25,35.25,35.25,35.25,35.25,35.25,35.25,35.25,35.25,35.25,35.25,35.25,35.25,35.25,35.25,35.25,35.25,35.25,35.25,35.25,35.25,35.25,35.25,35.25,35.25,35.25,35.25,35.25,35.25,35.25,35.25,35.5,35.5,35.5,35.5,35.5,35.5,35.75,36.0,36.0,36.0,36.0,36.0,36.25,36.25,36.25,36.25,36.25,36.25,36.25,36.25,36.25,36.25,36.5,36.5,36.5,36.5,36.5,36.5,36.5,36.5,36.5,36.5,36.5,36.5,36.5,36.5,36.5,36.5,36.5,36.5,36.5,36.5,36.5,36.5,36.5,36.5,36.5,36.5,36.5,36.75,36.75,36.75,36.75,36.75,36.75,37.0,37.0,37.0,37.0,37.0,37.0,37.0,37.0,37.0,37.25,37.25,37.25,37.25,37.5,37.5,37.5,37.5,37.5,37.5,37.5,37.5,37.5,38.0,38.0,38.0,38.25,38.25,38.25,38.25,38.25,38.25,38.25,38.25,38.25,38.25,38.25,38.25,38.25,38.25,38.25,38.5,38.5,38.5,38.5,38.5,38.5,38.5,38.5,38.75,38.75,38.75,38.75,38.75,38.75,38.75,38.75,38.75,38.75,38.75,38.75,38.75,38.75,38.75,38.75,38.75,38.75,38.75,38.75,38.75,38.75,38.75,39.0,39.0,39.0,39.0,39.0,39.0,39.0,40.25,40.25,40.25,40.25,40.25,40.25,40.25,40.25,40.25,40.25,40.25,40.25,40.25,40.25,40.25,40.25,40.25,40.25,40.25,40.25,40.25,40.25,40.25,40.25,40.25,40.25,40.25,40.25,40.25,40.25,40.25,40.25,40.25,40.25,40.25,40.25,40.25,40.25,40.25,40.25,40.25,40.5,40.5,40.5,40.5,40.5,40.75,40.75,41.0,41.5,41.5,41.5,41.5,41.5,41.5,41.5,41.75,41.75,42.0,42.0,42.0,42.0,42.25,42.25,42.25,42.25,42.25,42.25,42.25,42.25,42.25,42.25,42.25,42.25,42.25,42.25,42.25,42.25,42.25,42.25,42.25,42.25,42.25,42.25,42.25,42.25,42.25,42.25,42.25,42.25,42.25,42.25,42.25,42.25,42.25,42.5,42.5,42.5,42.5,42.5,42.5,42.5,42.5,42.5,43.0,43.5,43.75,43.75,43.75,43.75,44.75,44.75,44.75,44.75,44.75,44.75,44.75,44.75,44.75,44.75,44.75,44.75,44.75,44.75,44.75,44.75,44.75,44.75,44.75,44.75,44.75,44.75,44.75,44.75,44.75,44.75,44.75,44.75,44.75,44.75,44.75,44.75,44.75,44.75,44.75,44.75,44.75,44.75,44.75,44.75,44.75,44.75,44.75,44.75,44.75,44.75,44.75,44.75,44.75,44.75,44.75,44.75,44.75,44.75,44.75,44.75,44.75,44.75,44.75,44.75,44.75,44.75,44.75,44.75,44.75,44.75,44.75,44.75,44.75,44.75,44.75,44.75,44.75,44.75,44.75,44.75,44.75,44.75,44.75,44.75,44.75,44.75,44.75,44.75,44.75,44.75,44.75,44.75,44.75,44.75,44.75,44.75,44.75,44.75,44.75,44.75,44.75,44.75,44.75,44.75,44.75,44.75,44.75,44.75,44.75,44.75,44.75,44.75,44.75,44.75,44.75,44.75,44.75,44.75,44.75,44.75,44.75,44.75,44.75,44.75,44.75,44.75,44.75,44.75,44.75,44.75,44.75,44.75,44.75,44.75,44.75,44.75,44.75,44.75,44.75,44.75,44.75,44.75,44.75,44.75,44.75,44.75,44.75,44.75,45.0,45.0,45.0,45.0,45.0,45.0,45.0,45.0,45.0,45.0,45.0,45.0,45.0,45.0,45.0,45.0,45.0,45.0,45.0,45.0,45.0,45.0,45.0,45.0,45.0,45.0,45.0,45.0,45.0,45.0,45.0,45.0,45.0,45.0,45.0,45.0,45.0,45.0,45.0,45.0,45.0,45.0,45.0,45.0,45.0,45.0,45.0,45.0,45.0,45.0,45.0,45.0,45.0,45.0,45.0,45.0,45.0,45.0,45.0,45.0,45.0,45.0,45.0,45.0,45.0,45.0,45.0,45.0,45.0,45.0,45.0,45.0,45.0,45.0,45.0,45.0,45.0,45.0,45.0,45.0,45.0,45.0,45.0,45.0,45.0,45.0,45.0,45.0,45.0,45.0,45.0,45.0,45.0,45.0,45.0,45.0,45.0,45.0,45.0,45.0,45.0,45.0,45.0,45.0,45.0,45.0,45.0,45.0,45.0,45.0,45.0,45.0,45.0,45.0,45.0,45.0,45.0,45.0,45.0,45.0,45.0,45.0,45.0,45.0,45.0,45.0,45.0,45.0,45.0,45.0,45.0,45.0,45.0,45.0,45.0,45.0,45.0,45.0,45.0,45.0,45.0,45.0,45.0,45.0,45.0,45.0,45.0,45.0,45.0,45.0,45.25,45.25,45.25,45.25,45.25,45.25,45.5,45.5,45.5,45.5,45.5,45.5,45.5,45.5,45.5,45.5,45.5,45.5,45.5,45.5,45.5,45.5,45.5,45.5,45.5,45.5,45.5,45.75,45.75,46.0,46.0,46.0,46.0,46.0,46.0,47.25,47.25,47.25,47.25,47.25,47.25,47.5,47.5,47.75,47.75,47.75,47.75,47.75,47.75,47.75,47.75,47.75,47.75,47.75,47.75,47.75,47.75,47.75,47.75,47.75,47.75,47.75,47.75,47.75,47.75,47.75,47.75,47.75,47.75,47.75,47.75,47.75,47.75,47.75,48.0,48.0,48.0,48.0,48.0,48.0,48.0,48.0,48.0,48.0,48.0,48.0,48.0,48.0,48.0,48.0,48.0,48.25,48.5,48.5,48.5,48.75,48.75,48.75,48.75,48.75,48.75,48.75,48.75,48.75,48.75,48.75,48.75,48.75,48.75,48.75,48.75,48.75,48.75,48.75,48.75,48.75,48.75,48.75,48.75,48.75,48.75,48.75,49.25,49.25,49.25,49.25,49.25,49.25,49.25,49.25,49.25,49.25,50.0,50.5,50.5,50.5,50.75,50.75,50.75,50.75,50.75,50.75,50.75,50.75,50.75,50.75,50.75,50.75,50.75,50.75,50.75,50.75,50.75,50.75,50.75,50.75,50.75,51.0,51.0,52.25,52.25,52.25,52.25,52.25,52.25,52.25,52.25,52.25,52.5,52.5,52.5,52.5,52.5,52.5,52.5,52.5,52.5,52.75,52.75,52.75,52.75,52.75,52.75,52.75,52.75,52.75,52.75,52.75,52.75,52.75,52.75,52.75,52.75,52.75,52.75,52.75,52.75,52.75,52.75,52.75,52.75,52.75,52.75,52.75,52.75,52.75,53.0,53.0,53.0,53.0,53.0,53.0,53.0,53.0,53.0,53.0,53.0,53.0,53.0,53.0,53.0,53.0,53.0,53.0,53.0,53.0,53.0,53.0,53.0,53.0,53.0,53.0,53.0,53.0,53.0,53.0,53.0,53.0,53.0,53.0,53.0,53.0,53.0,53.0,53.0,53.0,53.0,53.0,53.0,53.0,53.0,53.0,53.0,53.0,53.0,53.0,53.0,53.0,53.0,53.0,53.0,53.0,53.0,53.25,53.25,53.25,53.25,53.25,53.25,53.25,53.25,53.25,53.25,53.25,53.25,53.25,53.25,53.25,53.25,53.25,53.25,53.25,53.25,53.25,53.25,53.25,53.25,53.25,53.25,53.75,53.75,54.0,54.25,54.25,54.25,54.25,54.25,54.25,54.25,54.25,54.25,54.25,54.25,54.25,54.25,54.25,54.25,54.25,54.25,54.25,54.25,54.25,54.25,54.25,54.25,54.25,54.25,54.25,54.25,54.25,54.25,54.25,54.25,54.25,54.25,54.25,54.25,55.0,55.5,55.5,55.5,55.5,55.5,55.5,55.5,55.5,55.5,55.5,55.75,55.75,55.75,55.75,55.75,55.75,55.75,55.75,55.75,55.75,55.75,55.75,55.75,55.75,55.75,55.75,55.75,55.75,55.75,55.75,55.75,55.75,55.75,55.75,55.75,55.75,55.75,55.75,55.75,55.75,55.75,55.75,55.75,55.75,55.75,55.75,55.75,55.75,55.75,55.75,55.75,55.75,55.75,55.75,55.75,55.75,55.75,55.75,55.75,55.75,55.75,55.75,55.75,55.75,55.75,55.75,55.75,55.75,55.75,55.75,55.75,55.75,55.75,55.75,55.75,55.75,55.75,55.75,55.75,55.75,55.75,55.75,55.75,55.75,55.75,55.75,55.75,55.75,55.75,56.0,56.0,56.0,56.0,56.0,56.0,56.0,56.0,56.0,56.0,56.0,56.0,56.0,56.0,56.0,56.0,56.0,56.0,56.0,56.0,56.0,56.0,56.0,56.0,56.0,56.0,56.0,56.0,56.0,56.0,56.0,56.0,56.0,56.0,56.0,56.25,56.25,56.5,57.0,57.0,57.0,57.0,57.0,57.0,57.0,57.0,57.0,57.0,57.0,57.0,57.0,57.0,57.0,57.0,57.0,57.0,57.0,57.0,57.0,57.0,57.0,57.0,57.0,57.0,57.25,57.25,57.25,57.75,57.75,57.75,57.75,58.0,58.25,58.25,59.25,59.25,59.25,59.25,59.25,59.25,59.25,59.25,59.25,59.25,59.25,59.25,59.25,59.25,59.25,59.25,59.25,59.25,59.25,59.25,59.25,59.25,59.25,59.25,59.25,59.25,59.25,59.25,59.25,59.25,59.25,59.25,59.25,59.25,59.25,59.25,59.25,59.25,59.25,59.25,59.25,59.25,59.25,59.25,59.25,59.25,59.25,59.25,59.25,59.25,59.25,59.25,59.25,59.25,59.25,59.25,59.25,59.25,59.25,59.25,59.25,59.25,59.25,59.25,59.25,59.25,59.25,59.5,59.5,59.75,59.75,59.75,59.75,59.75,59.75,59.75,59.75,59.75,59.75,59.75,59.75,59.75,59.75,59.75,59.75,59.75,59.75,59.75,59.75,59.75,59.75,59.75,59.75,59.75,59.75,59.75,59.75,59.75,59.75,59.75,59.75,59.75,59.75,59.75,59.75,59.75,59.75,59.75,59.75,60.0,60.25,60.25,60.25,60.25,60.25,60.25,60.25,60.25,60.25,60.25,60.25,60.25,60.25,60.25,60.5,60.5,60.5,60.5,60.5,60.5,60.5,60.5,60.5,60.5,60.5,60.5,60.5,60.5,60.75,60.75,60.75,60.75,60.75,60.75,60.75,60.75,60.75,60.75,60.75,60.75,60.75,60.75,60.75,60.75,60.75,60.75,60.75,60.75,60.75,60.75,60.75,60.75,60.75,60.75,60.75,60.75,60.75,60.75,60.75,60.75,60.75,60.75,60.75,60.75,60.75,60.75,60.75,60.75,60.75,60.75,60.75,60.75,60.75,60.75,60.75,60.75,60.75,60.75,60.75,60.75,60.75,60.75,60.75,60.75,60.75,60.75,60.75,60.75,60.75,60.75,60.75,60.75,60.75,60.75,60.75,60.75,60.75,60.75,60.75,60.75,60.75,60.75,60.75,60.75,60.75,60.75,60.75,60.75,60.75,60.75,60.75,60.75,60.75,60.75,60.75,60.75,60.75,60.75,60.75,60.75,60.75,60.75,60.75,60.75,60.75,60.75,60.75,60.75,61.5,61.5,61.5,61.5,61.5,61.5,61.5,61.5,61.5,61.5,61.5,61.5,61.5,61.5,61.5,61.5,61.5,61.5,61.5,61.5,61.5,61.5,61.5,61.5,61.5,61.5,61.5,61.5,61.5,61.5,61.5,61.5,61.5,61.5,61.5,61.5,61.5,61.5,61.5,61.75,61.75,61.75,61.75,62.0,62.0,62.0,62.0,62.0,62.0,62.0,62.0,62.0,62.0,62.0,62.0,62.0,62.0,62.0,62.0,62.0,62.0,62.0,62.0,62.0,62.0,62.0,62.0,62.25,62.25,62.25,62.25,62.5,62.5,62.5,62.5,62.5,63.0,63.0,63.25,63.25,63.25,63.25,63.25,63.25,63.25,63.25,63.25,63.25,63.25,63.25,63.25,63.25,63.25,63.25,63.25,63.25,63.25,63.25,63.25,63.5,63.5,63.5,63.5,63.5,63.5,63.5,63.5,63.5,63.5,63.5,63.5,63.5,63.5,63.5,63.5,63.75,63.75,63.75,63.75,63.75,63.75,63.75,63.75,64.5,64.75,64.75,64.75,64.75,64.75,64.75,64.75,64.75,64.75,64.75,64.75,64.75,64.75,64.75,65.25,65.25,65.25,65.25,65.25,65.25,65.25,65.25,65.25,65.25,65.25,65.25,65.25,65.25,65.25,65.75,65.75,65.75,65.75,65.75,65.75,65.75,65.75,65.75,65.75,65.75,65.75,65.75,65.75,65.75,65.75,65.75,65.75,65.75,65.75,65.75,65.75,65.75,65.75,65.75,65.75,65.75,65.75,65.75,65.75,65.75,65.75,65.75,65.75,65.75,65.75,65.75,65.75,66.25,66.25,66.5,66.5,66.5,66.5,66.5,66.5,66.5,67.75,67.75,68.0,68.0,68.0,68.0,68.0,68.0,68.0,68.0,68.0,68.0,68.0,68.0,68.0,68.0,68.0,68.0,68.0,68.0,68.0,68.0,68.0,68.0,68.0,68.0,68.0,68.0,68.0,68.0,68.0,68.25,68.25,68.25,68.5,68.5,68.5,68.5,68.5,68.5,68.5,68.5,68.5,68.5,68.5,68.5,68.5,68.5,68.5,68.5,68.5,68.5,68.5,68.5,68.5,68.5,68.5,68.5,68.5,68.5,68.5,68.5,68.5,68.5,68.5,68.5,68.5,68.5,68.5,68.5,68.5,68.5,68.75,68.75,69.0,69.25,69.25,69.25,69.25,69.25,69.25,69.25,69.25,69.25,69.25,69.25,69.5,69.5,69.5,69.5,69.5,69.5,69.5,69.5,69.5,69.5,69.5,69.5,69.5,69.5,69.5,70.0,70.0,70.0,70.0,70.0,70.0,70.0,70.0,70.0,70.0,70.5,70.5,70.5,70.5,70.5,71.5,71.5,72.75,72.75,72.75,72.75,72.75,72.75,72.75,72.75,72.75,72.75,72.75,72.75,72.75,72.75,72.75,72.75,72.75,72.75,72.75,72.75,72.75,72.75,72.75,72.75,72.75,73.0,73.0,73.0,73.0,73.0,73.0,73.0,73.0,73.0,73.0,73.0,73.0,73.0,73.0,73.0,73.0,73.0,73.0,73.0,73.25,73.25,73.25,73.25,73.25,73.25,73.25,73.5,73.5,73.5,73.75,74.25,74.25,74.25,74.25,74.25,74.25,74.25,74.25,74.25,74.25,74.25,74.25,74.25,74.25,74.25,74.5,74.5,74.5,74.5,74.5,74.5,74.5,74.5,75.25,75.25,75.25,75.25,75.25,75.25,75.25,75.25,75.25,75.25,75.25,75.25,75.25,75.25,75.25,75.25,75.25,75.25,75.25,75.25,75.25,75.25,75.25,75.25,75.25,75.25,75.25,75.25,75.25,75.25,75.25,75.25,75.25,75.25,75.25,75.25,75.25,75.25,75.25,75.25,75.25,75.25,75.25,75.25,75.25,75.25,75.25,75.25,75.25,75.25,75.25,75.25,75.25,75.25,75.25,75.25,75.25,75.25,75.25,75.25,75.25,75.25,75.25,75.25,75.25,75.25,75.25,75.25,75.25,75.25,75.25,75.25,75.25,75.25,75.25,75.25,75.25,75.25,75.25,75.25,75.25,75.25,75.25,75.25,75.25,75.25,75.25,75.25,75.25,75.25,75.25,75.25,75.25,75.25,75.25,75.25,75.25,75.25,75.25,75.25,75.25,75.25,75.25,75.25,75.25,75.25,75.25,75.25,75.25,75.25,75.25,75.25,75.25,75.25,75.25,75.25,75.25,75.25,75.25,75.25,75.25,75.25,75.25,75.25,75.25,75.25,75.25,75.25,75.25,75.25,75.25,75.25,75.25,75.25,75.25,75.25,75.25,75.25,75.25,75.25,75.25,75.25,75.25,75.25,75.25,75.25,75.25,75.25,75.25,75.25,75.25,75.25,75.25,75.25,75.25,75.25,75.25,75.25,75.25,75.25,75.25,75.25,75.25,75.25,75.25,75.25,75.5,75.5,75.5,75.5,75.5,75.5,75.5,75.5,75.5,75.5,76.0,76.0,76.0,76.0,76.0,76.0,76.0,76.0,76.0,76.0,76.0,76.0,76.0,76.0,76.0,76.0,76.0,76.0,76.0,76.0,76.0,76.0,76.0,76.0,76.0,76.0,76.0,76.0,76.0,76.0,76.0,76.0,76.0,76.0,76.0,76.0,76.0,76.0,76.0,76.0,76.0,76.0,76.0,76.0,76.0,76.0,76.0,76.0,76.0,76.0,76.0,76.0,76.0,76.0,76.0,76.0,76.0,76.0,76.0,76.0,76.0,76.0,76.0,76.0,76.0,76.0,76.0,76.0,76.0,76.0,76.0,76.0,76.0,76.0,76.0,76.0,76.0,76.0,76.0,76.0,76.0,76.0,76.0,76.0,76.0,76.0,76.0,76.0,76.0,76.0,76.0,76.0,76.0,76.0,76.0,76.0,76.0,76.0,76.0,76.0,76.0,76.0,76.0,76.0,76.0,77.0,77.0,77.0,77.0,77.25,77.25,77.25,77.25,77.25,77.25,77.25,77.25,77.25,77.25,77.5,77.5,77.5,77.5,77.5,77.5,77.5,77.5,77.5,77.75,77.75,77.75,77.75,77.75,77.75,77.75,77.75,77.75,77.75,77.75,77.75,77.75,77.75,77.75,77.75,77.75,77.75,77.75,77.75,77.75,77.75,77.75,77.75,77.75,78.0,78.25,78.25,78.25,78.25,78.25,78.25,78.25,78.25,78.25,78.25,78.25,78.25,78.25,78.25,78.25,78.25,78.25,78.25,78.25,78.25,78.25,78.25,78.25,78.25,78.25,78.25,78.25,78.25,78.25,78.25,78.25,78.25,78.25,78.5,78.5,78.5,78.5,78.5,78.5,78.5,78.5,78.5,78.5,78.5,78.5,78.5,78.5,78.5,78.5,78.5,78.5,78.5,78.5,78.5,78.5,78.5,78.5,78.5,78.5,78.5,78.5,78.5,78.5,78.5,78.5,78.5,78.5,78.5,78.5,78.5,78.5,79.25,79.25,79.25,79.25,79.25,79.25,79.25,79.25,79.25,79.25,79.25,79.25,79.25,79.25,79.25,79.25,79.25,79.25,79.25,79.25,79.25,79.25,79.25,79.25,79.25,79.25,79.25,79.25,79.25,79.25,79.25,79.25,79.25,79.25,79.25,80.0,80.0,80.0,80.0,80.0,80.0,80.0,80.0,80.0,80.0,80.0,80.0,80.0,80.0,80.0,80.0,80.0,80.0,80.0,80.0,80.0,80.75,80.75,80.75,80.75,80.75,80.75,80.75,80.75,80.75,80.75,80.75,80.75,80.75,80.75,80.75,80.75,80.75,80.75,80.75,80.75,80.75,80.75,80.75,80.75,80.75,80.75,80.75,80.75,80.75,80.75,80.75,80.75,80.75,80.75,80.75,80.75,80.75,80.75,80.75,80.75,80.75,80.75,80.75,80.75,80.75,80.75,80.75,80.75,80.75,80.75,80.75,80.75,80.75,80.75,80.75,80.75,80.75,80.75,80.75,80.75,80.75,80.75,80.75,80.75,80.75,80.75,80.75,80.75,80.75,80.75,80.75,80.75,80.75,80.75,80.75,80.75,80.75,80.75,81.5,81.5,81.5,81.5,81.5,81.5,81.5,81.5,81.5,81.5,81.5,81.5,81.5,81.5,81.5,81.5,81.5,81.5,81.5,81.5,81.5,81.5,81.5,81.5,81.5,81.5,81.5,81.5,81.5,81.5,81.5,81.5,82.0,83.75,83.75,83.75,83.75,84.0,84.0,84.0,84.0,84.0,84.0,84.0,84.0,84.0,84.0,84.0,84.0,84.0,84.0,84.0,84.0,85.0,85.0,85.0,85.0,85.0,85.0,85.25,85.25,85.25,85.25,85.25,85.25,85.5,85.5,85.5,85.5,85.5,86.0,86.0,86.0,86.0,86.0,86.0,86.0,86.0,86.0,86.0,86.25,86.25,86.25,86.25,86.25,86.25,86.75,86.75,86.75,86.75,86.75,86.75,86.75,86.75,86.75,87.25,87.5,87.5,87.5,87.5,87.5,87.5,87.5,87.5,87.5,87.5,87.5,87.5,87.5,89.0,89.0,89.0,89.0,89.0,89.0,89.0,89.0,89.0,89.0,89.0,89.0,89.0,89.0,89.0,89.75,91.25,91.25,91.25,91.25,91.25,91.25,91.25,91.25,91.25,91.25,91.25,91.25,91.25,91.25,91.25,91.25,91.25,91.25,91.25,91.25,91.25,91.25,91.25,91.25,91.25,91.25,91.25,91.25,91.5,92.5,92.5,92.5,92.5,92.5,92.5,92.5,92.5,93.0,93.0,93.0,93.0,93.0,93.0,93.0,93.25,93.25,93.25,94.0,94.0,94.0,94.0,94.0,94.0,94.0,94.0,94.0,94.0,94.0,94.0,94.0,94.0,94.0,94.5,94.75,94.75,96.0,96.0,96.25,96.25,96.25,96.25,96.25,96.25,96.25,96.25,96.75,96.75,96.75,96.75,97.5,99.5,99.75,99.75,100.0,100.0,100.0,100.0,100.0,100.0,100.0,100.0,100.0,100.0,100.0,100.0,100.0,100.0,100.0,100.0,100.0,100.0,100.0,100.0,100.0,100.0,100.0,100.0,100.0,100.0,100.0,100.0,100.0,100.0,100.0,100.0,100.0,100.0,100.0,100.0,100.0,100.0,100.0,100.0,100.0,100.0,100.0,100.0,100.0,100.0,100.0,100.0,100.0,100.0,100.0,100.0,100.0,100.0,100.0,100.0,100.0,100.0,100.0,100.0,100.0,100.0,100.0,100.0,100.0,100.0,100.0,100.0,100.0,100.0,100.0,100.0,100.0,100.0,100.0,100.0,100.0,100.0,100.0,100.0,100.0,100.0,100.0,100.0,100.0,100.0,100.0,100.0,100.0,100.0,100.0,100.0,100.0,100.0,100.0,100.0,100.0,100.0,100.0,100.0,100.0,100.0,100.0,100.0,100.0,100.0,100.0,100.0,100.0,100.0,100.0,100.0,100.0,100.0,100.0,100.0,100.0,100.0,100.0,100.0,100.0,100.0,100.0,100.0,100.0,100.0,100.0,100.0,100.0,100.0,100.0,100.0,100.0,100.0,100.0,100.0,100.0,100.0,100.0,100.0,100.0,100.0,100.0,100.0,100.0,100.25,100.75,101.75,102.0,102.0,102.0,102.0,102.0,102.0,102.5,102.5,102.5,102.5,102.5,102.5,102.5,102.5,102.5,102.5,103.5,103.5,103.5,104.0,104.0,104.0,104.0,104.0,104.0,104.0,104.0,104.0,104.0,104.0,104.0,104.0,104.0,104.0,104.0,105.0,105.0,105.0,105.0,105.0,105.0,105.0,105.0,105.0,105.0,105.0,105.25,105.25,105.25,105.25,105.25,105.25,105.25,105.25,105.25,105.25,105.25,105.25,105.75,105.75,105.75,105.75,105.75,105.75,105.75,105.75,105.75,105.75,105.75,105.75,105.75,105.75,105.75,106.0,106.0,106.0,106.25,106.25,106.25,106.25,106.25,106.25,106.25,106.5,106.5,106.5,106.5,106.5,106.5,106.5,106.5,109.25,111.5,111.5,111.5,111.5,111.5,112.5,112.5,112.5,112.5,112.5,112.5,112.5,112.75,112.75,112.75,113.25,113.25,113.25,113.25,113.25,113.25,113.25,113.25,113.25,113.25,113.25,113.25,113.25,113.25,113.25,113.25,113.25,113.25,113.25,113.25,113.25,113.25,113.25,113.25,113.25,113.25,113.25,113.25,113.25,113.25,113.25,113.25,113.25,113.25,113.25,113.25,113.25,113.25,113.25,113.25,113.25,113.25,113.25,113.25,113.25,113.25,113.25,113.25,113.25,113.25,113.25,113.25,114.25,114.25,118.0,118.0,118.0,118.0,118.0,118.0,118.0,118.0,118.0,118.0,118.75,118.75,118.75,118.75,118.75,118.75,118.75,118.75,118.75,118.75,119.0,119.0,119.0,120.75,120.75,120.75,120.75,120.75,120.75,120.75,120.75,120.75,120.75,120.75,120.75,120.75,120.75,120.75,120.75,120.75,120.75,120.75,120.75,120.75,120.75,120.75,120.75,120.75,120.75,120.75,120.75,120.75,120.75,120.75,120.75,120.75,120.75,120.75,120.75,120.75,120.75,120.75,120.75,120.75,120.75,120.75,120.75,120.75,120.75,120.75,120.75,120.75,120.75,121.5,121.5,122.25,123.0,124.0,124.0,124.0,124.0,124.0,124.0,124.0,124.0,124.0,124.0,124.0,124.0,124.0,124.0,124.0,124.0,124.0,124.0,124.0,124.0,124.0,124.0,124.0,124.0,124.0,124.0,124.0,124.5,124.5,124.5,124.5,124.5,124.5,124.5,124.5,124.5,126.25,126.25,126.25,126.25,126.25,126.5,126.5,126.5,126.5,126.5,126.5,126.5,126.5,126.5,126.5,126.5,126.5,126.5,126.5,126.5,126.5,126.5,126.5,126.5,126.5,127.25,127.75,127.75,127.75,127.75,127.75,129.25,129.25,129.25,129.25,129.25,129.25,129.25,129.25,129.25,129.25,129.25,129.25,129.25,129.25,129.25,129.25,129.25,129.25,129.25,129.25,129.25,129.5,129.5,129.5,129.5,129.5,129.5,129.5,129.5,129.5,129.5,129.5,129.5,132.0,132.0,132.0,132.0,132.0,132.0,132.0,132.0,134.5,134.5,134.5,134.5,134.5,135.75,135.75,135.75,135.75,135.75,135.75,135.75,135.75,135.75,135.75,135.75,135.75,135.75,135.75,135.75,135.75,135.75,135.75,135.75,135.75,135.75,136.75,137.5,137.5,137.5,137.5,137.5,137.5,137.5,137.5,137.5,137.5,137.5,137.5,137.5,137.5,137.5,137.5,137.5,137.5,137.5,137.5,137.5,137.5,137.5,137.5,137.5,137.5,137.5,137.5,139.75,139.75,139.75,139.75,139.75,139.75,139.75,139.75,139.75,139.75,139.75,139.75,139.75,139.75,140.75,140.75,140.75,140.75,140.75,142.5,143.5,143.5,143.5,143.5,143.5,143.5,143.5,143.5,143.5,143.5,143.5,143.5,143.5,143.5,143.5,143.5,143.75,143.75,143.75,143.75,143.75,143.75,143.75,143.75,143.75,143.75,143.75,143.75,143.75,143.75,143.75,143.75,143.75,143.75,143.75,143.75,143.75,143.75,143.75,143.75,143.75,144.0,144.0,144.0,144.0,144.0,144.0,144.0,144.0,144.0,144.0,144.25,144.25,144.25,146.0,146.0,146.0,146.0,146.0,146.0,146.0,146.0,146.0,146.0,146.0,146.0,146.0,146.0,146.0,148.0,148.0,148.0,148.0,148.0,148.0,148.0,148.0,148.0,148.0,148.0,148.5,148.5,148.5,148.5,148.5,148.5,148.5,150.75,150.75,150.75,150.75,151.25,151.25,153.75,154.0,154.0,154.0,154.0,154.0,154.0,154.0,154.0,154.0,154.0,154.0,154.0,154.0,154.0,154.0,154.0,154.0,154.0,154.0,154.0,154.0,154.0,154.0,154.0,154.0,154.0,154.0,154.0,154.0,154.0,154.0,154.0,154.0,154.0,154.0,154.0,154.0,155.5,155.5,155.5,155.75,156.5,156.5,156.5,156.5,156.5,156.75,156.75,156.75,161.0,161.0,161.0,161.0,161.0,161.0,165.0,165.0,165.0,165.0,165.0,165.0,165.0,165.0,165.25,165.25,165.25,165.25,165.25,165.25,165.25,165.25,165.25,165.25,165.25,165.25,165.25,165.25,165.25,165.25,165.25,165.25,165.25,165.25,165.25,165.25,165.25,165.25,165.25,165.25,165.25,165.25,165.25,165.25,166.75,166.75,166.75,166.75,166.75,166.75,166.75,166.75,166.75,168.5,168.5,168.5,168.5,168.5,168.5,168.5,168.5,168.5,168.5,168.5,168.5,168.5,168.5,168.5,168.5,170.5,171.0,171.0,171.0,171.0,171.0,171.0,171.0,171.0,171.0,171.0,171.0,171.0,171.0,171.0,171.0,171.0,171.0,171.0,171.0,171.0,171.0,171.0,171.0,171.0,171.0,171.0,171.0,171.0,171.0,171.0,171.0,171.0,171.0,171.0,171.0,171.0,171.0,171.0,171.0,171.0,171.0,171.0,171.0,171.0,175.0,175.25,178.0,178.0,178.0,178.0,178.0,178.0,178.0,178.0,178.0,178.0,178.0,178.0,178.0,178.0,178.0,178.0,178.0,178.0,178.0,178.0,178.0,178.0,178.0,178.0,178.0,178.0,178.0,178.0,178.0,178.0,178.0,178.0,180.0,180.0,180.75,182.25,182.25,182.25,183.25,183.25,183.25,183.25,183.25,185.0,185.0,185.0,185.75,185.75,185.75,186.25,186.25,186.25,186.25,186.25,186.25,186.25,186.25,186.25,186.25,186.25,186.25,186.25,186.25,186.25,188.5,188.5,188.5,191.25,195.25,195.25,195.25,195.25,195.25,199.75,199.75,199.75,199.75,199.75,199.75,199.75,200.75,200.75,200.75,200.75,200.75,200.75,200.75,200.75,200.75,200.75,200.75,201.75,204.25,204.25,204.25,204.25,204.25,204.25,204.25,204.25,204.25,205.0,205.0,206.75,206.75,206.75,206.75,206.75,206.75,206.75,206.75,206.75,206.75,206.75,206.75,206.75,206.75,206.75,206.75,206.75,206.75,206.75,206.75,206.75,206.75,206.75,206.75,206.75,206.75,206.75,206.75,206.75,206.75,206.75,206.75,213.75,213.75,222.5,222.5,226.0,226.0,226.0,229.5,229.5,230.5,230.5,230.5,230.5,230.5,230.5,230.5,230.5,230.5,230.5,230.5,230.5,230.5,230.5,230.5,230.5,230.5,230.5,230.5,230.5,232.75,232.75,233.25,236.75,236.75,236.75,236.75,236.75,236.75,236.75,236.75,236.75,241.25,241.25,241.25,241.25,241.25,241.25,241.25,241.25,244.5,244.5,244.5,244.5,244.5,244.5,244.5,244.5,244.5,244.5,244.5,244.5,244.5,244.5,244.5,244.5,244.5,244.5,244.5,244.5,244.5,244.5,244.5,244.5,244.5,244.5,244.5,244.5,244.5,244.5,244.5,244.5,244.5,244.5,245.75,250.75,250.75,250.75,250.75,255.75,255.75,255.75,255.75,255.75,255.75,255.75,255.75,255.75,255.75,261.0,261.0,261.0,261.0,261.0,261.0,261.0,261.0,261.0,261.0,261.0,261.0,263.5,263.5,263.5,263.5,263.5,263.5,263.5,263.5,263.5,263.5,266.5,269.0,269.0,269.0,269.0,269.75,269.75,269.75,269.75,269.75,269.75,269.75,269.75,269.75,269.75,269.75,269.75,269.75,269.75,269.75,269.75,269.75,269.75,271.5,271.5,271.5,271.5,280.75,280.75,280.75,280.75,280.75,280.75,283.75,283.75,283.75,283.75,283.75,283.75,283.75,283.75,283.75,289.75,289.75,308.0,308.0,308.25,308.25,308.25,308.25,308.25,308.25,308.5,308.5,308.5,308.5,308.5,308.5,308.5,308.5,308.5,308.5,308.5,308.5,308.5,308.5,310.5,310.5,310.5,310.5,310.5,310.5,310.5,310.5,310.5,310.5,310.5,310.5,310.5,310.5,310.5,310.5,310.5,310.5,310.5,310.5,310.5,310.5,310.5,310.5,310.5,310.5,312.5,312.5,312.5,334.0,334.0,334.0,334.0,334.0,334.0,334.0,334.0,334.0,353.0,353.0,353.0,353.0,353.0,353.0,353.0,353.0,353.0,353.0,373.25,373.25,373.25,373.25,373.25,373.25,373.25,373.25,373.25,373.75,373.75,373.75,373.75,373.75,373.75,373.75,373.75,373.75,373.75,373.75,380.0,380.0,414.0,414.0,414.0,414.0,414.0,459.75,459.75,459.75,459.75,459.75,459.75,459.75,459.75,459.75,459.75,459.75,459.75,459.75,459.75,459.75,459.75,459.75,459.75,459.75,459.75,459.75,459.75,459.75,459.75,459.75,459.75,459.75,459.75,476.0,502.25,502.25,502.25,502.25,502.25,502.25,502.25,502.25,502.25,502.25,502.25,502.25,502.25,502.25,502.25,502.25,503.5,503.5,503.5,503.5,503.5,503.5,503.5,525.5,525.5,525.5,528.5,530.75,530.75,530.75,530.75,530.75,530.75,530.75,530.75,530.75,530.75,530.75,530.75,530.75,530.75,530.75,530.75,530.75,530.75,530.75,530.75,530.75,530.75,530.75,530.75,530.75,530.75,540.0,540.0,565.0,565.0,565.0,565.0,565.0,639.0,639.0,639.0,639.0,639.0,639.0,639.0,639.0,639.0,692.0,692.0,692.0,692.0,692.0,692.0,692.0,692.0,692.0,692.0,692.0,692.0,692.0,692.0,692.0,692.0,692.0,692.0,692.0,692.0,692.0,692.0,692.0,692.0,692.0,692.0,692.0,692.0,692.0,692.0,692.0,692.0,692.0,692.0,692.0,692.0,692.0,692.0,692.0,692.0,692.0,692.0,692.0,692.0,692.0,692.0,692.0,692.0,692.0,692.0,692.0,692.0,692.0,692.0,692.0,692.0,692.0,692.0,692.0,692.0,692.0,692.0,692.0,692.0,692.0,692.0,692.0,692.0,692.0,692.0,692.0,692.0,692.0,692.0,692.0,692.0,692.0,692.0,692.0,692.0,692.0,692.0,692.0,692.0,692.0,692.0,692.0,692.0,692.0,692.0,692.0,692.0,692.0,692.0,692.0,692.0,692.0,692.0,692.0,692.0,692.0,692.0,692.0,692.0,692.0,692.0,692.0,692.0,692.0,692.0,692.0,692.0,692.0,692.0,692.0,692.0,692.0,692.0,692.0,692.0,692.0,692.0,705.75,705.75,705.75,705.75,705.75,705.75,705.75,707.25,707.25,738.25,738.25,738.25,755.5,755.5,755.5,755.5,776.25,776.25,776.25,776.25,776.25,776.25,776.25,776.25,776.25,776.25,776.25,776.25,776.25,776.25,776.25,776.25,776.25,776.25,776.25,776.25,776.25,776.25,776.25,776.25,776.25,776.25,776.25,776.25,776.25,776.25,776.25,776.25,776.25,776.25,776.25,776.25,776.25,776.25,776.25,776.25,776.25,776.25,776.25,776.25,776.25,776.25,776.25,776.25,776.25,776.25,776.25,776.25,776.25,776.25,776.25,776.25,776.25,776.25,776.25,776.25,776.25,776.25,776.25,776.25,776.25,776.25,776.25,776.25,776.25,776.25,776.25,776.25,776.25,776.25,776.25,776.25,776.25,776.25,776.25,776.25,776.25,776.25,776.25,776.25,776.25,776.25,776.25,804.25,804.25,879.25,940.0,940.0,940.0,940.0,940.0,940.0,940.0,940.0,940.0,940.0,940.0,940.0,940.0,940.0,1027.75,1027.75,1027.75,1027.75,1027.75,1027.75,1027.75,1027.75,1027.75,1027.75,1027.75,1027.75,1027.75,1027.75,1027.75,1027.75,1027.75,1027.75,1027.75,1091.25,1091.25,1091.25,1120.5,1120.5,1120.5,1162.75,1162.75,1162.75,1162.75,1162.75,1162.75,1162.75,1168.25,1168.25,1168.25,1168.25,1168.25,1168.25,1168.25,1168.25,1168.25,1168.25,1168.25,1168.25,1168.25,1168.25,1168.25,1168.25,1168.25,1168.25,1168.25,1168.25,1168.25,1209.5,1209.5,1324.25,1324.25,1324.25,1324.25,1457.25,1457.25,1457.25,1457.25,1457.25,1457.25,1457.25,1489.5,1489.5,1489.5,1489.5,1489.5,1489.5,1489.5,1489.5,1489.5,1489.5,1489.5,1489.5,1489.5,1489.5,1489.5,1489.5,1489.5,1489.5,1489.5,1489.5,1498.25,1498.25,1498.25,1498.25,1498.25,1498.25,1498.25,1498.25,1498.25,1498.25,1498.25,1498.25,1498.25,1498.25,1498.25,1498.25,1498.25,1498.25,1498.25,1498.25,1498.25,1498.25,1498.25,1498.25,1498.25,1498.25,1498.25,1498.25,1645.25,1645.25,1881.75,1881.75,1881.75,1881.75,1881.75,1881.75,1881.75,1881.75,1881.75,1881.75,1881.75,1881.75,1881.75,2118.0,2118.0,2118.0,2118.0,2118.0,2118.0,2118.0,2118.0,2118.0,2118.0,2118.0,2118.0,2272.25,2274.0,2274.0,2274.0,2274.0,2274.0,2274.0,2274.0,2274.0,2274.0,2274.0,2274.0,2274.0,2274.0,2274.0,2274.0,2274.0,2274.0,2274.0,2274.0,2274.0,2274.0,2274.0,2274.0,2274.0,2274.0,2274.0,2485.75,2925.75,2925.75,2925.75,3774.25,3796.75,5149.25,7542.75,13202.0,13202.0,13202.0],\"xaxis\":\"x\",\"y\":[331.41347851397825,331.41347851397825,331.41347851397825,331.41347851397825,331.41347851397825,331.41347851397825,331.41347851397825,331.41347851397825,331.41347851397825,331.41347851397825,331.41347851397825,331.41347851397825,331.41347851397825,331.44663755276895,331.54611466914093,331.54611466914093,331.54611466914093,331.54611466914093,331.54611466914093,331.54611466914093,331.54611466914093,331.54611466914093,331.54611466914093,331.54611466914093,331.54611466914093,331.54611466914093,331.54611466914093,331.57927370793163,331.57927370793163,331.61243274672233,331.61243274672233,331.61243274672233,331.61243274672233,331.645591785513,331.645591785513,331.6787508243037,331.6787508243037,331.745068901885,331.7782279406757,331.7782279406757,331.7782279406757,331.7782279406757,331.7782279406757,331.7782279406757,331.7782279406757,331.7782279406757,331.7782279406757,331.7782279406757,331.7782279406757,331.7782279406757,331.7782279406757,331.7782279406757,331.7782279406757,331.7782279406757,331.81138697946636,331.81138697946636,331.81138697946636,331.81138697946636,331.81138697946636,331.81138697946636,331.81138697946636,331.81138697946636,331.81138697946636,331.81138697946636,331.81138697946636,331.81138697946636,331.81138697946636,331.81138697946636,331.81138697946636,331.84454601825706,331.84454601825706,331.84454601825706,331.84454601825706,331.84454601825706,331.84454601825706,331.84454601825706,331.84454601825706,331.84454601825706,331.84454601825706,331.84454601825706,331.84454601825706,331.87770505704776,331.97718217341975,331.97718217341975,332.01034121221045,332.01034121221045,332.01034121221045,332.04350025100115,332.04350025100115,332.04350025100115,332.04350025100115,332.0766592897918,332.0766592897918,332.0766592897918,332.0766592897918,332.0766592897918,332.0766592897918,332.0766592897918,332.0766592897918,332.1429773673732,332.1429773673732,332.1429773673732,332.1429773673732,332.1429773673732,332.1429773673732,332.1429773673732,332.1429773673732,332.20929544495453,332.20929544495453,332.20929544495453,332.20929544495453,332.20929544495453,332.20929544495453,332.20929544495453,332.20929544495453,332.20929544495453,332.20929544495453,332.20929544495453,332.20929544495453,332.20929544495453,332.20929544495453,332.20929544495453,332.20929544495453,332.20929544495453,332.2424544837452,332.2424544837452,332.2424544837452,332.2424544837452,332.2424544837452,332.2424544837452,332.2424544837452,332.2424544837452,332.2756135225359,332.2756135225359,332.2756135225359,332.2756135225359,332.2756135225359,332.2756135225359,332.2756135225359,332.2756135225359,332.2756135225359,332.2756135225359,332.2756135225359,332.2756135225359,332.2756135225359,332.3087725613266,332.3087725613266,332.3087725613266,332.3087725613266,332.3087725613266,332.3087725613266,332.3087725613266,332.3087725613266,332.3087725613266,332.3087725613266,332.3087725613266,332.3087725613266,332.3087725613266,332.3087725613266,332.3087725613266,332.3087725613266,332.3087725613266,332.3419316001172,332.3419316001172,332.3419316001172,332.3419316001172,332.3419316001172,332.3419316001172,332.3419316001172,332.3750906389079,332.3750906389079,332.3750906389079,332.3750906389079,332.3750906389079,332.3750906389079,332.40824967769856,332.40824967769856,332.40824967769856,332.40824967769856,332.40824967769856,332.40824967769856,332.44140871648926,332.44140871648926,332.44140871648926,332.44140871648926,332.44140871648926,332.44140871648926,332.44140871648926,332.44140871648926,332.44140871648926,332.44140871648926,332.44140871648926,332.44140871648926,332.44140871648926,332.44140871648926,332.44140871648926,332.44140871648926,332.44140871648926,332.44140871648926,332.44140871648926,332.44140871648926,332.44140871648926,332.44140871648926,332.44140871648926,332.44140871648926,332.44140871648926,332.44140871648926,332.47456775527996,332.47456775527996,332.47456775527996,332.47456775527996,332.47456775527996,332.47456775527996,332.47456775527996,332.47456775527996,332.47456775527996,332.47456775527996,332.47456775527996,332.47456775527996,332.47456775527996,332.47456775527996,332.47456775527996,332.5077267940706,332.5077267940706,332.5077267940706,332.5408858328613,332.5408858328613,332.5408858328613,332.5408858328613,332.5408858328613,332.5408858328613,332.5408858328613,332.5408858328613,332.5408858328613,332.5408858328613,332.5408858328613,332.5408858328613,332.5408858328613,332.5408858328613,332.5408858328613,332.5408858328613,332.5408858328613,332.5408858328613,332.5408858328613,332.5408858328613,332.5408858328613,332.5408858328613,332.5408858328613,332.5408858328613,332.5408858328613,332.5408858328613,332.5408858328613,332.5408858328613,332.5408858328613,332.5408858328613,332.5408858328613,332.574044871652,332.574044871652,332.574044871652,332.574044871652,332.574044871652,332.574044871652,332.574044871652,332.574044871652,332.574044871652,332.574044871652,332.574044871652,332.574044871652,332.574044871652,332.574044871652,332.574044871652,332.574044871652,332.574044871652,332.574044871652,332.574044871652,332.574044871652,332.574044871652,332.574044871652,332.574044871652,332.574044871652,332.574044871652,332.60720391044265,332.60720391044265,332.64036294923335,332.64036294923335,332.64036294923335,332.64036294923335,332.64036294923335,332.64036294923335,332.64036294923335,332.64036294923335,332.64036294923335,332.64036294923335,332.64036294923335,332.64036294923335,332.64036294923335,332.64036294923335,332.64036294923335,332.64036294923335,332.64036294923335,332.64036294923335,332.64036294923335,332.64036294923335,332.64036294923335,332.64036294923335,332.64036294923335,332.64036294923335,332.64036294923335,332.64036294923335,332.64036294923335,332.64036294923335,332.64036294923335,332.64036294923335,332.64036294923335,332.64036294923335,332.64036294923335,332.64036294923335,332.64036294923335,332.64036294923335,332.64036294923335,332.64036294923335,332.64036294923335,332.64036294923335,332.64036294923335,332.64036294923335,332.64036294923335,332.64036294923335,332.64036294923335,332.64036294923335,332.64036294923335,332.64036294923335,332.64036294923335,332.64036294923335,332.673521988024,332.673521988024,332.673521988024,332.673521988024,332.673521988024,332.673521988024,332.673521988024,332.673521988024,332.673521988024,332.673521988024,332.673521988024,332.673521988024,332.673521988024,332.673521988024,332.673521988024,332.673521988024,332.673521988024,332.673521988024,332.673521988024,332.673521988024,332.673521988024,332.673521988024,332.673521988024,332.673521988024,332.673521988024,332.673521988024,332.673521988024,332.673521988024,332.673521988024,332.673521988024,332.673521988024,332.673521988024,332.673521988024,332.7066810268147,332.7066810268147,332.7066810268147,332.7066810268147,332.7066810268147,332.7066810268147,332.7066810268147,332.7066810268147,332.7066810268147,332.7398400656054,332.7398400656054,332.7398400656054,332.7398400656054,332.7398400656054,332.7398400656054,332.7398400656054,332.77299910439604,332.77299910439604,332.77299910439604,332.77299910439604,332.77299910439604,332.77299910439604,332.77299910439604,332.77299910439604,332.80615814318674,332.80615814318674,332.80615814318674,332.80615814318674,332.80615814318674,332.80615814318674,332.80615814318674,332.80615814318674,332.80615814318674,332.80615814318674,332.80615814318674,332.80615814318674,332.8393171819774,332.8393171819774,332.8393171819774,332.8393171819774,332.8393171819774,332.8393171819774,332.8393171819774,332.8393171819774,332.8393171819774,332.8393171819774,332.8393171819774,332.8393171819774,332.8393171819774,332.8393171819774,332.8393171819774,332.8393171819774,332.8393171819774,332.8393171819774,332.8393171819774,332.8393171819774,332.8393171819774,332.8393171819774,332.8393171819774,332.8393171819774,332.8393171819774,332.8393171819774,332.8393171819774,332.8393171819774,332.8724762207681,332.8724762207681,332.8724762207681,332.8724762207681,332.8724762207681,332.8724762207681,332.8724762207681,332.8724762207681,332.8724762207681,332.8724762207681,332.8724762207681,332.8724762207681,332.8724762207681,332.8724762207681,332.8724762207681,332.8724762207681,332.8724762207681,332.8724762207681,332.9056352595588,332.9056352595588,332.9056352595588,332.9056352595588,332.9056352595588,332.9056352595588,332.9056352595588,332.9056352595588,332.9387942983494,332.9387942983494,332.9387942983494,332.9387942983494,332.9387942983494,332.9387942983494,332.9387942983494,332.9387942983494,332.9387942983494,332.9387942983494,332.9387942983494,332.9387942983494,332.9387942983494,332.9387942983494,332.9387942983494,332.9387942983494,332.9387942983494,332.9387942983494,332.9387942983494,332.9387942983494,332.9387942983494,332.9387942983494,332.9387942983494,332.9387942983494,332.9387942983494,332.9387942983494,332.9387942983494,332.9387942983494,332.9387942983494,332.9387942983494,332.9387942983494,332.9387942983494,332.9387942983494,332.9387942983494,332.9387942983494,332.9387942983494,332.9387942983494,332.9387942983494,332.9387942983494,332.9719533371401,332.9719533371401,332.9719533371401,332.9719533371401,332.9719533371401,332.9719533371401,332.9719533371401,332.9719533371401,332.9719533371401,332.9719533371401,332.9719533371401,332.9719533371401,332.9719533371401,332.9719533371401,332.9719533371401,332.9719533371401,332.9719533371401,332.9719533371401,332.9719533371401,333.00511237593076,333.00511237593076,333.00511237593076,333.00511237593076,333.00511237593076,333.00511237593076,333.00511237593076,333.00511237593076,333.00511237593076,333.00511237593076,333.00511237593076,333.00511237593076,333.00511237593076,333.00511237593076,333.00511237593076,333.00511237593076,333.00511237593076,333.03827141472146,333.03827141472146,333.03827141472146,333.03827141472146,333.03827141472146,333.03827141472146,333.03827141472146,333.03827141472146,333.03827141472146,333.03827141472146,333.03827141472146,333.07143045351216,333.07143045351216,333.07143045351216,333.07143045351216,333.07143045351216,333.07143045351216,333.07143045351216,333.07143045351216,333.07143045351216,333.07143045351216,333.07143045351216,333.07143045351216,333.07143045351216,333.07143045351216,333.07143045351216,333.07143045351216,333.07143045351216,333.07143045351216,333.07143045351216,333.1045894923028,333.1045894923028,333.1045894923028,333.1045894923028,333.1045894923028,333.1045894923028,333.1045894923028,333.1045894923028,333.1045894923028,333.1045894923028,333.1045894923028,333.1045894923028,333.1045894923028,333.1045894923028,333.1045894923028,333.1045894923028,333.1045894923028,333.1045894923028,333.1045894923028,333.1045894923028,333.1045894923028,333.1045894923028,333.1045894923028,333.1045894923028,333.1045894923028,333.1045894923028,333.1045894923028,333.1045894923028,333.1045894923028,333.1045894923028,333.1045894923028,333.1045894923028,333.1045894923028,333.1045894923028,333.1045894923028,333.1045894923028,333.1045894923028,333.1045894923028,333.1045894923028,333.1045894923028,333.1045894923028,333.1045894923028,333.1045894923028,333.1045894923028,333.1045894923028,333.1045894923028,333.1377485310935,333.1377485310935,333.1377485310935,333.1377485310935,333.1377485310935,333.1377485310935,333.1377485310935,333.1377485310935,333.1377485310935,333.1377485310935,333.1377485310935,333.1377485310935,333.1709075698842,333.1709075698842,333.1709075698842,333.1709075698842,333.1709075698842,333.1709075698842,333.1709075698842,333.1709075698842,333.1709075698842,333.1709075698842,333.1709075698842,333.1709075698842,333.1709075698842,333.1709075698842,333.1709075698842,333.1709075698842,333.1709075698842,333.1709075698842,333.1709075698842,333.20406660867485,333.20406660867485,333.20406660867485,333.20406660867485,333.20406660867485,333.23722564746555,333.23722564746555,333.23722564746555,333.23722564746555,333.23722564746555,333.23722564746555,333.23722564746555,333.23722564746555,333.23722564746555,333.2703846862562,333.2703846862562,333.2703846862562,333.2703846862562,333.2703846862562,333.2703846862562,333.2703846862562,333.2703846862562,333.2703846862562,333.3035437250469,333.3035437250469,333.3035437250469,333.3035437250469,333.3035437250469,333.3035437250469,333.3035437250469,333.3035437250469,333.3035437250469,333.3035437250469,333.3035437250469,333.3035437250469,333.3035437250469,333.3035437250469,333.3035437250469,333.3035437250469,333.3035437250469,333.3035437250469,333.3035437250469,333.3035437250469,333.3035437250469,333.3035437250469,333.3035437250469,333.3035437250469,333.3035437250469,333.3035437250469,333.3035437250469,333.3035437250469,333.3035437250469,333.3035437250469,333.3035437250469,333.3035437250469,333.3035437250469,333.3035437250469,333.3035437250469,333.3035437250469,333.3035437250469,333.3035437250469,333.3035437250469,333.3035437250469,333.3035437250469,333.3035437250469,333.3035437250469,333.3035437250469,333.3035437250469,333.3035437250469,333.3035437250469,333.3035437250469,333.3035437250469,333.3035437250469,333.3035437250469,333.3035437250469,333.3035437250469,333.3035437250469,333.3035437250469,333.3035437250469,333.3035437250469,333.3367027638376,333.3367027638376,333.3367027638376,333.36986180262824,333.36986180262824,333.36986180262824,333.36986180262824,333.36986180262824,333.36986180262824,333.36986180262824,333.36986180262824,333.36986180262824,333.36986180262824,333.36986180262824,333.36986180262824,333.36986180262824,333.36986180262824,333.36986180262824,333.36986180262824,333.36986180262824,333.36986180262824,333.36986180262824,333.36986180262824,333.36986180262824,333.40302084141894,333.40302084141894,333.40302084141894,333.40302084141894,333.40302084141894,333.40302084141894,333.40302084141894,333.40302084141894,333.40302084141894,333.40302084141894,333.40302084141894,333.40302084141894,333.40302084141894,333.40302084141894,333.40302084141894,333.40302084141894,333.40302084141894,333.40302084141894,333.40302084141894,333.40302084141894,333.40302084141894,333.40302084141894,333.40302084141894,333.40302084141894,333.4361798802096,333.4361798802096,333.4361798802096,333.4361798802096,333.4361798802096,333.4361798802096,333.4361798802096,333.4361798802096,333.4361798802096,333.4361798802096,333.4361798802096,333.4361798802096,333.4361798802096,333.4361798802096,333.4361798802096,333.4361798802096,333.4361798802096,333.4361798802096,333.4361798802096,333.4361798802096,333.4361798802096,333.4361798802096,333.4361798802096,333.4361798802096,333.4361798802096,333.4361798802096,333.4361798802096,333.4361798802096,333.4693389190003,333.4693389190003,333.4693389190003,333.4693389190003,333.4693389190003,333.4693389190003,333.4693389190003,333.4693389190003,333.4693389190003,333.4693389190003,333.4693389190003,333.4693389190003,333.4693389190003,333.502497957791,333.502497957791,333.502497957791,333.502497957791,333.502497957791,333.502497957791,333.502497957791,333.502497957791,333.502497957791,333.502497957791,333.502497957791,333.502497957791,333.502497957791,333.502497957791,333.502497957791,333.502497957791,333.5356569965816,333.5356569965816,333.5356569965816,333.5356569965816,333.5356569965816,333.5356569965816,333.5356569965816,333.5356569965816,333.5356569965816,333.5356569965816,333.5356569965816,333.5356569965816,333.5356569965816,333.5356569965816,333.5356569965816,333.5356569965816,333.5356569965816,333.5356569965816,333.5356569965816,333.5356569965816,333.5356569965816,333.5356569965816,333.5356569965816,333.5356569965816,333.5356569965816,333.5356569965816,333.5356569965816,333.5356569965816,333.5356569965816,333.5356569965816,333.5356569965816,333.5356569965816,333.5356569965816,333.5356569965816,333.5356569965816,333.5356569965816,333.5356569965816,333.5356569965816,333.5356569965816,333.5356569965816,333.5356569965816,333.5356569965816,333.5356569965816,333.5356569965816,333.5356569965816,333.5356569965816,333.5356569965816,333.5356569965816,333.5356569965816,333.5356569965816,333.5356569965816,333.5356569965816,333.5356569965816,333.5356569965816,333.5356569965816,333.5356569965816,333.5356569965816,333.5356569965816,333.5356569965816,333.5356569965816,333.5356569965816,333.5356569965816,333.5356569965816,333.5356569965816,333.5356569965816,333.5356569965816,333.5356569965816,333.5356569965816,333.5356569965816,333.5688160353723,333.5688160353723,333.5688160353723,333.5688160353723,333.601975074163,333.601975074163,333.601975074163,333.601975074163,333.601975074163,333.601975074163,333.601975074163,333.601975074163,333.601975074163,333.601975074163,333.601975074163,333.601975074163,333.601975074163,333.601975074163,333.601975074163,333.601975074163,333.601975074163,333.601975074163,333.63513411295366,333.63513411295366,333.63513411295366,333.66829315174436,333.66829315174436,333.66829315174436,333.66829315174436,333.66829315174436,333.701452190535,333.701452190535,333.7346112293257,333.7346112293257,333.7346112293257,333.7346112293257,333.7346112293257,333.7346112293257,333.7346112293257,333.7346112293257,333.7346112293257,333.7346112293257,333.7346112293257,333.7346112293257,333.7346112293257,333.7346112293257,333.7346112293257,333.7346112293257,333.7677702681164,333.7677702681164,333.7677702681164,333.7677702681164,333.7677702681164,333.7677702681164,333.7677702681164,333.80092930690705,333.80092930690705,333.80092930690705,333.80092930690705,333.80092930690705,333.80092930690705,333.80092930690705,333.80092930690705,333.80092930690705,333.80092930690705,333.80092930690705,333.80092930690705,333.80092930690705,333.80092930690705,333.80092930690705,333.80092930690705,333.80092930690705,333.80092930690705,333.83408834569775,333.83408834569775,333.83408834569775,333.83408834569775,333.83408834569775,333.83408834569775,333.83408834569775,333.8672473844884,333.8672473844884,333.8672473844884,333.8672473844884,333.8672473844884,333.8672473844884,333.8672473844884,333.8672473844884,333.8672473844884,333.8672473844884,333.8672473844884,333.8672473844884,333.8672473844884,333.8672473844884,333.8672473844884,333.8672473844884,333.8672473844884,333.8672473844884,333.8672473844884,333.8672473844884,333.8672473844884,333.9004064232791,333.9004064232791,333.9004064232791,333.9004064232791,333.9004064232791,333.9004064232791,333.9004064232791,333.9004064232791,333.9004064232791,333.9004064232791,333.9004064232791,333.9004064232791,333.9004064232791,333.9004064232791,333.9004064232791,333.9004064232791,333.9004064232791,333.9004064232791,333.9004064232791,333.9004064232791,333.9004064232791,333.9004064232791,333.9004064232791,333.9004064232791,333.9004064232791,333.9004064232791,333.9004064232791,333.9004064232791,333.9004064232791,333.9004064232791,333.9004064232791,333.9004064232791,333.9004064232791,333.9004064232791,333.9004064232791,333.9004064232791,333.9004064232791,333.9004064232791,333.9004064232791,333.9004064232791,333.9004064232791,333.9004064232791,333.9004064232791,333.9004064232791,333.9004064232791,333.9004064232791,333.9004064232791,333.9004064232791,333.9004064232791,333.9335654620698,333.9335654620698,333.9335654620698,333.9335654620698,333.9335654620698,333.9335654620698,333.9335654620698,333.9335654620698,333.9335654620698,333.9335654620698,333.96672450086044,333.96672450086044,333.96672450086044,333.96672450086044,333.96672450086044,333.96672450086044,333.96672450086044,333.96672450086044,333.96672450086044,333.96672450086044,333.96672450086044,333.96672450086044,333.96672450086044,333.96672450086044,333.96672450086044,333.96672450086044,333.96672450086044,333.96672450086044,333.96672450086044,333.96672450086044,333.96672450086044,333.96672450086044,333.96672450086044,333.96672450086044,333.96672450086044,333.96672450086044,333.99988353965114,333.99988353965114,333.99988353965114,333.99988353965114,333.99988353965114,333.99988353965114,333.99988353965114,333.99988353965114,333.99988353965114,334.03304257844184,334.03304257844184,334.03304257844184,334.03304257844184,334.03304257844184,334.03304257844184,334.03304257844184,334.03304257844184,334.0662016172325,334.0662016172325,334.0662016172325,334.0662016172325,334.0662016172325,334.0662016172325,334.0662016172325,334.0662016172325,334.0662016172325,334.0662016172325,334.0662016172325,334.0662016172325,334.0662016172325,334.0662016172325,334.0662016172325,334.0662016172325,334.0662016172325,334.0662016172325,334.0662016172325,334.0662016172325,334.0662016172325,334.0662016172325,334.0662016172325,334.0662016172325,334.0662016172325,334.0662016172325,334.0662016172325,334.0662016172325,334.0662016172325,334.0662016172325,334.0662016172325,334.0662016172325,334.0662016172325,334.0662016172325,334.0662016172325,334.0662016172325,334.0662016172325,334.0662016172325,334.0662016172325,334.0662016172325,334.0662016172325,334.0662016172325,334.0662016172325,334.0662016172325,334.0662016172325,334.0662016172325,334.0662016172325,334.0662016172325,334.0662016172325,334.0662016172325,334.0662016172325,334.0662016172325,334.0993606560232,334.0993606560232,334.0993606560232,334.0993606560232,334.0993606560232,334.0993606560232,334.0993606560232,334.0993606560232,334.0993606560232,334.0993606560232,334.0993606560232,334.0993606560232,334.0993606560232,334.0993606560232,334.0993606560232,334.0993606560232,334.0993606560232,334.0993606560232,334.0993606560232,334.1325196948138,334.1325196948138,334.1325196948138,334.1656787336045,334.1656787336045,334.1656787336045,334.1656787336045,334.1656787336045,334.1656787336045,334.1656787336045,334.1656787336045,334.1656787336045,334.1656787336045,334.1656787336045,334.1656787336045,334.1656787336045,334.1656787336045,334.1656787336045,334.1988377723952,334.1988377723952,334.1988377723952,334.1988377723952,334.1988377723952,334.1988377723952,334.1988377723952,334.1988377723952,334.1988377723952,334.1988377723952,334.1988377723952,334.1988377723952,334.1988377723952,334.1988377723952,334.23199681118587,334.23199681118587,334.23199681118587,334.23199681118587,334.23199681118587,334.23199681118587,334.23199681118587,334.23199681118587,334.23199681118587,334.23199681118587,334.23199681118587,334.26515584997657,334.26515584997657,334.26515584997657,334.26515584997657,334.26515584997657,334.26515584997657,334.26515584997657,334.26515584997657,334.26515584997657,334.26515584997657,334.26515584997657,334.26515584997657,334.26515584997657,334.26515584997657,334.26515584997657,334.26515584997657,334.26515584997657,334.26515584997657,334.26515584997657,334.26515584997657,334.26515584997657,334.26515584997657,334.26515584997657,334.26515584997657,334.2983148887672,334.2983148887672,334.2983148887672,334.3314739275579,334.3314739275579,334.3314739275579,334.3314739275579,334.3646329663486,334.3646329663486,334.3646329663486,334.3646329663486,334.3646329663486,334.3646329663486,334.3646329663486,334.3646329663486,334.3646329663486,334.3646329663486,334.3646329663486,334.3646329663486,334.3646329663486,334.3646329663486,334.3646329663486,334.3646329663486,334.3646329663486,334.39779200513925,334.39779200513925,334.39779200513925,334.39779200513925,334.39779200513925,334.39779200513925,334.39779200513925,334.39779200513925,334.39779200513925,334.39779200513925,334.43095104392995,334.43095104392995,334.43095104392995,334.43095104392995,334.4972691215113,334.4972691215113,334.4972691215113,334.4972691215113,334.4972691215113,334.4972691215113,334.4972691215113,334.4972691215113,334.4972691215113,334.530428160302,334.530428160302,334.530428160302,334.530428160302,334.530428160302,334.530428160302,334.530428160302,334.530428160302,334.530428160302,334.56358719909264,334.56358719909264,334.56358719909264,334.56358719909264,334.56358719909264,334.56358719909264,334.56358719909264,334.56358719909264,334.56358719909264,334.56358719909264,334.56358719909264,334.56358719909264,334.56358719909264,334.59674623788334,334.59674623788334,334.59674623788334,334.59674623788334,334.59674623788334,334.59674623788334,334.59674623788334,334.59674623788334,334.59674623788334,334.59674623788334,334.59674623788334,334.59674623788334,334.59674623788334,334.59674623788334,334.59674623788334,334.59674623788334,334.62990527667404,334.62990527667404,334.62990527667404,334.62990527667404,334.62990527667404,334.62990527667404,334.62990527667404,334.62990527667404,334.62990527667404,334.6630643154647,334.6630643154647,334.6630643154647,334.6630643154647,334.6630643154647,334.6630643154647,334.6962233542554,334.6962233542554,334.6962233542554,334.729382393046,334.729382393046,334.729382393046,334.729382393046,334.729382393046,334.729382393046,334.729382393046,334.729382393046,334.729382393046,334.729382393046,334.729382393046,334.729382393046,334.729382393046,334.729382393046,334.7625414318367,334.7625414318367,334.7625414318367,334.7625414318367,334.7625414318367,334.7625414318367,334.7625414318367,334.7625414318367,334.7625414318367,334.7625414318367,334.7625414318367,334.7625414318367,334.7625414318367,334.7957004706274,334.82885950941807,334.82885950941807,334.82885950941807,334.82885950941807,334.82885950941807,334.82885950941807,334.82885950941807,334.82885950941807,334.82885950941807,334.86201854820877,334.86201854820877,334.89517758699947,334.89517758699947,334.89517758699947,334.89517758699947,334.89517758699947,334.89517758699947,334.89517758699947,334.89517758699947,334.89517758699947,334.89517758699947,334.9283366257901,334.9283366257901,334.9283366257901,334.9283366257901,334.9283366257901,334.9283366257901,334.9283366257901,334.9283366257901,334.9283366257901,334.9283366257901,334.9283366257901,334.9283366257901,334.9283366257901,334.9283366257901,334.9283366257901,334.9283366257901,334.9283366257901,334.9283366257901,334.9283366257901,334.9283366257901,334.9283366257901,334.9283366257901,334.9283366257901,334.9283366257901,334.9283366257901,334.9283366257901,334.9283366257901,334.9283366257901,334.9283366257901,334.9283366257901,334.9283366257901,334.9283366257901,334.9283366257901,334.9283366257901,334.9283366257901,334.9283366257901,334.9283366257901,334.9283366257901,334.9283366257901,334.9283366257901,334.9283366257901,334.9283366257901,334.9283366257901,334.9283366257901,334.9283366257901,334.9283366257901,334.9283366257901,334.9283366257901,334.9283366257901,334.9283366257901,334.9283366257901,334.9283366257901,334.9283366257901,334.9283366257901,334.9283366257901,334.9283366257901,334.9283366257901,334.9283366257901,334.9283366257901,334.9283366257901,334.9283366257901,334.9283366257901,334.9283366257901,334.9283366257901,334.9283366257901,334.9283366257901,334.9283366257901,334.9283366257901,334.9283366257901,334.9283366257901,334.9283366257901,334.9283366257901,334.9283366257901,334.9283366257901,334.9283366257901,334.9283366257901,334.9283366257901,334.9283366257901,334.9283366257901,334.9283366257901,334.9283366257901,334.9614956645808,334.9614956645808,334.9614956645808,334.9614956645808,334.9614956645808,334.9614956645808,334.9614956645808,334.9614956645808,334.9614956645808,334.9614956645808,334.9614956645808,334.9614956645808,334.9614956645808,334.9614956645808,334.9614956645808,334.9614956645808,334.9614956645808,334.9614956645808,334.9614956645808,334.9614956645808,334.9614956645808,334.9614956645808,334.9614956645808,334.9614956645808,334.9614956645808,334.9614956645808,334.9614956645808,334.9614956645808,334.9614956645808,334.9614956645808,334.9614956645808,334.99465470337145,334.99465470337145,334.99465470337145,334.99465470337145,334.99465470337145,334.99465470337145,334.99465470337145,334.99465470337145,334.99465470337145,334.99465470337145,334.99465470337145,334.99465470337145,334.99465470337145,334.99465470337145,334.99465470337145,334.99465470337145,334.99465470337145,334.99465470337145,334.99465470337145,334.99465470337145,334.99465470337145,335.02781374216215,335.02781374216215,335.0941318197435,335.0941318197435,335.0941318197435,335.0941318197435,335.0941318197435,335.0941318197435,335.0941318197435,335.16044989732484,335.16044989732484,335.16044989732484,335.16044989732484,335.16044989732484,335.16044989732484,335.16044989732484,335.16044989732484,335.16044989732484,335.16044989732484,335.16044989732484,335.16044989732484,335.16044989732484,335.19360893611554,335.19360893611554,335.19360893611554,335.19360893611554,335.22676797490624,335.22676797490624,335.22676797490624,335.22676797490624,335.22676797490624,335.22676797490624,335.22676797490624,335.22676797490624,335.22676797490624,335.22676797490624,335.22676797490624,335.2599270136969,335.2599270136969,335.2599270136969,335.2599270136969,335.2599270136969,335.2599270136969,335.2599270136969,335.2599270136969,335.2599270136969,335.2599270136969,335.2599270136969,335.2599270136969,335.2599270136969,335.2599270136969,335.2599270136969,335.2599270136969,335.2599270136969,335.2599270136969,335.2599270136969,335.2599270136969,335.2599270136969,335.2599270136969,335.2599270136969,335.2930860524876,335.2930860524876,335.2930860524876,335.2930860524876,335.2930860524876,335.2930860524876,335.3262450912783,335.3262450912783,335.3262450912783,335.3262450912783,335.3262450912783,335.3262450912783,335.3262450912783,335.3262450912783,335.3594041300689,335.3594041300689,335.3594041300689,335.3594041300689,335.3925631688596,335.3925631688596,335.3925631688596,335.3925631688596,335.3925631688596,335.3925631688596,335.3925631688596,335.42572220765027,335.42572220765027,335.42572220765027,335.42572220765027,335.42572220765027,335.42572220765027,335.45888124644097,335.45888124644097,335.45888124644097,335.45888124644097,335.45888124644097,335.45888124644097,335.45888124644097,335.45888124644097,335.45888124644097,335.45888124644097,335.45888124644097,335.45888124644097,335.45888124644097,335.45888124644097,335.45888124644097,335.45888124644097,335.45888124644097,335.45888124644097,335.45888124644097,335.45888124644097,335.45888124644097,335.45888124644097,335.45888124644097,335.45888124644097,335.45888124644097,335.45888124644097,335.45888124644097,335.45888124644097,335.49204028523167,335.49204028523167,335.49204028523167,335.49204028523167,335.49204028523167,335.49204028523167,335.49204028523167,335.49204028523167,335.49204028523167,335.49204028523167,335.49204028523167,335.49204028523167,335.49204028523167,335.49204028523167,335.49204028523167,335.49204028523167,335.49204028523167,335.49204028523167,335.49204028523167,335.49204028523167,335.49204028523167,335.49204028523167,335.49204028523167,335.49204028523167,335.49204028523167,335.49204028523167,335.49204028523167,335.49204028523167,335.49204028523167,335.49204028523167,335.49204028523167,335.49204028523167,335.49204028523167,335.49204028523167,335.49204028523167,335.49204028523167,335.49204028523167,335.49204028523167,335.49204028523167,335.49204028523167,335.49204028523167,335.49204028523167,335.49204028523167,335.49204028523167,335.49204028523167,335.49204028523167,335.49204028523167,335.49204028523167,335.49204028523167,335.49204028523167,335.49204028523167,335.49204028523167,335.49204028523167,335.49204028523167,335.49204028523167,335.49204028523167,335.49204028523167,335.49204028523167,335.49204028523167,335.49204028523167,335.49204028523167,335.49204028523167,335.49204028523167,335.49204028523167,335.49204028523167,335.5251993240223,335.5251993240223,335.5251993240223,335.5251993240223,335.5251993240223,335.5251993240223,335.5251993240223,335.5251993240223,335.59151740160365,335.59151740160365,335.59151740160365,335.59151740160365,335.59151740160365,335.59151740160365,335.59151740160365,335.59151740160365,335.59151740160365,335.59151740160365,335.62467644039435,335.62467644039435,335.62467644039435,335.62467644039435,335.62467644039435,335.62467644039435,335.62467644039435,335.62467644039435,335.62467644039435,335.62467644039435,335.62467644039435,335.62467644039435,335.62467644039435,335.62467644039435,335.62467644039435,335.62467644039435,335.62467644039435,335.62467644039435,335.62467644039435,335.62467644039435,335.62467644039435,335.62467644039435,335.62467644039435,335.62467644039435,335.62467644039435,335.62467644039435,335.62467644039435,335.62467644039435,335.62467644039435,335.62467644039435,335.62467644039435,335.62467644039435,335.62467644039435,335.62467644039435,335.62467644039435,335.62467644039435,335.62467644039435,335.62467644039435,335.62467644039435,335.62467644039435,335.62467644039435,335.62467644039435,335.62467644039435,335.62467644039435,335.62467644039435,335.62467644039435,335.62467644039435,335.62467644039435,335.65783547918505,335.65783547918505,335.6909945179757,335.6909945179757,335.6909945179757,335.6909945179757,335.6909945179757,335.6909945179757,335.6909945179757,335.6909945179757,335.6909945179757,335.6909945179757,335.6909945179757,335.7241535567664,335.7241535567664,335.7241535567664,335.7573125955571,335.7573125955571,335.7573125955571,335.7573125955571,335.7573125955571,335.7573125955571,335.7573125955571,335.7573125955571,335.7573125955571,335.7573125955571,335.7573125955571,335.7573125955571,335.7573125955571,335.7573125955571,335.7573125955571,335.7573125955571,335.7573125955571,335.7573125955571,335.7573125955571,335.7573125955571,335.7573125955571,335.7573125955571,335.7573125955571,335.7573125955571,335.7573125955571,335.7573125955571,335.79047163434774,335.79047163434774,335.79047163434774,335.79047163434774,335.79047163434774,335.79047163434774,335.82363067313844,335.82363067313844,335.82363067313844,335.82363067313844,335.82363067313844,335.82363067313844,335.8567897119291,335.8567897119291,335.8567897119291,335.8567897119291,335.8567897119291,335.8567897119291,335.8567897119291,335.8899487507198,335.8899487507198,335.8899487507198,335.8899487507198,335.8899487507198,335.8899487507198,335.8899487507198,335.8899487507198,335.8899487507198,335.8899487507198,335.8899487507198,335.8899487507198,335.8899487507198,335.8899487507198,335.8899487507198,335.8899487507198,335.8899487507198,335.8899487507198,335.8899487507198,335.9231077895105,335.9231077895105,335.9562668283011,335.9894258670918,335.9894258670918,336.05574394467317,336.05574394467317,336.05574394467317,336.05574394467317,336.05574394467317,336.05574394467317,336.05574394467317,336.05574394467317,336.08890298346387,336.08890298346387,336.08890298346387,336.08890298346387,336.08890298346387,336.08890298346387,336.08890298346387,336.08890298346387,336.08890298346387,336.08890298346387,336.08890298346387,336.08890298346387,336.08890298346387,336.08890298346387,336.08890298346387,336.08890298346387,336.08890298346387,336.08890298346387,336.08890298346387,336.08890298346387,336.08890298346387,336.08890298346387,336.08890298346387,336.08890298346387,336.08890298346387,336.08890298346387,336.08890298346387,336.08890298346387,336.08890298346387,336.08890298346387,336.08890298346387,336.08890298346387,336.08890298346387,336.08890298346387,336.08890298346387,336.08890298346387,336.08890298346387,336.08890298346387,336.08890298346387,336.08890298346387,336.1220620222545,336.1220620222545,336.1220620222545,336.1220620222545,336.1220620222545,336.1220620222545,336.1552210610452,336.18838009983585,336.18838009983585,336.18838009983585,336.18838009983585,336.18838009983585,336.22153913862655,336.22153913862655,336.22153913862655,336.22153913862655,336.22153913862655,336.22153913862655,336.22153913862655,336.22153913862655,336.22153913862655,336.22153913862655,336.25469817741725,336.25469817741725,336.25469817741725,336.25469817741725,336.25469817741725,336.25469817741725,336.25469817741725,336.25469817741725,336.25469817741725,336.25469817741725,336.25469817741725,336.25469817741725,336.25469817741725,336.25469817741725,336.25469817741725,336.25469817741725,336.25469817741725,336.25469817741725,336.25469817741725,336.25469817741725,336.25469817741725,336.25469817741725,336.25469817741725,336.25469817741725,336.25469817741725,336.25469817741725,336.25469817741725,336.2878572162079,336.2878572162079,336.2878572162079,336.2878572162079,336.2878572162079,336.2878572162079,336.3210162549986,336.3210162549986,336.3210162549986,336.3210162549986,336.3210162549986,336.3210162549986,336.3210162549986,336.3210162549986,336.3210162549986,336.3541752937893,336.3541752937893,336.3541752937893,336.3541752937893,336.38733433257994,336.38733433257994,336.38733433257994,336.38733433257994,336.38733433257994,336.38733433257994,336.38733433257994,336.38733433257994,336.38733433257994,336.4536524101613,336.4536524101613,336.4536524101613,336.486811448952,336.486811448952,336.486811448952,336.486811448952,336.486811448952,336.486811448952,336.486811448952,336.486811448952,336.486811448952,336.486811448952,336.486811448952,336.486811448952,336.486811448952,336.486811448952,336.486811448952,336.5199704877427,336.5199704877427,336.5199704877427,336.5199704877427,336.5199704877427,336.5199704877427,336.5199704877427,336.5199704877427,336.5531295265333,336.5531295265333,336.5531295265333,336.5531295265333,336.5531295265333,336.5531295265333,336.5531295265333,336.5531295265333,336.5531295265333,336.5531295265333,336.5531295265333,336.5531295265333,336.5531295265333,336.5531295265333,336.5531295265333,336.5531295265333,336.5531295265333,336.5531295265333,336.5531295265333,336.5531295265333,336.5531295265333,336.5531295265333,336.5531295265333,336.586288565324,336.586288565324,336.586288565324,336.586288565324,336.586288565324,336.586288565324,336.586288565324,336.7520837592774,336.7520837592774,336.7520837592774,336.7520837592774,336.7520837592774,336.7520837592774,336.7520837592774,336.7520837592774,336.7520837592774,336.7520837592774,336.7520837592774,336.7520837592774,336.7520837592774,336.7520837592774,336.7520837592774,336.7520837592774,336.7520837592774,336.7520837592774,336.7520837592774,336.7520837592774,336.7520837592774,336.7520837592774,336.7520837592774,336.7520837592774,336.7520837592774,336.7520837592774,336.7520837592774,336.7520837592774,336.7520837592774,336.7520837592774,336.7520837592774,336.7520837592774,336.7520837592774,336.7520837592774,336.7520837592774,336.7520837592774,336.7520837592774,336.7520837592774,336.7520837592774,336.7520837592774,336.7520837592774,336.7852427980681,336.7852427980681,336.7852427980681,336.7852427980681,336.7852427980681,336.81840183685875,336.81840183685875,336.85156087564945,336.9178789532308,336.9178789532308,336.9178789532308,336.9178789532308,336.9178789532308,336.9178789532308,336.9178789532308,336.9510379920215,336.9510379920215,336.98419703081214,336.98419703081214,336.98419703081214,336.98419703081214,337.01735606960284,337.01735606960284,337.01735606960284,337.01735606960284,337.01735606960284,337.01735606960284,337.01735606960284,337.01735606960284,337.01735606960284,337.01735606960284,337.01735606960284,337.01735606960284,337.01735606960284,337.01735606960284,337.01735606960284,337.01735606960284,337.01735606960284,337.01735606960284,337.01735606960284,337.01735606960284,337.01735606960284,337.01735606960284,337.01735606960284,337.01735606960284,337.01735606960284,337.01735606960284,337.01735606960284,337.01735606960284,337.01735606960284,337.01735606960284,337.01735606960284,337.01735606960284,337.01735606960284,337.0505151083935,337.0505151083935,337.0505151083935,337.0505151083935,337.0505151083935,337.0505151083935,337.0505151083935,337.0505151083935,337.0505151083935,337.1168331859749,337.1831512635562,337.2163103023469,337.2163103023469,337.2163103023469,337.2163103023469,337.3489464575096,337.3489464575096,337.3489464575096,337.3489464575096,337.3489464575096,337.3489464575096,337.3489464575096,337.3489464575096,337.3489464575096,337.3489464575096,337.3489464575096,337.3489464575096,337.3489464575096,337.3489464575096,337.3489464575096,337.3489464575096,337.3489464575096,337.3489464575096,337.3489464575096,337.3489464575096,337.3489464575096,337.3489464575096,337.3489464575096,337.3489464575096,337.3489464575096,337.3489464575096,337.3489464575096,337.3489464575096,337.3489464575096,337.3489464575096,337.3489464575096,337.3489464575096,337.3489464575096,337.3489464575096,337.3489464575096,337.3489464575096,337.3489464575096,337.3489464575096,337.3489464575096,337.3489464575096,337.3489464575096,337.3489464575096,337.3489464575096,337.3489464575096,337.3489464575096,337.3489464575096,337.3489464575096,337.3489464575096,337.3489464575096,337.3489464575096,337.3489464575096,337.3489464575096,337.3489464575096,337.3489464575096,337.3489464575096,337.3489464575096,337.3489464575096,337.3489464575096,337.3489464575096,337.3489464575096,337.3489464575096,337.3489464575096,337.3489464575096,337.3489464575096,337.3489464575096,337.3489464575096,337.3489464575096,337.3489464575096,337.3489464575096,337.3489464575096,337.3489464575096,337.3489464575096,337.3489464575096,337.3489464575096,337.3489464575096,337.3489464575096,337.3489464575096,337.3489464575096,337.3489464575096,337.3489464575096,337.3489464575096,337.3489464575096,337.3489464575096,337.3489464575096,337.3489464575096,337.3489464575096,337.3489464575096,337.3489464575096,337.3489464575096,337.3489464575096,337.3489464575096,337.3489464575096,337.3489464575096,337.3489464575096,337.3489464575096,337.3489464575096,337.3489464575096,337.3489464575096,337.3489464575096,337.3489464575096,337.3489464575096,337.3489464575096,337.3489464575096,337.3489464575096,337.3489464575096,337.3489464575096,337.3489464575096,337.3489464575096,337.3489464575096,337.3489464575096,337.3489464575096,337.3489464575096,337.3489464575096,337.3489464575096,337.3489464575096,337.3489464575096,337.3489464575096,337.3489464575096,337.3489464575096,337.3489464575096,337.3489464575096,337.3489464575096,337.3489464575096,337.3489464575096,337.3489464575096,337.3489464575096,337.3489464575096,337.3489464575096,337.3489464575096,337.3489464575096,337.3489464575096,337.3489464575096,337.3489464575096,337.3489464575096,337.3489464575096,337.3489464575096,337.3489464575096,337.3489464575096,337.3489464575096,337.3489464575096,337.3489464575096,337.3489464575096,337.3489464575096,337.3489464575096,337.3821054963003,337.3821054963003,337.3821054963003,337.3821054963003,337.3821054963003,337.3821054963003,337.3821054963003,337.3821054963003,337.3821054963003,337.3821054963003,337.3821054963003,337.3821054963003,337.3821054963003,337.3821054963003,337.3821054963003,337.3821054963003,337.3821054963003,337.3821054963003,337.3821054963003,337.3821054963003,337.3821054963003,337.3821054963003,337.3821054963003,337.3821054963003,337.3821054963003,337.3821054963003,337.3821054963003,337.3821054963003,337.3821054963003,337.3821054963003,337.3821054963003,337.3821054963003,337.3821054963003,337.3821054963003,337.3821054963003,337.3821054963003,337.3821054963003,337.3821054963003,337.3821054963003,337.3821054963003,337.3821054963003,337.3821054963003,337.3821054963003,337.3821054963003,337.3821054963003,337.3821054963003,337.3821054963003,337.3821054963003,337.3821054963003,337.3821054963003,337.3821054963003,337.3821054963003,337.3821054963003,337.3821054963003,337.3821054963003,337.3821054963003,337.3821054963003,337.3821054963003,337.3821054963003,337.3821054963003,337.3821054963003,337.3821054963003,337.3821054963003,337.3821054963003,337.3821054963003,337.3821054963003,337.3821054963003,337.3821054963003,337.3821054963003,337.3821054963003,337.3821054963003,337.3821054963003,337.3821054963003,337.3821054963003,337.3821054963003,337.3821054963003,337.3821054963003,337.3821054963003,337.3821054963003,337.3821054963003,337.3821054963003,337.3821054963003,337.3821054963003,337.3821054963003,337.3821054963003,337.3821054963003,337.3821054963003,337.3821054963003,337.3821054963003,337.3821054963003,337.3821054963003,337.3821054963003,337.3821054963003,337.3821054963003,337.3821054963003,337.3821054963003,337.3821054963003,337.3821054963003,337.3821054963003,337.3821054963003,337.3821054963003,337.3821054963003,337.3821054963003,337.3821054963003,337.3821054963003,337.3821054963003,337.3821054963003,337.3821054963003,337.3821054963003,337.3821054963003,337.3821054963003,337.3821054963003,337.3821054963003,337.3821054963003,337.3821054963003,337.3821054963003,337.3821054963003,337.3821054963003,337.3821054963003,337.3821054963003,337.3821054963003,337.3821054963003,337.3821054963003,337.3821054963003,337.3821054963003,337.3821054963003,337.3821054963003,337.3821054963003,337.3821054963003,337.3821054963003,337.3821054963003,337.3821054963003,337.3821054963003,337.3821054963003,337.3821054963003,337.3821054963003,337.3821054963003,337.3821054963003,337.3821054963003,337.3821054963003,337.3821054963003,337.3821054963003,337.3821054963003,337.3821054963003,337.3821054963003,337.3821054963003,337.3821054963003,337.3821054963003,337.3821054963003,337.3821054963003,337.41526453509096,337.41526453509096,337.41526453509096,337.41526453509096,337.41526453509096,337.41526453509096,337.44842357388166,337.44842357388166,337.44842357388166,337.44842357388166,337.44842357388166,337.44842357388166,337.44842357388166,337.44842357388166,337.44842357388166,337.44842357388166,337.44842357388166,337.44842357388166,337.44842357388166,337.44842357388166,337.44842357388166,337.44842357388166,337.44842357388166,337.44842357388166,337.44842357388166,337.44842357388166,337.44842357388166,337.4815826126723,337.4815826126723,337.514741651463,337.514741651463,337.514741651463,337.514741651463,337.514741651463,337.514741651463,337.6805368454164,337.6805368454164,337.6805368454164,337.6805368454164,337.6805368454164,337.6805368454164,337.7136958842071,337.7136958842071,337.7468549229977,337.7468549229977,337.7468549229977,337.7468549229977,337.7468549229977,337.7468549229977,337.7468549229977,337.7468549229977,337.7468549229977,337.7468549229977,337.7468549229977,337.7468549229977,337.7468549229977,337.7468549229977,337.7468549229977,337.7468549229977,337.7468549229977,337.7468549229977,337.7468549229977,337.7468549229977,337.7468549229977,337.7468549229977,337.7468549229977,337.7468549229977,337.7468549229977,337.7468549229977,337.7468549229977,337.7468549229977,337.7468549229977,337.7468549229977,337.7468549229977,337.7800139617884,337.7800139617884,337.7800139617884,337.7800139617884,337.7800139617884,337.7800139617884,337.7800139617884,337.7800139617884,337.7800139617884,337.7800139617884,337.7800139617884,337.7800139617884,337.7800139617884,337.7800139617884,337.7800139617884,337.7800139617884,337.7800139617884,337.8131730005791,337.84633203936977,337.84633203936977,337.84633203936977,337.87949107816047,337.87949107816047,337.87949107816047,337.87949107816047,337.87949107816047,337.87949107816047,337.87949107816047,337.87949107816047,337.87949107816047,337.87949107816047,337.87949107816047,337.87949107816047,337.87949107816047,337.87949107816047,337.87949107816047,337.87949107816047,337.87949107816047,337.87949107816047,337.87949107816047,337.87949107816047,337.87949107816047,337.87949107816047,337.87949107816047,337.87949107816047,337.87949107816047,337.87949107816047,337.87949107816047,337.9458091557418,337.9458091557418,337.9458091557418,337.9458091557418,337.9458091557418,337.9458091557418,337.9458091557418,337.9458091557418,337.9458091557418,337.9458091557418,338.04528627211386,338.1116043496952,338.1116043496952,338.1116043496952,338.1447633884859,338.1447633884859,338.1447633884859,338.1447633884859,338.1447633884859,338.1447633884859,338.1447633884859,338.1447633884859,338.1447633884859,338.1447633884859,338.1447633884859,338.1447633884859,338.1447633884859,338.1447633884859,338.1447633884859,338.1447633884859,338.1447633884859,338.1447633884859,338.1447633884859,338.1447633884859,338.1447633884859,338.17792242727654,338.17792242727654,338.3437176212299,338.3437176212299,338.3437176212299,338.3437176212299,338.3437176212299,338.3437176212299,338.3437176212299,338.3437176212299,338.3437176212299,338.3768766600206,338.3768766600206,338.3768766600206,338.3768766600206,338.3768766600206,338.3768766600206,338.3768766600206,338.3768766600206,338.3768766600206,338.4100356988113,338.4100356988113,338.4100356988113,338.4100356988113,338.4100356988113,338.4100356988113,338.4100356988113,338.4100356988113,338.4100356988113,338.4100356988113,338.4100356988113,338.4100356988113,338.4100356988113,338.4100356988113,338.4100356988113,338.4100356988113,338.4100356988113,338.4100356988113,338.4100356988113,338.4100356988113,338.4100356988113,338.4100356988113,338.4100356988113,338.4100356988113,338.4100356988113,338.4100356988113,338.4100356988113,338.4100356988113,338.4100356988113,338.44319473760197,338.44319473760197,338.44319473760197,338.44319473760197,338.44319473760197,338.44319473760197,338.44319473760197,338.44319473760197,338.44319473760197,338.44319473760197,338.44319473760197,338.44319473760197,338.44319473760197,338.44319473760197,338.44319473760197,338.44319473760197,338.44319473760197,338.44319473760197,338.44319473760197,338.44319473760197,338.44319473760197,338.44319473760197,338.44319473760197,338.44319473760197,338.44319473760197,338.44319473760197,338.44319473760197,338.44319473760197,338.44319473760197,338.44319473760197,338.44319473760197,338.44319473760197,338.44319473760197,338.44319473760197,338.44319473760197,338.44319473760197,338.44319473760197,338.44319473760197,338.44319473760197,338.44319473760197,338.44319473760197,338.44319473760197,338.44319473760197,338.44319473760197,338.44319473760197,338.44319473760197,338.44319473760197,338.44319473760197,338.44319473760197,338.44319473760197,338.44319473760197,338.44319473760197,338.44319473760197,338.44319473760197,338.44319473760197,338.44319473760197,338.44319473760197,338.47635377639267,338.47635377639267,338.47635377639267,338.47635377639267,338.47635377639267,338.47635377639267,338.47635377639267,338.47635377639267,338.47635377639267,338.47635377639267,338.47635377639267,338.47635377639267,338.47635377639267,338.47635377639267,338.47635377639267,338.47635377639267,338.47635377639267,338.47635377639267,338.47635377639267,338.47635377639267,338.47635377639267,338.47635377639267,338.47635377639267,338.47635377639267,338.47635377639267,338.47635377639267,338.542671853974,338.542671853974,338.5758308927647,338.60898993155536,338.60898993155536,338.60898993155536,338.60898993155536,338.60898993155536,338.60898993155536,338.60898993155536,338.60898993155536,338.60898993155536,338.60898993155536,338.60898993155536,338.60898993155536,338.60898993155536,338.60898993155536,338.60898993155536,338.60898993155536,338.60898993155536,338.60898993155536,338.60898993155536,338.60898993155536,338.60898993155536,338.60898993155536,338.60898993155536,338.60898993155536,338.60898993155536,338.60898993155536,338.60898993155536,338.60898993155536,338.60898993155536,338.60898993155536,338.60898993155536,338.60898993155536,338.60898993155536,338.60898993155536,338.60898993155536,338.7084670479274,338.77478512550874,338.77478512550874,338.77478512550874,338.77478512550874,338.77478512550874,338.77478512550874,338.77478512550874,338.77478512550874,338.77478512550874,338.77478512550874,338.80794416429944,338.80794416429944,338.80794416429944,338.80794416429944,338.80794416429944,338.80794416429944,338.80794416429944,338.80794416429944,338.80794416429944,338.80794416429944,338.80794416429944,338.80794416429944,338.80794416429944,338.80794416429944,338.80794416429944,338.80794416429944,338.80794416429944,338.80794416429944,338.80794416429944,338.80794416429944,338.80794416429944,338.80794416429944,338.80794416429944,338.80794416429944,338.80794416429944,338.80794416429944,338.80794416429944,338.80794416429944,338.80794416429944,338.80794416429944,338.80794416429944,338.80794416429944,338.80794416429944,338.80794416429944,338.80794416429944,338.80794416429944,338.80794416429944,338.80794416429944,338.80794416429944,338.80794416429944,338.80794416429944,338.80794416429944,338.80794416429944,338.80794416429944,338.80794416429944,338.80794416429944,338.80794416429944,338.80794416429944,338.80794416429944,338.80794416429944,338.80794416429944,338.80794416429944,338.80794416429944,338.80794416429944,338.80794416429944,338.80794416429944,338.80794416429944,338.80794416429944,338.80794416429944,338.80794416429944,338.80794416429944,338.80794416429944,338.80794416429944,338.80794416429944,338.80794416429944,338.80794416429944,338.80794416429944,338.80794416429944,338.80794416429944,338.80794416429944,338.80794416429944,338.80794416429944,338.80794416429944,338.80794416429944,338.80794416429944,338.80794416429944,338.80794416429944,338.80794416429944,338.80794416429944,338.84110320309014,338.84110320309014,338.84110320309014,338.84110320309014,338.84110320309014,338.84110320309014,338.84110320309014,338.84110320309014,338.84110320309014,338.84110320309014,338.84110320309014,338.84110320309014,338.84110320309014,338.84110320309014,338.84110320309014,338.84110320309014,338.84110320309014,338.84110320309014,338.84110320309014,338.84110320309014,338.84110320309014,338.84110320309014,338.84110320309014,338.84110320309014,338.84110320309014,338.84110320309014,338.84110320309014,338.84110320309014,338.84110320309014,338.84110320309014,338.84110320309014,338.84110320309014,338.84110320309014,338.84110320309014,338.84110320309014,338.8742622418808,338.8742622418808,338.9074212806715,338.97373935825283,338.97373935825283,338.97373935825283,338.97373935825283,338.97373935825283,338.97373935825283,338.97373935825283,338.97373935825283,338.97373935825283,338.97373935825283,338.97373935825283,338.97373935825283,338.97373935825283,338.97373935825283,338.97373935825283,338.97373935825283,338.97373935825283,338.97373935825283,338.97373935825283,338.97373935825283,338.97373935825283,338.97373935825283,338.97373935825283,338.97373935825283,338.97373935825283,338.97373935825283,339.0068983970435,339.0068983970435,339.0068983970435,339.07321647462487,339.07321647462487,339.07321647462487,339.07321647462487,339.10637551341557,339.1395345522062,339.1395345522062,339.27217070736896,339.27217070736896,339.27217070736896,339.27217070736896,339.27217070736896,339.27217070736896,339.27217070736896,339.27217070736896,339.27217070736896,339.27217070736896,339.27217070736896,339.27217070736896,339.27217070736896,339.27217070736896,339.27217070736896,339.27217070736896,339.27217070736896,339.27217070736896,339.27217070736896,339.27217070736896,339.27217070736896,339.27217070736896,339.27217070736896,339.27217070736896,339.27217070736896,339.27217070736896,339.27217070736896,339.27217070736896,339.27217070736896,339.27217070736896,339.27217070736896,339.27217070736896,339.27217070736896,339.27217070736896,339.27217070736896,339.27217070736896,339.27217070736896,339.27217070736896,339.27217070736896,339.27217070736896,339.27217070736896,339.27217070736896,339.27217070736896,339.27217070736896,339.27217070736896,339.27217070736896,339.27217070736896,339.27217070736896,339.27217070736896,339.27217070736896,339.27217070736896,339.27217070736896,339.27217070736896,339.27217070736896,339.27217070736896,339.27217070736896,339.27217070736896,339.27217070736896,339.27217070736896,339.27217070736896,339.27217070736896,339.27217070736896,339.27217070736896,339.27217070736896,339.27217070736896,339.27217070736896,339.27217070736896,339.3053297461596,339.3053297461596,339.3384887849503,339.3384887849503,339.3384887849503,339.3384887849503,339.3384887849503,339.3384887849503,339.3384887849503,339.3384887849503,339.3384887849503,339.3384887849503,339.3384887849503,339.3384887849503,339.3384887849503,339.3384887849503,339.3384887849503,339.3384887849503,339.3384887849503,339.3384887849503,339.3384887849503,339.3384887849503,339.3384887849503,339.3384887849503,339.3384887849503,339.3384887849503,339.3384887849503,339.3384887849503,339.3384887849503,339.3384887849503,339.3384887849503,339.3384887849503,339.3384887849503,339.3384887849503,339.3384887849503,339.3384887849503,339.3384887849503,339.3384887849503,339.3384887849503,339.3384887849503,339.3384887849503,339.3384887849503,339.37164782374094,339.40480686253164,339.40480686253164,339.40480686253164,339.40480686253164,339.40480686253164,339.40480686253164,339.40480686253164,339.40480686253164,339.40480686253164,339.40480686253164,339.40480686253164,339.40480686253164,339.40480686253164,339.40480686253164,339.43796590132234,339.43796590132234,339.43796590132234,339.43796590132234,339.43796590132234,339.43796590132234,339.43796590132234,339.43796590132234,339.43796590132234,339.43796590132234,339.43796590132234,339.43796590132234,339.43796590132234,339.43796590132234,339.471124940113,339.471124940113,339.471124940113,339.471124940113,339.471124940113,339.471124940113,339.471124940113,339.471124940113,339.471124940113,339.471124940113,339.471124940113,339.471124940113,339.471124940113,339.471124940113,339.471124940113,339.471124940113,339.471124940113,339.471124940113,339.471124940113,339.471124940113,339.471124940113,339.471124940113,339.471124940113,339.471124940113,339.471124940113,339.471124940113,339.471124940113,339.471124940113,339.471124940113,339.471124940113,339.471124940113,339.471124940113,339.471124940113,339.471124940113,339.471124940113,339.471124940113,339.471124940113,339.471124940113,339.471124940113,339.471124940113,339.471124940113,339.471124940113,339.471124940113,339.471124940113,339.471124940113,339.471124940113,339.471124940113,339.471124940113,339.471124940113,339.471124940113,339.471124940113,339.471124940113,339.471124940113,339.471124940113,339.471124940113,339.471124940113,339.471124940113,339.471124940113,339.471124940113,339.471124940113,339.471124940113,339.471124940113,339.471124940113,339.471124940113,339.471124940113,339.471124940113,339.471124940113,339.471124940113,339.471124940113,339.471124940113,339.471124940113,339.471124940113,339.471124940113,339.471124940113,339.471124940113,339.471124940113,339.471124940113,339.471124940113,339.471124940113,339.471124940113,339.471124940113,339.471124940113,339.471124940113,339.471124940113,339.471124940113,339.471124940113,339.471124940113,339.471124940113,339.471124940113,339.471124940113,339.471124940113,339.471124940113,339.471124940113,339.471124940113,339.471124940113,339.471124940113,339.471124940113,339.471124940113,339.471124940113,339.471124940113,339.57060205648503,339.57060205648503,339.57060205648503,339.57060205648503,339.57060205648503,339.57060205648503,339.57060205648503,339.57060205648503,339.57060205648503,339.57060205648503,339.57060205648503,339.57060205648503,339.57060205648503,339.57060205648503,339.57060205648503,339.57060205648503,339.57060205648503,339.57060205648503,339.57060205648503,339.57060205648503,339.57060205648503,339.57060205648503,339.57060205648503,339.57060205648503,339.57060205648503,339.57060205648503,339.57060205648503,339.57060205648503,339.57060205648503,339.57060205648503,339.57060205648503,339.57060205648503,339.57060205648503,339.57060205648503,339.57060205648503,339.57060205648503,339.57060205648503,339.57060205648503,339.57060205648503,339.60376109527573,339.60376109527573,339.60376109527573,339.60376109527573,339.6369201340664,339.6369201340664,339.6369201340664,339.6369201340664,339.6369201340664,339.6369201340664,339.6369201340664,339.6369201340664,339.6369201340664,339.6369201340664,339.6369201340664,339.6369201340664,339.6369201340664,339.6369201340664,339.6369201340664,339.6369201340664,339.6369201340664,339.6369201340664,339.6369201340664,339.6369201340664,339.6369201340664,339.6369201340664,339.6369201340664,339.6369201340664,339.6700791728571,339.6700791728571,339.6700791728571,339.6700791728571,339.7032382116478,339.7032382116478,339.7032382116478,339.7032382116478,339.7032382116478,339.7695562892291,339.7695562892291,339.80271532801976,339.80271532801976,339.80271532801976,339.80271532801976,339.80271532801976,339.80271532801976,339.80271532801976,339.80271532801976,339.80271532801976,339.80271532801976,339.80271532801976,339.80271532801976,339.80271532801976,339.80271532801976,339.80271532801976,339.80271532801976,339.80271532801976,339.80271532801976,339.80271532801976,339.80271532801976,339.80271532801976,339.83587436681046,339.83587436681046,339.83587436681046,339.83587436681046,339.83587436681046,339.83587436681046,339.83587436681046,339.83587436681046,339.83587436681046,339.83587436681046,339.83587436681046,339.83587436681046,339.83587436681046,339.83587436681046,339.83587436681046,339.83587436681046,339.86903340560116,339.86903340560116,339.86903340560116,339.86903340560116,339.86903340560116,339.86903340560116,339.86903340560116,339.86903340560116,339.9685105219732,340.00166956076384,340.00166956076384,340.00166956076384,340.00166956076384,340.00166956076384,340.00166956076384,340.00166956076384,340.00166956076384,340.00166956076384,340.00166956076384,340.00166956076384,340.00166956076384,340.00166956076384,340.00166956076384,340.0679876383452,340.0679876383452,340.0679876383452,340.0679876383452,340.0679876383452,340.0679876383452,340.0679876383452,340.0679876383452,340.0679876383452,340.0679876383452,340.0679876383452,340.0679876383452,340.0679876383452,340.0679876383452,340.0679876383452,340.1343057159266,340.1343057159266,340.1343057159266,340.1343057159266,340.1343057159266,340.1343057159266,340.1343057159266,340.1343057159266,340.1343057159266,340.1343057159266,340.1343057159266,340.1343057159266,340.1343057159266,340.1343057159266,340.1343057159266,340.1343057159266,340.1343057159266,340.1343057159266,340.1343057159266,340.1343057159266,340.1343057159266,340.1343057159266,340.1343057159266,340.1343057159266,340.1343057159266,340.1343057159266,340.1343057159266,340.1343057159266,340.1343057159266,340.1343057159266,340.1343057159266,340.1343057159266,340.1343057159266,340.1343057159266,340.1343057159266,340.1343057159266,340.1343057159266,340.1343057159266,340.20062379350793,340.20062379350793,340.2337828322986,340.2337828322986,340.2337828322986,340.2337828322986,340.2337828322986,340.2337828322986,340.2337828322986,340.399578026252,340.399578026252,340.43273706504266,340.43273706504266,340.43273706504266,340.43273706504266,340.43273706504266,340.43273706504266,340.43273706504266,340.43273706504266,340.43273706504266,340.43273706504266,340.43273706504266,340.43273706504266,340.43273706504266,340.43273706504266,340.43273706504266,340.43273706504266,340.43273706504266,340.43273706504266,340.43273706504266,340.43273706504266,340.43273706504266,340.43273706504266,340.43273706504266,340.43273706504266,340.43273706504266,340.43273706504266,340.43273706504266,340.43273706504266,340.43273706504266,340.46589610383336,340.46589610383336,340.46589610383336,340.499055142624,340.499055142624,340.499055142624,340.499055142624,340.499055142624,340.499055142624,340.499055142624,340.499055142624,340.499055142624,340.499055142624,340.499055142624,340.499055142624,340.499055142624,340.499055142624,340.499055142624,340.499055142624,340.499055142624,340.499055142624,340.499055142624,340.499055142624,340.499055142624,340.499055142624,340.499055142624,340.499055142624,340.499055142624,340.499055142624,340.499055142624,340.499055142624,340.499055142624,340.499055142624,340.499055142624,340.499055142624,340.499055142624,340.499055142624,340.499055142624,340.499055142624,340.499055142624,340.499055142624,340.5322141814147,340.5322141814147,340.5653732202054,340.59853225899604,340.59853225899604,340.59853225899604,340.59853225899604,340.59853225899604,340.59853225899604,340.59853225899604,340.59853225899604,340.59853225899604,340.59853225899604,340.59853225899604,340.63169129778674,340.63169129778674,340.63169129778674,340.63169129778674,340.63169129778674,340.63169129778674,340.63169129778674,340.63169129778674,340.63169129778674,340.63169129778674,340.63169129778674,340.63169129778674,340.63169129778674,340.63169129778674,340.63169129778674,340.6980093753681,340.6980093753681,340.6980093753681,340.6980093753681,340.6980093753681,340.6980093753681,340.6980093753681,340.6980093753681,340.6980093753681,340.6980093753681,340.76432745294943,340.76432745294943,340.76432745294943,340.76432745294943,340.76432745294943,340.8969636081122,340.8969636081122,341.06275880206556,341.06275880206556,341.06275880206556,341.06275880206556,341.06275880206556,341.06275880206556,341.06275880206556,341.06275880206556,341.06275880206556,341.06275880206556,341.06275880206556,341.06275880206556,341.06275880206556,341.06275880206556,341.06275880206556,341.06275880206556,341.06275880206556,341.06275880206556,341.06275880206556,341.06275880206556,341.06275880206556,341.06275880206556,341.06275880206556,341.06275880206556,341.06275880206556,341.0959178408562,341.0959178408562,341.0959178408562,341.0959178408562,341.0959178408562,341.0959178408562,341.0959178408562,341.0959178408562,341.0959178408562,341.0959178408562,341.0959178408562,341.0959178408562,341.0959178408562,341.0959178408562,341.0959178408562,341.0959178408562,341.0959178408562,341.0959178408562,341.0959178408562,341.1290768796469,341.1290768796469,341.1290768796469,341.1290768796469,341.1290768796469,341.1290768796469,341.1290768796469,341.1622359184376,341.1622359184376,341.1622359184376,341.19539495722825,341.26171303480965,341.26171303480965,341.26171303480965,341.26171303480965,341.26171303480965,341.26171303480965,341.26171303480965,341.26171303480965,341.26171303480965,341.26171303480965,341.26171303480965,341.26171303480965,341.26171303480965,341.26171303480965,341.26171303480965,341.2948720736003,341.2948720736003,341.2948720736003,341.2948720736003,341.2948720736003,341.2948720736003,341.2948720736003,341.2948720736003,341.39434918997233,341.39434918997233,341.39434918997233,341.39434918997233,341.39434918997233,341.39434918997233,341.39434918997233,341.39434918997233,341.39434918997233,341.39434918997233,341.39434918997233,341.39434918997233,341.39434918997233,341.39434918997233,341.39434918997233,341.39434918997233,341.39434918997233,341.39434918997233,341.39434918997233,341.39434918997233,341.39434918997233,341.39434918997233,341.39434918997233,341.39434918997233,341.39434918997233,341.39434918997233,341.39434918997233,341.39434918997233,341.39434918997233,341.39434918997233,341.39434918997233,341.39434918997233,341.39434918997233,341.39434918997233,341.39434918997233,341.39434918997233,341.39434918997233,341.39434918997233,341.39434918997233,341.39434918997233,341.39434918997233,341.39434918997233,341.39434918997233,341.39434918997233,341.39434918997233,341.39434918997233,341.39434918997233,341.39434918997233,341.39434918997233,341.39434918997233,341.39434918997233,341.39434918997233,341.39434918997233,341.39434918997233,341.39434918997233,341.39434918997233,341.39434918997233,341.39434918997233,341.39434918997233,341.39434918997233,341.39434918997233,341.39434918997233,341.39434918997233,341.39434918997233,341.39434918997233,341.39434918997233,341.39434918997233,341.39434918997233,341.39434918997233,341.39434918997233,341.39434918997233,341.39434918997233,341.39434918997233,341.39434918997233,341.39434918997233,341.39434918997233,341.39434918997233,341.39434918997233,341.39434918997233,341.39434918997233,341.39434918997233,341.39434918997233,341.39434918997233,341.39434918997233,341.39434918997233,341.39434918997233,341.39434918997233,341.39434918997233,341.39434918997233,341.39434918997233,341.39434918997233,341.39434918997233,341.39434918997233,341.39434918997233,341.39434918997233,341.39434918997233,341.39434918997233,341.39434918997233,341.39434918997233,341.39434918997233,341.39434918997233,341.39434918997233,341.39434918997233,341.39434918997233,341.39434918997233,341.39434918997233,341.39434918997233,341.39434918997233,341.39434918997233,341.39434918997233,341.39434918997233,341.39434918997233,341.39434918997233,341.39434918997233,341.39434918997233,341.39434918997233,341.39434918997233,341.39434918997233,341.39434918997233,341.39434918997233,341.39434918997233,341.39434918997233,341.39434918997233,341.39434918997233,341.39434918997233,341.39434918997233,341.39434918997233,341.39434918997233,341.39434918997233,341.39434918997233,341.39434918997233,341.39434918997233,341.39434918997233,341.39434918997233,341.39434918997233,341.39434918997233,341.39434918997233,341.39434918997233,341.39434918997233,341.39434918997233,341.39434918997233,341.39434918997233,341.39434918997233,341.39434918997233,341.39434918997233,341.39434918997233,341.39434918997233,341.39434918997233,341.39434918997233,341.39434918997233,341.39434918997233,341.39434918997233,341.39434918997233,341.39434918997233,341.39434918997233,341.39434918997233,341.39434918997233,341.39434918997233,341.39434918997233,341.39434918997233,341.39434918997233,341.39434918997233,341.39434918997233,341.39434918997233,341.39434918997233,341.39434918997233,341.42750822876303,341.42750822876303,341.42750822876303,341.42750822876303,341.42750822876303,341.42750822876303,341.42750822876303,341.42750822876303,341.42750822876303,341.42750822876303,341.4938263063444,341.4938263063444,341.4938263063444,341.4938263063444,341.4938263063444,341.4938263063444,341.4938263063444,341.4938263063444,341.4938263063444,341.4938263063444,341.4938263063444,341.4938263063444,341.4938263063444,341.4938263063444,341.4938263063444,341.4938263063444,341.4938263063444,341.4938263063444,341.4938263063444,341.4938263063444,341.4938263063444,341.4938263063444,341.4938263063444,341.4938263063444,341.4938263063444,341.4938263063444,341.4938263063444,341.4938263063444,341.4938263063444,341.4938263063444,341.4938263063444,341.4938263063444,341.4938263063444,341.4938263063444,341.4938263063444,341.4938263063444,341.4938263063444,341.4938263063444,341.4938263063444,341.4938263063444,341.4938263063444,341.4938263063444,341.4938263063444,341.4938263063444,341.4938263063444,341.4938263063444,341.4938263063444,341.4938263063444,341.4938263063444,341.4938263063444,341.4938263063444,341.4938263063444,341.4938263063444,341.4938263063444,341.4938263063444,341.4938263063444,341.4938263063444,341.4938263063444,341.4938263063444,341.4938263063444,341.4938263063444,341.4938263063444,341.4938263063444,341.4938263063444,341.4938263063444,341.4938263063444,341.4938263063444,341.4938263063444,341.4938263063444,341.4938263063444,341.4938263063444,341.4938263063444,341.4938263063444,341.4938263063444,341.4938263063444,341.4938263063444,341.4938263063444,341.4938263063444,341.4938263063444,341.4938263063444,341.4938263063444,341.4938263063444,341.4938263063444,341.4938263063444,341.4938263063444,341.4938263063444,341.4938263063444,341.4938263063444,341.4938263063444,341.4938263063444,341.4938263063444,341.4938263063444,341.4938263063444,341.4938263063444,341.4938263063444,341.4938263063444,341.4938263063444,341.4938263063444,341.4938263063444,341.4938263063444,341.4938263063444,341.4938263063444,341.4938263063444,341.4938263063444,341.4938263063444,341.62646246150706,341.62646246150706,341.62646246150706,341.62646246150706,341.65962150029776,341.65962150029776,341.65962150029776,341.65962150029776,341.65962150029776,341.65962150029776,341.65962150029776,341.65962150029776,341.65962150029776,341.65962150029776,341.6927805390884,341.6927805390884,341.6927805390884,341.6927805390884,341.6927805390884,341.6927805390884,341.6927805390884,341.6927805390884,341.6927805390884,341.7259395778791,341.7259395778791,341.7259395778791,341.7259395778791,341.7259395778791,341.7259395778791,341.7259395778791,341.7259395778791,341.7259395778791,341.7259395778791,341.7259395778791,341.7259395778791,341.7259395778791,341.7259395778791,341.7259395778791,341.7259395778791,341.7259395778791,341.7259395778791,341.7259395778791,341.7259395778791,341.7259395778791,341.7259395778791,341.7259395778791,341.7259395778791,341.7259395778791,341.7590986166698,341.79225765546045,341.79225765546045,341.79225765546045,341.79225765546045,341.79225765546045,341.79225765546045,341.79225765546045,341.79225765546045,341.79225765546045,341.79225765546045,341.79225765546045,341.79225765546045,341.79225765546045,341.79225765546045,341.79225765546045,341.79225765546045,341.79225765546045,341.79225765546045,341.79225765546045,341.79225765546045,341.79225765546045,341.79225765546045,341.79225765546045,341.79225765546045,341.79225765546045,341.79225765546045,341.79225765546045,341.79225765546045,341.79225765546045,341.79225765546045,341.79225765546045,341.79225765546045,341.79225765546045,341.82541669425115,341.82541669425115,341.82541669425115,341.82541669425115,341.82541669425115,341.82541669425115,341.82541669425115,341.82541669425115,341.82541669425115,341.82541669425115,341.82541669425115,341.82541669425115,341.82541669425115,341.82541669425115,341.82541669425115,341.82541669425115,341.82541669425115,341.82541669425115,341.82541669425115,341.82541669425115,341.82541669425115,341.82541669425115,341.82541669425115,341.82541669425115,341.82541669425115,341.82541669425115,341.82541669425115,341.82541669425115,341.82541669425115,341.82541669425115,341.82541669425115,341.82541669425115,341.82541669425115,341.82541669425115,341.82541669425115,341.82541669425115,341.82541669425115,341.82541669425115,341.9248938106232,341.9248938106232,341.9248938106232,341.9248938106232,341.9248938106232,341.9248938106232,341.9248938106232,341.9248938106232,341.9248938106232,341.9248938106232,341.9248938106232,341.9248938106232,341.9248938106232,341.9248938106232,341.9248938106232,341.9248938106232,341.9248938106232,341.9248938106232,341.9248938106232,341.9248938106232,341.9248938106232,341.9248938106232,341.9248938106232,341.9248938106232,341.9248938106232,341.9248938106232,341.9248938106232,341.9248938106232,341.9248938106232,341.9248938106232,341.9248938106232,341.9248938106232,341.9248938106232,341.9248938106232,341.9248938106232,342.02437092699523,342.02437092699523,342.02437092699523,342.02437092699523,342.02437092699523,342.02437092699523,342.02437092699523,342.02437092699523,342.02437092699523,342.02437092699523,342.02437092699523,342.02437092699523,342.02437092699523,342.02437092699523,342.02437092699523,342.02437092699523,342.02437092699523,342.02437092699523,342.02437092699523,342.02437092699523,342.02437092699523,342.1238480433672,342.1238480433672,342.1238480433672,342.1238480433672,342.1238480433672,342.1238480433672,342.1238480433672,342.1238480433672,342.1238480433672,342.1238480433672,342.1238480433672,342.1238480433672,342.1238480433672,342.1238480433672,342.1238480433672,342.1238480433672,342.1238480433672,342.1238480433672,342.1238480433672,342.1238480433672,342.1238480433672,342.1238480433672,342.1238480433672,342.1238480433672,342.1238480433672,342.1238480433672,342.1238480433672,342.1238480433672,342.1238480433672,342.1238480433672,342.1238480433672,342.1238480433672,342.1238480433672,342.1238480433672,342.1238480433672,342.1238480433672,342.1238480433672,342.1238480433672,342.1238480433672,342.1238480433672,342.1238480433672,342.1238480433672,342.1238480433672,342.1238480433672,342.1238480433672,342.1238480433672,342.1238480433672,342.1238480433672,342.1238480433672,342.1238480433672,342.1238480433672,342.1238480433672,342.1238480433672,342.1238480433672,342.1238480433672,342.1238480433672,342.1238480433672,342.1238480433672,342.1238480433672,342.1238480433672,342.1238480433672,342.1238480433672,342.1238480433672,342.1238480433672,342.1238480433672,342.1238480433672,342.1238480433672,342.1238480433672,342.1238480433672,342.1238480433672,342.1238480433672,342.1238480433672,342.1238480433672,342.1238480433672,342.1238480433672,342.1238480433672,342.1238480433672,342.1238480433672,342.22332515973926,342.22332515973926,342.22332515973926,342.22332515973926,342.22332515973926,342.22332515973926,342.22332515973926,342.22332515973926,342.22332515973926,342.22332515973926,342.22332515973926,342.22332515973926,342.22332515973926,342.22332515973926,342.22332515973926,342.22332515973926,342.22332515973926,342.22332515973926,342.22332515973926,342.22332515973926,342.22332515973926,342.22332515973926,342.22332515973926,342.22332515973926,342.22332515973926,342.22332515973926,342.22332515973926,342.22332515973926,342.22332515973926,342.22332515973926,342.22332515973926,342.22332515973926,342.28964323732066,342.5217565088554,342.5217565088554,342.5217565088554,342.5217565088554,342.55491554764603,342.55491554764603,342.55491554764603,342.55491554764603,342.55491554764603,342.55491554764603,342.55491554764603,342.55491554764603,342.55491554764603,342.55491554764603,342.55491554764603,342.55491554764603,342.55491554764603,342.55491554764603,342.55491554764603,342.55491554764603,342.6875517028088,342.6875517028088,342.6875517028088,342.6875517028088,342.6875517028088,342.6875517028088,342.7207107415995,342.7207107415995,342.7207107415995,342.7207107415995,342.7207107415995,342.7207107415995,342.7538697803901,342.7538697803901,342.7538697803901,342.7538697803901,342.7538697803901,342.82018785797146,342.82018785797146,342.82018785797146,342.82018785797146,342.82018785797146,342.82018785797146,342.82018785797146,342.82018785797146,342.82018785797146,342.82018785797146,342.85334689676216,342.85334689676216,342.85334689676216,342.85334689676216,342.85334689676216,342.85334689676216,342.9196649743435,342.9196649743435,342.9196649743435,342.9196649743435,342.9196649743435,342.9196649743435,342.9196649743435,342.9196649743435,342.9196649743435,342.98598305192485,343.01914209071555,343.01914209071555,343.01914209071555,343.01914209071555,343.01914209071555,343.01914209071555,343.01914209071555,343.01914209071555,343.01914209071555,343.01914209071555,343.01914209071555,343.01914209071555,343.01914209071555,343.21809632345963,343.21809632345963,343.21809632345963,343.21809632345963,343.21809632345963,343.21809632345963,343.21809632345963,343.21809632345963,343.21809632345963,343.21809632345963,343.21809632345963,343.21809632345963,343.21809632345963,343.21809632345963,343.21809632345963,343.3175734398317,343.5165276725757,343.5165276725757,343.5165276725757,343.5165276725757,343.5165276725757,343.5165276725757,343.5165276725757,343.5165276725757,343.5165276725757,343.5165276725757,343.5165276725757,343.5165276725757,343.5165276725757,343.5165276725757,343.5165276725757,343.5165276725757,343.5165276725757,343.5165276725757,343.5165276725757,343.5165276725757,343.5165276725757,343.5165276725757,343.5165276725757,343.5165276725757,343.5165276725757,343.5165276725757,343.5165276725757,343.5165276725757,343.5496867113664,343.6823228665291,343.6823228665291,343.6823228665291,343.6823228665291,343.6823228665291,343.6823228665291,343.6823228665291,343.6823228665291,343.7486409441105,343.7486409441105,343.7486409441105,343.7486409441105,343.7486409441105,343.7486409441105,343.7486409441105,343.78179998290113,343.78179998290113,343.78179998290113,343.8812770992732,343.8812770992732,343.8812770992732,343.8812770992732,343.8812770992732,343.8812770992732,343.8812770992732,343.8812770992732,343.8812770992732,343.8812770992732,343.8812770992732,343.8812770992732,343.8812770992732,343.8812770992732,343.8812770992732,343.9475951768545,343.9807542156452,343.9807542156452,344.1465494095986,344.1465494095986,344.1797084483893,344.1797084483893,344.1797084483893,344.1797084483893,344.1797084483893,344.1797084483893,344.1797084483893,344.1797084483893,344.24602652597065,344.24602652597065,344.24602652597065,344.24602652597065,344.3455036423427,344.6107759526681,344.64393499145876,344.64393499145876,344.67709403024946,344.67709403024946,344.67709403024946,344.67709403024946,344.67709403024946,344.67709403024946,344.67709403024946,344.67709403024946,344.67709403024946,344.67709403024946,344.67709403024946,344.67709403024946,344.67709403024946,344.67709403024946,344.67709403024946,344.67709403024946,344.67709403024946,344.67709403024946,344.67709403024946,344.67709403024946,344.67709403024946,344.67709403024946,344.67709403024946,344.67709403024946,344.67709403024946,344.67709403024946,344.67709403024946,344.67709403024946,344.67709403024946,344.67709403024946,344.67709403024946,344.67709403024946,344.67709403024946,344.67709403024946,344.67709403024946,344.67709403024946,344.67709403024946,344.67709403024946,344.67709403024946,344.67709403024946,344.67709403024946,344.67709403024946,344.67709403024946,344.67709403024946,344.67709403024946,344.67709403024946,344.67709403024946,344.67709403024946,344.67709403024946,344.67709403024946,344.67709403024946,344.67709403024946,344.67709403024946,344.67709403024946,344.67709403024946,344.67709403024946,344.67709403024946,344.67709403024946,344.67709403024946,344.67709403024946,344.67709403024946,344.67709403024946,344.67709403024946,344.67709403024946,344.67709403024946,344.67709403024946,344.67709403024946,344.67709403024946,344.67709403024946,344.67709403024946,344.67709403024946,344.67709403024946,344.67709403024946,344.67709403024946,344.67709403024946,344.67709403024946,344.67709403024946,344.67709403024946,344.67709403024946,344.67709403024946,344.67709403024946,344.67709403024946,344.67709403024946,344.67709403024946,344.67709403024946,344.67709403024946,344.67709403024946,344.67709403024946,344.67709403024946,344.67709403024946,344.67709403024946,344.67709403024946,344.67709403024946,344.67709403024946,344.67709403024946,344.67709403024946,344.67709403024946,344.67709403024946,344.67709403024946,344.67709403024946,344.67709403024946,344.67709403024946,344.67709403024946,344.67709403024946,344.67709403024946,344.67709403024946,344.67709403024946,344.67709403024946,344.67709403024946,344.67709403024946,344.67709403024946,344.67709403024946,344.67709403024946,344.67709403024946,344.67709403024946,344.67709403024946,344.67709403024946,344.67709403024946,344.67709403024946,344.67709403024946,344.67709403024946,344.67709403024946,344.67709403024946,344.67709403024946,344.67709403024946,344.67709403024946,344.67709403024946,344.67709403024946,344.67709403024946,344.67709403024946,344.67709403024946,344.67709403024946,344.67709403024946,344.67709403024946,344.67709403024946,344.67709403024946,344.67709403024946,344.67709403024946,344.67709403024946,344.67709403024946,344.67709403024946,344.67709403024946,344.67709403024946,344.67709403024946,344.67709403024946,344.7102530690401,344.7765711466215,344.9092073017842,344.9423663405749,344.9423663405749,344.9423663405749,344.9423663405749,344.9423663405749,344.9423663405749,345.00868441815624,345.00868441815624,345.00868441815624,345.00868441815624,345.00868441815624,345.00868441815624,345.00868441815624,345.00868441815624,345.00868441815624,345.00868441815624,345.1413205733189,345.1413205733189,345.1413205733189,345.2076386509003,345.2076386509003,345.2076386509003,345.2076386509003,345.2076386509003,345.2076386509003,345.2076386509003,345.2076386509003,345.2076386509003,345.2076386509003,345.2076386509003,345.2076386509003,345.2076386509003,345.2076386509003,345.2076386509003,345.2076386509003,345.340274806063,345.340274806063,345.340274806063,345.340274806063,345.340274806063,345.340274806063,345.340274806063,345.340274806063,345.340274806063,345.340274806063,345.340274806063,345.3734338448537,345.3734338448537,345.3734338448537,345.3734338448537,345.3734338448537,345.3734338448537,345.3734338448537,345.3734338448537,345.3734338448537,345.3734338448537,345.3734338448537,345.3734338448537,345.43975192243505,345.43975192243505,345.43975192243505,345.43975192243505,345.43975192243505,345.43975192243505,345.43975192243505,345.43975192243505,345.43975192243505,345.43975192243505,345.43975192243505,345.43975192243505,345.43975192243505,345.43975192243505,345.43975192243505,345.47291096122575,345.47291096122575,345.47291096122575,345.5060700000164,345.5060700000164,345.5060700000164,345.5060700000164,345.5060700000164,345.5060700000164,345.5060700000164,345.5392290388071,345.5392290388071,345.5392290388071,345.5392290388071,345.5392290388071,345.5392290388071,345.5392290388071,345.5392290388071,345.90397846550457,346.20240981462064,346.20240981462064,346.20240981462064,346.20240981462064,346.20240981462064,346.3350459697834,346.3350459697834,346.3350459697834,346.3350459697834,346.3350459697834,346.3350459697834,346.3350459697834,346.368205008574,346.368205008574,346.368205008574,346.43452308615537,346.43452308615537,346.43452308615537,346.43452308615537,346.43452308615537,346.43452308615537,346.43452308615537,346.43452308615537,346.43452308615537,346.43452308615537,346.43452308615537,346.43452308615537,346.43452308615537,346.43452308615537,346.43452308615537,346.43452308615537,346.43452308615537,346.43452308615537,346.43452308615537,346.43452308615537,346.43452308615537,346.43452308615537,346.43452308615537,346.43452308615537,346.43452308615537,346.43452308615537,346.43452308615537,346.43452308615537,346.43452308615537,346.43452308615537,346.43452308615537,346.43452308615537,346.43452308615537,346.43452308615537,346.43452308615537,346.43452308615537,346.43452308615537,346.43452308615537,346.43452308615537,346.43452308615537,346.43452308615537,346.43452308615537,346.43452308615537,346.43452308615537,346.43452308615537,346.43452308615537,346.43452308615537,346.43452308615537,346.43452308615537,346.43452308615537,346.43452308615537,346.43452308615537,346.5671592413181,346.5671592413181,347.06454482317827,347.06454482317827,347.06454482317827,347.06454482317827,347.06454482317827,347.06454482317827,347.06454482317827,347.06454482317827,347.06454482317827,347.06454482317827,347.1640219395503,347.1640219395503,347.1640219395503,347.1640219395503,347.1640219395503,347.1640219395503,347.1640219395503,347.1640219395503,347.1640219395503,347.1640219395503,347.19718097834095,347.19718097834095,347.19718097834095,347.42929424987574,347.42929424987574,347.42929424987574,347.42929424987574,347.42929424987574,347.42929424987574,347.42929424987574,347.42929424987574,347.42929424987574,347.42929424987574,347.42929424987574,347.42929424987574,347.42929424987574,347.42929424987574,347.42929424987574,347.42929424987574,347.42929424987574,347.42929424987574,347.42929424987574,347.42929424987574,347.42929424987574,347.42929424987574,347.42929424987574,347.42929424987574,347.42929424987574,347.42929424987574,347.42929424987574,347.42929424987574,347.42929424987574,347.42929424987574,347.42929424987574,347.42929424987574,347.42929424987574,347.42929424987574,347.42929424987574,347.42929424987574,347.42929424987574,347.42929424987574,347.42929424987574,347.42929424987574,347.42929424987574,347.42929424987574,347.42929424987574,347.42929424987574,347.42929424987574,347.42929424987574,347.42929424987574,347.42929424987574,347.42929424987574,347.42929424987574,347.5287713662478,347.5287713662478,347.6282484826198,347.7277255989918,347.86036175415455,347.86036175415455,347.86036175415455,347.86036175415455,347.86036175415455,347.86036175415455,347.86036175415455,347.86036175415455,347.86036175415455,347.86036175415455,347.86036175415455,347.86036175415455,347.86036175415455,347.86036175415455,347.86036175415455,347.86036175415455,347.86036175415455,347.86036175415455,347.86036175415455,347.86036175415455,347.86036175415455,347.86036175415455,347.86036175415455,347.86036175415455,347.86036175415455,347.86036175415455,347.86036175415455,347.9266798317359,347.9266798317359,347.9266798317359,347.9266798317359,347.9266798317359,347.9266798317359,347.9266798317359,347.9266798317359,347.9266798317359,348.1587931032706,348.1587931032706,348.1587931032706,348.1587931032706,348.1587931032706,348.1919521420613,348.1919521420613,348.1919521420613,348.1919521420613,348.1919521420613,348.1919521420613,348.1919521420613,348.1919521420613,348.1919521420613,348.1919521420613,348.1919521420613,348.1919521420613,348.1919521420613,348.1919521420613,348.1919521420613,348.1919521420613,348.1919521420613,348.1919521420613,348.1919521420613,348.1919521420613,348.29142925843337,348.3577473360147,348.3577473360147,348.3577473360147,348.3577473360147,348.3577473360147,348.5567015687588,348.5567015687588,348.5567015687588,348.5567015687588,348.5567015687588,348.5567015687588,348.5567015687588,348.5567015687588,348.5567015687588,348.5567015687588,348.5567015687588,348.5567015687588,348.5567015687588,348.5567015687588,348.5567015687588,348.5567015687588,348.5567015687588,348.5567015687588,348.5567015687588,348.5567015687588,348.5567015687588,348.58986060754944,348.58986060754944,348.58986060754944,348.58986060754944,348.58986060754944,348.58986060754944,348.58986060754944,348.58986060754944,348.58986060754944,348.58986060754944,348.58986060754944,348.58986060754944,348.9214509954562,348.9214509954562,348.9214509954562,348.9214509954562,348.9214509954562,348.9214509954562,348.9214509954562,348.9214509954562,349.25304138336304,349.25304138336304,349.25304138336304,349.25304138336304,349.25304138336304,349.4188365773164,349.4188365773164,349.4188365773164,349.4188365773164,349.4188365773164,349.4188365773164,349.4188365773164,349.4188365773164,349.4188365773164,349.4188365773164,349.4188365773164,349.4188365773164,349.4188365773164,349.4188365773164,349.4188365773164,349.4188365773164,349.4188365773164,349.4188365773164,349.4188365773164,349.4188365773164,349.4188365773164,349.5514727324791,349.65094984885116,349.65094984885116,349.65094984885116,349.65094984885116,349.65094984885116,349.65094984885116,349.65094984885116,349.65094984885116,349.65094984885116,349.65094984885116,349.65094984885116,349.65094984885116,349.65094984885116,349.65094984885116,349.65094984885116,349.65094984885116,349.65094984885116,349.65094984885116,349.65094984885116,349.65094984885116,349.65094984885116,349.65094984885116,349.65094984885116,349.65094984885116,349.65094984885116,349.65094984885116,349.65094984885116,349.65094984885116,349.9493811979672,349.9493811979672,349.9493811979672,349.9493811979672,349.9493811979672,349.9493811979672,349.9493811979672,349.9493811979672,349.9493811979672,349.9493811979672,349.9493811979672,349.9493811979672,349.9493811979672,349.9493811979672,350.08201735312997,350.08201735312997,350.08201735312997,350.08201735312997,350.08201735312997,350.3141306246647,350.44676677982744,350.44676677982744,350.44676677982744,350.44676677982744,350.44676677982744,350.44676677982744,350.44676677982744,350.44676677982744,350.44676677982744,350.44676677982744,350.44676677982744,350.44676677982744,350.44676677982744,350.44676677982744,350.44676677982744,350.44676677982744,350.4799258186181,350.4799258186181,350.4799258186181,350.4799258186181,350.4799258186181,350.4799258186181,350.4799258186181,350.4799258186181,350.4799258186181,350.4799258186181,350.4799258186181,350.4799258186181,350.4799258186181,350.4799258186181,350.4799258186181,350.4799258186181,350.4799258186181,350.4799258186181,350.4799258186181,350.4799258186181,350.4799258186181,350.4799258186181,350.4799258186181,350.4799258186181,350.4799258186181,350.5130848574088,350.5130848574088,350.5130848574088,350.5130848574088,350.5130848574088,350.5130848574088,350.5130848574088,350.5130848574088,350.5130848574088,350.5130848574088,350.5462438961995,350.5462438961995,350.5462438961995,350.7783571677342,350.7783571677342,350.7783571677342,350.7783571677342,350.7783571677342,350.7783571677342,350.7783571677342,350.7783571677342,350.7783571677342,350.7783571677342,350.7783571677342,350.7783571677342,350.7783571677342,350.7783571677342,350.7783571677342,351.04362947805964,351.04362947805964,351.04362947805964,351.04362947805964,351.04362947805964,351.04362947805964,351.04362947805964,351.04362947805964,351.04362947805964,351.04362947805964,351.04362947805964,351.109947555641,351.109947555641,351.109947555641,351.109947555641,351.109947555641,351.109947555641,351.109947555641,351.4083789047571,351.4083789047571,351.4083789047571,351.4083789047571,351.47469698233846,351.47469698233846,351.80628737024523,351.83944640903593,351.83944640903593,351.83944640903593,351.83944640903593,351.83944640903593,351.83944640903593,351.83944640903593,351.83944640903593,351.83944640903593,351.83944640903593,351.83944640903593,351.83944640903593,351.83944640903593,351.83944640903593,351.83944640903593,351.83944640903593,351.83944640903593,351.83944640903593,351.83944640903593,351.83944640903593,351.83944640903593,351.83944640903593,351.83944640903593,351.83944640903593,351.83944640903593,351.83944640903593,351.83944640903593,351.83944640903593,351.83944640903593,351.83944640903593,351.83944640903593,351.83944640903593,351.83944640903593,351.83944640903593,351.83944640903593,351.83944640903593,351.83944640903593,352.03840064177996,352.03840064177996,352.03840064177996,352.07155968057066,352.1710367969427,352.1710367969427,352.1710367969427,352.1710367969427,352.1710367969427,352.20419583573334,352.20419583573334,352.20419583573334,352.7678994951749,352.7678994951749,352.7678994951749,352.7678994951749,352.7678994951749,352.7678994951749,353.29844411582576,353.29844411582576,353.29844411582576,353.29844411582576,353.29844411582576,353.29844411582576,353.29844411582576,353.29844411582576,353.3316031546164,353.3316031546164,353.3316031546164,353.3316031546164,353.3316031546164,353.3316031546164,353.3316031546164,353.3316031546164,353.3316031546164,353.3316031546164,353.3316031546164,353.3316031546164,353.3316031546164,353.3316031546164,353.3316031546164,353.3316031546164,353.3316031546164,353.3316031546164,353.3316031546164,353.3316031546164,353.3316031546164,353.3316031546164,353.3316031546164,353.3316031546164,353.3316031546164,353.3316031546164,353.3316031546164,353.3316031546164,353.3316031546164,353.3316031546164,353.5305573873605,353.5305573873605,353.5305573873605,353.5305573873605,353.5305573873605,353.5305573873605,353.5305573873605,353.5305573873605,353.5305573873605,353.7626706588952,353.7626706588952,353.7626706588952,353.7626706588952,353.7626706588952,353.7626706588952,353.7626706588952,353.7626706588952,353.7626706588952,353.7626706588952,353.7626706588952,353.7626706588952,353.7626706588952,353.7626706588952,353.7626706588952,353.7626706588952,354.02794296922065,354.094261046802,354.094261046802,354.094261046802,354.094261046802,354.094261046802,354.094261046802,354.094261046802,354.094261046802,354.094261046802,354.094261046802,354.094261046802,354.094261046802,354.094261046802,354.094261046802,354.094261046802,354.094261046802,354.094261046802,354.094261046802,354.094261046802,354.094261046802,354.094261046802,354.094261046802,354.094261046802,354.094261046802,354.094261046802,354.094261046802,354.094261046802,354.094261046802,354.094261046802,354.094261046802,354.094261046802,354.094261046802,354.094261046802,354.094261046802,354.094261046802,354.094261046802,354.094261046802,354.094261046802,354.094261046802,354.094261046802,354.094261046802,354.094261046802,354.094261046802,354.094261046802,354.62480566745285,354.65796470624355,355.022714132941,355.022714132941,355.022714132941,355.022714132941,355.022714132941,355.022714132941,355.022714132941,355.022714132941,355.022714132941,355.022714132941,355.022714132941,355.022714132941,355.022714132941,355.022714132941,355.022714132941,355.022714132941,355.022714132941,355.022714132941,355.022714132941,355.022714132941,355.022714132941,355.022714132941,355.022714132941,355.022714132941,355.022714132941,355.022714132941,355.022714132941,355.022714132941,355.022714132941,355.022714132941,355.022714132941,355.022714132941,355.2879864432664,355.2879864432664,355.38746355963843,355.5864177923825,355.5864177923825,355.5864177923825,355.7190539475452,355.7190539475452,355.7190539475452,355.7190539475452,355.7190539475452,355.95116721908,355.95116721908,355.95116721908,356.05064433545203,356.05064433545203,356.05064433545203,356.1169624130334,356.1169624130334,356.1169624130334,356.1169624130334,356.1169624130334,356.1169624130334,356.1169624130334,356.1169624130334,356.1169624130334,356.1169624130334,356.1169624130334,356.1169624130334,356.1169624130334,356.1169624130334,356.1169624130334,356.41539376214945,356.41539376214945,356.41539376214945,356.7801431888469,357.3106878094978,357.3106878094978,357.3106878094978,357.3106878094978,357.3106878094978,357.90755050773,357.90755050773,357.90755050773,357.90755050773,357.90755050773,357.90755050773,357.90755050773,358.04018666289267,358.04018666289267,358.04018666289267,358.04018666289267,358.04018666289267,358.04018666289267,358.04018666289267,358.04018666289267,358.04018666289267,358.04018666289267,358.04018666289267,358.1728228180554,358.5044132059622,358.5044132059622,358.5044132059622,358.5044132059622,358.5044132059622,358.5044132059622,358.5044132059622,358.5044132059622,358.5044132059622,358.6038903223342,358.6038903223342,358.83600359386895,358.83600359386895,358.83600359386895,358.83600359386895,358.83600359386895,358.83600359386895,358.83600359386895,358.83600359386895,358.83600359386895,358.83600359386895,358.83600359386895,358.83600359386895,358.83600359386895,358.83600359386895,358.83600359386895,358.83600359386895,358.83600359386895,358.83600359386895,358.83600359386895,358.83600359386895,358.83600359386895,358.83600359386895,358.83600359386895,358.83600359386895,358.83600359386895,358.83600359386895,358.83600359386895,358.83600359386895,358.83600359386895,358.83600359386895,358.83600359386895,358.83600359386895,359.7644566800079,359.7644566800079,360.9250230376817,360.9250230376817,361.3892495807512,361.3892495807512,361.3892495807512,361.85347612382066,361.85347612382066,361.9861122789834,361.9861122789834,361.9861122789834,361.9861122789834,361.9861122789834,361.9861122789834,361.9861122789834,361.9861122789834,361.9861122789834,361.9861122789834,361.9861122789834,361.9861122789834,361.9861122789834,361.9861122789834,361.9861122789834,361.9861122789834,361.9861122789834,361.9861122789834,361.9861122789834,361.9861122789834,362.28454362809947,362.28454362809947,362.3508617056808,362.8150882487503,362.8150882487503,362.8150882487503,362.8150882487503,362.8150882487503,362.8150882487503,362.8150882487503,362.8150882487503,362.8150882487503,363.41195094698253,363.41195094698253,363.41195094698253,363.41195094698253,363.41195094698253,363.41195094698253,363.41195094698253,363.41195094698253,363.84301845126134,363.84301845126134,363.84301845126134,363.84301845126134,363.84301845126134,363.84301845126134,363.84301845126134,363.84301845126134,363.84301845126134,363.84301845126134,363.84301845126134,363.84301845126134,363.84301845126134,363.84301845126134,363.84301845126134,363.84301845126134,363.84301845126134,363.84301845126134,363.84301845126134,363.84301845126134,363.84301845126134,363.84301845126134,363.84301845126134,363.84301845126134,363.84301845126134,363.84301845126134,363.84301845126134,363.84301845126134,363.84301845126134,363.84301845126134,363.84301845126134,363.84301845126134,363.84301845126134,363.84301845126134,364.00881364521473,364.6719944210283,364.6719944210283,364.6719944210283,364.6719944210283,365.3351751968419,365.3351751968419,365.3351751968419,365.3351751968419,365.3351751968419,365.3351751968419,365.3351751968419,365.3351751968419,365.3351751968419,365.3351751968419,366.0315150114461,366.0315150114461,366.0315150114461,366.0315150114461,366.0315150114461,366.0315150114461,366.0315150114461,366.0315150114461,366.0315150114461,366.0315150114461,366.0315150114461,366.0315150114461,366.3631053993529,366.3631053993529,366.3631053993529,366.3631053993529,366.3631053993529,366.3631053993529,366.3631053993529,366.3631053993529,366.3631053993529,366.3631053993529,366.761013864841,367.0926042527478,367.0926042527478,367.0926042527478,367.0926042527478,367.1920813691198,367.1920813691198,367.1920813691198,367.1920813691198,367.1920813691198,367.1920813691198,367.1920813691198,367.1920813691198,367.1920813691198,367.1920813691198,367.1920813691198,367.1920813691198,367.1920813691198,367.1920813691198,367.1920813691198,367.1920813691198,367.1920813691198,367.1920813691198,367.42419464065455,367.42419464065455,367.42419464065455,367.42419464065455,368.65107907590965,368.65107907590965,368.65107907590965,368.65107907590965,368.65107907590965,368.65107907590965,369.04898754139776,369.04898754139776,369.04898754139776,369.04898754139776,369.04898754139776,369.04898754139776,369.04898754139776,369.04898754139776,369.04898754139776,369.84480447237405,369.84480447237405,372.26541430409355,372.26541430409355,372.29857334288425,372.29857334288425,372.29857334288425,372.29857334288425,372.29857334288425,372.29857334288425,372.3317323816749,372.3317323816749,372.3317323816749,372.3317323816749,372.3317323816749,372.3317323816749,372.3317323816749,372.3317323816749,372.3317323816749,372.3317323816749,372.3317323816749,372.3317323816749,372.3317323816749,372.3317323816749,372.5970046920003,372.5970046920003,372.5970046920003,372.5970046920003,372.5970046920003,372.5970046920003,372.5970046920003,372.5970046920003,372.5970046920003,372.5970046920003,372.5970046920003,372.5970046920003,372.5970046920003,372.5970046920003,372.5970046920003,372.5970046920003,372.5970046920003,372.5970046920003,372.5970046920003,372.5970046920003,372.5970046920003,372.5970046920003,372.5970046920003,372.5970046920003,372.5970046920003,372.5970046920003,372.86227700232575,372.86227700232575,372.86227700232575,375.7139543383241,375.7139543383241,375.7139543383241,375.7139543383241,375.7139543383241,375.7139543383241,375.7139543383241,375.7139543383241,375.7139543383241,378.2340412864156,378.2340412864156,378.2340412864156,378.2340412864156,378.2340412864156,378.2340412864156,378.2340412864156,378.2340412864156,378.2340412864156,378.2340412864156,380.9199234284605,380.9199234284605,380.9199234284605,380.9199234284605,380.9199234284605,380.9199234284605,380.9199234284605,380.9199234284605,380.9199234284605,380.9862415060419,380.9862415060419,380.9862415060419,380.9862415060419,380.9862415060419,380.9862415060419,380.9862415060419,380.9862415060419,380.9862415060419,380.9862415060419,380.9862415060419,381.8152174758088,381.8152174758088,386.32484675134106,386.32484675134106,386.32484675134106,386.32484675134106,386.32484675134106,392.3929508500351,392.3929508500351,392.3929508500351,392.3929508500351,392.3929508500351,392.3929508500351,392.3929508500351,392.3929508500351,392.3929508500351,392.3929508500351,392.3929508500351,392.3929508500351,392.3929508500351,392.3929508500351,392.3929508500351,392.3929508500351,392.3929508500351,392.3929508500351,392.3929508500351,392.3929508500351,392.3929508500351,392.3929508500351,392.3929508500351,392.3929508500351,392.3929508500351,392.3929508500351,392.3929508500351,392.3929508500351,394.5482883714292,398.0299874444504,398.0299874444504,398.0299874444504,398.0299874444504,398.0299874444504,398.0299874444504,398.0299874444504,398.0299874444504,398.0299874444504,398.0299874444504,398.0299874444504,398.0299874444504,398.0299874444504,398.0299874444504,398.0299874444504,398.0299874444504,398.1957826384038,398.1957826384038,398.1957826384038,398.1957826384038,398.1957826384038,398.1957826384038,398.1957826384038,401.11377805198345,401.11377805198345,401.11377805198345,401.51168651747156,401.8101178665877,401.8101178665877,401.8101178665877,401.8101178665877,401.8101178665877,401.8101178665877,401.8101178665877,401.8101178665877,401.8101178665877,401.8101178665877,401.8101178665877,401.8101178665877,401.8101178665877,401.8101178665877,401.8101178665877,401.8101178665877,401.8101178665877,401.8101178665877,401.8101178665877,401.8101178665877,401.8101178665877,401.8101178665877,401.8101178665877,401.8101178665877,401.8101178665877,401.8101178665877,403.03700230184273,403.03700230184273,406.35290618091057,406.35290618091057,406.35290618091057,406.35290618091057,406.35290618091057,416.16798166295126,416.16798166295126,416.16798166295126,416.16798166295126,416.16798166295126,416.16798166295126,416.16798166295126,416.16798166295126,416.16798166295126,423.197697886575,423.197697886575,423.197697886575,423.197697886575,423.197697886575,423.197697886575,423.197697886575,423.197697886575,423.197697886575,423.197697886575,423.197697886575,423.197697886575,423.197697886575,423.197697886575,423.197697886575,423.197697886575,423.197697886575,423.197697886575,423.197697886575,423.197697886575,423.197697886575,423.197697886575,423.197697886575,423.197697886575,423.197697886575,423.197697886575,423.197697886575,423.197697886575,423.197697886575,423.197697886575,423.197697886575,423.197697886575,423.197697886575,423.197697886575,423.197697886575,423.197697886575,423.197697886575,423.197697886575,423.197697886575,423.197697886575,423.197697886575,423.197697886575,423.197697886575,423.197697886575,423.197697886575,423.197697886575,423.197697886575,423.197697886575,423.197697886575,423.197697886575,423.197697886575,423.197697886575,423.197697886575,423.197697886575,423.197697886575,423.197697886575,423.197697886575,423.197697886575,423.197697886575,423.197697886575,423.197697886575,423.197697886575,423.197697886575,423.197697886575,423.197697886575,423.197697886575,423.197697886575,423.197697886575,423.197697886575,423.197697886575,423.197697886575,423.197697886575,423.197697886575,423.197697886575,423.197697886575,423.197697886575,423.197697886575,423.197697886575,423.197697886575,423.197697886575,423.197697886575,423.197697886575,423.197697886575,423.197697886575,423.197697886575,423.197697886575,423.197697886575,423.197697886575,423.197697886575,423.197697886575,423.197697886575,423.197697886575,423.197697886575,423.197697886575,423.197697886575,423.197697886575,423.197697886575,423.197697886575,423.197697886575,423.197697886575,423.197697886575,423.197697886575,423.197697886575,423.197697886575,423.197697886575,423.197697886575,423.197697886575,423.197697886575,423.197697886575,423.197697886575,423.197697886575,423.197697886575,423.197697886575,423.197697886575,423.197697886575,423.197697886575,423.197697886575,423.197697886575,423.197697886575,423.197697886575,423.197697886575,423.197697886575,425.0214450200623,425.0214450200623,425.0214450200623,425.0214450200623,425.0214450200623,425.0214450200623,425.0214450200623,425.2203992528064,425.2203992528064,429.33212006285044,429.33212006285044,429.33212006285044,431.6200937394072,431.6200937394072,431.6200937394072,431.6200937394072,434.37229395903347,434.37229395903347,434.37229395903347,434.37229395903347,434.37229395903347,434.37229395903347,434.37229395903347,434.37229395903347,434.37229395903347,434.37229395903347,434.37229395903347,434.37229395903347,434.37229395903347,434.37229395903347,434.37229395903347,434.37229395903347,434.37229395903347,434.37229395903347,434.37229395903347,434.37229395903347,434.37229395903347,434.37229395903347,434.37229395903347,434.37229395903347,434.37229395903347,434.37229395903347,434.37229395903347,434.37229395903347,434.37229395903347,434.37229395903347,434.37229395903347,434.37229395903347,434.37229395903347,434.37229395903347,434.37229395903347,434.37229395903347,434.37229395903347,434.37229395903347,434.37229395903347,434.37229395903347,434.37229395903347,434.37229395903347,434.37229395903347,434.37229395903347,434.37229395903347,434.37229395903347,434.37229395903347,434.37229395903347,434.37229395903347,434.37229395903347,434.37229395903347,434.37229395903347,434.37229395903347,434.37229395903347,434.37229395903347,434.37229395903347,434.37229395903347,434.37229395903347,434.37229395903347,434.37229395903347,434.37229395903347,434.37229395903347,434.37229395903347,434.37229395903347,434.37229395903347,434.37229395903347,434.37229395903347,434.37229395903347,434.37229395903347,434.37229395903347,434.37229395903347,434.37229395903347,434.37229395903347,434.37229395903347,434.37229395903347,434.37229395903347,434.37229395903347,434.37229395903347,434.37229395903347,434.37229395903347,434.37229395903347,434.37229395903347,434.37229395903347,434.37229395903347,434.37229395903347,434.37229395903347,434.37229395903347,438.0861063035894,438.0861063035894,448.0338179407928,456.09146436692754,456.09146436692754,456.09146436692754,456.09146436692754,456.09146436692754,456.09146436692754,456.09146436692754,456.09146436692754,456.09146436692754,456.09146436692754,456.09146436692754,456.09146436692754,456.09146436692754,456.09146436692754,467.73028698245554,467.73028698245554,467.73028698245554,467.73028698245554,467.73028698245554,467.73028698245554,467.73028698245554,467.73028698245554,467.73028698245554,467.73028698245554,467.73028698245554,467.73028698245554,467.73028698245554,467.73028698245554,467.73028698245554,467.73028698245554,467.73028698245554,467.73028698245554,467.73028698245554,476.1526828352878,476.1526828352878,476.1526828352878,480.0322903737971,480.0322903737971,480.0322903737971,485.6361679294217,485.6361679294217,485.6361679294217,485.6361679294217,485.6361679294217,485.6361679294217,485.6361679294217,486.36566678281656,486.36566678281656,486.36566678281656,486.36566678281656,486.36566678281656,486.36566678281656,486.36566678281656,486.36566678281656,486.36566678281656,486.36566678281656,486.36566678281656,486.36566678281656,486.36566678281656,486.36566678281656,486.36566678281656,486.36566678281656,486.36566678281656,486.36566678281656,486.36566678281656,486.36566678281656,486.36566678281656,491.83690818327847,491.83690818327847,507.05690698819967,507.05690698819967,507.05690698819967,507.05690698819967,524.6975156248404,524.6975156248404,524.6975156248404,524.6975156248404,524.6975156248404,524.6975156248404,524.6975156248404,528.9750316288378,528.9750316288378,528.9750316288378,528.9750316288378,528.9750316288378,528.9750316288378,528.9750316288378,528.9750316288378,528.9750316288378,528.9750316288378,528.9750316288378,528.9750316288378,528.9750316288378,528.9750316288378,528.9750316288378,528.9750316288378,528.9750316288378,528.9750316288378,528.9750316288378,528.9750316288378,530.1355979865116,530.1355979865116,530.1355979865116,530.1355979865116,530.1355979865116,530.1355979865116,530.1355979865116,530.1355979865116,530.1355979865116,530.1355979865116,530.1355979865116,530.1355979865116,530.1355979865116,530.1355979865116,530.1355979865116,530.1355979865116,530.1355979865116,530.1355979865116,530.1355979865116,530.1355979865116,530.1355979865116,530.1355979865116,530.1355979865116,530.1355979865116,530.1355979865116,530.1355979865116,530.1355979865116,530.1355979865116,549.6331127954302,549.6331127954302,581.0015634914116,581.0015634914116,581.0015634914116,581.0015634914116,581.0015634914116,581.0015634914116,581.0015634914116,581.0015634914116,581.0015634914116,581.0015634914116,581.0015634914116,581.0015634914116,581.0015634914116,612.3368551486024,612.3368551486024,612.3368551486024,612.3368551486024,612.3368551486024,612.3368551486024,612.3368551486024,612.3368551486024,612.3368551486024,612.3368551486024,612.3368551486024,612.3368551486024,632.7959820824507,633.0280953539855,633.0280953539855,633.0280953539855,633.0280953539855,633.0280953539855,633.0280953539855,633.0280953539855,633.0280953539855,633.0280953539855,633.0280953539855,633.0280953539855,633.0280953539855,633.0280953539855,633.0280953539855,633.0280953539855,633.0280953539855,633.0280953539855,633.0280953539855,633.0280953539855,633.0280953539855,633.0280953539855,633.0280953539855,633.0280953539855,633.0280953539855,633.0280953539855,633.0280953539855,661.1138012096897,719.4737094812831,719.4737094812831,719.4737094812831,832.0154871368442,834.9998006280052,1014.3902004855732,1331.8548378675246,2082.475998972103,2082.475998972103,2082.475998972103],\"yaxis\":\"y\",\"type\":\"scattergl\"}],                        {\"template\":{\"data\":{\"bar\":[{\"error_x\":{\"color\":\"#2a3f5f\"},\"error_y\":{\"color\":\"#2a3f5f\"},\"marker\":{\"line\":{\"color\":\"#E5ECF6\",\"width\":0.5},\"pattern\":{\"fillmode\":\"overlay\",\"size\":10,\"solidity\":0.2}},\"type\":\"bar\"}],\"barpolar\":[{\"marker\":{\"line\":{\"color\":\"#E5ECF6\",\"width\":0.5},\"pattern\":{\"fillmode\":\"overlay\",\"size\":10,\"solidity\":0.2}},\"type\":\"barpolar\"}],\"carpet\":[{\"aaxis\":{\"endlinecolor\":\"#2a3f5f\",\"gridcolor\":\"white\",\"linecolor\":\"white\",\"minorgridcolor\":\"white\",\"startlinecolor\":\"#2a3f5f\"},\"baxis\":{\"endlinecolor\":\"#2a3f5f\",\"gridcolor\":\"white\",\"linecolor\":\"white\",\"minorgridcolor\":\"white\",\"startlinecolor\":\"#2a3f5f\"},\"type\":\"carpet\"}],\"choropleth\":[{\"colorbar\":{\"outlinewidth\":0,\"ticks\":\"\"},\"type\":\"choropleth\"}],\"contour\":[{\"colorbar\":{\"outlinewidth\":0,\"ticks\":\"\"},\"colorscale\":[[0.0,\"#0d0887\"],[0.1111111111111111,\"#46039f\"],[0.2222222222222222,\"#7201a8\"],[0.3333333333333333,\"#9c179e\"],[0.4444444444444444,\"#bd3786\"],[0.5555555555555556,\"#d8576b\"],[0.6666666666666666,\"#ed7953\"],[0.7777777777777778,\"#fb9f3a\"],[0.8888888888888888,\"#fdca26\"],[1.0,\"#f0f921\"]],\"type\":\"contour\"}],\"contourcarpet\":[{\"colorbar\":{\"outlinewidth\":0,\"ticks\":\"\"},\"type\":\"contourcarpet\"}],\"heatmap\":[{\"colorbar\":{\"outlinewidth\":0,\"ticks\":\"\"},\"colorscale\":[[0.0,\"#0d0887\"],[0.1111111111111111,\"#46039f\"],[0.2222222222222222,\"#7201a8\"],[0.3333333333333333,\"#9c179e\"],[0.4444444444444444,\"#bd3786\"],[0.5555555555555556,\"#d8576b\"],[0.6666666666666666,\"#ed7953\"],[0.7777777777777778,\"#fb9f3a\"],[0.8888888888888888,\"#fdca26\"],[1.0,\"#f0f921\"]],\"type\":\"heatmap\"}],\"heatmapgl\":[{\"colorbar\":{\"outlinewidth\":0,\"ticks\":\"\"},\"colorscale\":[[0.0,\"#0d0887\"],[0.1111111111111111,\"#46039f\"],[0.2222222222222222,\"#7201a8\"],[0.3333333333333333,\"#9c179e\"],[0.4444444444444444,\"#bd3786\"],[0.5555555555555556,\"#d8576b\"],[0.6666666666666666,\"#ed7953\"],[0.7777777777777778,\"#fb9f3a\"],[0.8888888888888888,\"#fdca26\"],[1.0,\"#f0f921\"]],\"type\":\"heatmapgl\"}],\"histogram\":[{\"marker\":{\"pattern\":{\"fillmode\":\"overlay\",\"size\":10,\"solidity\":0.2}},\"type\":\"histogram\"}],\"histogram2d\":[{\"colorbar\":{\"outlinewidth\":0,\"ticks\":\"\"},\"colorscale\":[[0.0,\"#0d0887\"],[0.1111111111111111,\"#46039f\"],[0.2222222222222222,\"#7201a8\"],[0.3333333333333333,\"#9c179e\"],[0.4444444444444444,\"#bd3786\"],[0.5555555555555556,\"#d8576b\"],[0.6666666666666666,\"#ed7953\"],[0.7777777777777778,\"#fb9f3a\"],[0.8888888888888888,\"#fdca26\"],[1.0,\"#f0f921\"]],\"type\":\"histogram2d\"}],\"histogram2dcontour\":[{\"colorbar\":{\"outlinewidth\":0,\"ticks\":\"\"},\"colorscale\":[[0.0,\"#0d0887\"],[0.1111111111111111,\"#46039f\"],[0.2222222222222222,\"#7201a8\"],[0.3333333333333333,\"#9c179e\"],[0.4444444444444444,\"#bd3786\"],[0.5555555555555556,\"#d8576b\"],[0.6666666666666666,\"#ed7953\"],[0.7777777777777778,\"#fb9f3a\"],[0.8888888888888888,\"#fdca26\"],[1.0,\"#f0f921\"]],\"type\":\"histogram2dcontour\"}],\"mesh3d\":[{\"colorbar\":{\"outlinewidth\":0,\"ticks\":\"\"},\"type\":\"mesh3d\"}],\"parcoords\":[{\"line\":{\"colorbar\":{\"outlinewidth\":0,\"ticks\":\"\"}},\"type\":\"parcoords\"}],\"pie\":[{\"automargin\":true,\"type\":\"pie\"}],\"scatter\":[{\"marker\":{\"colorbar\":{\"outlinewidth\":0,\"ticks\":\"\"}},\"type\":\"scatter\"}],\"scatter3d\":[{\"line\":{\"colorbar\":{\"outlinewidth\":0,\"ticks\":\"\"}},\"marker\":{\"colorbar\":{\"outlinewidth\":0,\"ticks\":\"\"}},\"type\":\"scatter3d\"}],\"scattercarpet\":[{\"marker\":{\"colorbar\":{\"outlinewidth\":0,\"ticks\":\"\"}},\"type\":\"scattercarpet\"}],\"scattergeo\":[{\"marker\":{\"colorbar\":{\"outlinewidth\":0,\"ticks\":\"\"}},\"type\":\"scattergeo\"}],\"scattergl\":[{\"marker\":{\"colorbar\":{\"outlinewidth\":0,\"ticks\":\"\"}},\"type\":\"scattergl\"}],\"scattermapbox\":[{\"marker\":{\"colorbar\":{\"outlinewidth\":0,\"ticks\":\"\"}},\"type\":\"scattermapbox\"}],\"scatterpolar\":[{\"marker\":{\"colorbar\":{\"outlinewidth\":0,\"ticks\":\"\"}},\"type\":\"scatterpolar\"}],\"scatterpolargl\":[{\"marker\":{\"colorbar\":{\"outlinewidth\":0,\"ticks\":\"\"}},\"type\":\"scatterpolargl\"}],\"scatterternary\":[{\"marker\":{\"colorbar\":{\"outlinewidth\":0,\"ticks\":\"\"}},\"type\":\"scatterternary\"}],\"surface\":[{\"colorbar\":{\"outlinewidth\":0,\"ticks\":\"\"},\"colorscale\":[[0.0,\"#0d0887\"],[0.1111111111111111,\"#46039f\"],[0.2222222222222222,\"#7201a8\"],[0.3333333333333333,\"#9c179e\"],[0.4444444444444444,\"#bd3786\"],[0.5555555555555556,\"#d8576b\"],[0.6666666666666666,\"#ed7953\"],[0.7777777777777778,\"#fb9f3a\"],[0.8888888888888888,\"#fdca26\"],[1.0,\"#f0f921\"]],\"type\":\"surface\"}],\"table\":[{\"cells\":{\"fill\":{\"color\":\"#EBF0F8\"},\"line\":{\"color\":\"white\"}},\"header\":{\"fill\":{\"color\":\"#C8D4E3\"},\"line\":{\"color\":\"white\"}},\"type\":\"table\"}]},\"layout\":{\"annotationdefaults\":{\"arrowcolor\":\"#2a3f5f\",\"arrowhead\":0,\"arrowwidth\":1},\"autotypenumbers\":\"strict\",\"coloraxis\":{\"colorbar\":{\"outlinewidth\":0,\"ticks\":\"\"}},\"colorscale\":{\"diverging\":[[0,\"#8e0152\"],[0.1,\"#c51b7d\"],[0.2,\"#de77ae\"],[0.3,\"#f1b6da\"],[0.4,\"#fde0ef\"],[0.5,\"#f7f7f7\"],[0.6,\"#e6f5d0\"],[0.7,\"#b8e186\"],[0.8,\"#7fbc41\"],[0.9,\"#4d9221\"],[1,\"#276419\"]],\"sequential\":[[0.0,\"#0d0887\"],[0.1111111111111111,\"#46039f\"],[0.2222222222222222,\"#7201a8\"],[0.3333333333333333,\"#9c179e\"],[0.4444444444444444,\"#bd3786\"],[0.5555555555555556,\"#d8576b\"],[0.6666666666666666,\"#ed7953\"],[0.7777777777777778,\"#fb9f3a\"],[0.8888888888888888,\"#fdca26\"],[1.0,\"#f0f921\"]],\"sequentialminus\":[[0.0,\"#0d0887\"],[0.1111111111111111,\"#46039f\"],[0.2222222222222222,\"#7201a8\"],[0.3333333333333333,\"#9c179e\"],[0.4444444444444444,\"#bd3786\"],[0.5555555555555556,\"#d8576b\"],[0.6666666666666666,\"#ed7953\"],[0.7777777777777778,\"#fb9f3a\"],[0.8888888888888888,\"#fdca26\"],[1.0,\"#f0f921\"]]},\"colorway\":[\"#636efa\",\"#EF553B\",\"#00cc96\",\"#ab63fa\",\"#FFA15A\",\"#19d3f3\",\"#FF6692\",\"#B6E880\",\"#FF97FF\",\"#FECB52\"],\"font\":{\"color\":\"#2a3f5f\"},\"geo\":{\"bgcolor\":\"white\",\"lakecolor\":\"white\",\"landcolor\":\"#E5ECF6\",\"showlakes\":true,\"showland\":true,\"subunitcolor\":\"white\"},\"hoverlabel\":{\"align\":\"left\"},\"hovermode\":\"closest\",\"mapbox\":{\"style\":\"light\"},\"paper_bgcolor\":\"white\",\"plot_bgcolor\":\"#E5ECF6\",\"polar\":{\"angularaxis\":{\"gridcolor\":\"white\",\"linecolor\":\"white\",\"ticks\":\"\"},\"bgcolor\":\"#E5ECF6\",\"radialaxis\":{\"gridcolor\":\"white\",\"linecolor\":\"white\",\"ticks\":\"\"}},\"scene\":{\"xaxis\":{\"backgroundcolor\":\"#E5ECF6\",\"gridcolor\":\"white\",\"gridwidth\":2,\"linecolor\":\"white\",\"showbackground\":true,\"ticks\":\"\",\"zerolinecolor\":\"white\"},\"yaxis\":{\"backgroundcolor\":\"#E5ECF6\",\"gridcolor\":\"white\",\"gridwidth\":2,\"linecolor\":\"white\",\"showbackground\":true,\"ticks\":\"\",\"zerolinecolor\":\"white\"},\"zaxis\":{\"backgroundcolor\":\"#E5ECF6\",\"gridcolor\":\"white\",\"gridwidth\":2,\"linecolor\":\"white\",\"showbackground\":true,\"ticks\":\"\",\"zerolinecolor\":\"white\"}},\"shapedefaults\":{\"line\":{\"color\":\"#2a3f5f\"}},\"ternary\":{\"aaxis\":{\"gridcolor\":\"white\",\"linecolor\":\"white\",\"ticks\":\"\"},\"baxis\":{\"gridcolor\":\"white\",\"linecolor\":\"white\",\"ticks\":\"\"},\"bgcolor\":\"#E5ECF6\",\"caxis\":{\"gridcolor\":\"white\",\"linecolor\":\"white\",\"ticks\":\"\"}},\"title\":{\"x\":0.05},\"xaxis\":{\"automargin\":true,\"gridcolor\":\"white\",\"linecolor\":\"white\",\"ticks\":\"\",\"title\":{\"standoff\":15},\"zerolinecolor\":\"white\",\"zerolinewidth\":2},\"yaxis\":{\"automargin\":true,\"gridcolor\":\"white\",\"linecolor\":\"white\",\"ticks\":\"\",\"title\":{\"standoff\":15},\"zerolinecolor\":\"white\",\"zerolinewidth\":2}}},\"xaxis\":{\"anchor\":\"y\",\"domain\":[0.0,1.0],\"title\":{\"text\":\"<b>TPM of Aneuploid Partner</b>\",\"font\":{\"family\":\"Arial\",\"color\":\"black\",\"size\":30}},\"tickfont\":{\"family\":\"Arial Black\"},\"range\":[0,4000],\"nticks\":10,\"showline\":true,\"linewidth\":2,\"linecolor\":\"black\",\"automargin\":true,\"ticks\":\"outside\",\"tickwidth\":2,\"tickcolor\":\"black\"},\"yaxis\":{\"anchor\":\"x\",\"domain\":[0.0,1.0],\"title\":{\"text\":\"<b>TPM of Aneuploid Partner</b>\",\"font\":{\"color\":\"black\",\"family\":\"Arial\",\"size\":30}},\"tickfont\":{\"family\":\"Arial Black\"},\"range\":[0,4000],\"nticks\":10,\"showline\":true,\"linewidth\":2,\"linecolor\":\"black\",\"automargin\":true,\"ticks\":\"outside\",\"tickwidth\":2,\"tickcolor\":\"black\"},\"legend\":{\"tracegroupgap\":0},\"margin\":{\"t\":60},\"height\":1000,\"width\":1800,\"title\":{\"text\":\"<b>TPMs Correlation of Aneuploid to Non-Aneuploid Interaction Partners in All Protein-Protein Interactions</b>\",\"font\":{\"family\":\"Arial\",\"size\":34}},\"font\":{\"family\":\"Arial\",\"size\":29,\"color\":\"black\"},\"plot_bgcolor\":\"rgba(0,0,0,0)\"},                        {\"responsive\": true}                    ).then(function(){\n",
              "                            \n",
              "var gd = document.getElementById('0bddbd43-9787-4139-9595-6101167a6571');\n",
              "var x = new MutationObserver(function (mutations, observer) {{\n",
              "        var display = window.getComputedStyle(gd).display;\n",
              "        if (!display || display === 'none') {{\n",
              "            console.log([gd, 'removed!']);\n",
              "            Plotly.purge(gd);\n",
              "            observer.disconnect();\n",
              "        }}\n",
              "}});\n",
              "\n",
              "// Listen for the removal of the full notebook cells\n",
              "var notebookContainer = gd.closest('#notebook-container');\n",
              "if (notebookContainer) {{\n",
              "    x.observe(notebookContainer, {childList: true});\n",
              "}}\n",
              "\n",
              "// Listen for the clearing of the current output cell\n",
              "var outputEl = gd.closest('.output');\n",
              "if (outputEl) {{\n",
              "    x.observe(outputEl, {childList: true});\n",
              "}}\n",
              "\n",
              "                        })                };                            </script>        </div>\n",
              "</body>\n",
              "</html>"
            ]
          },
          "metadata": {},
          "output_type": "display_data"
        }
      ],
      "source": [
        "import numpy as np\n",
        "import plotly.express as px\n",
        "import plotly.graph_objects as go\n",
        "from sklearn.linear_model import LinearRegression\n",
        "\n",
        "y= np.array(gene_1_tpm)\n",
        "X = np.array(gene_2_tpm)\n",
        "df=pd.DataFrame()\n",
        "df['Transcript per million_x'] = X\n",
        "df['Transcript per million_y'] = y\n",
        "\n",
        "# y=np.array(complex_tpm_2)\n",
        "# X = np.array(complex_tpm_1)\n",
        "model = LinearRegression()\n",
        "model.fit(X.reshape(-1, 1), y)\n",
        "\n",
        "x_range = np.linspace(0, X.max(), 100)\n",
        "y_range = model.predict(x_range.reshape(-1, 1))\n",
        "fig = px.scatter(tpm_cnv_to_cnv, x='gene_1_tpm', y='gene_2_tpm', height=1000, width=1800, trendline=\"ols\")\n",
        "# fig.add_traces(go.Scatter(x=x_range, y=y_range))\n",
        "fig.update_traces(marker=dict(color='black'))\n",
        "fig.update_layout(\n",
        "    title=\"<b>TPMs Correlation of Aneuploid to Non-Aneuploid Interaction Partners in All Protein-Protein Interactions</b>\",\n",
        "    plot_bgcolor='rgba(0,0,0,0)',\n",
        "    title_font_family=\"Arial\",\n",
        "    title_font_size=34,\n",
        "    font=dict(\n",
        "        family=\"Arial\",\n",
        "        size=29,\n",
        "        color=\"black\"\n",
        "    ))\n",
        "fig.update_xaxes(range=[0,4000],\n",
        "                 title=\"<b>TPM of Aneuploid Partner</b>\",\n",
        "                nticks=10,\n",
        "                 title_font_family=\"Arial\",\n",
        "                 title_font_color=\"black\",\n",
        "                 title_font_size=30,\n",
        "                 tickfont_family=\"Arial Black\",\n",
        "                 showline=True, linewidth=2, linecolor='black', \n",
        "                 automargin=True,\n",
        "                #  title_standoff = 10,\n",
        "                 ticks=\"outside\", tickwidth=2, tickcolor='black')\n",
        "# fig.add_annotation(x=3000, y=2000000,\n",
        "#                    textangle=-6,\n",
        "#                    yshift=5,\n",
        "#             text=\"Spearman Rank Correlation = 0.06, pvalue>0.05 n.s.\",\n",
        "#             showarrow=True,\n",
        "#             arrowhead=1)\n",
        "fig.update_yaxes(range=[0,4000],\n",
        "    # range=[0,np.max(df['Transcript per million_x'])],\n",
        "                  title=\"<b>TPM of Aneuploid Partner</b>\",\n",
        "                 title_font_color=\"black\",\n",
        "                  nticks=10,\n",
        "                 title_font_family=\"Arial\",\n",
        "                 title_font_size=30,\n",
        "                 showline=True, linewidth=2, linecolor='black', \n",
        "                 automargin=True,\n",
        "                #  title_standoff = 10,\n",
        "                 ticks=\"outside\", tickwidth=2, tickcolor='black',\n",
        "                 tickfont_family=\"Arial Black\")\n",
        "fig.show()"
      ]
    },
    {
      "cell_type": "markdown",
      "metadata": {
        "id": "-yQvveEeJI6-"
      },
      "source": [
        "#16h_1"
      ]
    },
    {
      "cell_type": "code",
      "execution_count": null,
      "metadata": {
        "id": "WD9yGmiRikVk"
      },
      "outputs": [],
      "source": [
        "all_6_interactions = all_interactions[(all_interactions['chrom_num_4'] == 6) | (all_interactions['chrom_num_5'] == 6)]"
      ]
    },
    {
      "cell_type": "code",
      "execution_count": null,
      "metadata": {
        "id": "4Y7wJHZveIUx"
      },
      "outputs": [],
      "source": [
        "all_3_interactions = all_interactions[(all_interactions['chrom_num_4'] == 3) | (all_interactions['chrom_num_5'] == 3)]"
      ]
    },
    {
      "cell_type": "code",
      "execution_count": null,
      "metadata": {
        "id": "CGCWxT39H_P7"
      },
      "outputs": [],
      "source": [
        "all_13_interactions = all_interactions[(all_interactions['chrom_num_4'] == 13) | (all_interactions['chrom_num_5'] == 13)]"
      ]
    },
    {
      "cell_type": "code",
      "execution_count": null,
      "metadata": {
        "id": "MX-FIvDUt5X_"
      },
      "outputs": [],
      "source": [
        "all_8_interactions = all_interactions[(all_interactions['chrom_num_4'] == 8) | (all_interactions['chrom_num_5'] == 8)]"
      ]
    },
    {
      "cell_type": "code",
      "execution_count": null,
      "metadata": {
        "id": "3d4HXLerJpHw"
      },
      "outputs": [],
      "source": [
        "all_14_interactions = all_interactions[(all_interactions['chrom_num_4'] == 14) | (all_interactions['chrom_num_5'] == 14)]"
      ]
    },
    {
      "cell_type": "code",
      "execution_count": null,
      "metadata": {
        "id": "j_ERVHK_AqNZ"
      },
      "outputs": [],
      "source": [
        "all_16_interactions = all_interactions[(all_interactions['chrom_num_4'] == 16) | (all_interactions['chrom_num_5'] == 16)]"
      ]
    },
    {
      "cell_type": "code",
      "execution_count": null,
      "metadata": {
        "id": "QWxUiRZf-wDA"
      },
      "outputs": [],
      "source": [
        "all_9_interactions = all_interactions[(all_interactions['chrom_num_4'] == 9) | (all_interactions['chrom_num_5'] == 9)]"
      ]
    },
    {
      "cell_type": "code",
      "execution_count": null,
      "metadata": {
        "id": "1cnpsoCJirT_"
      },
      "outputs": [],
      "source": [
        "all_6_interactions=all_6_interactions.reset_index(inplace=False, drop=True)"
      ]
    },
    {
      "cell_type": "code",
      "execution_count": null,
      "metadata": {
        "id": "r3hQvp1tuFTa"
      },
      "outputs": [],
      "source": [
        "all_8_interactions=all_8_interactions.reset_index(inplace=False, drop=True)"
      ]
    },
    {
      "cell_type": "code",
      "execution_count": null,
      "metadata": {
        "id": "qj0VqUmNeVnM"
      },
      "outputs": [],
      "source": [
        "all_3_interactions=all_3_interactions.reset_index(inplace=False, drop=True)"
      ]
    },
    {
      "cell_type": "code",
      "execution_count": null,
      "metadata": {
        "id": "D-QBlqHSIOFW"
      },
      "outputs": [],
      "source": [
        "all_13_interactions=all_13_interactions.reset_index(inplace=False, drop=True)"
      ]
    },
    {
      "cell_type": "code",
      "execution_count": null,
      "metadata": {
        "id": "tcqa9NgKJ1fm"
      },
      "outputs": [],
      "source": [
        "all_14_interactions=all_14_interactions.reset_index(inplace=False, drop=True)"
      ]
    },
    {
      "cell_type": "code",
      "execution_count": null,
      "metadata": {
        "id": "p8lwbfTBs3G8"
      },
      "outputs": [],
      "source": [
        "all_16_interactions=all_16_interactions.reset_index(inplace=False, drop=True)"
      ]
    },
    {
      "cell_type": "code",
      "execution_count": null,
      "metadata": {
        "id": "Wr6E2oCs-36h"
      },
      "outputs": [],
      "source": [
        "all_9_interactions=all_9_interactions.reset_index(inplace=False, drop=True)"
      ]
    },
    {
      "cell_type": "code",
      "execution_count": null,
      "metadata": {
        "id": "tcIJqNAHivnI"
      },
      "outputs": [],
      "source": [
        "all_6_no_dupes = all_6_interactions.drop_duplicates()\n",
        "all_6_no_dupes = all_6_no_dupes.reset_index(inplace=False, drop=True)"
      ]
    },
    {
      "cell_type": "code",
      "execution_count": null,
      "metadata": {
        "id": "19SnW1cmedo5"
      },
      "outputs": [],
      "source": [
        "all_3_no_dupes = all_3_interactions.drop_duplicates()\n",
        "all_3_no_dupes = all_3_no_dupes.reset_index(inplace=False, drop=True)"
      ]
    },
    {
      "cell_type": "code",
      "execution_count": null,
      "metadata": {
        "id": "Rx9X7Yx9IXEi"
      },
      "outputs": [],
      "source": [
        "all_13_no_dupes = all_13_interactions.drop_duplicates()\n",
        "all_13_no_dupes = all_13_no_dupes.reset_index(inplace=False, drop=True)"
      ]
    },
    {
      "cell_type": "code",
      "execution_count": null,
      "metadata": {
        "id": "CX6phTmDyfZR"
      },
      "outputs": [],
      "source": [
        "all_16_no_dupes = all_16_interactions.drop_duplicates()\n",
        "all_16_no_dupes = all_16_no_dupes.reset_index(inplace=False, drop=True)"
      ]
    },
    {
      "cell_type": "code",
      "execution_count": null,
      "metadata": {
        "id": "il2nyZVpuTrl"
      },
      "outputs": [],
      "source": [
        "all_8_no_dupes = all_8_interactions.drop_duplicates()\n",
        "all_8_no_dupes = all_8_no_dupes.reset_index(inplace=False, drop=True)"
      ]
    },
    {
      "cell_type": "code",
      "execution_count": null,
      "metadata": {
        "id": "tzaKyVyJKGXi"
      },
      "outputs": [],
      "source": [
        "all_14_no_dupes = all_14_interactions.drop_duplicates()\n",
        "all_14_no_dupes = all_14_no_dupes.reset_index(inplace=False, drop=True)"
      ]
    },
    {
      "cell_type": "code",
      "execution_count": null,
      "metadata": {
        "id": "tAVQgl----bB"
      },
      "outputs": [],
      "source": [
        "all_9_no_dupes = all_9_interactions.drop_duplicates()\n",
        "all_9_no_dupes = all_9_no_dupes.reset_index(inplace=False, drop=True)"
      ]
    },
    {
      "cell_type": "code",
      "execution_count": null,
      "metadata": {
        "id": "E7L5SmoijBIZ"
      },
      "outputs": [],
      "source": [
        "all_6_interaction_network = nx.Graph()\n",
        "for i in range(0,len(all_6_no_dupes)):\n",
        "  all_6_interaction_network.add_edge(all_6_no_dupes[0][i], all_6_no_dupes[1][i])"
      ]
    },
    {
      "cell_type": "code",
      "execution_count": null,
      "metadata": {
        "id": "F8tTHh6VezL9"
      },
      "outputs": [],
      "source": [
        "all_3_interaction_network = nx.Graph()\n",
        "for i in range(0,len(all_3_no_dupes)):\n",
        "  all_3_interaction_network.add_edge(all_3_no_dupes[0][i], all_3_no_dupes[1][i])"
      ]
    },
    {
      "cell_type": "code",
      "execution_count": null,
      "metadata": {
        "id": "Vd9FeknsIiKi"
      },
      "outputs": [],
      "source": [
        "all_13_interaction_network = nx.Graph()\n",
        "for i in range(0,len(all_13_no_dupes)):\n",
        "  all_13_interaction_network.add_edge(all_13_no_dupes[0][i], all_13_no_dupes[1][i])"
      ]
    },
    {
      "cell_type": "code",
      "execution_count": null,
      "metadata": {
        "id": "7y_-iPp_o9zV"
      },
      "outputs": [],
      "source": [
        "all_16_interaction_network = nx.Graph()\n",
        "for i in range(0,len(all_16_no_dupes)):\n",
        "  all_16_interaction_network.add_edge(all_16_no_dupes[0][i], all_16_no_dupes[1][i])"
      ]
    },
    {
      "cell_type": "code",
      "execution_count": null,
      "metadata": {
        "id": "SnN-UAgEudXa"
      },
      "outputs": [],
      "source": [
        "all_8_interaction_network = nx.Graph()\n",
        "for i in range(0,len(all_8_no_dupes)):\n",
        "  all_8_interaction_network.add_edge(all_8_no_dupes[0][i], all_8_no_dupes[1][i])"
      ]
    },
    {
      "cell_type": "code",
      "execution_count": null,
      "metadata": {
        "id": "WrxWHX3iolu0"
      },
      "outputs": [],
      "source": [
        "all_9_interaction_network = nx.Graph()\n",
        "for i in range(0,len(all_9_no_dupes)):\n",
        "  all_9_interaction_network.add_edge(all_9_no_dupes[0][i], all_9_no_dupes[1][i])\n",
        "  "
      ]
    },
    {
      "cell_type": "code",
      "execution_count": null,
      "metadata": {
        "id": "iSWxjv0uKKof"
      },
      "outputs": [],
      "source": [
        "all_14_interaction_network = nx.Graph()\n",
        "for i in range(0,len(all_14_no_dupes)):\n",
        "  all_14_interaction_network.add_edge(all_14_no_dupes[0][i], all_14_no_dupes[1][i])"
      ]
    },
    {
      "cell_type": "code",
      "execution_count": null,
      "metadata": {
        "id": "BxHAdWGBjLSG"
      },
      "outputs": [],
      "source": [
        "all_6_adjacency_list = pd.DataFrame(all_6_interaction_network.edges(), columns=[0,1])"
      ]
    },
    {
      "cell_type": "code",
      "execution_count": null,
      "metadata": {
        "id": "3NvyM8wde7Kc"
      },
      "outputs": [],
      "source": [
        "all_3_adjacency_list = pd.DataFrame(all_3_interaction_network.edges(), columns=[0,1])"
      ]
    },
    {
      "cell_type": "code",
      "execution_count": null,
      "metadata": {
        "id": "Dkh2WxyYoc81"
      },
      "outputs": [],
      "source": [
        "all_9_adjacency_list = pd.DataFrame(all_9_interaction_network.edges(), columns=[0,1])"
      ]
    },
    {
      "cell_type": "code",
      "execution_count": null,
      "metadata": {
        "id": "eFcpG1_6IsEx"
      },
      "outputs": [],
      "source": [
        "all_13_adjacency_list = pd.DataFrame(all_13_interaction_network.edges(), columns=[0,1])"
      ]
    },
    {
      "cell_type": "code",
      "execution_count": null,
      "metadata": {
        "id": "y6OlPBb3uoUK"
      },
      "outputs": [],
      "source": [
        "all_8_adjacency_list = pd.DataFrame(all_8_interaction_network.edges(), columns=[0,1])"
      ]
    },
    {
      "cell_type": "code",
      "execution_count": null,
      "metadata": {
        "id": "AdqjUUtNrjM0"
      },
      "outputs": [],
      "source": [
        "all_16_adjacency_list = pd.DataFrame(all_16_interaction_network.edges(), columns=[0,1])"
      ]
    },
    {
      "cell_type": "code",
      "execution_count": null,
      "metadata": {
        "id": "pJh9f4eoKRGN"
      },
      "outputs": [],
      "source": [
        "all_14_adjacency_list = pd.DataFrame(all_14_interaction_network.edges(), columns=[0,1])"
      ]
    },
    {
      "cell_type": "code",
      "execution_count": null,
      "metadata": {
        "colab": {
          "base_uri": "https://localhost:8080/"
        },
        "id": "FlAG08tejQm5",
        "outputId": "b5373428-1f7f-4968-943d-0f963cb3d5e8"
      },
      "outputs": [
        {
          "data": {
            "text/plain": [
              "119"
            ]
          },
          "execution_count": 37,
          "metadata": {},
          "output_type": "execute_result"
        }
      ],
      "source": [
        "c6_genes_list=[]\n",
        "for i in range(len(all_6_adjacency_list)):\n",
        "  if((all_6_adjacency_list[0][i].startswith('YF')) and (all_6_adjacency_list[0][i] not in c6_genes_list)):\n",
        "    c6_genes_list.append(all_6_adjacency_list[0][i])\n",
        "  if((all_6_adjacency_list[1][i].startswith('YF')) and (all_6_adjacency_list[1][i] not in c6_genes_list)):\n",
        "    c6_genes_list.append(all_6_adjacency_list[1][i])\n",
        "len(c6_genes_list)"
      ]
    },
    {
      "cell_type": "code",
      "execution_count": null,
      "metadata": {
        "colab": {
          "base_uri": "https://localhost:8080/"
        },
        "id": "alszC-OfF952",
        "outputId": "573958e3-de5e-4585-c883-2b634fbaba98"
      },
      "outputs": [
        {
          "data": {
            "text/plain": [
              "0      YFR004W\n",
              "1      YFL002C\n",
              "2      YFR028C\n",
              "3      YFL039C\n",
              "4      YFR014C\n",
              "5      YFR034C\n",
              "6    YFR031C-A\n",
              "7      YFL037W\n",
              "8      YFR001W\n",
              "9    YFR024C-A\n",
              "Name: Gene Name, dtype: object"
            ]
          },
          "execution_count": 45,
          "metadata": {},
          "output_type": "execute_result"
        }
      ],
      "source": [
        "interaction_list_length=[]\n",
        "for gene in c6_genes_list:\n",
        "  interaction_list_length.append(len(list(all_interaction_network.neighbors(gene))))\n",
        "interaction_list_length_all_6_genes = pd.DataFrame()\n",
        "interaction_list_length_all_6_genes['Gene Name'] = c6_genes_list\n",
        "interaction_list_length_all_6_genes['Number of Ints'] = interaction_list_length\n",
        "interaction_list_length_all_6_genes = interaction_list_length_all_6_genes.sort_values(by=['Number of Ints'], ascending=False).reset_index(drop=True)\n",
        "hub_genes_list = interaction_list_length_all_6_genes['Gene Name'][:10]\n",
        "hub_genes_list"
      ]
    },
    {
      "cell_type": "code",
      "execution_count": null,
      "metadata": {
        "colab": {
          "base_uri": "https://localhost:8080/"
        },
        "id": "OlHMMP_EUACg",
        "outputId": "f1bf7cce-478d-40f3-f5fc-cf89862ff1f5"
      },
      "outputs": [
        {
          "data": {
            "text/plain": [
              "608"
            ]
          },
          "execution_count": 64,
          "metadata": {},
          "output_type": "execute_result"
        }
      ],
      "source": [
        "interaction_list_length=[]\n",
        "for gene in c6_genes_list:\n",
        "  interaction_list_length.append(len(list(all_interaction_network.neighbors(gene))))\n",
        "interaction_list_length_all_6_genes = pd.DataFrame()\n",
        "interaction_list_length_all_6_genes['Gene Name'] = c6_genes_list\n",
        "interaction_list_length_all_6_genes['Number of Ints'] = interaction_list_length\n",
        "interaction_list_length_all_6_genes = interaction_list_length_all_6_genes.sort_values(by=['Number of Ints'], ascending=False).reset_index(drop=True)\n",
        "hub_gene = interaction_list_length_all_6_genes['Gene Name'][0]\n",
        "noncnv_partners_of_6_hub_gene=[]\n",
        "noncnv_partners_counter=0\n",
        "for partner in list(all_interaction_network.neighbors(hub_gene)):\n",
        "  if partner not in cnv_genes_list:\n",
        "    noncnv_partners_of_6_hub_gene.append(partner)\n",
        "    noncnv_partners_counter+=1\n",
        "noncnv_partners_counter"
      ]
    },
    {
      "cell_type": "code",
      "execution_count": null,
      "metadata": {
        "colab": {
          "base_uri": "https://localhost:8080/"
        },
        "id": "xLBjr4kLfDyK",
        "outputId": "15cdd024-ea6d-4e88-84d0-1272d75d0c53"
      },
      "outputs": [
        {
          "data": {
            "text/plain": [
              "155"
            ]
          },
          "execution_count": 38,
          "metadata": {},
          "output_type": "execute_result"
        }
      ],
      "source": [
        "c3_genes_list=[]\n",
        "for i in range(len(all_3_adjacency_list)):\n",
        "  if((all_3_adjacency_list[0][i].startswith('YC')) and (all_3_adjacency_list[0][i] not in c3_genes_list)):\n",
        "    c3_genes_list.append(all_3_adjacency_list[0][i])\n",
        "  if((all_3_adjacency_list[1][i].startswith('YC')) and (all_3_adjacency_list[1][i] not in c3_genes_list)):\n",
        "    c3_genes_list.append(all_3_adjacency_list[1][i])\n",
        "len(c3_genes_list)"
      ]
    },
    {
      "cell_type": "code",
      "execution_count": null,
      "metadata": {
        "colab": {
          "base_uri": "https://localhost:8080/"
        },
        "id": "48BppsYRt9xP",
        "outputId": "602f4e12-d78c-4807-b1a7-2c83f10af12c"
      },
      "outputs": [
        {
          "data": {
            "text/plain": [
              "0      YCL037C\n",
              "1      YCR031C\n",
              "2      YCL059C\n",
              "3      YCR077C\n",
              "4    YCR024C-A\n",
              "5      YCR057C\n",
              "6      YCL010C\n",
              "7      YCR012W\n",
              "8      YCR035C\n",
              "9      YCL043C\n",
              "Name: Gene Name, dtype: object"
            ]
          },
          "execution_count": 43,
          "metadata": {},
          "output_type": "execute_result"
        }
      ],
      "source": [
        "interaction_list_length=[]\n",
        "for gene in c3_genes_list:\n",
        "  interaction_list_length.append(len(list(all_interaction_network.neighbors(gene))))\n",
        "interaction_list_length_all_3_genes = pd.DataFrame()\n",
        "interaction_list_length_all_3_genes['Gene Name'] = c3_genes_list\n",
        "interaction_list_length_all_3_genes['Number of Ints'] = interaction_list_length\n",
        "interaction_list_length_all_3_genes = interaction_list_length_all_3_genes.sort_values(by=['Number of Ints'], ascending=False).reset_index(drop=True)\n",
        "hub_genes_list = interaction_list_length_all_3_genes['Gene Name'][:10]\n",
        "hub_genes_list"
      ]
    },
    {
      "cell_type": "code",
      "execution_count": null,
      "metadata": {
        "colab": {
          "base_uri": "https://localhost:8080/"
        },
        "id": "LZiOHpJvTU7p",
        "outputId": "0ed68abb-708c-44bf-b628-51f2679300ac"
      },
      "outputs": [
        {
          "data": {
            "text/plain": [
              "698"
            ]
          },
          "execution_count": 56,
          "metadata": {},
          "output_type": "execute_result"
        }
      ],
      "source": [
        "interaction_list_length=[]\n",
        "for gene in c3_genes_list:\n",
        "  interaction_list_length.append(len(list(all_interaction_network.neighbors(gene))))\n",
        "interaction_list_length_all_3_genes = pd.DataFrame()\n",
        "interaction_list_length_all_3_genes['Gene Name'] = c3_genes_list\n",
        "interaction_list_length_all_3_genes['Number of Ints'] = interaction_list_length\n",
        "interaction_list_length_all_3_genes = interaction_list_length_all_3_genes.sort_values(by=['Number of Ints'], ascending=False).reset_index(drop=True)\n",
        "hub_gene = interaction_list_length_all_3_genes['Gene Name'][0]\n",
        "noncnv_partners_of_3_hub_gene=[]\n",
        "noncnv_partners_counter=0\n",
        "for partner in list(all_interaction_network.neighbors(hub_gene)):\n",
        "  if partner not in cnv_genes_list:\n",
        "    noncnv_partners_of_3_hub_gene.append(partner)\n",
        "    noncnv_partners_counter+=1\n",
        "noncnv_partners_counter"
      ]
    },
    {
      "cell_type": "code",
      "execution_count": null,
      "metadata": {
        "colab": {
          "base_uri": "https://localhost:8080/"
        },
        "id": "khu-TQ-NGg35",
        "outputId": "0845310d-5f4c-4c02-885d-73ca557c63e8"
      },
      "outputs": [
        {
          "data": {
            "text/plain": [
              "0     YMR186W\n",
              "1     YMR080C\n",
              "2     YMR116C\n",
              "3     YML024W\n",
              "4     YMR128W\n",
              "5     YML065W\n",
              "6     YMR076C\n",
              "7     YMR290C\n",
              "8     YMR229C\n",
              "9     YMR179W\n",
              "10    YML093W\n",
              "11    YML010W\n",
              "12    YML092C\n",
              "13    YMR049C\n",
              "14    YMR308C\n",
              "15    YML064C\n",
              "16    YML085C\n",
              "17    YMR242C\n",
              "18    YMR001C\n",
              "19    YMR047C\n",
              "20    YMR304W\n",
              "21    YMR012W\n",
              "22    YMR309C\n",
              "23    YMR236W\n",
              "24    YMR219W\n",
              "Name: Gene Name, dtype: object"
            ]
          },
          "execution_count": 48,
          "metadata": {},
          "output_type": "execute_result"
        }
      ],
      "source": [
        "interaction_list_length=[]\n",
        "for gene in c13_genes_list:\n",
        "  interaction_list_length.append(len(list(all_interaction_network.neighbors(gene))))\n",
        "interaction_list_length_all_13_genes = pd.DataFrame()\n",
        "interaction_list_length_all_13_genes['Gene Name'] = c13_genes_list\n",
        "interaction_list_length_all_13_genes['Number of Ints'] = interaction_list_length\n",
        "interaction_list_length_all_13_genes = interaction_list_length_all_13_genes.sort_values(by=['Number of Ints'], ascending=False).reset_index(drop=True)\n",
        "hub_genes_list = interaction_list_length_all_13_genes['Gene Name'][:25]\n",
        "hub_genes_list"
      ]
    },
    {
      "cell_type": "code",
      "execution_count": null,
      "metadata": {
        "id": "MrEuCQEVTHp4"
      },
      "outputs": [],
      "source": [
        "interaction_list_length=[]\n",
        "for gene in c13_genes_list:\n",
        "  interaction_list_length.append(len(list(all_interaction_network.neighbors(gene))))\n",
        "interaction_list_length_all_13_genes = pd.DataFrame()\n",
        "interaction_list_length_all_13_genes['Gene Name'] = c13_genes_list\n",
        "interaction_list_length_all_13_genes['Number of Ints'] = interaction_list_length\n",
        "interaction_list_length_all_13_genes = interaction_list_length_all_13_genes.sort_values(by=['Number of Ints'], ascending=False).reset_index(drop=True)\n",
        "hub_gene = interaction_list_length_all_13_genes['Gene Name'][0]\n",
        "noncnv_partners_of_13_hub_gene=[]\n",
        "noncnv_partners_counter=0\n",
        "for partner in list(all_interaction_network.neighbors(hub_gene)):\n",
        "  if partner not in cnv_genes_list:\n",
        "    noncnv_partners_of_13_hub_gene.append(partner)\n",
        "    noncnv_partners_counter+=1\n",
        "noncnv_partners_counter"
      ]
    },
    {
      "cell_type": "code",
      "execution_count": null,
      "metadata": {
        "colab": {
          "base_uri": "https://localhost:8080/"
        },
        "id": "lLRS4TWlI0Ct",
        "outputId": "d3f975a4-7e09-461d-e620-332a851bbfa7"
      },
      "outputs": [
        {
          "data": {
            "text/plain": [
              "440"
            ]
          },
          "execution_count": 46,
          "metadata": {},
          "output_type": "execute_result"
        }
      ],
      "source": [
        "c13_genes_list=[]\n",
        "for i in range(len(all_13_adjacency_list)):\n",
        "  if((all_13_adjacency_list[0][i].startswith('YM')) and (all_13_adjacency_list[0][i] not in c13_genes_list)):\n",
        "    c13_genes_list.append(all_13_adjacency_list[0][i])\n",
        "  if((all_13_adjacency_list[1][i].startswith('YM')) and (all_13_adjacency_list[1][i] not in c13_genes_list)):\n",
        "    c13_genes_list.append(all_13_adjacency_list[1][i])\n",
        "len(c13_genes_list)"
      ]
    },
    {
      "cell_type": "code",
      "execution_count": null,
      "metadata": {
        "colab": {
          "base_uri": "https://localhost:8080/"
        },
        "id": "L_lxerwSQaVF",
        "outputId": "4fc5280f-e57f-4716-9d7c-3729c35f59e4"
      },
      "outputs": [
        {
          "data": {
            "text/plain": [
              "462"
            ]
          },
          "execution_count": 48,
          "metadata": {},
          "output_type": "execute_result"
        }
      ],
      "source": [
        "interaction_list_length=[]\n",
        "for gene in c13_genes_list:\n",
        "  interaction_list_length.append(len(list(all_interaction_network.neighbors(gene))))\n",
        "interaction_list_length_all_13_genes = pd.DataFrame()\n",
        "interaction_list_length_all_13_genes['Gene Name'] = c13_genes_list\n",
        "interaction_list_length_all_13_genes['Number of Ints'] = interaction_list_length\n",
        "interaction_list_length_all_13_genes = interaction_list_length_all_13_genes.sort_values(by=['Number of Ints'], ascending=False).reset_index(drop=True)\n",
        "hub_gene = interaction_list_length_all_13_genes['Gene Name'][0]\n",
        "noncnv_partners_of_13_hub_gene=[]\n",
        "noncnv_partners_counter=0\n",
        "for partner in list(all_interaction_network.neighbors(hub_gene)):\n",
        "  if partner not in cnv_genes_list:\n",
        "    noncnv_partners_of_13_hub_gene.append(partner)\n",
        "    noncnv_partners_counter+=1\n",
        "noncnv_partners_counter"
      ]
    },
    {
      "cell_type": "code",
      "execution_count": null,
      "metadata": {
        "colab": {
          "base_uri": "https://localhost:8080/"
        },
        "id": "N1aMN6Er6h9t",
        "outputId": "fa147ed4-91b4-407a-d87a-893f35dc5eea"
      },
      "outputs": [
        {
          "data": {
            "text/plain": [
              "426"
            ]
          },
          "execution_count": 49,
          "metadata": {},
          "output_type": "execute_result"
        }
      ],
      "source": [
        "c16_genes_list=[]\n",
        "for i in range(len(all_16_adjacency_list)):\n",
        "  if((all_16_adjacency_list[0][i].startswith('YP')) and (all_16_adjacency_list[0][i] not in c16_genes_list)):\n",
        "    c16_genes_list.append(all_16_adjacency_list[0][i])\n",
        "  if((all_16_adjacency_list[1][i].startswith('YP')) and (all_16_adjacency_list[1][i] not in c16_genes_list)):\n",
        "    c16_genes_list.append(all_16_adjacency_list[1][i])\n",
        "len(c16_genes_list)"
      ]
    },
    {
      "cell_type": "code",
      "execution_count": null,
      "metadata": {
        "colab": {
          "base_uri": "https://localhost:8080/"
        },
        "id": "Vbz68f94iimd",
        "outputId": "658d9bb6-7216-4d90-bb6e-76de6c36c2fa"
      },
      "outputs": [
        {
          "data": {
            "text/plain": [
              "0     YPR042C\n",
              "1     YPL240C\n",
              "2     YPL090C\n",
              "3     YPL081W\n",
              "4     YPR190C\n",
              "5     YPL031C\n",
              "6     YPL235W\n",
              "7     YPR144C\n",
              "8     YPL204W\n",
              "9     YPL146C\n",
              "10    YPR152C\n",
              "11    YPL020C\n",
              "12    YPR080W\n",
              "13    YPL093W\n",
              "14    YPR010C\n",
              "15    YPL178W\n",
              "16    YPR088C\n",
              "17    YPL106C\n",
              "18    YPL131W\n",
              "19    YPR110C\n",
              "20    YPR016C\n",
              "21    YPL153C\n",
              "22    YPL004C\n",
              "23    YPL012W\n",
              "24    YPL043W\n",
              "Name: Gene Name, dtype: object"
            ]
          },
          "execution_count": 51,
          "metadata": {},
          "output_type": "execute_result"
        }
      ],
      "source": [
        "interaction_list_length=[]\n",
        "for gene in c16_genes_list:\n",
        "  interaction_list_length.append(len(list(all_interaction_network.neighbors(gene))))\n",
        "interaction_list_length_all_16_genes = pd.DataFrame()\n",
        "interaction_list_length_all_16_genes['Gene Name'] = c16_genes_list\n",
        "interaction_list_length_all_16_genes['Number of Ints'] = interaction_list_length\n",
        "interaction_list_length_all_16_genes = interaction_list_length_all_16_genes.sort_values(by=['Number of Ints'], ascending=False).reset_index(drop=True)\n",
        "hub_genes_list = interaction_list_length_all_16_genes['Gene Name'][:25]\n",
        "hub_genes_list\n",
        "# interaction_list_length_all_16_genes"
      ]
    },
    {
      "cell_type": "code",
      "execution_count": null,
      "metadata": {
        "id": "AYoM6JMlLK3Y"
      },
      "outputs": [],
      "source": [
        "interaction_list_length=[]\n",
        "for gene in c16_genes_list:\n",
        "  interaction_list_length.append(len(list(all_interaction_network.neighbors(gene))))\n",
        "interaction_list_length_all_16_genes = pd.DataFrame()\n",
        "interaction_list_length_all_16_genes['Gene Name'] = c16_genes_list\n",
        "interaction_list_length_all_16_genes['Number of Ints'] = interaction_list_length\n",
        "interaction_list_length_all_16_genes = interaction_list_length_all_16_genes.sort_values(by=['Number of Ints'], ascending=False).reset_index(drop=True)\n",
        "hub_gene = interaction_list_length_all_16_genes['Gene Name'][0]\n",
        "noncnv_partners_of_16_hub_gene=[]\n",
        "noncnv_partners_counter=0\n",
        "for partner in list(all_interaction_network.neighbors(hub_gene)):\n",
        "  if partner not in cnv_genes_list:\n",
        "    noncnv_partners_of_16_hub_gene.append(partner)\n",
        "    noncnv_partners_counter+=1\n",
        "noncnv_partners_counter    "
      ]
    },
    {
      "cell_type": "code",
      "execution_count": null,
      "metadata": {
        "colab": {
          "base_uri": "https://localhost:8080/"
        },
        "id": "Zz7fxrZPu77o",
        "outputId": "fc1ab3c7-7de8-4973-e734-b6e8cf15ded2"
      },
      "outputs": [
        {
          "data": {
            "text/plain": [
              "264"
            ]
          },
          "execution_count": 352,
          "metadata": {},
          "output_type": "execute_result"
        }
      ],
      "source": [
        "c8_genes_list=[]\n",
        "for i in range(len(all_8_adjacency_list)):\n",
        "  if((all_8_adjacency_list[0][i].startswith('YH')) and (all_8_adjacency_list[0][i] not in c8_genes_list)):\n",
        "    c8_genes_list.append(all_8_adjacency_list[0][i])\n",
        "  if((all_8_adjacency_list[1][i].startswith('YH')) and (all_8_adjacency_list[1][i] not in c8_genes_list)):\n",
        "    c8_genes_list.append(all_8_adjacency_list[1][i])\n",
        "len(c8_genes_list)"
      ]
    },
    {
      "cell_type": "code",
      "execution_count": null,
      "metadata": {
        "colab": {
          "base_uri": "https://localhost:8080/"
        },
        "id": "2BbFVz78KjOZ",
        "outputId": "acad5f73-6a0f-4659-fe9d-e41c64a22b70"
      },
      "outputs": [
        {
          "data": {
            "text/plain": [
              "383"
            ]
          },
          "execution_count": 235,
          "metadata": {},
          "output_type": "execute_result"
        }
      ],
      "source": [
        "c14_genes_list=[]\n",
        "for i in range(len(all_14_adjacency_list)):\n",
        "  if((all_14_adjacency_list[0][i].startswith('YN')) and (all_14_adjacency_list[0][i] not in c14_genes_list)):\n",
        "    c14_genes_list.append(all_14_adjacency_list[0][i])\n",
        "  if((all_14_adjacency_list[1][i].startswith('YN')) and (all_14_adjacency_list[1][i] not in c14_genes_list)):\n",
        "    c14_genes_list.append(all_14_adjacency_list[1][i])\n",
        "len(c14_genes_list)"
      ]
    },
    {
      "cell_type": "code",
      "execution_count": null,
      "metadata": {
        "colab": {
          "base_uri": "https://localhost:8080/"
        },
        "id": "k8mk7B6VpxYr",
        "outputId": "f2ef1a5a-a9a4-4c7b-c4a9-112d8d6fa8e1"
      },
      "outputs": [
        {
          "data": {
            "text/plain": [
              "205"
            ]
          },
          "execution_count": 301,
          "metadata": {},
          "output_type": "execute_result"
        }
      ],
      "source": [
        "c9_genes_list=[]\n",
        "for i in range(len(all_9_adjacency_list)):\n",
        "  if((all_9_adjacency_list[0][i].startswith('YI')) and (all_9_adjacency_list[0][i] not in c9_genes_list)):\n",
        "    c9_genes_list.append(all_9_adjacency_list[0][i])\n",
        "  if((all_9_adjacency_list[1][i].startswith('YI')) and (all_9_adjacency_list[1][i] not in c9_genes_list)):\n",
        "    c9_genes_list.append(all_9_adjacency_list[1][i])\n",
        "len(c9_genes_list)"
      ]
    },
    {
      "cell_type": "code",
      "execution_count": null,
      "metadata": {
        "colab": {
          "base_uri": "https://localhost:8080/"
        },
        "id": "1XEmiFKgUNRC",
        "outputId": "64e517b8-b805-4bca-fae3-0cf0cde73926"
      },
      "outputs": [
        {
          "data": {
            "text/plain": [
              "190"
            ]
          },
          "execution_count": 65,
          "metadata": {},
          "output_type": "execute_result"
        }
      ],
      "source": [
        "common_partners_between_16_and_6 = 0\n",
        "for partner in noncnv_partners_of_16_hub_gene:\n",
        "  if partner in noncnv_partners_of_6_hub_gene:\n",
        "    common_partners_between_16_and_6+=1\n",
        "common_partners_between_16_and_6"
      ]
    },
    {
      "cell_type": "code",
      "execution_count": null,
      "metadata": {
        "colab": {
          "base_uri": "https://localhost:8080/"
        },
        "id": "bUPkvW5TTi0f",
        "outputId": "92a84ff8-ee2d-47f0-a20b-8ed091a655f0"
      },
      "outputs": [
        {
          "data": {
            "text/plain": [
              "189"
            ]
          },
          "execution_count": 57,
          "metadata": {},
          "output_type": "execute_result"
        }
      ],
      "source": [
        "common_partners_between_16_and_3 = 0\n",
        "for partner in noncnv_partners_of_16_hub_gene:\n",
        "  if partner in noncnv_partners_of_3_hub_gene:\n",
        "    common_partners_between_16_and_3+=1\n",
        "common_partners_between_16_and_3"
      ]
    },
    {
      "cell_type": "code",
      "execution_count": null,
      "metadata": {
        "colab": {
          "base_uri": "https://localhost:8080/"
        },
        "id": "VPBgwHNz6i8Q",
        "outputId": "dcd85770-027a-43df-d22d-d2e7c236f7d7"
      },
      "outputs": [
        {
          "data": {
            "text/plain": [
              "122"
            ]
          },
          "execution_count": 43,
          "metadata": {},
          "output_type": "execute_result"
        }
      ],
      "source": [
        "common_partners_between_16_and_13 = 0\n",
        "for partner in noncnv_partners_of_16_hub_gene:\n",
        "  if partner in noncnv_partners_of_13_hub_gene:\n",
        "    common_partners_between_16_and_13+=1\n",
        "common_partners_between_16_and_13"
      ]
    },
    {
      "cell_type": "code",
      "execution_count": null,
      "metadata": {
        "id": "B1PHwirbvQYp"
      },
      "outputs": [],
      "source": [
        "cnv_to_cnv=0\n",
        "propotions_c8_cnv_to_cnv = []\n",
        "cnv_8_check_list=[]\n",
        "for i in range(len(all_8_adjacency_list)):\n",
        "  if ((all_8_adjacency_list[0][i] in cnv_16h_5_genes_list) and (all_8_adjacency_list[1][i] in cnv_16h_5_genes_list)):\n",
        "    cnv_to_cnv+=1\n",
        "    if(all_8_adjacency_list[0][i].startswith('YH')):\n",
        "      if(all_8_adjacency_list[0][i] not in propotions_c8_cnv_to_cnv):\n",
        "        propotions_c8_cnv_to_cnv.append(all_8_adjacency_list[0][i])\n",
        "      cnv_8_check_list.append(all_8_adjacency_list[0][i])\n",
        "    if(all_8_adjacency_list[1][i].startswith('YH')):\n",
        "      if(all_8_adjacency_list[1][i] not in propotions_c8_cnv_to_cnv):\n",
        "        propotions_c8_cnv_to_cnv.append(all_8_adjacency_list[1][i])\n",
        "      cnv_8_check_list.append(all_8_adjacency_list[1][i])\n",
        "\n",
        "propotions_c8_cnv_to_cnv = list(set(propotions_c8_cnv_to_cnv))\n",
        "prop_8_1 = len(propotions_c8_cnv_to_cnv)*100/len(c8_genes_list)\n",
        "(len(propotions_c8_cnv_to_cnv), prop_8_1)\n",
        "cnv_with_significance_16h_5.at['Prop C-C', 'c8'] = prop_8_1\n",
        "cnv_with_significance_16h_5.at['Count C-C', 'c8'] = len(propotions_c8_cnv_to_cnv)"
      ]
    },
    {
      "cell_type": "code",
      "execution_count": null,
      "metadata": {
        "id": "kMqCe16bqIoR"
      },
      "outputs": [],
      "source": [
        "cnv_to_cnv=0\n",
        "propotions_c9_cnv_to_cnv = []\n",
        "cnv_9_check_list=[]\n",
        "for i in range(len(all_9_adjacency_list)):\n",
        "  if ((all_9_adjacency_list[0][i] in cnv_16h_3_genes_list) and (all_9_adjacency_list[1][i] in cnv_16h_3_genes_list)):\n",
        "    cnv_to_cnv+=1\n",
        "    if(all_9_adjacency_list[0][i].startswith('YI')):\n",
        "      if(all_9_adjacency_list[0][i] not in propotions_c9_cnv_to_cnv):\n",
        "        propotions_c9_cnv_to_cnv.append(all_9_adjacency_list[0][i])\n",
        "      cnv_9_check_list.append(all_9_adjacency_list[0][i])\n",
        "    if(all_9_adjacency_list[1][i].startswith('YI')):\n",
        "      if(all_9_adjacency_list[1][i] not in propotions_c9_cnv_to_cnv):\n",
        "        propotions_c9_cnv_to_cnv.append(all_9_adjacency_list[1][i])\n",
        "      cnv_9_check_list.append(all_9_adjacency_list[1][i])\n",
        "\n",
        "propotions_c9_cnv_to_cnv = list(set(propotions_c9_cnv_to_cnv))\n",
        "prop_9_1 = len(propotions_c9_cnv_to_cnv)*100/len(c9_genes_list)\n",
        "(len(propotions_c9_cnv_to_cnv), prop_9_1)\n",
        "cnv_with_significance_16h_3.at['Prop C-C', 'c9'] = prop_9_1\n",
        "cnv_with_significance_16h_3.at['Count C-C', 'c9'] = len(propotions_c9_cnv_to_cnv)"
      ]
    },
    {
      "cell_type": "code",
      "execution_count": null,
      "metadata": {
        "id": "ElPTtZLIxavs"
      },
      "outputs": [],
      "source": [
        "cnv_to_cnv=0\n",
        "propotions_c6_cnv_to_cnv = []\n",
        "cnv_6_check_list=[]\n",
        "for i in range(len(all_6_adjacency_list)):\n",
        "  if ((all_6_adjacency_list[0][i] in cnv_16h_8_genes_list) and (all_6_adjacency_list[1][i] in cnv_16h_8_genes_list)):\n",
        "    cnv_to_cnv+=1\n",
        "    if(all_6_adjacency_list[0][i].startswith('YF')):\n",
        "      if(all_6_adjacency_list[0][i] not in propotions_c6_cnv_to_cnv):\n",
        "        propotions_c6_cnv_to_cnv.append(all_6_adjacency_list[0][i])\n",
        "      cnv_6_check_list.append(all_6_adjacency_list[0][i])\n",
        "    if(all_6_adjacency_list[1][i].startswith('YF')):\n",
        "      if(all_6_adjacency_list[1][i] not in propotions_c6_cnv_to_cnv):\n",
        "        propotions_c6_cnv_to_cnv.append(all_6_adjacency_list[1][i])\n",
        "      cnv_6_check_list.append(all_6_adjacency_list[1][i])\n",
        "\n",
        "propotions_c6_cnv_to_cnv = list(set(propotions_c6_cnv_to_cnv))\n",
        "prop_6_1 = len(propotions_c6_cnv_to_cnv)*100/len(c6_genes_list)\n",
        "(len(propotions_c6_cnv_to_cnv), prop_6_1)\n",
        "cnv_with_significance_16h_8.at['Prop C-C', 'c6'] = prop_6_1\n",
        "cnv_with_significance_16h_8.at['Count C-C', 'c6'] = len(propotions_c6_cnv_to_cnv)"
      ]
    },
    {
      "cell_type": "code",
      "execution_count": null,
      "metadata": {
        "id": "VWRRGZuYvyM2"
      },
      "outputs": [],
      "source": [
        "cnv_to_cnv=0\n",
        "propotions_c6_cnv_to_cnv = []\n",
        "cnv_6_check_list=[]\n",
        "for i in range(len(all_6_adjacency_list)):\n",
        "  if ((all_6_adjacency_list[0][i] in cnv_16h_7_genes_list) and (all_6_adjacency_list[1][i] in cnv_16h_7_genes_list)):\n",
        "    cnv_to_cnv+=1\n",
        "    if(all_6_adjacency_list[0][i].startswith('YF')):\n",
        "      if(all_6_adjacency_list[0][i] not in propotions_c6_cnv_to_cnv):\n",
        "        propotions_c6_cnv_to_cnv.append(all_6_adjacency_list[0][i])\n",
        "      cnv_6_check_list.append(all_6_adjacency_list[0][i])\n",
        "    if(all_6_adjacency_list[1][i].startswith('YF')):\n",
        "      if(all_6_adjacency_list[1][i] not in propotions_c6_cnv_to_cnv):\n",
        "        propotions_c6_cnv_to_cnv.append(all_6_adjacency_list[1][i])\n",
        "      cnv_6_check_list.append(all_6_adjacency_list[1][i])\n",
        "\n",
        "propotions_c6_cnv_to_cnv = list(set(propotions_c6_cnv_to_cnv))\n",
        "prop_6_1 = len(propotions_c6_cnv_to_cnv)*100/len(c6_genes_list)\n",
        "(len(propotions_c6_cnv_to_cnv), prop_6_1)\n",
        "cnv_with_significance_16h_7.at['Prop C-C', 'c6'] = prop_6_1\n",
        "cnv_with_significance_16h_7.at['Count C-C', 'c6'] = len(propotions_c6_cnv_to_cnv)"
      ]
    },
    {
      "cell_type": "code",
      "execution_count": null,
      "metadata": {
        "id": "7az93Kv4DMAz"
      },
      "outputs": [],
      "source": [
        "cnv_to_cnv=0\n",
        "propotions_c6_cnv_to_cnv = []\n",
        "cnv_6_check_list=[]\n",
        "for i in range(len(all_6_adjacency_list)):\n",
        "  if ((all_6_adjacency_list[0][i] in cnv_16h_6_genes_list) and (all_6_adjacency_list[1][i] in cnv_16h_6_genes_list)):\n",
        "    cnv_to_cnv+=1\n",
        "    if(all_6_adjacency_list[0][i].startswith('YF')):\n",
        "      if(all_6_adjacency_list[0][i] not in propotions_c6_cnv_to_cnv):\n",
        "        propotions_c6_cnv_to_cnv.append(all_6_adjacency_list[0][i])\n",
        "      cnv_6_check_list.append(all_6_adjacency_list[0][i])\n",
        "    if(all_6_adjacency_list[1][i].startswith('YF')):\n",
        "      if(all_6_adjacency_list[1][i] not in propotions_c6_cnv_to_cnv):\n",
        "        propotions_c6_cnv_to_cnv.append(all_6_adjacency_list[1][i])\n",
        "      cnv_6_check_list.append(all_6_adjacency_list[1][i])\n",
        "\n",
        "propotions_c6_cnv_to_cnv = list(set(propotions_c6_cnv_to_cnv))\n",
        "prop_6_1 = len(propotions_c6_cnv_to_cnv)*100/len(c6_genes_list)\n",
        "(len(propotions_c6_cnv_to_cnv), prop_6_1)\n",
        "cnv_with_significance_16h_6.at['Prop C-C', 'c6'] = prop_6_1\n",
        "cnv_with_significance_16h_6.at['Count C-C', 'c6'] = len(propotions_c6_cnv_to_cnv)"
      ]
    },
    {
      "cell_type": "code",
      "execution_count": null,
      "metadata": {
        "id": "jY6nlyQ5vtjP"
      },
      "outputs": [],
      "source": [
        "cnv_to_cnv=0\n",
        "propotions_c6_cnv_to_cnv = []\n",
        "cnv_6_check_list=[]\n",
        "for i in range(len(all_6_adjacency_list)):\n",
        "  if ((all_6_adjacency_list[0][i] in cnv_16h_5_genes_list) and (all_6_adjacency_list[1][i] in cnv_16h_5_genes_list)):\n",
        "    cnv_to_cnv+=1\n",
        "    if(all_6_adjacency_list[0][i].startswith('YF')):\n",
        "      if(all_6_adjacency_list[0][i] not in propotions_c6_cnv_to_cnv):\n",
        "        propotions_c6_cnv_to_cnv.append(all_6_adjacency_list[0][i])\n",
        "      cnv_6_check_list.append(all_6_adjacency_list[0][i])\n",
        "    if(all_6_adjacency_list[1][i].startswith('YF')):\n",
        "      if(all_6_adjacency_list[1][i] not in propotions_c6_cnv_to_cnv):\n",
        "        propotions_c6_cnv_to_cnv.append(all_6_adjacency_list[1][i])\n",
        "      cnv_6_check_list.append(all_6_adjacency_list[1][i])\n",
        "\n",
        "propotions_c6_cnv_to_cnv = list(set(propotions_c6_cnv_to_cnv))\n",
        "prop_6_1 = len(propotions_c6_cnv_to_cnv)*100/len(c6_genes_list)\n",
        "(len(propotions_c6_cnv_to_cnv), prop_6_1)\n",
        "cnv_with_significance_16h_5.at['Prop C-C', 'c6'] = prop_6_1\n",
        "cnv_with_significance_16h_5.at['Count C-C', 'c6'] = len(propotions_c6_cnv_to_cnv)"
      ]
    },
    {
      "cell_type": "code",
      "execution_count": null,
      "metadata": {
        "id": "Y4pPxMr56lgs"
      },
      "outputs": [],
      "source": [
        "cnv_to_cnv=0\n",
        "propotions_c6_cnv_to_cnv = []\n",
        "cnv_6_check_list=[]\n",
        "for i in range(len(all_6_adjacency_list)):\n",
        "  if ((all_6_adjacency_list[0][i] in cnv_16h_4_genes_list) and (all_6_adjacency_list[1][i] in cnv_16h_4_genes_list)):\n",
        "    cnv_to_cnv+=1\n",
        "    if(all_6_adjacency_list[0][i].startswith('YF')):\n",
        "      if(all_6_adjacency_list[0][i] not in propotions_c6_cnv_to_cnv):\n",
        "        propotions_c6_cnv_to_cnv.append(all_6_adjacency_list[0][i])\n",
        "      cnv_6_check_list.append(all_6_adjacency_list[0][i])\n",
        "    if(all_6_adjacency_list[1][i].startswith('YF')):\n",
        "      if(all_6_adjacency_list[1][i] not in propotions_c6_cnv_to_cnv):\n",
        "        propotions_c6_cnv_to_cnv.append(all_6_adjacency_list[1][i])\n",
        "      cnv_6_check_list.append(all_6_adjacency_list[1][i])\n",
        "\n",
        "propotions_c6_cnv_to_cnv = list(set(propotions_c6_cnv_to_cnv))\n",
        "prop_6_1 = len(propotions_c6_cnv_to_cnv)*100/len(c6_genes_list)\n",
        "(len(propotions_c6_cnv_to_cnv), prop_6_1)\n",
        "cnv_with_significance_16h_4.at['Prop C-C', 'c6'] = prop_6_1\n",
        "cnv_with_significance_16h_4.at['Count C-C', 'c6'] = len(propotions_c6_cnv_to_cnv)"
      ]
    },
    {
      "cell_type": "code",
      "execution_count": null,
      "metadata": {
        "id": "60eza105sIMG"
      },
      "outputs": [],
      "source": [
        "cnv_to_cnv=0\n",
        "propotions_c6_cnv_to_cnv = []\n",
        "cnv_6_check_list=[]\n",
        "for i in range(len(all_6_adjacency_list)):\n",
        "  if ((all_6_adjacency_list[0][i] in cnv_16h_3_genes_list) and (all_6_adjacency_list[1][i] in cnv_16h_3_genes_list)):\n",
        "    cnv_to_cnv+=1\n",
        "    if(all_6_adjacency_list[0][i].startswith('YF')):\n",
        "      if(all_6_adjacency_list[0][i] not in propotions_c6_cnv_to_cnv):\n",
        "        propotions_c6_cnv_to_cnv.append(all_6_adjacency_list[0][i])\n",
        "      cnv_6_check_list.append(all_6_adjacency_list[0][i])\n",
        "    if(all_6_adjacency_list[1][i].startswith('YF')):\n",
        "      if(all_6_adjacency_list[1][i] not in propotions_c6_cnv_to_cnv):\n",
        "        propotions_c6_cnv_to_cnv.append(all_6_adjacency_list[1][i])\n",
        "      cnv_6_check_list.append(all_6_adjacency_list[1][i])\n",
        "\n",
        "propotions_c6_cnv_to_cnv = list(set(propotions_c6_cnv_to_cnv))\n",
        "prop_6_1 = len(propotions_c6_cnv_to_cnv)*100/len(c6_genes_list)\n",
        "(len(propotions_c6_cnv_to_cnv), prop_6_1)\n",
        "cnv_with_significance_16h_3.at['Prop C-C', 'c6'] = prop_6_1\n",
        "cnv_with_significance_16h_3.at['Count C-C', 'c6'] = len(propotions_c6_cnv_to_cnv)"
      ]
    },
    {
      "cell_type": "code",
      "execution_count": null,
      "metadata": {
        "id": "xgOWffPa8VCj"
      },
      "outputs": [],
      "source": [
        "cnv_to_cnv=0\n",
        "propotions_c6_cnv_to_cnv = []\n",
        "cnv_6_check_list=[]\n",
        "for i in range(len(all_6_adjacency_list)):\n",
        "  if ((all_6_adjacency_list[0][i] in cnv_16h_2_genes_list) and (all_6_adjacency_list[1][i] in cnv_16h_2_genes_list)):\n",
        "    cnv_to_cnv+=1\n",
        "    if(all_6_adjacency_list[0][i].startswith('YF')):\n",
        "      if(all_6_adjacency_list[0][i] not in propotions_c6_cnv_to_cnv):\n",
        "        propotions_c6_cnv_to_cnv.append(all_6_adjacency_list[0][i])\n",
        "      cnv_6_check_list.append(all_6_adjacency_list[0][i])\n",
        "    if(all_6_adjacency_list[1][i].startswith('YF')):\n",
        "      if(all_6_adjacency_list[1][i] not in propotions_c6_cnv_to_cnv):\n",
        "        propotions_c6_cnv_to_cnv.append(all_6_adjacency_list[1][i])\n",
        "      cnv_6_check_list.append(all_6_adjacency_list[1][i])\n",
        "\n",
        "propotions_c6_cnv_to_cnv = list(set(propotions_c6_cnv_to_cnv))\n",
        "prop_6_1 = len(propotions_c6_cnv_to_cnv)*100/len(c6_genes_list)\n",
        "(len(propotions_c6_cnv_to_cnv), prop_6_1)\n",
        "cnv_with_significance_16h_2.at['Prop C-C', 'c6'] = prop_6_1\n",
        "cnv_with_significance_16h_2.at['Count C-C', 'c6'] = len(propotions_c6_cnv_to_cnv)"
      ]
    },
    {
      "cell_type": "code",
      "execution_count": null,
      "metadata": {
        "id": "1CMBQ286Hefg"
      },
      "outputs": [],
      "source": []
    },
    {
      "cell_type": "code",
      "execution_count": null,
      "metadata": {
        "id": "elAMASFuj4Yn"
      },
      "outputs": [],
      "source": [
        "cnv_to_cnv=0\n",
        "propotions_c6_cnv_to_cnv = []\n",
        "cnv_6_check_list=[]\n",
        "for i in range(len(all_6_adjacency_list)):\n",
        "  if ((all_6_adjacency_list[0][i] in cnv_genes_list) and (all_6_adjacency_list[1][i] in cnv_genes_list)):\n",
        "    cnv_to_cnv+=1\n",
        "    if(all_6_adjacency_list[0][i].startswith('YF')):\n",
        "      if(all_6_adjacency_list[0][i] not in propotions_c6_cnv_to_cnv):\n",
        "        propotions_c6_cnv_to_cnv.append(all_6_adjacency_list[0][i])\n",
        "      cnv_6_check_list.append(all_6_adjacency_list[0][i])\n",
        "    if(all_6_adjacency_list[1][i].startswith('YF')):\n",
        "      if(all_6_adjacency_list[1][i] not in propotions_c6_cnv_to_cnv):\n",
        "        propotions_c6_cnv_to_cnv.append(all_6_adjacency_list[1][i])\n",
        "      cnv_6_check_list.append(all_6_adjacency_list[1][i])\n",
        "\n",
        "propotions_c6_cnv_to_cnv = list(set(propotions_c6_cnv_to_cnv))\n",
        "prop_6_1 = len(propotions_c6_cnv_to_cnv)*100/len(c6_genes_list)\n",
        "(len(propotions_c6_cnv_to_cnv), prop_6_1)\n",
        "cnv_with_significance_16h_1.at['Prop C-C', 'c6'] = prop_6_1\n",
        "cnv_with_significance_16h_1.at['Count C-C', 'c6'] = len(propotions_c6_cnv_to_cnv)"
      ]
    },
    {
      "cell_type": "code",
      "execution_count": null,
      "metadata": {
        "id": "JCgddN1lxgRE"
      },
      "outputs": [],
      "source": [
        "cnv_to_cnv=0\n",
        "propotions_c3_cnv_to_cnv = []\n",
        "cnv_3_check_list=[]\n",
        "for i in range(len(all_3_adjacency_list)):\n",
        "  if ((all_3_adjacency_list[0][i] in cnv_16h_8_genes_list) and (all_3_adjacency_list[1][i] in cnv_16h_8_genes_list)):\n",
        "    cnv_to_cnv+=1\n",
        "    if(all_3_adjacency_list[0][i].startswith('YC')):\n",
        "      if(all_3_adjacency_list[0][i] not in propotions_c3_cnv_to_cnv):\n",
        "        propotions_c3_cnv_to_cnv.append(all_3_adjacency_list[0][i])\n",
        "      cnv_3_check_list.append(all_3_adjacency_list[0][i])\n",
        "    if(all_3_adjacency_list[1][i].startswith('YC')):\n",
        "      if(all_3_adjacency_list[1][i] not in propotions_c3_cnv_to_cnv):\n",
        "        propotions_c3_cnv_to_cnv.append(all_3_adjacency_list[1][i])\n",
        "      cnv_3_check_list.append(all_3_adjacency_list[1][i])\n",
        "\n",
        "propotions_c3_cnv_to_cnv = list(set(propotions_c3_cnv_to_cnv))\n",
        "prop_3_1 = len(propotions_c3_cnv_to_cnv)*100/len(c3_genes_list)\n",
        "(len(propotions_c3_cnv_to_cnv), prop_3_1)\n",
        "cnv_with_significance_16h_8.at['Prop C-C', 'c3'] = prop_3_1\n",
        "cnv_with_significance_16h_8.at['Count C-C', 'c3'] = len(propotions_c3_cnv_to_cnv)"
      ]
    },
    {
      "cell_type": "code",
      "execution_count": null,
      "metadata": {
        "id": "tKAsZ2KDv6yl"
      },
      "outputs": [],
      "source": [
        "cnv_to_cnv=0\n",
        "propotions_c3_cnv_to_cnv = []\n",
        "cnv_3_check_list=[]\n",
        "for i in range(len(all_3_adjacency_list)):\n",
        "  if ((all_3_adjacency_list[0][i] in cnv_16h_7_genes_list) and (all_3_adjacency_list[1][i] in cnv_16h_7_genes_list)):\n",
        "    cnv_to_cnv+=1\n",
        "    if(all_3_adjacency_list[0][i].startswith('YC')):\n",
        "      if(all_3_adjacency_list[0][i] not in propotions_c3_cnv_to_cnv):\n",
        "        propotions_c3_cnv_to_cnv.append(all_3_adjacency_list[0][i])\n",
        "      cnv_3_check_list.append(all_3_adjacency_list[0][i])\n",
        "    if(all_3_adjacency_list[1][i].startswith('YC')):\n",
        "      if(all_3_adjacency_list[1][i] not in propotions_c3_cnv_to_cnv):\n",
        "        propotions_c3_cnv_to_cnv.append(all_3_adjacency_list[1][i])\n",
        "      cnv_3_check_list.append(all_3_adjacency_list[1][i])\n",
        "\n",
        "propotions_c3_cnv_to_cnv = list(set(propotions_c3_cnv_to_cnv))\n",
        "prop_3_1 = len(propotions_c3_cnv_to_cnv)*100/len(c3_genes_list)\n",
        "(len(propotions_c3_cnv_to_cnv), prop_3_1)\n",
        "cnv_with_significance_16h_7.at['Prop C-C', 'c3'] = prop_3_1\n",
        "cnv_with_significance_16h_7.at['Count C-C', 'c3'] = len(propotions_c3_cnv_to_cnv)"
      ]
    },
    {
      "cell_type": "code",
      "execution_count": null,
      "metadata": {
        "id": "WdRFKBhCD0ml"
      },
      "outputs": [],
      "source": [
        "cnv_to_cnv=0\n",
        "propotions_c3_cnv_to_cnv = []\n",
        "cnv_3_check_list=[]\n",
        "for i in range(len(all_3_adjacency_list)):\n",
        "  if ((all_3_adjacency_list[0][i] in cnv_16h_6_genes_list) and (all_3_adjacency_list[1][i] in cnv_16h_6_genes_list)):\n",
        "    cnv_to_cnv+=1\n",
        "    if(all_3_adjacency_list[0][i].startswith('YC')):\n",
        "      if(all_3_adjacency_list[0][i] not in propotions_c3_cnv_to_cnv):\n",
        "        propotions_c3_cnv_to_cnv.append(all_3_adjacency_list[0][i])\n",
        "      cnv_3_check_list.append(all_3_adjacency_list[0][i])\n",
        "    if(all_3_adjacency_list[1][i].startswith('YC')):\n",
        "      if(all_3_adjacency_list[1][i] not in propotions_c3_cnv_to_cnv):\n",
        "        propotions_c3_cnv_to_cnv.append(all_3_adjacency_list[1][i])\n",
        "      cnv_3_check_list.append(all_3_adjacency_list[1][i])\n",
        "\n",
        "propotions_c3_cnv_to_cnv = list(set(propotions_c3_cnv_to_cnv))\n",
        "prop_3_1 = len(propotions_c3_cnv_to_cnv)*100/len(c3_genes_list)\n",
        "(len(propotions_c3_cnv_to_cnv), prop_3_1)\n",
        "cnv_with_significance_16h_6.at['Prop C-C', 'c3'] = prop_3_1\n",
        "cnv_with_significance_16h_6.at['Count C-C', 'c3'] = len(propotions_c3_cnv_to_cnv)"
      ]
    },
    {
      "cell_type": "code",
      "execution_count": null,
      "metadata": {
        "id": "arbHAz2-v2Cq"
      },
      "outputs": [],
      "source": [
        "cnv_to_cnv=0\n",
        "propotions_c3_cnv_to_cnv = []\n",
        "cnv_3_check_list=[]\n",
        "for i in range(len(all_3_adjacency_list)):\n",
        "  if ((all_3_adjacency_list[0][i] in cnv_16h_5_genes_list) and (all_3_adjacency_list[1][i] in cnv_16h_5_genes_list)):\n",
        "    cnv_to_cnv+=1\n",
        "    if(all_3_adjacency_list[0][i].startswith('YC')):\n",
        "      if(all_3_adjacency_list[0][i] not in propotions_c3_cnv_to_cnv):\n",
        "        propotions_c3_cnv_to_cnv.append(all_3_adjacency_list[0][i])\n",
        "      cnv_3_check_list.append(all_3_adjacency_list[0][i])\n",
        "    if(all_3_adjacency_list[1][i].startswith('YC')):\n",
        "      if(all_3_adjacency_list[1][i] not in propotions_c3_cnv_to_cnv):\n",
        "        propotions_c3_cnv_to_cnv.append(all_3_adjacency_list[1][i])\n",
        "      cnv_3_check_list.append(all_3_adjacency_list[1][i])\n",
        "\n",
        "propotions_c3_cnv_to_cnv = list(set(propotions_c3_cnv_to_cnv))\n",
        "prop_3_1 = len(propotions_c3_cnv_to_cnv)*100/len(c3_genes_list)\n",
        "(len(propotions_c3_cnv_to_cnv), prop_3_1)\n",
        "cnv_with_significance_16h_5.at['Prop C-C', 'c3'] = prop_3_1\n",
        "cnv_with_significance_16h_5.at['Count C-C', 'c3'] = len(propotions_c3_cnv_to_cnv)"
      ]
    },
    {
      "cell_type": "code",
      "execution_count": null,
      "metadata": {
        "id": "_H0c4lKyo7Xs"
      },
      "outputs": [],
      "source": [
        "cnv_to_cnv=0\n",
        "propotions_c3_cnv_to_cnv = []\n",
        "cnv_3_check_list=[]\n",
        "for i in range(len(all_3_adjacency_list)):\n",
        "  if ((all_3_adjacency_list[0][i] in cnv_16h_4_genes_list) and (all_3_adjacency_list[1][i] in cnv_16h_4_genes_list)):\n",
        "    cnv_to_cnv+=1\n",
        "    if(all_3_adjacency_list[0][i].startswith('YC')):\n",
        "      if(all_3_adjacency_list[0][i] not in propotions_c3_cnv_to_cnv):\n",
        "        propotions_c3_cnv_to_cnv.append(all_3_adjacency_list[0][i])\n",
        "      cnv_3_check_list.append(all_3_adjacency_list[0][i])\n",
        "    if(all_3_adjacency_list[1][i].startswith('YC')):\n",
        "      if(all_3_adjacency_list[1][i] not in propotions_c3_cnv_to_cnv):\n",
        "        propotions_c3_cnv_to_cnv.append(all_3_adjacency_list[1][i])\n",
        "      cnv_3_check_list.append(all_3_adjacency_list[1][i])\n",
        "\n",
        "propotions_c3_cnv_to_cnv = list(set(propotions_c3_cnv_to_cnv))\n",
        "prop_3_1 = len(propotions_c3_cnv_to_cnv)*100/len(c3_genes_list)\n",
        "(len(propotions_c3_cnv_to_cnv), prop_3_1)\n",
        "cnv_with_significance_16h_4.at['Prop C-C', 'c3'] = prop_3_1\n",
        "cnv_with_significance_16h_4.at['Count C-C', 'c3'] = len(propotions_c3_cnv_to_cnv)"
      ]
    },
    {
      "cell_type": "code",
      "execution_count": null,
      "metadata": {
        "id": "aqkwXCuouCUs"
      },
      "outputs": [],
      "source": [
        "cnv_to_cnv=0\n",
        "propotions_c3_cnv_to_cnv = []\n",
        "cnv_3_check_list=[]\n",
        "for i in range(len(all_3_adjacency_list)):\n",
        "  if ((all_3_adjacency_list[0][i] in cnv_16h_3_genes_list) and (all_3_adjacency_list[1][i] in cnv_16h_3_genes_list)):\n",
        "    cnv_to_cnv+=1\n",
        "    if(all_3_adjacency_list[0][i].startswith('YC')):\n",
        "      if(all_3_adjacency_list[0][i] not in propotions_c3_cnv_to_cnv):\n",
        "        propotions_c3_cnv_to_cnv.append(all_3_adjacency_list[0][i])\n",
        "      cnv_3_check_list.append(all_3_adjacency_list[0][i])\n",
        "    if(all_3_adjacency_list[1][i].startswith('YC')):\n",
        "      if(all_3_adjacency_list[1][i] not in propotions_c3_cnv_to_cnv):\n",
        "        propotions_c3_cnv_to_cnv.append(all_3_adjacency_list[1][i])\n",
        "      cnv_3_check_list.append(all_3_adjacency_list[1][i])\n",
        "\n",
        "propotions_c3_cnv_to_cnv = list(set(propotions_c3_cnv_to_cnv))\n",
        "prop_3_1 = len(propotions_c3_cnv_to_cnv)*100/len(c3_genes_list)\n",
        "(len(propotions_c3_cnv_to_cnv), prop_3_1)\n",
        "cnv_with_significance_16h_3.at['Prop C-C', 'c3'] = prop_3_1\n",
        "cnv_with_significance_16h_3.at['Count C-C', 'c3'] = len(propotions_c3_cnv_to_cnv)"
      ]
    },
    {
      "cell_type": "code",
      "execution_count": null,
      "metadata": {
        "id": "LnU1npZ48kbD"
      },
      "outputs": [],
      "source": [
        "cnv_to_cnv=0\n",
        "propotions_c3_cnv_to_cnv = []\n",
        "cnv_3_check_list=[]\n",
        "for i in range(len(all_3_adjacency_list)):\n",
        "  if ((all_3_adjacency_list[0][i] in cnv_16h_2_genes_list) and (all_3_adjacency_list[1][i] in cnv_16h_2_genes_list)):\n",
        "    cnv_to_cnv+=1\n",
        "    if(all_3_adjacency_list[0][i].startswith('YC')):\n",
        "      if(all_3_adjacency_list[0][i] not in propotions_c3_cnv_to_cnv):\n",
        "        propotions_c3_cnv_to_cnv.append(all_3_adjacency_list[0][i])\n",
        "      cnv_3_check_list.append(all_3_adjacency_list[0][i])\n",
        "    if(all_3_adjacency_list[1][i].startswith('YC')):\n",
        "      if(all_3_adjacency_list[1][i] not in propotions_c3_cnv_to_cnv):\n",
        "        propotions_c3_cnv_to_cnv.append(all_3_adjacency_list[1][i])\n",
        "      cnv_3_check_list.append(all_3_adjacency_list[1][i])\n",
        "\n",
        "propotions_c3_cnv_to_cnv = list(set(propotions_c3_cnv_to_cnv))\n",
        "prop_3_1 = len(propotions_c3_cnv_to_cnv)*100/len(c3_genes_list)\n",
        "(len(propotions_c3_cnv_to_cnv), prop_3_1)\n",
        "cnv_with_significance_16h_2.at['Prop C-C', 'c3'] = prop_3_1\n",
        "cnv_with_significance_16h_2.at['Count C-C', 'c3'] = len(propotions_c3_cnv_to_cnv)"
      ]
    },
    {
      "cell_type": "code",
      "execution_count": null,
      "metadata": {
        "id": "uxT-VlTUfdNQ"
      },
      "outputs": [],
      "source": [
        "cnv_to_cnv=0\n",
        "propotions_c3_cnv_to_cnv = []\n",
        "cnv_3_check_list=[]\n",
        "for i in range(len(all_3_adjacency_list)):\n",
        "  if ((all_3_adjacency_list[0][i] in cnv_genes_list) and (all_3_adjacency_list[1][i] in cnv_genes_list)):\n",
        "    cnv_to_cnv+=1\n",
        "    if(all_3_adjacency_list[0][i].startswith('YC')):\n",
        "      if(all_3_adjacency_list[0][i] not in propotions_c3_cnv_to_cnv):\n",
        "        propotions_c3_cnv_to_cnv.append(all_3_adjacency_list[0][i])\n",
        "      cnv_3_check_list.append(all_3_adjacency_list[0][i])\n",
        "    if(all_3_adjacency_list[1][i].startswith('YC')):\n",
        "      if(all_3_adjacency_list[1][i] not in propotions_c3_cnv_to_cnv):\n",
        "        propotions_c3_cnv_to_cnv.append(all_3_adjacency_list[1][i])\n",
        "      cnv_3_check_list.append(all_3_adjacency_list[1][i])\n",
        "\n",
        "propotions_c3_cnv_to_cnv = list(set(propotions_c3_cnv_to_cnv))\n",
        "prop_3_1 = len(propotions_c3_cnv_to_cnv)*100/len(c3_genes_list)\n",
        "(len(propotions_c3_cnv_to_cnv), prop_3_1)\n",
        "cnv_with_significance_16h_1.at['Prop C-C', 'c3'] = prop_3_1\n",
        "cnv_with_significance_16h_1.at['Count C-C', 'c3'] = len(propotions_c3_cnv_to_cnv)"
      ]
    },
    {
      "cell_type": "code",
      "execution_count": null,
      "metadata": {
        "id": "80Mxeg0sxlR2"
      },
      "outputs": [],
      "source": [
        "cnv_to_cnv=0\n",
        "propotions_c13_cnv_to_cnv = []\n",
        "cnv_13_check_list=[]\n",
        "for i in range(len(all_13_adjacency_list)):\n",
        "  if ((all_13_adjacency_list[0][i] in cnv_16h_8_genes_list) and (all_13_adjacency_list[1][i] in cnv_16h_8_genes_list)):\n",
        "    cnv_to_cnv+=1\n",
        "    if(all_13_adjacency_list[0][i].startswith('YM')):\n",
        "      if(all_13_adjacency_list[0][i] not in propotions_c13_cnv_to_cnv):\n",
        "        propotions_c13_cnv_to_cnv.append(all_13_adjacency_list[0][i])\n",
        "      cnv_13_check_list.append(all_13_adjacency_list[0][i])\n",
        "    if(all_13_adjacency_list[1][i].startswith('YM')):\n",
        "      if(all_13_adjacency_list[1][i] not in propotions_c13_cnv_to_cnv):\n",
        "        propotions_c13_cnv_to_cnv.append(all_13_adjacency_list[1][i])\n",
        "      cnv_13_check_list.append(all_13_adjacency_list[1][i])\n",
        "\n",
        "propotions_c13_cnv_to_cnv = list(set(propotions_c13_cnv_to_cnv))\n",
        "prop_13_1 = len(propotions_c13_cnv_to_cnv)*100/len(c13_genes_list)\n",
        "(len(propotions_c13_cnv_to_cnv), prop_13_1)\n",
        "cnv_with_significance_16h_8.at['Prop C-C', 'c13'] = prop_13_1\n",
        "cnv_with_significance_16h_8.at['Count C-C', 'c13'] = len(propotions_c13_cnv_to_cnv)"
      ]
    },
    {
      "cell_type": "code",
      "execution_count": null,
      "metadata": {
        "id": "b4napTSlD6G8"
      },
      "outputs": [],
      "source": [
        "cnv_to_cnv=0\n",
        "propotions_c13_cnv_to_cnv = []\n",
        "cnv_13_check_list=[]\n",
        "for i in range(len(all_13_adjacency_list)):\n",
        "  if ((all_13_adjacency_list[0][i] in cnv_16h_6_genes_list) and (all_13_adjacency_list[1][i] in cnv_16h_6_genes_list)):\n",
        "    cnv_to_cnv+=1\n",
        "    if(all_13_adjacency_list[0][i].startswith('YM')):\n",
        "      if(all_13_adjacency_list[0][i] not in propotions_c13_cnv_to_cnv):\n",
        "        propotions_c13_cnv_to_cnv.append(all_13_adjacency_list[0][i])\n",
        "      cnv_13_check_list.append(all_13_adjacency_list[0][i])\n",
        "    if(all_13_adjacency_list[1][i].startswith('YM')):\n",
        "      if(all_13_adjacency_list[1][i] not in propotions_c13_cnv_to_cnv):\n",
        "        propotions_c13_cnv_to_cnv.append(all_13_adjacency_list[1][i])\n",
        "      cnv_13_check_list.append(all_13_adjacency_list[1][i])\n",
        "\n",
        "propotions_c13_cnv_to_cnv = list(set(propotions_c13_cnv_to_cnv))\n",
        "prop_13_1 = len(propotions_c13_cnv_to_cnv)*100/len(c13_genes_list)\n",
        "(len(propotions_c13_cnv_to_cnv), prop_13_1)\n",
        "cnv_with_significance_16h_6.at['Prop C-C', 'c13'] = prop_13_1\n",
        "cnv_with_significance_16h_6.at['Count C-C', 'c13'] = len(propotions_c13_cnv_to_cnv)"
      ]
    },
    {
      "cell_type": "code",
      "execution_count": null,
      "metadata": {
        "id": "bylnnh3Rv-ZM"
      },
      "outputs": [],
      "source": [
        "cnv_to_cnv=0\n",
        "propotions_c13_cnv_to_cnv = []\n",
        "cnv_13_check_list=[]\n",
        "for i in range(len(all_13_adjacency_list)):\n",
        "  if ((all_13_adjacency_list[0][i] in cnv_16h_5_genes_list) and (all_13_adjacency_list[1][i] in cnv_16h_5_genes_list)):\n",
        "    cnv_to_cnv+=1\n",
        "    if(all_13_adjacency_list[0][i].startswith('YM')):\n",
        "      if(all_13_adjacency_list[0][i] not in propotions_c13_cnv_to_cnv):\n",
        "        propotions_c13_cnv_to_cnv.append(all_13_adjacency_list[0][i])\n",
        "      cnv_13_check_list.append(all_13_adjacency_list[0][i])\n",
        "    if(all_13_adjacency_list[1][i].startswith('YM')):\n",
        "      if(all_13_adjacency_list[1][i] not in propotions_c13_cnv_to_cnv):\n",
        "        propotions_c13_cnv_to_cnv.append(all_13_adjacency_list[1][i])\n",
        "      cnv_13_check_list.append(all_13_adjacency_list[1][i])\n",
        "\n",
        "propotions_c13_cnv_to_cnv = list(set(propotions_c13_cnv_to_cnv))\n",
        "prop_13_1 = len(propotions_c13_cnv_to_cnv)*100/len(c13_genes_list)\n",
        "(len(propotions_c13_cnv_to_cnv), prop_13_1)\n",
        "cnv_with_significance_16h_5.at['Prop C-C', 'c13'] = prop_13_1\n",
        "cnv_with_significance_16h_5.at['Count C-C', 'c13'] = len(propotions_c13_cnv_to_cnv)"
      ]
    },
    {
      "cell_type": "code",
      "execution_count": null,
      "metadata": {
        "id": "iU6pTTq2pFPy"
      },
      "outputs": [],
      "source": [
        "cnv_to_cnv=0\n",
        "propotions_c13_cnv_to_cnv = []\n",
        "cnv_13_check_list=[]\n",
        "for i in range(len(all_13_adjacency_list)):\n",
        "  if ((all_13_adjacency_list[0][i] in cnv_16h_4_genes_list) and (all_13_adjacency_list[1][i] in cnv_16h_4_genes_list)):\n",
        "    cnv_to_cnv+=1\n",
        "    if(all_13_adjacency_list[0][i].startswith('YM')):\n",
        "      if(all_13_adjacency_list[0][i] not in propotions_c13_cnv_to_cnv):\n",
        "        propotions_c13_cnv_to_cnv.append(all_13_adjacency_list[0][i])\n",
        "      cnv_13_check_list.append(all_13_adjacency_list[0][i])\n",
        "    if(all_13_adjacency_list[1][i].startswith('YM')):\n",
        "      if(all_13_adjacency_list[1][i] not in propotions_c13_cnv_to_cnv):\n",
        "        propotions_c13_cnv_to_cnv.append(all_13_adjacency_list[1][i])\n",
        "      cnv_13_check_list.append(all_13_adjacency_list[1][i])\n",
        "\n",
        "propotions_c13_cnv_to_cnv = list(set(propotions_c13_cnv_to_cnv))\n",
        "prop_13_1 = len(propotions_c13_cnv_to_cnv)*100/len(c13_genes_list)\n",
        "(len(propotions_c13_cnv_to_cnv), prop_13_1)\n",
        "cnv_with_significance_16h_4.at['Prop C-C', 'c13'] = prop_13_1\n",
        "cnv_with_significance_16h_4.at['Count C-C', 'c13'] = len(propotions_c13_cnv_to_cnv)"
      ]
    },
    {
      "cell_type": "code",
      "execution_count": null,
      "metadata": {
        "id": "gGXGjQqxuT8t"
      },
      "outputs": [],
      "source": [
        "cnv_to_cnv=0\n",
        "propotions_c13_cnv_to_cnv = []\n",
        "cnv_13_check_list=[]\n",
        "for i in range(len(all_13_adjacency_list)):\n",
        "  if ((all_13_adjacency_list[0][i] in cnv_16h_3_genes_list) and (all_13_adjacency_list[1][i] in cnv_16h_3_genes_list)):\n",
        "    cnv_to_cnv+=1\n",
        "    if(all_13_adjacency_list[0][i].startswith('YM')):\n",
        "      if(all_13_adjacency_list[0][i] not in propotions_c13_cnv_to_cnv):\n",
        "        propotions_c13_cnv_to_cnv.append(all_13_adjacency_list[0][i])\n",
        "      cnv_13_check_list.append(all_13_adjacency_list[0][i])\n",
        "    if(all_13_adjacency_list[1][i].startswith('YM')):\n",
        "      if(all_13_adjacency_list[1][i] not in propotions_c13_cnv_to_cnv):\n",
        "        propotions_c13_cnv_to_cnv.append(all_13_adjacency_list[1][i])\n",
        "      cnv_13_check_list.append(all_13_adjacency_list[1][i])\n",
        "\n",
        "propotions_c13_cnv_to_cnv = list(set(propotions_c13_cnv_to_cnv))\n",
        "prop_13_1 = len(propotions_c13_cnv_to_cnv)*100/len(c13_genes_list)\n",
        "(len(propotions_c13_cnv_to_cnv), prop_13_1)\n",
        "cnv_with_significance_16h_3.at['Prop C-C', 'c13'] = prop_13_1\n",
        "cnv_with_significance_16h_3.at['Count C-C', 'c13'] = len(propotions_c13_cnv_to_cnv)"
      ]
    },
    {
      "cell_type": "code",
      "execution_count": null,
      "metadata": {
        "id": "JlfBNuaM9KHA"
      },
      "outputs": [],
      "source": [
        "cnv_to_cnv=0\n",
        "propotions_c13_cnv_to_cnv = []\n",
        "cnv_13_check_list=[]\n",
        "for i in range(len(all_13_adjacency_list)):\n",
        "  if ((all_13_adjacency_list[0][i] in cnv_16h_2_genes_list) and (all_13_adjacency_list[1][i] in cnv_16h_2_genes_list)):\n",
        "    cnv_to_cnv+=1\n",
        "    if(all_13_adjacency_list[0][i].startswith('YM')):\n",
        "      if(all_13_adjacency_list[0][i] not in propotions_c13_cnv_to_cnv):\n",
        "        propotions_c13_cnv_to_cnv.append(all_13_adjacency_list[0][i])\n",
        "      cnv_13_check_list.append(all_13_adjacency_list[0][i])\n",
        "    if(all_13_adjacency_list[1][i].startswith('YM')):\n",
        "      if(all_13_adjacency_list[1][i] not in propotions_c13_cnv_to_cnv):\n",
        "        propotions_c13_cnv_to_cnv.append(all_13_adjacency_list[1][i])\n",
        "      cnv_13_check_list.append(all_13_adjacency_list[1][i])\n",
        "\n",
        "propotions_c13_cnv_to_cnv = list(set(propotions_c13_cnv_to_cnv))\n",
        "prop_13_1 = len(propotions_c13_cnv_to_cnv)*100/len(c13_genes_list)\n",
        "(len(propotions_c13_cnv_to_cnv), prop_13_1)\n",
        "cnv_with_significance_16h_2.at['Prop C-C', 'c13'] = prop_13_1\n",
        "cnv_with_significance_16h_2.at['Count C-C', 'c13'] = len(propotions_c13_cnv_to_cnv)"
      ]
    },
    {
      "cell_type": "code",
      "execution_count": null,
      "metadata": {
        "colab": {
          "base_uri": "https://localhost:8080/"
        },
        "id": "CDMgrQo4Xm_l",
        "outputId": "b7f5af24-c8ba-4121-9cfe-b71befea6f68"
      },
      "outputs": [
        {
          "name": "stdout",
          "output_type": "stream",
          "text": [
            "SpearmanrResult(correlation=0.22451056175901593, pvalue=4.112026100598151e-37)\n"
          ]
        }
      ],
      "source": [
        "cnv_to_cnv=0\n",
        "propotions_c13_cnv_to_cnv = []\n",
        "cnv_13_check_list=[]\n",
        "cnv_to_cnv_tpms = pd.DataFrame()\n",
        "gene_1_tpm = []\n",
        "gene_2_tpm = []\n",
        "for i in range(len(all_13_adjacency_list)):\n",
        "  if ((all_13_adjacency_list[0][i] in cnv_genes_list) and (all_13_adjacency_list[1][i] in cnv_genes_list)):\n",
        "    cnv_to_cnv+=1\n",
        "    if ((all_13_adjacency_list[0][i] in all_average_tpms.keys()) and (all_13_adjacency_list[1][i] in all_average_tpms.keys())):\n",
        "      gene_1_tpm.append(all_average_tpms[all_13_adjacency_list[0][i]])\n",
        "      gene_2_tpm.append(all_average_tpms[all_13_adjacency_list[1][i]])\n",
        "    if(all_13_adjacency_list[0][i].startswith('YM')):\n",
        "      if(all_13_adjacency_list[0][i] not in propotions_c13_cnv_to_cnv):\n",
        "        propotions_c13_cnv_to_cnv.append(all_13_adjacency_list[0][i])\n",
        "      cnv_13_check_list.append(all_13_adjacency_list[0][i])\n",
        "    if(all_13_adjacency_list[1][i].startswith('YM')):\n",
        "      if(all_13_adjacency_list[1][i] not in propotions_c13_cnv_to_cnv):\n",
        "        propotions_c13_cnv_to_cnv.append(all_13_adjacency_list[1][i])\n",
        "      cnv_13_check_list.append(all_13_adjacency_list[1][i])\n",
        "\n",
        "propotions_c13_cnv_to_cnv = list(set(propotions_c13_cnv_to_cnv))\n",
        "gene_1_tpm = list(map(int, gene_1_tpm))\n",
        "gene_2_tpm = list(map(int, gene_2_tpm))\n",
        "cnv_to_cnv_tpms['gene_1_tpm'] = gene_1_tpm\n",
        "cnv_to_cnv_tpms['gene_2_tpm'] = gene_2_tpm\n",
        "res = stats.spearmanr(cnv_to_cnv_tpms['gene_1_tpm'], cnv_to_cnv_tpms['gene_2_tpm'])\n",
        "prop_13_1 = len(propotions_c13_cnv_to_cnv)*100/len(c13_genes_list)\n",
        "cnv_with_significance_16h_1.at['Prop C-C', 'c13'] = prop_13_1\n",
        "cnv_with_significance_16h_1.at['Count C-C', 'c13'] = len(propotions_c13_cnv_to_cnv)\n",
        "print(res)"
      ]
    },
    {
      "cell_type": "code",
      "execution_count": null,
      "metadata": {
        "colab": {
          "base_uri": "https://localhost:8080/"
        },
        "id": "_N8F1BUkY3ln",
        "outputId": "cdf067a6-c43c-417e-bce6-d38bac7ccaa2"
      },
      "outputs": [
        {
          "data": {
            "text/plain": [
              "(388, 88.18181818181819)"
            ]
          },
          "execution_count": 56,
          "metadata": {},
          "output_type": "execute_result"
        }
      ],
      "source": [
        "(len(propotions_c13_cnv_to_cnv), prop_13_1)"
      ]
    },
    {
      "cell_type": "code",
      "execution_count": null,
      "metadata": {
        "id": "GYRK9SjoxqSN"
      },
      "outputs": [],
      "source": [
        "cnv_to_cnv=0\n",
        "propotions_c16_cnv_to_cnv = []\n",
        "cnv_check_list=[]\n",
        "for i in range(len(all_16_adjacency_list)):\n",
        "  if ((all_16_adjacency_list[0][i] in cnv_16h_8_genes_list) and (all_16_adjacency_list[1][i] in cnv_16h_8_genes_list)):\n",
        "    cnv_to_cnv+=1\n",
        "    if(all_16_adjacency_list[0][i].startswith('YP')):\n",
        "      if(all_16_adjacency_list[0][i] not in propotions_c16_cnv_to_cnv):\n",
        "        propotions_c16_cnv_to_cnv.append(all_16_adjacency_list[0][i])\n",
        "      cnv_check_list.append(all_16_adjacency_list[0][i])\n",
        "    if(all_16_adjacency_list[1][i].startswith('YP')):\n",
        "      if(all_16_adjacency_list[1][i] not in propotions_c16_cnv_to_cnv):\n",
        "        propotions_c16_cnv_to_cnv.append(all_16_adjacency_list[1][i])\n",
        "      cnv_check_list.append(all_16_adjacency_list[1][i])\n",
        "\n",
        "propotions_c16_cnv_to_cnv = list(set(propotions_c16_cnv_to_cnv))\n",
        "prop_1 = len(propotions_c16_cnv_to_cnv)*100/len(c16_genes_list)\n",
        "(len(propotions_c16_cnv_to_cnv), prop_1)\n",
        "cnv_with_significance_16h_8.at['Prop C-C', 'c16'] = prop_1\n",
        "cnv_with_significance_16h_8.at['Count C-C', 'c16'] = len(propotions_c16_cnv_to_cnv)"
      ]
    },
    {
      "cell_type": "code",
      "execution_count": null,
      "metadata": {
        "id": "Xxna7BhxD___"
      },
      "outputs": [],
      "source": [
        "cnv_to_cnv=0\n",
        "propotions_c16_cnv_to_cnv = []\n",
        "cnv_check_list=[]\n",
        "for i in range(len(all_16_adjacency_list)):\n",
        "  if ((all_16_adjacency_list[0][i] in cnv_16h_6_genes_list) and (all_16_adjacency_list[1][i] in cnv_16h_6_genes_list)):\n",
        "    cnv_to_cnv+=1\n",
        "    if(all_16_adjacency_list[0][i].startswith('YP')):\n",
        "      if(all_16_adjacency_list[0][i] not in propotions_c16_cnv_to_cnv):\n",
        "        propotions_c16_cnv_to_cnv.append(all_16_adjacency_list[0][i])\n",
        "      cnv_check_list.append(all_16_adjacency_list[0][i])\n",
        "    if(all_16_adjacency_list[1][i].startswith('YP')):\n",
        "      if(all_16_adjacency_list[1][i] not in propotions_c16_cnv_to_cnv):\n",
        "        propotions_c16_cnv_to_cnv.append(all_16_adjacency_list[1][i])\n",
        "      cnv_check_list.append(all_16_adjacency_list[1][i])\n",
        "\n",
        "propotions_c16_cnv_to_cnv = list(set(propotions_c16_cnv_to_cnv))\n",
        "prop_1 = len(propotions_c16_cnv_to_cnv)*100/len(c16_genes_list)\n",
        "(len(propotions_c16_cnv_to_cnv), prop_1)\n",
        "cnv_with_significance_16h_6.at['Prop C-C', 'c16'] = prop_1\n",
        "cnv_with_significance_16h_6.at['Count C-C', 'c16'] = len(propotions_c16_cnv_to_cnv)"
      ]
    },
    {
      "cell_type": "code",
      "execution_count": null,
      "metadata": {
        "id": "26Ri6wMqwFQ9"
      },
      "outputs": [],
      "source": [
        "cnv_to_cnv=0\n",
        "propotions_c16_cnv_to_cnv = []\n",
        "cnv_check_list=[]\n",
        "for i in range(len(all_16_adjacency_list)):\n",
        "  if ((all_16_adjacency_list[0][i] in cnv_16h_5_genes_list) and (all_16_adjacency_list[1][i] in cnv_16h_5_genes_list)):\n",
        "    cnv_to_cnv+=1\n",
        "    if(all_16_adjacency_list[0][i].startswith('YP')):\n",
        "      if(all_16_adjacency_list[0][i] not in propotions_c16_cnv_to_cnv):\n",
        "        propotions_c16_cnv_to_cnv.append(all_16_adjacency_list[0][i])\n",
        "      cnv_check_list.append(all_16_adjacency_list[0][i])\n",
        "    if(all_16_adjacency_list[1][i].startswith('YP')):\n",
        "      if(all_16_adjacency_list[1][i] not in propotions_c16_cnv_to_cnv):\n",
        "        propotions_c16_cnv_to_cnv.append(all_16_adjacency_list[1][i])\n",
        "      cnv_check_list.append(all_16_adjacency_list[1][i])\n",
        "\n",
        "propotions_c16_cnv_to_cnv = list(set(propotions_c16_cnv_to_cnv))\n",
        "prop_1 = len(propotions_c16_cnv_to_cnv)*100/len(c16_genes_list)\n",
        "(len(propotions_c16_cnv_to_cnv), prop_1)\n",
        "cnv_with_significance_16h_5.at['Prop C-C', 'c16'] = prop_1\n",
        "cnv_with_significance_16h_5.at['Count C-C', 'c16'] = len(propotions_c16_cnv_to_cnv)"
      ]
    },
    {
      "cell_type": "code",
      "execution_count": null,
      "metadata": {
        "id": "NoIWe8mXpUUQ"
      },
      "outputs": [],
      "source": [
        "cnv_to_cnv=0\n",
        "propotions_c16_cnv_to_cnv = []\n",
        "cnv_check_list=[]\n",
        "for i in range(len(all_16_adjacency_list)):\n",
        "  if ((all_16_adjacency_list[0][i] in cnv_16h_4_genes_list) and (all_16_adjacency_list[1][i] in cnv_16h_4_genes_list)):\n",
        "    cnv_to_cnv+=1\n",
        "    if(all_16_adjacency_list[0][i].startswith('YP')):\n",
        "      if(all_16_adjacency_list[0][i] not in propotions_c16_cnv_to_cnv):\n",
        "        propotions_c16_cnv_to_cnv.append(all_16_adjacency_list[0][i])\n",
        "      cnv_check_list.append(all_16_adjacency_list[0][i])\n",
        "    if(all_16_adjacency_list[1][i].startswith('YP')):\n",
        "      if(all_16_adjacency_list[1][i] not in propotions_c16_cnv_to_cnv):\n",
        "        propotions_c16_cnv_to_cnv.append(all_16_adjacency_list[1][i])\n",
        "      cnv_check_list.append(all_16_adjacency_list[1][i])\n",
        "\n",
        "propotions_c16_cnv_to_cnv = list(set(propotions_c16_cnv_to_cnv))\n",
        "prop_1 = len(propotions_c16_cnv_to_cnv)*100/len(c16_genes_list)\n",
        "(len(propotions_c16_cnv_to_cnv), prop_1)\n",
        "cnv_with_significance_16h_4.at['Prop C-C', 'c16'] = prop_1\n",
        "cnv_with_significance_16h_4.at['Count C-C', 'c16'] = len(propotions_c16_cnv_to_cnv)"
      ]
    },
    {
      "cell_type": "code",
      "execution_count": null,
      "metadata": {
        "id": "zPu21O98uels"
      },
      "outputs": [],
      "source": [
        "cnv_to_cnv=0\n",
        "propotions_c16_cnv_to_cnv = []\n",
        "cnv_check_list=[]\n",
        "for i in range(len(all_16_adjacency_list)):\n",
        "  if ((all_16_adjacency_list[0][i] in cnv_16h_3_genes_list) and (all_16_adjacency_list[1][i] in cnv_16h_3_genes_list)):\n",
        "    cnv_to_cnv+=1\n",
        "    if(all_16_adjacency_list[0][i].startswith('YP')):\n",
        "      if(all_16_adjacency_list[0][i] not in propotions_c16_cnv_to_cnv):\n",
        "        propotions_c16_cnv_to_cnv.append(all_16_adjacency_list[0][i])\n",
        "      cnv_check_list.append(all_16_adjacency_list[0][i])\n",
        "    if(all_16_adjacency_list[1][i].startswith('YP')):\n",
        "      if(all_16_adjacency_list[1][i] not in propotions_c16_cnv_to_cnv):\n",
        "        propotions_c16_cnv_to_cnv.append(all_16_adjacency_list[1][i])\n",
        "      cnv_check_list.append(all_16_adjacency_list[1][i])\n",
        "\n",
        "propotions_c16_cnv_to_cnv = list(set(propotions_c16_cnv_to_cnv))\n",
        "prop_1 = len(propotions_c16_cnv_to_cnv)*100/len(c16_genes_list)\n",
        "(len(propotions_c16_cnv_to_cnv), prop_1)\n",
        "cnv_with_significance_16h_3.at['Prop C-C', 'c16'] = prop_1\n",
        "cnv_with_significance_16h_3.at['Count C-C', 'c16'] = len(propotions_c16_cnv_to_cnv)"
      ]
    },
    {
      "cell_type": "code",
      "execution_count": null,
      "metadata": {
        "id": "LQIRFuge7Jg6"
      },
      "outputs": [],
      "source": [
        "cnv_to_cnv=0\n",
        "propotions_c16_cnv_to_cnv = []\n",
        "cnv_check_list=[]\n",
        "for i in range(len(all_16_adjacency_list)):\n",
        "  if ((all_16_adjacency_list[0][i] in cnv_16h_2_genes_list) and (all_16_adjacency_list[1][i] in cnv_16h_2_genes_list)):\n",
        "    cnv_to_cnv+=1\n",
        "    if(all_16_adjacency_list[0][i].startswith('YP')):\n",
        "      if(all_16_adjacency_list[0][i] not in propotions_c16_cnv_to_cnv):\n",
        "        propotions_c16_cnv_to_cnv.append(all_16_adjacency_list[0][i])\n",
        "      cnv_check_list.append(all_16_adjacency_list[0][i])\n",
        "    if(all_16_adjacency_list[1][i].startswith('YP')):\n",
        "      if(all_16_adjacency_list[1][i] not in propotions_c16_cnv_to_cnv):\n",
        "        propotions_c16_cnv_to_cnv.append(all_16_adjacency_list[1][i])\n",
        "      cnv_check_list.append(all_16_adjacency_list[1][i])\n",
        "\n",
        "propotions_c16_cnv_to_cnv = list(set(propotions_c16_cnv_to_cnv))\n",
        "prop_1 = len(propotions_c16_cnv_to_cnv)*100/len(c16_genes_list)\n",
        "(len(propotions_c16_cnv_to_cnv), prop_1)\n",
        "cnv_with_significance_16h_2.at['Prop C-C', 'c16'] = prop_1\n",
        "cnv_with_significance_16h_2.at['Count C-C', 'c16'] = len(propotions_c16_cnv_to_cnv)"
      ]
    },
    {
      "cell_type": "code",
      "execution_count": null,
      "metadata": {
        "colab": {
          "base_uri": "https://localhost:8080/"
        },
        "id": "9ZZV9rOrubBX",
        "outputId": "980a135b-0d34-42ba-fe7a-974c01ff9a15"
      },
      "outputs": [
        {
          "name": "stdout",
          "output_type": "stream",
          "text": [
            "SpearmanrResult(correlation=0.1784051523913885, pvalue=2.059781079015198e-27)\n"
          ]
        }
      ],
      "source": [
        "cnv_to_cnv=0\n",
        "propotions_c16_cnv_to_cnv = []\n",
        "cnv_check_list=[]\n",
        "cnv_to_cnv_tpms = pd.DataFrame()\n",
        "gene_1_tpm = []\n",
        "gene_2_tpm = []\n",
        "for i in range(len(all_16_adjacency_list)):\n",
        "  if ((all_16_adjacency_list[0][i] in cnv_genes_list) and (all_16_adjacency_list[1][i] in cnv_genes_list)):\n",
        "    cnv_to_cnv+=1\n",
        "    if ((all_16_adjacency_list[0][i] in all_average_tpms.keys()) and (all_16_adjacency_list[1][i] in all_average_tpms.keys())):\n",
        "      gene_1_tpm.append(all_average_tpms[all_16_adjacency_list[0][i]])\n",
        "      gene_2_tpm.append(all_average_tpms[all_16_adjacency_list[1][i]])\n",
        "    if(all_16_adjacency_list[0][i].startswith('YP')):\n",
        "      if(all_16_adjacency_list[0][i] not in propotions_c16_cnv_to_cnv):\n",
        "        propotions_c16_cnv_to_cnv.append(all_16_adjacency_list[0][i])\n",
        "      cnv_check_list.append(all_16_adjacency_list[0][i])\n",
        "    if(all_16_adjacency_list[1][i].startswith('YP')):\n",
        "      if(all_16_adjacency_list[1][i] not in propotions_c16_cnv_to_cnv):\n",
        "        propotions_c16_cnv_to_cnv.append(all_16_adjacency_list[1][i])\n",
        "      cnv_check_list.append(all_16_adjacency_list[1][i])\n",
        "\n",
        "propotions_c16_cnv_to_cnv = list(set(propotions_c16_cnv_to_cnv))\n",
        "\n",
        "prop_1 = len(propotions_c16_cnv_to_cnv)*100/len(c16_genes_list)\n",
        "gene_1_tpm = list(map(int, gene_1_tpm))\n",
        "gene_2_tpm = list(map(int, gene_2_tpm))\n",
        "cnv_to_cnv_tpms['gene_1_tpm'] = gene_1_tpm\n",
        "cnv_to_cnv_tpms['gene_2_tpm'] = gene_2_tpm\n",
        "res = stats.spearmanr(cnv_to_cnv_tpms['gene_1_tpm'], cnv_to_cnv_tpms['gene_2_tpm'])\n",
        "cnv_with_significance_16h_1.at['Prop C-C', 'c16'] = prop_1\n",
        "cnv_with_significance_16h_1.at['Count C-C', 'c16'] = len(propotions_c16_cnv_to_cnv)\n",
        "print(res)"
      ]
    },
    {
      "cell_type": "code",
      "execution_count": null,
      "metadata": {
        "id": "pVXtf8EhHAGb"
      },
      "outputs": [],
      "source": [
        "cnv_to_cnv=0\n",
        "propotions_c14_cnv_to_cnv = []\n",
        "cnv_14_check_list=[]\n",
        "for i in range(len(all_14_adjacency_list)):\n",
        "  if ((all_14_adjacency_list[0][i] in cnv_16h_2_genes_list) and (all_14_adjacency_list[1][i] in cnv_16h_2_genes_list)):\n",
        "    cnv_to_cnv+=1\n",
        "    if(all_14_adjacency_list[0][i].startswith('YN')):\n",
        "      if(all_14_adjacency_list[0][i] not in propotions_c14_cnv_to_cnv):\n",
        "        propotions_c14_cnv_to_cnv.append(all_14_adjacency_list[0][i])\n",
        "      cnv_14_check_list.append(all_14_adjacency_list[0][i])\n",
        "    if(all_14_adjacency_list[1][i].startswith('YN')):\n",
        "      if(all_14_adjacency_list[1][i] not in propotions_c14_cnv_to_cnv):\n",
        "        propotions_c14_cnv_to_cnv.append(all_14_adjacency_list[1][i])\n",
        "      cnv_14_check_list.append(all_14_adjacency_list[1][i])\n",
        "\n",
        "propotions_c14_cnv_to_cnv = list(set(propotions_c14_cnv_to_cnv))\n",
        "prop_14_1 = len(propotions_c14_cnv_to_cnv)*100/len(c14_genes_list)\n",
        "(len(propotions_c14_cnv_to_cnv), prop_14_1)\n",
        "cnv_with_significance_16h_2.at['Prop C-C', 'c14'] = prop_14_1\n",
        "cnv_with_significance_16h_2.at['Count C-C', 'c14'] = len(propotions_c14_cnv_to_cnv)"
      ]
    },
    {
      "cell_type": "code",
      "execution_count": null,
      "metadata": {
        "id": "4b7pr4Z4wS0i"
      },
      "outputs": [],
      "source": [
        "propotions_c8_noncnv_to_noncnv = []\n",
        "noncnv_to_noncnv=0\n",
        "for i in range(len(all_8_adjacency_list)):\n",
        "  if ((all_8_adjacency_list[0][i] not in cnv_16h_5_genes_list) and (all_8_adjacency_list[1][i] not in cnv_16h_5_genes_list)):\n",
        "    noncnv_to_noncnv+=1\n",
        "    if(all_8_adjacency_list[0][i].startswith('YH')):\n",
        "      if(all_8_adjacency_list[0][i] not in propotions_c8_noncnv_to_noncnv):\n",
        "        propotions_c8_noncnv_to_noncnv.append(all_8_adjacency_list[0][i])\n",
        "    if(all_8_adjacency_list[1][i].startswith('YH')):\n",
        "      if(all_8_adjacency_list[1][i] not in propotions_c8_noncnv_to_noncnv):\n",
        "        propotions_c8_noncnv_to_noncnv.append(all_8_adjacency_list[1][i])\n",
        "\n",
        "prop_8_2 = len(propotions_c8_noncnv_to_noncnv)*100/len(c8_genes_list)\n",
        "(len(propotions_c8_noncnv_to_noncnv), prop_8_2)\n",
        "cnv_with_significance_16h_5.at['Prop N-N', 'c8'] = prop_8_2\n",
        "cnv_with_significance_16h_5.at['Count N-N', 'c8'] = len(propotions_c8_noncnv_to_noncnv)"
      ]
    },
    {
      "cell_type": "code",
      "execution_count": null,
      "metadata": {
        "id": "oTIH79wGhrPC"
      },
      "outputs": [],
      "source": [
        "propotions_c9_noncnv_to_noncnv = []\n",
        "noncnv_to_noncnv=0\n",
        "for i in range(len(all_9_adjacency_list)):\n",
        "  if ((all_9_adjacency_list[0][i] not in cnv_16h_3_genes_list) and (all_9_adjacency_list[1][i] not in cnv_16h_3_genes_list)):\n",
        "    noncnv_to_noncnv+=1\n",
        "    if(all_9_adjacency_list[0][i].startswith('YI')):\n",
        "      if(all_9_adjacency_list[0][i] not in propotions_c9_noncnv_to_noncnv):\n",
        "        propotions_c9_noncnv_to_noncnv.append(all_9_adjacency_list[0][i])\n",
        "    if(all_9_adjacency_list[1][i].startswith('YI')):\n",
        "      if(all_9_adjacency_list[1][i] not in propotions_c9_noncnv_to_noncnv):\n",
        "        propotions_c9_noncnv_to_noncnv.append(all_9_adjacency_list[1][i])\n",
        "\n",
        "prop_9_2 = len(propotions_c9_noncnv_to_noncnv)*100/len(c9_genes_list)\n",
        "(len(propotions_c9_noncnv_to_noncnv), prop_9_2)\n",
        "cnv_with_significance_16h_3.at['Prop N-N', 'c9'] = prop_9_2\n",
        "cnv_with_significance_16h_3.at['Count N-N', 'c9'] = len(propotions_c9_noncnv_to_noncnv)"
      ]
    },
    {
      "cell_type": "code",
      "execution_count": null,
      "metadata": {
        "id": "LGDDwFLDOZFh"
      },
      "outputs": [],
      "source": [
        "propotions_c14_noncnv_to_noncnv = []\n",
        "noncnv_to_noncnv=0\n",
        "for i in range(len(all_14_adjacency_list)):\n",
        "  if ((all_14_adjacency_list[0][i] not in cnv_16h_2_genes_list) and (all_14_adjacency_list[1][i] not in cnv_16h_2_genes_list)):\n",
        "    noncnv_to_noncnv+=1\n",
        "    if(all_14_adjacency_list[0][i].startswith('YN')):\n",
        "      if(all_14_adjacency_list[0][i] not in propotions_c14_noncnv_to_noncnv):\n",
        "        propotions_c14_noncnv_to_noncnv.append(all_14_adjacency_list[0][i])\n",
        "    if(all_14_adjacency_list[1][i].startswith('YN')):\n",
        "      if(all_14_adjacency_list[1][i] not in propotions_c14_noncnv_to_noncnv):\n",
        "        propotions_c14_noncnv_to_noncnv.append(all_14_adjacency_list[1][i])\n",
        "\n",
        "prop_14_2 = len(propotions_c14_noncnv_to_noncnv)*100/len(c14_genes_list)\n",
        "(len(propotions_c14_noncnv_to_noncnv), prop_14_2)\n",
        "cnv_with_significance_16h_2.at['Prop N-N', 'c14'] = prop_14_2\n",
        "cnv_with_significance_16h_2.at['Count N-N', 'c14'] = len(propotions_c14_noncnv_to_noncnv)"
      ]
    },
    {
      "cell_type": "code",
      "execution_count": null,
      "metadata": {
        "id": "LgTCeX4Xx1x9"
      },
      "outputs": [],
      "source": [
        "propotions_c6_noncnv_to_noncnv = []\n",
        "noncnv_to_noncnv=0\n",
        "for i in range(len(all_6_adjacency_list)):\n",
        "  if ((all_6_adjacency_list[0][i] not in cnv_16h_8_genes_list) and (all_6_adjacency_list[1][i] not in cnv_16h_8_genes_list)):\n",
        "    noncnv_to_noncnv+=1\n",
        "    if(all_6_adjacency_list[0][i].startswith('YF')):\n",
        "      if(all_6_adjacency_list[0][i] not in propotions_c6_noncnv_to_noncnv):\n",
        "        propotions_c6_noncnv_to_noncnv.append(all_6_adjacency_list[0][i])\n",
        "    if(all_6_adjacency_list[1][i].startswith('YF')):\n",
        "      if(all_6_adjacency_list[1][i] not in propotions_c6_noncnv_to_noncnv):\n",
        "        propotions_c6_noncnv_to_noncnv.append(all_6_adjacency_list[1][i])\n",
        "\n",
        "prop_6_2 = len(propotions_c6_noncnv_to_noncnv)*100/len(c6_genes_list)\n",
        "(len(propotions_c6_noncnv_to_noncnv), prop_6_2)\n",
        "cnv_with_significance_16h_8.at['Prop N-N', 'c6'] = prop_6_2\n",
        "cnv_with_significance_16h_8.at['Count N-N', 'c6'] = len(propotions_c6_noncnv_to_noncnv)"
      ]
    },
    {
      "cell_type": "code",
      "execution_count": null,
      "metadata": {
        "id": "rP_Ia3OfwDZ9"
      },
      "outputs": [],
      "source": [
        "propotions_c6_noncnv_to_noncnv = []\n",
        "noncnv_to_noncnv=0\n",
        "for i in range(len(all_6_adjacency_list)):\n",
        "  if ((all_6_adjacency_list[0][i] not in cnv_16h_7_genes_list) and (all_6_adjacency_list[1][i] not in cnv_16h_7_genes_list)):\n",
        "    noncnv_to_noncnv+=1\n",
        "    if(all_6_adjacency_list[0][i].startswith('YF')):\n",
        "      if(all_6_adjacency_list[0][i] not in propotions_c6_noncnv_to_noncnv):\n",
        "        propotions_c6_noncnv_to_noncnv.append(all_6_adjacency_list[0][i])\n",
        "    if(all_6_adjacency_list[1][i].startswith('YF')):\n",
        "      if(all_6_adjacency_list[1][i] not in propotions_c6_noncnv_to_noncnv):\n",
        "        propotions_c6_noncnv_to_noncnv.append(all_6_adjacency_list[1][i])\n",
        "\n",
        "prop_6_2 = len(propotions_c6_noncnv_to_noncnv)*100/len(c6_genes_list)\n",
        "(len(propotions_c6_noncnv_to_noncnv), prop_6_2)\n",
        "cnv_with_significance_16h_7.at['Prop N-N', 'c6'] = prop_6_2\n",
        "cnv_with_significance_16h_7.at['Count N-N', 'c6'] = len(propotions_c6_noncnv_to_noncnv)"
      ]
    },
    {
      "cell_type": "code",
      "execution_count": null,
      "metadata": {
        "id": "X9DdVvKTDnmK"
      },
      "outputs": [],
      "source": [
        "propotions_c6_noncnv_to_noncnv = []\n",
        "noncnv_to_noncnv=0\n",
        "for i in range(len(all_6_adjacency_list)):\n",
        "  if ((all_6_adjacency_list[0][i] not in cnv_16h_6_genes_list) and (all_6_adjacency_list[1][i] not in cnv_16h_6_genes_list)):\n",
        "    noncnv_to_noncnv+=1\n",
        "    if(all_6_adjacency_list[0][i].startswith('YF')):\n",
        "      if(all_6_adjacency_list[0][i] not in propotions_c6_noncnv_to_noncnv):\n",
        "        propotions_c6_noncnv_to_noncnv.append(all_6_adjacency_list[0][i])\n",
        "    if(all_6_adjacency_list[1][i].startswith('YF')):\n",
        "      if(all_6_adjacency_list[1][i] not in propotions_c6_noncnv_to_noncnv):\n",
        "        propotions_c6_noncnv_to_noncnv.append(all_6_adjacency_list[1][i])\n",
        "\n",
        "prop_6_2 = len(propotions_c6_noncnv_to_noncnv)*100/len(c6_genes_list)\n",
        "(len(propotions_c6_noncnv_to_noncnv), prop_6_2)\n",
        "cnv_with_significance_16h_6.at['Prop N-N', 'c6'] = prop_6_2\n",
        "cnv_with_significance_16h_6.at['Count N-N', 'c6'] = len(propotions_c6_noncnv_to_noncnv)"
      ]
    },
    {
      "cell_type": "code",
      "execution_count": null,
      "metadata": {
        "id": "GAgyqRlh1Nlw"
      },
      "outputs": [],
      "source": [
        "propotions_c6_noncnv_to_noncnv = []\n",
        "noncnv_to_noncnv=0\n",
        "for i in range(len(all_6_adjacency_list)):\n",
        "  if ((all_6_adjacency_list[0][i] not in cnv_16h_5_genes_list) and (all_6_adjacency_list[1][i] not in cnv_16h_5_genes_list)):\n",
        "    noncnv_to_noncnv+=1\n",
        "    if(all_6_adjacency_list[0][i].startswith('YF')):\n",
        "      if(all_6_adjacency_list[0][i] not in propotions_c6_noncnv_to_noncnv):\n",
        "        propotions_c6_noncnv_to_noncnv.append(all_6_adjacency_list[0][i])\n",
        "    if(all_6_adjacency_list[1][i].startswith('YF')):\n",
        "      if(all_6_adjacency_list[1][i] not in propotions_c6_noncnv_to_noncnv):\n",
        "        propotions_c6_noncnv_to_noncnv.append(all_6_adjacency_list[1][i])\n",
        "\n",
        "prop_6_2 = len(propotions_c6_noncnv_to_noncnv)*100/len(c6_genes_list)\n",
        "(len(propotions_c6_noncnv_to_noncnv), prop_6_2)\n",
        "cnv_with_significance_16h_5.at['Prop N-N', 'c6'] = prop_6_2\n",
        "cnv_with_significance_16h_5.at['Count N-N', 'c6'] = len(propotions_c6_noncnv_to_noncnv)"
      ]
    },
    {
      "cell_type": "code",
      "execution_count": null,
      "metadata": {
        "id": "dWRnPsel7cqp"
      },
      "outputs": [],
      "source": [
        "propotions_c6_noncnv_to_noncnv = []\n",
        "noncnv_to_noncnv=0\n",
        "for i in range(len(all_6_adjacency_list)):\n",
        "  if ((all_6_adjacency_list[0][i] not in cnv_16h_4_genes_list) and (all_6_adjacency_list[1][i] not in cnv_16h_4_genes_list)):\n",
        "    noncnv_to_noncnv+=1\n",
        "    if(all_6_adjacency_list[0][i].startswith('YF')):\n",
        "      if(all_6_adjacency_list[0][i] not in propotions_c6_noncnv_to_noncnv):\n",
        "        propotions_c6_noncnv_to_noncnv.append(all_6_adjacency_list[0][i])\n",
        "    if(all_6_adjacency_list[1][i].startswith('YF')):\n",
        "      if(all_6_adjacency_list[1][i] not in propotions_c6_noncnv_to_noncnv):\n",
        "        propotions_c6_noncnv_to_noncnv.append(all_6_adjacency_list[1][i])\n",
        "\n",
        "prop_6_2 = len(propotions_c6_noncnv_to_noncnv)*100/len(c6_genes_list)\n",
        "(len(propotions_c6_noncnv_to_noncnv), prop_6_2)\n",
        "cnv_with_significance_16h_4.at['Prop N-N', 'c6'] = prop_6_2\n",
        "cnv_with_significance_16h_4.at['Count N-N', 'c6'] = len(propotions_c6_noncnv_to_noncnv)"
      ]
    },
    {
      "cell_type": "code",
      "execution_count": null,
      "metadata": {
        "id": "SkrmZV6AvCb3"
      },
      "outputs": [],
      "source": [
        "propotions_c6_noncnv_to_noncnv = []\n",
        "noncnv_to_noncnv=0\n",
        "for i in range(len(all_6_adjacency_list)):\n",
        "  if ((all_6_adjacency_list[0][i] not in cnv_16h_3_genes_list) and (all_6_adjacency_list[1][i] not in cnv_16h_3_genes_list)):\n",
        "    noncnv_to_noncnv+=1\n",
        "    if(all_6_adjacency_list[0][i].startswith('YF')):\n",
        "      if(all_6_adjacency_list[0][i] not in propotions_c6_noncnv_to_noncnv):\n",
        "        propotions_c6_noncnv_to_noncnv.append(all_6_adjacency_list[0][i])\n",
        "    if(all_6_adjacency_list[1][i].startswith('YF')):\n",
        "      if(all_6_adjacency_list[1][i] not in propotions_c6_noncnv_to_noncnv):\n",
        "        propotions_c6_noncnv_to_noncnv.append(all_6_adjacency_list[1][i])\n",
        "\n",
        "prop_6_2 = len(propotions_c6_noncnv_to_noncnv)*100/len(c6_genes_list)\n",
        "(len(propotions_c6_noncnv_to_noncnv), prop_6_2)\n",
        "cnv_with_significance_16h_3.at['Prop N-N', 'c6'] = prop_6_2\n",
        "cnv_with_significance_16h_3.at['Count N-N', 'c6'] = len(propotions_c6_noncnv_to_noncnv)"
      ]
    },
    {
      "cell_type": "code",
      "execution_count": null,
      "metadata": {
        "id": "DA8K8dGu3abm"
      },
      "outputs": [],
      "source": [
        "propotions_c6_noncnv_to_noncnv = []\n",
        "noncnv_to_noncnv=0\n",
        "for i in range(len(all_6_adjacency_list)):\n",
        "  if ((all_6_adjacency_list[0][i] not in cnv_16h_2_genes_list) and (all_6_adjacency_list[1][i] not in cnv_16h_2_genes_list)):\n",
        "    noncnv_to_noncnv+=1\n",
        "    if(all_6_adjacency_list[0][i].startswith('YF')):\n",
        "      if(all_6_adjacency_list[0][i] not in propotions_c6_noncnv_to_noncnv):\n",
        "        propotions_c6_noncnv_to_noncnv.append(all_6_adjacency_list[0][i])\n",
        "    if(all_6_adjacency_list[1][i].startswith('YF')):\n",
        "      if(all_6_adjacency_list[1][i] not in propotions_c6_noncnv_to_noncnv):\n",
        "        propotions_c6_noncnv_to_noncnv.append(all_6_adjacency_list[1][i])\n",
        "\n",
        "prop_6_2 = len(propotions_c6_noncnv_to_noncnv)*100/len(c6_genes_list)\n",
        "(len(propotions_c6_noncnv_to_noncnv), prop_6_2)\n",
        "cnv_with_significance_16h_2.at['Prop N-N', 'c6'] = prop_6_2\n",
        "cnv_with_significance_16h_2.at['Count N-N', 'c6'] = len(propotions_c6_noncnv_to_noncnv)"
      ]
    },
    {
      "cell_type": "code",
      "execution_count": null,
      "metadata": {
        "id": "0KXlUsi4kxXN"
      },
      "outputs": [],
      "source": [
        "propotions_c6_noncnv_to_noncnv = []\n",
        "noncnv_to_noncnv=0\n",
        "for i in range(len(all_6_adjacency_list)):\n",
        "  if ((all_6_adjacency_list[0][i] not in cnv_genes_list) and (all_6_adjacency_list[1][i] not in cnv_genes_list)):\n",
        "    noncnv_to_noncnv+=1\n",
        "    if(all_6_adjacency_list[0][i].startswith('YF')):\n",
        "      if(all_6_adjacency_list[0][i] not in propotions_c6_noncnv_to_noncnv):\n",
        "        propotions_c6_noncnv_to_noncnv.append(all_6_adjacency_list[0][i])\n",
        "    if(all_6_adjacency_list[1][i].startswith('YF')):\n",
        "      if(all_6_adjacency_list[1][i] not in propotions_c6_noncnv_to_noncnv):\n",
        "        propotions_c6_noncnv_to_noncnv.append(all_6_adjacency_list[1][i])\n",
        "\n",
        "prop_6_2 = len(propotions_c6_noncnv_to_noncnv)*100/len(c6_genes_list)\n",
        "(len(propotions_c6_noncnv_to_noncnv), prop_6_2)\n",
        "cnv_with_significance_16h_1.at['Prop N-N', 'c6'] = prop_6_2\n",
        "cnv_with_significance_16h_1.at['Count N-N', 'c6'] = len(propotions_c6_noncnv_to_noncnv)"
      ]
    },
    {
      "cell_type": "code",
      "execution_count": null,
      "metadata": {
        "id": "8SkGIuJsyHfh"
      },
      "outputs": [],
      "source": [
        "propotions_c3_noncnv_to_noncnv = []\n",
        "noncnv_to_noncnv=0\n",
        "for i in range(len(all_3_adjacency_list)):\n",
        "  if ((all_3_adjacency_list[0][i] not in cnv_16h_8_genes_list) and (all_3_adjacency_list[1][i] not in cnv_16h_8_genes_list)):\n",
        "    noncnv_to_noncnv+=1\n",
        "    if(all_3_adjacency_list[0][i].startswith('YC')):\n",
        "      if(all_3_adjacency_list[0][i] not in propotions_c3_noncnv_to_noncnv):\n",
        "        propotions_c3_noncnv_to_noncnv.append(all_3_adjacency_list[0][i])\n",
        "    if(all_3_adjacency_list[1][i].startswith('YC')):\n",
        "      if(all_3_adjacency_list[1][i] not in propotions_c3_noncnv_to_noncnv):\n",
        "        propotions_c3_noncnv_to_noncnv.append(all_3_adjacency_list[1][i])\n",
        "\n",
        "prop_3_2 = len(propotions_c3_noncnv_to_noncnv)*100/len(c3_genes_list)\n",
        "(len(propotions_c3_noncnv_to_noncnv), prop_3_2)\n",
        "cnv_with_significance_16h_8.at['Prop N-N', 'c3'] = prop_3_2\n",
        "cnv_with_significance_16h_8.at['Count N-N', 'c3'] = len(propotions_c3_noncnv_to_noncnv)"
      ]
    },
    {
      "cell_type": "code",
      "execution_count": null,
      "metadata": {
        "id": "BsEbCiRWwMdc"
      },
      "outputs": [],
      "source": [
        "propotions_c3_noncnv_to_noncnv = []\n",
        "noncnv_to_noncnv=0\n",
        "for i in range(len(all_3_adjacency_list)):\n",
        "  if ((all_3_adjacency_list[0][i] not in cnv_16h_7_genes_list) and (all_3_adjacency_list[1][i] not in cnv_16h_7_genes_list)):\n",
        "    noncnv_to_noncnv+=1\n",
        "    if(all_3_adjacency_list[0][i].startswith('YC')):\n",
        "      if(all_3_adjacency_list[0][i] not in propotions_c3_noncnv_to_noncnv):\n",
        "        propotions_c3_noncnv_to_noncnv.append(all_3_adjacency_list[0][i])\n",
        "    if(all_3_adjacency_list[1][i].startswith('YC')):\n",
        "      if(all_3_adjacency_list[1][i] not in propotions_c3_noncnv_to_noncnv):\n",
        "        propotions_c3_noncnv_to_noncnv.append(all_3_adjacency_list[1][i])\n",
        "\n",
        "prop_3_2 = len(propotions_c3_noncnv_to_noncnv)*100/len(c3_genes_list)\n",
        "(len(propotions_c3_noncnv_to_noncnv), prop_3_2)\n",
        "cnv_with_significance_16h_7.at['Prop N-N', 'c3'] = prop_3_2\n",
        "cnv_with_significance_16h_7.at['Count N-N', 'c3'] = len(propotions_c3_noncnv_to_noncnv)"
      ]
    },
    {
      "cell_type": "code",
      "execution_count": null,
      "metadata": {
        "id": "hD6cUdouEH6B"
      },
      "outputs": [],
      "source": [
        "propotions_c3_noncnv_to_noncnv = []\n",
        "noncnv_to_noncnv=0\n",
        "for i in range(len(all_3_adjacency_list)):\n",
        "  if ((all_3_adjacency_list[0][i] not in cnv_16h_6_genes_list) and (all_3_adjacency_list[1][i] not in cnv_16h_6_genes_list)):\n",
        "    noncnv_to_noncnv+=1\n",
        "    if(all_3_adjacency_list[0][i].startswith('YC')):\n",
        "      if(all_3_adjacency_list[0][i] not in propotions_c3_noncnv_to_noncnv):\n",
        "        propotions_c3_noncnv_to_noncnv.append(all_3_adjacency_list[0][i])\n",
        "    if(all_3_adjacency_list[1][i].startswith('YC')):\n",
        "      if(all_3_adjacency_list[1][i] not in propotions_c3_noncnv_to_noncnv):\n",
        "        propotions_c3_noncnv_to_noncnv.append(all_3_adjacency_list[1][i])\n",
        "\n",
        "prop_3_2 = len(propotions_c3_noncnv_to_noncnv)*100/len(c3_genes_list)\n",
        "(len(propotions_c3_noncnv_to_noncnv), prop_3_2)\n",
        "cnv_with_significance_16h_6.at['Prop N-N', 'c3'] = prop_3_2\n",
        "cnv_with_significance_16h_6.at['Count N-N', 'c3'] = len(propotions_c3_noncnv_to_noncnv)"
      ]
    },
    {
      "cell_type": "code",
      "execution_count": null,
      "metadata": {
        "id": "J1nK2kd4zJuy"
      },
      "outputs": [],
      "source": [
        "propotions_c3_noncnv_to_noncnv = []\n",
        "noncnv_to_noncnv=0\n",
        "for i in range(len(all_3_adjacency_list)):\n",
        "  if ((all_3_adjacency_list[0][i] not in cnv_16h_3_genes_list) and (all_3_adjacency_list[1][i] not in cnv_16h_3_genes_list)):\n",
        "    noncnv_to_noncnv+=1\n",
        "    if(all_3_adjacency_list[0][i].startswith('YC')):\n",
        "      if(all_3_adjacency_list[0][i] not in propotions_c3_noncnv_to_noncnv):\n",
        "        propotions_c3_noncnv_to_noncnv.append(all_3_adjacency_list[0][i])\n",
        "    if(all_3_adjacency_list[1][i].startswith('YC')):\n",
        "      if(all_3_adjacency_list[1][i] not in propotions_c3_noncnv_to_noncnv):\n",
        "        propotions_c3_noncnv_to_noncnv.append(all_3_adjacency_list[1][i])\n",
        "\n",
        "prop_3_2 = len(propotions_c3_noncnv_to_noncnv)*100/len(c3_genes_list)\n",
        "(len(propotions_c3_noncnv_to_noncnv), prop_3_2)\n",
        "cnv_with_significance_16h_3.at['Prop N-N', 'c3'] = prop_3_2\n",
        "cnv_with_significance_16h_3.at['Count N-N', 'c3'] = len(propotions_c3_noncnv_to_noncnv)"
      ]
    },
    {
      "cell_type": "code",
      "execution_count": null,
      "metadata": {
        "id": "Nr7c7uXd1YEI"
      },
      "outputs": [],
      "source": [
        "propotions_c3_noncnv_to_noncnv = []\n",
        "noncnv_to_noncnv=0\n",
        "for i in range(len(all_3_adjacency_list)):\n",
        "  if ((all_3_adjacency_list[0][i] not in cnv_16h_5_genes_list) and (all_3_adjacency_list[1][i] not in cnv_16h_5_genes_list)):\n",
        "    noncnv_to_noncnv+=1\n",
        "    if(all_3_adjacency_list[0][i].startswith('YC')):\n",
        "      if(all_3_adjacency_list[0][i] not in propotions_c3_noncnv_to_noncnv):\n",
        "        propotions_c3_noncnv_to_noncnv.append(all_3_adjacency_list[0][i])\n",
        "    if(all_3_adjacency_list[1][i].startswith('YC')):\n",
        "      if(all_3_adjacency_list[1][i] not in propotions_c3_noncnv_to_noncnv):\n",
        "        propotions_c3_noncnv_to_noncnv.append(all_3_adjacency_list[1][i])\n",
        "\n",
        "prop_3_2 = len(propotions_c3_noncnv_to_noncnv)*100/len(c3_genes_list)\n",
        "(len(propotions_c3_noncnv_to_noncnv), prop_3_2)\n",
        "cnv_with_significance_16h_5.at['Prop N-N', 'c3'] = prop_3_2\n",
        "cnv_with_significance_16h_5.at['Count N-N', 'c3'] = len(propotions_c3_noncnv_to_noncnv)"
      ]
    },
    {
      "cell_type": "code",
      "execution_count": null,
      "metadata": {
        "id": "dCXs3_QVpez4"
      },
      "outputs": [],
      "source": [
        "propotions_c3_noncnv_to_noncnv = []\n",
        "noncnv_to_noncnv=0\n",
        "for i in range(len(all_3_adjacency_list)):\n",
        "  if ((all_3_adjacency_list[0][i] not in cnv_16h_4_genes_list) and (all_3_adjacency_list[1][i] not in cnv_16h_4_genes_list)):\n",
        "    noncnv_to_noncnv+=1\n",
        "    if(all_3_adjacency_list[0][i].startswith('YC')):\n",
        "      if(all_3_adjacency_list[0][i] not in propotions_c3_noncnv_to_noncnv):\n",
        "        propotions_c3_noncnv_to_noncnv.append(all_3_adjacency_list[0][i])\n",
        "    if(all_3_adjacency_list[1][i].startswith('YC')):\n",
        "      if(all_3_adjacency_list[1][i] not in propotions_c3_noncnv_to_noncnv):\n",
        "        propotions_c3_noncnv_to_noncnv.append(all_3_adjacency_list[1][i])\n",
        "\n",
        "prop_3_2 = len(propotions_c3_noncnv_to_noncnv)*100/len(c3_genes_list)\n",
        "(len(propotions_c3_noncnv_to_noncnv), prop_3_2)\n",
        "cnv_with_significance_16h_4.at['Prop N-N', 'c3'] = prop_3_2\n",
        "cnv_with_significance_16h_4.at['Count N-N', 'c3'] = len(propotions_c3_noncnv_to_noncnv)"
      ]
    },
    {
      "cell_type": "code",
      "execution_count": null,
      "metadata": {
        "id": "tFM-b_9f8imc"
      },
      "outputs": [],
      "source": [
        "propotions_c3_noncnv_to_noncnv = []\n",
        "noncnv_to_noncnv=0\n",
        "for i in range(len(all_3_adjacency_list)):\n",
        "  if ((all_3_adjacency_list[0][i] not in cnv_16h_2_genes_list) and (all_3_adjacency_list[1][i] not in cnv_16h_2_genes_list)):\n",
        "    noncnv_to_noncnv+=1\n",
        "    if(all_3_adjacency_list[0][i].startswith('YC')):\n",
        "      if(all_3_adjacency_list[0][i] not in propotions_c3_noncnv_to_noncnv):\n",
        "        propotions_c3_noncnv_to_noncnv.append(all_3_adjacency_list[0][i])\n",
        "    if(all_3_adjacency_list[1][i].startswith('YC')):\n",
        "      if(all_3_adjacency_list[1][i] not in propotions_c3_noncnv_to_noncnv):\n",
        "        propotions_c3_noncnv_to_noncnv.append(all_3_adjacency_list[1][i])\n",
        "\n",
        "prop_3_2 = len(propotions_c3_noncnv_to_noncnv)*100/len(c3_genes_list)\n",
        "(len(propotions_c3_noncnv_to_noncnv), prop_3_2)\n",
        "cnv_with_significance_16h_2.at['Prop N-N', 'c3'] = prop_3_2\n",
        "cnv_with_significance_16h_2.at['Count N-N', 'c3'] = len(propotions_c3_noncnv_to_noncnv)"
      ]
    },
    {
      "cell_type": "code",
      "execution_count": null,
      "metadata": {
        "colab": {
          "base_uri": "https://localhost:8080/"
        },
        "id": "aUPvjNsvgIFi",
        "outputId": "22d5bf70-ca6f-45ef-ff31-7f3c37bc5ff2"
      },
      "outputs": [
        {
          "data": {
            "text/plain": [
              "(1, 0.6451612903225806)"
            ]
          },
          "execution_count": 86,
          "metadata": {},
          "output_type": "execute_result"
        }
      ],
      "source": [
        "propotions_c3_noncnv_to_noncnv = []\n",
        "noncnv_to_noncnv=0\n",
        "for i in range(len(all_3_adjacency_list)):\n",
        "  if ((all_3_adjacency_list[0][i] not in cnv_genes_list) and (all_3_adjacency_list[1][i] not in cnv_genes_list)):\n",
        "    noncnv_to_noncnv+=1\n",
        "    if(all_3_adjacency_list[0][i].startswith('YC')):\n",
        "      if(all_3_adjacency_list[0][i] not in propotions_c3_noncnv_to_noncnv):\n",
        "        propotions_c3_noncnv_to_noncnv.append(all_3_adjacency_list[0][i])\n",
        "    if(all_3_adjacency_list[1][i].startswith('YC')):\n",
        "      if(all_3_adjacency_list[1][i] not in propotions_c3_noncnv_to_noncnv):\n",
        "        propotions_c3_noncnv_to_noncnv.append(all_3_adjacency_list[1][i])\n",
        "\n",
        "prop_3_2 = len(propotions_c3_noncnv_to_noncnv)*100/155\n",
        "(len(propotions_c3_noncnv_to_noncnv), prop_3_2)"
      ]
    },
    {
      "cell_type": "code",
      "execution_count": null,
      "metadata": {
        "id": "2yfi3SWDyNSd"
      },
      "outputs": [],
      "source": [
        "propotions_c13_noncnv_to_noncnv = []\n",
        "noncnv_to_noncnv=0\n",
        "for i in range(len(all_13_adjacency_list)):\n",
        "  if ((all_13_adjacency_list[0][i] not in cnv_16h_8_genes_list) and (all_13_adjacency_list[1][i] not in cnv_16h_8_genes_list)):\n",
        "    noncnv_to_noncnv+=1\n",
        "    if(all_13_adjacency_list[0][i].startswith('YM')):\n",
        "      if(all_13_adjacency_list[0][i] not in propotions_c13_noncnv_to_noncnv):\n",
        "        propotions_c13_noncnv_to_noncnv.append(all_13_adjacency_list[0][i])\n",
        "    if(all_13_adjacency_list[1][i].startswith('YM')):\n",
        "      if(all_13_adjacency_list[1][i] not in propotions_c13_noncnv_to_noncnv):\n",
        "        propotions_c13_noncnv_to_noncnv.append(all_13_adjacency_list[1][i])\n",
        "\n",
        "prop_13_2 = len(propotions_c13_noncnv_to_noncnv)*100/len(c13_genes_list)\n",
        "(len(propotions_c13_noncnv_to_noncnv), prop_13_2)\n",
        "cnv_with_significance_16h_8.at['Prop N-N', 'c13'] = prop_13_2\n",
        "cnv_with_significance_16h_8.at['Count N-N', 'c13'] = len(propotions_c13_noncnv_to_noncnv)"
      ]
    },
    {
      "cell_type": "code",
      "execution_count": null,
      "metadata": {
        "id": "yVGNC-DxEQ9-"
      },
      "outputs": [],
      "source": [
        "propotions_c13_noncnv_to_noncnv = []\n",
        "noncnv_to_noncnv=0\n",
        "for i in range(len(all_13_adjacency_list)):\n",
        "  if ((all_13_adjacency_list[0][i] not in cnv_16h_6_genes_list) and (all_13_adjacency_list[1][i] not in cnv_16h_6_genes_list)):\n",
        "    noncnv_to_noncnv+=1\n",
        "    if(all_13_adjacency_list[0][i].startswith('YM')):\n",
        "      if(all_13_adjacency_list[0][i] not in propotions_c13_noncnv_to_noncnv):\n",
        "        propotions_c13_noncnv_to_noncnv.append(all_13_adjacency_list[0][i])\n",
        "    if(all_13_adjacency_list[1][i].startswith('YM')):\n",
        "      if(all_13_adjacency_list[1][i] not in propotions_c13_noncnv_to_noncnv):\n",
        "        propotions_c13_noncnv_to_noncnv.append(all_13_adjacency_list[1][i])\n",
        "\n",
        "prop_13_2 = len(propotions_c13_noncnv_to_noncnv)*100/len(c13_genes_list)\n",
        "(len(propotions_c13_noncnv_to_noncnv), prop_13_2)\n",
        "cnv_with_significance_16h_6.at['Prop N-N', 'c13'] = prop_13_2\n",
        "cnv_with_significance_16h_6.at['Count N-N', 'c13'] = len(propotions_c13_noncnv_to_noncnv)"
      ]
    },
    {
      "cell_type": "code",
      "execution_count": null,
      "metadata": {
        "id": "kos11_0E1ezh"
      },
      "outputs": [],
      "source": [
        "propotions_c13_noncnv_to_noncnv = []\n",
        "noncnv_to_noncnv=0\n",
        "for i in range(len(all_13_adjacency_list)):\n",
        "  if ((all_13_adjacency_list[0][i] not in cnv_16h_5_genes_list) and (all_13_adjacency_list[1][i] not in cnv_16h_5_genes_list)):\n",
        "    noncnv_to_noncnv+=1\n",
        "    if(all_13_adjacency_list[0][i].startswith('YM')):\n",
        "      if(all_13_adjacency_list[0][i] not in propotions_c13_noncnv_to_noncnv):\n",
        "        propotions_c13_noncnv_to_noncnv.append(all_13_adjacency_list[0][i])\n",
        "    if(all_13_adjacency_list[1][i].startswith('YM')):\n",
        "      if(all_13_adjacency_list[1][i] not in propotions_c13_noncnv_to_noncnv):\n",
        "        propotions_c13_noncnv_to_noncnv.append(all_13_adjacency_list[1][i])\n",
        "\n",
        "prop_13_2 = len(propotions_c13_noncnv_to_noncnv)*100/len(c13_genes_list)\n",
        "(len(propotions_c13_noncnv_to_noncnv), prop_13_2)\n",
        "cnv_with_significance_16h_5.at['Prop N-N', 'c13'] = prop_13_2\n",
        "cnv_with_significance_16h_5.at['Count N-N', 'c13'] = len(propotions_c13_noncnv_to_noncnv)"
      ]
    },
    {
      "cell_type": "code",
      "execution_count": null,
      "metadata": {
        "id": "LyQ_xDhXplnW"
      },
      "outputs": [],
      "source": [
        "propotions_c13_noncnv_to_noncnv = []\n",
        "noncnv_to_noncnv=0\n",
        "for i in range(len(all_13_adjacency_list)):\n",
        "  if ((all_13_adjacency_list[0][i] not in cnv_16h_4_genes_list) and (all_13_adjacency_list[1][i] not in cnv_16h_4_genes_list)):\n",
        "    noncnv_to_noncnv+=1\n",
        "    if(all_13_adjacency_list[0][i].startswith('YM')):\n",
        "      if(all_13_adjacency_list[0][i] not in propotions_c13_noncnv_to_noncnv):\n",
        "        propotions_c13_noncnv_to_noncnv.append(all_13_adjacency_list[0][i])\n",
        "    if(all_13_adjacency_list[1][i].startswith('YM')):\n",
        "      if(all_13_adjacency_list[1][i] not in propotions_c13_noncnv_to_noncnv):\n",
        "        propotions_c13_noncnv_to_noncnv.append(all_13_adjacency_list[1][i])\n",
        "\n",
        "prop_13_2 = len(propotions_c13_noncnv_to_noncnv)*100/len(c13_genes_list)\n",
        "(len(propotions_c13_noncnv_to_noncnv), prop_13_2)\n",
        "cnv_with_significance_16h_4.at['Prop N-N', 'c13'] = prop_13_2\n",
        "cnv_with_significance_16h_4.at['Count N-N', 'c13'] = len(propotions_c13_noncnv_to_noncnv)"
      ]
    },
    {
      "cell_type": "code",
      "execution_count": null,
      "metadata": {
        "id": "_phcr3hv0ENn"
      },
      "outputs": [],
      "source": [
        "propotions_c13_noncnv_to_noncnv = []\n",
        "noncnv_to_noncnv=0\n",
        "for i in range(len(all_13_adjacency_list)):\n",
        "  if ((all_13_adjacency_list[0][i] not in cnv_16h_3_genes_list) and (all_13_adjacency_list[1][i] not in cnv_16h_3_genes_list)):\n",
        "    noncnv_to_noncnv+=1\n",
        "    if(all_13_adjacency_list[0][i].startswith('YM')):\n",
        "      if(all_13_adjacency_list[0][i] not in propotions_c13_noncnv_to_noncnv):\n",
        "        propotions_c13_noncnv_to_noncnv.append(all_13_adjacency_list[0][i])\n",
        "    if(all_13_adjacency_list[1][i].startswith('YM')):\n",
        "      if(all_13_adjacency_list[1][i] not in propotions_c13_noncnv_to_noncnv):\n",
        "        propotions_c13_noncnv_to_noncnv.append(all_13_adjacency_list[1][i])\n",
        "\n",
        "prop_13_2 = len(propotions_c13_noncnv_to_noncnv)*100/len(c13_genes_list)\n",
        "(len(propotions_c13_noncnv_to_noncnv), prop_13_2)\n",
        "cnv_with_significance_16h_3.at['Prop N-N', 'c13'] = prop_13_2\n",
        "cnv_with_significance_16h_3.at['Count N-N', 'c13'] = len(propotions_c13_noncnv_to_noncnv)"
      ]
    },
    {
      "cell_type": "code",
      "execution_count": null,
      "metadata": {
        "id": "HiKhE7jm8teF"
      },
      "outputs": [],
      "source": [
        "propotions_c13_noncnv_to_noncnv = []\n",
        "noncnv_to_noncnv=0\n",
        "for i in range(len(all_13_adjacency_list)):\n",
        "  if ((all_13_adjacency_list[0][i] not in cnv_16h_2_genes_list) and (all_13_adjacency_list[1][i] not in cnv_16h_2_genes_list)):\n",
        "    noncnv_to_noncnv+=1\n",
        "    if(all_13_adjacency_list[0][i].startswith('YM')):\n",
        "      if(all_13_adjacency_list[0][i] not in propotions_c13_noncnv_to_noncnv):\n",
        "        propotions_c13_noncnv_to_noncnv.append(all_13_adjacency_list[0][i])\n",
        "    if(all_13_adjacency_list[1][i].startswith('YM')):\n",
        "      if(all_13_adjacency_list[1][i] not in propotions_c13_noncnv_to_noncnv):\n",
        "        propotions_c13_noncnv_to_noncnv.append(all_13_adjacency_list[1][i])\n",
        "\n",
        "prop_13_2 = len(propotions_c13_noncnv_to_noncnv)*100/len(c13_genes_list)\n",
        "cnv_with_significance_16h_2.at['Prop N-N', 'c13'] = prop_13_2\n",
        "cnv_with_significance_16h_2.at['Count N-N', 'c13'] = len(propotions_c13_noncnv_to_noncnv)"
      ]
    },
    {
      "cell_type": "code",
      "execution_count": null,
      "metadata": {
        "colab": {
          "base_uri": "https://localhost:8080/"
        },
        "id": "Q_oKRLcX8yzr",
        "outputId": "4f88d77a-bcd9-4052-86f9-9f011d706690"
      },
      "outputs": [
        {
          "data": {
            "text/plain": [
              "(1, 0.22727272727272727)"
            ]
          },
          "execution_count": 59,
          "metadata": {},
          "output_type": "execute_result"
        }
      ],
      "source": [
        "(len(propotions_c13_noncnv_to_noncnv), prop_13_2)"
      ]
    },
    {
      "cell_type": "code",
      "execution_count": null,
      "metadata": {
        "id": "dmPolKKiZPEQ"
      },
      "outputs": [],
      "source": [
        "propotions_c13_noncnv_to_noncnv = []\n",
        "noncnv_to_noncnv=0\n",
        "for i in range(len(all_13_adjacency_list)):\n",
        "  if ((all_13_adjacency_list[0][i] not in cnv_genes_list) and (all_13_adjacency_list[1][i] not in cnv_genes_list)):\n",
        "    noncnv_to_noncnv+=1\n",
        "    if(all_13_adjacency_list[0][i].startswith('YM')):\n",
        "      if(all_13_adjacency_list[0][i] not in propotions_c13_noncnv_to_noncnv):\n",
        "        propotions_c13_noncnv_to_noncnv.append(all_13_adjacency_list[0][i])\n",
        "    if(all_13_adjacency_list[1][i].startswith('YM')):\n",
        "      if(all_13_adjacency_list[1][i] not in propotions_c13_noncnv_to_noncnv):\n",
        "        propotions_c13_noncnv_to_noncnv.append(all_13_adjacency_list[1][i])\n",
        "\n",
        "prop_13_2 = len(propotions_c13_noncnv_to_noncnv)*100/len(c13_genes_list)\n",
        "cnv_with_significance_16h_1.at['Prop N-N', 'c13'] = prop_13_2\n",
        "cnv_with_significance_16h_1.at['Count N-N', 'c13'] = len(propotions_c13_noncnv_to_noncnv)"
      ]
    },
    {
      "cell_type": "code",
      "execution_count": null,
      "metadata": {
        "colab": {
          "base_uri": "https://localhost:8080/"
        },
        "id": "mqzq1miIZkNS",
        "outputId": "d11cd813-4054-41c1-fab6-32c47b23363c"
      },
      "outputs": [
        {
          "data": {
            "text/plain": [
              "(5, 1.1363636363636365)"
            ]
          },
          "execution_count": 66,
          "metadata": {},
          "output_type": "execute_result"
        }
      ],
      "source": [
        "(len(propotions_c13_noncnv_to_noncnv), prop_13_2)"
      ]
    },
    {
      "cell_type": "code",
      "execution_count": null,
      "metadata": {
        "id": "ZGmO9kQCySDj"
      },
      "outputs": [],
      "source": [
        "propotions_c16_noncnv_to_noncnv = []\n",
        "noncnv_to_noncnv=0\n",
        "for i in range(len(all_16_adjacency_list)):\n",
        "  if ((all_16_adjacency_list[0][i] not in cnv_16h_8_genes_list) and (all_16_adjacency_list[1][i] not in cnv_16h_8_genes_list)):\n",
        "    noncnv_to_noncnv+=1\n",
        "    if(all_16_adjacency_list[0][i].startswith('YP')):\n",
        "      if(all_16_adjacency_list[0][i] not in propotions_c16_noncnv_to_noncnv):\n",
        "        propotions_c16_noncnv_to_noncnv.append(all_16_adjacency_list[0][i])\n",
        "    if(all_16_adjacency_list[1][i].startswith('YP')):\n",
        "      if(all_16_adjacency_list[1][i] not in propotions_c16_noncnv_to_noncnv):\n",
        "        propotions_c16_noncnv_to_noncnv.append(all_16_adjacency_list[1][i])\n",
        "\n",
        "prop_2 = len(propotions_c16_noncnv_to_noncnv)*100/len(c16_genes_list)\n",
        "(len(propotions_c16_noncnv_to_noncnv), prop_2)\n",
        "cnv_with_significance_16h_8.at['Prop N-N', 'c16'] = prop_2\n",
        "cnv_with_significance_16h_8.at['Count N-N', 'c16'] = len(propotions_c16_noncnv_to_noncnv)"
      ]
    },
    {
      "cell_type": "code",
      "execution_count": null,
      "metadata": {
        "id": "4-YqABmHEZ61"
      },
      "outputs": [],
      "source": [
        "propotions_c16_noncnv_to_noncnv = []\n",
        "noncnv_to_noncnv=0\n",
        "for i in range(len(all_16_adjacency_list)):\n",
        "  if ((all_16_adjacency_list[0][i] not in cnv_16h_6_genes_list) and (all_16_adjacency_list[1][i] not in cnv_16h_6_genes_list)):\n",
        "    noncnv_to_noncnv+=1\n",
        "    if(all_16_adjacency_list[0][i].startswith('YP')):\n",
        "      if(all_16_adjacency_list[0][i] not in propotions_c16_noncnv_to_noncnv):\n",
        "        propotions_c16_noncnv_to_noncnv.append(all_16_adjacency_list[0][i])\n",
        "    if(all_16_adjacency_list[1][i].startswith('YP')):\n",
        "      if(all_16_adjacency_list[1][i] not in propotions_c16_noncnv_to_noncnv):\n",
        "        propotions_c16_noncnv_to_noncnv.append(all_16_adjacency_list[1][i])\n",
        "\n",
        "prop_2 = len(propotions_c16_noncnv_to_noncnv)*100/len(c16_genes_list)\n",
        "(len(propotions_c16_noncnv_to_noncnv), prop_2)\n",
        "cnv_with_significance_16h_6.at['Prop N-N', 'c16'] = prop_2\n",
        "cnv_with_significance_16h_6.at['Count N-N', 'c16'] = len(propotions_c16_noncnv_to_noncnv)"
      ]
    },
    {
      "cell_type": "code",
      "execution_count": null,
      "metadata": {
        "id": "kYjSdXup1lMz"
      },
      "outputs": [],
      "source": [
        "propotions_c16_noncnv_to_noncnv = []\n",
        "noncnv_to_noncnv=0\n",
        "for i in range(len(all_16_adjacency_list)):\n",
        "  if ((all_16_adjacency_list[0][i] not in cnv_16h_5_genes_list) and (all_16_adjacency_list[1][i] not in cnv_16h_5_genes_list)):\n",
        "    noncnv_to_noncnv+=1\n",
        "    if(all_16_adjacency_list[0][i].startswith('YP')):\n",
        "      if(all_16_adjacency_list[0][i] not in propotions_c16_noncnv_to_noncnv):\n",
        "        propotions_c16_noncnv_to_noncnv.append(all_16_adjacency_list[0][i])\n",
        "    if(all_16_adjacency_list[1][i].startswith('YP')):\n",
        "      if(all_16_adjacency_list[1][i] not in propotions_c16_noncnv_to_noncnv):\n",
        "        propotions_c16_noncnv_to_noncnv.append(all_16_adjacency_list[1][i])\n",
        "\n",
        "prop_2 = len(propotions_c16_noncnv_to_noncnv)*100/len(c16_genes_list)\n",
        "(len(propotions_c16_noncnv_to_noncnv), prop_2)\n",
        "cnv_with_significance_16h_5.at['Prop N-N', 'c16'] = prop_2\n",
        "cnv_with_significance_16h_5.at['Count N-N', 'c16'] = len(propotions_c16_noncnv_to_noncnv)"
      ]
    },
    {
      "cell_type": "code",
      "execution_count": null,
      "metadata": {
        "id": "RTqWGygtpsyw"
      },
      "outputs": [],
      "source": [
        "propotions_c16_noncnv_to_noncnv = []\n",
        "noncnv_to_noncnv=0\n",
        "for i in range(len(all_16_adjacency_list)):\n",
        "  if ((all_16_adjacency_list[0][i] not in cnv_16h_4_genes_list) and (all_16_adjacency_list[1][i] not in cnv_16h_4_genes_list)):\n",
        "    noncnv_to_noncnv+=1\n",
        "    if(all_16_adjacency_list[0][i].startswith('YP')):\n",
        "      if(all_16_adjacency_list[0][i] not in propotions_c16_noncnv_to_noncnv):\n",
        "        propotions_c16_noncnv_to_noncnv.append(all_16_adjacency_list[0][i])\n",
        "    if(all_16_adjacency_list[1][i].startswith('YP')):\n",
        "      if(all_16_adjacency_list[1][i] not in propotions_c16_noncnv_to_noncnv):\n",
        "        propotions_c16_noncnv_to_noncnv.append(all_16_adjacency_list[1][i])\n",
        "\n",
        "prop_2 = len(propotions_c16_noncnv_to_noncnv)*100/len(c16_genes_list)\n",
        "(len(propotions_c16_noncnv_to_noncnv), prop_2)\n",
        "cnv_with_significance_16h_4.at['Prop N-N', 'c16'] = prop_2\n",
        "cnv_with_significance_16h_4.at['Count N-N', 'c16'] = len(propotions_c16_noncnv_to_noncnv)"
      ]
    },
    {
      "cell_type": "code",
      "execution_count": null,
      "metadata": {
        "id": "p2bU11j61-G9"
      },
      "outputs": [],
      "source": [
        "propotions_c16_noncnv_to_noncnv = []\n",
        "noncnv_to_noncnv=0\n",
        "for i in range(len(all_16_adjacency_list)):\n",
        "  if ((all_16_adjacency_list[0][i] not in cnv_16h_3_genes_list) and (all_16_adjacency_list[1][i] not in cnv_16h_3_genes_list)):\n",
        "    noncnv_to_noncnv+=1\n",
        "    if(all_16_adjacency_list[0][i].startswith('YP')):\n",
        "      if(all_16_adjacency_list[0][i] not in propotions_c16_noncnv_to_noncnv):\n",
        "        propotions_c16_noncnv_to_noncnv.append(all_16_adjacency_list[0][i])\n",
        "    if(all_16_adjacency_list[1][i].startswith('YP')):\n",
        "      if(all_16_adjacency_list[1][i] not in propotions_c16_noncnv_to_noncnv):\n",
        "        propotions_c16_noncnv_to_noncnv.append(all_16_adjacency_list[1][i])\n",
        "\n",
        "prop_2 = len(propotions_c16_noncnv_to_noncnv)*100/len(c16_genes_list)\n",
        "(len(propotions_c16_noncnv_to_noncnv), prop_2)\n",
        "cnv_with_significance_16h_3.at['Prop N-N', 'c16'] = prop_2\n",
        "cnv_with_significance_16h_3.at['Count N-N', 'c16'] = len(propotions_c16_noncnv_to_noncnv)"
      ]
    },
    {
      "cell_type": "code",
      "execution_count": null,
      "metadata": {
        "id": "1KKMKryv9Glu"
      },
      "outputs": [],
      "source": [
        "propotions_c16_noncnv_to_noncnv = []\n",
        "noncnv_to_noncnv=0\n",
        "for i in range(len(all_16_adjacency_list)):\n",
        "  if ((all_16_adjacency_list[0][i] not in cnv_16h_2_genes_list) and (all_16_adjacency_list[1][i] not in cnv_16h_2_genes_list)):\n",
        "    noncnv_to_noncnv+=1\n",
        "    if(all_16_adjacency_list[0][i].startswith('YP')):\n",
        "      if(all_16_adjacency_list[0][i] not in propotions_c16_noncnv_to_noncnv):\n",
        "        propotions_c16_noncnv_to_noncnv.append(all_16_adjacency_list[0][i])\n",
        "    if(all_16_adjacency_list[1][i].startswith('YP')):\n",
        "      if(all_16_adjacency_list[1][i] not in propotions_c16_noncnv_to_noncnv):\n",
        "        propotions_c16_noncnv_to_noncnv.append(all_16_adjacency_list[1][i])\n",
        "\n",
        "prop_2 = len(propotions_c16_noncnv_to_noncnv)*100/len(c16_genes_list)\n",
        "(len(propotions_c16_noncnv_to_noncnv), prop_2)\n",
        "cnv_with_significance_16h_2.at['Prop N-N', 'c16'] = prop_2\n",
        "cnv_with_significance_16h_2.at['Count N-N', 'c16'] = len(propotions_c16_noncnv_to_noncnv)"
      ]
    },
    {
      "cell_type": "code",
      "execution_count": null,
      "metadata": {
        "id": "xpHCNmg35Pou"
      },
      "outputs": [],
      "source": [
        "propotions_c16_noncnv_to_noncnv = []\n",
        "noncnv_to_noncnv=0\n",
        "noncnv_to_noncnv_tpms = pd.DataFrame()\n",
        "gene_1_tpm = []\n",
        "gene_2_tpm = []\n",
        "for i in range(len(all_16_adjacency_list)):\n",
        "  if ((all_16_adjacency_list[0][i] not in cnv_genes_list) and (all_16_adjacency_list[1][i] not in cnv_genes_list)):\n",
        "    noncnv_to_noncnv+=1\n",
        "    if ((all_16_adjacency_list[0][i] in all_average_tpms.keys()) and (all_16_adjacency_list[1][i] in all_average_tpms.keys())):\n",
        "      gene_1_tpm.append(all_average_tpms[all_16_adjacency_list[0][i]])\n",
        "      gene_2_tpm.append(all_average_tpms[all_16_adjacency_list[1][i]])\n",
        "    if(all_16_adjacency_list[0][i].startswith('YP')):\n",
        "      if(all_16_adjacency_list[0][i] not in propotions_c16_noncnv_to_noncnv):\n",
        "        propotions_c16_noncnv_to_noncnv.append(all_16_adjacency_list[0][i])\n",
        "    if(all_16_adjacency_list[1][i].startswith('YP')):\n",
        "      if(all_16_adjacency_list[1][i] not in propotions_c16_noncnv_to_noncnv):\n",
        "        propotions_c16_noncnv_to_noncnv.append(all_16_adjacency_list[1][i])\n",
        "\n",
        "prop_2 = len(propotions_c16_noncnv_to_noncnv)*100/len(c16_genes_list)\n",
        "gene_1_tpm = list(map(int, gene_1_tpm))\n",
        "gene_2_tpm = list(map(int, gene_2_tpm))\n",
        "noncnv_to_noncnv_tpms['gene_1_tpm'] = gene_1_tpm\n",
        "noncnv_to_noncnv_tpms['gene_2_tpm'] = gene_2_tpm\n",
        "res = stats.spearmanr(noncnv_to_noncnv_tpms['gene_1_tpm'], noncnv_to_noncnv_tpms['gene_2_tpm'])\n",
        "cnv_with_significance_16h_1.at['Prop N-N', 'c16'] = prop_2\n",
        "cnv_with_significance_16h_1.at['Count N-N', 'c16'] = len(propotions_c16_noncnv_to_noncnv)"
      ]
    },
    {
      "cell_type": "code",
      "execution_count": null,
      "metadata": {
        "colab": {
          "base_uri": "https://localhost:8080/"
        },
        "id": "NdwY2hFymMQE",
        "outputId": "b9b55cb5-e538-4b98-8780-1d10c687498b"
      },
      "outputs": [
        {
          "data": {
            "text/plain": [
              "SpearmanrResult(correlation=0.1384762549519074, pvalue=0.27129770823537475)"
            ]
          },
          "execution_count": 83,
          "metadata": {},
          "output_type": "execute_result"
        }
      ],
      "source": [
        "res"
      ]
    },
    {
      "cell_type": "code",
      "execution_count": null,
      "metadata": {
        "colab": {
          "base_uri": "https://localhost:8080/"
        },
        "id": "H9qwCJ9HHFkT",
        "outputId": "48a9ed8b-ef6c-4ea2-8eae-f2af52ea85d1"
      },
      "outputs": [
        {
          "data": {
            "text/plain": [
              "2"
            ]
          },
          "execution_count": 42,
          "metadata": {},
          "output_type": "execute_result"
        }
      ],
      "source": [
        "len(propotions_c16_noncnv_to_noncnv)"
      ]
    },
    {
      "cell_type": "code",
      "execution_count": null,
      "metadata": {
        "id": "6FCmAPI71qpH"
      },
      "outputs": [],
      "source": [
        "propotions_c8_cnv_to_purely_noncnv=[]\n",
        "cnv_to_purely_noncnv=0\n",
        "for i in range(len(all_8_adjacency_list)):\n",
        "  if((all_8_adjacency_list[0][i] in cnv_16h_5_genes_list) ^ (all_8_adjacency_list[1][i] in cnv_16h_5_genes_list)):\n",
        "    if((all_8_adjacency_list[0][i] not in cnv_8_check_list) and (all_8_adjacency_list[1][i] not in cnv_8_check_list)):\n",
        "      cnv_to_purely_noncnv+=1\n",
        "      if(all_8_adjacency_list[0][i] in cnv_16h_5_genes_list):\n",
        "        if(all_8_adjacency_list[0][i].startswith('YH')): \n",
        "          if(all_8_adjacency_list[0][i] not in propotions_c8_cnv_to_purely_noncnv): \n",
        "            if (all_8_adjacency_list[0][i] not in propotions_c8_cnv_to_cnv):\n",
        "              propotions_c8_cnv_to_purely_noncnv.append(all_8_adjacency_list[0][i])\n",
        "      if (all_8_adjacency_list[1][i] in cnv_16h_5_genes_list):\n",
        "        if(all_8_adjacency_list[1][i].startswith('YH')):\n",
        "          if(all_8_adjacency_list[1][i] not in propotions_c8_cnv_to_purely_noncnv): \n",
        "            if(all_8_adjacency_list[1][i] not in propotions_c8_cnv_to_cnv):\n",
        "              propotions_c8_cnv_to_purely_noncnv.append(all_8_adjacency_list[1][i])\n",
        "propotions_c8_cnv_to_purely_noncnv = list(set(propotions_c8_cnv_to_purely_noncnv))\n",
        "prop_8_3 = len(propotions_c8_cnv_to_purely_noncnv)*100/len(c8_genes_list)\n",
        "(len(propotions_c8_cnv_to_purely_noncnv), prop_8_3)\n",
        "cnv_with_significance_16h_5.at['Prop C-N', 'c8'] = prop_8_3\n",
        "cnv_with_significance_16h_5.at['Count C-N', 'c8'] = len(propotions_c8_cnv_to_purely_noncnv)"
      ]
    },
    {
      "cell_type": "code",
      "execution_count": null,
      "metadata": {
        "id": "g6JjACKNj4SX"
      },
      "outputs": [],
      "source": [
        "propotions_c9_cnv_to_purely_noncnv=[]\n",
        "cnv_to_purely_noncnv=0\n",
        "for i in range(len(all_9_adjacency_list)):\n",
        "  if((all_9_adjacency_list[0][i] in cnv_16h_3_genes_list) ^ (all_9_adjacency_list[1][i] in cnv_16h_3_genes_list)):\n",
        "    if((all_9_adjacency_list[0][i] not in cnv_9_check_list) and (all_14_adjacency_list[1][i] not in cnv_9_check_list)):\n",
        "      cnv_to_purely_noncnv+=1\n",
        "      if(all_9_adjacency_list[0][i] in cnv_16h_3_genes_list):\n",
        "        if(all_9_adjacency_list[0][i].startswith('YI')): \n",
        "          if(all_9_adjacency_list[0][i] not in propotions_c9_cnv_to_purely_noncnv): \n",
        "            if (all_9_adjacency_list[0][i] not in propotions_c9_cnv_to_cnv):\n",
        "              propotions_c9_cnv_to_purely_noncnv.append(all_9_adjacency_list[0][i])\n",
        "      if (all_9_adjacency_list[1][i] in cnv_16h_3_genes_list):\n",
        "        if(all_9_adjacency_list[1][i].startswith('YI')):\n",
        "          if(all_9_adjacency_list[1][i] not in propotions_c9_cnv_to_purely_noncnv): \n",
        "            if(all_9_adjacency_list[1][i] not in propotions_c9_cnv_to_cnv):\n",
        "              propotions_c9_cnv_to_purely_noncnv.append(all_9_adjacency_list[1][i])\n",
        "propotions_c9_cnv_to_purely_noncnv = list(set(propotions_c9_cnv_to_purely_noncnv))\n",
        "prop_9_3 = len(propotions_c9_cnv_to_purely_noncnv)*100/len(c9_genes_list)\n",
        "(len(propotions_c9_cnv_to_purely_noncnv), prop_9_3)\n",
        "cnv_with_significance_16h_3.at['Prop C-N', 'c9'] = prop_9_3\n",
        "cnv_with_significance_16h_3.at['Count C-N', 'c9'] = len(propotions_c9_cnv_to_purely_noncnv)"
      ]
    },
    {
      "cell_type": "code",
      "execution_count": null,
      "metadata": {
        "colab": {
          "base_uri": "https://localhost:8080/"
        },
        "id": "cXRvxKvdoFyI",
        "outputId": "0f86b607-b23f-4aed-a1dd-f4047481a31e"
      },
      "outputs": [
        {
          "data": {
            "text/plain": [
              "99.51219512195122"
            ]
          },
          "execution_count": 83,
          "metadata": {},
          "output_type": "execute_result"
        }
      ],
      "source": [
        "prop_9_1 + prop_9_2 + prop_9_3"
      ]
    },
    {
      "cell_type": "code",
      "execution_count": null,
      "metadata": {
        "id": "AawKXyNjXyow"
      },
      "outputs": [],
      "source": [
        "propotions_c14_cnv_to_purely_noncnv=[]\n",
        "cnv_to_purely_noncnv=0\n",
        "for i in range(len(all_14_adjacency_list)):\n",
        "  if((all_14_adjacency_list[0][i] in cnv_16h_2_genes_list) ^ (all_14_adjacency_list[1][i] in cnv_16h_2_genes_list)):\n",
        "    if((all_14_adjacency_list[0][i] not in cnv_14_check_list) and (all_14_adjacency_list[1][i] not in cnv_14_check_list)):\n",
        "      cnv_to_purely_noncnv+=1\n",
        "      if(all_14_adjacency_list[0][i] in cnv_16h_2_genes_list):\n",
        "        if(all_14_adjacency_list[0][i].startswith('YN')): \n",
        "          if(all_14_adjacency_list[0][i] not in propotions_c14_cnv_to_purely_noncnv): \n",
        "            if (all_14_adjacency_list[0][i] not in propotions_c14_cnv_to_cnv):\n",
        "              propotions_c14_cnv_to_purely_noncnv.append(all_14_adjacency_list[0][i])\n",
        "      if (all_14_adjacency_list[1][i] in cnv_16h_2_genes_list):\n",
        "        if(all_14_adjacency_list[1][i].startswith('YN')):\n",
        "          if(all_14_adjacency_list[1][i] not in propotions_c14_cnv_to_purely_noncnv): \n",
        "            if(all_14_adjacency_list[1][i] not in propotions_c14_cnv_to_cnv):\n",
        "              propotions_c14_cnv_to_purely_noncnv.append(all_14_adjacency_list[1][i])\n",
        "propotions_c14_cnv_to_purely_noncnv = list(set(propotions_c14_cnv_to_purely_noncnv))\n",
        "prop_14_3 = len(propotions_c14_cnv_to_purely_noncnv)*100/len(c14_genes_list)\n",
        "(len(propotions_c14_cnv_to_purely_noncnv), prop_14_3)\n",
        "cnv_with_significance_16h_2.at['Prop C-N', 'c14'] = prop_14_3\n",
        "cnv_with_significance_16h_2.at['Count C-N', 'c14'] = len(propotions_c14_cnv_to_purely_noncnv)"
      ]
    },
    {
      "cell_type": "code",
      "execution_count": null,
      "metadata": {
        "id": "DUM6C5bXybOc"
      },
      "outputs": [],
      "source": [
        "propotions_c6_cnv_to_purely_noncnv=[]\n",
        "cnv_to_purely_noncnv=0\n",
        "for i in range(len(all_6_adjacency_list)):\n",
        "  if((all_6_adjacency_list[0][i] in cnv_16h_8_genes_list) ^ (all_6_adjacency_list[1][i] in cnv_16h_8_genes_list)):\n",
        "    if((all_6_adjacency_list[0][i] not in cnv_6_check_list) and (all_6_adjacency_list[1][i] not in cnv_6_check_list)):\n",
        "      cnv_to_purely_noncnv+=1\n",
        "      if(all_6_adjacency_list[0][i] in cnv_16h_8_genes_list):\n",
        "        if(all_6_adjacency_list[0][i].startswith('YF')): \n",
        "          if(all_6_adjacency_list[0][i] not in propotions_c6_cnv_to_purely_noncnv): \n",
        "            if (all_6_adjacency_list[0][i] not in propotions_c6_cnv_to_cnv):\n",
        "              propotions_c6_cnv_to_purely_noncnv.append(all_6_adjacency_list[0][i])\n",
        "      if (all_6_adjacency_list[1][i] in cnv_16h_8_genes_list):\n",
        "        if(all_6_adjacency_list[1][i].startswith('YF')):\n",
        "          if(all_6_adjacency_list[1][i] not in propotions_c6_cnv_to_purely_noncnv): \n",
        "            if(all_6_adjacency_list[1][i] not in propotions_c6_cnv_to_cnv):\n",
        "              propotions_c6_cnv_to_purely_noncnv.append(all_6_adjacency_list[1][i])\n",
        "propotions_c6_cnv_to_purely_noncnv = list(set(propotions_c6_cnv_to_purely_noncnv))\n",
        "prop_6_3 = len(propotions_c6_cnv_to_purely_noncnv)*100/len(c6_genes_list)\n",
        "(len(propotions_c6_cnv_to_purely_noncnv), prop_6_3)\n",
        "cnv_with_significance_16h_8.at['Prop C-N', 'c6'] = prop_6_3\n",
        "cnv_with_significance_16h_8.at['Count C-N', 'c6'] = len(propotions_c6_cnv_to_purely_noncnv)"
      ]
    },
    {
      "cell_type": "code",
      "execution_count": null,
      "metadata": {
        "id": "w19xzVULwUJ6"
      },
      "outputs": [],
      "source": [
        "propotions_c6_cnv_to_purely_noncnv=[]\n",
        "cnv_to_purely_noncnv=0\n",
        "for i in range(len(all_6_adjacency_list)):\n",
        "  if((all_6_adjacency_list[0][i] in cnv_16h_7_genes_list) ^ (all_6_adjacency_list[1][i] in cnv_16h_7_genes_list)):\n",
        "    if((all_6_adjacency_list[0][i] not in cnv_6_check_list) and (all_6_adjacency_list[1][i] not in cnv_6_check_list)):\n",
        "      cnv_to_purely_noncnv+=1\n",
        "      if(all_6_adjacency_list[0][i] in cnv_16h_7_genes_list):\n",
        "        if(all_6_adjacency_list[0][i].startswith('YF')): \n",
        "          if(all_6_adjacency_list[0][i] not in propotions_c6_cnv_to_purely_noncnv): \n",
        "            if (all_6_adjacency_list[0][i] not in propotions_c6_cnv_to_cnv):\n",
        "              propotions_c6_cnv_to_purely_noncnv.append(all_6_adjacency_list[0][i])\n",
        "      if (all_6_adjacency_list[1][i] in cnv_16h_7_genes_list):\n",
        "        if(all_6_adjacency_list[1][i].startswith('YF')):\n",
        "          if(all_6_adjacency_list[1][i] not in propotions_c6_cnv_to_purely_noncnv): \n",
        "            if(all_6_adjacency_list[1][i] not in propotions_c6_cnv_to_cnv):\n",
        "              propotions_c6_cnv_to_purely_noncnv.append(all_6_adjacency_list[1][i])\n",
        "propotions_c6_cnv_to_purely_noncnv = list(set(propotions_c6_cnv_to_purely_noncnv))\n",
        "prop_6_3 = len(propotions_c6_cnv_to_purely_noncnv)*100/len(c6_genes_list)\n",
        "(len(propotions_c6_cnv_to_purely_noncnv), prop_6_3)\n",
        "cnv_with_significance_16h_7.at['Prop C-N', 'c6'] = prop_6_3\n",
        "cnv_with_significance_16h_7.at['Count C-N', 'c6'] = len(propotions_c6_cnv_to_purely_noncnv)"
      ]
    },
    {
      "cell_type": "code",
      "execution_count": null,
      "metadata": {
        "id": "ANYnshYPuCtm"
      },
      "outputs": [],
      "source": [
        "propotions_c6_cnv_to_purely_noncnv=[]\n",
        "cnv_to_purely_noncnv=0\n",
        "for i in range(len(all_6_adjacency_list)):\n",
        "  if((all_6_adjacency_list[0][i] in cnv_16h_6_genes_list) ^ (all_6_adjacency_list[1][i] in cnv_16h_6_genes_list)):\n",
        "    if((all_6_adjacency_list[0][i] not in cnv_6_check_list) and (all_6_adjacency_list[1][i] not in cnv_6_check_list)):\n",
        "      cnv_to_purely_noncnv+=1\n",
        "      if(all_6_adjacency_list[0][i] in cnv_16h_6_genes_list):\n",
        "        if(all_6_adjacency_list[0][i].startswith('YF')): \n",
        "          if(all_6_adjacency_list[0][i] not in propotions_c6_cnv_to_purely_noncnv): \n",
        "            if (all_6_adjacency_list[0][i] not in propotions_c6_cnv_to_cnv):\n",
        "              propotions_c6_cnv_to_purely_noncnv.append(all_6_adjacency_list[0][i])\n",
        "      if (all_6_adjacency_list[1][i] in cnv_16h_6_genes_list):\n",
        "        if(all_6_adjacency_list[1][i].startswith('YF')):\n",
        "          if(all_6_adjacency_list[1][i] not in propotions_c6_cnv_to_purely_noncnv): \n",
        "            if(all_6_adjacency_list[1][i] not in propotions_c6_cnv_to_cnv):\n",
        "              propotions_c6_cnv_to_purely_noncnv.append(all_6_adjacency_list[1][i])\n",
        "propotions_c6_cnv_to_purely_noncnv = list(set(propotions_c6_cnv_to_purely_noncnv))\n",
        "prop_6_3 = len(propotions_c6_cnv_to_purely_noncnv)*100/len(c6_genes_list)\n",
        "(len(propotions_c6_cnv_to_purely_noncnv), prop_6_3)\n",
        "cnv_with_significance_16h_6.at['Prop C-N', 'c6'] = prop_6_3\n",
        "cnv_with_significance_16h_6.at['Count C-N', 'c6'] = len(propotions_c6_cnv_to_purely_noncnv)"
      ]
    },
    {
      "cell_type": "code",
      "execution_count": null,
      "metadata": {
        "id": "qqJkIeU53gE2"
      },
      "outputs": [],
      "source": [
        "propotions_c6_cnv_to_purely_noncnv=[]\n",
        "cnv_to_purely_noncnv=0\n",
        "for i in range(len(all_6_adjacency_list)):\n",
        "  if((all_6_adjacency_list[0][i] in cnv_16h_5_genes_list) ^ (all_6_adjacency_list[1][i] in cnv_16h_5_genes_list)):\n",
        "    if((all_6_adjacency_list[0][i] not in cnv_6_check_list) and (all_6_adjacency_list[1][i] not in cnv_6_check_list)):\n",
        "      cnv_to_purely_noncnv+=1\n",
        "      if(all_6_adjacency_list[0][i] in cnv_16h_5_genes_list):\n",
        "        if(all_6_adjacency_list[0][i].startswith('YF')): \n",
        "          if(all_6_adjacency_list[0][i] not in propotions_c6_cnv_to_purely_noncnv): \n",
        "            if (all_6_adjacency_list[0][i] not in propotions_c6_cnv_to_cnv):\n",
        "              propotions_c6_cnv_to_purely_noncnv.append(all_6_adjacency_list[0][i])\n",
        "      if (all_6_adjacency_list[1][i] in cnv_16h_5_genes_list):\n",
        "        if(all_6_adjacency_list[1][i].startswith('YF')):\n",
        "          if(all_6_adjacency_list[1][i] not in propotions_c6_cnv_to_purely_noncnv): \n",
        "            if(all_6_adjacency_list[1][i] not in propotions_c6_cnv_to_cnv):\n",
        "              propotions_c6_cnv_to_purely_noncnv.append(all_6_adjacency_list[1][i])\n",
        "propotions_c6_cnv_to_purely_noncnv = list(set(propotions_c6_cnv_to_purely_noncnv))\n",
        "prop_6_3 = len(propotions_c6_cnv_to_purely_noncnv)*100/len(c6_genes_list)\n",
        "(len(propotions_c6_cnv_to_purely_noncnv), prop_6_3)\n",
        "cnv_with_significance_16h_5.at['Prop C-N', 'c6'] = prop_6_3\n",
        "cnv_with_significance_16h_5.at['Count C-N', 'c6'] = len(propotions_c6_cnv_to_purely_noncnv)"
      ]
    },
    {
      "cell_type": "code",
      "execution_count": null,
      "metadata": {
        "id": "T1e_FhC07nvh"
      },
      "outputs": [],
      "source": [
        "propotions_c6_cnv_to_purely_noncnv=[]\n",
        "cnv_to_purely_noncnv=0\n",
        "for i in range(len(all_6_adjacency_list)):\n",
        "  if((all_6_adjacency_list[0][i] in cnv_16h_4_genes_list) ^ (all_6_adjacency_list[1][i] in cnv_16h_4_genes_list)):\n",
        "    if((all_6_adjacency_list[0][i] not in cnv_6_check_list) and (all_6_adjacency_list[1][i] not in cnv_6_check_list)):\n",
        "      cnv_to_purely_noncnv+=1\n",
        "      if(all_6_adjacency_list[0][i] in cnv_16h_4_genes_list):\n",
        "        if(all_6_adjacency_list[0][i].startswith('YF')): \n",
        "          if(all_6_adjacency_list[0][i] not in propotions_c6_cnv_to_purely_noncnv): \n",
        "            if (all_6_adjacency_list[0][i] not in propotions_c6_cnv_to_cnv):\n",
        "              propotions_c6_cnv_to_purely_noncnv.append(all_6_adjacency_list[0][i])\n",
        "      if (all_6_adjacency_list[1][i] in cnv_16h_4_genes_list):\n",
        "        if(all_6_adjacency_list[1][i].startswith('YF')):\n",
        "          if(all_6_adjacency_list[1][i] not in propotions_c6_cnv_to_purely_noncnv): \n",
        "            if(all_6_adjacency_list[1][i] not in propotions_c6_cnv_to_cnv):\n",
        "              propotions_c6_cnv_to_purely_noncnv.append(all_6_adjacency_list[1][i])\n",
        "propotions_c6_cnv_to_purely_noncnv = list(set(propotions_c6_cnv_to_purely_noncnv))\n",
        "prop_6_3 = len(propotions_c6_cnv_to_purely_noncnv)*100/len(c6_genes_list)\n",
        "(len(propotions_c6_cnv_to_purely_noncnv), prop_6_3)\n",
        "cnv_with_significance_16h_4.at['Prop C-N', 'c6'] = prop_6_3\n",
        "cnv_with_significance_16h_4.at['Count C-N', 'c6'] = len(propotions_c6_cnv_to_purely_noncnv)"
      ]
    },
    {
      "cell_type": "code",
      "execution_count": null,
      "metadata": {
        "id": "LKLUJNjaxOmB"
      },
      "outputs": [],
      "source": [
        "propotions_c6_cnv_to_purely_noncnv=[]\n",
        "cnv_to_purely_noncnv=0\n",
        "for i in range(len(all_6_adjacency_list)):\n",
        "  if((all_6_adjacency_list[0][i] in cnv_16h_3_genes_list) ^ (all_6_adjacency_list[1][i] in cnv_16h_3_genes_list)):\n",
        "    if((all_6_adjacency_list[0][i] not in cnv_6_check_list) and (all_6_adjacency_list[1][i] not in cnv_6_check_list)):\n",
        "      cnv_to_purely_noncnv+=1\n",
        "      if(all_6_adjacency_list[0][i] in cnv_16h_3_genes_list):\n",
        "        if(all_6_adjacency_list[0][i].startswith('YF')): \n",
        "          if(all_6_adjacency_list[0][i] not in propotions_c6_cnv_to_purely_noncnv): \n",
        "            if (all_6_adjacency_list[0][i] not in propotions_c6_cnv_to_cnv):\n",
        "              propotions_c6_cnv_to_purely_noncnv.append(all_6_adjacency_list[0][i])\n",
        "      if (all_6_adjacency_list[1][i] in cnv_16h_3_genes_list):\n",
        "        if(all_6_adjacency_list[1][i].startswith('YF')):\n",
        "          if(all_6_adjacency_list[1][i] not in propotions_c6_cnv_to_purely_noncnv): \n",
        "            if(all_6_adjacency_list[1][i] not in propotions_c6_cnv_to_cnv):\n",
        "              propotions_c6_cnv_to_purely_noncnv.append(all_6_adjacency_list[1][i])\n",
        "propotions_c6_cnv_to_purely_noncnv = list(set(propotions_c6_cnv_to_purely_noncnv))\n",
        "prop_6_3 = len(propotions_c6_cnv_to_purely_noncnv)*100/len(c6_genes_list)\n",
        "(len(propotions_c6_cnv_to_purely_noncnv), prop_6_3)\n",
        "cnv_with_significance_16h_3.at['Prop C-N', 'c6'] = prop_6_3\n",
        "cnv_with_significance_16h_3.at['Count C-N', 'c6'] = len(propotions_c6_cnv_to_purely_noncnv)"
      ]
    },
    {
      "cell_type": "code",
      "execution_count": null,
      "metadata": {
        "id": "ebz0WYBB-mxJ"
      },
      "outputs": [],
      "source": [
        "propotions_c6_cnv_to_purely_noncnv=[]\n",
        "cnv_to_purely_noncnv=0\n",
        "for i in range(len(all_6_adjacency_list)):\n",
        "  if((all_6_adjacency_list[0][i] in cnv_16h_2_genes_list) ^ (all_6_adjacency_list[1][i] in cnv_16h_2_genes_list)):\n",
        "    if((all_6_adjacency_list[0][i] not in cnv_6_check_list) and (all_6_adjacency_list[1][i] not in cnv_6_check_list)):\n",
        "      cnv_to_purely_noncnv+=1\n",
        "      if(all_6_adjacency_list[0][i] in cnv_16h_2_genes_list):\n",
        "        if(all_6_adjacency_list[0][i].startswith('YF')): \n",
        "          if(all_6_adjacency_list[0][i] not in propotions_c6_cnv_to_purely_noncnv): \n",
        "            if (all_6_adjacency_list[0][i] not in propotions_c6_cnv_to_cnv):\n",
        "              propotions_c6_cnv_to_purely_noncnv.append(all_6_adjacency_list[0][i])\n",
        "      if (all_6_adjacency_list[1][i] in cnv_16h_2_genes_list):\n",
        "        if(all_6_adjacency_list[1][i].startswith('YF')):\n",
        "          if(all_6_adjacency_list[1][i] not in propotions_c6_cnv_to_purely_noncnv): \n",
        "            if(all_6_adjacency_list[1][i] not in propotions_c6_cnv_to_cnv):\n",
        "              propotions_c6_cnv_to_purely_noncnv.append(all_6_adjacency_list[1][i])\n",
        "propotions_c6_cnv_to_purely_noncnv = list(set(propotions_c6_cnv_to_purely_noncnv))\n",
        "prop_6_3 = len(propotions_c6_cnv_to_purely_noncnv)*100/119\n",
        "(len(propotions_c6_cnv_to_purely_noncnv), prop_6_3)\n",
        "cnv_with_significance_16h_2.at['Prop C-N', 'c6'] = prop_6_3\n",
        "cnv_with_significance_16h_2.at['Count C-N', 'c6'] = len(propotions_c6_cnv_to_purely_noncnv)"
      ]
    },
    {
      "cell_type": "code",
      "execution_count": null,
      "metadata": {
        "colab": {
          "base_uri": "https://localhost:8080/"
        },
        "id": "SPUoV_vO_kGL",
        "outputId": "45c3c054-494a-4d55-b322-3f16820f62ae"
      },
      "outputs": [
        {
          "data": {
            "text/plain": [
              "100.0"
            ]
          },
          "execution_count": 249,
          "metadata": {},
          "output_type": "execute_result"
        }
      ],
      "source": [
        "prop_6_3 + prop_6_1 + prop_6_2"
      ]
    },
    {
      "cell_type": "code",
      "execution_count": null,
      "metadata": {
        "id": "BTvSFoKPlTPz"
      },
      "outputs": [],
      "source": [
        "propotions_c6_cnv_to_purely_noncnv=[]\n",
        "cnv_to_purely_noncnv=0\n",
        "for i in range(len(all_6_adjacency_list)):\n",
        "  if((all_6_adjacency_list[0][i] in cnv_genes_list) ^ (all_6_adjacency_list[1][i] in cnv_genes_list)):\n",
        "    if((all_6_adjacency_list[0][i] not in cnv_6_check_list) and (all_6_adjacency_list[1][i] not in cnv_6_check_list)):\n",
        "      cnv_to_purely_noncnv+=1\n",
        "      if(all_6_adjacency_list[0][i] in cnv_genes_list):\n",
        "        if(all_6_adjacency_list[0][i].startswith('YF')): \n",
        "          if(all_6_adjacency_list[0][i] not in propotions_c6_cnv_to_purely_noncnv): \n",
        "            if (all_6_adjacency_list[0][i] not in propotions_c6_cnv_to_cnv):\n",
        "              propotions_c6_cnv_to_purely_noncnv.append(all_6_adjacency_list[0][i])\n",
        "      if (all_6_adjacency_list[1][i] in cnv_genes_list):\n",
        "        if(all_6_adjacency_list[1][i].startswith('YF')):\n",
        "          if(all_6_adjacency_list[1][i] not in propotions_c6_cnv_to_purely_noncnv): \n",
        "            if(all_6_adjacency_list[1][i] not in propotions_c6_cnv_to_cnv):\n",
        "              propotions_c6_cnv_to_purely_noncnv.append(all_6_adjacency_list[1][i])\n",
        "propotions_c6_cnv_to_purely_noncnv = list(set(propotions_c6_cnv_to_purely_noncnv))\n",
        "prop_6_3 = len(propotions_c6_cnv_to_purely_noncnv)*100/len(c6_genes_list)\n",
        "(len(propotions_c6_cnv_to_purely_noncnv), prop_6_3)\n",
        "cnv_with_significance_16h_1.at['Prop C-N', 'c6'] = prop_6_3\n",
        "cnv_with_significance_16h_1.at['Count C-N', 'c6'] = len(propotions_c6_cnv_to_purely_noncnv)"
      ]
    },
    {
      "cell_type": "code",
      "execution_count": null,
      "metadata": {
        "id": "C4C_0QVxzQfb"
      },
      "outputs": [],
      "source": [
        "propotions_c3_cnv_to_purely_noncnv=[]\n",
        "cnv_to_purely_noncnv=0\n",
        "for i in range(len(all_3_adjacency_list)):\n",
        "  if((all_3_adjacency_list[0][i] in cnv_16h_3_genes_list) ^ (all_3_adjacency_list[1][i] in cnv_16h_3_genes_list)):\n",
        "    if((all_3_adjacency_list[0][i] not in cnv_3_check_list) and (all_3_adjacency_list[1][i] not in cnv_3_check_list)):\n",
        "      cnv_to_purely_noncnv+=1\n",
        "      if(all_3_adjacency_list[0][i] in cnv_16h_3_genes_list):\n",
        "        if(all_3_adjacency_list[0][i].startswith('YC')): \n",
        "          if(all_3_adjacency_list[0][i] not in propotions_c3_cnv_to_purely_noncnv): \n",
        "            if (all_3_adjacency_list[0][i] not in propotions_c3_cnv_to_cnv):\n",
        "              propotions_c3_cnv_to_purely_noncnv.append(all_3_adjacency_list[0][i])\n",
        "      if (all_3_adjacency_list[1][i] in cnv_16h_3_genes_list):\n",
        "        if(all_3_adjacency_list[1][i].startswith('YC')):\n",
        "          if(all_3_adjacency_list[1][i] not in propotions_c3_cnv_to_purely_noncnv): \n",
        "            if(all_3_adjacency_list[1][i] not in propotions_c3_cnv_to_cnv):\n",
        "              propotions_c3_cnv_to_purely_noncnv.append(all_3_adjacency_list[1][i])\n",
        "propotions_c3_cnv_to_purely_noncnv = list(set(propotions_c3_cnv_to_purely_noncnv))\n",
        "prop_3_3 = len(propotions_c3_cnv_to_purely_noncnv)*100/len(c3_genes_list)\n",
        "(len(propotions_c3_cnv_to_purely_noncnv), prop_3_3)\n",
        "cnv_with_significance_16h_3.at['Prop C-N', 'c3'] = prop_3_3\n",
        "cnv_with_significance_16h_3.at['Count C-N', 'c3'] = len(propotions_c3_cnv_to_purely_noncnv)"
      ]
    },
    {
      "cell_type": "code",
      "execution_count": null,
      "metadata": {
        "id": "wQ9aYqzop0vQ"
      },
      "outputs": [],
      "source": [
        "propotions_c3_cnv_to_purely_noncnv=[]\n",
        "cnv_to_purely_noncnv=0\n",
        "for i in range(len(all_3_adjacency_list)):\n",
        "  if((all_3_adjacency_list[0][i] in cnv_16h_4_genes_list) ^ (all_3_adjacency_list[1][i] in cnv_16h_4_genes_list)):\n",
        "    if((all_3_adjacency_list[0][i] not in cnv_3_check_list) and (all_3_adjacency_list[1][i] not in cnv_3_check_list)):\n",
        "      cnv_to_purely_noncnv+=1\n",
        "      if(all_3_adjacency_list[0][i] in cnv_16h_4_genes_list):\n",
        "        if(all_3_adjacency_list[0][i].startswith('YC')): \n",
        "          if(all_3_adjacency_list[0][i] not in propotions_c3_cnv_to_purely_noncnv): \n",
        "            if (all_3_adjacency_list[0][i] not in propotions_c3_cnv_to_cnv):\n",
        "              propotions_c3_cnv_to_purely_noncnv.append(all_3_adjacency_list[0][i])\n",
        "      if (all_3_adjacency_list[1][i] in cnv_16h_4_genes_list):\n",
        "        if(all_3_adjacency_list[1][i].startswith('YC')):\n",
        "          if(all_3_adjacency_list[1][i] not in propotions_c3_cnv_to_purely_noncnv): \n",
        "            if(all_3_adjacency_list[1][i] not in propotions_c3_cnv_to_cnv):\n",
        "              propotions_c3_cnv_to_purely_noncnv.append(all_3_adjacency_list[1][i])\n",
        "propotions_c3_cnv_to_purely_noncnv = list(set(propotions_c3_cnv_to_purely_noncnv))\n",
        "prop_3_3 = len(propotions_c3_cnv_to_purely_noncnv)*100/len(c3_genes_list)\n",
        "(len(propotions_c3_cnv_to_purely_noncnv), prop_3_3)\n",
        "cnv_with_significance_16h_4.at['Prop C-N', 'c3'] = prop_3_3\n",
        "cnv_with_significance_16h_4.at['Count C-N', 'c3'] = len(propotions_c3_cnv_to_purely_noncnv)"
      ]
    },
    {
      "cell_type": "code",
      "execution_count": null,
      "metadata": {
        "id": "S1Tsuy6z3wxR"
      },
      "outputs": [],
      "source": [
        "propotions_c3_cnv_to_purely_noncnv=[]\n",
        "cnv_to_purely_noncnv=0\n",
        "for i in range(len(all_3_adjacency_list)):\n",
        "  if((all_3_adjacency_list[0][i] in cnv_16h_5_genes_list) ^ (all_3_adjacency_list[1][i] in cnv_16h_5_genes_list)):\n",
        "    if((all_3_adjacency_list[0][i] not in cnv_3_check_list) and (all_3_adjacency_list[1][i] not in cnv_3_check_list)):\n",
        "      cnv_to_purely_noncnv+=1\n",
        "      if(all_3_adjacency_list[0][i] in cnv_16h_5_genes_list):\n",
        "        if(all_3_adjacency_list[0][i].startswith('YC')): \n",
        "          if(all_3_adjacency_list[0][i] not in propotions_c3_cnv_to_purely_noncnv): \n",
        "            if (all_3_adjacency_list[0][i] not in propotions_c3_cnv_to_cnv):\n",
        "              propotions_c3_cnv_to_purely_noncnv.append(all_3_adjacency_list[0][i])\n",
        "      if (all_3_adjacency_list[1][i] in cnv_16h_5_genes_list):\n",
        "        if(all_3_adjacency_list[1][i].startswith('YC')):\n",
        "          if(all_3_adjacency_list[1][i] not in propotions_c3_cnv_to_purely_noncnv): \n",
        "            if(all_3_adjacency_list[1][i] not in propotions_c3_cnv_to_cnv):\n",
        "              propotions_c3_cnv_to_purely_noncnv.append(all_3_adjacency_list[1][i])\n",
        "propotions_c3_cnv_to_purely_noncnv = list(set(propotions_c3_cnv_to_purely_noncnv))\n",
        "prop_3_3 = len(propotions_c3_cnv_to_purely_noncnv)*100/len(c3_genes_list)\n",
        "(len(propotions_c3_cnv_to_purely_noncnv), prop_3_3)\n",
        "cnv_with_significance_16h_5.at['Prop C-N', 'c3'] = prop_3_3\n",
        "cnv_with_significance_16h_5.at['Count C-N', 'c3'] = len(propotions_c3_cnv_to_purely_noncnv)"
      ]
    },
    {
      "cell_type": "code",
      "execution_count": null,
      "metadata": {
        "id": "HhyLPkpxuTvG"
      },
      "outputs": [],
      "source": [
        "propotions_c3_cnv_to_purely_noncnv=[]\n",
        "cnv_to_purely_noncnv=0\n",
        "for i in range(len(all_3_adjacency_list)):\n",
        "  if((all_3_adjacency_list[0][i] in cnv_16h_6_genes_list) ^ (all_3_adjacency_list[1][i] in cnv_16h_6_genes_list)):\n",
        "    if((all_3_adjacency_list[0][i] not in cnv_3_check_list) and (all_3_adjacency_list[1][i] not in cnv_3_check_list)):\n",
        "      cnv_to_purely_noncnv+=1\n",
        "      if(all_3_adjacency_list[0][i] in cnv_16h_6_genes_list):\n",
        "        if(all_3_adjacency_list[0][i].startswith('YC')): \n",
        "          if(all_3_adjacency_list[0][i] not in propotions_c3_cnv_to_purely_noncnv): \n",
        "            if (all_3_adjacency_list[0][i] not in propotions_c3_cnv_to_cnv):\n",
        "              propotions_c3_cnv_to_purely_noncnv.append(all_3_adjacency_list[0][i])\n",
        "      if (all_3_adjacency_list[1][i] in cnv_16h_6_genes_list):\n",
        "        if(all_3_adjacency_list[1][i].startswith('YC')):\n",
        "          if(all_3_adjacency_list[1][i] not in propotions_c3_cnv_to_purely_noncnv): \n",
        "            if(all_3_adjacency_list[1][i] not in propotions_c3_cnv_to_cnv):\n",
        "              propotions_c3_cnv_to_purely_noncnv.append(all_3_adjacency_list[1][i])\n",
        "propotions_c3_cnv_to_purely_noncnv = list(set(propotions_c3_cnv_to_purely_noncnv))\n",
        "prop_3_3 = len(propotions_c3_cnv_to_purely_noncnv)*100/len(c3_genes_list)\n",
        "(len(propotions_c3_cnv_to_purely_noncnv), prop_3_3)\n",
        "cnv_with_significance_16h_6.at['Prop C-N', 'c3'] = prop_3_3\n",
        "cnv_with_significance_16h_6.at['Count C-N', 'c3'] = len(propotions_c3_cnv_to_purely_noncnv)"
      ]
    },
    {
      "cell_type": "code",
      "execution_count": null,
      "metadata": {
        "id": "7sGuf8CawgK8"
      },
      "outputs": [],
      "source": [
        "propotions_c3_cnv_to_purely_noncnv=[]\n",
        "cnv_to_purely_noncnv=0\n",
        "for i in range(len(all_3_adjacency_list)):\n",
        "  if((all_3_adjacency_list[0][i] in cnv_16h_7_genes_list) ^ (all_3_adjacency_list[1][i] in cnv_16h_7_genes_list)):\n",
        "    if((all_3_adjacency_list[0][i] not in cnv_3_check_list) and (all_3_adjacency_list[1][i] not in cnv_3_check_list)):\n",
        "      cnv_to_purely_noncnv+=1\n",
        "      if(all_3_adjacency_list[0][i] in cnv_16h_7_genes_list):\n",
        "        if(all_3_adjacency_list[0][i].startswith('YC')): \n",
        "          if(all_3_adjacency_list[0][i] not in propotions_c3_cnv_to_purely_noncnv): \n",
        "            if (all_3_adjacency_list[0][i] not in propotions_c3_cnv_to_cnv):\n",
        "              propotions_c3_cnv_to_purely_noncnv.append(all_3_adjacency_list[0][i])\n",
        "      if (all_3_adjacency_list[1][i] in cnv_16h_7_genes_list):\n",
        "        if(all_3_adjacency_list[1][i].startswith('YC')):\n",
        "          if(all_3_adjacency_list[1][i] not in propotions_c3_cnv_to_purely_noncnv): \n",
        "            if(all_3_adjacency_list[1][i] not in propotions_c3_cnv_to_cnv):\n",
        "              propotions_c3_cnv_to_purely_noncnv.append(all_3_adjacency_list[1][i])\n",
        "propotions_c3_cnv_to_purely_noncnv = list(set(propotions_c3_cnv_to_purely_noncnv))\n",
        "prop_3_3 = len(propotions_c3_cnv_to_purely_noncnv)*100/len(c3_genes_list)\n",
        "(len(propotions_c3_cnv_to_purely_noncnv), prop_3_3)\n",
        "cnv_with_significance_16h_7.at['Prop C-N', 'c3'] = prop_3_3\n",
        "cnv_with_significance_16h_7.at['Count C-N', 'c3'] = len(propotions_c3_cnv_to_purely_noncnv)"
      ]
    },
    {
      "cell_type": "code",
      "execution_count": null,
      "metadata": {
        "id": "dAznKI2Ryo-l"
      },
      "outputs": [],
      "source": [
        "propotions_c3_cnv_to_purely_noncnv=[]\n",
        "cnv_to_purely_noncnv=0\n",
        "for i in range(len(all_3_adjacency_list)):\n",
        "  if((all_3_adjacency_list[0][i] in cnv_16h_8_genes_list) ^ (all_3_adjacency_list[1][i] in cnv_16h_8_genes_list)):\n",
        "    if((all_3_adjacency_list[0][i] not in cnv_3_check_list) and (all_3_adjacency_list[1][i] not in cnv_3_check_list)):\n",
        "      cnv_to_purely_noncnv+=1\n",
        "      if(all_3_adjacency_list[0][i] in cnv_16h_8_genes_list):\n",
        "        if(all_3_adjacency_list[0][i].startswith('YC')): \n",
        "          if(all_3_adjacency_list[0][i] not in propotions_c3_cnv_to_purely_noncnv): \n",
        "            if (all_3_adjacency_list[0][i] not in propotions_c3_cnv_to_cnv):\n",
        "              propotions_c3_cnv_to_purely_noncnv.append(all_3_adjacency_list[0][i])\n",
        "      if (all_3_adjacency_list[1][i] in cnv_16h_8_genes_list):\n",
        "        if(all_3_adjacency_list[1][i].startswith('YC')):\n",
        "          if(all_3_adjacency_list[1][i] not in propotions_c3_cnv_to_purely_noncnv): \n",
        "            if(all_3_adjacency_list[1][i] not in propotions_c3_cnv_to_cnv):\n",
        "              propotions_c3_cnv_to_purely_noncnv.append(all_3_adjacency_list[1][i])\n",
        "propotions_c3_cnv_to_purely_noncnv = list(set(propotions_c3_cnv_to_purely_noncnv))\n",
        "prop_3_3 = len(propotions_c3_cnv_to_purely_noncnv)*100/len(c3_genes_list)\n",
        "(len(propotions_c3_cnv_to_purely_noncnv), prop_3_3)\n",
        "cnv_with_significance_16h_8.at['Prop C-N', 'c3'] = prop_3_3\n",
        "cnv_with_significance_16h_8.at['Count C-N', 'c3'] = len(propotions_c3_cnv_to_purely_noncnv)"
      ]
    },
    {
      "cell_type": "code",
      "execution_count": null,
      "metadata": {
        "id": "Nkp3yDo2ago9"
      },
      "outputs": [],
      "source": [
        "propotions_c3_cnv_to_purely_noncnv=[]\n",
        "cnv_to_purely_noncnv=0\n",
        "for i in range(len(all_3_adjacency_list)):\n",
        "  if((all_3_adjacency_list[0][i] in cnv_16h_2_genes_list) ^ (all_3_adjacency_list[1][i] in cnv_16h_2_genes_list)):\n",
        "    if((all_3_adjacency_list[0][i] not in cnv_3_check_list) and (all_3_adjacency_list[1][i] not in cnv_3_check_list)):\n",
        "      cnv_to_purely_noncnv+=1\n",
        "      if(all_3_adjacency_list[0][i] in cnv_16h_2_genes_list):\n",
        "        if(all_3_adjacency_list[0][i].startswith('YC')): \n",
        "          if(all_3_adjacency_list[0][i] not in propotions_c3_cnv_to_purely_noncnv): \n",
        "            if (all_3_adjacency_list[0][i] not in propotions_c3_cnv_to_cnv):\n",
        "              propotions_c3_cnv_to_purely_noncnv.append(all_3_adjacency_list[0][i])\n",
        "      if (all_3_adjacency_list[1][i] in cnv_16h_2_genes_list):\n",
        "        if(all_3_adjacency_list[1][i].startswith('YC')):\n",
        "          if(all_3_adjacency_list[1][i] not in propotions_c3_cnv_to_purely_noncnv): \n",
        "            if(all_3_adjacency_list[1][i] not in propotions_c3_cnv_to_cnv):\n",
        "              propotions_c3_cnv_to_purely_noncnv.append(all_3_adjacency_list[1][i])\n",
        "propotions_c3_cnv_to_purely_noncnv = list(set(propotions_c3_cnv_to_purely_noncnv))\n",
        "prop_3_3 = len(propotions_c3_cnv_to_purely_noncnv)*100/len(c3_genes_list)\n",
        "(len(propotions_c3_cnv_to_purely_noncnv), prop_3_3)\n",
        "cnv_with_significance_16h_2.at['Prop C-N', 'c3'] = prop_3_3\n",
        "cnv_with_significance_16h_2.at['Count C-N', 'c3'] = len(propotions_c3_cnv_to_purely_noncnv)"
      ]
    },
    {
      "cell_type": "code",
      "execution_count": null,
      "metadata": {
        "id": "k-L3MU67gv0t"
      },
      "outputs": [],
      "source": [
        "propotions_c3_cnv_to_purely_noncnv=[]\n",
        "cnv_to_purely_noncnv=0\n",
        "for i in range(len(all_3_adjacency_list)):\n",
        "  if((all_3_adjacency_list[0][i] in cnv_genes_list) ^ (all_3_adjacency_list[1][i] in cnv_genes_list)):\n",
        "    if((all_3_adjacency_list[0][i] not in cnv_3_check_list) and (all_3_adjacency_list[1][i] not in cnv_3_check_list)):\n",
        "      cnv_to_purely_noncnv+=1\n",
        "      if(all_3_adjacency_list[0][i] in cnv_genes_list):\n",
        "        if(all_3_adjacency_list[0][i].startswith('YC')): \n",
        "          if(all_3_adjacency_list[0][i] not in propotions_c3_cnv_to_purely_noncnv): \n",
        "            if (all_3_adjacency_list[0][i] not in propotions_c3_cnv_to_cnv):\n",
        "              propotions_c3_cnv_to_purely_noncnv.append(all_3_adjacency_list[0][i])\n",
        "      if (all_3_adjacency_list[1][i] in cnv_genes_list):\n",
        "        if(all_3_adjacency_list[1][i].startswith('YC')):\n",
        "          if(all_3_adjacency_list[1][i] not in propotions_c3_cnv_to_purely_noncnv): \n",
        "            if(all_3_adjacency_list[1][i] not in propotions_c3_cnv_to_cnv):\n",
        "              propotions_c3_cnv_to_purely_noncnv.append(all_3_adjacency_list[1][i])\n",
        "propotions_c3_cnv_to_purely_noncnv = list(set(propotions_c3_cnv_to_purely_noncnv))\n",
        "prop_3_3 = len(propotions_c3_cnv_to_purely_noncnv)*100/len(c3_genes_list)\n",
        "(len(propotions_c3_cnv_to_purely_noncnv), prop_3_3)\n",
        "cnv_with_significance_16h_1.at['Prop C-N', 'c3'] = prop_3_3\n",
        "cnv_with_significance_16h_1.at['Count C-N', 'c3'] = len(propotions_c3_cnv_to_purely_noncnv)"
      ]
    },
    {
      "cell_type": "code",
      "execution_count": null,
      "metadata": {
        "id": "-4hxVizYy3VC"
      },
      "outputs": [],
      "source": [
        "propotions_c13_cnv_to_purely_noncnv=[]\n",
        "cnv_to_purely_noncnv=0\n",
        "for i in range(len(all_13_adjacency_list)):\n",
        "  if((all_13_adjacency_list[0][i] in cnv_16h_8_genes_list) ^ (all_13_adjacency_list[1][i] in cnv_16h_8_genes_list)):\n",
        "    if((all_13_adjacency_list[0][i] not in cnv_13_check_list) and (all_13_adjacency_list[1][i] not in cnv_13_check_list)):\n",
        "      cnv_to_purely_noncnv+=1\n",
        "      if(all_13_adjacency_list[0][i] in cnv_16h_8_genes_list):\n",
        "        if(all_13_adjacency_list[0][i].startswith('YM')): \n",
        "          if(all_13_adjacency_list[0][i] not in propotions_c13_cnv_to_purely_noncnv): \n",
        "            if (all_13_adjacency_list[0][i] not in propotions_c13_cnv_to_cnv):\n",
        "              propotions_c13_cnv_to_purely_noncnv.append(all_13_adjacency_list[0][i])\n",
        "      if (all_13_adjacency_list[1][i] in cnv_16h_8_genes_list):\n",
        "        if(all_13_adjacency_list[1][i].startswith('YM')):\n",
        "          if(all_13_adjacency_list[1][i] not in propotions_c13_cnv_to_purely_noncnv): \n",
        "            if(all_13_adjacency_list[1][i] not in propotions_c13_cnv_to_cnv):\n",
        "              propotions_c13_cnv_to_purely_noncnv.append(all_13_adjacency_list[1][i])\n",
        "propotions_c13_cnv_to_purely_noncnv = list(set(propotions_c13_cnv_to_purely_noncnv))\n",
        "prop_13_3 = len(propotions_c13_cnv_to_purely_noncnv)*100/len(c13_genes_list)\n",
        "(len(propotions_c13_cnv_to_purely_noncnv), prop_13_3)\n",
        "cnv_with_significance_16h_8.at['Prop C-N', 'c13'] = prop_13_3\n",
        "cnv_with_significance_16h_8.at['Count C-N', 'c13'] = len(propotions_c13_cnv_to_purely_noncnv)"
      ]
    },
    {
      "cell_type": "code",
      "execution_count": null,
      "metadata": {
        "id": "5WpnqB_aucO1"
      },
      "outputs": [],
      "source": [
        "propotions_c13_cnv_to_purely_noncnv=[]\n",
        "cnv_to_purely_noncnv=0\n",
        "for i in range(len(all_13_adjacency_list)):\n",
        "  if((all_13_adjacency_list[0][i] in cnv_16h_6_genes_list) ^ (all_13_adjacency_list[1][i] in cnv_16h_6_genes_list)):\n",
        "    if((all_13_adjacency_list[0][i] not in cnv_13_check_list) and (all_13_adjacency_list[1][i] not in cnv_13_check_list)):\n",
        "      cnv_to_purely_noncnv+=1\n",
        "      if(all_13_adjacency_list[0][i] in cnv_16h_6_genes_list):\n",
        "        if(all_13_adjacency_list[0][i].startswith('YM')): \n",
        "          if(all_13_adjacency_list[0][i] not in propotions_c13_cnv_to_purely_noncnv): \n",
        "            if (all_13_adjacency_list[0][i] not in propotions_c13_cnv_to_cnv):\n",
        "              propotions_c13_cnv_to_purely_noncnv.append(all_13_adjacency_list[0][i])\n",
        "      if (all_13_adjacency_list[1][i] in cnv_16h_6_genes_list):\n",
        "        if(all_13_adjacency_list[1][i].startswith('YM')):\n",
        "          if(all_13_adjacency_list[1][i] not in propotions_c13_cnv_to_purely_noncnv): \n",
        "            if(all_13_adjacency_list[1][i] not in propotions_c13_cnv_to_cnv):\n",
        "              propotions_c13_cnv_to_purely_noncnv.append(all_13_adjacency_list[1][i])\n",
        "propotions_c13_cnv_to_purely_noncnv = list(set(propotions_c13_cnv_to_purely_noncnv))\n",
        "prop_13_3 = len(propotions_c13_cnv_to_purely_noncnv)*100/len(c13_genes_list)\n",
        "(len(propotions_c13_cnv_to_purely_noncnv), prop_13_3)\n",
        "cnv_with_significance_16h_6.at['Prop C-N', 'c13'] = prop_13_3\n",
        "cnv_with_significance_16h_6.at['Count C-N', 'c13'] = len(propotions_c13_cnv_to_purely_noncnv)"
      ]
    },
    {
      "cell_type": "code",
      "execution_count": null,
      "metadata": {
        "id": "nqfgCOty4CJk"
      },
      "outputs": [],
      "source": [
        "propotions_c13_cnv_to_purely_noncnv=[]\n",
        "cnv_to_purely_noncnv=0\n",
        "for i in range(len(all_13_adjacency_list)):\n",
        "  if((all_13_adjacency_list[0][i] in cnv_16h_5_genes_list) ^ (all_13_adjacency_list[1][i] in cnv_16h_5_genes_list)):\n",
        "    if((all_13_adjacency_list[0][i] not in cnv_13_check_list) and (all_13_adjacency_list[1][i] not in cnv_13_check_list)):\n",
        "      cnv_to_purely_noncnv+=1\n",
        "      if(all_13_adjacency_list[0][i] in cnv_16h_5_genes_list):\n",
        "        if(all_13_adjacency_list[0][i].startswith('YM')): \n",
        "          if(all_13_adjacency_list[0][i] not in propotions_c13_cnv_to_purely_noncnv): \n",
        "            if (all_13_adjacency_list[0][i] not in propotions_c13_cnv_to_cnv):\n",
        "              propotions_c13_cnv_to_purely_noncnv.append(all_13_adjacency_list[0][i])\n",
        "      if (all_13_adjacency_list[1][i] in cnv_16h_5_genes_list):\n",
        "        if(all_13_adjacency_list[1][i].startswith('YM')):\n",
        "          if(all_13_adjacency_list[1][i] not in propotions_c13_cnv_to_purely_noncnv): \n",
        "            if(all_13_adjacency_list[1][i] not in propotions_c13_cnv_to_cnv):\n",
        "              propotions_c13_cnv_to_purely_noncnv.append(all_13_adjacency_list[1][i])\n",
        "propotions_c13_cnv_to_purely_noncnv = list(set(propotions_c13_cnv_to_purely_noncnv))\n",
        "prop_13_3 = len(propotions_c13_cnv_to_purely_noncnv)*100/len(c13_genes_list)\n",
        "(len(propotions_c13_cnv_to_purely_noncnv), prop_13_3)\n",
        "cnv_with_significance_16h_5.at['Prop C-N', 'c13'] = prop_13_3\n",
        "cnv_with_significance_16h_5.at['Count C-N', 'c13'] = len(propotions_c13_cnv_to_purely_noncnv)"
      ]
    },
    {
      "cell_type": "code",
      "execution_count": null,
      "metadata": {
        "id": "yZbMcYnIp-h8"
      },
      "outputs": [],
      "source": [
        "propotions_c13_cnv_to_purely_noncnv=[]\n",
        "cnv_to_purely_noncnv=0\n",
        "for i in range(len(all_13_adjacency_list)):\n",
        "  if((all_13_adjacency_list[0][i] in cnv_16h_4_genes_list) ^ (all_13_adjacency_list[1][i] in cnv_16h_4_genes_list)):\n",
        "    if((all_13_adjacency_list[0][i] not in cnv_13_check_list) and (all_13_adjacency_list[1][i] not in cnv_13_check_list)):\n",
        "      cnv_to_purely_noncnv+=1\n",
        "      if(all_13_adjacency_list[0][i] in cnv_16h_4_genes_list):\n",
        "        if(all_13_adjacency_list[0][i].startswith('YM')): \n",
        "          if(all_13_adjacency_list[0][i] not in propotions_c13_cnv_to_purely_noncnv): \n",
        "            if (all_13_adjacency_list[0][i] not in propotions_c13_cnv_to_cnv):\n",
        "              propotions_c13_cnv_to_purely_noncnv.append(all_13_adjacency_list[0][i])\n",
        "      if (all_13_adjacency_list[1][i] in cnv_16h_4_genes_list):\n",
        "        if(all_13_adjacency_list[1][i].startswith('YM')):\n",
        "          if(all_13_adjacency_list[1][i] not in propotions_c13_cnv_to_purely_noncnv): \n",
        "            if(all_13_adjacency_list[1][i] not in propotions_c13_cnv_to_cnv):\n",
        "              propotions_c13_cnv_to_purely_noncnv.append(all_13_adjacency_list[1][i])\n",
        "propotions_c13_cnv_to_purely_noncnv = list(set(propotions_c13_cnv_to_purely_noncnv))\n",
        "prop_13_3 = len(propotions_c13_cnv_to_purely_noncnv)*100/len(c13_genes_list)\n",
        "(len(propotions_c13_cnv_to_purely_noncnv), prop_13_3)\n",
        "cnv_with_significance_16h_4.at['Prop C-N', 'c13'] = prop_13_3\n",
        "cnv_with_significance_16h_4.at['Count C-N', 'c13'] = len(propotions_c13_cnv_to_purely_noncnv)"
      ]
    },
    {
      "cell_type": "code",
      "execution_count": null,
      "metadata": {
        "id": "z2WUMzzX0ifA"
      },
      "outputs": [],
      "source": [
        "propotions_c13_cnv_to_purely_noncnv=[]\n",
        "cnv_to_purely_noncnv=0\n",
        "for i in range(len(all_13_adjacency_list)):\n",
        "  if((all_13_adjacency_list[0][i] in cnv_16h_3_genes_list) ^ (all_13_adjacency_list[1][i] in cnv_16h_3_genes_list)):\n",
        "    if((all_13_adjacency_list[0][i] not in cnv_13_check_list) and (all_13_adjacency_list[1][i] not in cnv_13_check_list)):\n",
        "      cnv_to_purely_noncnv+=1\n",
        "      if(all_13_adjacency_list[0][i] in cnv_16h_3_genes_list):\n",
        "        if(all_13_adjacency_list[0][i].startswith('YM')): \n",
        "          if(all_13_adjacency_list[0][i] not in propotions_c13_cnv_to_purely_noncnv): \n",
        "            if (all_13_adjacency_list[0][i] not in propotions_c13_cnv_to_cnv):\n",
        "              propotions_c13_cnv_to_purely_noncnv.append(all_13_adjacency_list[0][i])\n",
        "      if (all_13_adjacency_list[1][i] in cnv_16h_3_genes_list):\n",
        "        if(all_13_adjacency_list[1][i].startswith('YM')):\n",
        "          if(all_13_adjacency_list[1][i] not in propotions_c13_cnv_to_purely_noncnv): \n",
        "            if(all_13_adjacency_list[1][i] not in propotions_c13_cnv_to_cnv):\n",
        "              propotions_c13_cnv_to_purely_noncnv.append(all_13_adjacency_list[1][i])\n",
        "propotions_c13_cnv_to_purely_noncnv = list(set(propotions_c13_cnv_to_purely_noncnv))\n",
        "prop_13_3 = len(propotions_c13_cnv_to_purely_noncnv)*100/len(c13_genes_list)\n",
        "(len(propotions_c13_cnv_to_purely_noncnv), prop_13_3)\n",
        "cnv_with_significance_16h_3.at['Prop C-N', 'c13'] = prop_13_3\n",
        "cnv_with_significance_16h_3.at['Count C-N', 'c13'] = len(propotions_c13_cnv_to_purely_noncnv)"
      ]
    },
    {
      "cell_type": "code",
      "execution_count": null,
      "metadata": {
        "id": "vSND_rRVb5zd"
      },
      "outputs": [],
      "source": [
        "propotions_c13_cnv_to_purely_noncnv=[]\n",
        "cnv_to_purely_noncnv=0\n",
        "for i in range(len(all_13_adjacency_list)):\n",
        "  if((all_13_adjacency_list[0][i] in cnv_16h_2_genes_list) ^ (all_13_adjacency_list[1][i] in cnv_16h_2_genes_list)):\n",
        "    if((all_13_adjacency_list[0][i] not in cnv_13_check_list) and (all_13_adjacency_list[1][i] not in cnv_13_check_list)):\n",
        "      cnv_to_purely_noncnv+=1\n",
        "      if(all_13_adjacency_list[0][i] in cnv_16h_2_genes_list):\n",
        "        if(all_13_adjacency_list[0][i].startswith('YM')): \n",
        "          if(all_13_adjacency_list[0][i] not in propotions_c13_cnv_to_purely_noncnv): \n",
        "            if (all_13_adjacency_list[0][i] not in propotions_c13_cnv_to_cnv):\n",
        "              propotions_c13_cnv_to_purely_noncnv.append(all_13_adjacency_list[0][i])\n",
        "      if (all_13_adjacency_list[1][i] in cnv_16h_2_genes_list):\n",
        "        if(all_13_adjacency_list[1][i].startswith('YM')):\n",
        "          if(all_13_adjacency_list[1][i] not in propotions_c13_cnv_to_purely_noncnv): \n",
        "            if(all_13_adjacency_list[1][i] not in propotions_c13_cnv_to_cnv):\n",
        "              propotions_c13_cnv_to_purely_noncnv.append(all_13_adjacency_list[1][i])\n",
        "propotions_c13_cnv_to_purely_noncnv = list(set(propotions_c13_cnv_to_purely_noncnv))\n",
        "prop_13_3 = len(propotions_c13_cnv_to_purely_noncnv)*100/len(c13_genes_list)\n",
        "(len(propotions_c13_cnv_to_purely_noncnv), prop_13_3)\n",
        "cnv_with_significance_16h_2.at['Prop C-N', 'c13'] = prop_13_3\n",
        "cnv_with_significance_16h_2.at['Count C-N', 'c13'] = len(propotions_c13_cnv_to_purely_noncnv)"
      ]
    },
    {
      "cell_type": "code",
      "execution_count": null,
      "metadata": {
        "id": "GeeCcdwAaHYy"
      },
      "outputs": [],
      "source": [
        "propotions_c13_cnv_to_purely_noncnv=[]\n",
        "cnv_to_purely_noncnv=0\n",
        "for i in range(len(all_13_adjacency_list)):\n",
        "  if((all_13_adjacency_list[0][i] in cnv_genes_list) ^ (all_13_adjacency_list[1][i] in cnv_genes_list)):\n",
        "    if((all_13_adjacency_list[0][i] not in cnv_13_check_list) and (all_13_adjacency_list[1][i] not in cnv_13_check_list)):\n",
        "      cnv_to_purely_noncnv+=1\n",
        "      if(all_13_adjacency_list[0][i] in cnv_genes_list):\n",
        "        if(all_13_adjacency_list[0][i].startswith('YM')): \n",
        "          if(all_13_adjacency_list[0][i] not in propotions_c13_cnv_to_purely_noncnv): \n",
        "            if (all_13_adjacency_list[0][i] not in propotions_c13_cnv_to_cnv):\n",
        "              propotions_c13_cnv_to_purely_noncnv.append(all_13_adjacency_list[0][i])\n",
        "      if (all_13_adjacency_list[1][i] in cnv_genes_list):\n",
        "        if(all_13_adjacency_list[1][i].startswith('YM')):\n",
        "          if(all_13_adjacency_list[1][i] not in propotions_c13_cnv_to_purely_noncnv): \n",
        "            if(all_13_adjacency_list[1][i] not in propotions_c13_cnv_to_cnv):\n",
        "              propotions_c13_cnv_to_purely_noncnv.append(all_13_adjacency_list[1][i])\n",
        "propotions_c13_cnv_to_purely_noncnv = list(set(propotions_c13_cnv_to_purely_noncnv))\n",
        "prop_13_3 = len(propotions_c13_cnv_to_purely_noncnv)*100/len(c13_genes_list)\n",
        "(len(propotions_c13_cnv_to_purely_noncnv), prop_13_3)\n",
        "cnv_with_significance_16h_1.at['Prop C-N', 'c13'] = prop_13_3\n",
        "cnv_with_significance_16h_1.at['Count C-N', 'c13'] = len(propotions_c13_cnv_to_purely_noncnv)"
      ]
    },
    {
      "cell_type": "code",
      "execution_count": null,
      "metadata": {
        "id": "47jPH9nrzDYq"
      },
      "outputs": [],
      "source": [
        "propotions_c16_cnv_to_purely_noncnv=[]\n",
        "cnv_to_purely_noncnv=0\n",
        "for i in range(len(all_16_adjacency_list)):\n",
        "  if((all_16_adjacency_list[0][i] in cnv_16h_8_genes_list) ^ (all_16_adjacency_list[1][i] in cnv_16h_8_genes_list)):\n",
        "    if((all_16_adjacency_list[0][i] not in cnv_check_list) and (all_16_adjacency_list[1][i] not in cnv_check_list)):\n",
        "      cnv_to_purely_noncnv+=1\n",
        "      if(all_16_adjacency_list[0][i] in cnv_16h_8_genes_list):\n",
        "        if(all_16_adjacency_list[0][i].startswith('YP')): \n",
        "          if(all_16_adjacency_list[0][i] not in propotions_c16_cnv_to_purely_noncnv): \n",
        "            if (all_16_adjacency_list[0][i] not in propotions_c16_cnv_to_cnv):\n",
        "              propotions_c16_cnv_to_purely_noncnv.append(all_16_adjacency_list[0][i])\n",
        "      if (all_16_adjacency_list[1][i] in cnv_16h_8_genes_list):\n",
        "        if(all_16_adjacency_list[1][i].startswith('YP')):\n",
        "          if(all_16_adjacency_list[1][i] not in propotions_c16_cnv_to_purely_noncnv): \n",
        "            if(all_16_adjacency_list[1][i] not in propotions_c16_cnv_to_cnv):\n",
        "              propotions_c16_cnv_to_purely_noncnv.append(all_16_adjacency_list[1][i])\n",
        "propotions_c16_cnv_to_purely_noncnv = list(set(propotions_c16_cnv_to_purely_noncnv))\n",
        "prop_3 = len(propotions_c16_cnv_to_purely_noncnv)*100/len(c16_genes_list)\n",
        "(len(propotions_c16_cnv_to_purely_noncnv), prop_3)\n",
        "cnv_with_significance_16h_8.at['Prop C-N', 'c16'] = prop_3\n",
        "cnv_with_significance_16h_8.at['Count C-N', 'c16'] = len(propotions_c16_cnv_to_purely_noncnv)"
      ]
    },
    {
      "cell_type": "code",
      "execution_count": null,
      "metadata": {
        "id": "WGRVLOvrumHl"
      },
      "outputs": [],
      "source": [
        "propotions_c16_cnv_to_purely_noncnv=[]\n",
        "cnv_to_purely_noncnv=0\n",
        "for i in range(len(all_16_adjacency_list)):\n",
        "  if((all_16_adjacency_list[0][i] in cnv_16h_6_genes_list) ^ (all_16_adjacency_list[1][i] in cnv_16h_6_genes_list)):\n",
        "    if((all_16_adjacency_list[0][i] not in cnv_check_list) and (all_16_adjacency_list[1][i] not in cnv_check_list)):\n",
        "      cnv_to_purely_noncnv+=1\n",
        "      if(all_16_adjacency_list[0][i] in cnv_16h_6_genes_list):\n",
        "        if(all_16_adjacency_list[0][i].startswith('YP')): \n",
        "          if(all_16_adjacency_list[0][i] not in propotions_c16_cnv_to_purely_noncnv): \n",
        "            if (all_16_adjacency_list[0][i] not in propotions_c16_cnv_to_cnv):\n",
        "              propotions_c16_cnv_to_purely_noncnv.append(all_16_adjacency_list[0][i])\n",
        "      if (all_16_adjacency_list[1][i] in cnv_16h_6_genes_list):\n",
        "        if(all_16_adjacency_list[1][i].startswith('YP')):\n",
        "          if(all_16_adjacency_list[1][i] not in propotions_c16_cnv_to_purely_noncnv): \n",
        "            if(all_16_adjacency_list[1][i] not in propotions_c16_cnv_to_cnv):\n",
        "              propotions_c16_cnv_to_purely_noncnv.append(all_16_adjacency_list[1][i])\n",
        "propotions_c16_cnv_to_purely_noncnv = list(set(propotions_c16_cnv_to_purely_noncnv))\n",
        "prop_3 = len(propotions_c16_cnv_to_purely_noncnv)*100/len(c16_genes_list)\n",
        "(len(propotions_c16_cnv_to_purely_noncnv), prop_3)\n",
        "cnv_with_significance_16h_6.at['Prop C-N', 'c16'] = prop_3\n",
        "cnv_with_significance_16h_6.at['Count C-N', 'c16'] = len(propotions_c16_cnv_to_purely_noncnv)"
      ]
    },
    {
      "cell_type": "code",
      "execution_count": null,
      "metadata": {
        "id": "_YSMHW4q4OKN"
      },
      "outputs": [],
      "source": [
        "propotions_c16_cnv_to_purely_noncnv=[]\n",
        "cnv_to_purely_noncnv=0\n",
        "for i in range(len(all_16_adjacency_list)):\n",
        "  if((all_16_adjacency_list[0][i] in cnv_16h_5_genes_list) ^ (all_16_adjacency_list[1][i] in cnv_16h_5_genes_list)):\n",
        "    if((all_16_adjacency_list[0][i] not in cnv_check_list) and (all_16_adjacency_list[1][i] not in cnv_check_list)):\n",
        "      cnv_to_purely_noncnv+=1\n",
        "      if(all_16_adjacency_list[0][i] in cnv_16h_5_genes_list):\n",
        "        if(all_16_adjacency_list[0][i].startswith('YP')): \n",
        "          if(all_16_adjacency_list[0][i] not in propotions_c16_cnv_to_purely_noncnv): \n",
        "            if (all_16_adjacency_list[0][i] not in propotions_c16_cnv_to_cnv):\n",
        "              propotions_c16_cnv_to_purely_noncnv.append(all_16_adjacency_list[0][i])\n",
        "      if (all_16_adjacency_list[1][i] in cnv_16h_5_genes_list):\n",
        "        if(all_16_adjacency_list[1][i].startswith('YP')):\n",
        "          if(all_16_adjacency_list[1][i] not in propotions_c16_cnv_to_purely_noncnv): \n",
        "            if(all_16_adjacency_list[1][i] not in propotions_c16_cnv_to_cnv):\n",
        "              propotions_c16_cnv_to_purely_noncnv.append(all_16_adjacency_list[1][i])\n",
        "propotions_c16_cnv_to_purely_noncnv = list(set(propotions_c16_cnv_to_purely_noncnv))\n",
        "prop_3 = len(propotions_c16_cnv_to_purely_noncnv)*100/len(c16_genes_list)\n",
        "(len(propotions_c16_cnv_to_purely_noncnv), prop_3)\n",
        "cnv_with_significance_16h_5.at['Prop C-N', 'c16'] = prop_3\n",
        "cnv_with_significance_16h_5.at['Count C-N', 'c16'] = len(propotions_c16_cnv_to_purely_noncnv)"
      ]
    },
    {
      "cell_type": "code",
      "execution_count": null,
      "metadata": {
        "id": "LojonRhiqF9A"
      },
      "outputs": [],
      "source": [
        "propotions_c16_cnv_to_purely_noncnv=[]\n",
        "cnv_to_purely_noncnv=0\n",
        "for i in range(len(all_16_adjacency_list)):\n",
        "  if((all_16_adjacency_list[0][i] in cnv_16h_4_genes_list) ^ (all_16_adjacency_list[1][i] in cnv_16h_4_genes_list)):\n",
        "    if((all_16_adjacency_list[0][i] not in cnv_check_list) and (all_16_adjacency_list[1][i] not in cnv_check_list)):\n",
        "      cnv_to_purely_noncnv+=1\n",
        "      if(all_16_adjacency_list[0][i] in cnv_16h_4_genes_list):\n",
        "        if(all_16_adjacency_list[0][i].startswith('YP')): \n",
        "          if(all_16_adjacency_list[0][i] not in propotions_c16_cnv_to_purely_noncnv): \n",
        "            if (all_16_adjacency_list[0][i] not in propotions_c16_cnv_to_cnv):\n",
        "              propotions_c16_cnv_to_purely_noncnv.append(all_16_adjacency_list[0][i])\n",
        "      if (all_16_adjacency_list[1][i] in cnv_16h_4_genes_list):\n",
        "        if(all_16_adjacency_list[1][i].startswith('YP')):\n",
        "          if(all_16_adjacency_list[1][i] not in propotions_c16_cnv_to_purely_noncnv): \n",
        "            if(all_16_adjacency_list[1][i] not in propotions_c16_cnv_to_cnv):\n",
        "              propotions_c16_cnv_to_purely_noncnv.append(all_16_adjacency_list[1][i])\n",
        "propotions_c16_cnv_to_purely_noncnv = list(set(propotions_c16_cnv_to_purely_noncnv))\n",
        "prop_3 = len(propotions_c16_cnv_to_purely_noncnv)*100/len(c16_genes_list)\n",
        "(len(propotions_c16_cnv_to_purely_noncnv), prop_3)\n",
        "cnv_with_significance_16h_4.at['Prop C-N', 'c16'] = prop_3\n",
        "cnv_with_significance_16h_4.at['Count C-N', 'c16'] = len(propotions_c16_cnv_to_purely_noncnv)"
      ]
    },
    {
      "cell_type": "code",
      "execution_count": null,
      "metadata": {
        "id": "SaTDZVNB2Jw4"
      },
      "outputs": [],
      "source": [
        "propotions_c16_cnv_to_purely_noncnv=[]\n",
        "cnv_to_purely_noncnv=0\n",
        "for i in range(len(all_16_adjacency_list)):\n",
        "  if((all_16_adjacency_list[0][i] in cnv_16h_3_genes_list) ^ (all_16_adjacency_list[1][i] in cnv_16h_3_genes_list)):\n",
        "    if((all_16_adjacency_list[0][i] not in cnv_check_list) and (all_16_adjacency_list[1][i] not in cnv_check_list)):\n",
        "      cnv_to_purely_noncnv+=1\n",
        "      if(all_16_adjacency_list[0][i] in cnv_16h_3_genes_list):\n",
        "        if(all_16_adjacency_list[0][i].startswith('YP')): \n",
        "          if(all_16_adjacency_list[0][i] not in propotions_c16_cnv_to_purely_noncnv): \n",
        "            if (all_16_adjacency_list[0][i] not in propotions_c16_cnv_to_cnv):\n",
        "              propotions_c16_cnv_to_purely_noncnv.append(all_16_adjacency_list[0][i])\n",
        "      if (all_16_adjacency_list[1][i] in cnv_16h_3_genes_list):\n",
        "        if(all_16_adjacency_list[1][i].startswith('YP')):\n",
        "          if(all_16_adjacency_list[1][i] not in propotions_c16_cnv_to_purely_noncnv): \n",
        "            if(all_16_adjacency_list[1][i] not in propotions_c16_cnv_to_cnv):\n",
        "              propotions_c16_cnv_to_purely_noncnv.append(all_16_adjacency_list[1][i])\n",
        "propotions_c16_cnv_to_purely_noncnv = list(set(propotions_c16_cnv_to_purely_noncnv))\n",
        "prop_3 = len(propotions_c16_cnv_to_purely_noncnv)*100/len(c16_genes_list)\n",
        "(len(propotions_c16_cnv_to_purely_noncnv), prop_3)\n",
        "cnv_with_significance_16h_3.at['Prop C-N', 'c16'] = prop_3\n",
        "cnv_with_significance_16h_3.at['Count C-N', 'c16'] = len(propotions_c16_cnv_to_purely_noncnv)"
      ]
    },
    {
      "cell_type": "code",
      "execution_count": null,
      "metadata": {
        "id": "ROIJ8GtXdc3M"
      },
      "outputs": [],
      "source": [
        "propotions_c16_cnv_to_purely_noncnv=[]\n",
        "cnv_to_purely_noncnv=0\n",
        "for i in range(len(all_16_adjacency_list)):\n",
        "  if((all_16_adjacency_list[0][i] in cnv_16h_2_genes_list) ^ (all_16_adjacency_list[1][i] in cnv_16h_2_genes_list)):\n",
        "    if((all_16_adjacency_list[0][i] not in cnv_check_list) and (all_16_adjacency_list[1][i] not in cnv_check_list)):\n",
        "      cnv_to_purely_noncnv+=1\n",
        "      if(all_16_adjacency_list[0][i] in cnv_16h_2_genes_list):\n",
        "        if(all_16_adjacency_list[0][i].startswith('YP')): \n",
        "          if(all_16_adjacency_list[0][i] not in propotions_c16_cnv_to_purely_noncnv): \n",
        "            if (all_16_adjacency_list[0][i] not in propotions_c16_cnv_to_cnv):\n",
        "              propotions_c16_cnv_to_purely_noncnv.append(all_16_adjacency_list[0][i])\n",
        "      if (all_16_adjacency_list[1][i] in cnv_16h_2_genes_list):\n",
        "        if(all_16_adjacency_list[1][i].startswith('YP')):\n",
        "          if(all_16_adjacency_list[1][i] not in propotions_c16_cnv_to_purely_noncnv): \n",
        "            if(all_16_adjacency_list[1][i] not in propotions_c16_cnv_to_cnv):\n",
        "              propotions_c16_cnv_to_purely_noncnv.append(all_16_adjacency_list[1][i])\n",
        "propotions_c16_cnv_to_purely_noncnv = list(set(propotions_c16_cnv_to_purely_noncnv))\n",
        "prop_3 = len(propotions_c16_cnv_to_purely_noncnv)*100/426\n",
        "(len(propotions_c16_cnv_to_purely_noncnv), prop_3)\n",
        "cnv_with_significance_16h_2.at['Prop C-N', 'c16'] = prop_3\n",
        "cnv_with_significance_16h_2.at['Count C-N', 'c16'] = len(propotions_c16_cnv_to_purely_noncnv)"
      ]
    },
    {
      "cell_type": "code",
      "execution_count": null,
      "metadata": {
        "colab": {
          "base_uri": "https://localhost:8080/"
        },
        "id": "NzexhRBl6obm",
        "outputId": "f2e67fa6-0073-4657-ddeb-bf3c60146fc7"
      },
      "outputs": [
        {
          "name": "stdout",
          "output_type": "stream",
          "text": [
            "SpearmanrResult(correlation=0.024275535705498015, pvalue=0.742916655908781)\n"
          ]
        }
      ],
      "source": [
        "propotions_c16_cnv_to_purely_noncnv=[]\n",
        "cnv_to_purely_noncnv=0\n",
        "cnv_to_noncnv_tpms = pd.DataFrame()\n",
        "gene_1_tpm = []\n",
        "gene_2_tpm = []\n",
        "res = stats.spearmanr(noncnv_to_noncnv_tpms['gene_1_tpm'], noncnv_to_noncnv_tpms['gene_2_tpm'])\n",
        "for i in range(len(all_16_adjacency_list)):\n",
        "  if((all_16_adjacency_list[0][i] in cnv_genes_list) ^ (all_16_adjacency_list[1][i] in cnv_genes_list)):\n",
        "    if((all_16_adjacency_list[0][i] not in cnv_check_list) and (all_16_adjacency_list[1][i] not in cnv_check_list)):\n",
        "      cnv_to_purely_noncnv+=1\n",
        "      if ((all_16_adjacency_list[0][i] in all_average_tpms.keys()) and (all_16_adjacency_list[1][i] in all_average_tpms.keys())):\n",
        "        gene_1_tpm.append(all_average_tpms[all_16_adjacency_list[0][i]])\n",
        "        gene_2_tpm.append(all_average_tpms[all_16_adjacency_list[1][i]])\n",
        "      if(all_16_adjacency_list[0][i] in cnv_genes_list):\n",
        "        if(all_16_adjacency_list[0][i].startswith('YP')): \n",
        "          if(all_16_adjacency_list[0][i] not in propotions_c16_cnv_to_purely_noncnv): \n",
        "            if (all_16_adjacency_list[0][i] not in propotions_c16_cnv_to_cnv):\n",
        "              propotions_c16_cnv_to_purely_noncnv.append(all_16_adjacency_list[0][i])\n",
        "      if (all_16_adjacency_list[1][i] in cnv_genes_list):\n",
        "        if(all_16_adjacency_list[1][i].startswith('YP')):\n",
        "          if(all_16_adjacency_list[1][i] not in propotions_c16_cnv_to_purely_noncnv): \n",
        "            if(all_16_adjacency_list[1][i] not in propotions_c16_cnv_to_cnv):\n",
        "              propotions_c16_cnv_to_purely_noncnv.append(all_16_adjacency_list[1][i])\n",
        "propotions_c16_cnv_to_purely_noncnv = list(set(propotions_c16_cnv_to_purely_noncnv))\n",
        "prop_3 = len(propotions_c16_cnv_to_purely_noncnv)*100/len(c16_genes_list)\n",
        "gene_1_tpm = list(map(int, gene_1_tpm))\n",
        "gene_2_tpm = list(map(int, gene_2_tpm))\n",
        "cnv_to_noncnv_tpms['gene_1_tpm'] = gene_1_tpm\n",
        "cnv_to_noncnv_tpms['gene_2_tpm'] = gene_2_tpm\n",
        "res = stats.spearmanr(cnv_to_noncnv_tpms['gene_1_tpm'], cnv_to_noncnv_tpms['gene_2_tpm'])\n",
        "cnv_with_significance_16h_1.at['Prop C-N', 'c16'] = prop_3\n",
        "cnv_with_significance_16h_1.at['Count C-N', 'c16'] = len(propotions_c16_cnv_to_purely_noncnv)\n",
        "print(res)"
      ]
    },
    {
      "cell_type": "code",
      "execution_count": null,
      "metadata": {
        "id": "3WfoHGB16YsT"
      },
      "outputs": [],
      "source": [
        "cnv_with_significance_16h_1.at['p_vaue', 'c3'] = two_prop(cnv_with_significance_16h_1['c3']['Prop C-C']/100, \n",
        "                                                          (cnv_with_significance_16h_1['c3']['Prop N-N']+cnv_with_significance_16h_1['c3']['Prop C-N'])/100, \n",
        "                                                          cnv_with_significance_16h_1['c3']['Count C-C'], \n",
        "                                                          (cnv_with_significance_16h_1['c3']['Count N-N'] + cnv_with_significance_16h_1['c3']['Count C-N']))\n",
        "cnv_with_significance_16h_1.at['p_vaue', 'c6'] = two_prop(cnv_with_significance_16h_1['c6']['Prop C-C']/100, \n",
        "                                                          (cnv_with_significance_16h_1['c6']['Prop N-N']+cnv_with_significance_16h_1['c6']['Prop C-N'])/100, \n",
        "                                                          cnv_with_significance_16h_1['c6']['Count C-C'], \n",
        "                                                          (cnv_with_significance_16h_1['c6']['Count N-N'] + cnv_with_significance_16h_1['c6']['Count C-N']))\n",
        "cnv_with_significance_16h_1.at['p_vaue', 'c13'] = two_prop(cnv_with_significance_16h_1['c13']['Prop C-C']/100, \n",
        "                                                          (cnv_with_significance_16h_1['c13']['Prop N-N']+cnv_with_significance_16h_1['c13']['Prop C-N'])/100, \n",
        "                                                          cnv_with_significance_16h_1['c13']['Count C-C'], \n",
        "                                                          (cnv_with_significance_16h_1['c13']['Count N-N'] + cnv_with_significance_16h_1['c13']['Count C-N']))\n",
        "cnv_with_significance_16h_1.at['p_vaue', 'c16'] = two_prop(cnv_with_significance_16h_1['c16']['Prop C-C']/100, \n",
        "                                                          (cnv_with_significance_16h_1['c16']['Prop N-N']+cnv_with_significance_16h_1['c16']['Prop C-N'])/100, \n",
        "                                                          cnv_with_significance_16h_1['c16']['Count C-C'], \n",
        "                                                          (cnv_with_significance_16h_1['c16']['Count N-N'] + cnv_with_significance_16h_1['c16']['Count C-N']))"
      ]
    },
    {
      "cell_type": "code",
      "execution_count": null,
      "metadata": {
        "id": "pEgtuokxWGC2"
      },
      "outputs": [],
      "source": [
        "cnv_with_significance_16h_2.at['p_vaue', 'c3'] = two_prop(cnv_with_significance_16h_2['c3']['Prop C-C']/100, \n",
        "                                                          (cnv_with_significance_16h_2['c3']['Prop N-N']+cnv_with_significance_16h_2['c3']['Prop C-N'])/100, \n",
        "                                                          cnv_with_significance_16h_2['c3']['Count C-C'], \n",
        "                                                          (cnv_with_significance_16h_2['c3']['Count N-N'] + cnv_with_significance_16h_2['c3']['Count C-N']))\n",
        "cnv_with_significance_16h_2.at['p_vaue', 'c6'] = two_prop(cnv_with_significance_16h_2['c6']['Prop C-C']/100, \n",
        "                                                          (cnv_with_significance_16h_2['c6']['Prop N-N']+cnv_with_significance_16h_2['c6']['Prop C-N'])/100, \n",
        "                                                          cnv_with_significance_16h_2['c6']['Count C-C'], \n",
        "                                                          (cnv_with_significance_16h_2['c6']['Count N-N'] + cnv_with_significance_16h_2['c6']['Count C-N']))\n",
        "cnv_with_significance_16h_2.at['p_vaue', 'c13'] = two_prop(cnv_with_significance_16h_2['c13']['Prop C-C']/100, \n",
        "                                                          (cnv_with_significance_16h_2['c13']['Prop N-N']+cnv_with_significance_16h_2['c13']['Prop C-N'])/100, \n",
        "                                                          cnv_with_significance_16h_2['c13']['Count C-C'], \n",
        "                                                          (cnv_with_significance_16h_2['c13']['Count N-N'] + cnv_with_significance_16h_2['c13']['Count C-N']))\n",
        "cnv_with_significance_16h_2.at['p_vaue', 'c16'] = two_prop(cnv_with_significance_16h_2['c16']['Prop C-C']/100, \n",
        "                                                          (cnv_with_significance_16h_2['c16']['Prop N-N']+cnv_with_significance_16h_2['c16']['Prop C-N'])/100, \n",
        "                                                          cnv_with_significance_16h_2['c16']['Count C-C'], \n",
        "                                                          (cnv_with_significance_16h_2['c16']['Count N-N'] + cnv_with_significance_16h_2['c16']['Count C-N']))\n",
        "cnv_with_significance_16h_2.at['p_vaue', 'c14'] = two_prop(cnv_with_significance_16h_2['c14']['Prop C-C']/100, \n",
        "                                                          (cnv_with_significance_16h_2['c14']['Prop N-N']+cnv_with_significance_16h_2['c14']['Prop C-N'])/100, \n",
        "                                                          cnv_with_significance_16h_2['c14']['Count C-C'], \n",
        "                                                          (cnv_with_significance_16h_2['c14']['Count N-N'] + cnv_with_significance_16h_2['c14']['Count C-N']))"
      ]
    },
    {
      "cell_type": "code",
      "execution_count": null,
      "metadata": {
        "id": "alOMAsdLcMA0"
      },
      "outputs": [],
      "source": [
        "cnv_with_significance_16h_3.at['p_vaue', 'c3'] = two_prop(cnv_with_significance_16h_3['c3']['Prop C-C']/100, \n",
        "                                                          (cnv_with_significance_16h_3['c3']['Prop N-N']+cnv_with_significance_16h_3['c3']['Prop C-N'])/100, \n",
        "                                                          cnv_with_significance_16h_3['c3']['Count C-C'], \n",
        "                                                          (cnv_with_significance_16h_3['c3']['Count N-N'] + cnv_with_significance_16h_3['c3']['Count C-N']))\n",
        "cnv_with_significance_16h_3.at['p_vaue', 'c6'] = two_prop(cnv_with_significance_16h_3['c6']['Prop C-C']/100, \n",
        "                                                          (cnv_with_significance_16h_3['c6']['Prop N-N']+cnv_with_significance_16h_3['c6']['Prop C-N'])/100, \n",
        "                                                          cnv_with_significance_16h_3['c6']['Count C-C'], \n",
        "                                                          (cnv_with_significance_16h_3['c6']['Count N-N'] + cnv_with_significance_16h_3['c6']['Count C-N']))\n",
        "cnv_with_significance_16h_3.at['p_vaue', 'c13'] = two_prop(cnv_with_significance_16h_3['c13']['Prop C-C']/100, \n",
        "                                                          (cnv_with_significance_16h_3['c13']['Prop N-N']+cnv_with_significance_16h_3['c13']['Prop C-N'])/100, \n",
        "                                                          cnv_with_significance_16h_3['c13']['Count C-C'], \n",
        "                                                          (cnv_with_significance_16h_3['c13']['Count N-N'] + cnv_with_significance_16h_3['c13']['Count C-N']))\n",
        "cnv_with_significance_16h_3.at['p_vaue', 'c16'] = two_prop(cnv_with_significance_16h_3['c16']['Prop C-C']/100, \n",
        "                                                          (cnv_with_significance_16h_3['c16']['Prop N-N']+cnv_with_significance_16h_3['c16']['Prop C-N'])/100, \n",
        "                                                          cnv_with_significance_16h_3['c16']['Count C-C'], \n",
        "                                                          (cnv_with_significance_16h_3['c16']['Count N-N'] + cnv_with_significance_16h_3['c16']['Count C-N']))\n",
        "cnv_with_significance_16h_3.at['p_vaue', 'c9'] = two_prop(cnv_with_significance_16h_3['c9']['Prop C-C']/100, \n",
        "                                                          (cnv_with_significance_16h_3['c9']['Prop N-N']+cnv_with_significance_16h_3['c9']['Prop C-N'])/100, \n",
        "                                                          cnv_with_significance_16h_3['c9']['Count C-C'], \n",
        "                                                          (cnv_with_significance_16h_3['c9']['Count N-N'] + cnv_with_significance_16h_3['c9']['Count C-N']))"
      ]
    },
    {
      "cell_type": "code",
      "execution_count": null,
      "metadata": {
        "id": "AVdE9zE65xcG"
      },
      "outputs": [],
      "source": [
        "cnv_with_significance_16h_4.at['p_vaue', 'c3'] = two_prop(cnv_with_significance_16h_4['c3']['Prop C-C']/100, \n",
        "                                                          (cnv_with_significance_16h_4['c3']['Prop N-N']+cnv_with_significance_16h_4['c3']['Prop C-N'])/100, \n",
        "                                                          cnv_with_significance_16h_4['c3']['Count C-C'], \n",
        "                                                          (cnv_with_significance_16h_4['c3']['Count N-N'] + cnv_with_significance_16h_4['c3']['Count C-N']))\n",
        "cnv_with_significance_16h_4.at['p_vaue', 'c6'] = two_prop(cnv_with_significance_16h_4['c6']['Prop C-C']/100, \n",
        "                                                          (cnv_with_significance_16h_4['c6']['Prop N-N']+cnv_with_significance_16h_4['c6']['Prop C-N'])/100, \n",
        "                                                          cnv_with_significance_16h_4['c6']['Count C-C'], \n",
        "                                                          (cnv_with_significance_16h_4['c6']['Count N-N'] + cnv_with_significance_16h_4['c6']['Count C-N']))\n",
        "cnv_with_significance_16h_4.at['p_vaue', 'c13'] = two_prop(cnv_with_significance_16h_4['c13']['Prop C-C']/100, \n",
        "                                                          (cnv_with_significance_16h_4['c13']['Prop N-N']+cnv_with_significance_16h_4['c13']['Prop C-N'])/100, \n",
        "                                                          cnv_with_significance_16h_4['c13']['Count C-C'], \n",
        "                                                          (cnv_with_significance_16h_4['c13']['Count N-N'] + cnv_with_significance_16h_4['c13']['Count C-N']))\n",
        "cnv_with_significance_16h_4.at['p_vaue', 'c16'] = two_prop(cnv_with_significance_16h_4['c16']['Prop C-C']/100, \n",
        "                                                          (cnv_with_significance_16h_4['c16']['Prop N-N']+cnv_with_significance_16h_4['c16']['Prop C-N'])/100, \n",
        "                                                          cnv_with_significance_16h_4['c16']['Count C-C'], \n",
        "                                                          (cnv_with_significance_16h_4['c16']['Count N-N'] + cnv_with_significance_16h_4['c16']['Count C-N']))"
      ]
    },
    {
      "cell_type": "code",
      "execution_count": null,
      "metadata": {
        "id": "SjcBbzwE-p8k"
      },
      "outputs": [],
      "source": [
        "cnv_with_significance_16h_5.at['p_vaue', 'c3'] = two_prop(cnv_with_significance_16h_5['c3']['Prop C-C']/100, \n",
        "                                                          (cnv_with_significance_16h_5['c3']['Prop N-N']+cnv_with_significance_16h_5['c3']['Prop C-N'])/100, \n",
        "                                                          cnv_with_significance_16h_5['c3']['Count C-C'], \n",
        "                                                          (cnv_with_significance_16h_5['c3']['Count N-N'] + cnv_with_significance_16h_5['c3']['Count C-N']))\n",
        "cnv_with_significance_16h_5.at['p_vaue', 'c6'] = two_prop(cnv_with_significance_16h_5['c6']['Prop C-C']/100, \n",
        "                                                          (cnv_with_significance_16h_5['c6']['Prop N-N']+cnv_with_significance_16h_5['c6']['Prop C-N'])/100, \n",
        "                                                          cnv_with_significance_16h_5['c6']['Count C-C'], \n",
        "                                                          (cnv_with_significance_16h_5['c6']['Count N-N'] + cnv_with_significance_16h_5['c6']['Count C-N']))\n",
        "cnv_with_significance_16h_5.at['p_vaue', 'c13'] = two_prop(cnv_with_significance_16h_5['c13']['Prop C-C']/100, \n",
        "                                                          (cnv_with_significance_16h_5['c13']['Prop N-N']+cnv_with_significance_16h_5['c13']['Prop C-N'])/100, \n",
        "                                                          cnv_with_significance_16h_5['c13']['Count C-C'], \n",
        "                                                          (cnv_with_significance_16h_5['c13']['Count N-N'] + cnv_with_significance_16h_5['c13']['Count C-N']))\n",
        "cnv_with_significance_16h_5.at['p_vaue', 'c16'] = two_prop(cnv_with_significance_16h_5['c16']['Prop C-C']/100, \n",
        "                                                          (cnv_with_significance_16h_5['c16']['Prop N-N']+cnv_with_significance_16h_5['c16']['Prop C-N'])/100, \n",
        "                                                          cnv_with_significance_16h_5['c16']['Count C-C'], \n",
        "                                                          (cnv_with_significance_16h_5['c16']['Count N-N'] + cnv_with_significance_16h_5['c16']['Count C-N']))\n",
        "cnv_with_significance_16h_5.at['p_vaue', 'c8'] = two_prop(cnv_with_significance_16h_5['c8']['Prop C-C']/100, \n",
        "                                                          (cnv_with_significance_16h_5['c8']['Prop N-N']+cnv_with_significance_16h_5['c8']['Prop C-N'])/100, \n",
        "                                                          cnv_with_significance_16h_5['c8']['Count C-C'], \n",
        "                                                          (cnv_with_significance_16h_5['c8']['Count N-N'] + cnv_with_significance_16h_5['c8']['Count C-N']))"
      ]
    },
    {
      "cell_type": "code",
      "execution_count": null,
      "metadata": {
        "id": "9LcNJIL8DCtr"
      },
      "outputs": [],
      "source": [
        "cnv_with_significance_16h_6.at['p_vaue', 'c3'] = two_prop(cnv_with_significance_16h_6['c3']['Prop C-C']/100, \n",
        "                                                          (cnv_with_significance_16h_6['c3']['Prop N-N']+cnv_with_significance_16h_6['c3']['Prop C-N'])/100, \n",
        "                                                          cnv_with_significance_16h_6['c3']['Count C-C'], \n",
        "                                                          (cnv_with_significance_16h_6['c3']['Count N-N'] + cnv_with_significance_16h_6['c3']['Count C-N']))\n",
        "cnv_with_significance_16h_6.at['p_vaue', 'c6'] = two_prop(cnv_with_significance_16h_6['c6']['Prop C-C']/100, \n",
        "                                                         (cnv_with_significance_16h_6['c6']['Prop N-N']+cnv_with_significance_16h_6['c6']['Prop C-N'])/100, \n",
        "                                                          cnv_with_significance_16h_6['c6']['Count C-C'], \n",
        "                                                          (cnv_with_significance_16h_6['c6']['Count N-N'] + cnv_with_significance_16h_6['c6']['Count C-N']))\n",
        "cnv_with_significance_16h_6.at['p_vaue', 'c13'] = two_prop(cnv_with_significance_16h_6['c13']['Prop C-C']/100, \n",
        "                                                          (cnv_with_significance_16h_6['c13']['Prop N-N']+cnv_with_significance_16h_6['c13']['Prop C-N'])/100, \n",
        "                                                          cnv_with_significance_16h_6['c13']['Count C-C'], \n",
        "                                                          (cnv_with_significance_16h_6['c13']['Count N-N'] + cnv_with_significance_16h_6['c13']['Count C-N']))\n",
        "cnv_with_significance_16h_6.at['p_vaue', 'c16'] = two_prop(cnv_with_significance_16h_6['c16']['Prop C-C']/100, \n",
        "                                                          (cnv_with_significance_16h_6['c16']['Prop N-N']+cnv_with_significance_16h_6['c16']['Prop C-N'])/100, \n",
        "                                                          cnv_with_significance_16h_6['c16']['Count C-C'], \n",
        "                                                          (cnv_with_significance_16h_6['c16']['Count N-N'] + cnv_with_significance_16h_6['c16']['Count C-N']))"
      ]
    },
    {
      "cell_type": "code",
      "execution_count": null,
      "metadata": {
        "id": "RUM1ZoipFFhw"
      },
      "outputs": [],
      "source": [
        "cnv_with_significance_16h_7.at['p_vaue', 'c3'] = two_prop(cnv_with_significance_16h_7['c3']['Prop C-C']/100, \n",
        "                                                          (cnv_with_significance_16h_7['c3']['Prop N-N']+cnv_with_significance_16h_7['c3']['Prop C-N'])/100, \n",
        "                                                          cnv_with_significance_16h_7['c3']['Count C-C'], \n",
        "                                                          (cnv_with_significance_16h_7['c3']['Count N-N'] + cnv_with_significance_16h_7['c3']['Count C-N']))\n",
        "cnv_with_significance_16h_7.at['p_vaue', 'c6'] = two_prop(cnv_with_significance_16h_7['c6']['Prop C-C']/100, \n",
        "                                                          (cnv_with_significance_16h_7['c6']['Prop N-N']+cnv_with_significance_16h_7['c6']['Prop C-N'])/100, \n",
        "                                                          cnv_with_significance_16h_7['c6']['Count C-C'], \n",
        "                                                          (cnv_with_significance_16h_7['c6']['Count N-N'] + cnv_with_significance_16h_7['c6']['Count C-N']))\n"
      ]
    },
    {
      "cell_type": "code",
      "execution_count": null,
      "metadata": {
        "id": "1Y01cdewF9gW"
      },
      "outputs": [],
      "source": [
        "cnv_with_significance_16h_8.at['p_vaue', 'c3'] = two_prop(cnv_with_significance_16h_8['c3']['Prop C-C']/100, \n",
        "                                                          (cnv_with_significance_16h_8['c3']['Prop N-N']+cnv_with_significance_16h_8['c3']['Prop C-N'])/100, \n",
        "                                                          cnv_with_significance_16h_8['c3']['Count C-C'], \n",
        "                                                          (cnv_with_significance_16h_8['c3']['Count N-N'] + cnv_with_significance_16h_8['c3']['Count C-N']))\n",
        "cnv_with_significance_16h_8.at['p_vaue', 'c6'] = two_prop(cnv_with_significance_16h_8['c6']['Prop C-C']/100, \n",
        "                                                          (cnv_with_significance_16h_8['c6']['Prop N-N']+cnv_with_significance_16h_8['c6']['Prop C-N'])/100, \n",
        "                                                          cnv_with_significance_16h_8['c6']['Count C-C'], \n",
        "                                                          (cnv_with_significance_16h_8['c6']['Count N-N'] + cnv_with_significance_16h_8['c6']['Count C-N']))\n",
        "cnv_with_significance_16h_8.at['p_vaue', 'c13'] = two_prop(cnv_with_significance_16h_8['c13']['Prop C-C']/100, \n",
        "                                                          (cnv_with_significance_16h_8['c13']['Prop N-N']+cnv_with_significance_16h_8['c13']['Prop C-N'])/100, \n",
        "                                                          cnv_with_significance_16h_8['c13']['Count C-C'], \n",
        "                                                          (cnv_with_significance_16h_8['c13']['Count N-N'] + cnv_with_significance_16h_8['c13']['Count C-N']))\n",
        "cnv_with_significance_16h_8.at['p_vaue', 'c16'] = two_prop(cnv_with_significance_16h_8['c16']['Prop C-C']/100, \n",
        "                                                          (cnv_with_significance_16h_8['c16']['Prop N-N']+cnv_with_significance_16h_8['c16']['Prop C-N'])/100, \n",
        "                                                          cnv_with_significance_16h_8['c16']['Count C-C'], \n",
        "                                                          (cnv_with_significance_16h_8['c16']['Count N-N'] + cnv_with_significance_16h_8['c16']['Count C-N']))"
      ]
    },
    {
      "cell_type": "code",
      "execution_count": null,
      "metadata": {
        "colab": {
          "base_uri": "https://localhost:8080/",
          "height": 269
        },
        "id": "w-9UU5il9Kxv",
        "outputId": "de5b4edf-98fd-42a2-d894-d40d77081cb0"
      },
      "outputs": [
        {
          "data": {
            "text/html": [
              "\n",
              "  <div id=\"df-ee69e311-b824-4ebf-a1e4-6383731d9956\">\n",
              "    <div class=\"colab-df-container\">\n",
              "      <div>\n",
              "<style scoped>\n",
              "    .dataframe tbody tr th:only-of-type {\n",
              "        vertical-align: middle;\n",
              "    }\n",
              "\n",
              "    .dataframe tbody tr th {\n",
              "        vertical-align: top;\n",
              "    }\n",
              "\n",
              "    .dataframe thead th {\n",
              "        text-align: right;\n",
              "    }\n",
              "</style>\n",
              "<table border=\"1\" class=\"dataframe\">\n",
              "  <thead>\n",
              "    <tr style=\"text-align: right;\">\n",
              "      <th></th>\n",
              "      <th>c3</th>\n",
              "      <th>c6</th>\n",
              "      <th>c13</th>\n",
              "      <th>c16</th>\n",
              "    </tr>\n",
              "  </thead>\n",
              "  <tbody>\n",
              "    <tr>\n",
              "      <th>Prop C-C</th>\n",
              "      <td>86.451613</td>\n",
              "      <td>87.394958</td>\n",
              "      <td>72.5</td>\n",
              "      <td>88.028169</td>\n",
              "    </tr>\n",
              "    <tr>\n",
              "      <th>Count C-C</th>\n",
              "      <td>134</td>\n",
              "      <td>104</td>\n",
              "      <td>319</td>\n",
              "      <td>375</td>\n",
              "    </tr>\n",
              "    <tr>\n",
              "      <th>Prop N-N</th>\n",
              "      <td>1.935484</td>\n",
              "      <td>0.0</td>\n",
              "      <td>17.954545</td>\n",
              "      <td>4.460094</td>\n",
              "    </tr>\n",
              "    <tr>\n",
              "      <th>Count N-N</th>\n",
              "      <td>3</td>\n",
              "      <td>0</td>\n",
              "      <td>79</td>\n",
              "      <td>19</td>\n",
              "    </tr>\n",
              "    <tr>\n",
              "      <th>Prop C-N</th>\n",
              "      <td>11.612903</td>\n",
              "      <td>12.605042</td>\n",
              "      <td>9.545455</td>\n",
              "      <td>7.511737</td>\n",
              "    </tr>\n",
              "    <tr>\n",
              "      <th>Count C-N</th>\n",
              "      <td>18</td>\n",
              "      <td>15</td>\n",
              "      <td>42</td>\n",
              "      <td>32</td>\n",
              "    </tr>\n",
              "    <tr>\n",
              "      <th>p_vaue</th>\n",
              "      <td>0.0000000</td>\n",
              "      <td>0.0000000</td>\n",
              "      <td>0.0000000</td>\n",
              "      <td>0.0000000</td>\n",
              "    </tr>\n",
              "  </tbody>\n",
              "</table>\n",
              "</div>\n",
              "      <button class=\"colab-df-convert\" onclick=\"convertToInteractive('df-ee69e311-b824-4ebf-a1e4-6383731d9956')\"\n",
              "              title=\"Convert this dataframe to an interactive table.\"\n",
              "              style=\"display:none;\">\n",
              "        \n",
              "  <svg xmlns=\"http://www.w3.org/2000/svg\" height=\"24px\"viewBox=\"0 0 24 24\"\n",
              "       width=\"24px\">\n",
              "    <path d=\"M0 0h24v24H0V0z\" fill=\"none\"/>\n",
              "    <path d=\"M18.56 5.44l.94 2.06.94-2.06 2.06-.94-2.06-.94-.94-2.06-.94 2.06-2.06.94zm-11 1L8.5 8.5l.94-2.06 2.06-.94-2.06-.94L8.5 2.5l-.94 2.06-2.06.94zm10 10l.94 2.06.94-2.06 2.06-.94-2.06-.94-.94-2.06-.94 2.06-2.06.94z\"/><path d=\"M17.41 7.96l-1.37-1.37c-.4-.4-.92-.59-1.43-.59-.52 0-1.04.2-1.43.59L10.3 9.45l-7.72 7.72c-.78.78-.78 2.05 0 2.83L4 21.41c.39.39.9.59 1.41.59.51 0 1.02-.2 1.41-.59l7.78-7.78 2.81-2.81c.8-.78.8-2.07 0-2.86zM5.41 20L4 18.59l7.72-7.72 1.47 1.35L5.41 20z\"/>\n",
              "  </svg>\n",
              "      </button>\n",
              "      \n",
              "  <style>\n",
              "    .colab-df-container {\n",
              "      display:flex;\n",
              "      flex-wrap:wrap;\n",
              "      gap: 12px;\n",
              "    }\n",
              "\n",
              "    .colab-df-convert {\n",
              "      background-color: #E8F0FE;\n",
              "      border: none;\n",
              "      border-radius: 50%;\n",
              "      cursor: pointer;\n",
              "      display: none;\n",
              "      fill: #1967D2;\n",
              "      height: 32px;\n",
              "      padding: 0 0 0 0;\n",
              "      width: 32px;\n",
              "    }\n",
              "\n",
              "    .colab-df-convert:hover {\n",
              "      background-color: #E2EBFA;\n",
              "      box-shadow: 0px 1px 2px rgba(60, 64, 67, 0.3), 0px 1px 3px 1px rgba(60, 64, 67, 0.15);\n",
              "      fill: #174EA6;\n",
              "    }\n",
              "\n",
              "    [theme=dark] .colab-df-convert {\n",
              "      background-color: #3B4455;\n",
              "      fill: #D2E3FC;\n",
              "    }\n",
              "\n",
              "    [theme=dark] .colab-df-convert:hover {\n",
              "      background-color: #434B5C;\n",
              "      box-shadow: 0px 1px 3px 1px rgba(0, 0, 0, 0.15);\n",
              "      filter: drop-shadow(0px 1px 2px rgba(0, 0, 0, 0.3));\n",
              "      fill: #FFFFFF;\n",
              "    }\n",
              "  </style>\n",
              "\n",
              "      <script>\n",
              "        const buttonEl =\n",
              "          document.querySelector('#df-ee69e311-b824-4ebf-a1e4-6383731d9956 button.colab-df-convert');\n",
              "        buttonEl.style.display =\n",
              "          google.colab.kernel.accessAllowed ? 'block' : 'none';\n",
              "\n",
              "        async function convertToInteractive(key) {\n",
              "          const element = document.querySelector('#df-ee69e311-b824-4ebf-a1e4-6383731d9956');\n",
              "          const dataTable =\n",
              "            await google.colab.kernel.invokeFunction('convertToInteractive',\n",
              "                                                     [key], {});\n",
              "          if (!dataTable) return;\n",
              "\n",
              "          const docLinkHtml = 'Like what you see? Visit the ' +\n",
              "            '<a target=\"_blank\" href=https://colab.research.google.com/notebooks/data_table.ipynb>data table notebook</a>'\n",
              "            + ' to learn more about interactive tables.';\n",
              "          element.innerHTML = '';\n",
              "          dataTable['output_type'] = 'display_data';\n",
              "          await google.colab.output.renderOutput(dataTable, element);\n",
              "          const docLink = document.createElement('div');\n",
              "          docLink.innerHTML = docLinkHtml;\n",
              "          element.appendChild(docLink);\n",
              "        }\n",
              "      </script>\n",
              "    </div>\n",
              "  </div>\n",
              "  "
            ],
            "text/plain": [
              "                  c3         c6        c13        c16\n",
              "Prop C-C   86.451613  87.394958       72.5  88.028169\n",
              "Count C-C        134        104        319        375\n",
              "Prop N-N    1.935484        0.0  17.954545   4.460094\n",
              "Count N-N          3          0         79         19\n",
              "Prop C-N   11.612903  12.605042   9.545455   7.511737\n",
              "Count C-N         18         15         42         32\n",
              "p_vaue     0.0000000  0.0000000  0.0000000  0.0000000"
            ]
          },
          "execution_count": 443,
          "metadata": {},
          "output_type": "execute_result"
        }
      ],
      "source": [
        "cnv_with_significance_16h_8"
      ]
    },
    {
      "cell_type": "code",
      "execution_count": null,
      "metadata": {
        "colab": {
          "base_uri": "https://localhost:8080/"
        },
        "id": "UHM7MMcDcdYR",
        "outputId": "90872657-2557-4814-8cac-62704e494274"
      },
      "outputs": [
        {
          "data": {
            "text/plain": [
              "100.00000000000001"
            ]
          },
          "execution_count": 260,
          "metadata": {},
          "output_type": "execute_result"
        }
      ],
      "source": [
        "prop_14_1 + prop_14_2 + prop_14_3"
      ]
    },
    {
      "cell_type": "code",
      "execution_count": null,
      "metadata": {
        "colab": {
          "base_uri": "https://localhost:8080/"
        },
        "id": "YgXftLlN5Z7T",
        "outputId": "ab56b33a-a1c6-4710-d1b8-addaf0b743af"
      },
      "outputs": [
        {
          "data": {
            "text/plain": [
              "(91.28787878787878, 0.7575757575757576, 7.954545454545454)"
            ]
          },
          "execution_count": 119,
          "metadata": {},
          "output_type": "execute_result"
        }
      ],
      "source": [
        "(prop_8_1, prop_8_2, prop_8_3)"
      ]
    },
    {
      "cell_type": "code",
      "execution_count": null,
      "metadata": {
        "colab": {
          "base_uri": "https://localhost:8080/"
        },
        "id": "lnDK3JSj4fY1",
        "outputId": "e9563aed-f052-41ae-9b8b-4155d3919558"
      },
      "outputs": [
        {
          "data": {
            "text/plain": [
              "99.99999999999999"
            ]
          },
          "execution_count": 381,
          "metadata": {},
          "output_type": "execute_result"
        }
      ],
      "source": [
        "prop_8_1 + prop_8_2 + prop_8_3"
      ]
    },
    {
      "cell_type": "code",
      "execution_count": null,
      "metadata": {
        "colab": {
          "base_uri": "https://localhost:8080/"
        },
        "id": "6IB--2Go5Oyp",
        "outputId": "c780d266-7624-47dc-bbf7-cf1328274fe9"
      },
      "outputs": [
        {
          "data": {
            "text/plain": [
              "(67.22689075630252, 5.882352941176471, 26.89075630252101)"
            ]
          },
          "execution_count": 75,
          "metadata": {},
          "output_type": "execute_result"
        }
      ],
      "source": [
        "(prop_6_1, prop_6_2, prop_6_3)"
      ]
    },
    {
      "cell_type": "code",
      "execution_count": null,
      "metadata": {
        "colab": {
          "base_uri": "https://localhost:8080/"
        },
        "id": "OTOMENW5l5fY",
        "outputId": "f2988afa-e003-44fd-9f1a-d43dda228767"
      },
      "outputs": [
        {
          "data": {
            "text/plain": [
              "100.0"
            ]
          },
          "execution_count": 435,
          "metadata": {},
          "output_type": "execute_result"
        }
      ],
      "source": [
        "prop_6_1 + prop_6_2 + prop_6_3"
      ]
    },
    {
      "cell_type": "code",
      "execution_count": null,
      "metadata": {
        "colab": {
          "base_uri": "https://localhost:8080/"
        },
        "id": "ZiN1Rz6GsmjH",
        "outputId": "dd5a1fc3-c2e3-488d-e250-839000dddf5b"
      },
      "outputs": [
        {
          "data": {
            "text/plain": [
              "(67.09677419354838, 3.870967741935484, 29.032258064516128)"
            ]
          },
          "execution_count": 76,
          "metadata": {},
          "output_type": "execute_result"
        }
      ],
      "source": [
        "(prop_3_1, prop_3_2, prop_3_3)"
      ]
    },
    {
      "cell_type": "code",
      "execution_count": null,
      "metadata": {
        "colab": {
          "base_uri": "https://localhost:8080/"
        },
        "id": "h-kUOWkBhV77",
        "outputId": "da38030c-5a21-4433-c535-1735695df876"
      },
      "outputs": [
        {
          "data": {
            "text/plain": [
              "100.0"
            ]
          },
          "execution_count": 436,
          "metadata": {},
          "output_type": "execute_result"
        }
      ],
      "source": [
        "prop_3_1 + prop_3_2 + prop_3_3"
      ]
    },
    {
      "cell_type": "code",
      "execution_count": null,
      "metadata": {
        "colab": {
          "base_uri": "https://localhost:8080/"
        },
        "id": "7aaV8marsWIB",
        "outputId": "7e030da8-741a-4baa-dcdc-f23969c8d5b9"
      },
      "outputs": [
        {
          "data": {
            "text/plain": [
              "(93.18181818181819, 0.22727272727272727, 6.590909090909091)"
            ]
          },
          "execution_count": 263,
          "metadata": {},
          "output_type": "execute_result"
        }
      ],
      "source": [
        "(prop_13_1, prop_13_2, prop_13_3)"
      ]
    },
    {
      "cell_type": "code",
      "execution_count": null,
      "metadata": {
        "colab": {
          "base_uri": "https://localhost:8080/"
        },
        "id": "7tp7O4xtbQEY",
        "outputId": "93058439-3a95-4508-8e02-8b102e7bf0e0"
      },
      "outputs": [
        {
          "data": {
            "text/plain": [
              "100.0"
            ]
          },
          "execution_count": 437,
          "metadata": {},
          "output_type": "execute_result"
        }
      ],
      "source": [
        "prop_13_1 + prop_13_2 + prop_13_3"
      ]
    },
    {
      "cell_type": "code",
      "execution_count": null,
      "metadata": {
        "colab": {
          "base_uri": "https://localhost:8080/"
        },
        "id": "zQTit0fBsKOp",
        "outputId": "4813a36d-e02d-455d-82eb-d0c0147a9d51"
      },
      "outputs": [
        {
          "data": {
            "text/plain": [
              "(89.67136150234742, 2.112676056338028, 8.215962441314554)"
            ]
          },
          "execution_count": 345,
          "metadata": {},
          "output_type": "execute_result"
        }
      ],
      "source": [
        "(prop_1, prop_2, prop_3)"
      ]
    },
    {
      "cell_type": "code",
      "execution_count": null,
      "metadata": {
        "colab": {
          "base_uri": "https://localhost:8080/"
        },
        "id": "YZByOHqjGunQ",
        "outputId": "3bf468c4-9937-4134-b5b1-ff8866f0a824"
      },
      "outputs": [
        {
          "data": {
            "text/plain": [
              "100.0"
            ]
          },
          "execution_count": 438,
          "metadata": {},
          "output_type": "execute_result"
        }
      ],
      "source": [
        "prop_1 + prop_2 + prop_3"
      ]
    }
  ],
  "metadata": {
    "colab": {
      "provenance": [],
      "authorship_tag": "ABX9TyOAOYv5pkLpY4iCGC5JqNXR",
      "include_colab_link": true
    },
    "kernelspec": {
      "display_name": "Python 3",
      "name": "python3"
    },
    "language_info": {
      "name": "python"
    }
  },
  "nbformat": 4,
  "nbformat_minor": 0
}